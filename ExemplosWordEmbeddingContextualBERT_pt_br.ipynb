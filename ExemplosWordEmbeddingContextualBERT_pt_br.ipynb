{
  "nbformat": 4,
  "nbformat_minor": 0,
  "metadata": {
    "colab": {
      "name": "ExemplosWordEmbeddingContextualBERT_pt_br.ipynb",
      "provenance": [],
      "collapsed_sections": [],
      "toc_visible": true,
      "include_colab_link": true
    },
    "kernelspec": {
      "name": "python3",
      "display_name": "Python 3"
    }
  },
  "cells": [
    {
      "cell_type": "markdown",
      "metadata": {
        "id": "view-in-github",
        "colab_type": "text"
      },
      "source": [
        "<a href=\"https://colab.research.google.com/github/osmarbraz/exemplos_BERT/blob/main/ExemplosWordEmbeddingContextualBERT_pt_br.ipynb\" target=\"_parent\"><img src=\"https://colab.research.google.com/assets/colab-badge.svg\" alt=\"Open In Colab\"/></a>"
      ]
    },
    {
      "cell_type": "markdown",
      "metadata": {
        "id": "78HE8FLsKN9Q"
      },
      "source": [
        "#Exemplo de Word Embeddings(pt-br) Contextual usando BERT Transformers by HuggingFace\n",
        "\n",
        "\n",
        "# **A execução pode ser feita através do menu Ambiente de Execução opção Executar tudo.**\n",
        "\n",
        "\n",
        "Exemplos **desambiguação** de palavras em frases. No final do arquivo estão os exemplos com as palavras:\n",
        "\n",
        "*   banco\n",
        "*   manga\n",
        "*   cabeça\n",
        "*   pilha\n",
        "\n",
        "\n",
        "\n",
        "**Link biblioteca Huggingface:**\n",
        "https://github.com/huggingface/transformers\n",
        "\n",
        "\n",
        "**Artigo original BERT Jacob Devlin:**\n",
        "https://arxiv.org/pdf/1506.06724.pdf"
      ]
    },
    {
      "cell_type": "markdown",
      "metadata": {
        "id": "xyxb5Px3p1-e"
      },
      "source": [
        "## 0 - Preparação do ambiente\n",
        "Preparação do ambiente para execução do exemplo."
      ]
    },
    {
      "cell_type": "markdown",
      "metadata": {
        "id": "iAPVtRXQqDim"
      },
      "source": [
        "###Tratamento de logs\n",
        "\n",
        "Método para tratamento dos logs."
      ]
    },
    {
      "cell_type": "code",
      "metadata": {
        "id": "DcopxbGZqDip"
      },
      "source": [
        "#biblioteca de logging\n",
        "import logging\n",
        "\n",
        "#formatando a mensagem de logging\n",
        "logging.basicConfig(format='%(asctime)s : %(levelname)s : %(message)s', level=logging.INFO)"
      ],
      "execution_count": null,
      "outputs": []
    },
    {
      "cell_type": "markdown",
      "metadata": {
        "id": "_GjYtXcMnSAe"
      },
      "source": [
        "### Identificando o ambiente Colab\n",
        "\n",
        "Cria uma variável para identificar que o notebook está sendo executado no Google Colaboratory."
      ]
    },
    {
      "cell_type": "code",
      "metadata": {
        "id": "YMiH0E3OnRa1"
      },
      "source": [
        "#se estiver executando no Google Colaboratory\n",
        "import sys\n",
        "#retorna true ou false se estiver no Google Colaboratory\n",
        "IN_COLAB = 'google.colab' in sys.modules"
      ],
      "execution_count": null,
      "outputs": []
    },
    {
      "cell_type": "markdown",
      "metadata": {
        "id": "Pqa-7WXBAw8q"
      },
      "source": [
        "## 1 - Instalação BERT da Hugging Face"
      ]
    },
    {
      "cell_type": "markdown",
      "metadata": {
        "id": "eCdqJCtQN52l"
      },
      "source": [
        "Instala a interface pytorch para o BERT by Hugging Face. "
      ]
    },
    {
      "cell_type": "code",
      "metadata": {
        "id": "1RfUN_KolV-f",
        "colab": {
          "base_uri": "https://localhost:8080/"
        },
        "outputId": "217b1f0c-548a-4607-f48d-35f0e1b912a1"
      },
      "source": [
        "!pip install transformers"
      ],
      "execution_count": null,
      "outputs": [
        {
          "output_type": "stream",
          "text": [
            "Collecting transformers\n",
            "\u001b[?25l  Downloading https://files.pythonhosted.org/packages/99/84/7bc03215279f603125d844bf81c3fb3f2d50fe8e511546eb4897e4be2067/transformers-4.0.0-py3-none-any.whl (1.4MB)\n",
            "\u001b[K     |████████████████████████████████| 1.4MB 6.0MB/s \n",
            "\u001b[?25hCollecting tokenizers==0.9.4\n",
            "\u001b[?25l  Downloading https://files.pythonhosted.org/packages/0f/1c/e789a8b12e28be5bc1ce2156cf87cb522b379be9cadc7ad8091a4cc107c4/tokenizers-0.9.4-cp36-cp36m-manylinux2010_x86_64.whl (2.9MB)\n",
            "\u001b[K     |████████████████████████████████| 2.9MB 43.7MB/s \n",
            "\u001b[?25hRequirement already satisfied: numpy in /usr/local/lib/python3.6/dist-packages (from transformers) (1.18.5)\n",
            "Collecting sacremoses\n",
            "\u001b[?25l  Downloading https://files.pythonhosted.org/packages/7d/34/09d19aff26edcc8eb2a01bed8e98f13a1537005d31e95233fd48216eed10/sacremoses-0.0.43.tar.gz (883kB)\n",
            "\u001b[K     |████████████████████████████████| 890kB 24.3MB/s \n",
            "\u001b[?25hRequirement already satisfied: filelock in /usr/local/lib/python3.6/dist-packages (from transformers) (3.0.12)\n",
            "Requirement already satisfied: requests in /usr/local/lib/python3.6/dist-packages (from transformers) (2.23.0)\n",
            "Requirement already satisfied: tqdm>=4.27 in /usr/local/lib/python3.6/dist-packages (from transformers) (4.41.1)\n",
            "Requirement already satisfied: dataclasses; python_version < \"3.7\" in /usr/local/lib/python3.6/dist-packages (from transformers) (0.8)\n",
            "Requirement already satisfied: regex!=2019.12.17 in /usr/local/lib/python3.6/dist-packages (from transformers) (2019.12.20)\n",
            "Requirement already satisfied: packaging in /usr/local/lib/python3.6/dist-packages (from transformers) (20.4)\n",
            "Requirement already satisfied: six in /usr/local/lib/python3.6/dist-packages (from sacremoses->transformers) (1.15.0)\n",
            "Requirement already satisfied: click in /usr/local/lib/python3.6/dist-packages (from sacremoses->transformers) (7.1.2)\n",
            "Requirement already satisfied: joblib in /usr/local/lib/python3.6/dist-packages (from sacremoses->transformers) (0.17.0)\n",
            "Requirement already satisfied: urllib3!=1.25.0,!=1.25.1,<1.26,>=1.21.1 in /usr/local/lib/python3.6/dist-packages (from requests->transformers) (1.24.3)\n",
            "Requirement already satisfied: chardet<4,>=3.0.2 in /usr/local/lib/python3.6/dist-packages (from requests->transformers) (3.0.4)\n",
            "Requirement already satisfied: idna<3,>=2.5 in /usr/local/lib/python3.6/dist-packages (from requests->transformers) (2.10)\n",
            "Requirement already satisfied: certifi>=2017.4.17 in /usr/local/lib/python3.6/dist-packages (from requests->transformers) (2020.11.8)\n",
            "Requirement already satisfied: pyparsing>=2.0.2 in /usr/local/lib/python3.6/dist-packages (from packaging->transformers) (2.4.7)\n",
            "Building wheels for collected packages: sacremoses\n",
            "  Building wheel for sacremoses (setup.py) ... \u001b[?25l\u001b[?25hdone\n",
            "  Created wheel for sacremoses: filename=sacremoses-0.0.43-cp36-none-any.whl size=893257 sha256=eade2cbb61956348cf359ef8cbad670f6a4f7e5a06b8f222b251319b3d08ba42\n",
            "  Stored in directory: /root/.cache/pip/wheels/29/3c/fd/7ce5c3f0666dab31a50123635e6fb5e19ceb42ce38d4e58f45\n",
            "Successfully built sacremoses\n",
            "Installing collected packages: tokenizers, sacremoses, transformers\n",
            "Successfully installed sacremoses-0.0.43 tokenizers-0.9.4 transformers-4.0.0\n"
          ],
          "name": "stdout"
        }
      ]
    },
    {
      "cell_type": "markdown",
      "metadata": {
        "id": "uQj2wmKDpkrH"
      },
      "source": [
        "## 2 - Download do arquivo do PyTorch Checkpoint\n",
        "\n",
        "Lista de modelos da comunidade:\n",
        "* https://huggingface.co/models\n",
        "\n",
        "Português(https://github.com/neuralmind-ai/portuguese-bert):  \n",
        "* **'neuralmind/bert-base-portuguese-cased'**\n",
        "* **'neuralmind/bert-large-portuguese-cased'**"
      ]
    },
    {
      "cell_type": "code",
      "metadata": {
        "id": "ajrTjZzapkrK",
        "colab": {
          "base_uri": "https://localhost:8080/"
        },
        "outputId": "ad6b6819-a612-40c2-e37a-f14bf61827f6"
      },
      "source": [
        "# Importando as bibliotecas\n",
        "import os\n",
        "\n",
        "# Variável para setar o arquivo\n",
        "url = None\n",
        "\n",
        "# Comente uma das urls para carregar modelos de tamanhos diferentes(base/large)\n",
        "# url do arquivo do modelo tensorflow\n",
        "# arquivo menor(base) 1.1 Gbytes\n",
        "# url = \"https://neuralmind-ai.s3.us-east-2.amazonaws.com/nlp/bert-base-portuguese-cased/bert-base-portuguese-cased_pytorch_checkpoint.zip\"\n",
        "\n",
        "# arquivo grande(large) 3.5 Gbytes\n",
        "url = \"https://neuralmind-ai.s3.us-east-2.amazonaws.com/nlp/bert-large-portuguese-cased/bert-large-portuguese-cased_pytorch_checkpoint.zip\"\n",
        "\n",
        "# Se a variável foi setada\n",
        "if url:\n",
        "\n",
        "    # Diretório descompactação\n",
        "    diretorio = '/content/modelo'\n",
        "\n",
        "    # Recupera o nome do arquivo do modelo da url\n",
        "    arquivo = url.split(\"/\")[-1]\n",
        "\n",
        "    # Nome do arquivo do vocabulário\n",
        "    arquivo_vocab = \"vocab.txt\"\n",
        "\n",
        "    # Caminho do arquivo na url\n",
        "    caminho = url[0:len(url)-len(arquivo)]\n",
        "\n",
        "    # Verifica se a pasta de descompactação existe no pasta corrente\n",
        "    if not os.path.exists(diretorio):\n",
        "   \n",
        "        # Baixa o arquivo do modelo\n",
        "        !wget $url\n",
        "    \n",
        "        # Descompacta o arquivo na pasta de descompactação\n",
        "        !unzip -o $arquivo -d $diretorio\n",
        "\n",
        "        # Baixa o arquivo do vocabulário\n",
        "        # O vocabulário não está no arquivo compactado acima, mesma url mas arquivo diferente\n",
        "        url_vocab = caminho + arquivo_vocab\n",
        "        !wget $url_vocab\n",
        "    \n",
        "        # Coloca o arquivo do vocabulário no diretório de descompactação\n",
        "        !mv $arquivo_vocab $diretorio\n",
        "            \n",
        "        # Move o arquivo para pasta de descompactação\n",
        "        !mv $arquivo $diretorio\n",
        "       \n",
        "        print('Pasta do ' + diretorio + ' pronta!')\n",
        "    else:\n",
        "      print('Pasta do ' + diretorio + ' já existe!')\n",
        "\n",
        "    # Lista a pasta corrente\n",
        "    !ls -la $diretorio\n",
        "else:\n",
        "    print('Variável url não setada!')"
      ],
      "execution_count": null,
      "outputs": [
        {
          "output_type": "stream",
          "text": [
            "--2020-11-30 18:30:06--  https://neuralmind-ai.s3.us-east-2.amazonaws.com/nlp/bert-large-portuguese-cased/bert-large-portuguese-cased_pytorch_checkpoint.zip\n",
            "Resolving neuralmind-ai.s3.us-east-2.amazonaws.com (neuralmind-ai.s3.us-east-2.amazonaws.com)... 52.219.101.34\n",
            "Connecting to neuralmind-ai.s3.us-east-2.amazonaws.com (neuralmind-ai.s3.us-east-2.amazonaws.com)|52.219.101.34|:443... connected.\n",
            "HTTP request sent, awaiting response... 200 OK\n",
            "Length: 1244275810 (1.2G) [application/zip]\n",
            "Saving to: ‘bert-large-portuguese-cased_pytorch_checkpoint.zip’\n",
            "\n",
            "bert-large-portugue 100%[===================>]   1.16G  94.5MB/s    in 12s     \n",
            "\n",
            "2020-11-30 18:30:18 (95.5 MB/s) - ‘bert-large-portuguese-cased_pytorch_checkpoint.zip’ saved [1244275810/1244275810]\n",
            "\n",
            "Archive:  bert-large-portuguese-cased_pytorch_checkpoint.zip\n",
            "  inflating: /content/modelo/config.json  \n",
            "  inflating: /content/modelo/pytorch_model.bin  \n",
            "--2020-11-30 18:30:35--  https://neuralmind-ai.s3.us-east-2.amazonaws.com/nlp/bert-large-portuguese-cased/vocab.txt\n",
            "Resolving neuralmind-ai.s3.us-east-2.amazonaws.com (neuralmind-ai.s3.us-east-2.amazonaws.com)... 52.219.104.216\n",
            "Connecting to neuralmind-ai.s3.us-east-2.amazonaws.com (neuralmind-ai.s3.us-east-2.amazonaws.com)|52.219.104.216|:443... connected.\n",
            "HTTP request sent, awaiting response... 200 OK\n",
            "Length: 209528 (205K) [text/plain]\n",
            "Saving to: ‘vocab.txt’\n",
            "\n",
            "vocab.txt           100%[===================>] 204.62K   472KB/s    in 0.4s    \n",
            "\n",
            "2020-11-30 18:30:35 (472 KB/s) - ‘vocab.txt’ saved [209528/209528]\n",
            "\n",
            "Pasta do /content/modelo pronta!\n",
            "total 2525908\n",
            "drwxr-xr-x 2 root root       4096 Nov 30 18:30 .\n",
            "drwxr-xr-x 1 root root       4096 Nov 30 18:30 ..\n",
            "-rw-r--r-- 1 root root 1244275810 Jan 22  2020 bert-large-portuguese-cased_pytorch_checkpoint.zip\n",
            "-rw-rw-r-- 1 root root        874 Jan 12  2020 config.json\n",
            "-rw-rw-r-- 1 root root 1342014951 Jan 12  2020 pytorch_model.bin\n",
            "-rw-r--r-- 1 root root     209528 Jan 21  2020 vocab.txt\n"
          ],
          "name": "stdout"
        }
      ]
    },
    {
      "cell_type": "markdown",
      "metadata": {
        "id": "Bcpd9t9PpkrX"
      },
      "source": [
        "## 3 - Carregando o Tokenizador BERT\n",
        "\n",
        "O tokenizador utiliza WordPiece, veja em [artigo original](https://arxiv.org/pdf/1609.08144.pdf).\n",
        "\n",
        "Carregando o tokenizador da pasta '/content/modelo/' do diretório padrão se variável `url` setada.\n",
        "\n",
        "**Caso contrário carrega da comunidade**\n",
        "\n",
        "Por default(`do_lower_case=True`) todas as letras são colocadas para minúsculas. Para ignorar a conversão para minúsculo use o parâmetro `do_lower_case=False`. Esta opção também considera as letras acentuadas(ãçéí...), que são necessárias a língua portuguesa."
      ]
    },
    {
      "cell_type": "code",
      "metadata": {
        "id": "Z8cKVs4fpkrY",
        "colab": {
          "base_uri": "https://localhost:8080/"
        },
        "outputId": "84227021-7c31-43bf-dc5d-11af54133983"
      },
      "source": [
        "# Importando as bibliotecas do tokenizador\n",
        "from transformers import BertTokenizer\n",
        "\n",
        "# Se a variável url foi setada\n",
        "if url:\n",
        "    # Carregando o Tokenizador\n",
        "    print('Carrgando o tokenizador BERT do diretório ' + diretorio + '...')\n",
        "\n",
        "    tokenizer = BertTokenizer.from_pretrained(diretorio, do_lower_case=False)\n",
        "    #tokenizer = BertTokenizer.from_pretrained(diretorio)\n",
        "else:\n",
        "    # Carregando o Tokenizador da comunidade\n",
        "    print('Carregando o tokenizador da comunidade...')\n",
        "    \n",
        "    #tokenizer = BertTokenizer.from_pretrained('neuralmind/bert-base-portuguese-cased', do_lower_case=False)\n",
        "    tokenizer = BertTokenizer.from_pretrained('neuralmind/bert-large-portuguese-cased', do_lower_case=False)"
      ],
      "execution_count": null,
      "outputs": [
        {
          "output_type": "stream",
          "text": [
            "Carrgando o tokenizador BERT do diretório /content/modelo...\n"
          ],
          "name": "stdout"
        }
      ]
    },
    {
      "cell_type": "markdown",
      "metadata": {
        "id": "m__On2g1a--K"
      },
      "source": [
        "## 4 - Carregando o Modelo BERT\n",
        "\n",
        "Se a variável `url` estiver setada carrega o modelo do diretório `content/modelo`.\n",
        "\n",
        "Caso contrário carrega da comunidade.\n",
        "\n",
        "Carregando o modelo da pasta '/content/modelo/' do diretório padrão.\n",
        "\n",
        "A implementação do huggingface pytorch inclui um conjunto de interfaces projetadas para uma variedade de tarefas de PNL. Embora essas interfaces sejam todas construídas sobre um modelo treinado de BERT, cada uma possui diferentes camadas superiores e tipos de saída projetados para acomodar suas tarefas específicas de PNL.\n",
        "\n",
        "A documentação para estas pode ser encontrada em [aqui](https://huggingface.co/transformers/v2.2.0/model_doc/bert.html).\n",
        "\n",
        "Por default o modelo está em modo avaliação ou seja `model.eval()`.\n",
        "\n",
        "-----------------------\n",
        "\n",
        "Durante a avaliação do modelo, este retorna um número de diferentes objetos com base em como é configurado na chamada do método `from_pretrained`. \n",
        "\n",
        "Quando definimos `output_hidden_states = True` na chamada do método `from_pretrained`, retorno do modelo possui no terceiro item os estados ocultos(**hidden_states**) de todas as camadas.  Veja a documentação para mais detalhes: https://huggingface.co/transformers/model_doc/bert.html#bertmodel\n",
        "\n",
        "Quando **`output_hidden_states = True`** model retorna:\n",
        "- outputs[0] = last_hidden_state;\n",
        "- outputs[1] = pooler_output; \n",
        "- outputs[2] = hidden_states.\n",
        "\n",
        "Quando **`output_hidden_states = False`** ou não especificado model retorna:\n",
        "- outputs[0] = last_hidden_state;\n",
        "- outputs[1] = pooler_output.\n",
        "\n",
        "\n",
        "**ATENÇÃO**: O parâmetro ´**output_hidden_states = True**´ habilita gerar as camadas ocultas do modelo. Caso contrário somente a última camada é mantida. Este parâmetro otimiza a memória mas não os resultados.\n"
      ]
    },
    {
      "cell_type": "code",
      "metadata": {
        "id": "zRV6l_I-qg9s",
        "colab": {
          "base_uri": "https://localhost:8080/"
        },
        "outputId": "fb9fb29b-154f-4f39-8abd-e4df81224c8c"
      },
      "source": [
        "# Importando as bibliotecas do Modelo\n",
        "from transformers import BertModel\n",
        "\n",
        "# Se a variável url1 foi setada\n",
        "if url:\n",
        "    # Carregando o Tokenizador\n",
        "    print('Carregando o modelo BERT do diretório ' + diretorio + '...')\n",
        "\n",
        "    model = BertModel.from_pretrained(diretorio, \n",
        "                                      output_hidden_states = True)\n",
        "else:\n",
        "    # Carregando o Tokenizador da comunidade\n",
        "    print('Carregando o modelo BERT da comunidade ...')\n",
        "\n",
        "    #model = BertModel.from_pretrained('neuralmind/bert-base-portuguese-cased')  \n",
        "    model = BertModel.from_pretrained('neuralmind/bert-large-portuguese-cased', \n",
        "                                       output_hidden_states = True)"
      ],
      "execution_count": null,
      "outputs": [
        {
          "output_type": "stream",
          "text": [
            "Carregando o modelo BERT do diretório /content/modelo...\n"
          ],
          "name": "stdout"
        }
      ]
    },
    {
      "cell_type": "markdown",
      "metadata": {
        "id": "oU3wHzNUmmBP"
      },
      "source": [
        "## 5 - Funções auxiliares"
      ]
    },
    {
      "cell_type": "code",
      "metadata": {
        "id": "pm98RoojJcqP"
      },
      "source": [
        "# Import das bibliotecas\n",
        "import numpy as np\n",
        "import torch\n",
        "\n",
        "import matplotlib.pyplot as plt\n",
        "%matplotlib inline"
      ],
      "execution_count": null,
      "outputs": []
    },
    {
      "cell_type": "markdown",
      "metadata": {
        "id": "q7nx_eZ8hSlr"
      },
      "source": [
        "### getEmbeddingsVisual\n",
        "\n",
        "Função para gerar as coordenadas de plotagem a partir das sentenças!"
      ]
    },
    {
      "cell_type": "code",
      "metadata": {
        "id": "TPQOKYT3hSlr"
      },
      "source": [
        "def getEmbeddingsVisual(texto, modelo, tokenizador):\n",
        "    \n",
        "    # Adiciona os tokens especiais\n",
        "    texto_marcado = \"[CLS] \" + texto + \" [SEP]\"\n",
        "\n",
        "    # Divide a sentença em tokens\n",
        "    texto_tokenizado = tokenizador.tokenize(texto_marcado)\n",
        "\n",
        "    # Mapeia as strings dos tokens em seus índices do vocabuário    \n",
        "    tokens_indexados = tokenizador.convert_tokens_to_ids(texto_tokenizado)\n",
        "    \n",
        "    # Marca cada um dos tokens como pertencentes à frase \"1\".\n",
        "    segmentos_ids = [1] * len(texto_tokenizado)\n",
        "\n",
        "    # Converte a entrada em tensores\n",
        "    tokens_tensores = torch.as_tensor([tokens_indexados])\n",
        "    segmentos_tensores = torch.as_tensor([segmentos_ids])\n",
        "    \n",
        "    # Prediz os atributos dos estados ocultos para cada camada\n",
        "    with torch.no_grad():        \n",
        "        # Retorno de model quando ´output_hidden_states=True´ é setado:  \n",
        "        #outputs[0] = last_hidden_state, outputs[1] = pooler_output, outputs[2] = hidden_states\n",
        "        outputs = modelo(tokens_tensores, segmentos_tensores)\n",
        "\n",
        "    # Camada embedding\n",
        "    last_hidden_states = outputs[0]\n",
        "\n",
        "    # Remove a dimensão 1, o lote \"batches\".\n",
        "    token_embeddings = torch.squeeze(last_hidden_states, dim=0)\n",
        "\n",
        "    # Recupera os embeddings dos tokens como um vetor\n",
        "    embeddings = token_embeddings.numpy()\n",
        "\n",
        "    # Converte para um array\n",
        "    W = np.array(embeddings)\n",
        "    # Transforma em um array\n",
        "    B = np.array([embeddings[0], embeddings[-1]])\n",
        "    # Invertee B.T\n",
        "    Bi = np.linalg.pinv(B.T)\n",
        "\n",
        "    #Projeta a palavra no espaço\n",
        "    Wp = np.matmul(Bi,W.T)\n",
        "\n",
        "    return Wp, texto_tokenizado"
      ],
      "execution_count": null,
      "outputs": []
    },
    {
      "cell_type": "markdown",
      "metadata": {
        "id": "V4Pd6-h0YD8U"
      },
      "source": [
        "## 6 - Exemplo palavra \"banco\""
      ]
    },
    {
      "cell_type": "code",
      "metadata": {
        "id": "8QP-2tC8YOFW",
        "colab": {
          "base_uri": "https://localhost:8080/"
        },
        "outputId": "fe2a0577-899e-41fa-bf2c-bacccafa5f06"
      },
      "source": [
        "# Define um sentença de exemplo com diversos siginificados da palavra  \"banco\"\n",
        "texto = \"Depois de roubar o cofre do banco,\"\\\n",
        "        \" o ladrão de banco foi visto \" \\\n",
        "        \"sentado no banco da praça central.\"\n",
        "\n",
        "# Adiciona os tokens especiais\n",
        "texto_marcado = \"[CLS] \" + texto + \" [SEP]\"\n",
        "\n",
        "# Divide a sentença em tokens\n",
        "texto_tokenizado = tokenizer.tokenize(texto_marcado)\n",
        "\n",
        "# Mapeia os tokens em seus índices do vocabulário\n",
        "tokens_indexados = tokenizer.convert_tokens_to_ids(texto_tokenizado)\n",
        "\n",
        "# Mostra os tokens com seus índices\n",
        "i = 0\n",
        "for tup in zip(texto_tokenizado, tokens_indexados):\n",
        "    print('{:>3} {:<12} {:>6,}'.format(i, tup[0], tup[1]))\n",
        "    i= i + 1"
      ],
      "execution_count": null,
      "outputs": [
        {
          "output_type": "stream",
          "text": [
            "  0 [CLS]           101\n",
            "  1 Depois        1,603\n",
            "  2 de              125\n",
            "  3 roubar       16,150\n",
            "  4 o               146\n",
            "  5 co              144\n",
            "  6 ##fre         1,198\n",
            "  7 do              171\n",
            "  8 banco         6,465\n",
            "  9 ,               117\n",
            " 10 o               146\n",
            " 11 lad          13,503\n",
            " 12 ##rão         1,759\n",
            " 13 de              125\n",
            " 14 banco         6,465\n",
            " 15 foi             262\n",
            " 16 visto         3,382\n",
            " 17 sentado      21,541\n",
            " 18 no              202\n",
            " 19 banco         6,465\n",
            " 20 da              180\n",
            " 21 praça         6,357\n",
            " 22 central       2,692\n",
            " 23 .               119\n",
            " 24 [SEP]           102\n"
          ],
          "name": "stdout"
        }
      ]
    },
    {
      "cell_type": "markdown",
      "metadata": {
        "id": "xPrsUwhlYs5y"
      },
      "source": [
        "O BERT é treinado e espera pares de frases, usando 1s e 0s para distinguir entre as duas frases. Ou seja, para cada token em \"texto_tokenizado\", devemos especificar a qual frase pertence: sentença 0 (uma série de 0s) ou sentença 1 (uma série de 1s). Para nossos propósitos, as entradas de sentença única requerem apenas uma série de 1s; portanto, criaremos um vetor de 1s para cada token em nossa frase de entrada.\n",
        "\n",
        "Se você deseja processar duas frases, atribua cada palavra na primeira frase mais o token '[SEP]' a 0 e todos os tokens da segunda frase a 1."
      ]
    },
    {
      "cell_type": "code",
      "metadata": {
        "id": "b6RqhuI0Ys51",
        "colab": {
          "base_uri": "https://localhost:8080/"
        },
        "outputId": "b6c2c135-a6ed-4c29-cacb-ce8d116bc8a5"
      },
      "source": [
        "# Marca cada um dos tokens como pertencentes à frase \"1\", pois só iremos analisar uma.\n",
        "segmentos_ids = [1] * len(texto_tokenizado)\n",
        "\n",
        "print (segmentos_ids)\n",
        "print (len(segmentos_ids))"
      ],
      "execution_count": null,
      "outputs": [
        {
          "output_type": "stream",
          "text": [
            "[1, 1, 1, 1, 1, 1, 1, 1, 1, 1, 1, 1, 1, 1, 1, 1, 1, 1, 1, 1, 1, 1, 1, 1, 1]\n",
            "25\n"
          ],
          "name": "stdout"
        }
      ]
    },
    {
      "cell_type": "markdown",
      "metadata": {
        "id": "MCUCjJzKYs57"
      },
      "source": [
        "Converte 'tokens_indexados' e 'semegmentos_ids' em  listas em tensores."
      ]
    },
    {
      "cell_type": "code",
      "metadata": {
        "id": "fUU1BIGiYs58"
      },
      "source": [
        "# Importa a bibliteca\n",
        "import torch\n",
        "\n",
        "# Converte as entradas de listas para tensores do torch\n",
        "tokens_tensores = torch.as_tensor([tokens_indexados])\n",
        "segmentos_tensores = torch.as_tensor([segmentos_ids])"
      ],
      "execution_count": null,
      "outputs": []
    },
    {
      "cell_type": "markdown",
      "metadata": {
        "id": "PG5DPYmuYs6A"
      },
      "source": [
        "Gera os embeddings para a frase e retorna a saída em  `outputs`.\n"
      ]
    },
    {
      "cell_type": "code",
      "metadata": {
        "id": "1-hYiWnRYs6B"
      },
      "source": [
        "# Prediz os atributos dos estados ocultos para cada camada\n",
        "with torch.no_grad():    \n",
        "  \n",
        "    # Retorno de model quando ´last_hidden_state=True´ é setado:    \n",
        "    #outputs[0] = last_hidden_state, outputs[1] = pooler_output, outputs[2] = hidden_states\n",
        "    outputs = model(tokens_tensores, segmentos_tensores)"
      ],
      "execution_count": null,
      "outputs": []
    },
    {
      "cell_type": "markdown",
      "metadata": {
        "id": "5qpl6dS5Ys6E"
      },
      "source": [
        "Recupera a última camada."
      ]
    },
    {
      "cell_type": "code",
      "metadata": {
        "id": "7SgPmDP7Ys6E",
        "colab": {
          "base_uri": "https://localhost:8080/"
        },
        "outputId": "82249ee3-8b12-4b70-c58c-9ab908098cb1"
      },
      "source": [
        "# Recupera a última camada oculta da saída\n",
        "last_hidden_states = outputs[0]\n",
        "\n",
        "print (\"O vetor da última camada oculta tem o formato:\", last_hidden_states.size())"
      ],
      "execution_count": null,
      "outputs": [
        {
          "output_type": "stream",
          "text": [
            "O vetor da última camada oculta tem o formato: torch.Size([1, 25, 1024])\n"
          ],
          "name": "stdout"
        }
      ]
    },
    {
      "cell_type": "markdown",
      "metadata": {
        "id": "Ejt5Ty9RYs6G"
      },
      "source": [
        "Intervalo de valores para uma determinada camada e token."
      ]
    },
    {
      "cell_type": "code",
      "metadata": {
        "id": "sj2l1MIbYs6H",
        "colab": {
          "base_uri": "https://localhost:8080/",
          "height": 609
        },
        "outputId": "6136c977-56c7-4bd7-ab31-f979b1fe56d5"
      },
      "source": [
        "# Import da biblioteca gráfica\n",
        "import matplotlib.pyplot as plt\n",
        "%matplotlib inline\n",
        "\n",
        "# Plota os tokens da sentença\n",
        "token_i = 8\n",
        "layer_i = 0\n",
        "\n",
        "# Recupera o vetor de embeddings da última camada para o token\n",
        "vec = last_hidden_states[layer_i][token_i]\n",
        "\n",
        "# Mostra a palavra do token_i\n",
        "print((texto_tokenizado[token_i], tokens_indexados[token_i]))\n",
        "\n",
        "# Aumenta o tamanho da plotagem do gráfico\n",
        "plt.figure(figsize=(15,10))\n",
        "\n",
        "# Cria o histograma com 200 classes\n",
        "plt.hist(vec, bins=200)\n",
        "\n",
        "# Mostra o gráfico\n",
        "plt.show()"
      ],
      "execution_count": null,
      "outputs": [
        {
          "output_type": "stream",
          "text": [
            "('banco', 6465)\n"
          ],
          "name": "stdout"
        },
        {
          "output_type": "display_data",
          "data": {
            "image/png": "[encoded data removed]",
            "text/plain": [
              "<Figure size 1080x720 with 1 Axes>"
            ]
          },
          "metadata": {
            "tags": [],
            "needs_background": "light"
          }
        }
      ]
    },
    {
      "cell_type": "markdown",
      "metadata": {
        "id": "VfxvUL24Ys6J"
      },
      "source": [
        "Vamos nos livrar da dimensão lotes \"batches\", pois não precisamos dela."
      ]
    },
    {
      "cell_type": "code",
      "metadata": {
        "id": "22_WYRIPYs6J",
        "colab": {
          "base_uri": "https://localhost:8080/"
        },
        "outputId": "da6d6d05-a17d-4500-8737-d7bf24c04445"
      },
      "source": [
        "print (\"O vetor da última camada oculta tem o formato:\", last_hidden_states.size())\n",
        "\n",
        "# Remove a dimensão 1, o lote \"batches\".\n",
        "# O método ´squeeze´ remove a primeira dimensão(0) pois possui tamanho 1\n",
        "token_embeddings = torch.squeeze(last_hidden_states, dim=0)\n",
        "\n",
        "print (\"O vetor de tokens de embedding da senteça tem o formato:\", token_embeddings.size())"
      ],
      "execution_count": null,
      "outputs": [
        {
          "output_type": "stream",
          "text": [
            "O vetor da última camada oculta tem o formato: torch.Size([1, 25, 1024])\n",
            "O vetor de tokens de embedding da senteça tem o formato: torch.Size([25, 1024])\n"
          ],
          "name": "stdout"
        }
      ]
    },
    {
      "cell_type": "markdown",
      "metadata": {
        "id": "S6gogy9DYs6O"
      },
      "source": [
        "Confirmando vetores dependentes do contexto\n"
      ]
    },
    {
      "cell_type": "code",
      "metadata": {
        "id": "_oB4-pjiYs6O",
        "colab": {
          "base_uri": "https://localhost:8080/"
        },
        "outputId": "afd349fb-18d2-4e93-c33b-f9992d030de1"
      },
      "source": [
        "for i, token_str in enumerate(texto_tokenizado):\n",
        "  print (i, token_str)"
      ],
      "execution_count": null,
      "outputs": [
        {
          "output_type": "stream",
          "text": [
            "0 [CLS]\n",
            "1 Depois\n",
            "2 de\n",
            "3 roubar\n",
            "4 o\n",
            "5 co\n",
            "6 ##fre\n",
            "7 do\n",
            "8 banco\n",
            "9 ,\n",
            "10 o\n",
            "11 lad\n",
            "12 ##rão\n",
            "13 de\n",
            "14 banco\n",
            "15 foi\n",
            "16 visto\n",
            "17 sentado\n",
            "18 no\n",
            "19 banco\n",
            "20 da\n",
            "21 praça\n",
            "22 central\n",
            "23 .\n",
            "24 [SEP]\n"
          ],
          "name": "stdout"
        }
      ]
    },
    {
      "cell_type": "markdown",
      "metadata": {
        "id": "-TysEHsOZaij"
      },
      "source": [
        "Exibe os embenddings das palavras"
      ]
    },
    {
      "cell_type": "markdown",
      "metadata": {
        "id": "VXZFKHQBZIFk"
      },
      "source": [
        "A banco aparece nos índices 8, 14 e 19.\n"
      ]
    },
    {
      "cell_type": "code",
      "metadata": {
        "id": "2hrWa-RzZIFl",
        "colab": {
          "base_uri": "https://localhost:8080/"
        },
        "outputId": "58c271c7-fc4f-4660-a621-4d4ddbb57ebf"
      },
      "source": [
        "# Índice das palavras a serem comparadas\n",
        "palavra1 = 8\n",
        "palavra2 = 14\n",
        "palavra3 = 19\n",
        "\n",
        "print('Os primeiros 5 valores de cada instância de \"banco\".')\n",
        "print('')\n",
        "print(texto_tokenizado[palavra1], str(token_embeddings[palavra1][:5]))\n",
        "print(texto_tokenizado[palavra2], str(token_embeddings[palavra2][:5]))\n",
        "print(texto_tokenizado[palavra3], str(token_embeddings[palavra3][:5]))"
      ],
      "execution_count": null,
      "outputs": [
        {
          "output_type": "stream",
          "text": [
            "Os primeiros 5 valores de cada instância de \"banco\".\n",
            "\n",
            "banco tensor([ 0.4261, -0.1251, -0.4406,  0.0736, -1.4059])\n",
            "banco tensor([ 0.4835,  0.1447, -0.4306,  0.3436, -1.4682])\n",
            "banco tensor([ 0.3631,  0.9212,  0.1919, -0.2493, -0.9418])\n"
          ],
          "name": "stdout"
        }
      ]
    },
    {
      "cell_type": "markdown",
      "metadata": {
        "id": "-GgdLD3lZIFp"
      },
      "source": [
        "### Comparando as palavras das frases\n",
        "Podemos ver que os valores diferem, mas vamos calcular a semelhança de cosseno entre os vetores para fazer uma comparação mais precisa."
      ]
    },
    {
      "cell_type": "code",
      "metadata": {
        "id": "_0Wz7anjZIFp",
        "colab": {
          "base_uri": "https://localhost:8080/"
        },
        "outputId": "e5592e6e-9d85-4c45-96db-6ec027d8bfac"
      },
      "source": [
        "from scipy.spatial.distance import cosine\n",
        "\n",
        "print(\"Período:\", texto)\n",
        "print(\"Palavra1=\", palavra1, \"=\", texto_tokenizado[palavra1], \"(instituição financeira)\")\n",
        "print(\"Palavra2=\", palavra2, \"=\", texto_tokenizado[palavra2], \"(instituição financeira)\")\n",
        "print(\"Palavra3=\", palavra3, \"=\", texto_tokenizado[palavra3], \"(assento)\")\n",
        "\n",
        "# Calcula a similaridade de coseno entre as palavras banco\n",
        "# Em \"ladrão de banco\" versus \"banco da praça\" (diferentes significados).\n",
        "banco_diferente = 1 - cosine(token_embeddings[palavra2], token_embeddings[palavra3])\n",
        "\n",
        "print('Vetor de similaridade  para diferentes significados(',palavra2,',',palavra3,'):  %.2f' % banco_diferente)\n",
        "\n",
        "# Calcula a similaridade de coseno entre as palavras banco\n",
        "# Em \"ladrão de banco\" versus \"cofre do banco\" (mesmo significado).\n",
        "mesmo_banco = 1 - cosine(token_embeddings[palavra2], token_embeddings[palavra1])\n",
        "\n",
        "print('Vetor de similaridade  para mesmo significado(',palavra2,',',palavra1,'):  %.2f' % mesmo_banco)\n",
        "\n",
        "# Calcula a similaridade de coseno entre as palavras banco\n",
        "# Em \"cofre do banco\" versus \"banco da praça\" (diferente significados).\n",
        "banco_diferente2 = 1 - cosine(token_embeddings[palavra3], token_embeddings[palavra1])\n",
        "\n",
        "print('Vetor de similaridade  para diferentes significados(',palavra3,',',palavra1,'):  %.2f' % banco_diferente2)"
      ],
      "execution_count": null,
      "outputs": [
        {
          "output_type": "stream",
          "text": [
            "Período: Depois de roubar o cofre do banco, o ladrão de banco foi visto sentado no banco da praça central.\n",
            "Palavra1= 8 = banco (instituição financeira)\n",
            "Palavra2= 14 = banco (instituição financeira)\n",
            "Palavra3= 19 = banco (assento)\n",
            "Vetor de similaridade  para diferentes significados( 14 , 19 ):  0.78\n",
            "Vetor de similaridade  para mesmo significado( 14 , 8 ):  0.92\n",
            "Vetor de similaridade  para diferentes significados( 19 , 8 ):  0.77\n"
          ],
          "name": "stdout"
        }
      ]
    },
    {
      "cell_type": "markdown",
      "metadata": {
        "id": "3OwnIPA8a2-E"
      },
      "source": [
        "### Visualizando a Frase\n",
        "\n",
        "Aqui, queremos mostrar a conexão entre os tokens de uma frase usando a incorporação do BERT. Plotamos as inserções dos tokens em um subespaço, onde (0,1) e (1,0) são os marcadores de partida [CLS] e [SEP] e marcadores finais e finais da frase."
      ]
    },
    {
      "cell_type": "code",
      "metadata": {
        "id": "frxCW7XYa2-F"
      },
      "source": [
        "# Import das bibliotecas\n",
        "import numpy as np\n",
        "import torch\n",
        "\n",
        "import matplotlib.pyplot as plt\n",
        "%matplotlib inline"
      ],
      "execution_count": null,
      "outputs": []
    },
    {
      "cell_type": "markdown",
      "metadata": {
        "id": "83oC5Q6na2-K"
      },
      "source": [
        "Transforma  o vetor de embendings em um array."
      ]
    },
    {
      "cell_type": "code",
      "metadata": {
        "id": "TGm-CmYya2-L"
      },
      "source": [
        "# Transforma tokens embeddings em um array\n",
        "embeddings = token_embeddings.numpy()"
      ],
      "execution_count": null,
      "outputs": []
    },
    {
      "cell_type": "markdown",
      "metadata": {
        "id": "dUEejZ8ja2-P"
      },
      "source": [
        "Base selecionada para que o [CLS] e o [SEP] passem para (0,1) e (1,0)"
      ]
    },
    {
      "cell_type": "code",
      "metadata": {
        "id": "V9lYmngTa2-P"
      },
      "source": [
        "# Converte para um array\n",
        "W = np.array(embeddings)\n",
        "# Transforma em um array\n",
        "B = np.array([embeddings[0], embeddings[-1]])\n",
        "# Inverte B.T\n",
        "Bi = np.linalg.pinv(B.T)"
      ],
      "execution_count": null,
      "outputs": []
    },
    {
      "cell_type": "markdown",
      "metadata": {
        "id": "jxy3Ii79a2-S"
      },
      "source": [
        "Projeta os tokens da palavra no subespaço"
      ]
    },
    {
      "cell_type": "code",
      "metadata": {
        "id": "6XLcqxbla2-T"
      },
      "source": [
        "Wp = np.matmul(Bi,W.T)"
      ],
      "execution_count": null,
      "outputs": []
    },
    {
      "cell_type": "markdown",
      "metadata": {
        "id": "Ulz18MGca2-a"
      },
      "source": [
        "Plota o gráfico da frase"
      ]
    },
    {
      "cell_type": "code",
      "metadata": {
        "id": "HogpH9Nla2-a",
        "colab": {
          "base_uri": "https://localhost:8080/",
          "height": 428
        },
        "outputId": "dcdf2425-f235-42e6-fb46-6e3e8cd1c2e9"
      },
      "source": [
        "# Aumenta o tamanho da plotagem do gráfico\n",
        "plt.figure(figsize=(12,7))\n",
        "plt.axhline(color='black')\n",
        "plt.axvline(color='black')\n",
        "plt.scatter(Wp[0,:], Wp[1,:], label=texto)\n",
        "rX = max(Wp[0,:])-min(Wp[0,:])\n",
        "rY = max(Wp[1,:])-min(Wp[1,:])\n",
        "rM = max(rX, rY)\n",
        "eps = 0.005\n",
        "for i, token in enumerate(texto_tokenizado):\n",
        "    if token in ['[CLS]', '[SEP]']:\n",
        "        plt.annotate(token, (Wp[0,i]+rX*eps, Wp[1,i]+rX*eps))\n",
        "    if token == 'banco':\n",
        "        plt.annotate(token, (Wp[0,i]+rX*eps*-6, Wp[1,i]+rX*eps*3))\n",
        "    if i>0:\n",
        "        plt.arrow(Wp[0,i-1],Wp[1,i-1], Wp[0,i]-Wp[0,i-1], Wp[1,i]-Wp[1,i-1], color='lightblue', head_length=rM*eps*3, head_width=rM*eps*2, length_includes_head=True)\n",
        "plt.legend()\n",
        "\n",
        "# Mostra o gráfico\n",
        "plt.show()"
      ],
      "execution_count": null,
      "outputs": [
        {
          "output_type": "display_data",
          "data": {
            "image/png": "[encoded data removed]",
            "text/plain": [
              "<Figure size 864x504 with 1 Axes>"
            ]
          },
          "metadata": {
            "tags": [],
            "needs_background": "light"
          }
        }
      ]
    },
    {
      "cell_type": "markdown",
      "metadata": {
        "id": "QlA3hB59E0y4"
      },
      "source": [
        "### Comparando as orações\n",
        "\n",
        "Dividindo a frase em três orações."
      ]
    },
    {
      "cell_type": "code",
      "metadata": {
        "id": "NpcbPE3Y-OgE",
        "colab": {
          "base_uri": "https://localhost:8080/",
          "height": 479
        },
        "outputId": "e3481b2e-dcb6-4394-8c6f-b10a3967cf9c"
      },
      "source": [
        "texto = [\"Depois de roubar o cofre do banco\",\"o ladrão de banco foi visto\",\"sentado no banco da praça central.\"]\n",
        "colors = ['blue', 'red', 'green']\n",
        "\n",
        "# Aumenta o tamanho da plotagem do gráfico\n",
        "plt.figure(figsize=(12,7))\n",
        "plt.axhline(color='black')\n",
        "plt.axvline(color='black')\n",
        "for n,frase in enumerate(texto):\n",
        "    Wp, tokens = getEmbeddingsVisual(frase, model, tokenizer)\n",
        "    print(tokens)\n",
        "    plt.scatter(Wp[0,:], Wp[1,:], color=colors[n], marker='x', label=frase)\n",
        "    rX = max(Wp[0,:])-min(Wp[0,:])\n",
        "    rY = max(Wp[1,:])-min(Wp[1,:])\n",
        "    rM = max(rX, rY)\n",
        "    eps = 0.005\n",
        "    eps2 = 0.005\n",
        "    for i, token in enumerate(tokens):\n",
        "        if token in ['[CLS]', '[SEP]']:\n",
        "            plt.annotate(token, (Wp[0,i]+rX*eps, Wp[1,i]+rX*eps))\n",
        "        if token == 'banco':\n",
        "            plt.annotate(token, (Wp[0,i]+rX*eps*-6, Wp[1,i]+rX*eps*3))\n",
        "        if i>0:\n",
        "            plt.arrow(Wp[0,i-1],Wp[1,i-1], Wp[0,i]-Wp[0,i-1], Wp[1,i]-Wp[1,i-1], color=colors[n], head_length=rM*eps2*4, head_width=rM*eps2*2, length_includes_head=True)\n",
        "plt.legend()\n",
        "\n",
        "# Mostra o gráfico\n",
        "plt.show()       "
      ],
      "execution_count": null,
      "outputs": [
        {
          "output_type": "stream",
          "text": [
            "['[CLS]', 'Depois', 'de', 'roubar', 'o', 'co', '##fre', 'do', 'banco', '[SEP]']\n",
            "['[CLS]', 'o', 'lad', '##rão', 'de', 'banco', 'foi', 'visto', '[SEP]']\n",
            "['[CLS]', 'sentado', 'no', 'banco', 'da', 'praça', 'central', '.', '[SEP]']\n"
          ],
          "name": "stdout"
        },
        {
          "output_type": "display_data",
          "data": {
            "image/png": "[encoded data removed]",
            "text/plain": [
              "<Figure size 864x504 with 1 Axes>"
            ]
          },
          "metadata": {
            "tags": [],
            "needs_background": "light"
          }
        }
      ]
    },
    {
      "cell_type": "markdown",
      "metadata": {
        "id": "hKFlqCIntTq4"
      },
      "source": [
        "## 7 - Exemplo palavra \"manga\" (2 tokens ##)"
      ]
    },
    {
      "cell_type": "markdown",
      "metadata": {
        "id": "HoEutifvXwkT"
      },
      "source": [
        "Outro exemplo"
      ]
    },
    {
      "cell_type": "code",
      "metadata": {
        "id": "xSx6Ik9itVQ5",
        "colab": {
          "base_uri": "https://localhost:8080/"
        },
        "outputId": "c9b29226-fab7-4685-dd75-5a6d4e617944"
      },
      "source": [
        "# Define um sentença de exemplo com diversos siginificados da palavra  \"manga\"\n",
        "texto = \"João adora manga. Ele pediu sorvete de manga como sobremesa. João sujou a manga da camisa.\"\n",
        "\n",
        "# Adiciona os tokens especiais\n",
        "texto_marcado = \"[CLS] \" + texto + \" [SEP]\"\n",
        "\n",
        "# Divide a sentença em tokens\n",
        "texto_tokenizado = tokenizer.tokenize(texto_marcado)\n",
        "\n",
        "# Mapeia os tokens em seus índices do vocabulário\n",
        "tokens_indexados = tokenizer.convert_tokens_to_ids(texto_tokenizado)\n",
        "\n",
        "# Mostra os tokens com seus índices\n",
        "i = 0\n",
        "for tup in zip(texto_tokenizado, tokens_indexados):\n",
        "    print('{:>3} {:<12} {:>6,}'.format(i, tup[0], tup[1]))\n",
        "    i= i + 1"
      ],
      "execution_count": null,
      "outputs": [
        {
          "output_type": "stream",
          "text": [
            "  0 [CLS]           101\n",
            "  1 João          1,453\n",
            "  2 ado           2,251\n",
            "  3 ##ra            124\n",
            "  4 mang          8,037\n",
            "  5 ##a          22,278\n",
            "  6 .               119\n",
            "  7 Ele             787\n",
            "  8 pediu         5,695\n",
            "  9 sor          13,449\n",
            " 10 ##vete       15,957\n",
            " 11 de              125\n",
            " 12 mang          8,037\n",
            " 13 ##a          22,278\n",
            " 14 como            271\n",
            " 15 sobre           498\n",
            " 16 ##mes         1,056\n",
            " 17 ##a          22,278\n",
            " 18 .               119\n",
            " 19 João          1,453\n",
            " 20 suj           5,980\n",
            " 21 ##ou            203\n",
            " 22 a               123\n",
            " 23 mang          8,037\n",
            " 24 ##a          22,278\n",
            " 25 da              180\n",
            " 26 camisa        7,924\n",
            " 27 .               119\n",
            " 28 [SEP]           102\n"
          ],
          "name": "stdout"
        }
      ]
    },
    {
      "cell_type": "markdown",
      "metadata": {
        "id": "yD90YLkftVRd"
      },
      "source": [
        "Segmentos"
      ]
    },
    {
      "cell_type": "code",
      "metadata": {
        "id": "ouWUO48ytVRe",
        "colab": {
          "base_uri": "https://localhost:8080/"
        },
        "outputId": "353787fc-e1e7-4986-f525-cbc3e9916d5a"
      },
      "source": [
        "# Marca cada um dos tokens como pertencentes à frase \"1\".\n",
        "segmentos_ids = [1] * len(texto_tokenizado)\n",
        "\n",
        "print (segmentos_ids)\n",
        "print (len(segmentos_ids))"
      ],
      "execution_count": null,
      "outputs": [
        {
          "output_type": "stream",
          "text": [
            "[1, 1, 1, 1, 1, 1, 1, 1, 1, 1, 1, 1, 1, 1, 1, 1, 1, 1, 1, 1, 1, 1, 1, 1, 1, 1, 1, 1, 1]\n",
            "29\n"
          ],
          "name": "stdout"
        }
      ]
    },
    {
      "cell_type": "markdown",
      "metadata": {
        "id": "7K2ub9pptVRl"
      },
      "source": [
        "Convertendo as listas em tensores"
      ]
    },
    {
      "cell_type": "code",
      "metadata": {
        "id": "Or08EaYjtVRn"
      },
      "source": [
        "# Importa a bibliteca\n",
        "import torch\n",
        "\n",
        "# Converte as entradas de listas para tensores do torch\n",
        "tokens_tensores = torch.as_tensor([tokens_indexados])\n",
        "segmentos_tensores = torch.as_tensor([segmentos_ids])"
      ],
      "execution_count": null,
      "outputs": []
    },
    {
      "cell_type": "markdown",
      "metadata": {
        "id": "wjpRqequt0UW"
      },
      "source": [
        "Gera os embeddings para a frase. Guarda somente a última camada da rede em `outputs`.\n"
      ]
    },
    {
      "cell_type": "code",
      "metadata": {
        "id": "djf_L7qLt0UZ"
      },
      "source": [
        "# Prediz os atributos dos estados ocultos para cada camada\n",
        "with torch.no_grad():\n",
        "    #output[0] contém last_hidden_states\n",
        "    outputs = model(tokens_tensores, segmentos_tensores)"
      ],
      "execution_count": null,
      "outputs": []
    },
    {
      "cell_type": "markdown",
      "metadata": {
        "id": "e9Q_-vR0t0Ue"
      },
      "source": [
        "Recupera a saída"
      ]
    },
    {
      "cell_type": "code",
      "metadata": {
        "id": "e4gm3A-Et0Uf",
        "colab": {
          "base_uri": "https://localhost:8080/"
        },
        "outputId": "467b7234-44ec-4430-cf05-a3d5942f52ff"
      },
      "source": [
        "# Recupera a última e única camada da saída\n",
        "last_hidden_states = outputs[0]\n",
        "\n",
        "print (\"O vetor da última camada oculta tem o formato:\", last_hidden_states.size())"
      ],
      "execution_count": null,
      "outputs": [
        {
          "output_type": "stream",
          "text": [
            "O vetor da última camada oculta tem o formato: torch.Size([1, 29, 1024])\n"
          ],
          "name": "stdout"
        }
      ]
    },
    {
      "cell_type": "markdown",
      "metadata": {
        "id": "RIqAEXS9uRlp"
      },
      "source": [
        "intervalo de valores para uma determinada camada e token."
      ]
    },
    {
      "cell_type": "code",
      "metadata": {
        "id": "du9CNgHeuRmF",
        "colab": {
          "base_uri": "https://localhost:8080/",
          "height": 626
        },
        "outputId": "321b5558-972c-4166-d9f3-832c7bb8f2c2"
      },
      "source": [
        "# Import da biblioteca gráfica\n",
        "import matplotlib.pyplot as plt\n",
        "%matplotlib inline\n",
        "\n",
        "# Plota os tokens da sentenca\n",
        "token_i = 4\n",
        "layer_i = 0\n",
        "\n",
        "# Recupera o vetor de embeddings da última camada para o token\n",
        "vec = last_hidden_states[layer_i][token_i]\n",
        "\n",
        "# Mostra a palavra do token_i\n",
        "print((texto_tokenizado[token_i], tokens_indexados[token_i]))\n",
        "\n",
        "# Plota os valores como um histograma mostrando sua distribuição\n",
        "plt.figure(figsize=(15,10))\n",
        "plt.hist(vec, bins=200, color='blue')\n",
        "\n",
        "# Plota os tokens da sentenca\n",
        "token_i = 5\n",
        "layer_i = 0\n",
        "\n",
        "# Recupera o vetor de embeddings da última camada para o token\n",
        "vec = last_hidden_states[layer_i][token_i]\n",
        "\n",
        "# Mostra a palavra do token_i\n",
        "print((texto_tokenizado[token_i], tokens_indexados[token_i]))\n",
        "\n",
        "# Cria o histograma com 200 classes\n",
        "plt.hist(vec, bins=200, color='red')\n",
        "\n",
        "# Mostra o gráfico\n",
        "plt.show()"
      ],
      "execution_count": null,
      "outputs": [
        {
          "output_type": "stream",
          "text": [
            "('mang', 8037)\n",
            "('##a', 22278)\n"
          ],
          "name": "stdout"
        },
        {
          "output_type": "display_data",
          "data": {
            "image/png": "[encoded data removed]",
            "text/plain": [
              "<Figure size 1080x720 with 1 Axes>"
            ]
          },
          "metadata": {
            "tags": [],
            "needs_background": "light"
          }
        }
      ]
    },
    {
      "cell_type": "markdown",
      "metadata": {
        "id": "kySKYWvOuRma"
      },
      "source": [
        "Vamos nos livrar da dimensão lotes \"batches\", pois não precisamos dela."
      ]
    },
    {
      "cell_type": "code",
      "metadata": {
        "id": "8n66vVQFuRmc",
        "colab": {
          "base_uri": "https://localhost:8080/"
        },
        "outputId": "36788b07-bee6-41d9-b036-d7c1650bc7b1"
      },
      "source": [
        "# Remove a dimensão 1, o lote \"batches\".\n",
        "#O método squeeze remove a primeira dimensão(0) pois possui tamanho 1\n",
        "token_embeddings = torch.squeeze(last_hidden_states, dim=0)\n",
        "\n",
        "print (\"O vetor de tokens de embedding da senteça tem o formato:\", token_embeddings.size())"
      ],
      "execution_count": null,
      "outputs": [
        {
          "output_type": "stream",
          "text": [
            "O vetor de tokens de embedding da senteça tem o formato: torch.Size([29, 1024])\n"
          ],
          "name": "stdout"
        }
      ]
    },
    {
      "cell_type": "markdown",
      "metadata": {
        "id": "-0H4utCwuRmr"
      },
      "source": [
        "Confirmando vetores dependentes do contexto\n"
      ]
    },
    {
      "cell_type": "code",
      "metadata": {
        "id": "v6bOJ9lIuRms",
        "colab": {
          "base_uri": "https://localhost:8080/"
        },
        "outputId": "01ddc247-b960-4dcf-e183-c0b4f4716709"
      },
      "source": [
        "for i, token_str in enumerate(texto_tokenizado):\n",
        "  print (i, token_str)"
      ],
      "execution_count": null,
      "outputs": [
        {
          "output_type": "stream",
          "text": [
            "0 [CLS]\n",
            "1 João\n",
            "2 ado\n",
            "3 ##ra\n",
            "4 mang\n",
            "5 ##a\n",
            "6 .\n",
            "7 Ele\n",
            "8 pediu\n",
            "9 sor\n",
            "10 ##vete\n",
            "11 de\n",
            "12 mang\n",
            "13 ##a\n",
            "14 como\n",
            "15 sobre\n",
            "16 ##mes\n",
            "17 ##a\n",
            "18 .\n",
            "19 João\n",
            "20 suj\n",
            "21 ##ou\n",
            "22 a\n",
            "23 mang\n",
            "24 ##a\n",
            "25 da\n",
            "26 camisa\n",
            "27 .\n",
            "28 [SEP]\n"
          ],
          "name": "stdout"
        }
      ]
    },
    {
      "cell_type": "markdown",
      "metadata": {
        "id": "Tsf_10JZSQ0O"
      },
      "source": [
        "Concatenando as subpalavras"
      ]
    },
    {
      "cell_type": "code",
      "metadata": {
        "id": "e1MNvsvRQsHq",
        "colab": {
          "base_uri": "https://localhost:8080/"
        },
        "outputId": "6adbe85b-e47b-4b08-d5c5-e8c6ccee6ded"
      },
      "source": [
        "#Indíce início e fim do token\n",
        "tokenInicio = 4\n",
        "tokenFim = 5\n",
        "\n",
        "#Inicia com o primeiro token.\n",
        "token_unificado = texto_tokenizado[tokenInicio]\n",
        "\n",
        "# Seleciona o restante dos tokens e junta com espaços.\n",
        "for i in range(tokenInicio + 1, tokenFim + 1):\n",
        "    \n",
        "    # Se for um token de subpalavra, combina com o token anterior.\n",
        "    if texto_tokenizado[i][0:2] == '##':\n",
        "        token_unificado += texto_tokenizado[i][2:]\n",
        "    \n",
        "    # Caso contrário adiciona um espaço ao token.\n",
        "    else:\n",
        "        token_unificado += ' ' + texto_tokenizado[i]\n",
        "\n",
        "print('token: \"' + token_unificado + '\"')"
      ],
      "execution_count": null,
      "outputs": [
        {
          "output_type": "stream",
          "text": [
            "token: \"manga\"\n"
          ],
          "name": "stdout"
        }
      ]
    },
    {
      "cell_type": "code",
      "metadata": {
        "id": "5JRj9pcCMUaU",
        "colab": {
          "base_uri": "https://localhost:8080/"
        },
        "outputId": "38339df3-a4c2-4887-fb22-4662faaed2c2"
      },
      "source": [
        "print(texto_tokenizado[4], str(token_embeddings[4][:5]))"
      ],
      "execution_count": null,
      "outputs": [
        {
          "output_type": "stream",
          "text": [
            "mang tensor([-0.1487,  0.2152,  0.2168,  0.7523, -0.3957])\n"
          ],
          "name": "stdout"
        }
      ]
    },
    {
      "cell_type": "markdown",
      "metadata": {
        "id": "fCpOgz29ZLZO"
      },
      "source": [
        "Exibe os embenddings das palavras"
      ]
    },
    {
      "cell_type": "code",
      "metadata": {
        "id": "DZAfbbJjuRmw",
        "colab": {
          "base_uri": "https://localhost:8080/"
        },
        "outputId": "ba230e90-e176-4d65-e0c8-b1673ac623ba"
      },
      "source": [
        "# Índice das palavras a serem comparadas\n",
        "palavra1 = 4\n",
        "palavra2 = 12\n",
        "palavra3 = 23\n",
        "\n",
        "print(\"Os primeiros 5 valores de cada instância de \\\"mang\\\" e \\\"##a\\\"\")\n",
        "print(\"\")\n",
        "print(\"Primeira ocorrência:\")\n",
        "print(texto_tokenizado[palavra1], str(token_embeddings[palavra1][:5]), \" média=\", float(torch.mean(token_embeddings[palavra1][:5])))\n",
        "print(texto_tokenizado[palavra1+1], str(token_embeddings[palavra1+1][:5]), \" média=\", float(torch.mean(token_embeddings[palavra1+1][:5])))\n",
        "print(\"\")\n",
        "print(\"Segunda ocorrência:\")\n",
        "print(texto_tokenizado[palavra2], str(token_embeddings[palavra2][:5]), \" média=\", float(torch.mean(token_embeddings[palavra2+1][:5])))\n",
        "print(texto_tokenizado[palavra2+1], str(token_embeddings[palavra2+1][:5]), \" média=\", float(torch.mean(token_embeddings[palavra2+1][:5])))\n",
        "print(\"\")\n",
        "print(\"Terceira ocorrência:\")\n",
        "print(texto_tokenizado[palavra3], str(token_embeddings[palavra3][:5]), \" média=\", float(torch.mean(token_embeddings[palavra3+1][:5])))\n",
        "print(texto_tokenizado[palavra3+1], str(token_embeddings[palavra3+1][:5]), \" média=\", float(torch.mean(token_embeddings[palavra3+1][:5])))"
      ],
      "execution_count": null,
      "outputs": [
        {
          "output_type": "stream",
          "text": [
            "Os primeiros 5 valores de cada instância de \"mang\" e \"##a\"\n",
            "\n",
            "Primeira ocorrência:\n",
            "mang tensor([-0.1487,  0.2152,  0.2168,  0.7523, -0.3957])  média= 0.12796925008296967\n",
            "##a tensor([ 0.2455, -0.3664,  0.1929,  0.0037,  0.7829])  média= 0.1717250645160675\n",
            "\n",
            "Segunda ocorrência:\n",
            "mang tensor([-0.2733,  0.1060,  0.1036,  0.8762, -0.4307])  média= 0.040857356041669846\n",
            "##a tensor([ 0.2110, -0.8259,  0.2851, -0.0856,  0.6197])  média= 0.040857356041669846\n",
            "\n",
            "Terceira ocorrência:\n",
            "mang tensor([0.0391, 0.6579, 0.0480, 0.6874, 0.1648])  média= 0.09542582184076309\n",
            "##a tensor([-0.0986, -0.0280, -0.3158,  0.0221,  0.8974])  média= 0.09542582184076309\n"
          ],
          "name": "stdout"
        }
      ]
    },
    {
      "cell_type": "markdown",
      "metadata": {
        "id": "O_O-hJurZ1vY"
      },
      "source": [
        "### Comparando as palavras das frases 1 token\n",
        "\n",
        "Podemos ver que os valores diferem, mas vamos calcular a semelhança de cosseno entre os vetores para fazer uma comparação mais precisa."
      ]
    },
    {
      "cell_type": "markdown",
      "metadata": {
        "id": "Rwl1YCR1rQBx"
      },
      "source": [
        "Utiliza somente um token da palavra (\"mang\")"
      ]
    },
    {
      "cell_type": "code",
      "metadata": {
        "id": "BrZPHGZyuRmz",
        "colab": {
          "base_uri": "https://localhost:8080/"
        },
        "outputId": "1d7425ed-8aae-4b37-f203-097a326ffca8"
      },
      "source": [
        "from scipy.spatial.distance import cosine\n",
        "\n",
        "print(\"Período:\", texto)\n",
        "print(\"Palavra1=\", palavra1, \"=\", texto_tokenizado[palavra1], \"(fruta)\")\n",
        "print(\"Palavra2=\", palavra2, \"=\", texto_tokenizado[palavra2], \"(fruta)\")\n",
        "print(\"Palavra3=\", palavra3, \"=\", texto_tokenizado[palavra3], \"(roupa)\")\n",
        "\n",
        "# Calcula a similaridade de coseno entre as palavras maga\n",
        "# Em \"sorvete de manga\" versus \"sujou a manga\" (diferentes significados).\n",
        "diferente1 = 1 - cosine(token_embeddings[palavra2][:5], token_embeddings[palavra3][:5])\n",
        "\n",
        "print('Vetor de similaridade para diferentes significados(',palavra2,',',palavra3,'):  %.2f' % diferente1)\n",
        "\n",
        "# Calcula a similaridade de coseno entre as palavras manga\n",
        "# Em \"adora manga\" versus \"sorvete de manga\" (mesmo significado).\n",
        "mesmo = 1 - cosine(token_embeddings[palavra2][:5], token_embeddings[palavra1][:5])\n",
        "\n",
        "print('Vetor de similaridade para mesmo significado(',palavra2,',',palavra1,')       :  %.2f' % mesmo)\n",
        "\n",
        "# Calcula a similaridade de coseno entre as palavras manga\n",
        "# Em \"adora manga\" versus \"manga da camisa\" (diferente significados).\n",
        "diferente2 = 1 - cosine(token_embeddings[palavra1][:5], token_embeddings[palavra3][:5])\n",
        "\n",
        "print('Vetor de similaridade para diferentes significados(',palavra1,',',palavra3,') :  %.2f' % diferente2)"
      ],
      "execution_count": null,
      "outputs": [
        {
          "output_type": "stream",
          "text": [
            "Período: João adora manga. Ele pediu sorvete de manga como sobremesa. João sujou a manga da camisa.\n",
            "Palavra1= 4 = mang (fruta)\n",
            "Palavra2= 12 = mang (fruta)\n",
            "Palavra3= 23 = mang (roupa)\n",
            "Vetor de similaridade para diferentes significados( 12 , 23 ):  0.60\n",
            "Vetor de similaridade para mesmo significado( 12 , 4 )       :  0.98\n",
            "Vetor de similaridade para diferentes significados( 4 , 23 ) :  0.68\n"
          ],
          "name": "stdout"
        }
      ]
    },
    {
      "cell_type": "markdown",
      "metadata": {
        "id": "xryWwBuxmz3h"
      },
      "source": [
        "### Comparando as palavras das frases 2 tokens\n",
        "\n",
        "Podemos ver que os valores diferem, mas vamos calcular a semelhança de cosseno entre os vetores para fazer uma comparação mais precisa.\n",
        "\n",
        "Calcula a média dos embeddings dos tokens que forma a palavra."
      ]
    },
    {
      "cell_type": "markdown",
      "metadata": {
        "id": "vbg8yKNDrVW7"
      },
      "source": [
        "Utiliza dois tokens da palavra (\"mang\") e (\"##a\")"
      ]
    },
    {
      "cell_type": "code",
      "metadata": {
        "id": "Xd-U9AXqm9ep",
        "colab": {
          "base_uri": "https://localhost:8080/"
        },
        "outputId": "3c7c4201-f84d-4653-fbc8-8ea6a390d7eb"
      },
      "source": [
        "from scipy.spatial.distance import cosine\n",
        "\n",
        "print(\"Período:\", texto)\n",
        "print(\"Palavra1=\", palavra1, \" e \", palavra1 + 1, \"=\", texto_tokenizado[palavra1], texto_tokenizado[palavra1+1], \"(fruta)\")\n",
        "print(\"Palavra2=\", palavra2, \" e \", palavra2 + 1, \"=\", texto_tokenizado[palavra2], texto_tokenizado[palavra2+1], \"(fruta)\")\n",
        "print(\"Palavra3=\", palavra3, \" e \", palavra3 + 1, \"=\", texto_tokenizado[palavra3], texto_tokenizado[palavra3+1], \"(roupa)\")\n",
        "\n",
        "# Calcula a similaridade de coseno entre as palavras maga\n",
        "# Em \"sorvete de manga\" versus \"sujou a manga\" (diferentes significados).\n",
        "# Calcula a média dos tokens dos embeddings\n",
        "diferente1 = 1 - cosine(\n",
        "                        (token_embeddings[palavra2][:5]+token_embeddings[palavra2+1][:5])/2, \n",
        "                        (token_embeddings[palavra3][:5]+token_embeddings[palavra3+1][:5])/2\n",
        "                        )\n",
        "print('Vetor de similaridade para diferentes significados(',palavra2,'e', palavra2+1,',',palavra3,'e',palavra3+1,'):  %.2f' % diferente1)\n",
        "\n",
        "# Calcula a similaridade de coseno entre as palavras manga\n",
        "# Em \"adora manga\" versus \"sorvete de manga\" (mesmo significado).\n",
        "# Calcula a média dos tokens dos embeddings\n",
        "mesmo = 1 - cosine(\n",
        "                      (token_embeddings[palavra2][:5]+token_embeddings[palavra2+1][:5])/2, \n",
        "                      (token_embeddings[palavra1][:5]+token_embeddings[palavra1+1][:5])/2\n",
        "                  )\n",
        "print('Vetor de similaridade para mesmo significado(',palavra2,'e', palavra2+1,',',palavra1,'e',palavra1+1,')        :  %.2f' % mesmo)\n",
        "\n",
        "# Calcula a similaridade de coseno entre as palavras manga\n",
        "# Em \"adora manga\" versus \"manga da camisa\" (diferente significados).\n",
        "# Calcula a média dos tokens dos embeddings\n",
        "diferente2 = 1 - cosine(\n",
        "                        (token_embeddings[palavra1][:5]+token_embeddings[palavra1+1][:5])/2, \n",
        "                        (token_embeddings[palavra3][:5]+token_embeddings[palavra3+1][:5])/2\n",
        "                        )\n",
        "print('Vetor de similaridade para diferentes significados(',palavra1,'e', palavra1+1,',',palavra3,'e',palavra3+1,')  :  %.2f' % diferente2)"
      ],
      "execution_count": null,
      "outputs": [
        {
          "output_type": "stream",
          "text": [
            "Período: João adora manga. Ele pediu sorvete de manga como sobremesa. João sujou a manga da camisa.\n",
            "Palavra1= 4  e  5 = mang ##a (fruta)\n",
            "Palavra2= 12  e  13 = mang ##a (fruta)\n",
            "Palavra3= 23  e  24 = mang ##a (roupa)\n",
            "Vetor de similaridade para diferentes significados( 12 e 13 , 23 e 24 ):  0.12\n",
            "Vetor de similaridade para mesmo significado( 12 e 13 , 4 e 5 )        :  0.84\n",
            "Vetor de similaridade para diferentes significados( 4 e 5 , 23 e 24 )  :  0.53\n"
          ],
          "name": "stdout"
        }
      ]
    },
    {
      "cell_type": "markdown",
      "metadata": {
        "id": "NKM3-rGKeZ0F"
      },
      "source": [
        "### Visualizando a Frase\n",
        "\n",
        "Aqui, queremos mostrar a conexão entre os tokens de uma frase usando a incorporação do BERT. Plotamos as inserções dos tokens em um subespaço, onde (0,1) e (1,0) são os marcadores de partida [CLS] e [SEP] e marcadores finais e finais da frase."
      ]
    },
    {
      "cell_type": "code",
      "metadata": {
        "id": "k0wODbPgeZ0G"
      },
      "source": [
        "# Import das biblioteca\n",
        "import numpy as np\n",
        "import torch\n",
        "\n",
        "import matplotlib.pyplot as plt\n",
        "%matplotlib inline"
      ],
      "execution_count": null,
      "outputs": []
    },
    {
      "cell_type": "markdown",
      "metadata": {
        "id": "baVze0kgeZ0K"
      },
      "source": [
        "Transforma  o vetor de embendings em um array."
      ]
    },
    {
      "cell_type": "code",
      "metadata": {
        "id": "zAnudIVSeZ0K"
      },
      "source": [
        "# Transforma tokens embeddings em um array\n",
        "embeddings = token_embeddings.numpy()"
      ],
      "execution_count": null,
      "outputs": []
    },
    {
      "cell_type": "markdown",
      "metadata": {
        "id": "2kJ2lkEDeZ0N"
      },
      "source": [
        "Base selecionada para que o [CLS] e o [SEP] passem para (0,1) e (1,0)"
      ]
    },
    {
      "cell_type": "code",
      "metadata": {
        "id": "o9KHLboieZ0N"
      },
      "source": [
        "# Converte para um array\n",
        "W = np.array(embeddings)\n",
        "# Transforma em um array\n",
        "B = np.array([embeddings[0], embeddings[-1]])\n",
        "# Inverte B.T\n",
        "Bi = np.linalg.pinv(B.T)"
      ],
      "execution_count": null,
      "outputs": []
    },
    {
      "cell_type": "markdown",
      "metadata": {
        "id": "3vWFjpq-eZ0R"
      },
      "source": [
        "Projeta os tokens da palavra no subespaço"
      ]
    },
    {
      "cell_type": "code",
      "metadata": {
        "id": "_KEAA8i8eZ0T"
      },
      "source": [
        "Wp = np.matmul(Bi,W.T)"
      ],
      "execution_count": null,
      "outputs": []
    },
    {
      "cell_type": "markdown",
      "metadata": {
        "id": "5aTSy89AeZ0X"
      },
      "source": [
        "Plota o gráfico da frase"
      ]
    },
    {
      "cell_type": "code",
      "metadata": {
        "id": "U5w1aBbweZ0Y",
        "colab": {
          "base_uri": "https://localhost:8080/",
          "height": 428
        },
        "outputId": "b166f100-2fe5-4854-d0c6-6da7c37caeef"
      },
      "source": [
        "# Aumenta o tamanho da plotagem do gráfico\n",
        "plt.figure(figsize=(12,7))\n",
        "plt.axhline(color='black')\n",
        "plt.axvline(color='black')\n",
        "plt.scatter(Wp[0,:], Wp[1,:], label=texto)\n",
        "rX = max(Wp[0,:])-min(Wp[0,:])\n",
        "rY = max(Wp[1,:])-min(Wp[1,:])\n",
        "rM = max(rX, rY)\n",
        "eps = 0.005\n",
        "for i, token in enumerate(texto_tokenizado):\n",
        "    if token in ['[CLS]', '[SEP]']:\n",
        "        plt.annotate(token, (Wp[0,i]+rX*eps, Wp[1,i]+rX*eps))\n",
        "    if token in ['mang', '##a']:\n",
        "        plt.annotate(token, (Wp[0,i]+rX*eps*-6, Wp[1,i]+rX*eps*3))\n",
        "    if i>0:\n",
        "        plt.arrow(Wp[0,i-1],Wp[1,i-1], Wp[0,i]-Wp[0,i-1], Wp[1,i]-Wp[1,i-1], color='lightblue', head_length=rM*eps*3, head_width=rM*eps*2, length_includes_head=True)\n",
        "plt.legend()\n",
        "\n",
        "# Mostra o gráfico\n",
        "plt.show()"
      ],
      "execution_count": null,
      "outputs": [
        {
          "output_type": "display_data",
          "data": {
            "image/png": "[encoded data removed]",
            "text/plain": [
              "<Figure size 864x504 with 1 Axes>"
            ]
          },
          "metadata": {
            "tags": [],
            "needs_background": "light"
          }
        }
      ]
    },
    {
      "cell_type": "markdown",
      "metadata": {
        "id": "lk68vOCFeZ0b"
      },
      "source": [
        "### Comparando as orações\n",
        "\n",
        "Dividindo a frase em três orações."
      ]
    },
    {
      "cell_type": "code",
      "metadata": {
        "id": "lS_bBTeVeZ0c",
        "colab": {
          "base_uri": "https://localhost:8080/",
          "height": 479
        },
        "outputId": "2ee8b189-651a-40b5-d5c4-75f4b65fad8d"
      },
      "source": [
        "texto = [\"João adora manga.\", \"Ele pediu sorvete de manga como sobremesa.\", \"João sujou a manga da camisa.\"]\n",
        "colors = ['blue', 'red', 'green']\n",
        "\n",
        "# Aumenta o tamanho da plotagem do gráfico\n",
        "plt.figure(figsize=(12,7))\n",
        "plt.axhline(color='black')\n",
        "plt.axvline(color='black')\n",
        "for n,frase in enumerate(texto):\n",
        "    Wp, tokens = getEmbeddingsVisual(frase, model, tokenizer)\n",
        "    print(tokens)\n",
        "    plt.scatter(Wp[0,:], Wp[1,:], color=colors[n], marker='x', label=frase)\n",
        "    rX = max(Wp[0,:])-min(Wp[0,:])\n",
        "    rY = max(Wp[1,:])-min(Wp[1,:])\n",
        "    rM = max(rX, rY)\n",
        "    eps = 0.005\n",
        "    eps2 = 0.005\n",
        "    for i, token in enumerate(tokens):\n",
        "        if token in ['[CLS]', '[SEP]']:\n",
        "            plt.annotate(token, (Wp[0,i]+rX*eps, Wp[1,i]+rX*eps))\n",
        "        if token in ['mang', '##a']:\n",
        "            plt.annotate(token, (Wp[0,i]+rX*eps*-6, Wp[1,i]+rX*eps*3))\n",
        "        if i>0:\n",
        "            plt.arrow(Wp[0,i-1],Wp[1,i-1], Wp[0,i]-Wp[0,i-1], Wp[1,i]-Wp[1,i-1], color=colors[n], head_length=rM*eps2*4, head_width=rM*eps2*2, length_includes_head=True)\n",
        "plt.legend()\n",
        "\n",
        "# Mostra o gráfico\n",
        "plt.show()       "
      ],
      "execution_count": null,
      "outputs": [
        {
          "output_type": "stream",
          "text": [
            "['[CLS]', 'João', 'ado', '##ra', 'mang', '##a', '.', '[SEP]']\n",
            "['[CLS]', 'Ele', 'pediu', 'sor', '##vete', 'de', 'mang', '##a', 'como', 'sobre', '##mes', '##a', '.', '[SEP]']\n",
            "['[CLS]', 'João', 'suj', '##ou', 'a', 'mang', '##a', 'da', 'camisa', '.', '[SEP]']\n"
          ],
          "name": "stdout"
        },
        {
          "output_type": "display_data",
          "data": {
            "image/png": "[encoded data removed]",
            "text/plain": [
              "<Figure size 864x504 with 1 Axes>"
            ]
          },
          "metadata": {
            "tags": [],
            "needs_background": "light"
          }
        }
      ]
    },
    {
      "cell_type": "markdown",
      "metadata": {
        "id": "KyQXv6mG7VfD"
      },
      "source": [
        "## 8 - Exemplo palavra \"cabeça\""
      ]
    },
    {
      "cell_type": "markdown",
      "metadata": {
        "id": "s2nTT3yN7VfG"
      },
      "source": [
        "Outro exemplo"
      ]
    },
    {
      "cell_type": "code",
      "metadata": {
        "id": "bLqis5377VfH",
        "colab": {
          "base_uri": "https://localhost:8080/"
        },
        "outputId": "e030c3ca-4fed-4762-c151-225b71409866"
      },
      "source": [
        "# Define um sentença de exemplo com diversos siginificados da palavra  \"cabeça\"\n",
        "texto = \"Não estou com cabeça para isto no momento. Estou com a minha cabeça doendo. Você será o cabeça do projeto.\"\n",
        "\n",
        "# Adiciona os tokens especiais\n",
        "texto_marcado = \"[CLS] \" + texto + \" [SEP]\"\n",
        "\n",
        "# Divide a sentença em tokens\n",
        "texto_tokenizado = tokenizer.tokenize(texto_marcado)\n",
        "\n",
        "# Mapeia os tokens em seus índices do vocabulário\n",
        "tokens_indexados = tokenizer.convert_tokens_to_ids(texto_tokenizado)\n",
        "\n",
        "# Mostra os tokens com seus índices\n",
        "i = 0\n",
        "for tup in zip(texto_tokenizado, tokens_indexados):\n",
        "    print('{:>3} {:<12} {:>6,}'.format(i, tup[0], tup[1]))\n",
        "    i= i + 1"
      ],
      "execution_count": null,
      "outputs": [
        {
          "output_type": "stream",
          "text": [
            "  0 [CLS]           101\n",
            "  1 Não           2,542\n",
            "  2 estou        12,044\n",
            "  3 com             170\n",
            "  4 cabeça        3,827\n",
            "  5 para            221\n",
            "  6 isto          3,413\n",
            "  7 no              202\n",
            "  8 momento       2,182\n",
            "  9 .               119\n",
            " 10 Est           9,009\n",
            " 11 ##ou            203\n",
            " 12 com             170\n",
            " 13 a               123\n",
            " 14 minha         7,122\n",
            " 15 cabeça        3,827\n",
            " 16 do              171\n",
            " 17 ##endo        1,825\n",
            " 18 .               119\n",
            " 19 Você         11,976\n",
            " 20 será          2,810\n",
            " 21 o               146\n",
            " 22 cabeça        3,827\n",
            " 23 do              171\n",
            " 24 projeto       1,778\n",
            " 25 .               119\n",
            " 26 [SEP]           102\n"
          ],
          "name": "stdout"
        }
      ]
    },
    {
      "cell_type": "markdown",
      "metadata": {
        "id": "GHkrhgbx7VfM"
      },
      "source": [
        "Segmentos"
      ]
    },
    {
      "cell_type": "code",
      "metadata": {
        "id": "1sdYdNXc7VfN",
        "colab": {
          "base_uri": "https://localhost:8080/"
        },
        "outputId": "3f48adfd-b0c1-4f26-cc37-16f2262fd48a"
      },
      "source": [
        "# Marca cada um dos tokens como pertencentes à frase \"1\".\n",
        "segmentos_ids = [1] * len(texto_tokenizado)\n",
        "\n",
        "print (segmentos_ids)\n",
        "print (len(segmentos_ids))"
      ],
      "execution_count": null,
      "outputs": [
        {
          "output_type": "stream",
          "text": [
            "[1, 1, 1, 1, 1, 1, 1, 1, 1, 1, 1, 1, 1, 1, 1, 1, 1, 1, 1, 1, 1, 1, 1, 1, 1, 1, 1]\n",
            "27\n"
          ],
          "name": "stdout"
        }
      ]
    },
    {
      "cell_type": "markdown",
      "metadata": {
        "id": "U1aaKMqI7VfT"
      },
      "source": [
        "Convertendo as listas em tensores"
      ]
    },
    {
      "cell_type": "code",
      "metadata": {
        "id": "xQRRfwND7VfU"
      },
      "source": [
        "# Import da bibliteca\n",
        "import torch\n",
        "\n",
        "# Converte as entradas de listas para tensores do torch\n",
        "tokens_tensores = torch.as_tensor([tokens_indexados])\n",
        "segmentos_tensores = torch.as_tensor([segmentos_ids])"
      ],
      "execution_count": null,
      "outputs": []
    },
    {
      "cell_type": "markdown",
      "metadata": {
        "id": "1yLa54Dd7VfY"
      },
      "source": [
        "Gera os embeddings para a frase. Guarda somente a última camada da rede em `outputs`.\n"
      ]
    },
    {
      "cell_type": "code",
      "metadata": {
        "id": "avyuAWJq7VfY"
      },
      "source": [
        "# Prediz os atributos dos estados ocultos para cada camada\n",
        "with torch.no_grad():\n",
        "    #output[0] contém last_hidden_states\n",
        "    outputs = model(tokens_tensores, segmentos_tensores)"
      ],
      "execution_count": null,
      "outputs": []
    },
    {
      "cell_type": "markdown",
      "metadata": {
        "id": "nXM0O1HI7Vfc"
      },
      "source": [
        "Recupera a saída"
      ]
    },
    {
      "cell_type": "code",
      "metadata": {
        "id": "7ask9T177Vfd",
        "colab": {
          "base_uri": "https://localhost:8080/"
        },
        "outputId": "2c70a55d-5f1a-46f2-f02b-b703a09919f3"
      },
      "source": [
        "# Recupera a última e única camada da saída\n",
        "last_hidden_states = outputs[0]\n",
        "\n",
        "print (\"O vetor da última camada oculta tem o formato:\", last_hidden_states.size())"
      ],
      "execution_count": null,
      "outputs": [
        {
          "output_type": "stream",
          "text": [
            "O vetor da última camada oculta tem o formato: torch.Size([1, 27, 1024])\n"
          ],
          "name": "stdout"
        }
      ]
    },
    {
      "cell_type": "markdown",
      "metadata": {
        "id": "giaBjsjY7Vfh"
      },
      "source": [
        "intervalo de valores para uma determinada camada e token."
      ]
    },
    {
      "cell_type": "code",
      "metadata": {
        "id": "xKNlV1IU7Vfh",
        "colab": {
          "base_uri": "https://localhost:8080/",
          "height": 609
        },
        "outputId": "20e85aca-6480-4701-a149-0cd84fabe1f6"
      },
      "source": [
        "# Import da biblioteca gráfica\n",
        "import matplotlib.pyplot as plt\n",
        "%matplotlib inline\n",
        "\n",
        "# Plota os tokens da sentenca\n",
        "token_i = 4\n",
        "layer_i = 0\n",
        "\n",
        "# Recupera o vetor de embeddings da última camada para o token\n",
        "vec = last_hidden_states[layer_i][token_i]\n",
        "\n",
        "# Mostra a palavra do token_i\n",
        "print((texto_tokenizado[token_i], tokens_indexados[token_i]))\n",
        "\n",
        "# Aumenta o tamanho da plotagem do gráfico\n",
        "plt.figure(figsize=(15,10))\n",
        "\n",
        "# Cria o histograma com 200 classes\n",
        "plt.hist(vec, bins=200)\n",
        "\n",
        "# Mostra o gráfico\n",
        "plt.show()"
      ],
      "execution_count": null,
      "outputs": [
        {
          "output_type": "stream",
          "text": [
            "('cabeça', 3827)\n"
          ],
          "name": "stdout"
        },
        {
          "output_type": "display_data",
          "data": {
            "image/png": "[encoded data removed]",
            "text/plain": [
              "<Figure size 1080x720 with 1 Axes>"
            ]
          },
          "metadata": {
            "tags": [],
            "needs_background": "light"
          }
        }
      ]
    },
    {
      "cell_type": "markdown",
      "metadata": {
        "id": "5zL9St9e7Vfl"
      },
      "source": [
        "Vamos nos livrar da dimensão lotes \"batches\", pois não precisamos dela."
      ]
    },
    {
      "cell_type": "code",
      "metadata": {
        "id": "cP4Ez1Y57Vfm",
        "colab": {
          "base_uri": "https://localhost:8080/"
        },
        "outputId": "8ff8ce31-722e-4349-f841-7e2dc49ff9a7"
      },
      "source": [
        "# Remove a dimensão 1, o lote \"batches\".\n",
        "#O método squeeze remove a primeira dimensão(0) pois possui tamanho 1\n",
        "token_embeddings = torch.squeeze(last_hidden_states, dim=0)\n",
        "\n",
        "print (\"O vetor de tokens de embedding da senteça tem o formato:\", token_embeddings.size())"
      ],
      "execution_count": null,
      "outputs": [
        {
          "output_type": "stream",
          "text": [
            "O vetor de tokens de embedding da senteça tem o formato: torch.Size([27, 1024])\n"
          ],
          "name": "stdout"
        }
      ]
    },
    {
      "cell_type": "markdown",
      "metadata": {
        "id": "Hw4a6L2O7Vfx"
      },
      "source": [
        "Confirmando vetores dependentes do contexto\n"
      ]
    },
    {
      "cell_type": "code",
      "metadata": {
        "id": "Rl6MPKS-7Vfx",
        "colab": {
          "base_uri": "https://localhost:8080/"
        },
        "outputId": "4f310135-1c3b-4550-f1de-ff7448af0e29"
      },
      "source": [
        "for i, token_str in enumerate(texto_tokenizado):\n",
        "  print (i, token_str)"
      ],
      "execution_count": null,
      "outputs": [
        {
          "output_type": "stream",
          "text": [
            "0 [CLS]\n",
            "1 Não\n",
            "2 estou\n",
            "3 com\n",
            "4 cabeça\n",
            "5 para\n",
            "6 isto\n",
            "7 no\n",
            "8 momento\n",
            "9 .\n",
            "10 Est\n",
            "11 ##ou\n",
            "12 com\n",
            "13 a\n",
            "14 minha\n",
            "15 cabeça\n",
            "16 do\n",
            "17 ##endo\n",
            "18 .\n",
            "19 Você\n",
            "20 será\n",
            "21 o\n",
            "22 cabeça\n",
            "23 do\n",
            "24 projeto\n",
            "25 .\n",
            "26 [SEP]\n"
          ],
          "name": "stdout"
        }
      ]
    },
    {
      "cell_type": "markdown",
      "metadata": {
        "id": "iaEqCWhiZSIh"
      },
      "source": [
        "Exibe os embenddings das palavras"
      ]
    },
    {
      "cell_type": "code",
      "metadata": {
        "id": "69Y9F5tS7Vf1",
        "colab": {
          "base_uri": "https://localhost:8080/"
        },
        "outputId": "554c4a42-5240-4a5c-a402-fc3c6dbe85e0"
      },
      "source": [
        "# Índice das palavras a serem comparadas\n",
        "palavra1 = 4\n",
        "palavra2 = 15\n",
        "palavra3 = 22\n",
        "\n",
        "print('Os primeiros 5 valores de cada instância de cabeça.')\n",
        "print('')\n",
        "print(texto_tokenizado[palavra1], str(token_embeddings[palavra1][:5]))\n",
        "print(texto_tokenizado[palavra2], str(token_embeddings[palavra2][:5]))\n",
        "print(texto_tokenizado[palavra3], str(token_embeddings[palavra3][:5]))"
      ],
      "execution_count": null,
      "outputs": [
        {
          "output_type": "stream",
          "text": [
            "Os primeiros 5 valores de cada instância de cabeça.\n",
            "\n",
            "cabeça tensor([ 0.4464,  0.3748,  0.2680,  0.0195, -1.2472])\n",
            "cabeça tensor([ 0.1273, -0.5633,  0.0407, -0.1026, -0.9482])\n",
            "cabeça tensor([-0.4682, -0.0873,  0.1142, -0.0079,  0.7419])\n"
          ],
          "name": "stdout"
        }
      ]
    },
    {
      "cell_type": "markdown",
      "metadata": {
        "id": "Ch_AqNoQl6WJ"
      },
      "source": [
        "### Comparando as palavras das frases\n",
        "\n",
        "Podemos ver que os valores diferem, mas vamos calcular a semelhança de cosseno entre os vetores para fazer uma comparação mais precisa."
      ]
    },
    {
      "cell_type": "code",
      "metadata": {
        "id": "gUIA2Ep87Vf5",
        "colab": {
          "base_uri": "https://localhost:8080/"
        },
        "outputId": "503a1e72-0ab0-4ed1-f972-863bcde3b8fd"
      },
      "source": [
        "from scipy.spatial.distance import cosine\n",
        "\n",
        "print(\"Período:\", texto)\n",
        "print(\"Palavra1=\", palavra1, \"=\", texto_tokenizado[palavra1], \"(corpo)\")\n",
        "print(\"Palavra2=\", palavra2, \"=\", texto_tokenizado[palavra2], \"(corpo)\")\n",
        "print(\"Palavra3=\", palavra3, \"=\", texto_tokenizado[palavra3], \"(lider)\")\n",
        "\n",
        "# Calcula a similaridade de coseno entre as palavras cabeça\n",
        "# Em \"cabeça doendo\" versus \"cabeça do projeto\" (diferentes significados).\n",
        "diferente1 = 1 - cosine(token_embeddings[palavra2], token_embeddings[palavra3])\n",
        "\n",
        "print('Vetor de similaridade para diferentes significados(',palavra2,',',palavra3,'):  %.2f' % diferente1)\n",
        "\n",
        "# Calcula a similaridade de coseno entre as palavras cabeça\n",
        "# Em \"cabeça doendo\" versus \"com cabeça\" (mesmo significado).\n",
        "mesmo = 1 - cosine(token_embeddings[palavra2], token_embeddings[palavra1])\n",
        "\n",
        "print('Vetor de similaridade para mesmo significado(',palavra2,',',palavra1,'):  %.2f' % mesmo)\n",
        "\n",
        "# Calcula a similaridade de coseno entre as palavras cabeça\n",
        "# Em \"com cabeça\" versus \"cabeça do projeto\" (diferente significados).\n",
        "diferente2 = 1 - cosine(token_embeddings[palavra1], token_embeddings[palavra3])\n",
        "\n",
        "print('Vetor de similaridade para diferentes significados(',palavra1,',',palavra3,'):  %.2f' % diferente2)"
      ],
      "execution_count": null,
      "outputs": [
        {
          "output_type": "stream",
          "text": [
            "Período: Não estou com cabeça para isto no momento. Estou com a minha cabeça doendo. Você será o cabeça do projeto.\n",
            "Palavra1= 4 = cabeça (corpo)\n",
            "Palavra2= 15 = cabeça (corpo)\n",
            "Palavra3= 22 = cabeça (lider)\n",
            "Vetor de similaridade para diferentes significados( 15 , 22 ):  0.72\n",
            "Vetor de similaridade para mesmo significado( 15 , 4 ):  0.84\n",
            "Vetor de similaridade para diferentes significados( 4 , 22 ):  0.73\n"
          ],
          "name": "stdout"
        }
      ]
    },
    {
      "cell_type": "markdown",
      "metadata": {
        "id": "kgmVMAMtehKo"
      },
      "source": [
        "### Visualizando a Frase\n",
        "\n",
        "Aqui, queremos mostrar a conexão entre os tokens de uma frase usando a incorporação do BERT. Plotamos as inserções dos tokens em um subespaço, onde (0,1) e (1,0) são os marcadores de partida [CLS] e [SEP] e marcadores finais e finais da frase."
      ]
    },
    {
      "cell_type": "code",
      "metadata": {
        "id": "iZcGwGAvehKr"
      },
      "source": [
        "# Importa da bibliotecas\n",
        "import numpy as np\n",
        "import torch\n",
        "\n",
        "import matplotlib.pyplot as plt\n",
        "%matplotlib inline"
      ],
      "execution_count": null,
      "outputs": []
    },
    {
      "cell_type": "markdown",
      "metadata": {
        "id": "3E7lNVtwehK1"
      },
      "source": [
        "Transforma  o vetor de embendings em um array."
      ]
    },
    {
      "cell_type": "code",
      "metadata": {
        "id": "SfHIqgySehK2"
      },
      "source": [
        "# Transforma tokens embeddings em um array\n",
        "embeddings = token_embeddings.numpy()"
      ],
      "execution_count": null,
      "outputs": []
    },
    {
      "cell_type": "markdown",
      "metadata": {
        "id": "iaVi8UqLehK6"
      },
      "source": [
        "Base selecionada para que o [CLS] e o [SEP] passem para (0,1) e (1,0)"
      ]
    },
    {
      "cell_type": "code",
      "metadata": {
        "id": "PgePXuN-ehK6"
      },
      "source": [
        "# Converte para um array\n",
        "W = np.array(embeddings)\n",
        "# Transforma em um array\n",
        "B = np.array([embeddings[0], embeddings[-1]])\n",
        "# Inverte B.T\n",
        "Bi = np.linalg.pinv(B.T)"
      ],
      "execution_count": null,
      "outputs": []
    },
    {
      "cell_type": "markdown",
      "metadata": {
        "id": "B9r2VEeaehK-"
      },
      "source": [
        "Projeta os tokens da palavra no subespaço"
      ]
    },
    {
      "cell_type": "code",
      "metadata": {
        "id": "eTweFZtbehK_"
      },
      "source": [
        "Wp = np.matmul(Bi,W.T)"
      ],
      "execution_count": null,
      "outputs": []
    },
    {
      "cell_type": "markdown",
      "metadata": {
        "id": "ZSkg8nl-ehLC"
      },
      "source": [
        "Plota o gráfico da frase"
      ]
    },
    {
      "cell_type": "code",
      "metadata": {
        "id": "n06aXdYaehLD",
        "colab": {
          "base_uri": "https://localhost:8080/",
          "height": 428
        },
        "outputId": "d0dca8dc-e385-4d2e-f269-fdb23f78c53a"
      },
      "source": [
        "# Aumenta o tamanho da plotagem do gráfico\n",
        "plt.figure(figsize=(12,7))\n",
        "plt.axhline(color='black')\n",
        "plt.axvline(color='black')\n",
        "plt.scatter(Wp[0,:], Wp[1,:], label=texto)\n",
        "rX = max(Wp[0,:])-min(Wp[0,:])\n",
        "rY = max(Wp[1,:])-min(Wp[1,:])\n",
        "rM = max(rX, rY)\n",
        "eps = 0.005\n",
        "for i, token in enumerate(texto_tokenizado):\n",
        "    if token in ['[CLS]', '[SEP]']:\n",
        "        plt.annotate(token, (Wp[0,i]+rX*eps, Wp[1,i]+rX*eps))  \n",
        "    if token == 'cabeça':\n",
        "        plt.annotate(token, (Wp[0,i]+rX*eps*-6, Wp[1,i]+rX*eps*3))\n",
        "    if i>0:\n",
        "        plt.arrow(Wp[0,i-1],Wp[1,i-1], Wp[0,i]-Wp[0,i-1], Wp[1,i]-Wp[1,i-1], color='lightblue', head_length=rM*eps*3, head_width=rM*eps*2, length_includes_head=True)\n",
        "plt.legend()\n",
        "\n",
        "# Mostra o gráfico\n",
        "plt.show()"
      ],
      "execution_count": null,
      "outputs": [
        {
          "output_type": "display_data",
          "data": {
            "image/png": "[encoded data removed]",
            "text/plain": [
              "<Figure size 864x504 with 1 Axes>"
            ]
          },
          "metadata": {
            "tags": [],
            "needs_background": "light"
          }
        }
      ]
    },
    {
      "cell_type": "markdown",
      "metadata": {
        "id": "jMMgoYhxehLI"
      },
      "source": [
        "### Comparando as orações\n",
        "\n",
        "Dividindo a frase em três orações."
      ]
    },
    {
      "cell_type": "code",
      "metadata": {
        "id": "X75z4mJTehLI",
        "colab": {
          "base_uri": "https://localhost:8080/",
          "height": 479
        },
        "outputId": "24c743bb-0826-41a5-cbcd-a87644349bcb"
      },
      "source": [
        "texto = [\"Não estou com cabeça para isto no momento.\", \"Estou com a minha cabeça doendo.\", \"Você será o cabeça do projeto.\"]\n",
        "colors = ['blue', 'red', 'green']\n",
        "# Aumenta o tamanho da plotagem do gráfico\n",
        "plt.figure(figsize=(12,7))\n",
        "plt.axhline(color='black')\n",
        "plt.axvline(color='black')\n",
        "for n,frase in enumerate(texto):\n",
        "    Wp, tokens = getEmbeddingsVisual(frase, model, tokenizer)\n",
        "    print(tokens)\n",
        "    plt.scatter(Wp[0,:], Wp[1,:], color=colors[n], marker='x', label=frase)\n",
        "    rX = max(Wp[0,:])-min(Wp[0,:])\n",
        "    rY = max(Wp[1,:])-min(Wp[1,:])\n",
        "    rM = max(rX, rY)\n",
        "    eps = 0.005\n",
        "    eps2 = 0.005\n",
        "    for i, token in enumerate(tokens):\n",
        "        if token in ['[CLS]', '[SEP]']:\n",
        "            plt.annotate(token, (Wp[0,i]+rX*eps, Wp[1,i]+rX*eps))\n",
        "        if token == 'cabeça':\n",
        "            plt.annotate(token, (Wp[0,i]+rX*eps*-6, Wp[1,i]+rX*eps*3))\n",
        "        if i>0:\n",
        "            plt.arrow(Wp[0,i-1],Wp[1,i-1], Wp[0,i]-Wp[0,i-1], Wp[1,i]-Wp[1,i-1], color=colors[n], head_length=rM*eps2*4, head_width=rM*eps2*2, length_includes_head=True)\n",
        "plt.legend()\n",
        "\n",
        "# Mostra o gráfico\n",
        "plt.show()       "
      ],
      "execution_count": null,
      "outputs": [
        {
          "output_type": "stream",
          "text": [
            "['[CLS]', 'Não', 'estou', 'com', 'cabeça', 'para', 'isto', 'no', 'momento', '.', '[SEP]']\n",
            "['[CLS]', 'Est', '##ou', 'com', 'a', 'minha', 'cabeça', 'do', '##endo', '.', '[SEP]']\n",
            "['[CLS]', 'Você', 'será', 'o', 'cabeça', 'do', 'projeto', '.', '[SEP]']\n"
          ],
          "name": "stdout"
        },
        {
          "output_type": "display_data",
          "data": {
            "image/png": "[encoded data removed]",
            "text/plain": [
              "<Figure size 864x504 with 1 Axes>"
            ]
          },
          "metadata": {
            "tags": [],
            "needs_background": "light"
          }
        }
      ]
    },
    {
      "cell_type": "markdown",
      "metadata": {
        "id": "WqfyR0iac8z-"
      },
      "source": [
        "## 9 - Exemplo palavra \"pilha\""
      ]
    },
    {
      "cell_type": "markdown",
      "metadata": {
        "id": "hZv9zGpRc8z_"
      },
      "source": [
        "Outro exemplo"
      ]
    },
    {
      "cell_type": "code",
      "metadata": {
        "id": "xLvUd0doc80A",
        "colab": {
          "base_uri": "https://localhost:8080/"
        },
        "outputId": "36010b8b-ee81-4be0-9b78-0b8b31fec47e"
      },
      "source": [
        "# Define um sentença de exemplo com diversos siginificados da palavra  \"pilha\"\n",
        "texto = \"O que é uma pilha?\" \\\n",
        "        \"O que é a estrutura de dados pilha?\" \\\n",
        "        \"Como desempilhar dados de uma pilha?\" \\\n",
        "        \"Quantos tamanhos existem da pilha de 1.5 volts?\"\n",
        "        \n",
        "# Adiciona os tokens especiais\n",
        "texto_marcado = \"[CLS] \" + texto + \" [SEP]\"\n",
        "\n",
        "# Divide a sentença em tokens\n",
        "texto_tokenizado = tokenizer.tokenize(texto_marcado)\n",
        "\n",
        "# Mapeia os tokens em seus índices do vocabulário\n",
        "tokens_indexados = tokenizer.convert_tokens_to_ids(texto_tokenizado)\n",
        "\n",
        "# Mostra os tokens com seus índices\n",
        "i = 0\n",
        "for tup in zip(texto_tokenizado, tokens_indexados):\n",
        "    print('{:>3} {:<12} {:>6,}'.format(i, tup[0], tup[1]))\n",
        "    i= i + 1"
      ],
      "execution_count": null,
      "outputs": [
        {
          "output_type": "stream",
          "text": [
            "  0 [CLS]           101\n",
            "  1 O               231\n",
            "  2 que             179\n",
            "  3 é               253\n",
            "  4 uma             230\n",
            "  5 pilha        18,720\n",
            "  6 ?               136\n",
            "  7 O               231\n",
            "  8 que             179\n",
            "  9 é               253\n",
            " 10 a               123\n",
            " 11 estrutura     2,388\n",
            " 12 de              125\n",
            " 13 dados         2,391\n",
            " 14 pilha        18,720\n",
            " 15 ?               136\n",
            " 16 Como          1,602\n",
            " 17 desem         2,184\n",
            " 18 ##pi          6,720\n",
            " 19 ##l          22,290\n",
            " 20 ##har         2,430\n",
            " 21 dados         2,391\n",
            " 22 de              125\n",
            " 23 uma             230\n",
            " 24 pilha        18,720\n",
            " 25 ?               136\n",
            " 26 Quanto        9,740\n",
            " 27 ##s          22,281\n",
            " 28 tamanhos     18,577\n",
            " 29 existem       3,572\n",
            " 30 da              180\n",
            " 31 pilha        18,720\n",
            " 32 de              125\n",
            " 33 1               205\n",
            " 34 .               119\n",
            " 35 5               732\n",
            " 36 vol             781\n",
            " 37 ##ts          1,355\n",
            " 38 ?               136\n",
            " 39 [SEP]           102\n"
          ],
          "name": "stdout"
        }
      ]
    },
    {
      "cell_type": "markdown",
      "metadata": {
        "id": "BxApTzY3c80E"
      },
      "source": [
        "Segmentos"
      ]
    },
    {
      "cell_type": "code",
      "metadata": {
        "id": "S0bv5xWBc80E",
        "colab": {
          "base_uri": "https://localhost:8080/"
        },
        "outputId": "4c97a2f0-49ca-497b-ca0a-a040819727a6"
      },
      "source": [
        "# Marca cada um dos tokens como pertencentes à frase \"1\".\n",
        "segmentos_ids = [1] * len(texto_tokenizado)\n",
        "\n",
        "print (segmentos_ids)\n",
        "print (len(segmentos_ids))"
      ],
      "execution_count": null,
      "outputs": [
        {
          "output_type": "stream",
          "text": [
            "[1, 1, 1, 1, 1, 1, 1, 1, 1, 1, 1, 1, 1, 1, 1, 1, 1, 1, 1, 1, 1, 1, 1, 1, 1, 1, 1, 1, 1, 1, 1, 1, 1, 1, 1, 1, 1, 1, 1, 1]\n",
            "40\n"
          ],
          "name": "stdout"
        }
      ]
    },
    {
      "cell_type": "markdown",
      "metadata": {
        "id": "6ZvedV-oc80H"
      },
      "source": [
        "Convertendo as listas em tensores"
      ]
    },
    {
      "cell_type": "code",
      "metadata": {
        "id": "NfbaIhjIc80H"
      },
      "source": [
        "# Importa a bibliteca\n",
        "import torch\n",
        "\n",
        "# Converte as entradas de listas para tensores do torch\n",
        "tokens_tensores = torch.as_tensor([tokens_indexados])\n",
        "segmentos_tensores = torch.as_tensor([segmentos_ids])"
      ],
      "execution_count": null,
      "outputs": []
    },
    {
      "cell_type": "markdown",
      "metadata": {
        "id": "yi-h0cLbc80J"
      },
      "source": [
        "Gera os embeddings para a frase. Guarda somente a última camada da rede em `outputs`.\n"
      ]
    },
    {
      "cell_type": "code",
      "metadata": {
        "id": "7cMY8UGXc80K"
      },
      "source": [
        "# Prediz os atributos dos estados ocultos para cada camada\n",
        "with torch.no_grad():\n",
        "    # output[0] contém last_hidden_states\n",
        "    outputs = model(tokens_tensores, segmentos_tensores)"
      ],
      "execution_count": null,
      "outputs": []
    },
    {
      "cell_type": "markdown",
      "metadata": {
        "id": "blAKE5mFc80M"
      },
      "source": [
        "Recupera a saída"
      ]
    },
    {
      "cell_type": "code",
      "metadata": {
        "id": "4etDevSLc80M",
        "colab": {
          "base_uri": "https://localhost:8080/"
        },
        "outputId": "118a2527-dd57-48cc-b9ec-92852b60bd22"
      },
      "source": [
        "# Recupera a última e única camada da saída\n",
        "last_hidden_states = outputs[0]\n",
        "\n",
        "print (\"O vetor da última camada oculta tem o formato:\", last_hidden_states.size())"
      ],
      "execution_count": null,
      "outputs": [
        {
          "output_type": "stream",
          "text": [
            "O vetor da última camada oculta tem o formato: torch.Size([1, 40, 1024])\n"
          ],
          "name": "stdout"
        }
      ]
    },
    {
      "cell_type": "markdown",
      "metadata": {
        "id": "HbOk27Zxc80O"
      },
      "source": [
        "intervalo de valores para uma determinada camada e token."
      ]
    },
    {
      "cell_type": "code",
      "metadata": {
        "id": "OJzwETMEc80P",
        "colab": {
          "base_uri": "https://localhost:8080/",
          "height": 609
        },
        "outputId": "c3853202-fc33-4f64-bbf8-b1fa588d4d98"
      },
      "source": [
        "# Import da biblioteca gráfica\n",
        "import matplotlib.pyplot as plt\n",
        "%matplotlib inline\n",
        "\n",
        "# Plota os tokens da sentenca\n",
        "token_i = 5\n",
        "layer_i = 0\n",
        "\n",
        "# Recupera o vetor de embeddings da última camada para o token\n",
        "vec = last_hidden_states[layer_i][token_i]\n",
        "\n",
        "# Mostra a palavra do token_i\n",
        "print((texto_tokenizado[token_i], tokens_indexados[token_i]))\n",
        "\n",
        "# Aumenta o tamanho da plotagem do gráfico\n",
        "plt.figure(figsize=(15,10))\n",
        "\n",
        "# Cria o histograma com 200 classes\n",
        "plt.hist(vec, bins=200)\n",
        "\n",
        "# Mostra o gráfico\n",
        "plt.show()"
      ],
      "execution_count": null,
      "outputs": [
        {
          "output_type": "stream",
          "text": [
            "('pilha', 18720)\n"
          ],
          "name": "stdout"
        },
        {
          "output_type": "display_data",
          "data": {
            "image/png": "[encoded data removed]",
            "text/plain": [
              "<Figure size 1080x720 with 1 Axes>"
            ]
          },
          "metadata": {
            "tags": [],
            "needs_background": "light"
          }
        }
      ]
    },
    {
      "cell_type": "markdown",
      "metadata": {
        "id": "wi501jSUc80R"
      },
      "source": [
        "Vamos nos livrar da dimensão lotes \"batches\", pois não precisamos dela."
      ]
    },
    {
      "cell_type": "code",
      "metadata": {
        "id": "gcDcKVnXc80R",
        "colab": {
          "base_uri": "https://localhost:8080/"
        },
        "outputId": "052f1267-420a-452e-c025-bcffc77965cb"
      },
      "source": [
        "# Remove a dimensão 1, o lote \"batches\".\n",
        "#O método squeeze remove a primeira dimensão(0) pois possui tamanho 1\n",
        "token_embeddings = torch.squeeze(last_hidden_states, dim=0)\n",
        "\n",
        "print (\"O vetor de tokens de embedding da senteça tem o formato:\", token_embeddings.size())"
      ],
      "execution_count": null,
      "outputs": [
        {
          "output_type": "stream",
          "text": [
            "O vetor de tokens de embedding da senteça tem o formato: torch.Size([40, 1024])\n"
          ],
          "name": "stdout"
        }
      ]
    },
    {
      "cell_type": "markdown",
      "metadata": {
        "id": "1wGUTzlsc80W"
      },
      "source": [
        "Confirmando vetores dependentes do contexto\n"
      ]
    },
    {
      "cell_type": "code",
      "metadata": {
        "id": "tmH3SJjQc80X",
        "colab": {
          "base_uri": "https://localhost:8080/"
        },
        "outputId": "0075c23b-6983-4962-d4a1-307ebc8786cd"
      },
      "source": [
        "for i, token_str in enumerate(texto_tokenizado):\n",
        "  print (i, token_str)"
      ],
      "execution_count": null,
      "outputs": [
        {
          "output_type": "stream",
          "text": [
            "0 [CLS]\n",
            "1 O\n",
            "2 que\n",
            "3 é\n",
            "4 uma\n",
            "5 pilha\n",
            "6 ?\n",
            "7 O\n",
            "8 que\n",
            "9 é\n",
            "10 a\n",
            "11 estrutura\n",
            "12 de\n",
            "13 dados\n",
            "14 pilha\n",
            "15 ?\n",
            "16 Como\n",
            "17 desem\n",
            "18 ##pi\n",
            "19 ##l\n",
            "20 ##har\n",
            "21 dados\n",
            "22 de\n",
            "23 uma\n",
            "24 pilha\n",
            "25 ?\n",
            "26 Quanto\n",
            "27 ##s\n",
            "28 tamanhos\n",
            "29 existem\n",
            "30 da\n",
            "31 pilha\n",
            "32 de\n",
            "33 1\n",
            "34 .\n",
            "35 5\n",
            "36 vol\n",
            "37 ##ts\n",
            "38 ?\n",
            "39 [SEP]\n"
          ],
          "name": "stdout"
        }
      ]
    },
    {
      "cell_type": "markdown",
      "metadata": {
        "id": "Lf1TiQUoc80Z"
      },
      "source": [
        "Exibe os embenddings das palavras"
      ]
    },
    {
      "cell_type": "code",
      "metadata": {
        "id": "h1sN04WVc80Z",
        "colab": {
          "base_uri": "https://localhost:8080/"
        },
        "outputId": "75c6bcce-bc1c-478b-82e3-ed19ed993418"
      },
      "source": [
        "# Índice das palavras a serem comparadas\n",
        "palavra1 = 5\n",
        "palavra2 = 14\n",
        "palavra3 = 24\n",
        "palavra4 = 31\n",
        "\n",
        "print('Os primeiros 5 valores de cada instância de  pilha.')\n",
        "print('')\n",
        "print(texto_tokenizado[palavra1], str(token_embeddings[palavra1][:5]))\n",
        "print(texto_tokenizado[palavra2], str(token_embeddings[palavra2][:5]))\n",
        "print(texto_tokenizado[palavra3], str(token_embeddings[palavra3][:5]))\n",
        "print(texto_tokenizado[palavra4], str(token_embeddings[palavra4][:5]))"
      ],
      "execution_count": null,
      "outputs": [
        {
          "output_type": "stream",
          "text": [
            "Os primeiros 5 valores de cada instância de  pilha.\n",
            "\n",
            "pilha tensor([-0.1323, -0.2787,  0.2553,  0.0456, -0.2391])\n",
            "pilha tensor([ 0.1932,  0.0782,  0.4853,  0.1290, -0.2755])\n",
            "pilha tensor([-0.3479, -0.4513,  0.1761, -0.1509, -0.4090])\n",
            "pilha tensor([ 0.0480, -0.3973,  0.3834,  0.0549, -0.1803])\n"
          ],
          "name": "stdout"
        }
      ]
    },
    {
      "cell_type": "markdown",
      "metadata": {
        "id": "PDZ2bZxFmDHb"
      },
      "source": [
        "### Comparando as palavras das frases\n",
        "\n",
        "Podemos ver que os valores diferem, mas vamos calcular a semelhança de cosseno entre os vetores para fazer uma comparação mais precisa."
      ]
    },
    {
      "cell_type": "code",
      "metadata": {
        "id": "HjIvNZQ1FzzR",
        "colab": {
          "base_uri": "https://localhost:8080/"
        },
        "outputId": "89495667-639e-4055-f7c4-4bd86f6e44eb"
      },
      "source": [
        "from scipy.spatial.distance import cosine\n",
        "\n",
        "print(\"Período:\", texto)\n",
        "print(\"Palavra1=\", palavra1, \"=\", texto_tokenizado[palavra1], \"(falta contexto)\")\n",
        "print(\"Palavra2=\", palavra2, \"=\", texto_tokenizado[palavra2], \"(estrutura de dados)\")\n",
        "print(\"Palavra3=\", palavra3, \"=\", texto_tokenizado[palavra3], \"(estrutura de dados)\")\n",
        "print(\"Palavra4=\", palavra4, \"=\", texto_tokenizado[palavra4], \"(bateria)\")\n",
        "\n",
        "# Calcula a similaridade de coseno entre as palavras pilha\n",
        "# Em \"pilha 1.5 volts\" versus \"pilha estrutura\" (diferentes significados).\n",
        "diferente1 = 1- cosine(token_embeddings[palavra2], token_embeddings[palavra3])\n",
        "\n",
        "print('Vetor de similaridade para mesmo significado(',palavra2,',',palavra3,'):  %.2f' % diferente1)\n",
        "\n",
        "# Calcula a similaridade de coseno entre as palavras pilha\n",
        "# Em \"pilha 1.5 volts\" versus \"com pilha\" (diferente significado).\n",
        "diferente2 = 1- cosine(token_embeddings[palavra2], token_embeddings[palavra1])\n",
        "\n",
        "print('Vetor de similaridade para diferente significado(',palavra2,',',palavra1,'):  %.2f' % diferente2)\n",
        "\n",
        "# Calcula a similaridade de coseno entre as palavras pilha\n",
        "# Em \"pilha 1.5 volts\" versus \"pilha estrutura\" (diferente significados).\n",
        "diferente3 = 1- cosine(token_embeddings[palavra1], token_embeddings[palavra3])\n",
        "\n",
        "print('Vetor de similaridade para diferentes significados(',palavra1,',',palavra3,'):  %.2f' % diferente3)\n",
        "\n",
        "# Calcula a similaridade de coseno entre as palavras pilha\n",
        "# Em \"pilha\" versus \"pilha estrutura\" (diferente significados).\n",
        "diferente4 = 1- cosine(token_embeddings[palavra3], token_embeddings[palavra4])\n",
        "\n",
        "print('Vetor de similaridade para diferentes significados(',palavra3,',',palavra4,'):  %.2f' % diferente4)\n",
        "\n",
        "# Calcula a similaridade de coseno entre as palavras pilha\n",
        "# Em \"pilha estrutura\" versus \"dados pilha\" (mesmo significados).\n",
        "diferente5 = 1- cosine(token_embeddings[palavra1], token_embeddings[palavra4])\n",
        "\n",
        "print('Vetor de similaridade para diferentes significados(',palavra1,',',palavra4,'):  %.2f' % diferente5)\n"
      ],
      "execution_count": null,
      "outputs": [
        {
          "output_type": "stream",
          "text": [
            "Período: O que é uma pilha?O que é a estrutura de dados pilha?Como desempilhar dados de uma pilha?Quantos tamanhos existem da pilha de 1.5 volts?\n",
            "Palavra1= 5 = pilha (falta contexto)\n",
            "Palavra2= 14 = pilha (estrutura de dados)\n",
            "Palavra3= 24 = pilha (estrutura de dados)\n",
            "Palavra4= 31 = pilha (bateria)\n",
            "Vetor de similaridade para mesmo significado( 14 , 24 ):  0.76\n",
            "Vetor de similaridade para diferente significado( 14 , 5 ):  0.74\n",
            "Vetor de similaridade para diferentes significados( 5 , 24 ):  0.96\n",
            "Vetor de similaridade para diferentes significados( 24 , 31 ):  0.93\n",
            "Vetor de similaridade para diferentes significados( 5 , 31 ):  0.92\n"
          ],
          "name": "stdout"
        }
      ]
    },
    {
      "cell_type": "markdown",
      "metadata": {
        "id": "X7ek3qahc80f"
      },
      "source": [
        "### Visualizando a Frase\n",
        "\n",
        "Aqui, queremos mostrar a conexão entre os tokens de uma frase usando a incorporação do BERT. Plotamos as inserções dos tokens em um subespaço, onde (0,1) e (1,0) são os marcadores de partida [CLS] e [SEP] e marcadores finais e finais da frase."
      ]
    },
    {
      "cell_type": "code",
      "metadata": {
        "id": "VGeu870mc80f"
      },
      "source": [
        "# Import das biblioteca\n",
        "import numpy as np\n",
        "import torch\n",
        "\n",
        "import matplotlib.pyplot as plt\n",
        "%matplotlib inline"
      ],
      "execution_count": null,
      "outputs": []
    },
    {
      "cell_type": "markdown",
      "metadata": {
        "id": "JAbE5dd5c80h"
      },
      "source": [
        "Transforma  o vetor de embendings em um array."
      ]
    },
    {
      "cell_type": "code",
      "metadata": {
        "id": "7gvhIT74c80i"
      },
      "source": [
        "# Transforma tokens embeddings em um array\n",
        "embeddings = token_embeddings.numpy()"
      ],
      "execution_count": null,
      "outputs": []
    },
    {
      "cell_type": "markdown",
      "metadata": {
        "id": "9OlZc9X5c80k"
      },
      "source": [
        "Base selecionada para que o [CLS] e o [SEP] passem para (0,1) e (1,0)"
      ]
    },
    {
      "cell_type": "code",
      "metadata": {
        "id": "C4mLT5d_c80k"
      },
      "source": [
        "# Converte para um array\n",
        "W = np.array(embeddings)\n",
        "# Transforma em um array\n",
        "B = np.array([embeddings[0], embeddings[-1]])\n",
        "# Inverte B.T\n",
        "Bi = np.linalg.pinv(B.T)"
      ],
      "execution_count": null,
      "outputs": []
    },
    {
      "cell_type": "markdown",
      "metadata": {
        "id": "qUpxJbV4c80m"
      },
      "source": [
        "Projeta os tokens da palavra no subespaço"
      ]
    },
    {
      "cell_type": "code",
      "metadata": {
        "id": "nu8i10vtc80m"
      },
      "source": [
        "Wp = np.matmul(Bi,W.T)"
      ],
      "execution_count": null,
      "outputs": []
    },
    {
      "cell_type": "markdown",
      "metadata": {
        "id": "GSPnpiZKc80o"
      },
      "source": [
        "Plota o gráfico da frase"
      ]
    },
    {
      "cell_type": "code",
      "metadata": {
        "id": "CjdJTcslc80p",
        "colab": {
          "base_uri": "https://localhost:8080/",
          "height": 465
        },
        "outputId": "2195dfda-7547-4b96-eb4b-aa8fe2d599d0"
      },
      "source": [
        "print(texto)\n",
        "# Aumenta o tamanho da plotagem do gráfico\n",
        "plt.figure(figsize=(12,7))\n",
        "plt.axhline(color='black')\n",
        "plt.axvline(color='black')\n",
        "plt.scatter(Wp[0,:], Wp[1,:], label=\"Pilha\")\n",
        "rX = max(Wp[0,:])-min(Wp[0,:])\n",
        "rY = max(Wp[1,:])-min(Wp[1,:])\n",
        "rM = max(rX, rY)\n",
        "eps = 0.005\n",
        "for i, token in enumerate(texto_tokenizado):\n",
        "    if token in ['[CLS]', '[SEP]']:\n",
        "        plt.annotate(token, (Wp[0,i]+rX*eps, Wp[1,i]+rX*eps))  \n",
        "    if token == 'pilha':\n",
        "        plt.annotate(token, (Wp[0,i]+rX*eps*-6, Wp[1,i]+rX*eps*3))\n",
        "    if i>0:\n",
        "        plt.arrow(Wp[0,i-1],Wp[1,i-1], Wp[0,i]-Wp[0,i-1], Wp[1,i]-Wp[1,i-1], color='lightblue', head_length=rM*eps*3, head_width=rM*eps*2, length_includes_head=True)\n",
        "plt.legend()\n",
        "\n",
        "# Mostra o gráfico\n",
        "plt.show()"
      ],
      "execution_count": null,
      "outputs": [
        {
          "output_type": "stream",
          "text": [
            "O que é uma pilha?O que é a estrutura de dados pilha?Como desempilhar dados de uma pilha?Quantos tamanhos existem da pilha de 1.5 volts?\n"
          ],
          "name": "stdout"
        },
        {
          "output_type": "display_data",
          "data": {
            "image/png": "[encoded data removed]",
            "text/plain": [
              "<Figure size 864x504 with 1 Axes>"
            ]
          },
          "metadata": {
            "tags": [],
            "needs_background": "light"
          }
        }
      ]
    },
    {
      "cell_type": "markdown",
      "metadata": {
        "id": "4JgOvygHc80r"
      },
      "source": [
        "### Comparando as orações\n",
        "\n",
        "Dividindo a frase em três orações."
      ]
    },
    {
      "cell_type": "code",
      "metadata": {
        "id": "VE6V9MXzc80s",
        "colab": {
          "base_uri": "https://localhost:8080/",
          "height": 496
        },
        "outputId": "7f2b9f9f-3603-473f-8fbe-395f487774f2"
      },
      "source": [
        "texto = [\"O que é uma pilha?\",\n",
        "        \"O que é a estrutura de dados pilha?\",\n",
        "        \"Como desempilhar dados de uma pilha?\",\n",
        "        \"Quantos tamanhos existem da pilha de 1.5 volts?\"]\n",
        "\n",
        "colors = ['blue', 'red', 'green', 'cyan']\n",
        "\n",
        "# Aumenta o tamanho da plotagem do gráfico\n",
        "plt.figure(figsize=(12,7))\n",
        "plt.axhline(color='black')\n",
        "plt.axvline(color='black')\n",
        "for n,frase in enumerate(texto):\n",
        "    Wp, tokens = getEmbeddingsVisual(frase, model, tokenizer)\n",
        "    print(tokens)\n",
        "    plt.scatter(Wp[0,:], Wp[1,:], color=colors[n], marker='x', label=frase)\n",
        "    rX = max(Wp[0,:])-min(Wp[0,:])\n",
        "    rY = max(Wp[1,:])-min(Wp[1,:])\n",
        "    rM = max(rX, rY)\n",
        "    eps = 0.005\n",
        "    eps2 = 0.005\n",
        "    for i, token in enumerate(tokens):\n",
        "        if token in ['[CLS]', '[SEP]']:\n",
        "            plt.annotate(token, (Wp[0,i]+rX*eps, Wp[1,i]+rX*eps))\n",
        "        if token == 'pilha':\n",
        "            plt.annotate(token, (Wp[0,i]+rX*eps*-6, Wp[1,i]+rX*eps*3))\n",
        "        if i>0:\n",
        "            plt.arrow(Wp[0,i-1],Wp[1,i-1], Wp[0,i]-Wp[0,i-1], Wp[1,i]-Wp[1,i-1], color=colors[n], head_length=rM*eps2*4, head_width=rM*eps2*2, length_includes_head=True)\n",
        "plt.legend()\n",
        "\n",
        "# Mostra o gráfico\n",
        "plt.show()       "
      ],
      "execution_count": null,
      "outputs": [
        {
          "output_type": "stream",
          "text": [
            "['[CLS]', 'O', 'que', 'é', 'uma', 'pilha', '?', '[SEP]']\n",
            "['[CLS]', 'O', 'que', 'é', 'a', 'estrutura', 'de', 'dados', 'pilha', '?', '[SEP]']\n",
            "['[CLS]', 'Como', 'desem', '##pi', '##l', '##har', 'dados', 'de', 'uma', 'pilha', '?', '[SEP]']\n",
            "['[CLS]', 'Quanto', '##s', 'tamanhos', 'existem', 'da', 'pilha', 'de', '1', '.', '5', 'vol', '##ts', '?', '[SEP]']\n"
          ],
          "name": "stdout"
        },
        {
          "output_type": "display_data",
          "data": {
            "image/png": "[encoded data removed]",
            "text/plain": [
              "<Figure size 864x504 with 1 Axes>"
            ]
          },
          "metadata": {
            "tags": [],
            "needs_background": "light"
          }
        }
      ]
    }
  ]
}