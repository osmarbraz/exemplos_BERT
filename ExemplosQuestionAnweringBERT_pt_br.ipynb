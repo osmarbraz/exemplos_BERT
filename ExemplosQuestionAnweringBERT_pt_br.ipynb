{
  "nbformat": 4,
  "nbformat_minor": 0,
  "metadata": {
    "kernelspec": {
      "display_name": "Python 3",
      "language": "python",
      "name": "python3"
    },
    "language_info": {
      "codemirror_mode": {
        "name": "ipython",
        "version": 3
      },
      "file_extension": ".py",
      "mimetype": "text/x-python",
      "name": "python",
      "nbconvert_exporter": "python",
      "pygments_lexer": "ipython3",
      "version": "3.6.10"
    },
    "colab": {
      "name": "ExemplosQuestionAnweringBERT_pt_br.ipynb",
      "provenance": [],
      "collapsed_sections": [],
      "toc_visible": true,
      "include_colab_link": true
    }
  },
  "cells": [
    {
      "cell_type": "markdown",
      "metadata": {
        "id": "view-in-github",
        "colab_type": "text"
      },
      "source": [
        "<a href=\"https://colab.research.google.com/github/osmarbraz/exemplos_BERT/blob/main/ExemplosQuestionAnweringBERT_pt_br.ipynb\" target=\"_parent\"><img src=\"https://colab.research.google.com/assets/colab-badge.svg\" alt=\"Open In Colab\"/></a>"
      ]
    },
    {
      "cell_type": "markdown",
      "metadata": {
        "id": "CEbteGCMSuIi"
      },
      "source": [
        "# Exemplo de Question Answering em português\n",
        "\n",
        "Usando biblioteca Transformer e MCL BERT ajustado para QA."
      ]
    },
    {
      "cell_type": "markdown",
      "metadata": {
        "id": "WOwhoI1lzi-s"
      },
      "source": [
        "# 1 Instalação dos pacotes das biblioteca Transformer"
      ]
    },
    {
      "cell_type": "code",
      "metadata": {
        "id": "UNn1DGlMzNDa",
        "colab": {
          "base_uri": "https://localhost:8080/"
        },
        "outputId": "7106c78f-1604-499b-d1f5-2d168c57799e"
      },
      "source": [
        "# Instala a última versão da biblioteca\n",
        "!pip install transformers\n",
        "\n",
        "# Instala uma versão Especifica da biblioteca\n",
        "# !pip install -U transformers==4.5.1"
      ],
      "execution_count": 1,
      "outputs": [
        {
          "output_type": "stream",
          "text": [
            "Requirement already satisfied: transformers in /usr/local/lib/python3.7/dist-packages (4.9.2)\n",
            "Requirement already satisfied: tokenizers<0.11,>=0.10.1 in /usr/local/lib/python3.7/dist-packages (from transformers) (0.10.3)\n",
            "Requirement already satisfied: tqdm>=4.27 in /usr/local/lib/python3.7/dist-packages (from transformers) (4.62.0)\n",
            "Requirement already satisfied: importlib-metadata in /usr/local/lib/python3.7/dist-packages (from transformers) (4.6.1)\n",
            "Requirement already satisfied: numpy>=1.17 in /usr/local/lib/python3.7/dist-packages (from transformers) (1.19.5)\n",
            "Requirement already satisfied: regex!=2019.12.17 in /usr/local/lib/python3.7/dist-packages (from transformers) (2019.12.20)\n",
            "Requirement already satisfied: pyyaml>=5.1 in /usr/local/lib/python3.7/dist-packages (from transformers) (5.4.1)\n",
            "Requirement already satisfied: requests in /usr/local/lib/python3.7/dist-packages (from transformers) (2.23.0)\n",
            "Requirement already satisfied: huggingface-hub==0.0.12 in /usr/local/lib/python3.7/dist-packages (from transformers) (0.0.12)\n",
            "Requirement already satisfied: filelock in /usr/local/lib/python3.7/dist-packages (from transformers) (3.0.12)\n",
            "Requirement already satisfied: packaging in /usr/local/lib/python3.7/dist-packages (from transformers) (21.0)\n",
            "Requirement already satisfied: sacremoses in /usr/local/lib/python3.7/dist-packages (from transformers) (0.0.45)\n",
            "Requirement already satisfied: typing-extensions in /usr/local/lib/python3.7/dist-packages (from huggingface-hub==0.0.12->transformers) (3.7.4.3)\n",
            "Requirement already satisfied: pyparsing>=2.0.2 in /usr/local/lib/python3.7/dist-packages (from packaging->transformers) (2.4.7)\n",
            "Requirement already satisfied: zipp>=0.5 in /usr/local/lib/python3.7/dist-packages (from importlib-metadata->transformers) (3.5.0)\n",
            "Requirement already satisfied: urllib3!=1.25.0,!=1.25.1,<1.26,>=1.21.1 in /usr/local/lib/python3.7/dist-packages (from requests->transformers) (1.24.3)\n",
            "Requirement already satisfied: certifi>=2017.4.17 in /usr/local/lib/python3.7/dist-packages (from requests->transformers) (2021.5.30)\n",
            "Requirement already satisfied: idna<3,>=2.5 in /usr/local/lib/python3.7/dist-packages (from requests->transformers) (2.10)\n",
            "Requirement already satisfied: chardet<4,>=3.0.2 in /usr/local/lib/python3.7/dist-packages (from requests->transformers) (3.0.4)\n",
            "Requirement already satisfied: joblib in /usr/local/lib/python3.7/dist-packages (from sacremoses->transformers) (1.0.1)\n",
            "Requirement already satisfied: click in /usr/local/lib/python3.7/dist-packages (from sacremoses->transformers) (7.1.2)\n",
            "Requirement already satisfied: six in /usr/local/lib/python3.7/dist-packages (from sacremoses->transformers) (1.15.0)\n"
          ],
          "name": "stdout"
        }
      ]
    },
    {
      "cell_type": "markdown",
      "metadata": {
        "id": "rvmusM0fsGmN"
      },
      "source": [
        "# 2 Modelos BERT de QA Disponíveis\n",
        "\n",
        "https://huggingface.co/models?filter=pt&pipeline_tag=question-answering\n",
        "\n",
        "\n",
        "* 'pucpr/bioBERTpt-squad-v1.1-portuguese'\n",
        "* 'pierreguillou/bert-base-cased-squad-v1.1-portuguese'\n",
        "* 'pierreguillou/bert-large-cased-squad-v1.1-portuguese'\n",
        "* 'mrm8488/bert-base-portuguese-cased-finetuned-squad-v1-pt'\n",
        "\n",
        "\n",
        "\n",
        "\n"
      ]
    },
    {
      "cell_type": "markdown",
      "metadata": {
        "id": "GFEaJnzJSuJI"
      },
      "source": [
        "# 3 Usando Classes do Huggingface\n",
        "\n"
      ]
    },
    {
      "cell_type": "markdown",
      "metadata": {
        "id": "e7s5hK4ytUNY"
      },
      "source": [
        "## Carrega o modelo"
      ]
    },
    {
      "cell_type": "code",
      "metadata": {
        "id": "gTuvdpt5SuJJ"
      },
      "source": [
        "# Importando as bibliotecas\n",
        "import torch\n",
        "from transformers import AutoTokenizer, AutoModelForQuestionAnswering\n",
        "\n",
        "nomeModeloBERT = 'mrm8488/bert-base-portuguese-cased-finetuned-squad-v1-pt'\n",
        "#nomeModeloBERT = 'pierreguillou/bert-base-cased-squad-v1.1-portuguese'\n",
        "#nomeModeloBERT = 'pierreguillou/bert-large-cased-squad-v1.1-portuguese'\n",
        "\n",
        "# Carrega o tokenizador\n",
        "tokenizer = AutoTokenizer.from_pretrained(nomeModeloBERT) \n",
        "\n",
        "# Carrega o modelo\n",
        "model = AutoModelForQuestionAnswering.from_pretrained(nomeModeloBERT)"
      ],
      "execution_count": 2,
      "outputs": []
    },
    {
      "cell_type": "markdown",
      "metadata": {
        "id": "3dhYyZGvSuJN"
      },
      "source": [
        "## Exemplo 1\n",
        "\n",
        "Existem três etapas para o QA:\n",
        "1. tokenizar a entrada\n",
        "2. obter pontuações do modelo\n",
        "3. obter a resposta\n",
        "\n",
        "Essas etapas são discutidas em detalhes no HF [Transformer Notebooks](https://huggingface.co/transformers/notebooks.html).\n"
      ]
    },
    {
      "cell_type": "code",
      "metadata": {
        "colab": {
          "base_uri": "https://localhost:8080/"
        },
        "id": "xHVe41wFtde_",
        "outputId": "85a3b16a-aa2d-4590-847e-631dcd7fa9b8"
      },
      "source": [
        "contexto = r\"\"\"\n",
        "          Pilha é uma estrutura de dados linear que segue uma ordem específica na qual as\n",
        "          operações são executadas. Um pedido  pode ser UEPS(último a entrar é o primeiro\n",
        "          a sair) ou PEPS(primeiro a entrar é o primeiro a sair). Em inglês UEPS é\n",
        "          LIFO(last in first out) e PEPS é FIFO(first in firt out). Existem muitos\n",
        "          exemplos da vida real de uma pilha. Considere um exemplo de pratos empilhados um\n",
        "          sobre o outro na cantina. A placa que está no topo é a primeira a ser removida,\n",
        "          isto é, a placa que foi colocada na posição mais inferior permanece na pilha\n",
        "          pelo maior período de tempo. Portanto, pode-se ver simplesmente seguir a ordem\n",
        "          UEPS/PEPS. Uma fila é uma estrutura linear que segue uma ordem específica na\n",
        "          qual as operações são executadas. O pedido em um restaurante é o primeiro a\n",
        "          entrar e o primeiro a sair(PEPS). Um bom exemplo de fila é qualquer fila de\n",
        "          consumidores para um recurso em que o consumidor que veio primeiro é atendido\n",
        "          primeiro. A diferença entre pilhas e filas está na remoção. Em uma pilha,\n",
        "          removemos o item adicionado mais recentemente; em uma fila, removemos o item\n",
        "          adicionado menos recentemente.\n",
        "          \"\"\"\n",
        "\n",
        "pergunta = \"O que é uma pilha?\"\n",
        "\n",
        "# 1. Tokenizando a entrada e o contexto\n",
        "entrada = tokenizer.encode_plus(pergunta, contexto, return_tensors=\"pt\") \n",
        "\n",
        "# 2. Obtendo a pontuação do modelo\n",
        "pontuacao_inicio_resposta, pontuacao_fim_resposta = model(**entrada, return_dict=False)\n",
        "inicio_resposta = torch.argmax(pontuacao_inicio_resposta) \n",
        "fim_resposta = torch.argmax(pontuacao_fim_resposta) + 1 \n",
        "\n",
        "# 3. Obtendo a resposta\n",
        "resposta = tokenizer.convert_tokens_to_string(tokenizer.convert_ids_to_tokens(entrada[\"input_ids\"][0][inicio_resposta:fim_resposta]))\n",
        "\n",
        "print(f\"Resposta:\", resposta)"
      ],
      "execution_count": 3,
      "outputs": [
        {
          "output_type": "stream",
          "text": [
            "Resposta: uma estrutura de dados linear que segue uma ordem especifica na qual as operacoes sao executadas\n"
          ],
          "name": "stdout"
        }
      ]
    },
    {
      "cell_type": "markdown",
      "metadata": {
        "id": "hP_0CfUmHC64"
      },
      "source": [
        "## Exemplo 2\n"
      ]
    },
    {
      "cell_type": "code",
      "metadata": {
        "colab": {
          "base_uri": "https://localhost:8080/"
        },
        "id": "KKwXu1nMHC65",
        "outputId": "fef46532-1e38-436f-f022-5f039cdfbbf0"
      },
      "source": [
        "contexto = r\"\"\"\n",
        "          A pandemia de COVID-19, também conhecida como pandemia de coronavírus, é uma pandemia em curso de COVID-19, \n",
        "          uma doença respiratória aguda causada pelo coronavírus da síndrome respiratória aguda grave 2 (SARS-CoV-2). \n",
        "          A doença foi identificada pela primeira vez em Wuhan, na província de Hubei, República Popular da China, \n",
        "          em 1 de dezembro de 2019, mas o primeiro caso foi reportado em 31 de dezembro do mesmo ano. \n",
        "          Acredita-se que o vírus tenha uma origem zoonótica, porque os primeiros casos confirmados \n",
        "          tinham principalmente ligações ao Mercado Atacadista de Frutos do Mar de Huanan, que também vendia animais vivos. \n",
        "          Em 11 de março de 2020, a Organização Mundial da Saúde declarou o surto uma pandemia. Até 8 de fevereiro de 2021, \n",
        "          pelo menos 105 743 102 casos da doença foram confirmados em pelo menos 191 países e territórios, \n",
        "          com cerca de 2 308 943 mortes e 58 851 440 pessoas curadas.\n",
        "          \"\"\"\n",
        "\n",
        "pergunta = \"Quando começou a pandemia de Covid-19 no mundo?\"\n",
        "\n",
        "# 1. Tokenizando a entrada e o contexto\n",
        "entrada = tokenizer.encode_plus(pergunta, contexto, return_tensors=\"pt\") \n",
        "\n",
        "# 2. Obtendo a pontuação do modelo\n",
        "pontuacao_inicio_resposta, pontuacao_fim_resposta = model(**entrada, return_dict=False)\n",
        "inicio_resposta = torch.argmax(pontuacao_inicio_resposta) \n",
        "fim_resposta = torch.argmax(pontuacao_fim_resposta) + 1 \n",
        "\n",
        "# 3. Obtendo a resposta\n",
        "resposta = tokenizer.convert_tokens_to_string(tokenizer.convert_ids_to_tokens(entrada[\"input_ids\"][0][inicio_resposta:fim_resposta]))\n",
        "\n",
        "print(f\"Resposta:\", resposta)"
      ],
      "execution_count": 4,
      "outputs": [
        {
          "output_type": "stream",
          "text": [
            "Resposta: 1 de dezembro de 2019\n"
          ],
          "name": "stdout"
        }
      ]
    },
    {
      "cell_type": "markdown",
      "metadata": {
        "id": "yMkoA40ethNQ"
      },
      "source": [
        "## Exemplo 3"
      ]
    },
    {
      "cell_type": "code",
      "metadata": {
        "id": "y517WWoOSuJO",
        "colab": {
          "base_uri": "https://localhost:8080/"
        },
        "outputId": "9e7d015c-e8d0-4e2b-956f-571de42d0c1d"
      },
      "source": [
        "contexto = r\"\"\"No dia 22 de abril comemoramos o descobrimento do Brasil. Na mesma data, \n",
        "            só que no ano de 1.500, Pedro Álvares Cabral chegava às terras de \"Vera Cruz\", \n",
        "            que mais tarde seriam chamadas de Brasil. \n",
        "            Ele chegou próximo à região de Porto Seguro, no estado da Bahia.\n",
        "            Pedro Álvares Cabral não foi o primeiro português a pisar \n",
        "            em solo brasileiro. Na verdade, quem fez isso foi Duarte Pacheco Pereira, um navegador militar. \n",
        "            Em 1498 ele foi designado por D. Manuel I para uma expedição secreta para reconhecer as zonas situadas além da marcação de Tordesilhas. \n",
        "            A expedição dele partiu do arquipélago de Cabo Verde e chegou em algum ponto da costa entre o Maranhão e o Pará. A partir desse ponto, \n",
        "            Pereira seguido pela costa Norte, até a foz do Rio Amazonas e a Ilha de Marajó.\"\"\"\n",
        "\n",
        "pergunta = \"Quem descobriu o Brasil?\"\n",
        "\n",
        "# 1. Tokenizando a entrada e o contexto\n",
        "entrada = tokenizer.encode_plus(pergunta, contexto, return_tensors=\"pt\") \n",
        "\n",
        "# 2. Obtendo a pontuação do modelo\n",
        "pontuacao_inicio_resposta, pontuacao_fim_resposta = model(**entrada, return_dict=False)\n",
        "inicio_resposta = torch.argmax(pontuacao_inicio_resposta) \n",
        "fim_resposta = torch.argmax(pontuacao_fim_resposta) + 1 \n",
        "\n",
        "# 3. Obtendo a resposta\n",
        "resposta = tokenizer.convert_tokens_to_string(tokenizer.convert_ids_to_tokens(entrada[\"input_ids\"][0][inicio_resposta:fim_resposta]))\n",
        "\n",
        "print(f\"Resposta:\", resposta)"
      ],
      "execution_count": 5,
      "outputs": [
        {
          "output_type": "stream",
          "text": [
            "Resposta: pedro alvares cabral\n"
          ],
          "name": "stdout"
        }
      ]
    },
    {
      "cell_type": "markdown",
      "metadata": {
        "id": "3e4lna76kEb_"
      },
      "source": [
        "# 4 Usando Pipeline do Huggingface"
      ]
    },
    {
      "cell_type": "markdown",
      "metadata": {
        "id": "onfbyYfpsjq4"
      },
      "source": [
        "## Carrega o pipeline"
      ]
    },
    {
      "cell_type": "code",
      "metadata": {
        "id": "QiodnNkbkH1v"
      },
      "source": [
        "# Importando as bibliotecas\n",
        "import transformers\n",
        "from transformers import pipeline"
      ],
      "execution_count": 6,
      "outputs": []
    },
    {
      "cell_type": "code",
      "metadata": {
        "id": "LcfRxfH9oxDA"
      },
      "source": [
        "# Carrega o pipeline\n",
        "model_qa = pipeline('question-answering', \n",
        "                    model='mrm8488/bert-base-portuguese-cased-finetuned-squad-v1-pt', \n",
        "                    tokenizer='mrm8488/bert-base-portuguese-cased-finetuned-squad-v1-pt')"
      ],
      "execution_count": 7,
      "outputs": []
    },
    {
      "cell_type": "code",
      "metadata": {
        "id": "t6dVitweElwz"
      },
      "source": [
        "# Importando as bibliotecas\n",
        "#import transformers\n",
        "#from transformers import QuestionAnsweringPipeline\n",
        "\n",
        "# model_qa = QuestionAnsweringPipeline(model='mrm8488/bert-base-portuguese-cased-finetuned-squad-v1-pt', tokenizer='mrm8488/bert-base-portuguese-cased-finetuned-squad-v1-pt')"
      ],
      "execution_count": 8,
      "outputs": []
    },
    {
      "cell_type": "markdown",
      "metadata": {
        "id": "820afq2EGlYG"
      },
      "source": [
        "## Exemplo 1"
      ]
    },
    {
      "cell_type": "code",
      "metadata": {
        "colab": {
          "base_uri": "https://localhost:8080/"
        },
        "id": "cc-pu-m8GlYL",
        "outputId": "4494e53c-0dbe-4c5f-c1a6-e071d79c7afb"
      },
      "source": [
        "contexto = r\"\"\"\n",
        "          Pilha é uma estrutura de dados linear que segue uma ordem específica na qual as\n",
        "          operações são executadas. Um pedido  pode ser UEPS(último a entrar é o primeiro\n",
        "          a sair) ou PEPS(primeiro a entrar é o primeiro a sair). Em inglês UEPS é\n",
        "          LIFO(last in first out) e PEPS é FIFO(first in firt out). Existem muitos\n",
        "          exemplos da vida real de uma pilha. Considere um exemplo de pratos empilhados um\n",
        "          sobre o outro na cantina. A placa que está no topo é a primeira a ser removida,\n",
        "          isto é, a placa que foi colocada na posição mais inferior permanece na pilha\n",
        "          pelo maior período de tempo. Portanto, pode-se ver simplesmente seguir a ordem\n",
        "          UEPS/PEPS. Uma fila é uma estrutura linear que segue uma ordem específica na\n",
        "          qual as operações são executadas. O pedido em um restaurante é o primeiro a\n",
        "          entrar e o primeiro a sair(PEPS). Um bom exemplo de fila é qualquer fila de\n",
        "          consumidores para um recurso em que o consumidor que veio primeiro é atendido\n",
        "          primeiro. A diferença entre pilhas e filas está na remoção. Em uma pilha,\n",
        "          removemos o item adicionado mais recentemente; em uma fila, removemos o item\n",
        "          adicionado menos recentemente.\n",
        "          \"\"\"\n",
        "\n",
        "pergunta = \"O que é uma pilha?\"\n",
        "\n",
        "resultado = model_qa(question=pergunta, context=contexto)\n",
        "\n",
        "print(\" Resposta QA: \", resultado['answer'], \", pontuação: \",  round(resultado['score'], 4),  \", início: \", resultado['start'],  \", fim: \", resultado['end'])"
      ],
      "execution_count": 9,
      "outputs": [
        {
          "output_type": "stream",
          "text": [
            " Resposta QA:  uma estrutura de dados linear , pontuação:  0.0012 , início:  19 , fim:  48\n"
          ],
          "name": "stdout"
        }
      ]
    },
    {
      "cell_type": "markdown",
      "metadata": {
        "id": "pOvHoJfAsmUv"
      },
      "source": [
        "## Exemplo 2"
      ]
    },
    {
      "cell_type": "code",
      "metadata": {
        "colab": {
          "base_uri": "https://localhost:8080/"
        },
        "id": "e9kcJ-N8khIH",
        "outputId": "6efa798d-cec3-4ec3-a88b-752e8e6102f0"
      },
      "source": [
        "contexto = r\"\"\"\n",
        "          A pandemia de COVID-19, também conhecida como pandemia de coronavírus, é uma pandemia em curso de COVID-19, \n",
        "          uma doença respiratória aguda causada pelo coronavírus da síndrome respiratória aguda grave 2 (SARS-CoV-2). \n",
        "          A doença foi identificada pela primeira vez em Wuhan, na província de Hubei, República Popular da China, \n",
        "          em 1 de dezembro de 2019, mas o primeiro caso foi reportado em 31 de dezembro do mesmo ano. \n",
        "          Acredita-se que o vírus tenha uma origem zoonótica, porque os primeiros casos confirmados \n",
        "          tinham principalmente ligações ao Mercado Atacadista de Frutos do Mar de Huanan, que também vendia animais vivos. \n",
        "          Em 11 de março de 2020, a Organização Mundial da Saúde declarou o surto uma pandemia. Até 8 de fevereiro de 2021, \n",
        "          pelo menos 105 743 102 casos da doença foram confirmados em pelo menos 191 países e territórios, \n",
        "          com cerca de 2 308 943 mortes e 58 851 440 pessoas curadas.\n",
        "          \"\"\"\n",
        "\n",
        "pergunta = \"Quando começou a pandemia de Covid-19 no mundo?\"\n",
        "\n",
        "resultado = model_qa(question=pergunta, context=contexto)\n",
        "\n",
        "print(\" Resposta QA: \", resultado['answer'], \", pontuação: \",  round(resultado['score'], 4),  \", início: \", resultado['start'],  \", fim: \", resultado['end'])"
      ],
      "execution_count": 10,
      "outputs": [
        {
          "output_type": "stream",
          "text": [
            " Resposta QA:  1 de dezembro de 2019 , pontuação:  0.6949 , início:  368 , fim:  389\n"
          ],
          "name": "stdout"
        }
      ]
    },
    {
      "cell_type": "markdown",
      "metadata": {
        "id": "fwYiqdjmsoQH"
      },
      "source": [
        "## Exemplo 3"
      ]
    },
    {
      "cell_type": "code",
      "metadata": {
        "colab": {
          "base_uri": "https://localhost:8080/"
        },
        "id": "Z1_ohtboo1QY",
        "outputId": "5654b2f8-0bb7-40c6-e109-6b59876a6b92"
      },
      "source": [
        "pergunta = \"Quem descobriu o Brasil?\"\n",
        "\n",
        "contexto = \"\"\"No dia 22 de abril comemoramos o descobrimento do Brasil. Na mesma data, \n",
        "            só que no ano de 1.500, Pedro Álvares Cabral chegava às terras de \"Vera Cruz\", \n",
        "            que mais tarde seriam chamadas de Brasil. \n",
        "            Ele chegou próximo à região de Porto Seguro, no estado da Bahia.\n",
        "            Pedro Álvares Cabral não foi o primeiro português a pisar \n",
        "            em solo brasileiro. Na verdade, quem fez isso foi Duarte Pacheco Pereira, um navegador militar. \n",
        "            Em 1498 ele foi designado por D. Manuel I para uma expedição secreta para reconhecer as zonas situadas além da marcação de Tordesilhas. \n",
        "            A expedição dele partiu do arquipélago de Cabo Verde e chegou em algum ponto da costa entre o Maranhão e o Pará. A partir desse ponto, \n",
        "            Pereira seguido pela costa Norte, até a foz do Rio Amazonas e a Ilha de Marajó.\"\"\"\n",
        "\n",
        "resultado = model_qa(question=pergunta, context=contexto)\n",
        "\n",
        "print(\" Resposta QA: \", resultado['answer'], \", pontuação: \",  round(resultado['score'], 4),  \", início: \", resultado['start'],  \", fim: \", resultado['end'])"
      ],
      "execution_count": 11,
      "outputs": [
        {
          "output_type": "stream",
          "text": [
            " Resposta QA:  Pedro Álvares Cabral , pontuação:  0.9999 , início:  110 , fim:  130\n"
          ],
          "name": "stdout"
        }
      ]
    },
    {
      "cell_type": "markdown",
      "metadata": {
        "id": "hjRPMTbjxbEZ"
      },
      "source": [
        "# Respondendo várias perguntas de um conjunto de dados"
      ]
    },
    {
      "cell_type": "markdown",
      "metadata": {
        "id": "5q_MHWBVVZQ1"
      },
      "source": [
        "## Instalando a biblioteca Dataset\n",
        "\n",
        "https://huggingface.co/docs/datasets/installation.html"
      ]
    },
    {
      "cell_type": "code",
      "metadata": {
        "colab": {
          "base_uri": "https://localhost:8080/"
        },
        "id": "Aa-n9NR3RgHG",
        "outputId": "41ff9e1c-aa1b-4552-fc8f-50b58dec397f"
      },
      "source": [
        "!pip install datasets"
      ],
      "execution_count": 12,
      "outputs": [
        {
          "output_type": "stream",
          "text": [
            "Requirement already satisfied: datasets in /usr/local/lib/python3.7/dist-packages (1.11.0)\n",
            "Requirement already satisfied: pyarrow!=4.0.0,>=1.0.0 in /usr/local/lib/python3.7/dist-packages (from datasets) (3.0.0)\n",
            "Requirement already satisfied: tqdm>=4.42 in /usr/local/lib/python3.7/dist-packages (from datasets) (4.62.0)\n",
            "Requirement already satisfied: packaging in /usr/local/lib/python3.7/dist-packages (from datasets) (21.0)\n",
            "Requirement already satisfied: importlib-metadata in /usr/local/lib/python3.7/dist-packages (from datasets) (4.6.1)\n",
            "Requirement already satisfied: dill in /usr/local/lib/python3.7/dist-packages (from datasets) (0.3.4)\n",
            "Requirement already satisfied: xxhash in /usr/local/lib/python3.7/dist-packages (from datasets) (2.0.2)\n",
            "Requirement already satisfied: multiprocess in /usr/local/lib/python3.7/dist-packages (from datasets) (0.70.12.2)\n",
            "Requirement already satisfied: huggingface-hub<0.1.0 in /usr/local/lib/python3.7/dist-packages (from datasets) (0.0.12)\n",
            "Requirement already satisfied: requests>=2.19.0 in /usr/local/lib/python3.7/dist-packages (from datasets) (2.23.0)\n",
            "Requirement already satisfied: pandas in /usr/local/lib/python3.7/dist-packages (from datasets) (1.1.5)\n",
            "Requirement already satisfied: fsspec>=2021.05.0 in /usr/local/lib/python3.7/dist-packages (from datasets) (2021.7.0)\n",
            "Requirement already satisfied: numpy>=1.17 in /usr/local/lib/python3.7/dist-packages (from datasets) (1.19.5)\n",
            "Requirement already satisfied: typing-extensions in /usr/local/lib/python3.7/dist-packages (from huggingface-hub<0.1.0->datasets) (3.7.4.3)\n",
            "Requirement already satisfied: filelock in /usr/local/lib/python3.7/dist-packages (from huggingface-hub<0.1.0->datasets) (3.0.12)\n",
            "Requirement already satisfied: pyparsing>=2.0.2 in /usr/local/lib/python3.7/dist-packages (from packaging->datasets) (2.4.7)\n",
            "Requirement already satisfied: certifi>=2017.4.17 in /usr/local/lib/python3.7/dist-packages (from requests>=2.19.0->datasets) (2021.5.30)\n",
            "Requirement already satisfied: chardet<4,>=3.0.2 in /usr/local/lib/python3.7/dist-packages (from requests>=2.19.0->datasets) (3.0.4)\n",
            "Requirement already satisfied: urllib3!=1.25.0,!=1.25.1,<1.26,>=1.21.1 in /usr/local/lib/python3.7/dist-packages (from requests>=2.19.0->datasets) (1.24.3)\n",
            "Requirement already satisfied: idna<3,>=2.5 in /usr/local/lib/python3.7/dist-packages (from requests>=2.19.0->datasets) (2.10)\n",
            "Requirement already satisfied: zipp>=0.5 in /usr/local/lib/python3.7/dist-packages (from importlib-metadata->datasets) (3.5.0)\n",
            "Requirement already satisfied: pytz>=2017.2 in /usr/local/lib/python3.7/dist-packages (from pandas->datasets) (2018.9)\n",
            "Requirement already satisfied: python-dateutil>=2.7.3 in /usr/local/lib/python3.7/dist-packages (from pandas->datasets) (2.8.1)\n",
            "Requirement already satisfied: six>=1.5 in /usr/local/lib/python3.7/dist-packages (from python-dateutil>=2.7.3->pandas->datasets) (1.15.0)\n"
          ],
          "name": "stdout"
        }
      ]
    },
    {
      "cell_type": "markdown",
      "metadata": {
        "id": "5MBsUtSeVuOz"
      },
      "source": [
        "## Carregando um conjunto de dados\n",
        "\n",
        "Carregando o SQUAD 1.0 traduzido.\n",
        "\n",
        "Lista dos conjunto de dados em português.\n",
        "https://huggingface.co/datasets?filter=languages:pt"
      ]
    },
    {
      "cell_type": "code",
      "metadata": {
        "colab": {
          "base_uri": "https://localhost:8080/"
        },
        "id": "g1MOB2YkVuX7",
        "outputId": "ca0b3b4a-57af-44cb-a054-160ce16fa7ab"
      },
      "source": [
        "# Import da biblioteca\n",
        "from datasets import load_dataset\n",
        "\n",
        "# Carrega o conjunto de dados\n",
        "datasets = load_dataset('squad_v1_pt')\n",
        "\n",
        "print(datasets)"
      ],
      "execution_count": 13,
      "outputs": [
        {
          "output_type": "stream",
          "text": [
            "Using custom data configuration default\n",
            "Reusing dataset squad_v1_pt (/root/.cache/huggingface/datasets/squad_v1_pt/default/1.1.0/65162e0fbe44f19a4d2ad9f5f507d2e965e74249fc3239dc78b4e3bd93bab7c4)\n"
          ],
          "name": "stderr"
        },
        {
          "output_type": "stream",
          "text": [
            "DatasetDict({\n",
            "    train: Dataset({\n",
            "        features: ['id', 'title', 'context', 'question', 'answers'],\n",
            "        num_rows: 87599\n",
            "    })\n",
            "    validation: Dataset({\n",
            "        features: ['id', 'title', 'context', 'question', 'answers'],\n",
            "        num_rows: 10570\n",
            "    })\n",
            "})\n"
          ],
          "name": "stdout"
        }
      ]
    },
    {
      "cell_type": "markdown",
      "metadata": {
        "id": "yaWaYMrmy7OQ"
      },
      "source": [
        "## Respondendo um conjunto de dados de perguntas"
      ]
    },
    {
      "cell_type": "code",
      "metadata": {
        "id": "mVaBkUYmy7nr"
      },
      "source": [
        "# Importando as bibliotecas\n",
        "import transformers\n",
        "from transformers import pipeline"
      ],
      "execution_count": 14,
      "outputs": []
    },
    {
      "cell_type": "code",
      "metadata": {
        "id": "01l5D_6Ny7ns"
      },
      "source": [
        "# Carrega o pipeline\n",
        "model_qa = pipeline('question-answering', model='mrm8488/bert-base-portuguese-cased-finetuned-squad-v1-pt', tokenizer='mrm8488/bert-base-portuguese-cased-finetuned-squad-v1-pt')"
      ],
      "execution_count": 15,
      "outputs": []
    },
    {
      "cell_type": "code",
      "metadata": {
        "colab": {
          "base_uri": "https://localhost:8080/"
        },
        "id": "ZoMO5pNWzDlY",
        "outputId": "b2e0d36b-6e89-4c79-ec76-8428c7237e5e"
      },
      "source": [
        "# Percorre o conjunto de dados\n",
        "for i, pergunta in enumerate(datasets['validation']):\n",
        "  # Responde somente 10 perguntas\n",
        "  if i < 10:\n",
        "    print(\"\\nPergunta:\", pergunta['question'])\n",
        "    print(\"Contexto:\",pergunta['context'])\n",
        "    print(\"       Respostas esperada:\",pergunta['answers'])\n",
        "    for j, resposta in enumerate(pergunta['answers']['text']):\n",
        "        print(\"       Resposta esperada:\",resposta)\n",
        "\n",
        "    resultado = model_qa(question=pergunta['question'], context=pergunta['context'])\n",
        "\n",
        "    print(\"      Resposta QA: \", resultado['answer'], \", pontuação: \",  round(resultado['score'], 4),  \", início: \", resultado['start'],  \", fim: \", resultado['end'])\n"
      ],
      "execution_count": 16,
      "outputs": [
        {
          "output_type": "stream",
          "text": [
            "\n",
            "Pergunta: Qual time da NFL representou o AFC no Super Bowl 50?\n",
            "Contexto: Super Bowl 50 foi um jogo de futebol americano para determinar o campeão da National Football League (NFL) para a temporada de 2015. O campeão da American Football Conference (AFC), Denver Broncos, derrotou a campeã Carolina Panthers, da National Football Conference (NFC), por 24 a 10, e conquistou seu terceiro título no Super Bowl. O jogo foi disputado em 7 de fevereiro de 2016, no Levi&#39;s Stadium, na área da baía de San Francisco, em Santa Clara, Califórnia. Como este foi o 50º Super Bowl, a liga enfatizou o &quot;aniversário de ouro&quot; com várias iniciativas de ouro, bem como a suspensão temporária da tradição de nomear cada jogo do Super Bowl com algarismos romanos (sob os quais o jogo seria conhecido como &quot; Super Bowl L &quot;), para que o logotipo possa destacar os algarismos arábicos 50.\n",
            "       Respostas esperada: {'text': ['Denver Broncos', 'Denver Broncos', 'Denver Broncos'], 'answer_start': [182, 182, 182]}\n",
            "       Resposta esperada: Denver Broncos\n",
            "       Resposta esperada: Denver Broncos\n",
            "       Resposta esperada: Denver Broncos\n",
            "      Resposta QA:  Denver Broncos , pontuação:  1.0 , início:  182 , fim:  196\n",
            "\n",
            "Pergunta: Qual time da NFL representou o NFC no Super Bowl 50?\n",
            "Contexto: Super Bowl 50 foi um jogo de futebol americano para determinar o campeão da National Football League (NFL) para a temporada de 2015. O campeão da American Football Conference (AFC), Denver Broncos, derrotou a campeã Carolina Panthers, da National Football Conference (NFC), por 24 a 10, e conquistou seu terceiro título no Super Bowl. O jogo foi disputado em 7 de fevereiro de 2016, no Levi&#39;s Stadium, na área da baía de San Francisco, em Santa Clara, Califórnia. Como este foi o 50º Super Bowl, a liga enfatizou o &quot;aniversário de ouro&quot; com várias iniciativas de ouro, bem como a suspensão temporária da tradição de nomear cada jogo do Super Bowl com algarismos romanos (sob os quais o jogo seria conhecido como &quot; Super Bowl L &quot;), para que o logotipo possa destacar os algarismos arábicos 50.\n",
            "       Respostas esperada: {'text': ['Carolina Panthers', 'Carolina Panthers', 'Carolina Panthers'], 'answer_start': [216, 216, 216]}\n",
            "       Resposta esperada: Carolina Panthers\n",
            "       Resposta esperada: Carolina Panthers\n",
            "       Resposta esperada: Carolina Panthers\n",
            "      Resposta QA:  Carolina Panthers , pontuação:  1.0 , início:  216 , fim:  233\n",
            "\n",
            "Pergunta: Onde aconteceu o Super Bowl 50?\n",
            "Contexto: Super Bowl 50 foi um jogo de futebol americano para determinar o campeão da National Football League (NFL) para a temporada de 2015. O campeão da American Football Conference (AFC), Denver Broncos, derrotou a campeã Carolina Panthers, da National Football Conference (NFC), por 24 a 10, e conquistou seu terceiro título no Super Bowl. O jogo foi disputado em 7 de fevereiro de 2016, no Levi&#39;s Stadium, na área da baía de San Francisco, em Santa Clara, Califórnia. Como este foi o 50º Super Bowl, a liga enfatizou o &quot;aniversário de ouro&quot; com várias iniciativas de ouro, bem como a suspensão temporária da tradição de nomear cada jogo do Super Bowl com algarismos romanos (sob os quais o jogo seria conhecido como &quot; Super Bowl L &quot;), para que o logotipo possa destacar os algarismos arábicos 50.\n",
            "       Respostas esperada: {'text': ['Santa Clara, Califórnia', 'Estádio de Levi', 'Estádio de Levi no San Francisco Bay Area em Santa Clara, Califórnia.'], 'answer_start': [443, 0, 0]}\n",
            "       Resposta esperada: Santa Clara, Califórnia\n",
            "       Resposta esperada: Estádio de Levi\n",
            "       Resposta esperada: Estádio de Levi no San Francisco Bay Area em Santa Clara, Califórnia.\n",
            "      Resposta QA:  Santa Clara, Califórnia , pontuação:  0.9934 , início:  443 , fim:  466\n",
            "\n",
            "Pergunta: Qual time da NFL venceu o Super Bowl 50?\n",
            "Contexto: Super Bowl 50 foi um jogo de futebol americano para determinar o campeão da National Football League (NFL) para a temporada de 2015. O campeão da American Football Conference (AFC), Denver Broncos, derrotou a campeã Carolina Panthers, da National Football Conference (NFC), por 24 a 10, e conquistou seu terceiro título no Super Bowl. O jogo foi disputado em 7 de fevereiro de 2016, no Levi&#39;s Stadium, na área da baía de San Francisco, em Santa Clara, Califórnia. Como este foi o 50º Super Bowl, a liga enfatizou o &quot;aniversário de ouro&quot; com várias iniciativas de ouro, bem como a suspensão temporária da tradição de nomear cada jogo do Super Bowl com algarismos romanos (sob os quais o jogo seria conhecido como &quot; Super Bowl L &quot;), para que o logotipo possa destacar os algarismos arábicos 50.\n",
            "       Respostas esperada: {'text': ['Denver Broncos', 'Denver Broncos', 'Denver Broncos'], 'answer_start': [182, 182, 182]}\n",
            "       Resposta esperada: Denver Broncos\n",
            "       Resposta esperada: Denver Broncos\n",
            "       Resposta esperada: Denver Broncos\n",
            "      Resposta QA:  Denver Broncos , pontuação:  1.0 , início:  182 , fim:  196\n",
            "\n",
            "Pergunta: Que cor foi usada para enfatizar o 50º aniversário do Super Bowl?\n",
            "Contexto: Super Bowl 50 foi um jogo de futebol americano para determinar o campeão da National Football League (NFL) para a temporada de 2015. O campeão da American Football Conference (AFC), Denver Broncos, derrotou a campeã Carolina Panthers, da National Football Conference (NFC), por 24 a 10, e conquistou seu terceiro título no Super Bowl. O jogo foi disputado em 7 de fevereiro de 2016, no Levi&#39;s Stadium, na área da baía de San Francisco, em Santa Clara, Califórnia. Como este foi o 50º Super Bowl, a liga enfatizou o &quot;aniversário de ouro&quot; com várias iniciativas de ouro, bem como a suspensão temporária da tradição de nomear cada jogo do Super Bowl com algarismos romanos (sob os quais o jogo seria conhecido como &quot; Super Bowl L &quot;), para que o logotipo possa destacar os algarismos arábicos 50.\n",
            "       Respostas esperada: {'text': ['ouro', 'ouro', 'ouro'], 'answer_start': [540, 540, 540]}\n",
            "       Resposta esperada: ouro\n",
            "       Resposta esperada: ouro\n",
            "       Resposta esperada: ouro\n",
            "      Resposta QA:  ouro , pontuação:  1.0 , início:  540 , fim:  544\n",
            "\n",
            "Pergunta: Qual foi o tema do Super Bowl 50?\n",
            "Contexto: Super Bowl 50 foi um jogo de futebol americano para determinar o campeão da National Football League (NFL) para a temporada de 2015. O campeão da American Football Conference (AFC), Denver Broncos, derrotou a campeã Carolina Panthers, da National Football Conference (NFC), por 24 a 10, e conquistou seu terceiro título no Super Bowl. O jogo foi disputado em 7 de fevereiro de 2016, no Levi&#39;s Stadium, na área da baía de San Francisco, em Santa Clara, Califórnia. Como este foi o 50º Super Bowl, a liga enfatizou o &quot;aniversário de ouro&quot; com várias iniciativas de ouro, bem como a suspensão temporária da tradição de nomear cada jogo do Super Bowl com algarismos romanos (sob os quais o jogo seria conhecido como &quot; Super Bowl L &quot;), para que o logotipo possa destacar os algarismos arábicos 50.\n",
            "       Respostas esperada: {'text': ['&quot;aniversário de ouro&quot;', 'temática de ouro', '&quot;aniversário de ouro'], 'answer_start': [519, 0, 519]}\n",
            "       Resposta esperada: &quot;aniversário de ouro&quot;\n",
            "       Resposta esperada: temática de ouro\n",
            "       Resposta esperada: &quot;aniversário de ouro\n",
            "      Resposta QA:  futebol americano , pontuação:  0.0688 , início:  29 , fim:  46\n",
            "\n",
            "Pergunta: Em que dia o jogo foi jogado?\n",
            "Contexto: Super Bowl 50 foi um jogo de futebol americano para determinar o campeão da National Football League (NFL) para a temporada de 2015. O campeão da American Football Conference (AFC), Denver Broncos, derrotou a campeã Carolina Panthers, da National Football Conference (NFC), por 24 a 10, e conquistou seu terceiro título no Super Bowl. O jogo foi disputado em 7 de fevereiro de 2016, no Levi&#39;s Stadium, na área da baía de San Francisco, em Santa Clara, Califórnia. Como este foi o 50º Super Bowl, a liga enfatizou o &quot;aniversário de ouro&quot; com várias iniciativas de ouro, bem como a suspensão temporária da tradição de nomear cada jogo do Super Bowl com algarismos romanos (sob os quais o jogo seria conhecido como &quot; Super Bowl L &quot;), para que o logotipo possa destacar os algarismos arábicos 50.\n",
            "       Respostas esperada: {'text': ['7 de fevereiro de 2016', '7 de fevereiro', '7 de fevereiro de 2016'], 'answer_start': [359, 359, 359]}\n",
            "       Resposta esperada: 7 de fevereiro de 2016\n",
            "       Resposta esperada: 7 de fevereiro\n",
            "       Resposta esperada: 7 de fevereiro de 2016\n",
            "      Resposta QA:  7 de fevereiro de 2016 , pontuação:  1.0 , início:  359 , fim:  381\n",
            "\n",
            "Pergunta: O que é o curto AFC para?\n",
            "Contexto: Super Bowl 50 foi um jogo de futebol americano para determinar o campeão da National Football League (NFL) para a temporada de 2015. O campeão da American Football Conference (AFC), Denver Broncos, derrotou a campeã Carolina Panthers, da National Football Conference (NFC), por 24 a 10, e conquistou seu terceiro título no Super Bowl. O jogo foi disputado em 7 de fevereiro de 2016, no Levi&#39;s Stadium, na área da baía de San Francisco, em Santa Clara, Califórnia. Como este foi o 50º Super Bowl, a liga enfatizou o &quot;aniversário de ouro&quot; com várias iniciativas de ouro, bem como a suspensão temporária da tradição de nomear cada jogo do Super Bowl com algarismos romanos (sob os quais o jogo seria conhecido como &quot; Super Bowl L &quot;), para que o logotipo possa destacar os algarismos arábicos 50.\n",
            "       Respostas esperada: {'text': ['Conferência de futebol americano', 'Conferência de futebol americano', 'Conferência de futebol americano'], 'answer_start': [0, 0, 0]}\n",
            "       Resposta esperada: Conferência de futebol americano\n",
            "       Resposta esperada: Conferência de futebol americano\n",
            "       Resposta esperada: Conferência de futebol americano\n",
            "      Resposta QA:  American Football Conference , pontuação:  0.7205 , início:  146 , fim:  174\n",
            "\n",
            "Pergunta: Qual foi o tema do Super Bowl 50?\n",
            "Contexto: Super Bowl 50 foi um jogo de futebol americano para determinar o campeão da National Football League (NFL) para a temporada de 2015. O campeão da American Football Conference (AFC), Denver Broncos, derrotou a campeã Carolina Panthers, da National Football Conference (NFC), por 24 a 10, e conquistou seu terceiro título no Super Bowl. O jogo foi disputado em 7 de fevereiro de 2016, no Levi&#39;s Stadium, na área da baía de San Francisco, em Santa Clara, Califórnia. Como este foi o 50º Super Bowl, a liga enfatizou o &quot;aniversário de ouro&quot; com várias iniciativas de ouro, bem como a suspensão temporária da tradição de nomear cada jogo do Super Bowl com algarismos romanos (sob os quais o jogo seria conhecido como &quot; Super Bowl L &quot;), para que o logotipo possa destacar os algarismos arábicos 50.\n",
            "       Respostas esperada: {'text': ['&quot;aniversário de ouro&quot;', 'temática de ouro', 'ouro'], 'answer_start': [519, 0, 540]}\n",
            "       Resposta esperada: &quot;aniversário de ouro&quot;\n",
            "       Resposta esperada: temática de ouro\n",
            "       Resposta esperada: ouro\n",
            "      Resposta QA:  futebol americano , pontuação:  0.0688 , início:  29 , fim:  46\n",
            "\n",
            "Pergunta: O que significa o AFC?\n",
            "Contexto: Super Bowl 50 foi um jogo de futebol americano para determinar o campeão da National Football League (NFL) para a temporada de 2015. O campeão da American Football Conference (AFC), Denver Broncos, derrotou a campeã Carolina Panthers, da National Football Conference (NFC), por 24 a 10, e conquistou seu terceiro título no Super Bowl. O jogo foi disputado em 7 de fevereiro de 2016, no Levi&#39;s Stadium, na área da baía de San Francisco, em Santa Clara, Califórnia. Como este foi o 50º Super Bowl, a liga enfatizou o &quot;aniversário de ouro&quot; com várias iniciativas de ouro, bem como a suspensão temporária da tradição de nomear cada jogo do Super Bowl com algarismos romanos (sob os quais o jogo seria conhecido como &quot; Super Bowl L &quot;), para que o logotipo possa destacar os algarismos arábicos 50.\n",
            "       Respostas esperada: {'text': ['Conferência de futebol americano', 'Conferência de futebol americano', 'Conferência de futebol americano'], 'answer_start': [0, 0, 0]}\n",
            "       Resposta esperada: Conferência de futebol americano\n",
            "       Resposta esperada: Conferência de futebol americano\n",
            "       Resposta esperada: Conferência de futebol americano\n",
            "      Resposta QA:  American Football Conference , pontuação:  0.9981 , início:  146 , fim:  174\n"
          ],
          "name": "stdout"
        }
      ]
    }
  ]
}