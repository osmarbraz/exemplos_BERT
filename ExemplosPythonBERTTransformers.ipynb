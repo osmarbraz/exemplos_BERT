{
  "nbformat": 4,
  "nbformat_minor": 0,
  "metadata": {
    "colab": {
      "name": "ExemplosPythonBERTTransformers.ipynb",
      "provenance": [],
      "collapsed_sections": [],
      "toc_visible": true,
      "authorship_tag": "ABX9TyMZOCuNWrihUr7Vk5ve5Hi5",
      "include_colab_link": true
    },
    "kernelspec": {
      "name": "python3",
      "display_name": "Python 3"
    },
    "widgets": {
      "application/vnd.jupyter.widget-state+json": {
        "71f26022f97a442cab8197b33cd5c334": {
          "model_module": "@jupyter-widgets/controls",
          "model_name": "HBoxModel",
          "state": {
            "_view_name": "HBoxView",
            "_dom_classes": [],
            "_model_name": "HBoxModel",
            "_view_module": "@jupyter-widgets/controls",
            "_model_module_version": "1.5.0",
            "_view_count": null,
            "_view_module_version": "1.5.0",
            "box_style": "",
            "layout": "IPY_MODEL_15ccb049987b4ec7841bef1106b23eac",
            "_model_module": "@jupyter-widgets/controls",
            "children": [
              "IPY_MODEL_2ee447295b424723ab12b571ec971c70",
              "IPY_MODEL_ba42679dbab04579906a0e3b888fbbf9"
            ]
          }
        },
        "15ccb049987b4ec7841bef1106b23eac": {
          "model_module": "@jupyter-widgets/base",
          "model_name": "LayoutModel",
          "state": {
            "_view_name": "LayoutView",
            "grid_template_rows": null,
            "right": null,
            "justify_content": null,
            "_view_module": "@jupyter-widgets/base",
            "overflow": null,
            "_model_module_version": "1.2.0",
            "_view_count": null,
            "flex_flow": null,
            "width": null,
            "min_width": null,
            "border": null,
            "align_items": null,
            "bottom": null,
            "_model_module": "@jupyter-widgets/base",
            "top": null,
            "grid_column": null,
            "overflow_y": null,
            "overflow_x": null,
            "grid_auto_flow": null,
            "grid_area": null,
            "grid_template_columns": null,
            "flex": null,
            "_model_name": "LayoutModel",
            "justify_items": null,
            "grid_row": null,
            "max_height": null,
            "align_content": null,
            "visibility": null,
            "align_self": null,
            "height": null,
            "min_height": null,
            "padding": null,
            "grid_auto_rows": null,
            "grid_gap": null,
            "max_width": null,
            "order": null,
            "_view_module_version": "1.2.0",
            "grid_template_areas": null,
            "object_position": null,
            "object_fit": null,
            "grid_auto_columns": null,
            "margin": null,
            "display": null,
            "left": null
          }
        },
        "2ee447295b424723ab12b571ec971c70": {
          "model_module": "@jupyter-widgets/controls",
          "model_name": "FloatProgressModel",
          "state": {
            "_view_name": "ProgressView",
            "style": "IPY_MODEL_954a6a36732f45ac89ea2f7bfb905763",
            "_dom_classes": [],
            "description": "Downloading: 100%",
            "_model_name": "FloatProgressModel",
            "bar_style": "success",
            "max": 647,
            "_view_module": "@jupyter-widgets/controls",
            "_model_module_version": "1.5.0",
            "value": 647,
            "_view_count": null,
            "_view_module_version": "1.5.0",
            "orientation": "horizontal",
            "min": 0,
            "description_tooltip": null,
            "_model_module": "@jupyter-widgets/controls",
            "layout": "IPY_MODEL_6b3479c7c79942c3acd78fd1f77fefda"
          }
        },
        "ba42679dbab04579906a0e3b888fbbf9": {
          "model_module": "@jupyter-widgets/controls",
          "model_name": "HTMLModel",
          "state": {
            "_view_name": "HTMLView",
            "style": "IPY_MODEL_785d40a7bbe84aebb00a08f329d6a19f",
            "_dom_classes": [],
            "description": "",
            "_model_name": "HTMLModel",
            "placeholder": "​",
            "_view_module": "@jupyter-widgets/controls",
            "_model_module_version": "1.5.0",
            "value": " 647/647 [00:01&lt;00:00, 388B/s]",
            "_view_count": null,
            "_view_module_version": "1.5.0",
            "description_tooltip": null,
            "_model_module": "@jupyter-widgets/controls",
            "layout": "IPY_MODEL_52da1ddcce5445dda9f678d695aea60e"
          }
        },
        "954a6a36732f45ac89ea2f7bfb905763": {
          "model_module": "@jupyter-widgets/controls",
          "model_name": "ProgressStyleModel",
          "state": {
            "_view_name": "StyleView",
            "_model_name": "ProgressStyleModel",
            "description_width": "initial",
            "_view_module": "@jupyter-widgets/base",
            "_model_module_version": "1.5.0",
            "_view_count": null,
            "_view_module_version": "1.2.0",
            "bar_color": null,
            "_model_module": "@jupyter-widgets/controls"
          }
        },
        "6b3479c7c79942c3acd78fd1f77fefda": {
          "model_module": "@jupyter-widgets/base",
          "model_name": "LayoutModel",
          "state": {
            "_view_name": "LayoutView",
            "grid_template_rows": null,
            "right": null,
            "justify_content": null,
            "_view_module": "@jupyter-widgets/base",
            "overflow": null,
            "_model_module_version": "1.2.0",
            "_view_count": null,
            "flex_flow": null,
            "width": null,
            "min_width": null,
            "border": null,
            "align_items": null,
            "bottom": null,
            "_model_module": "@jupyter-widgets/base",
            "top": null,
            "grid_column": null,
            "overflow_y": null,
            "overflow_x": null,
            "grid_auto_flow": null,
            "grid_area": null,
            "grid_template_columns": null,
            "flex": null,
            "_model_name": "LayoutModel",
            "justify_items": null,
            "grid_row": null,
            "max_height": null,
            "align_content": null,
            "visibility": null,
            "align_self": null,
            "height": null,
            "min_height": null,
            "padding": null,
            "grid_auto_rows": null,
            "grid_gap": null,
            "max_width": null,
            "order": null,
            "_view_module_version": "1.2.0",
            "grid_template_areas": null,
            "object_position": null,
            "object_fit": null,
            "grid_auto_columns": null,
            "margin": null,
            "display": null,
            "left": null
          }
        },
        "785d40a7bbe84aebb00a08f329d6a19f": {
          "model_module": "@jupyter-widgets/controls",
          "model_name": "DescriptionStyleModel",
          "state": {
            "_view_name": "StyleView",
            "_model_name": "DescriptionStyleModel",
            "description_width": "",
            "_view_module": "@jupyter-widgets/base",
            "_model_module_version": "1.5.0",
            "_view_count": null,
            "_view_module_version": "1.2.0",
            "_model_module": "@jupyter-widgets/controls"
          }
        },
        "52da1ddcce5445dda9f678d695aea60e": {
          "model_module": "@jupyter-widgets/base",
          "model_name": "LayoutModel",
          "state": {
            "_view_name": "LayoutView",
            "grid_template_rows": null,
            "right": null,
            "justify_content": null,
            "_view_module": "@jupyter-widgets/base",
            "overflow": null,
            "_model_module_version": "1.2.0",
            "_view_count": null,
            "flex_flow": null,
            "width": null,
            "min_width": null,
            "border": null,
            "align_items": null,
            "bottom": null,
            "_model_module": "@jupyter-widgets/base",
            "top": null,
            "grid_column": null,
            "overflow_y": null,
            "overflow_x": null,
            "grid_auto_flow": null,
            "grid_area": null,
            "grid_template_columns": null,
            "flex": null,
            "_model_name": "LayoutModel",
            "justify_items": null,
            "grid_row": null,
            "max_height": null,
            "align_content": null,
            "visibility": null,
            "align_self": null,
            "height": null,
            "min_height": null,
            "padding": null,
            "grid_auto_rows": null,
            "grid_gap": null,
            "max_width": null,
            "order": null,
            "_view_module_version": "1.2.0",
            "grid_template_areas": null,
            "object_position": null,
            "object_fit": null,
            "grid_auto_columns": null,
            "margin": null,
            "display": null,
            "left": null
          }
        },
        "b4ddd7553d9d4c0e906554d602dc6e64": {
          "model_module": "@jupyter-widgets/controls",
          "model_name": "HBoxModel",
          "state": {
            "_view_name": "HBoxView",
            "_dom_classes": [],
            "_model_name": "HBoxModel",
            "_view_module": "@jupyter-widgets/controls",
            "_model_module_version": "1.5.0",
            "_view_count": null,
            "_view_module_version": "1.5.0",
            "box_style": "",
            "layout": "IPY_MODEL_fd60f5ac44d1445c9d8b8e482f5adc11",
            "_model_module": "@jupyter-widgets/controls",
            "children": [
              "IPY_MODEL_b35b9a8e3a3247ee84c11802f20ebcbc",
              "IPY_MODEL_517933c42975493aa5c839ef42acacb8"
            ]
          }
        },
        "fd60f5ac44d1445c9d8b8e482f5adc11": {
          "model_module": "@jupyter-widgets/base",
          "model_name": "LayoutModel",
          "state": {
            "_view_name": "LayoutView",
            "grid_template_rows": null,
            "right": null,
            "justify_content": null,
            "_view_module": "@jupyter-widgets/base",
            "overflow": null,
            "_model_module_version": "1.2.0",
            "_view_count": null,
            "flex_flow": null,
            "width": null,
            "min_width": null,
            "border": null,
            "align_items": null,
            "bottom": null,
            "_model_module": "@jupyter-widgets/base",
            "top": null,
            "grid_column": null,
            "overflow_y": null,
            "overflow_x": null,
            "grid_auto_flow": null,
            "grid_area": null,
            "grid_template_columns": null,
            "flex": null,
            "_model_name": "LayoutModel",
            "justify_items": null,
            "grid_row": null,
            "max_height": null,
            "align_content": null,
            "visibility": null,
            "align_self": null,
            "height": null,
            "min_height": null,
            "padding": null,
            "grid_auto_rows": null,
            "grid_gap": null,
            "max_width": null,
            "order": null,
            "_view_module_version": "1.2.0",
            "grid_template_areas": null,
            "object_position": null,
            "object_fit": null,
            "grid_auto_columns": null,
            "margin": null,
            "display": null,
            "left": null
          }
        },
        "b35b9a8e3a3247ee84c11802f20ebcbc": {
          "model_module": "@jupyter-widgets/controls",
          "model_name": "FloatProgressModel",
          "state": {
            "_view_name": "ProgressView",
            "style": "IPY_MODEL_ab2ccdc396c544799157615d2b243e34",
            "_dom_classes": [],
            "description": "Downloading: 100%",
            "_model_name": "FloatProgressModel",
            "bar_style": "success",
            "max": 209528,
            "_view_module": "@jupyter-widgets/controls",
            "_model_module_version": "1.5.0",
            "value": 209528,
            "_view_count": null,
            "_view_module_version": "1.5.0",
            "orientation": "horizontal",
            "min": 0,
            "description_tooltip": null,
            "_model_module": "@jupyter-widgets/controls",
            "layout": "IPY_MODEL_72a493dcadd3477baec2b7398123023f"
          }
        },
        "517933c42975493aa5c839ef42acacb8": {
          "model_module": "@jupyter-widgets/controls",
          "model_name": "HTMLModel",
          "state": {
            "_view_name": "HTMLView",
            "style": "IPY_MODEL_d0781ca6465644b08a3d63924df29f2a",
            "_dom_classes": [],
            "description": "",
            "_model_name": "HTMLModel",
            "placeholder": "​",
            "_view_module": "@jupyter-widgets/controls",
            "_model_module_version": "1.5.0",
            "value": " 210k/210k [00:00&lt;00:00, 369kB/s]",
            "_view_count": null,
            "_view_module_version": "1.5.0",
            "description_tooltip": null,
            "_model_module": "@jupyter-widgets/controls",
            "layout": "IPY_MODEL_be74569970f04f8eaaca8400da00ce4d"
          }
        },
        "ab2ccdc396c544799157615d2b243e34": {
          "model_module": "@jupyter-widgets/controls",
          "model_name": "ProgressStyleModel",
          "state": {
            "_view_name": "StyleView",
            "_model_name": "ProgressStyleModel",
            "description_width": "initial",
            "_view_module": "@jupyter-widgets/base",
            "_model_module_version": "1.5.0",
            "_view_count": null,
            "_view_module_version": "1.2.0",
            "bar_color": null,
            "_model_module": "@jupyter-widgets/controls"
          }
        },
        "72a493dcadd3477baec2b7398123023f": {
          "model_module": "@jupyter-widgets/base",
          "model_name": "LayoutModel",
          "state": {
            "_view_name": "LayoutView",
            "grid_template_rows": null,
            "right": null,
            "justify_content": null,
            "_view_module": "@jupyter-widgets/base",
            "overflow": null,
            "_model_module_version": "1.2.0",
            "_view_count": null,
            "flex_flow": null,
            "width": null,
            "min_width": null,
            "border": null,
            "align_items": null,
            "bottom": null,
            "_model_module": "@jupyter-widgets/base",
            "top": null,
            "grid_column": null,
            "overflow_y": null,
            "overflow_x": null,
            "grid_auto_flow": null,
            "grid_area": null,
            "grid_template_columns": null,
            "flex": null,
            "_model_name": "LayoutModel",
            "justify_items": null,
            "grid_row": null,
            "max_height": null,
            "align_content": null,
            "visibility": null,
            "align_self": null,
            "height": null,
            "min_height": null,
            "padding": null,
            "grid_auto_rows": null,
            "grid_gap": null,
            "max_width": null,
            "order": null,
            "_view_module_version": "1.2.0",
            "grid_template_areas": null,
            "object_position": null,
            "object_fit": null,
            "grid_auto_columns": null,
            "margin": null,
            "display": null,
            "left": null
          }
        },
        "d0781ca6465644b08a3d63924df29f2a": {
          "model_module": "@jupyter-widgets/controls",
          "model_name": "DescriptionStyleModel",
          "state": {
            "_view_name": "StyleView",
            "_model_name": "DescriptionStyleModel",
            "description_width": "",
            "_view_module": "@jupyter-widgets/base",
            "_model_module_version": "1.5.0",
            "_view_count": null,
            "_view_module_version": "1.2.0",
            "_model_module": "@jupyter-widgets/controls"
          }
        },
        "be74569970f04f8eaaca8400da00ce4d": {
          "model_module": "@jupyter-widgets/base",
          "model_name": "LayoutModel",
          "state": {
            "_view_name": "LayoutView",
            "grid_template_rows": null,
            "right": null,
            "justify_content": null,
            "_view_module": "@jupyter-widgets/base",
            "overflow": null,
            "_model_module_version": "1.2.0",
            "_view_count": null,
            "flex_flow": null,
            "width": null,
            "min_width": null,
            "border": null,
            "align_items": null,
            "bottom": null,
            "_model_module": "@jupyter-widgets/base",
            "top": null,
            "grid_column": null,
            "overflow_y": null,
            "overflow_x": null,
            "grid_auto_flow": null,
            "grid_area": null,
            "grid_template_columns": null,
            "flex": null,
            "_model_name": "LayoutModel",
            "justify_items": null,
            "grid_row": null,
            "max_height": null,
            "align_content": null,
            "visibility": null,
            "align_self": null,
            "height": null,
            "min_height": null,
            "padding": null,
            "grid_auto_rows": null,
            "grid_gap": null,
            "max_width": null,
            "order": null,
            "_view_module_version": "1.2.0",
            "grid_template_areas": null,
            "object_position": null,
            "object_fit": null,
            "grid_auto_columns": null,
            "margin": null,
            "display": null,
            "left": null
          }
        },
        "c3f123416f264b4f9f4a9aab44db6219": {
          "model_module": "@jupyter-widgets/controls",
          "model_name": "HBoxModel",
          "state": {
            "_view_name": "HBoxView",
            "_dom_classes": [],
            "_model_name": "HBoxModel",
            "_view_module": "@jupyter-widgets/controls",
            "_model_module_version": "1.5.0",
            "_view_count": null,
            "_view_module_version": "1.5.0",
            "box_style": "",
            "layout": "IPY_MODEL_ed505cf5675c49dda97ebcecf9c0e370",
            "_model_module": "@jupyter-widgets/controls",
            "children": [
              "IPY_MODEL_eb97f3260499478fb8eac6fe97753310",
              "IPY_MODEL_919aafb4e186480291e9ec47c79ebd60"
            ]
          }
        },
        "ed505cf5675c49dda97ebcecf9c0e370": {
          "model_module": "@jupyter-widgets/base",
          "model_name": "LayoutModel",
          "state": {
            "_view_name": "LayoutView",
            "grid_template_rows": null,
            "right": null,
            "justify_content": null,
            "_view_module": "@jupyter-widgets/base",
            "overflow": null,
            "_model_module_version": "1.2.0",
            "_view_count": null,
            "flex_flow": null,
            "width": null,
            "min_width": null,
            "border": null,
            "align_items": null,
            "bottom": null,
            "_model_module": "@jupyter-widgets/base",
            "top": null,
            "grid_column": null,
            "overflow_y": null,
            "overflow_x": null,
            "grid_auto_flow": null,
            "grid_area": null,
            "grid_template_columns": null,
            "flex": null,
            "_model_name": "LayoutModel",
            "justify_items": null,
            "grid_row": null,
            "max_height": null,
            "align_content": null,
            "visibility": null,
            "align_self": null,
            "height": null,
            "min_height": null,
            "padding": null,
            "grid_auto_rows": null,
            "grid_gap": null,
            "max_width": null,
            "order": null,
            "_view_module_version": "1.2.0",
            "grid_template_areas": null,
            "object_position": null,
            "object_fit": null,
            "grid_auto_columns": null,
            "margin": null,
            "display": null,
            "left": null
          }
        },
        "eb97f3260499478fb8eac6fe97753310": {
          "model_module": "@jupyter-widgets/controls",
          "model_name": "FloatProgressModel",
          "state": {
            "_view_name": "ProgressView",
            "style": "IPY_MODEL_84967b36fd324f349aaeac2dc8edf8c7",
            "_dom_classes": [],
            "description": "Downloading: 100%",
            "_model_name": "FloatProgressModel",
            "bar_style": "success",
            "max": 2,
            "_view_module": "@jupyter-widgets/controls",
            "_model_module_version": "1.5.0",
            "value": 2,
            "_view_count": null,
            "_view_module_version": "1.5.0",
            "orientation": "horizontal",
            "min": 0,
            "description_tooltip": null,
            "_model_module": "@jupyter-widgets/controls",
            "layout": "IPY_MODEL_5fc6e815554142d7b566f3a294f3eb83"
          }
        },
        "919aafb4e186480291e9ec47c79ebd60": {
          "model_module": "@jupyter-widgets/controls",
          "model_name": "HTMLModel",
          "state": {
            "_view_name": "HTMLView",
            "style": "IPY_MODEL_0890f06b8d9543728ad3c38717ab7ad5",
            "_dom_classes": [],
            "description": "",
            "_model_name": "HTMLModel",
            "placeholder": "​",
            "_view_module": "@jupyter-widgets/controls",
            "_model_module_version": "1.5.0",
            "value": " 2.00/2.00 [00:00&lt;00:00, 2.46B/s]",
            "_view_count": null,
            "_view_module_version": "1.5.0",
            "description_tooltip": null,
            "_model_module": "@jupyter-widgets/controls",
            "layout": "IPY_MODEL_5ff5220d4f24460f9bdd67b79391cf44"
          }
        },
        "84967b36fd324f349aaeac2dc8edf8c7": {
          "model_module": "@jupyter-widgets/controls",
          "model_name": "ProgressStyleModel",
          "state": {
            "_view_name": "StyleView",
            "_model_name": "ProgressStyleModel",
            "description_width": "initial",
            "_view_module": "@jupyter-widgets/base",
            "_model_module_version": "1.5.0",
            "_view_count": null,
            "_view_module_version": "1.2.0",
            "bar_color": null,
            "_model_module": "@jupyter-widgets/controls"
          }
        },
        "5fc6e815554142d7b566f3a294f3eb83": {
          "model_module": "@jupyter-widgets/base",
          "model_name": "LayoutModel",
          "state": {
            "_view_name": "LayoutView",
            "grid_template_rows": null,
            "right": null,
            "justify_content": null,
            "_view_module": "@jupyter-widgets/base",
            "overflow": null,
            "_model_module_version": "1.2.0",
            "_view_count": null,
            "flex_flow": null,
            "width": null,
            "min_width": null,
            "border": null,
            "align_items": null,
            "bottom": null,
            "_model_module": "@jupyter-widgets/base",
            "top": null,
            "grid_column": null,
            "overflow_y": null,
            "overflow_x": null,
            "grid_auto_flow": null,
            "grid_area": null,
            "grid_template_columns": null,
            "flex": null,
            "_model_name": "LayoutModel",
            "justify_items": null,
            "grid_row": null,
            "max_height": null,
            "align_content": null,
            "visibility": null,
            "align_self": null,
            "height": null,
            "min_height": null,
            "padding": null,
            "grid_auto_rows": null,
            "grid_gap": null,
            "max_width": null,
            "order": null,
            "_view_module_version": "1.2.0",
            "grid_template_areas": null,
            "object_position": null,
            "object_fit": null,
            "grid_auto_columns": null,
            "margin": null,
            "display": null,
            "left": null
          }
        },
        "0890f06b8d9543728ad3c38717ab7ad5": {
          "model_module": "@jupyter-widgets/controls",
          "model_name": "DescriptionStyleModel",
          "state": {
            "_view_name": "StyleView",
            "_model_name": "DescriptionStyleModel",
            "description_width": "",
            "_view_module": "@jupyter-widgets/base",
            "_model_module_version": "1.5.0",
            "_view_count": null,
            "_view_module_version": "1.2.0",
            "_model_module": "@jupyter-widgets/controls"
          }
        },
        "5ff5220d4f24460f9bdd67b79391cf44": {
          "model_module": "@jupyter-widgets/base",
          "model_name": "LayoutModel",
          "state": {
            "_view_name": "LayoutView",
            "grid_template_rows": null,
            "right": null,
            "justify_content": null,
            "_view_module": "@jupyter-widgets/base",
            "overflow": null,
            "_model_module_version": "1.2.0",
            "_view_count": null,
            "flex_flow": null,
            "width": null,
            "min_width": null,
            "border": null,
            "align_items": null,
            "bottom": null,
            "_model_module": "@jupyter-widgets/base",
            "top": null,
            "grid_column": null,
            "overflow_y": null,
            "overflow_x": null,
            "grid_auto_flow": null,
            "grid_area": null,
            "grid_template_columns": null,
            "flex": null,
            "_model_name": "LayoutModel",
            "justify_items": null,
            "grid_row": null,
            "max_height": null,
            "align_content": null,
            "visibility": null,
            "align_self": null,
            "height": null,
            "min_height": null,
            "padding": null,
            "grid_auto_rows": null,
            "grid_gap": null,
            "max_width": null,
            "order": null,
            "_view_module_version": "1.2.0",
            "grid_template_areas": null,
            "object_position": null,
            "object_fit": null,
            "grid_auto_columns": null,
            "margin": null,
            "display": null,
            "left": null
          }
        },
        "ac74dce4f393466cbb7c42387bff5289": {
          "model_module": "@jupyter-widgets/controls",
          "model_name": "HBoxModel",
          "state": {
            "_view_name": "HBoxView",
            "_dom_classes": [],
            "_model_name": "HBoxModel",
            "_view_module": "@jupyter-widgets/controls",
            "_model_module_version": "1.5.0",
            "_view_count": null,
            "_view_module_version": "1.5.0",
            "box_style": "",
            "layout": "IPY_MODEL_4d84b740cb7249d49c162a38a9dfbf76",
            "_model_module": "@jupyter-widgets/controls",
            "children": [
              "IPY_MODEL_aa88b24db36343e391f6fc889f2a067b",
              "IPY_MODEL_8589f01c678744f2a1e667b7604616df"
            ]
          }
        },
        "4d84b740cb7249d49c162a38a9dfbf76": {
          "model_module": "@jupyter-widgets/base",
          "model_name": "LayoutModel",
          "state": {
            "_view_name": "LayoutView",
            "grid_template_rows": null,
            "right": null,
            "justify_content": null,
            "_view_module": "@jupyter-widgets/base",
            "overflow": null,
            "_model_module_version": "1.2.0",
            "_view_count": null,
            "flex_flow": null,
            "width": null,
            "min_width": null,
            "border": null,
            "align_items": null,
            "bottom": null,
            "_model_module": "@jupyter-widgets/base",
            "top": null,
            "grid_column": null,
            "overflow_y": null,
            "overflow_x": null,
            "grid_auto_flow": null,
            "grid_area": null,
            "grid_template_columns": null,
            "flex": null,
            "_model_name": "LayoutModel",
            "justify_items": null,
            "grid_row": null,
            "max_height": null,
            "align_content": null,
            "visibility": null,
            "align_self": null,
            "height": null,
            "min_height": null,
            "padding": null,
            "grid_auto_rows": null,
            "grid_gap": null,
            "max_width": null,
            "order": null,
            "_view_module_version": "1.2.0",
            "grid_template_areas": null,
            "object_position": null,
            "object_fit": null,
            "grid_auto_columns": null,
            "margin": null,
            "display": null,
            "left": null
          }
        },
        "aa88b24db36343e391f6fc889f2a067b": {
          "model_module": "@jupyter-widgets/controls",
          "model_name": "FloatProgressModel",
          "state": {
            "_view_name": "ProgressView",
            "style": "IPY_MODEL_5107ce0a555944559caf896143f4ddbf",
            "_dom_classes": [],
            "description": "Downloading: 100%",
            "_model_name": "FloatProgressModel",
            "bar_style": "success",
            "max": 112,
            "_view_module": "@jupyter-widgets/controls",
            "_model_module_version": "1.5.0",
            "value": 112,
            "_view_count": null,
            "_view_module_version": "1.5.0",
            "orientation": "horizontal",
            "min": 0,
            "description_tooltip": null,
            "_model_module": "@jupyter-widgets/controls",
            "layout": "IPY_MODEL_eaf8bdeb9cfa440db9e57e8db17e7c08"
          }
        },
        "8589f01c678744f2a1e667b7604616df": {
          "model_module": "@jupyter-widgets/controls",
          "model_name": "HTMLModel",
          "state": {
            "_view_name": "HTMLView",
            "style": "IPY_MODEL_7ecfd2d674dd40048a5edb5996396774",
            "_dom_classes": [],
            "description": "",
            "_model_name": "HTMLModel",
            "placeholder": "​",
            "_view_module": "@jupyter-widgets/controls",
            "_model_module_version": "1.5.0",
            "value": " 112/112 [00:00&lt;00:00, 242B/s]",
            "_view_count": null,
            "_view_module_version": "1.5.0",
            "description_tooltip": null,
            "_model_module": "@jupyter-widgets/controls",
            "layout": "IPY_MODEL_6a1d5fe1c44949149da3de4ade45f0f0"
          }
        },
        "5107ce0a555944559caf896143f4ddbf": {
          "model_module": "@jupyter-widgets/controls",
          "model_name": "ProgressStyleModel",
          "state": {
            "_view_name": "StyleView",
            "_model_name": "ProgressStyleModel",
            "description_width": "initial",
            "_view_module": "@jupyter-widgets/base",
            "_model_module_version": "1.5.0",
            "_view_count": null,
            "_view_module_version": "1.2.0",
            "bar_color": null,
            "_model_module": "@jupyter-widgets/controls"
          }
        },
        "eaf8bdeb9cfa440db9e57e8db17e7c08": {
          "model_module": "@jupyter-widgets/base",
          "model_name": "LayoutModel",
          "state": {
            "_view_name": "LayoutView",
            "grid_template_rows": null,
            "right": null,
            "justify_content": null,
            "_view_module": "@jupyter-widgets/base",
            "overflow": null,
            "_model_module_version": "1.2.0",
            "_view_count": null,
            "flex_flow": null,
            "width": null,
            "min_width": null,
            "border": null,
            "align_items": null,
            "bottom": null,
            "_model_module": "@jupyter-widgets/base",
            "top": null,
            "grid_column": null,
            "overflow_y": null,
            "overflow_x": null,
            "grid_auto_flow": null,
            "grid_area": null,
            "grid_template_columns": null,
            "flex": null,
            "_model_name": "LayoutModel",
            "justify_items": null,
            "grid_row": null,
            "max_height": null,
            "align_content": null,
            "visibility": null,
            "align_self": null,
            "height": null,
            "min_height": null,
            "padding": null,
            "grid_auto_rows": null,
            "grid_gap": null,
            "max_width": null,
            "order": null,
            "_view_module_version": "1.2.0",
            "grid_template_areas": null,
            "object_position": null,
            "object_fit": null,
            "grid_auto_columns": null,
            "margin": null,
            "display": null,
            "left": null
          }
        },
        "7ecfd2d674dd40048a5edb5996396774": {
          "model_module": "@jupyter-widgets/controls",
          "model_name": "DescriptionStyleModel",
          "state": {
            "_view_name": "StyleView",
            "_model_name": "DescriptionStyleModel",
            "description_width": "",
            "_view_module": "@jupyter-widgets/base",
            "_model_module_version": "1.5.0",
            "_view_count": null,
            "_view_module_version": "1.2.0",
            "_model_module": "@jupyter-widgets/controls"
          }
        },
        "6a1d5fe1c44949149da3de4ade45f0f0": {
          "model_module": "@jupyter-widgets/base",
          "model_name": "LayoutModel",
          "state": {
            "_view_name": "LayoutView",
            "grid_template_rows": null,
            "right": null,
            "justify_content": null,
            "_view_module": "@jupyter-widgets/base",
            "overflow": null,
            "_model_module_version": "1.2.0",
            "_view_count": null,
            "flex_flow": null,
            "width": null,
            "min_width": null,
            "border": null,
            "align_items": null,
            "bottom": null,
            "_model_module": "@jupyter-widgets/base",
            "top": null,
            "grid_column": null,
            "overflow_y": null,
            "overflow_x": null,
            "grid_auto_flow": null,
            "grid_area": null,
            "grid_template_columns": null,
            "flex": null,
            "_model_name": "LayoutModel",
            "justify_items": null,
            "grid_row": null,
            "max_height": null,
            "align_content": null,
            "visibility": null,
            "align_self": null,
            "height": null,
            "min_height": null,
            "padding": null,
            "grid_auto_rows": null,
            "grid_gap": null,
            "max_width": null,
            "order": null,
            "_view_module_version": "1.2.0",
            "grid_template_areas": null,
            "object_position": null,
            "object_fit": null,
            "grid_auto_columns": null,
            "margin": null,
            "display": null,
            "left": null
          }
        },
        "b3d31af83783444cb6d1e8db8953aa1a": {
          "model_module": "@jupyter-widgets/controls",
          "model_name": "HBoxModel",
          "state": {
            "_view_name": "HBoxView",
            "_dom_classes": [],
            "_model_name": "HBoxModel",
            "_view_module": "@jupyter-widgets/controls",
            "_model_module_version": "1.5.0",
            "_view_count": null,
            "_view_module_version": "1.5.0",
            "box_style": "",
            "layout": "IPY_MODEL_5dc209e0852548d5b297df441ac3ceb7",
            "_model_module": "@jupyter-widgets/controls",
            "children": [
              "IPY_MODEL_36797261f7a64bccadef4903f00c405a",
              "IPY_MODEL_19068a951c9e42cabf95199a6c3ac4ac"
            ]
          }
        },
        "5dc209e0852548d5b297df441ac3ceb7": {
          "model_module": "@jupyter-widgets/base",
          "model_name": "LayoutModel",
          "state": {
            "_view_name": "LayoutView",
            "grid_template_rows": null,
            "right": null,
            "justify_content": null,
            "_view_module": "@jupyter-widgets/base",
            "overflow": null,
            "_model_module_version": "1.2.0",
            "_view_count": null,
            "flex_flow": null,
            "width": null,
            "min_width": null,
            "border": null,
            "align_items": null,
            "bottom": null,
            "_model_module": "@jupyter-widgets/base",
            "top": null,
            "grid_column": null,
            "overflow_y": null,
            "overflow_x": null,
            "grid_auto_flow": null,
            "grid_area": null,
            "grid_template_columns": null,
            "flex": null,
            "_model_name": "LayoutModel",
            "justify_items": null,
            "grid_row": null,
            "max_height": null,
            "align_content": null,
            "visibility": null,
            "align_self": null,
            "height": null,
            "min_height": null,
            "padding": null,
            "grid_auto_rows": null,
            "grid_gap": null,
            "max_width": null,
            "order": null,
            "_view_module_version": "1.2.0",
            "grid_template_areas": null,
            "object_position": null,
            "object_fit": null,
            "grid_auto_columns": null,
            "margin": null,
            "display": null,
            "left": null
          }
        },
        "36797261f7a64bccadef4903f00c405a": {
          "model_module": "@jupyter-widgets/controls",
          "model_name": "FloatProgressModel",
          "state": {
            "_view_name": "ProgressView",
            "style": "IPY_MODEL_c6460bc7aa3c449bb2bfe93586da09cf",
            "_dom_classes": [],
            "description": "Downloading: 100%",
            "_model_name": "FloatProgressModel",
            "bar_style": "success",
            "max": 43,
            "_view_module": "@jupyter-widgets/controls",
            "_model_module_version": "1.5.0",
            "value": 43,
            "_view_count": null,
            "_view_module_version": "1.5.0",
            "orientation": "horizontal",
            "min": 0,
            "description_tooltip": null,
            "_model_module": "@jupyter-widgets/controls",
            "layout": "IPY_MODEL_300e8b99870f40fcb0d89eb22bd19a43"
          }
        },
        "19068a951c9e42cabf95199a6c3ac4ac": {
          "model_module": "@jupyter-widgets/controls",
          "model_name": "HTMLModel",
          "state": {
            "_view_name": "HTMLView",
            "style": "IPY_MODEL_2ce1bba82cd5431782464e9440f65618",
            "_dom_classes": [],
            "description": "",
            "_model_name": "HTMLModel",
            "placeholder": "​",
            "_view_module": "@jupyter-widgets/controls",
            "_model_module_version": "1.5.0",
            "value": " 43.0/43.0 [00:00&lt;00:00, 398B/s]",
            "_view_count": null,
            "_view_module_version": "1.5.0",
            "description_tooltip": null,
            "_model_module": "@jupyter-widgets/controls",
            "layout": "IPY_MODEL_1061ac6622e6460eb636bacf1f94ab50"
          }
        },
        "c6460bc7aa3c449bb2bfe93586da09cf": {
          "model_module": "@jupyter-widgets/controls",
          "model_name": "ProgressStyleModel",
          "state": {
            "_view_name": "StyleView",
            "_model_name": "ProgressStyleModel",
            "description_width": "initial",
            "_view_module": "@jupyter-widgets/base",
            "_model_module_version": "1.5.0",
            "_view_count": null,
            "_view_module_version": "1.2.0",
            "bar_color": null,
            "_model_module": "@jupyter-widgets/controls"
          }
        },
        "300e8b99870f40fcb0d89eb22bd19a43": {
          "model_module": "@jupyter-widgets/base",
          "model_name": "LayoutModel",
          "state": {
            "_view_name": "LayoutView",
            "grid_template_rows": null,
            "right": null,
            "justify_content": null,
            "_view_module": "@jupyter-widgets/base",
            "overflow": null,
            "_model_module_version": "1.2.0",
            "_view_count": null,
            "flex_flow": null,
            "width": null,
            "min_width": null,
            "border": null,
            "align_items": null,
            "bottom": null,
            "_model_module": "@jupyter-widgets/base",
            "top": null,
            "grid_column": null,
            "overflow_y": null,
            "overflow_x": null,
            "grid_auto_flow": null,
            "grid_area": null,
            "grid_template_columns": null,
            "flex": null,
            "_model_name": "LayoutModel",
            "justify_items": null,
            "grid_row": null,
            "max_height": null,
            "align_content": null,
            "visibility": null,
            "align_self": null,
            "height": null,
            "min_height": null,
            "padding": null,
            "grid_auto_rows": null,
            "grid_gap": null,
            "max_width": null,
            "order": null,
            "_view_module_version": "1.2.0",
            "grid_template_areas": null,
            "object_position": null,
            "object_fit": null,
            "grid_auto_columns": null,
            "margin": null,
            "display": null,
            "left": null
          }
        },
        "2ce1bba82cd5431782464e9440f65618": {
          "model_module": "@jupyter-widgets/controls",
          "model_name": "DescriptionStyleModel",
          "state": {
            "_view_name": "StyleView",
            "_model_name": "DescriptionStyleModel",
            "description_width": "",
            "_view_module": "@jupyter-widgets/base",
            "_model_module_version": "1.5.0",
            "_view_count": null,
            "_view_module_version": "1.2.0",
            "_model_module": "@jupyter-widgets/controls"
          }
        },
        "1061ac6622e6460eb636bacf1f94ab50": {
          "model_module": "@jupyter-widgets/base",
          "model_name": "LayoutModel",
          "state": {
            "_view_name": "LayoutView",
            "grid_template_rows": null,
            "right": null,
            "justify_content": null,
            "_view_module": "@jupyter-widgets/base",
            "overflow": null,
            "_model_module_version": "1.2.0",
            "_view_count": null,
            "flex_flow": null,
            "width": null,
            "min_width": null,
            "border": null,
            "align_items": null,
            "bottom": null,
            "_model_module": "@jupyter-widgets/base",
            "top": null,
            "grid_column": null,
            "overflow_y": null,
            "overflow_x": null,
            "grid_auto_flow": null,
            "grid_area": null,
            "grid_template_columns": null,
            "flex": null,
            "_model_name": "LayoutModel",
            "justify_items": null,
            "grid_row": null,
            "max_height": null,
            "align_content": null,
            "visibility": null,
            "align_self": null,
            "height": null,
            "min_height": null,
            "padding": null,
            "grid_auto_rows": null,
            "grid_gap": null,
            "max_width": null,
            "order": null,
            "_view_module_version": "1.2.0",
            "grid_template_areas": null,
            "object_position": null,
            "object_fit": null,
            "grid_auto_columns": null,
            "margin": null,
            "display": null,
            "left": null
          }
        },
        "d9a59e4427064e49b0507553d336e29e": {
          "model_module": "@jupyter-widgets/controls",
          "model_name": "HBoxModel",
          "state": {
            "_view_name": "HBoxView",
            "_dom_classes": [],
            "_model_name": "HBoxModel",
            "_view_module": "@jupyter-widgets/controls",
            "_model_module_version": "1.5.0",
            "_view_count": null,
            "_view_module_version": "1.5.0",
            "box_style": "",
            "layout": "IPY_MODEL_03a054bb5f484fd1bf78f0601fc081f9",
            "_model_module": "@jupyter-widgets/controls",
            "children": [
              "IPY_MODEL_44947c5d4a0f4dad883e4dbb2ea6c4af",
              "IPY_MODEL_77140d8de0274fa6baced3c4283403b5"
            ]
          }
        },
        "03a054bb5f484fd1bf78f0601fc081f9": {
          "model_module": "@jupyter-widgets/base",
          "model_name": "LayoutModel",
          "state": {
            "_view_name": "LayoutView",
            "grid_template_rows": null,
            "right": null,
            "justify_content": null,
            "_view_module": "@jupyter-widgets/base",
            "overflow": null,
            "_model_module_version": "1.2.0",
            "_view_count": null,
            "flex_flow": null,
            "width": null,
            "min_width": null,
            "border": null,
            "align_items": null,
            "bottom": null,
            "_model_module": "@jupyter-widgets/base",
            "top": null,
            "grid_column": null,
            "overflow_y": null,
            "overflow_x": null,
            "grid_auto_flow": null,
            "grid_area": null,
            "grid_template_columns": null,
            "flex": null,
            "_model_name": "LayoutModel",
            "justify_items": null,
            "grid_row": null,
            "max_height": null,
            "align_content": null,
            "visibility": null,
            "align_self": null,
            "height": null,
            "min_height": null,
            "padding": null,
            "grid_auto_rows": null,
            "grid_gap": null,
            "max_width": null,
            "order": null,
            "_view_module_version": "1.2.0",
            "grid_template_areas": null,
            "object_position": null,
            "object_fit": null,
            "grid_auto_columns": null,
            "margin": null,
            "display": null,
            "left": null
          }
        },
        "44947c5d4a0f4dad883e4dbb2ea6c4af": {
          "model_module": "@jupyter-widgets/controls",
          "model_name": "FloatProgressModel",
          "state": {
            "_view_name": "ProgressView",
            "style": "IPY_MODEL_bc33084be0d344edb20829df9f3289df",
            "_dom_classes": [],
            "description": "Downloading: 100%",
            "_model_name": "FloatProgressModel",
            "bar_style": "success",
            "max": 438235074,
            "_view_module": "@jupyter-widgets/controls",
            "_model_module_version": "1.5.0",
            "value": 438235074,
            "_view_count": null,
            "_view_module_version": "1.5.0",
            "orientation": "horizontal",
            "min": 0,
            "description_tooltip": null,
            "_model_module": "@jupyter-widgets/controls",
            "layout": "IPY_MODEL_45b0336a885a484abb0a1d23d68b6960"
          }
        },
        "77140d8de0274fa6baced3c4283403b5": {
          "model_module": "@jupyter-widgets/controls",
          "model_name": "HTMLModel",
          "state": {
            "_view_name": "HTMLView",
            "style": "IPY_MODEL_1fdf180b0efb46dd9a9fa79e78d59604",
            "_dom_classes": [],
            "description": "",
            "_model_name": "HTMLModel",
            "placeholder": "​",
            "_view_module": "@jupyter-widgets/controls",
            "_model_module_version": "1.5.0",
            "value": " 438M/438M [00:16&lt;00:00, 26.6MB/s]",
            "_view_count": null,
            "_view_module_version": "1.5.0",
            "description_tooltip": null,
            "_model_module": "@jupyter-widgets/controls",
            "layout": "IPY_MODEL_4bd2e52670144be98667d7f0e4ff66cf"
          }
        },
        "bc33084be0d344edb20829df9f3289df": {
          "model_module": "@jupyter-widgets/controls",
          "model_name": "ProgressStyleModel",
          "state": {
            "_view_name": "StyleView",
            "_model_name": "ProgressStyleModel",
            "description_width": "initial",
            "_view_module": "@jupyter-widgets/base",
            "_model_module_version": "1.5.0",
            "_view_count": null,
            "_view_module_version": "1.2.0",
            "bar_color": null,
            "_model_module": "@jupyter-widgets/controls"
          }
        },
        "45b0336a885a484abb0a1d23d68b6960": {
          "model_module": "@jupyter-widgets/base",
          "model_name": "LayoutModel",
          "state": {
            "_view_name": "LayoutView",
            "grid_template_rows": null,
            "right": null,
            "justify_content": null,
            "_view_module": "@jupyter-widgets/base",
            "overflow": null,
            "_model_module_version": "1.2.0",
            "_view_count": null,
            "flex_flow": null,
            "width": null,
            "min_width": null,
            "border": null,
            "align_items": null,
            "bottom": null,
            "_model_module": "@jupyter-widgets/base",
            "top": null,
            "grid_column": null,
            "overflow_y": null,
            "overflow_x": null,
            "grid_auto_flow": null,
            "grid_area": null,
            "grid_template_columns": null,
            "flex": null,
            "_model_name": "LayoutModel",
            "justify_items": null,
            "grid_row": null,
            "max_height": null,
            "align_content": null,
            "visibility": null,
            "align_self": null,
            "height": null,
            "min_height": null,
            "padding": null,
            "grid_auto_rows": null,
            "grid_gap": null,
            "max_width": null,
            "order": null,
            "_view_module_version": "1.2.0",
            "grid_template_areas": null,
            "object_position": null,
            "object_fit": null,
            "grid_auto_columns": null,
            "margin": null,
            "display": null,
            "left": null
          }
        },
        "1fdf180b0efb46dd9a9fa79e78d59604": {
          "model_module": "@jupyter-widgets/controls",
          "model_name": "DescriptionStyleModel",
          "state": {
            "_view_name": "StyleView",
            "_model_name": "DescriptionStyleModel",
            "description_width": "",
            "_view_module": "@jupyter-widgets/base",
            "_model_module_version": "1.5.0",
            "_view_count": null,
            "_view_module_version": "1.2.0",
            "_model_module": "@jupyter-widgets/controls"
          }
        },
        "4bd2e52670144be98667d7f0e4ff66cf": {
          "model_module": "@jupyter-widgets/base",
          "model_name": "LayoutModel",
          "state": {
            "_view_name": "LayoutView",
            "grid_template_rows": null,
            "right": null,
            "justify_content": null,
            "_view_module": "@jupyter-widgets/base",
            "overflow": null,
            "_model_module_version": "1.2.0",
            "_view_count": null,
            "flex_flow": null,
            "width": null,
            "min_width": null,
            "border": null,
            "align_items": null,
            "bottom": null,
            "_model_module": "@jupyter-widgets/base",
            "top": null,
            "grid_column": null,
            "overflow_y": null,
            "overflow_x": null,
            "grid_auto_flow": null,
            "grid_area": null,
            "grid_template_columns": null,
            "flex": null,
            "_model_name": "LayoutModel",
            "justify_items": null,
            "grid_row": null,
            "max_height": null,
            "align_content": null,
            "visibility": null,
            "align_self": null,
            "height": null,
            "min_height": null,
            "padding": null,
            "grid_auto_rows": null,
            "grid_gap": null,
            "max_width": null,
            "order": null,
            "_view_module_version": "1.2.0",
            "grid_template_areas": null,
            "object_position": null,
            "object_fit": null,
            "grid_auto_columns": null,
            "margin": null,
            "display": null,
            "left": null
          }
        },
        "b01f97fcdc214d4cb77968337dc53dec": {
          "model_module": "@jupyter-widgets/controls",
          "model_name": "HBoxModel",
          "state": {
            "_view_name": "HBoxView",
            "_dom_classes": [],
            "_model_name": "HBoxModel",
            "_view_module": "@jupyter-widgets/controls",
            "_model_module_version": "1.5.0",
            "_view_count": null,
            "_view_module_version": "1.5.0",
            "box_style": "",
            "layout": "IPY_MODEL_a48b780023a340bf8b11ce457202b676",
            "_model_module": "@jupyter-widgets/controls",
            "children": [
              "IPY_MODEL_6035ce58ad04420ab1064a7c031ba9be",
              "IPY_MODEL_d018813a4a6d414ca837afbce54fcf0f"
            ]
          }
        },
        "a48b780023a340bf8b11ce457202b676": {
          "model_module": "@jupyter-widgets/base",
          "model_name": "LayoutModel",
          "state": {
            "_view_name": "LayoutView",
            "grid_template_rows": null,
            "right": null,
            "justify_content": null,
            "_view_module": "@jupyter-widgets/base",
            "overflow": null,
            "_model_module_version": "1.2.0",
            "_view_count": null,
            "flex_flow": null,
            "width": null,
            "min_width": null,
            "border": null,
            "align_items": null,
            "bottom": null,
            "_model_module": "@jupyter-widgets/base",
            "top": null,
            "grid_column": null,
            "overflow_y": null,
            "overflow_x": null,
            "grid_auto_flow": null,
            "grid_area": null,
            "grid_template_columns": null,
            "flex": null,
            "_model_name": "LayoutModel",
            "justify_items": null,
            "grid_row": null,
            "max_height": null,
            "align_content": null,
            "visibility": null,
            "align_self": null,
            "height": null,
            "min_height": null,
            "padding": null,
            "grid_auto_rows": null,
            "grid_gap": null,
            "max_width": null,
            "order": null,
            "_view_module_version": "1.2.0",
            "grid_template_areas": null,
            "object_position": null,
            "object_fit": null,
            "grid_auto_columns": null,
            "margin": null,
            "display": null,
            "left": null
          }
        },
        "6035ce58ad04420ab1064a7c031ba9be": {
          "model_module": "@jupyter-widgets/controls",
          "model_name": "FloatProgressModel",
          "state": {
            "_view_name": "ProgressView",
            "style": "IPY_MODEL_6927cfc549c64abd837677328d773eeb",
            "_dom_classes": [],
            "description": "Downloading: 100%",
            "_model_name": "FloatProgressModel",
            "bar_style": "success",
            "max": 209528,
            "_view_module": "@jupyter-widgets/controls",
            "_model_module_version": "1.5.0",
            "value": 209528,
            "_view_count": null,
            "_view_module_version": "1.5.0",
            "orientation": "horizontal",
            "min": 0,
            "description_tooltip": null,
            "_model_module": "@jupyter-widgets/controls",
            "layout": "IPY_MODEL_52e00579d15c415aba8692cfa09cd926"
          }
        },
        "d018813a4a6d414ca837afbce54fcf0f": {
          "model_module": "@jupyter-widgets/controls",
          "model_name": "HTMLModel",
          "state": {
            "_view_name": "HTMLView",
            "style": "IPY_MODEL_b926115042a044f78268d3d680369a89",
            "_dom_classes": [],
            "description": "",
            "_model_name": "HTMLModel",
            "placeholder": "​",
            "_view_module": "@jupyter-widgets/controls",
            "_model_module_version": "1.5.0",
            "value": " 210k/210k [00:00&lt;00:00, 536kB/s]",
            "_view_count": null,
            "_view_module_version": "1.5.0",
            "description_tooltip": null,
            "_model_module": "@jupyter-widgets/controls",
            "layout": "IPY_MODEL_bb1d72affd4a4e0180ae28f4ba82de57"
          }
        },
        "6927cfc549c64abd837677328d773eeb": {
          "model_module": "@jupyter-widgets/controls",
          "model_name": "ProgressStyleModel",
          "state": {
            "_view_name": "StyleView",
            "_model_name": "ProgressStyleModel",
            "description_width": "initial",
            "_view_module": "@jupyter-widgets/base",
            "_model_module_version": "1.5.0",
            "_view_count": null,
            "_view_module_version": "1.2.0",
            "bar_color": null,
            "_model_module": "@jupyter-widgets/controls"
          }
        },
        "52e00579d15c415aba8692cfa09cd926": {
          "model_module": "@jupyter-widgets/base",
          "model_name": "LayoutModel",
          "state": {
            "_view_name": "LayoutView",
            "grid_template_rows": null,
            "right": null,
            "justify_content": null,
            "_view_module": "@jupyter-widgets/base",
            "overflow": null,
            "_model_module_version": "1.2.0",
            "_view_count": null,
            "flex_flow": null,
            "width": null,
            "min_width": null,
            "border": null,
            "align_items": null,
            "bottom": null,
            "_model_module": "@jupyter-widgets/base",
            "top": null,
            "grid_column": null,
            "overflow_y": null,
            "overflow_x": null,
            "grid_auto_flow": null,
            "grid_area": null,
            "grid_template_columns": null,
            "flex": null,
            "_model_name": "LayoutModel",
            "justify_items": null,
            "grid_row": null,
            "max_height": null,
            "align_content": null,
            "visibility": null,
            "align_self": null,
            "height": null,
            "min_height": null,
            "padding": null,
            "grid_auto_rows": null,
            "grid_gap": null,
            "max_width": null,
            "order": null,
            "_view_module_version": "1.2.0",
            "grid_template_areas": null,
            "object_position": null,
            "object_fit": null,
            "grid_auto_columns": null,
            "margin": null,
            "display": null,
            "left": null
          }
        },
        "b926115042a044f78268d3d680369a89": {
          "model_module": "@jupyter-widgets/controls",
          "model_name": "DescriptionStyleModel",
          "state": {
            "_view_name": "StyleView",
            "_model_name": "DescriptionStyleModel",
            "description_width": "",
            "_view_module": "@jupyter-widgets/base",
            "_model_module_version": "1.5.0",
            "_view_count": null,
            "_view_module_version": "1.2.0",
            "_model_module": "@jupyter-widgets/controls"
          }
        },
        "bb1d72affd4a4e0180ae28f4ba82de57": {
          "model_module": "@jupyter-widgets/base",
          "model_name": "LayoutModel",
          "state": {
            "_view_name": "LayoutView",
            "grid_template_rows": null,
            "right": null,
            "justify_content": null,
            "_view_module": "@jupyter-widgets/base",
            "overflow": null,
            "_model_module_version": "1.2.0",
            "_view_count": null,
            "flex_flow": null,
            "width": null,
            "min_width": null,
            "border": null,
            "align_items": null,
            "bottom": null,
            "_model_module": "@jupyter-widgets/base",
            "top": null,
            "grid_column": null,
            "overflow_y": null,
            "overflow_x": null,
            "grid_auto_flow": null,
            "grid_area": null,
            "grid_template_columns": null,
            "flex": null,
            "_model_name": "LayoutModel",
            "justify_items": null,
            "grid_row": null,
            "max_height": null,
            "align_content": null,
            "visibility": null,
            "align_self": null,
            "height": null,
            "min_height": null,
            "padding": null,
            "grid_auto_rows": null,
            "grid_gap": null,
            "max_width": null,
            "order": null,
            "_view_module_version": "1.2.0",
            "grid_template_areas": null,
            "object_position": null,
            "object_fit": null,
            "grid_auto_columns": null,
            "margin": null,
            "display": null,
            "left": null
          }
        },
        "2629868f4e2449638f80db9b384d939e": {
          "model_module": "@jupyter-widgets/controls",
          "model_name": "HBoxModel",
          "state": {
            "_view_name": "HBoxView",
            "_dom_classes": [],
            "_model_name": "HBoxModel",
            "_view_module": "@jupyter-widgets/controls",
            "_model_module_version": "1.5.0",
            "_view_count": null,
            "_view_module_version": "1.5.0",
            "box_style": "",
            "layout": "IPY_MODEL_fb7578cab3ec434d8e8b38295f752ff2",
            "_model_module": "@jupyter-widgets/controls",
            "children": [
              "IPY_MODEL_8ed8168ada8c4ba69d4b9a8ef1da9a3a",
              "IPY_MODEL_4853426001df4cef843181526a7137e8"
            ]
          }
        },
        "fb7578cab3ec434d8e8b38295f752ff2": {
          "model_module": "@jupyter-widgets/base",
          "model_name": "LayoutModel",
          "state": {
            "_view_name": "LayoutView",
            "grid_template_rows": null,
            "right": null,
            "justify_content": null,
            "_view_module": "@jupyter-widgets/base",
            "overflow": null,
            "_model_module_version": "1.2.0",
            "_view_count": null,
            "flex_flow": null,
            "width": null,
            "min_width": null,
            "border": null,
            "align_items": null,
            "bottom": null,
            "_model_module": "@jupyter-widgets/base",
            "top": null,
            "grid_column": null,
            "overflow_y": null,
            "overflow_x": null,
            "grid_auto_flow": null,
            "grid_area": null,
            "grid_template_columns": null,
            "flex": null,
            "_model_name": "LayoutModel",
            "justify_items": null,
            "grid_row": null,
            "max_height": null,
            "align_content": null,
            "visibility": null,
            "align_self": null,
            "height": null,
            "min_height": null,
            "padding": null,
            "grid_auto_rows": null,
            "grid_gap": null,
            "max_width": null,
            "order": null,
            "_view_module_version": "1.2.0",
            "grid_template_areas": null,
            "object_position": null,
            "object_fit": null,
            "grid_auto_columns": null,
            "margin": null,
            "display": null,
            "left": null
          }
        },
        "8ed8168ada8c4ba69d4b9a8ef1da9a3a": {
          "model_module": "@jupyter-widgets/controls",
          "model_name": "FloatProgressModel",
          "state": {
            "_view_name": "ProgressView",
            "style": "IPY_MODEL_1a194155e4ca4d66b57cc3b832bc7cde",
            "_dom_classes": [],
            "description": "Downloading: 100%",
            "_model_name": "FloatProgressModel",
            "bar_style": "success",
            "max": 2,
            "_view_module": "@jupyter-widgets/controls",
            "_model_module_version": "1.5.0",
            "value": 2,
            "_view_count": null,
            "_view_module_version": "1.5.0",
            "orientation": "horizontal",
            "min": 0,
            "description_tooltip": null,
            "_model_module": "@jupyter-widgets/controls",
            "layout": "IPY_MODEL_e5b01c70c0e6426ab790c1e34294adcc"
          }
        },
        "4853426001df4cef843181526a7137e8": {
          "model_module": "@jupyter-widgets/controls",
          "model_name": "HTMLModel",
          "state": {
            "_view_name": "HTMLView",
            "style": "IPY_MODEL_cadecb5798dd41ec9a79f589dcc80ed8",
            "_dom_classes": [],
            "description": "",
            "_model_name": "HTMLModel",
            "placeholder": "​",
            "_view_module": "@jupyter-widgets/controls",
            "_model_module_version": "1.5.0",
            "value": " 2.00/2.00 [00:00&lt;00:00, 2.15B/s]",
            "_view_count": null,
            "_view_module_version": "1.5.0",
            "description_tooltip": null,
            "_model_module": "@jupyter-widgets/controls",
            "layout": "IPY_MODEL_107a11f854724ba7add6f9ad5c1ccf69"
          }
        },
        "1a194155e4ca4d66b57cc3b832bc7cde": {
          "model_module": "@jupyter-widgets/controls",
          "model_name": "ProgressStyleModel",
          "state": {
            "_view_name": "StyleView",
            "_model_name": "ProgressStyleModel",
            "description_width": "initial",
            "_view_module": "@jupyter-widgets/base",
            "_model_module_version": "1.5.0",
            "_view_count": null,
            "_view_module_version": "1.2.0",
            "bar_color": null,
            "_model_module": "@jupyter-widgets/controls"
          }
        },
        "e5b01c70c0e6426ab790c1e34294adcc": {
          "model_module": "@jupyter-widgets/base",
          "model_name": "LayoutModel",
          "state": {
            "_view_name": "LayoutView",
            "grid_template_rows": null,
            "right": null,
            "justify_content": null,
            "_view_module": "@jupyter-widgets/base",
            "overflow": null,
            "_model_module_version": "1.2.0",
            "_view_count": null,
            "flex_flow": null,
            "width": null,
            "min_width": null,
            "border": null,
            "align_items": null,
            "bottom": null,
            "_model_module": "@jupyter-widgets/base",
            "top": null,
            "grid_column": null,
            "overflow_y": null,
            "overflow_x": null,
            "grid_auto_flow": null,
            "grid_area": null,
            "grid_template_columns": null,
            "flex": null,
            "_model_name": "LayoutModel",
            "justify_items": null,
            "grid_row": null,
            "max_height": null,
            "align_content": null,
            "visibility": null,
            "align_self": null,
            "height": null,
            "min_height": null,
            "padding": null,
            "grid_auto_rows": null,
            "grid_gap": null,
            "max_width": null,
            "order": null,
            "_view_module_version": "1.2.0",
            "grid_template_areas": null,
            "object_position": null,
            "object_fit": null,
            "grid_auto_columns": null,
            "margin": null,
            "display": null,
            "left": null
          }
        },
        "cadecb5798dd41ec9a79f589dcc80ed8": {
          "model_module": "@jupyter-widgets/controls",
          "model_name": "DescriptionStyleModel",
          "state": {
            "_view_name": "StyleView",
            "_model_name": "DescriptionStyleModel",
            "description_width": "",
            "_view_module": "@jupyter-widgets/base",
            "_model_module_version": "1.5.0",
            "_view_count": null,
            "_view_module_version": "1.2.0",
            "_model_module": "@jupyter-widgets/controls"
          }
        },
        "107a11f854724ba7add6f9ad5c1ccf69": {
          "model_module": "@jupyter-widgets/base",
          "model_name": "LayoutModel",
          "state": {
            "_view_name": "LayoutView",
            "grid_template_rows": null,
            "right": null,
            "justify_content": null,
            "_view_module": "@jupyter-widgets/base",
            "overflow": null,
            "_model_module_version": "1.2.0",
            "_view_count": null,
            "flex_flow": null,
            "width": null,
            "min_width": null,
            "border": null,
            "align_items": null,
            "bottom": null,
            "_model_module": "@jupyter-widgets/base",
            "top": null,
            "grid_column": null,
            "overflow_y": null,
            "overflow_x": null,
            "grid_auto_flow": null,
            "grid_area": null,
            "grid_template_columns": null,
            "flex": null,
            "_model_name": "LayoutModel",
            "justify_items": null,
            "grid_row": null,
            "max_height": null,
            "align_content": null,
            "visibility": null,
            "align_self": null,
            "height": null,
            "min_height": null,
            "padding": null,
            "grid_auto_rows": null,
            "grid_gap": null,
            "max_width": null,
            "order": null,
            "_view_module_version": "1.2.0",
            "grid_template_areas": null,
            "object_position": null,
            "object_fit": null,
            "grid_auto_columns": null,
            "margin": null,
            "display": null,
            "left": null
          }
        },
        "4bc10fd6f6a7453a8e932a7fe4a60256": {
          "model_module": "@jupyter-widgets/controls",
          "model_name": "HBoxModel",
          "state": {
            "_view_name": "HBoxView",
            "_dom_classes": [],
            "_model_name": "HBoxModel",
            "_view_module": "@jupyter-widgets/controls",
            "_model_module_version": "1.5.0",
            "_view_count": null,
            "_view_module_version": "1.5.0",
            "box_style": "",
            "layout": "IPY_MODEL_52c239422b3142fa810a6eb12a0c5fe7",
            "_model_module": "@jupyter-widgets/controls",
            "children": [
              "IPY_MODEL_42712885fd7c46d5af1c1adc56e313e2",
              "IPY_MODEL_37812f5738f643e593171dcbd5ac14fc"
            ]
          }
        },
        "52c239422b3142fa810a6eb12a0c5fe7": {
          "model_module": "@jupyter-widgets/base",
          "model_name": "LayoutModel",
          "state": {
            "_view_name": "LayoutView",
            "grid_template_rows": null,
            "right": null,
            "justify_content": null,
            "_view_module": "@jupyter-widgets/base",
            "overflow": null,
            "_model_module_version": "1.2.0",
            "_view_count": null,
            "flex_flow": null,
            "width": null,
            "min_width": null,
            "border": null,
            "align_items": null,
            "bottom": null,
            "_model_module": "@jupyter-widgets/base",
            "top": null,
            "grid_column": null,
            "overflow_y": null,
            "overflow_x": null,
            "grid_auto_flow": null,
            "grid_area": null,
            "grid_template_columns": null,
            "flex": null,
            "_model_name": "LayoutModel",
            "justify_items": null,
            "grid_row": null,
            "max_height": null,
            "align_content": null,
            "visibility": null,
            "align_self": null,
            "height": null,
            "min_height": null,
            "padding": null,
            "grid_auto_rows": null,
            "grid_gap": null,
            "max_width": null,
            "order": null,
            "_view_module_version": "1.2.0",
            "grid_template_areas": null,
            "object_position": null,
            "object_fit": null,
            "grid_auto_columns": null,
            "margin": null,
            "display": null,
            "left": null
          }
        },
        "42712885fd7c46d5af1c1adc56e313e2": {
          "model_module": "@jupyter-widgets/controls",
          "model_name": "FloatProgressModel",
          "state": {
            "_view_name": "ProgressView",
            "style": "IPY_MODEL_ed921dc169c8492ca76846f77b5c010e",
            "_dom_classes": [],
            "description": "Downloading: 100%",
            "_model_name": "FloatProgressModel",
            "bar_style": "success",
            "max": 112,
            "_view_module": "@jupyter-widgets/controls",
            "_model_module_version": "1.5.0",
            "value": 112,
            "_view_count": null,
            "_view_module_version": "1.5.0",
            "orientation": "horizontal",
            "min": 0,
            "description_tooltip": null,
            "_model_module": "@jupyter-widgets/controls",
            "layout": "IPY_MODEL_8b24b9608af146a587fd63181437b363"
          }
        },
        "37812f5738f643e593171dcbd5ac14fc": {
          "model_module": "@jupyter-widgets/controls",
          "model_name": "HTMLModel",
          "state": {
            "_view_name": "HTMLView",
            "style": "IPY_MODEL_ca00c70aa4a244c49df68948ff49691c",
            "_dom_classes": [],
            "description": "",
            "_model_name": "HTMLModel",
            "placeholder": "​",
            "_view_module": "@jupyter-widgets/controls",
            "_model_module_version": "1.5.0",
            "value": " 112/112 [00:00&lt;00:00, 190B/s]",
            "_view_count": null,
            "_view_module_version": "1.5.0",
            "description_tooltip": null,
            "_model_module": "@jupyter-widgets/controls",
            "layout": "IPY_MODEL_196720b5f2aa490b8e9da7485d90740b"
          }
        },
        "ed921dc169c8492ca76846f77b5c010e": {
          "model_module": "@jupyter-widgets/controls",
          "model_name": "ProgressStyleModel",
          "state": {
            "_view_name": "StyleView",
            "_model_name": "ProgressStyleModel",
            "description_width": "initial",
            "_view_module": "@jupyter-widgets/base",
            "_model_module_version": "1.5.0",
            "_view_count": null,
            "_view_module_version": "1.2.0",
            "bar_color": null,
            "_model_module": "@jupyter-widgets/controls"
          }
        },
        "8b24b9608af146a587fd63181437b363": {
          "model_module": "@jupyter-widgets/base",
          "model_name": "LayoutModel",
          "state": {
            "_view_name": "LayoutView",
            "grid_template_rows": null,
            "right": null,
            "justify_content": null,
            "_view_module": "@jupyter-widgets/base",
            "overflow": null,
            "_model_module_version": "1.2.0",
            "_view_count": null,
            "flex_flow": null,
            "width": null,
            "min_width": null,
            "border": null,
            "align_items": null,
            "bottom": null,
            "_model_module": "@jupyter-widgets/base",
            "top": null,
            "grid_column": null,
            "overflow_y": null,
            "overflow_x": null,
            "grid_auto_flow": null,
            "grid_area": null,
            "grid_template_columns": null,
            "flex": null,
            "_model_name": "LayoutModel",
            "justify_items": null,
            "grid_row": null,
            "max_height": null,
            "align_content": null,
            "visibility": null,
            "align_self": null,
            "height": null,
            "min_height": null,
            "padding": null,
            "grid_auto_rows": null,
            "grid_gap": null,
            "max_width": null,
            "order": null,
            "_view_module_version": "1.2.0",
            "grid_template_areas": null,
            "object_position": null,
            "object_fit": null,
            "grid_auto_columns": null,
            "margin": null,
            "display": null,
            "left": null
          }
        },
        "ca00c70aa4a244c49df68948ff49691c": {
          "model_module": "@jupyter-widgets/controls",
          "model_name": "DescriptionStyleModel",
          "state": {
            "_view_name": "StyleView",
            "_model_name": "DescriptionStyleModel",
            "description_width": "",
            "_view_module": "@jupyter-widgets/base",
            "_model_module_version": "1.5.0",
            "_view_count": null,
            "_view_module_version": "1.2.0",
            "_model_module": "@jupyter-widgets/controls"
          }
        },
        "196720b5f2aa490b8e9da7485d90740b": {
          "model_module": "@jupyter-widgets/base",
          "model_name": "LayoutModel",
          "state": {
            "_view_name": "LayoutView",
            "grid_template_rows": null,
            "right": null,
            "justify_content": null,
            "_view_module": "@jupyter-widgets/base",
            "overflow": null,
            "_model_module_version": "1.2.0",
            "_view_count": null,
            "flex_flow": null,
            "width": null,
            "min_width": null,
            "border": null,
            "align_items": null,
            "bottom": null,
            "_model_module": "@jupyter-widgets/base",
            "top": null,
            "grid_column": null,
            "overflow_y": null,
            "overflow_x": null,
            "grid_auto_flow": null,
            "grid_area": null,
            "grid_template_columns": null,
            "flex": null,
            "_model_name": "LayoutModel",
            "justify_items": null,
            "grid_row": null,
            "max_height": null,
            "align_content": null,
            "visibility": null,
            "align_self": null,
            "height": null,
            "min_height": null,
            "padding": null,
            "grid_auto_rows": null,
            "grid_gap": null,
            "max_width": null,
            "order": null,
            "_view_module_version": "1.2.0",
            "grid_template_areas": null,
            "object_position": null,
            "object_fit": null,
            "grid_auto_columns": null,
            "margin": null,
            "display": null,
            "left": null
          }
        },
        "49d72440ad3144f8909165a564f28b10": {
          "model_module": "@jupyter-widgets/controls",
          "model_name": "HBoxModel",
          "state": {
            "_view_name": "HBoxView",
            "_dom_classes": [],
            "_model_name": "HBoxModel",
            "_view_module": "@jupyter-widgets/controls",
            "_model_module_version": "1.5.0",
            "_view_count": null,
            "_view_module_version": "1.5.0",
            "box_style": "",
            "layout": "IPY_MODEL_c9f2f0c9c8754afead865d39e1c770f0",
            "_model_module": "@jupyter-widgets/controls",
            "children": [
              "IPY_MODEL_00bf1f6ee6594db99c22d1b587431cbc",
              "IPY_MODEL_023da2420aea40409dd6923761e973ec"
            ]
          }
        },
        "c9f2f0c9c8754afead865d39e1c770f0": {
          "model_module": "@jupyter-widgets/base",
          "model_name": "LayoutModel",
          "state": {
            "_view_name": "LayoutView",
            "grid_template_rows": null,
            "right": null,
            "justify_content": null,
            "_view_module": "@jupyter-widgets/base",
            "overflow": null,
            "_model_module_version": "1.2.0",
            "_view_count": null,
            "flex_flow": null,
            "width": null,
            "min_width": null,
            "border": null,
            "align_items": null,
            "bottom": null,
            "_model_module": "@jupyter-widgets/base",
            "top": null,
            "grid_column": null,
            "overflow_y": null,
            "overflow_x": null,
            "grid_auto_flow": null,
            "grid_area": null,
            "grid_template_columns": null,
            "flex": null,
            "_model_name": "LayoutModel",
            "justify_items": null,
            "grid_row": null,
            "max_height": null,
            "align_content": null,
            "visibility": null,
            "align_self": null,
            "height": null,
            "min_height": null,
            "padding": null,
            "grid_auto_rows": null,
            "grid_gap": null,
            "max_width": null,
            "order": null,
            "_view_module_version": "1.2.0",
            "grid_template_areas": null,
            "object_position": null,
            "object_fit": null,
            "grid_auto_columns": null,
            "margin": null,
            "display": null,
            "left": null
          }
        },
        "00bf1f6ee6594db99c22d1b587431cbc": {
          "model_module": "@jupyter-widgets/controls",
          "model_name": "FloatProgressModel",
          "state": {
            "_view_name": "ProgressView",
            "style": "IPY_MODEL_40166f2709f04792a838bd784ef7a0a1",
            "_dom_classes": [],
            "description": "Downloading: 100%",
            "_model_name": "FloatProgressModel",
            "bar_style": "success",
            "max": 155,
            "_view_module": "@jupyter-widgets/controls",
            "_model_module_version": "1.5.0",
            "value": 155,
            "_view_count": null,
            "_view_module_version": "1.5.0",
            "orientation": "horizontal",
            "min": 0,
            "description_tooltip": null,
            "_model_module": "@jupyter-widgets/controls",
            "layout": "IPY_MODEL_abc19f721ed14b3d9cba7c1f7354b66d"
          }
        },
        "023da2420aea40409dd6923761e973ec": {
          "model_module": "@jupyter-widgets/controls",
          "model_name": "HTMLModel",
          "state": {
            "_view_name": "HTMLView",
            "style": "IPY_MODEL_c61d81c8ffa4417ca75bfc857c180262",
            "_dom_classes": [],
            "description": "",
            "_model_name": "HTMLModel",
            "placeholder": "​",
            "_view_module": "@jupyter-widgets/controls",
            "_model_module_version": "1.5.0",
            "value": " 155/155 [00:00&lt;00:00, 665B/s]",
            "_view_count": null,
            "_view_module_version": "1.5.0",
            "description_tooltip": null,
            "_model_module": "@jupyter-widgets/controls",
            "layout": "IPY_MODEL_58a1c404a57f45e7a2ab47f7a8174ed1"
          }
        },
        "40166f2709f04792a838bd784ef7a0a1": {
          "model_module": "@jupyter-widgets/controls",
          "model_name": "ProgressStyleModel",
          "state": {
            "_view_name": "StyleView",
            "_model_name": "ProgressStyleModel",
            "description_width": "initial",
            "_view_module": "@jupyter-widgets/base",
            "_model_module_version": "1.5.0",
            "_view_count": null,
            "_view_module_version": "1.2.0",
            "bar_color": null,
            "_model_module": "@jupyter-widgets/controls"
          }
        },
        "abc19f721ed14b3d9cba7c1f7354b66d": {
          "model_module": "@jupyter-widgets/base",
          "model_name": "LayoutModel",
          "state": {
            "_view_name": "LayoutView",
            "grid_template_rows": null,
            "right": null,
            "justify_content": null,
            "_view_module": "@jupyter-widgets/base",
            "overflow": null,
            "_model_module_version": "1.2.0",
            "_view_count": null,
            "flex_flow": null,
            "width": null,
            "min_width": null,
            "border": null,
            "align_items": null,
            "bottom": null,
            "_model_module": "@jupyter-widgets/base",
            "top": null,
            "grid_column": null,
            "overflow_y": null,
            "overflow_x": null,
            "grid_auto_flow": null,
            "grid_area": null,
            "grid_template_columns": null,
            "flex": null,
            "_model_name": "LayoutModel",
            "justify_items": null,
            "grid_row": null,
            "max_height": null,
            "align_content": null,
            "visibility": null,
            "align_self": null,
            "height": null,
            "min_height": null,
            "padding": null,
            "grid_auto_rows": null,
            "grid_gap": null,
            "max_width": null,
            "order": null,
            "_view_module_version": "1.2.0",
            "grid_template_areas": null,
            "object_position": null,
            "object_fit": null,
            "grid_auto_columns": null,
            "margin": null,
            "display": null,
            "left": null
          }
        },
        "c61d81c8ffa4417ca75bfc857c180262": {
          "model_module": "@jupyter-widgets/controls",
          "model_name": "DescriptionStyleModel",
          "state": {
            "_view_name": "StyleView",
            "_model_name": "DescriptionStyleModel",
            "description_width": "",
            "_view_module": "@jupyter-widgets/base",
            "_model_module_version": "1.5.0",
            "_view_count": null,
            "_view_module_version": "1.2.0",
            "_model_module": "@jupyter-widgets/controls"
          }
        },
        "58a1c404a57f45e7a2ab47f7a8174ed1": {
          "model_module": "@jupyter-widgets/base",
          "model_name": "LayoutModel",
          "state": {
            "_view_name": "LayoutView",
            "grid_template_rows": null,
            "right": null,
            "justify_content": null,
            "_view_module": "@jupyter-widgets/base",
            "overflow": null,
            "_model_module_version": "1.2.0",
            "_view_count": null,
            "flex_flow": null,
            "width": null,
            "min_width": null,
            "border": null,
            "align_items": null,
            "bottom": null,
            "_model_module": "@jupyter-widgets/base",
            "top": null,
            "grid_column": null,
            "overflow_y": null,
            "overflow_x": null,
            "grid_auto_flow": null,
            "grid_area": null,
            "grid_template_columns": null,
            "flex": null,
            "_model_name": "LayoutModel",
            "justify_items": null,
            "grid_row": null,
            "max_height": null,
            "align_content": null,
            "visibility": null,
            "align_self": null,
            "height": null,
            "min_height": null,
            "padding": null,
            "grid_auto_rows": null,
            "grid_gap": null,
            "max_width": null,
            "order": null,
            "_view_module_version": "1.2.0",
            "grid_template_areas": null,
            "object_position": null,
            "object_fit": null,
            "grid_auto_columns": null,
            "margin": null,
            "display": null,
            "left": null
          }
        },
        "9c6260ab8c0b4983b7e6df856024d531": {
          "model_module": "@jupyter-widgets/controls",
          "model_name": "HBoxModel",
          "state": {
            "_view_name": "HBoxView",
            "_dom_classes": [],
            "_model_name": "HBoxModel",
            "_view_module": "@jupyter-widgets/controls",
            "_model_module_version": "1.5.0",
            "_view_count": null,
            "_view_module_version": "1.5.0",
            "box_style": "",
            "layout": "IPY_MODEL_919ff310733649caa037f2dc5277c5cb",
            "_model_module": "@jupyter-widgets/controls",
            "children": [
              "IPY_MODEL_90df069d5cda4b1896786b2d73e3e0fa",
              "IPY_MODEL_fb5e5a3094b84c7398feaedb3ee2bf44"
            ]
          }
        },
        "919ff310733649caa037f2dc5277c5cb": {
          "model_module": "@jupyter-widgets/base",
          "model_name": "LayoutModel",
          "state": {
            "_view_name": "LayoutView",
            "grid_template_rows": null,
            "right": null,
            "justify_content": null,
            "_view_module": "@jupyter-widgets/base",
            "overflow": null,
            "_model_module_version": "1.2.0",
            "_view_count": null,
            "flex_flow": null,
            "width": null,
            "min_width": null,
            "border": null,
            "align_items": null,
            "bottom": null,
            "_model_module": "@jupyter-widgets/base",
            "top": null,
            "grid_column": null,
            "overflow_y": null,
            "overflow_x": null,
            "grid_auto_flow": null,
            "grid_area": null,
            "grid_template_columns": null,
            "flex": null,
            "_model_name": "LayoutModel",
            "justify_items": null,
            "grid_row": null,
            "max_height": null,
            "align_content": null,
            "visibility": null,
            "align_self": null,
            "height": null,
            "min_height": null,
            "padding": null,
            "grid_auto_rows": null,
            "grid_gap": null,
            "max_width": null,
            "order": null,
            "_view_module_version": "1.2.0",
            "grid_template_areas": null,
            "object_position": null,
            "object_fit": null,
            "grid_auto_columns": null,
            "margin": null,
            "display": null,
            "left": null
          }
        },
        "90df069d5cda4b1896786b2d73e3e0fa": {
          "model_module": "@jupyter-widgets/controls",
          "model_name": "FloatProgressModel",
          "state": {
            "_view_name": "ProgressView",
            "style": "IPY_MODEL_cddd59e788e4442bba2dda363b199a19",
            "_dom_classes": [],
            "description": "Downloading: 100%",
            "_model_name": "FloatProgressModel",
            "bar_style": "success",
            "max": 213450,
            "_view_module": "@jupyter-widgets/controls",
            "_model_module_version": "1.5.0",
            "value": 213450,
            "_view_count": null,
            "_view_module_version": "1.5.0",
            "orientation": "horizontal",
            "min": 0,
            "description_tooltip": null,
            "_model_module": "@jupyter-widgets/controls",
            "layout": "IPY_MODEL_c18dc958ac03464f9480c850f25017af"
          }
        },
        "fb5e5a3094b84c7398feaedb3ee2bf44": {
          "model_module": "@jupyter-widgets/controls",
          "model_name": "HTMLModel",
          "state": {
            "_view_name": "HTMLView",
            "style": "IPY_MODEL_394a1af227674746beae18713f66e84f",
            "_dom_classes": [],
            "description": "",
            "_model_name": "HTMLModel",
            "placeholder": "​",
            "_view_module": "@jupyter-widgets/controls",
            "_model_module_version": "1.5.0",
            "value": " 213k/213k [00:00&lt;00:00, 237kB/s]",
            "_view_count": null,
            "_view_module_version": "1.5.0",
            "description_tooltip": null,
            "_model_module": "@jupyter-widgets/controls",
            "layout": "IPY_MODEL_a3733a884eb248c2808732a336fe088b"
          }
        },
        "cddd59e788e4442bba2dda363b199a19": {
          "model_module": "@jupyter-widgets/controls",
          "model_name": "ProgressStyleModel",
          "state": {
            "_view_name": "StyleView",
            "_model_name": "ProgressStyleModel",
            "description_width": "initial",
            "_view_module": "@jupyter-widgets/base",
            "_model_module_version": "1.5.0",
            "_view_count": null,
            "_view_module_version": "1.2.0",
            "bar_color": null,
            "_model_module": "@jupyter-widgets/controls"
          }
        },
        "c18dc958ac03464f9480c850f25017af": {
          "model_module": "@jupyter-widgets/base",
          "model_name": "LayoutModel",
          "state": {
            "_view_name": "LayoutView",
            "grid_template_rows": null,
            "right": null,
            "justify_content": null,
            "_view_module": "@jupyter-widgets/base",
            "overflow": null,
            "_model_module_version": "1.2.0",
            "_view_count": null,
            "flex_flow": null,
            "width": null,
            "min_width": null,
            "border": null,
            "align_items": null,
            "bottom": null,
            "_model_module": "@jupyter-widgets/base",
            "top": null,
            "grid_column": null,
            "overflow_y": null,
            "overflow_x": null,
            "grid_auto_flow": null,
            "grid_area": null,
            "grid_template_columns": null,
            "flex": null,
            "_model_name": "LayoutModel",
            "justify_items": null,
            "grid_row": null,
            "max_height": null,
            "align_content": null,
            "visibility": null,
            "align_self": null,
            "height": null,
            "min_height": null,
            "padding": null,
            "grid_auto_rows": null,
            "grid_gap": null,
            "max_width": null,
            "order": null,
            "_view_module_version": "1.2.0",
            "grid_template_areas": null,
            "object_position": null,
            "object_fit": null,
            "grid_auto_columns": null,
            "margin": null,
            "display": null,
            "left": null
          }
        },
        "394a1af227674746beae18713f66e84f": {
          "model_module": "@jupyter-widgets/controls",
          "model_name": "DescriptionStyleModel",
          "state": {
            "_view_name": "StyleView",
            "_model_name": "DescriptionStyleModel",
            "description_width": "",
            "_view_module": "@jupyter-widgets/base",
            "_model_module_version": "1.5.0",
            "_view_count": null,
            "_view_module_version": "1.2.0",
            "_model_module": "@jupyter-widgets/controls"
          }
        },
        "a3733a884eb248c2808732a336fe088b": {
          "model_module": "@jupyter-widgets/base",
          "model_name": "LayoutModel",
          "state": {
            "_view_name": "LayoutView",
            "grid_template_rows": null,
            "right": null,
            "justify_content": null,
            "_view_module": "@jupyter-widgets/base",
            "overflow": null,
            "_model_module_version": "1.2.0",
            "_view_count": null,
            "flex_flow": null,
            "width": null,
            "min_width": null,
            "border": null,
            "align_items": null,
            "bottom": null,
            "_model_module": "@jupyter-widgets/base",
            "top": null,
            "grid_column": null,
            "overflow_y": null,
            "overflow_x": null,
            "grid_auto_flow": null,
            "grid_area": null,
            "grid_template_columns": null,
            "flex": null,
            "_model_name": "LayoutModel",
            "justify_items": null,
            "grid_row": null,
            "max_height": null,
            "align_content": null,
            "visibility": null,
            "align_self": null,
            "height": null,
            "min_height": null,
            "padding": null,
            "grid_auto_rows": null,
            "grid_gap": null,
            "max_width": null,
            "order": null,
            "_view_module_version": "1.2.0",
            "grid_template_areas": null,
            "object_position": null,
            "object_fit": null,
            "grid_auto_columns": null,
            "margin": null,
            "display": null,
            "left": null
          }
        },
        "689e120661ee42539a8ad6a32fb12daa": {
          "model_module": "@jupyter-widgets/controls",
          "model_name": "HBoxModel",
          "state": {
            "_view_name": "HBoxView",
            "_dom_classes": [],
            "_model_name": "HBoxModel",
            "_view_module": "@jupyter-widgets/controls",
            "_model_module_version": "1.5.0",
            "_view_count": null,
            "_view_module_version": "1.5.0",
            "box_style": "",
            "layout": "IPY_MODEL_85bd0f8e5a544469b9dae93853c4b9af",
            "_model_module": "@jupyter-widgets/controls",
            "children": [
              "IPY_MODEL_c6a159f65bb540009990b601394cd806",
              "IPY_MODEL_12d9cb9ab81545639f8407f3c086942d"
            ]
          }
        },
        "85bd0f8e5a544469b9dae93853c4b9af": {
          "model_module": "@jupyter-widgets/base",
          "model_name": "LayoutModel",
          "state": {
            "_view_name": "LayoutView",
            "grid_template_rows": null,
            "right": null,
            "justify_content": null,
            "_view_module": "@jupyter-widgets/base",
            "overflow": null,
            "_model_module_version": "1.2.0",
            "_view_count": null,
            "flex_flow": null,
            "width": null,
            "min_width": null,
            "border": null,
            "align_items": null,
            "bottom": null,
            "_model_module": "@jupyter-widgets/base",
            "top": null,
            "grid_column": null,
            "overflow_y": null,
            "overflow_x": null,
            "grid_auto_flow": null,
            "grid_area": null,
            "grid_template_columns": null,
            "flex": null,
            "_model_name": "LayoutModel",
            "justify_items": null,
            "grid_row": null,
            "max_height": null,
            "align_content": null,
            "visibility": null,
            "align_self": null,
            "height": null,
            "min_height": null,
            "padding": null,
            "grid_auto_rows": null,
            "grid_gap": null,
            "max_width": null,
            "order": null,
            "_view_module_version": "1.2.0",
            "grid_template_areas": null,
            "object_position": null,
            "object_fit": null,
            "grid_auto_columns": null,
            "margin": null,
            "display": null,
            "left": null
          }
        },
        "c6a159f65bb540009990b601394cd806": {
          "model_module": "@jupyter-widgets/controls",
          "model_name": "FloatProgressModel",
          "state": {
            "_view_name": "ProgressView",
            "style": "IPY_MODEL_ff43d8cb111d4af28a63fa1b0d8adb60",
            "_dom_classes": [],
            "description": "Downloading: 100%",
            "_model_name": "FloatProgressModel",
            "bar_style": "success",
            "max": 29,
            "_view_module": "@jupyter-widgets/controls",
            "_model_module_version": "1.5.0",
            "value": 29,
            "_view_count": null,
            "_view_module_version": "1.5.0",
            "orientation": "horizontal",
            "min": 0,
            "description_tooltip": null,
            "_model_module": "@jupyter-widgets/controls",
            "layout": "IPY_MODEL_678d68aa2eca4045b7764ec223114bcb"
          }
        },
        "12d9cb9ab81545639f8407f3c086942d": {
          "model_module": "@jupyter-widgets/controls",
          "model_name": "HTMLModel",
          "state": {
            "_view_name": "HTMLView",
            "style": "IPY_MODEL_c210805e04944fcfb4e9595dd910e6ac",
            "_dom_classes": [],
            "description": "",
            "_model_name": "HTMLModel",
            "placeholder": "​",
            "_view_module": "@jupyter-widgets/controls",
            "_model_module_version": "1.5.0",
            "value": " 29.0/29.0 [00:00&lt;00:00, 109B/s]",
            "_view_count": null,
            "_view_module_version": "1.5.0",
            "description_tooltip": null,
            "_model_module": "@jupyter-widgets/controls",
            "layout": "IPY_MODEL_2cdac9aad1a24fad8046ac287162b388"
          }
        },
        "ff43d8cb111d4af28a63fa1b0d8adb60": {
          "model_module": "@jupyter-widgets/controls",
          "model_name": "ProgressStyleModel",
          "state": {
            "_view_name": "StyleView",
            "_model_name": "ProgressStyleModel",
            "description_width": "initial",
            "_view_module": "@jupyter-widgets/base",
            "_model_module_version": "1.5.0",
            "_view_count": null,
            "_view_module_version": "1.2.0",
            "bar_color": null,
            "_model_module": "@jupyter-widgets/controls"
          }
        },
        "678d68aa2eca4045b7764ec223114bcb": {
          "model_module": "@jupyter-widgets/base",
          "model_name": "LayoutModel",
          "state": {
            "_view_name": "LayoutView",
            "grid_template_rows": null,
            "right": null,
            "justify_content": null,
            "_view_module": "@jupyter-widgets/base",
            "overflow": null,
            "_model_module_version": "1.2.0",
            "_view_count": null,
            "flex_flow": null,
            "width": null,
            "min_width": null,
            "border": null,
            "align_items": null,
            "bottom": null,
            "_model_module": "@jupyter-widgets/base",
            "top": null,
            "grid_column": null,
            "overflow_y": null,
            "overflow_x": null,
            "grid_auto_flow": null,
            "grid_area": null,
            "grid_template_columns": null,
            "flex": null,
            "_model_name": "LayoutModel",
            "justify_items": null,
            "grid_row": null,
            "max_height": null,
            "align_content": null,
            "visibility": null,
            "align_self": null,
            "height": null,
            "min_height": null,
            "padding": null,
            "grid_auto_rows": null,
            "grid_gap": null,
            "max_width": null,
            "order": null,
            "_view_module_version": "1.2.0",
            "grid_template_areas": null,
            "object_position": null,
            "object_fit": null,
            "grid_auto_columns": null,
            "margin": null,
            "display": null,
            "left": null
          }
        },
        "c210805e04944fcfb4e9595dd910e6ac": {
          "model_module": "@jupyter-widgets/controls",
          "model_name": "DescriptionStyleModel",
          "state": {
            "_view_name": "StyleView",
            "_model_name": "DescriptionStyleModel",
            "description_width": "",
            "_view_module": "@jupyter-widgets/base",
            "_model_module_version": "1.5.0",
            "_view_count": null,
            "_view_module_version": "1.2.0",
            "_model_module": "@jupyter-widgets/controls"
          }
        },
        "2cdac9aad1a24fad8046ac287162b388": {
          "model_module": "@jupyter-widgets/base",
          "model_name": "LayoutModel",
          "state": {
            "_view_name": "LayoutView",
            "grid_template_rows": null,
            "right": null,
            "justify_content": null,
            "_view_module": "@jupyter-widgets/base",
            "overflow": null,
            "_model_module_version": "1.2.0",
            "_view_count": null,
            "flex_flow": null,
            "width": null,
            "min_width": null,
            "border": null,
            "align_items": null,
            "bottom": null,
            "_model_module": "@jupyter-widgets/base",
            "top": null,
            "grid_column": null,
            "overflow_y": null,
            "overflow_x": null,
            "grid_auto_flow": null,
            "grid_area": null,
            "grid_template_columns": null,
            "flex": null,
            "_model_name": "LayoutModel",
            "justify_items": null,
            "grid_row": null,
            "max_height": null,
            "align_content": null,
            "visibility": null,
            "align_self": null,
            "height": null,
            "min_height": null,
            "padding": null,
            "grid_auto_rows": null,
            "grid_gap": null,
            "max_width": null,
            "order": null,
            "_view_module_version": "1.2.0",
            "grid_template_areas": null,
            "object_position": null,
            "object_fit": null,
            "grid_auto_columns": null,
            "margin": null,
            "display": null,
            "left": null
          }
        },
        "e2773a8b7cf34459a6e83c2a83dfd139": {
          "model_module": "@jupyter-widgets/controls",
          "model_name": "HBoxModel",
          "state": {
            "_view_name": "HBoxView",
            "_dom_classes": [],
            "_model_name": "HBoxModel",
            "_view_module": "@jupyter-widgets/controls",
            "_model_module_version": "1.5.0",
            "_view_count": null,
            "_view_module_version": "1.5.0",
            "box_style": "",
            "layout": "IPY_MODEL_d14841ac185e447983ee587f9ceb0344",
            "_model_module": "@jupyter-widgets/controls",
            "children": [
              "IPY_MODEL_94f57f4e473e46538b63bc7c048a3a65",
              "IPY_MODEL_6d6feaa4443845a1ac6350a9ceae8e1d"
            ]
          }
        },
        "d14841ac185e447983ee587f9ceb0344": {
          "model_module": "@jupyter-widgets/base",
          "model_name": "LayoutModel",
          "state": {
            "_view_name": "LayoutView",
            "grid_template_rows": null,
            "right": null,
            "justify_content": null,
            "_view_module": "@jupyter-widgets/base",
            "overflow": null,
            "_model_module_version": "1.2.0",
            "_view_count": null,
            "flex_flow": null,
            "width": null,
            "min_width": null,
            "border": null,
            "align_items": null,
            "bottom": null,
            "_model_module": "@jupyter-widgets/base",
            "top": null,
            "grid_column": null,
            "overflow_y": null,
            "overflow_x": null,
            "grid_auto_flow": null,
            "grid_area": null,
            "grid_template_columns": null,
            "flex": null,
            "_model_name": "LayoutModel",
            "justify_items": null,
            "grid_row": null,
            "max_height": null,
            "align_content": null,
            "visibility": null,
            "align_self": null,
            "height": null,
            "min_height": null,
            "padding": null,
            "grid_auto_rows": null,
            "grid_gap": null,
            "max_width": null,
            "order": null,
            "_view_module_version": "1.2.0",
            "grid_template_areas": null,
            "object_position": null,
            "object_fit": null,
            "grid_auto_columns": null,
            "margin": null,
            "display": null,
            "left": null
          }
        },
        "94f57f4e473e46538b63bc7c048a3a65": {
          "model_module": "@jupyter-widgets/controls",
          "model_name": "FloatProgressModel",
          "state": {
            "_view_name": "ProgressView",
            "style": "IPY_MODEL_1969af53d66c42bd9022d46ac931cf16",
            "_dom_classes": [],
            "description": "Downloading: 100%",
            "_model_name": "FloatProgressModel",
            "bar_style": "success",
            "max": 435797,
            "_view_module": "@jupyter-widgets/controls",
            "_model_module_version": "1.5.0",
            "value": 435797,
            "_view_count": null,
            "_view_module_version": "1.5.0",
            "orientation": "horizontal",
            "min": 0,
            "description_tooltip": null,
            "_model_module": "@jupyter-widgets/controls",
            "layout": "IPY_MODEL_7dbccb4dd13d4599a46ce5ae582ead62"
          }
        },
        "6d6feaa4443845a1ac6350a9ceae8e1d": {
          "model_module": "@jupyter-widgets/controls",
          "model_name": "HTMLModel",
          "state": {
            "_view_name": "HTMLView",
            "style": "IPY_MODEL_3f0db394d89a4a09b9ce4a37bc9cd74e",
            "_dom_classes": [],
            "description": "",
            "_model_name": "HTMLModel",
            "placeholder": "​",
            "_view_module": "@jupyter-widgets/controls",
            "_model_module_version": "1.5.0",
            "value": " 436k/436k [00:00&lt;00:00, 2.49MB/s]",
            "_view_count": null,
            "_view_module_version": "1.5.0",
            "description_tooltip": null,
            "_model_module": "@jupyter-widgets/controls",
            "layout": "IPY_MODEL_0120b964f2824c70972af7ec54a5872a"
          }
        },
        "1969af53d66c42bd9022d46ac931cf16": {
          "model_module": "@jupyter-widgets/controls",
          "model_name": "ProgressStyleModel",
          "state": {
            "_view_name": "StyleView",
            "_model_name": "ProgressStyleModel",
            "description_width": "initial",
            "_view_module": "@jupyter-widgets/base",
            "_model_module_version": "1.5.0",
            "_view_count": null,
            "_view_module_version": "1.2.0",
            "bar_color": null,
            "_model_module": "@jupyter-widgets/controls"
          }
        },
        "7dbccb4dd13d4599a46ce5ae582ead62": {
          "model_module": "@jupyter-widgets/base",
          "model_name": "LayoutModel",
          "state": {
            "_view_name": "LayoutView",
            "grid_template_rows": null,
            "right": null,
            "justify_content": null,
            "_view_module": "@jupyter-widgets/base",
            "overflow": null,
            "_model_module_version": "1.2.0",
            "_view_count": null,
            "flex_flow": null,
            "width": null,
            "min_width": null,
            "border": null,
            "align_items": null,
            "bottom": null,
            "_model_module": "@jupyter-widgets/base",
            "top": null,
            "grid_column": null,
            "overflow_y": null,
            "overflow_x": null,
            "grid_auto_flow": null,
            "grid_area": null,
            "grid_template_columns": null,
            "flex": null,
            "_model_name": "LayoutModel",
            "justify_items": null,
            "grid_row": null,
            "max_height": null,
            "align_content": null,
            "visibility": null,
            "align_self": null,
            "height": null,
            "min_height": null,
            "padding": null,
            "grid_auto_rows": null,
            "grid_gap": null,
            "max_width": null,
            "order": null,
            "_view_module_version": "1.2.0",
            "grid_template_areas": null,
            "object_position": null,
            "object_fit": null,
            "grid_auto_columns": null,
            "margin": null,
            "display": null,
            "left": null
          }
        },
        "3f0db394d89a4a09b9ce4a37bc9cd74e": {
          "model_module": "@jupyter-widgets/controls",
          "model_name": "DescriptionStyleModel",
          "state": {
            "_view_name": "StyleView",
            "_model_name": "DescriptionStyleModel",
            "description_width": "",
            "_view_module": "@jupyter-widgets/base",
            "_model_module_version": "1.5.0",
            "_view_count": null,
            "_view_module_version": "1.2.0",
            "_model_module": "@jupyter-widgets/controls"
          }
        },
        "0120b964f2824c70972af7ec54a5872a": {
          "model_module": "@jupyter-widgets/base",
          "model_name": "LayoutModel",
          "state": {
            "_view_name": "LayoutView",
            "grid_template_rows": null,
            "right": null,
            "justify_content": null,
            "_view_module": "@jupyter-widgets/base",
            "overflow": null,
            "_model_module_version": "1.2.0",
            "_view_count": null,
            "flex_flow": null,
            "width": null,
            "min_width": null,
            "border": null,
            "align_items": null,
            "bottom": null,
            "_model_module": "@jupyter-widgets/base",
            "top": null,
            "grid_column": null,
            "overflow_y": null,
            "overflow_x": null,
            "grid_auto_flow": null,
            "grid_area": null,
            "grid_template_columns": null,
            "flex": null,
            "_model_name": "LayoutModel",
            "justify_items": null,
            "grid_row": null,
            "max_height": null,
            "align_content": null,
            "visibility": null,
            "align_self": null,
            "height": null,
            "min_height": null,
            "padding": null,
            "grid_auto_rows": null,
            "grid_gap": null,
            "max_width": null,
            "order": null,
            "_view_module_version": "1.2.0",
            "grid_template_areas": null,
            "object_position": null,
            "object_fit": null,
            "grid_auto_columns": null,
            "margin": null,
            "display": null,
            "left": null
          }
        },
        "56557b5de5fc4092854f3326fd396bf1": {
          "model_module": "@jupyter-widgets/controls",
          "model_name": "HBoxModel",
          "state": {
            "_view_name": "HBoxView",
            "_dom_classes": [],
            "_model_name": "HBoxModel",
            "_view_module": "@jupyter-widgets/controls",
            "_model_module_version": "1.5.0",
            "_view_count": null,
            "_view_module_version": "1.5.0",
            "box_style": "",
            "layout": "IPY_MODEL_4939bccb294c4215975fd1b197170c14",
            "_model_module": "@jupyter-widgets/controls",
            "children": [
              "IPY_MODEL_2ad7128661cf4c739773c3827f476e88",
              "IPY_MODEL_73b270d73f594f51a127651ac609f166"
            ]
          }
        },
        "4939bccb294c4215975fd1b197170c14": {
          "model_module": "@jupyter-widgets/base",
          "model_name": "LayoutModel",
          "state": {
            "_view_name": "LayoutView",
            "grid_template_rows": null,
            "right": null,
            "justify_content": null,
            "_view_module": "@jupyter-widgets/base",
            "overflow": null,
            "_model_module_version": "1.2.0",
            "_view_count": null,
            "flex_flow": null,
            "width": null,
            "min_width": null,
            "border": null,
            "align_items": null,
            "bottom": null,
            "_model_module": "@jupyter-widgets/base",
            "top": null,
            "grid_column": null,
            "overflow_y": null,
            "overflow_x": null,
            "grid_auto_flow": null,
            "grid_area": null,
            "grid_template_columns": null,
            "flex": null,
            "_model_name": "LayoutModel",
            "justify_items": null,
            "grid_row": null,
            "max_height": null,
            "align_content": null,
            "visibility": null,
            "align_self": null,
            "height": null,
            "min_height": null,
            "padding": null,
            "grid_auto_rows": null,
            "grid_gap": null,
            "max_width": null,
            "order": null,
            "_view_module_version": "1.2.0",
            "grid_template_areas": null,
            "object_position": null,
            "object_fit": null,
            "grid_auto_columns": null,
            "margin": null,
            "display": null,
            "left": null
          }
        },
        "2ad7128661cf4c739773c3827f476e88": {
          "model_module": "@jupyter-widgets/controls",
          "model_name": "FloatProgressModel",
          "state": {
            "_view_name": "ProgressView",
            "style": "IPY_MODEL_4aa6eae1e9c94170974e12d20b73d423",
            "_dom_classes": [],
            "description": "Downloading: 100%",
            "_model_name": "FloatProgressModel",
            "bar_style": "success",
            "max": 213450,
            "_view_module": "@jupyter-widgets/controls",
            "_model_module_version": "1.5.0",
            "value": 213450,
            "_view_count": null,
            "_view_module_version": "1.5.0",
            "orientation": "horizontal",
            "min": 0,
            "description_tooltip": null,
            "_model_module": "@jupyter-widgets/controls",
            "layout": "IPY_MODEL_509c1911049d41d7862cfa9a700e13b4"
          }
        },
        "73b270d73f594f51a127651ac609f166": {
          "model_module": "@jupyter-widgets/controls",
          "model_name": "HTMLModel",
          "state": {
            "_view_name": "HTMLView",
            "style": "IPY_MODEL_01e6c5c42ce54fd89bf162f98d2b1f6b",
            "_dom_classes": [],
            "description": "",
            "_model_name": "HTMLModel",
            "placeholder": "​",
            "_view_module": "@jupyter-widgets/controls",
            "_model_module_version": "1.5.0",
            "value": " 213k/213k [00:00&lt;00:00, 250kB/s]",
            "_view_count": null,
            "_view_module_version": "1.5.0",
            "description_tooltip": null,
            "_model_module": "@jupyter-widgets/controls",
            "layout": "IPY_MODEL_279c6b5eb19f498eb81135b4bcdbe096"
          }
        },
        "4aa6eae1e9c94170974e12d20b73d423": {
          "model_module": "@jupyter-widgets/controls",
          "model_name": "ProgressStyleModel",
          "state": {
            "_view_name": "StyleView",
            "_model_name": "ProgressStyleModel",
            "description_width": "initial",
            "_view_module": "@jupyter-widgets/base",
            "_model_module_version": "1.5.0",
            "_view_count": null,
            "_view_module_version": "1.2.0",
            "bar_color": null,
            "_model_module": "@jupyter-widgets/controls"
          }
        },
        "509c1911049d41d7862cfa9a700e13b4": {
          "model_module": "@jupyter-widgets/base",
          "model_name": "LayoutModel",
          "state": {
            "_view_name": "LayoutView",
            "grid_template_rows": null,
            "right": null,
            "justify_content": null,
            "_view_module": "@jupyter-widgets/base",
            "overflow": null,
            "_model_module_version": "1.2.0",
            "_view_count": null,
            "flex_flow": null,
            "width": null,
            "min_width": null,
            "border": null,
            "align_items": null,
            "bottom": null,
            "_model_module": "@jupyter-widgets/base",
            "top": null,
            "grid_column": null,
            "overflow_y": null,
            "overflow_x": null,
            "grid_auto_flow": null,
            "grid_area": null,
            "grid_template_columns": null,
            "flex": null,
            "_model_name": "LayoutModel",
            "justify_items": null,
            "grid_row": null,
            "max_height": null,
            "align_content": null,
            "visibility": null,
            "align_self": null,
            "height": null,
            "min_height": null,
            "padding": null,
            "grid_auto_rows": null,
            "grid_gap": null,
            "max_width": null,
            "order": null,
            "_view_module_version": "1.2.0",
            "grid_template_areas": null,
            "object_position": null,
            "object_fit": null,
            "grid_auto_columns": null,
            "margin": null,
            "display": null,
            "left": null
          }
        },
        "01e6c5c42ce54fd89bf162f98d2b1f6b": {
          "model_module": "@jupyter-widgets/controls",
          "model_name": "DescriptionStyleModel",
          "state": {
            "_view_name": "StyleView",
            "_model_name": "DescriptionStyleModel",
            "description_width": "",
            "_view_module": "@jupyter-widgets/base",
            "_model_module_version": "1.5.0",
            "_view_count": null,
            "_view_module_version": "1.2.0",
            "_model_module": "@jupyter-widgets/controls"
          }
        },
        "279c6b5eb19f498eb81135b4bcdbe096": {
          "model_module": "@jupyter-widgets/base",
          "model_name": "LayoutModel",
          "state": {
            "_view_name": "LayoutView",
            "grid_template_rows": null,
            "right": null,
            "justify_content": null,
            "_view_module": "@jupyter-widgets/base",
            "overflow": null,
            "_model_module_version": "1.2.0",
            "_view_count": null,
            "flex_flow": null,
            "width": null,
            "min_width": null,
            "border": null,
            "align_items": null,
            "bottom": null,
            "_model_module": "@jupyter-widgets/base",
            "top": null,
            "grid_column": null,
            "overflow_y": null,
            "overflow_x": null,
            "grid_auto_flow": null,
            "grid_area": null,
            "grid_template_columns": null,
            "flex": null,
            "_model_name": "LayoutModel",
            "justify_items": null,
            "grid_row": null,
            "max_height": null,
            "align_content": null,
            "visibility": null,
            "align_self": null,
            "height": null,
            "min_height": null,
            "padding": null,
            "grid_auto_rows": null,
            "grid_gap": null,
            "max_width": null,
            "order": null,
            "_view_module_version": "1.2.0",
            "grid_template_areas": null,
            "object_position": null,
            "object_fit": null,
            "grid_auto_columns": null,
            "margin": null,
            "display": null,
            "left": null
          }
        },
        "e4accaae67054e20b92b21dd3eff8724": {
          "model_module": "@jupyter-widgets/controls",
          "model_name": "HBoxModel",
          "state": {
            "_view_name": "HBoxView",
            "_dom_classes": [],
            "_model_name": "HBoxModel",
            "_view_module": "@jupyter-widgets/controls",
            "_model_module_version": "1.5.0",
            "_view_count": null,
            "_view_module_version": "1.5.0",
            "box_style": "",
            "layout": "IPY_MODEL_124128f81b2c44d188b1f6b85805cf5a",
            "_model_module": "@jupyter-widgets/controls",
            "children": [
              "IPY_MODEL_a0b9384effe0442c88bbbbe71c82c68b",
              "IPY_MODEL_409759a4ef2f4c8fab777055c5b6a3f7"
            ]
          }
        },
        "124128f81b2c44d188b1f6b85805cf5a": {
          "model_module": "@jupyter-widgets/base",
          "model_name": "LayoutModel",
          "state": {
            "_view_name": "LayoutView",
            "grid_template_rows": null,
            "right": null,
            "justify_content": null,
            "_view_module": "@jupyter-widgets/base",
            "overflow": null,
            "_model_module_version": "1.2.0",
            "_view_count": null,
            "flex_flow": null,
            "width": null,
            "min_width": null,
            "border": null,
            "align_items": null,
            "bottom": null,
            "_model_module": "@jupyter-widgets/base",
            "top": null,
            "grid_column": null,
            "overflow_y": null,
            "overflow_x": null,
            "grid_auto_flow": null,
            "grid_area": null,
            "grid_template_columns": null,
            "flex": null,
            "_model_name": "LayoutModel",
            "justify_items": null,
            "grid_row": null,
            "max_height": null,
            "align_content": null,
            "visibility": null,
            "align_self": null,
            "height": null,
            "min_height": null,
            "padding": null,
            "grid_auto_rows": null,
            "grid_gap": null,
            "max_width": null,
            "order": null,
            "_view_module_version": "1.2.0",
            "grid_template_areas": null,
            "object_position": null,
            "object_fit": null,
            "grid_auto_columns": null,
            "margin": null,
            "display": null,
            "left": null
          }
        },
        "a0b9384effe0442c88bbbbe71c82c68b": {
          "model_module": "@jupyter-widgets/controls",
          "model_name": "FloatProgressModel",
          "state": {
            "_view_name": "ProgressView",
            "style": "IPY_MODEL_16a3bd6ccf544e4088a49eda1f54638c",
            "_dom_classes": [],
            "description": "Downloading: 100%",
            "_model_name": "FloatProgressModel",
            "bar_style": "success",
            "max": 29,
            "_view_module": "@jupyter-widgets/controls",
            "_model_module_version": "1.5.0",
            "value": 29,
            "_view_count": null,
            "_view_module_version": "1.5.0",
            "orientation": "horizontal",
            "min": 0,
            "description_tooltip": null,
            "_model_module": "@jupyter-widgets/controls",
            "layout": "IPY_MODEL_0b7186791fb24b9b8ebaf2a5e9cdc3be"
          }
        },
        "409759a4ef2f4c8fab777055c5b6a3f7": {
          "model_module": "@jupyter-widgets/controls",
          "model_name": "HTMLModel",
          "state": {
            "_view_name": "HTMLView",
            "style": "IPY_MODEL_543fa91fdfd040c7823fd74220e55d89",
            "_dom_classes": [],
            "description": "",
            "_model_name": "HTMLModel",
            "placeholder": "​",
            "_view_module": "@jupyter-widgets/controls",
            "_model_module_version": "1.5.0",
            "value": " 29.0/29.0 [00:00&lt;00:00, 136B/s]",
            "_view_count": null,
            "_view_module_version": "1.5.0",
            "description_tooltip": null,
            "_model_module": "@jupyter-widgets/controls",
            "layout": "IPY_MODEL_1be7821a03a54948a3f9cce202127128"
          }
        },
        "16a3bd6ccf544e4088a49eda1f54638c": {
          "model_module": "@jupyter-widgets/controls",
          "model_name": "ProgressStyleModel",
          "state": {
            "_view_name": "StyleView",
            "_model_name": "ProgressStyleModel",
            "description_width": "initial",
            "_view_module": "@jupyter-widgets/base",
            "_model_module_version": "1.5.0",
            "_view_count": null,
            "_view_module_version": "1.2.0",
            "bar_color": null,
            "_model_module": "@jupyter-widgets/controls"
          }
        },
        "0b7186791fb24b9b8ebaf2a5e9cdc3be": {
          "model_module": "@jupyter-widgets/base",
          "model_name": "LayoutModel",
          "state": {
            "_view_name": "LayoutView",
            "grid_template_rows": null,
            "right": null,
            "justify_content": null,
            "_view_module": "@jupyter-widgets/base",
            "overflow": null,
            "_model_module_version": "1.2.0",
            "_view_count": null,
            "flex_flow": null,
            "width": null,
            "min_width": null,
            "border": null,
            "align_items": null,
            "bottom": null,
            "_model_module": "@jupyter-widgets/base",
            "top": null,
            "grid_column": null,
            "overflow_y": null,
            "overflow_x": null,
            "grid_auto_flow": null,
            "grid_area": null,
            "grid_template_columns": null,
            "flex": null,
            "_model_name": "LayoutModel",
            "justify_items": null,
            "grid_row": null,
            "max_height": null,
            "align_content": null,
            "visibility": null,
            "align_self": null,
            "height": null,
            "min_height": null,
            "padding": null,
            "grid_auto_rows": null,
            "grid_gap": null,
            "max_width": null,
            "order": null,
            "_view_module_version": "1.2.0",
            "grid_template_areas": null,
            "object_position": null,
            "object_fit": null,
            "grid_auto_columns": null,
            "margin": null,
            "display": null,
            "left": null
          }
        },
        "543fa91fdfd040c7823fd74220e55d89": {
          "model_module": "@jupyter-widgets/controls",
          "model_name": "DescriptionStyleModel",
          "state": {
            "_view_name": "StyleView",
            "_model_name": "DescriptionStyleModel",
            "description_width": "",
            "_view_module": "@jupyter-widgets/base",
            "_model_module_version": "1.5.0",
            "_view_count": null,
            "_view_module_version": "1.2.0",
            "_model_module": "@jupyter-widgets/controls"
          }
        },
        "1be7821a03a54948a3f9cce202127128": {
          "model_module": "@jupyter-widgets/base",
          "model_name": "LayoutModel",
          "state": {
            "_view_name": "LayoutView",
            "grid_template_rows": null,
            "right": null,
            "justify_content": null,
            "_view_module": "@jupyter-widgets/base",
            "overflow": null,
            "_model_module_version": "1.2.0",
            "_view_count": null,
            "flex_flow": null,
            "width": null,
            "min_width": null,
            "border": null,
            "align_items": null,
            "bottom": null,
            "_model_module": "@jupyter-widgets/base",
            "top": null,
            "grid_column": null,
            "overflow_y": null,
            "overflow_x": null,
            "grid_auto_flow": null,
            "grid_area": null,
            "grid_template_columns": null,
            "flex": null,
            "_model_name": "LayoutModel",
            "justify_items": null,
            "grid_row": null,
            "max_height": null,
            "align_content": null,
            "visibility": null,
            "align_self": null,
            "height": null,
            "min_height": null,
            "padding": null,
            "grid_auto_rows": null,
            "grid_gap": null,
            "max_width": null,
            "order": null,
            "_view_module_version": "1.2.0",
            "grid_template_areas": null,
            "object_position": null,
            "object_fit": null,
            "grid_auto_columns": null,
            "margin": null,
            "display": null,
            "left": null
          }
        },
        "520d9b3296d8485e8d184e78462751e6": {
          "model_module": "@jupyter-widgets/controls",
          "model_name": "HBoxModel",
          "state": {
            "_view_name": "HBoxView",
            "_dom_classes": [],
            "_model_name": "HBoxModel",
            "_view_module": "@jupyter-widgets/controls",
            "_model_module_version": "1.5.0",
            "_view_count": null,
            "_view_module_version": "1.5.0",
            "box_style": "",
            "layout": "IPY_MODEL_c919414fb1104b1387571330c2c043ff",
            "_model_module": "@jupyter-widgets/controls",
            "children": [
              "IPY_MODEL_5515d7aaa3534066affcd22eabc53ce7",
              "IPY_MODEL_70d9be175d2c43658182a98a89ffb2b9"
            ]
          }
        },
        "c919414fb1104b1387571330c2c043ff": {
          "model_module": "@jupyter-widgets/base",
          "model_name": "LayoutModel",
          "state": {
            "_view_name": "LayoutView",
            "grid_template_rows": null,
            "right": null,
            "justify_content": null,
            "_view_module": "@jupyter-widgets/base",
            "overflow": null,
            "_model_module_version": "1.2.0",
            "_view_count": null,
            "flex_flow": null,
            "width": null,
            "min_width": null,
            "border": null,
            "align_items": null,
            "bottom": null,
            "_model_module": "@jupyter-widgets/base",
            "top": null,
            "grid_column": null,
            "overflow_y": null,
            "overflow_x": null,
            "grid_auto_flow": null,
            "grid_area": null,
            "grid_template_columns": null,
            "flex": null,
            "_model_name": "LayoutModel",
            "justify_items": null,
            "grid_row": null,
            "max_height": null,
            "align_content": null,
            "visibility": null,
            "align_self": null,
            "height": null,
            "min_height": null,
            "padding": null,
            "grid_auto_rows": null,
            "grid_gap": null,
            "max_width": null,
            "order": null,
            "_view_module_version": "1.2.0",
            "grid_template_areas": null,
            "object_position": null,
            "object_fit": null,
            "grid_auto_columns": null,
            "margin": null,
            "display": null,
            "left": null
          }
        },
        "5515d7aaa3534066affcd22eabc53ce7": {
          "model_module": "@jupyter-widgets/controls",
          "model_name": "FloatProgressModel",
          "state": {
            "_view_name": "ProgressView",
            "style": "IPY_MODEL_1cc9d00fc0954493b9c6f6d838486662",
            "_dom_classes": [],
            "description": "Downloading: 100%",
            "_model_name": "FloatProgressModel",
            "bar_style": "success",
            "max": 435797,
            "_view_module": "@jupyter-widgets/controls",
            "_model_module_version": "1.5.0",
            "value": 435797,
            "_view_count": null,
            "_view_module_version": "1.5.0",
            "orientation": "horizontal",
            "min": 0,
            "description_tooltip": null,
            "_model_module": "@jupyter-widgets/controls",
            "layout": "IPY_MODEL_5e0fbfab3cf248dc857d2f46f1217954"
          }
        },
        "70d9be175d2c43658182a98a89ffb2b9": {
          "model_module": "@jupyter-widgets/controls",
          "model_name": "HTMLModel",
          "state": {
            "_view_name": "HTMLView",
            "style": "IPY_MODEL_322b246fd3a849d689754c6cee483112",
            "_dom_classes": [],
            "description": "",
            "_model_name": "HTMLModel",
            "placeholder": "​",
            "_view_module": "@jupyter-widgets/controls",
            "_model_module_version": "1.5.0",
            "value": " 436k/436k [00:00&lt;00:00, 2.56MB/s]",
            "_view_count": null,
            "_view_module_version": "1.5.0",
            "description_tooltip": null,
            "_model_module": "@jupyter-widgets/controls",
            "layout": "IPY_MODEL_136014cd219944cfb0bac07d68635543"
          }
        },
        "1cc9d00fc0954493b9c6f6d838486662": {
          "model_module": "@jupyter-widgets/controls",
          "model_name": "ProgressStyleModel",
          "state": {
            "_view_name": "StyleView",
            "_model_name": "ProgressStyleModel",
            "description_width": "initial",
            "_view_module": "@jupyter-widgets/base",
            "_model_module_version": "1.5.0",
            "_view_count": null,
            "_view_module_version": "1.2.0",
            "bar_color": null,
            "_model_module": "@jupyter-widgets/controls"
          }
        },
        "5e0fbfab3cf248dc857d2f46f1217954": {
          "model_module": "@jupyter-widgets/base",
          "model_name": "LayoutModel",
          "state": {
            "_view_name": "LayoutView",
            "grid_template_rows": null,
            "right": null,
            "justify_content": null,
            "_view_module": "@jupyter-widgets/base",
            "overflow": null,
            "_model_module_version": "1.2.0",
            "_view_count": null,
            "flex_flow": null,
            "width": null,
            "min_width": null,
            "border": null,
            "align_items": null,
            "bottom": null,
            "_model_module": "@jupyter-widgets/base",
            "top": null,
            "grid_column": null,
            "overflow_y": null,
            "overflow_x": null,
            "grid_auto_flow": null,
            "grid_area": null,
            "grid_template_columns": null,
            "flex": null,
            "_model_name": "LayoutModel",
            "justify_items": null,
            "grid_row": null,
            "max_height": null,
            "align_content": null,
            "visibility": null,
            "align_self": null,
            "height": null,
            "min_height": null,
            "padding": null,
            "grid_auto_rows": null,
            "grid_gap": null,
            "max_width": null,
            "order": null,
            "_view_module_version": "1.2.0",
            "grid_template_areas": null,
            "object_position": null,
            "object_fit": null,
            "grid_auto_columns": null,
            "margin": null,
            "display": null,
            "left": null
          }
        },
        "322b246fd3a849d689754c6cee483112": {
          "model_module": "@jupyter-widgets/controls",
          "model_name": "DescriptionStyleModel",
          "state": {
            "_view_name": "StyleView",
            "_model_name": "DescriptionStyleModel",
            "description_width": "",
            "_view_module": "@jupyter-widgets/base",
            "_model_module_version": "1.5.0",
            "_view_count": null,
            "_view_module_version": "1.2.0",
            "_model_module": "@jupyter-widgets/controls"
          }
        },
        "136014cd219944cfb0bac07d68635543": {
          "model_module": "@jupyter-widgets/base",
          "model_name": "LayoutModel",
          "state": {
            "_view_name": "LayoutView",
            "grid_template_rows": null,
            "right": null,
            "justify_content": null,
            "_view_module": "@jupyter-widgets/base",
            "overflow": null,
            "_model_module_version": "1.2.0",
            "_view_count": null,
            "flex_flow": null,
            "width": null,
            "min_width": null,
            "border": null,
            "align_items": null,
            "bottom": null,
            "_model_module": "@jupyter-widgets/base",
            "top": null,
            "grid_column": null,
            "overflow_y": null,
            "overflow_x": null,
            "grid_auto_flow": null,
            "grid_area": null,
            "grid_template_columns": null,
            "flex": null,
            "_model_name": "LayoutModel",
            "justify_items": null,
            "grid_row": null,
            "max_height": null,
            "align_content": null,
            "visibility": null,
            "align_self": null,
            "height": null,
            "min_height": null,
            "padding": null,
            "grid_auto_rows": null,
            "grid_gap": null,
            "max_width": null,
            "order": null,
            "_view_module_version": "1.2.0",
            "grid_template_areas": null,
            "object_position": null,
            "object_fit": null,
            "grid_auto_columns": null,
            "margin": null,
            "display": null,
            "left": null
          }
        },
        "8e252690d4e4496d8f5b333549c15898": {
          "model_module": "@jupyter-widgets/controls",
          "model_name": "HBoxModel",
          "state": {
            "_view_name": "HBoxView",
            "_dom_classes": [],
            "_model_name": "HBoxModel",
            "_view_module": "@jupyter-widgets/controls",
            "_model_module_version": "1.5.0",
            "_view_count": null,
            "_view_module_version": "1.5.0",
            "box_style": "",
            "layout": "IPY_MODEL_a586d8f2a731423b89a4f3bfca64a1cf",
            "_model_module": "@jupyter-widgets/controls",
            "children": [
              "IPY_MODEL_889d6172655044db81e90dec049b70b2",
              "IPY_MODEL_f940ecbee33344ab8d026277b2d90e29"
            ]
          }
        },
        "a586d8f2a731423b89a4f3bfca64a1cf": {
          "model_module": "@jupyter-widgets/base",
          "model_name": "LayoutModel",
          "state": {
            "_view_name": "LayoutView",
            "grid_template_rows": null,
            "right": null,
            "justify_content": null,
            "_view_module": "@jupyter-widgets/base",
            "overflow": null,
            "_model_module_version": "1.2.0",
            "_view_count": null,
            "flex_flow": null,
            "width": null,
            "min_width": null,
            "border": null,
            "align_items": null,
            "bottom": null,
            "_model_module": "@jupyter-widgets/base",
            "top": null,
            "grid_column": null,
            "overflow_y": null,
            "overflow_x": null,
            "grid_auto_flow": null,
            "grid_area": null,
            "grid_template_columns": null,
            "flex": null,
            "_model_name": "LayoutModel",
            "justify_items": null,
            "grid_row": null,
            "max_height": null,
            "align_content": null,
            "visibility": null,
            "align_self": null,
            "height": null,
            "min_height": null,
            "padding": null,
            "grid_auto_rows": null,
            "grid_gap": null,
            "max_width": null,
            "order": null,
            "_view_module_version": "1.2.0",
            "grid_template_areas": null,
            "object_position": null,
            "object_fit": null,
            "grid_auto_columns": null,
            "margin": null,
            "display": null,
            "left": null
          }
        },
        "889d6172655044db81e90dec049b70b2": {
          "model_module": "@jupyter-widgets/controls",
          "model_name": "FloatProgressModel",
          "state": {
            "_view_name": "ProgressView",
            "style": "IPY_MODEL_437628de15334aeea1706ba9f3b1fc1c",
            "_dom_classes": [],
            "description": "Downloading: 100%",
            "_model_name": "FloatProgressModel",
            "bar_style": "success",
            "max": 995526,
            "_view_module": "@jupyter-widgets/controls",
            "_model_module_version": "1.5.0",
            "value": 995526,
            "_view_count": null,
            "_view_module_version": "1.5.0",
            "orientation": "horizontal",
            "min": 0,
            "description_tooltip": null,
            "_model_module": "@jupyter-widgets/controls",
            "layout": "IPY_MODEL_9e443d41b3de4d42a4bd3262c8d6e4c7"
          }
        },
        "f940ecbee33344ab8d026277b2d90e29": {
          "model_module": "@jupyter-widgets/controls",
          "model_name": "HTMLModel",
          "state": {
            "_view_name": "HTMLView",
            "style": "IPY_MODEL_f1e5ee02dc474b78aeb9a1c173348933",
            "_dom_classes": [],
            "description": "",
            "_model_name": "HTMLModel",
            "placeholder": "​",
            "_view_module": "@jupyter-widgets/controls",
            "_model_module_version": "1.5.0",
            "value": " 996k/996k [00:00&lt;00:00, 1.49MB/s]",
            "_view_count": null,
            "_view_module_version": "1.5.0",
            "description_tooltip": null,
            "_model_module": "@jupyter-widgets/controls",
            "layout": "IPY_MODEL_59d944607a2840a8902c64c03c417d20"
          }
        },
        "437628de15334aeea1706ba9f3b1fc1c": {
          "model_module": "@jupyter-widgets/controls",
          "model_name": "ProgressStyleModel",
          "state": {
            "_view_name": "StyleView",
            "_model_name": "ProgressStyleModel",
            "description_width": "initial",
            "_view_module": "@jupyter-widgets/base",
            "_model_module_version": "1.5.0",
            "_view_count": null,
            "_view_module_version": "1.2.0",
            "bar_color": null,
            "_model_module": "@jupyter-widgets/controls"
          }
        },
        "9e443d41b3de4d42a4bd3262c8d6e4c7": {
          "model_module": "@jupyter-widgets/base",
          "model_name": "LayoutModel",
          "state": {
            "_view_name": "LayoutView",
            "grid_template_rows": null,
            "right": null,
            "justify_content": null,
            "_view_module": "@jupyter-widgets/base",
            "overflow": null,
            "_model_module_version": "1.2.0",
            "_view_count": null,
            "flex_flow": null,
            "width": null,
            "min_width": null,
            "border": null,
            "align_items": null,
            "bottom": null,
            "_model_module": "@jupyter-widgets/base",
            "top": null,
            "grid_column": null,
            "overflow_y": null,
            "overflow_x": null,
            "grid_auto_flow": null,
            "grid_area": null,
            "grid_template_columns": null,
            "flex": null,
            "_model_name": "LayoutModel",
            "justify_items": null,
            "grid_row": null,
            "max_height": null,
            "align_content": null,
            "visibility": null,
            "align_self": null,
            "height": null,
            "min_height": null,
            "padding": null,
            "grid_auto_rows": null,
            "grid_gap": null,
            "max_width": null,
            "order": null,
            "_view_module_version": "1.2.0",
            "grid_template_areas": null,
            "object_position": null,
            "object_fit": null,
            "grid_auto_columns": null,
            "margin": null,
            "display": null,
            "left": null
          }
        },
        "f1e5ee02dc474b78aeb9a1c173348933": {
          "model_module": "@jupyter-widgets/controls",
          "model_name": "DescriptionStyleModel",
          "state": {
            "_view_name": "StyleView",
            "_model_name": "DescriptionStyleModel",
            "description_width": "",
            "_view_module": "@jupyter-widgets/base",
            "_model_module_version": "1.5.0",
            "_view_count": null,
            "_view_module_version": "1.2.0",
            "_model_module": "@jupyter-widgets/controls"
          }
        },
        "59d944607a2840a8902c64c03c417d20": {
          "model_module": "@jupyter-widgets/base",
          "model_name": "LayoutModel",
          "state": {
            "_view_name": "LayoutView",
            "grid_template_rows": null,
            "right": null,
            "justify_content": null,
            "_view_module": "@jupyter-widgets/base",
            "overflow": null,
            "_model_module_version": "1.2.0",
            "_view_count": null,
            "flex_flow": null,
            "width": null,
            "min_width": null,
            "border": null,
            "align_items": null,
            "bottom": null,
            "_model_module": "@jupyter-widgets/base",
            "top": null,
            "grid_column": null,
            "overflow_y": null,
            "overflow_x": null,
            "grid_auto_flow": null,
            "grid_area": null,
            "grid_template_columns": null,
            "flex": null,
            "_model_name": "LayoutModel",
            "justify_items": null,
            "grid_row": null,
            "max_height": null,
            "align_content": null,
            "visibility": null,
            "align_self": null,
            "height": null,
            "min_height": null,
            "padding": null,
            "grid_auto_rows": null,
            "grid_gap": null,
            "max_width": null,
            "order": null,
            "_view_module_version": "1.2.0",
            "grid_template_areas": null,
            "object_position": null,
            "object_fit": null,
            "grid_auto_columns": null,
            "margin": null,
            "display": null,
            "left": null
          }
        },
        "b85db07858274970b3379b2e37b10153": {
          "model_module": "@jupyter-widgets/controls",
          "model_name": "HBoxModel",
          "state": {
            "_view_name": "HBoxView",
            "_dom_classes": [],
            "_model_name": "HBoxModel",
            "_view_module": "@jupyter-widgets/controls",
            "_model_module_version": "1.5.0",
            "_view_count": null,
            "_view_module_version": "1.5.0",
            "box_style": "",
            "layout": "IPY_MODEL_136536a370ea40d491d945392bfc0e63",
            "_model_module": "@jupyter-widgets/controls",
            "children": [
              "IPY_MODEL_7674b95bd6e04556bb9d757433f079d2",
              "IPY_MODEL_fc7c4600e0a64287bd442a742b471d16"
            ]
          }
        },
        "136536a370ea40d491d945392bfc0e63": {
          "model_module": "@jupyter-widgets/base",
          "model_name": "LayoutModel",
          "state": {
            "_view_name": "LayoutView",
            "grid_template_rows": null,
            "right": null,
            "justify_content": null,
            "_view_module": "@jupyter-widgets/base",
            "overflow": null,
            "_model_module_version": "1.2.0",
            "_view_count": null,
            "flex_flow": null,
            "width": null,
            "min_width": null,
            "border": null,
            "align_items": null,
            "bottom": null,
            "_model_module": "@jupyter-widgets/base",
            "top": null,
            "grid_column": null,
            "overflow_y": null,
            "overflow_x": null,
            "grid_auto_flow": null,
            "grid_area": null,
            "grid_template_columns": null,
            "flex": null,
            "_model_name": "LayoutModel",
            "justify_items": null,
            "grid_row": null,
            "max_height": null,
            "align_content": null,
            "visibility": null,
            "align_self": null,
            "height": null,
            "min_height": null,
            "padding": null,
            "grid_auto_rows": null,
            "grid_gap": null,
            "max_width": null,
            "order": null,
            "_view_module_version": "1.2.0",
            "grid_template_areas": null,
            "object_position": null,
            "object_fit": null,
            "grid_auto_columns": null,
            "margin": null,
            "display": null,
            "left": null
          }
        },
        "7674b95bd6e04556bb9d757433f079d2": {
          "model_module": "@jupyter-widgets/controls",
          "model_name": "FloatProgressModel",
          "state": {
            "_view_name": "ProgressView",
            "style": "IPY_MODEL_2973f2cc84d3421ea75a5cc78a9b1145",
            "_dom_classes": [],
            "description": "Downloading: 100%",
            "_model_name": "FloatProgressModel",
            "bar_style": "success",
            "max": 29,
            "_view_module": "@jupyter-widgets/controls",
            "_model_module_version": "1.5.0",
            "value": 29,
            "_view_count": null,
            "_view_module_version": "1.5.0",
            "orientation": "horizontal",
            "min": 0,
            "description_tooltip": null,
            "_model_module": "@jupyter-widgets/controls",
            "layout": "IPY_MODEL_acd1479a848047bd9dccd16d8be6a17f"
          }
        },
        "fc7c4600e0a64287bd442a742b471d16": {
          "model_module": "@jupyter-widgets/controls",
          "model_name": "HTMLModel",
          "state": {
            "_view_name": "HTMLView",
            "style": "IPY_MODEL_823534be745148858f8db83110a14732",
            "_dom_classes": [],
            "description": "",
            "_model_name": "HTMLModel",
            "placeholder": "​",
            "_view_module": "@jupyter-widgets/controls",
            "_model_module_version": "1.5.0",
            "value": " 29.0/29.0 [00:00&lt;00:00, 41.6B/s]",
            "_view_count": null,
            "_view_module_version": "1.5.0",
            "description_tooltip": null,
            "_model_module": "@jupyter-widgets/controls",
            "layout": "IPY_MODEL_d16ee039dce04fc2a055a2d61a3724f6"
          }
        },
        "2973f2cc84d3421ea75a5cc78a9b1145": {
          "model_module": "@jupyter-widgets/controls",
          "model_name": "ProgressStyleModel",
          "state": {
            "_view_name": "StyleView",
            "_model_name": "ProgressStyleModel",
            "description_width": "initial",
            "_view_module": "@jupyter-widgets/base",
            "_model_module_version": "1.5.0",
            "_view_count": null,
            "_view_module_version": "1.2.0",
            "bar_color": null,
            "_model_module": "@jupyter-widgets/controls"
          }
        },
        "acd1479a848047bd9dccd16d8be6a17f": {
          "model_module": "@jupyter-widgets/base",
          "model_name": "LayoutModel",
          "state": {
            "_view_name": "LayoutView",
            "grid_template_rows": null,
            "right": null,
            "justify_content": null,
            "_view_module": "@jupyter-widgets/base",
            "overflow": null,
            "_model_module_version": "1.2.0",
            "_view_count": null,
            "flex_flow": null,
            "width": null,
            "min_width": null,
            "border": null,
            "align_items": null,
            "bottom": null,
            "_model_module": "@jupyter-widgets/base",
            "top": null,
            "grid_column": null,
            "overflow_y": null,
            "overflow_x": null,
            "grid_auto_flow": null,
            "grid_area": null,
            "grid_template_columns": null,
            "flex": null,
            "_model_name": "LayoutModel",
            "justify_items": null,
            "grid_row": null,
            "max_height": null,
            "align_content": null,
            "visibility": null,
            "align_self": null,
            "height": null,
            "min_height": null,
            "padding": null,
            "grid_auto_rows": null,
            "grid_gap": null,
            "max_width": null,
            "order": null,
            "_view_module_version": "1.2.0",
            "grid_template_areas": null,
            "object_position": null,
            "object_fit": null,
            "grid_auto_columns": null,
            "margin": null,
            "display": null,
            "left": null
          }
        },
        "823534be745148858f8db83110a14732": {
          "model_module": "@jupyter-widgets/controls",
          "model_name": "DescriptionStyleModel",
          "state": {
            "_view_name": "StyleView",
            "_model_name": "DescriptionStyleModel",
            "description_width": "",
            "_view_module": "@jupyter-widgets/base",
            "_model_module_version": "1.5.0",
            "_view_count": null,
            "_view_module_version": "1.2.0",
            "_model_module": "@jupyter-widgets/controls"
          }
        },
        "d16ee039dce04fc2a055a2d61a3724f6": {
          "model_module": "@jupyter-widgets/base",
          "model_name": "LayoutModel",
          "state": {
            "_view_name": "LayoutView",
            "grid_template_rows": null,
            "right": null,
            "justify_content": null,
            "_view_module": "@jupyter-widgets/base",
            "overflow": null,
            "_model_module_version": "1.2.0",
            "_view_count": null,
            "flex_flow": null,
            "width": null,
            "min_width": null,
            "border": null,
            "align_items": null,
            "bottom": null,
            "_model_module": "@jupyter-widgets/base",
            "top": null,
            "grid_column": null,
            "overflow_y": null,
            "overflow_x": null,
            "grid_auto_flow": null,
            "grid_area": null,
            "grid_template_columns": null,
            "flex": null,
            "_model_name": "LayoutModel",
            "justify_items": null,
            "grid_row": null,
            "max_height": null,
            "align_content": null,
            "visibility": null,
            "align_self": null,
            "height": null,
            "min_height": null,
            "padding": null,
            "grid_auto_rows": null,
            "grid_gap": null,
            "max_width": null,
            "order": null,
            "_view_module_version": "1.2.0",
            "grid_template_areas": null,
            "object_position": null,
            "object_fit": null,
            "grid_auto_columns": null,
            "margin": null,
            "display": null,
            "left": null
          }
        },
        "94f0297cff4f446e9676f8a6a70a04a0": {
          "model_module": "@jupyter-widgets/controls",
          "model_name": "HBoxModel",
          "state": {
            "_view_name": "HBoxView",
            "_dom_classes": [],
            "_model_name": "HBoxModel",
            "_view_module": "@jupyter-widgets/controls",
            "_model_module_version": "1.5.0",
            "_view_count": null,
            "_view_module_version": "1.5.0",
            "box_style": "",
            "layout": "IPY_MODEL_5276e376a66e4b8d9fc863b7df026fde",
            "_model_module": "@jupyter-widgets/controls",
            "children": [
              "IPY_MODEL_2b888cac4300426bb55a99594e0952ff",
              "IPY_MODEL_147ceca216864127ab0a9f588ec43c4d"
            ]
          }
        },
        "5276e376a66e4b8d9fc863b7df026fde": {
          "model_module": "@jupyter-widgets/base",
          "model_name": "LayoutModel",
          "state": {
            "_view_name": "LayoutView",
            "grid_template_rows": null,
            "right": null,
            "justify_content": null,
            "_view_module": "@jupyter-widgets/base",
            "overflow": null,
            "_model_module_version": "1.2.0",
            "_view_count": null,
            "flex_flow": null,
            "width": null,
            "min_width": null,
            "border": null,
            "align_items": null,
            "bottom": null,
            "_model_module": "@jupyter-widgets/base",
            "top": null,
            "grid_column": null,
            "overflow_y": null,
            "overflow_x": null,
            "grid_auto_flow": null,
            "grid_area": null,
            "grid_template_columns": null,
            "flex": null,
            "_model_name": "LayoutModel",
            "justify_items": null,
            "grid_row": null,
            "max_height": null,
            "align_content": null,
            "visibility": null,
            "align_self": null,
            "height": null,
            "min_height": null,
            "padding": null,
            "grid_auto_rows": null,
            "grid_gap": null,
            "max_width": null,
            "order": null,
            "_view_module_version": "1.2.0",
            "grid_template_areas": null,
            "object_position": null,
            "object_fit": null,
            "grid_auto_columns": null,
            "margin": null,
            "display": null,
            "left": null
          }
        },
        "2b888cac4300426bb55a99594e0952ff": {
          "model_module": "@jupyter-widgets/controls",
          "model_name": "FloatProgressModel",
          "state": {
            "_view_name": "ProgressView",
            "style": "IPY_MODEL_80e5feba731a4ab699b04790bb2496f2",
            "_dom_classes": [],
            "description": "Downloading: 100%",
            "_model_name": "FloatProgressModel",
            "bar_style": "success",
            "max": 1961828,
            "_view_module": "@jupyter-widgets/controls",
            "_model_module_version": "1.5.0",
            "value": 1961828,
            "_view_count": null,
            "_view_module_version": "1.5.0",
            "orientation": "horizontal",
            "min": 0,
            "description_tooltip": null,
            "_model_module": "@jupyter-widgets/controls",
            "layout": "IPY_MODEL_2cf6064c5e0e495a8c2f85f3b538a6ff"
          }
        },
        "147ceca216864127ab0a9f588ec43c4d": {
          "model_module": "@jupyter-widgets/controls",
          "model_name": "HTMLModel",
          "state": {
            "_view_name": "HTMLView",
            "style": "IPY_MODEL_de07eff31526495d9b8e2571eec4a974",
            "_dom_classes": [],
            "description": "",
            "_model_name": "HTMLModel",
            "placeholder": "​",
            "_view_module": "@jupyter-widgets/controls",
            "_model_module_version": "1.5.0",
            "value": " 1.96M/1.96M [00:00&lt;00:00, 5.97MB/s]",
            "_view_count": null,
            "_view_module_version": "1.5.0",
            "description_tooltip": null,
            "_model_module": "@jupyter-widgets/controls",
            "layout": "IPY_MODEL_f2b18061b8344a078d3bc94ca26ac123"
          }
        },
        "80e5feba731a4ab699b04790bb2496f2": {
          "model_module": "@jupyter-widgets/controls",
          "model_name": "ProgressStyleModel",
          "state": {
            "_view_name": "StyleView",
            "_model_name": "ProgressStyleModel",
            "description_width": "initial",
            "_view_module": "@jupyter-widgets/base",
            "_model_module_version": "1.5.0",
            "_view_count": null,
            "_view_module_version": "1.2.0",
            "bar_color": null,
            "_model_module": "@jupyter-widgets/controls"
          }
        },
        "2cf6064c5e0e495a8c2f85f3b538a6ff": {
          "model_module": "@jupyter-widgets/base",
          "model_name": "LayoutModel",
          "state": {
            "_view_name": "LayoutView",
            "grid_template_rows": null,
            "right": null,
            "justify_content": null,
            "_view_module": "@jupyter-widgets/base",
            "overflow": null,
            "_model_module_version": "1.2.0",
            "_view_count": null,
            "flex_flow": null,
            "width": null,
            "min_width": null,
            "border": null,
            "align_items": null,
            "bottom": null,
            "_model_module": "@jupyter-widgets/base",
            "top": null,
            "grid_column": null,
            "overflow_y": null,
            "overflow_x": null,
            "grid_auto_flow": null,
            "grid_area": null,
            "grid_template_columns": null,
            "flex": null,
            "_model_name": "LayoutModel",
            "justify_items": null,
            "grid_row": null,
            "max_height": null,
            "align_content": null,
            "visibility": null,
            "align_self": null,
            "height": null,
            "min_height": null,
            "padding": null,
            "grid_auto_rows": null,
            "grid_gap": null,
            "max_width": null,
            "order": null,
            "_view_module_version": "1.2.0",
            "grid_template_areas": null,
            "object_position": null,
            "object_fit": null,
            "grid_auto_columns": null,
            "margin": null,
            "display": null,
            "left": null
          }
        },
        "de07eff31526495d9b8e2571eec4a974": {
          "model_module": "@jupyter-widgets/controls",
          "model_name": "DescriptionStyleModel",
          "state": {
            "_view_name": "StyleView",
            "_model_name": "DescriptionStyleModel",
            "description_width": "",
            "_view_module": "@jupyter-widgets/base",
            "_model_module_version": "1.5.0",
            "_view_count": null,
            "_view_module_version": "1.2.0",
            "_model_module": "@jupyter-widgets/controls"
          }
        },
        "f2b18061b8344a078d3bc94ca26ac123": {
          "model_module": "@jupyter-widgets/base",
          "model_name": "LayoutModel",
          "state": {
            "_view_name": "LayoutView",
            "grid_template_rows": null,
            "right": null,
            "justify_content": null,
            "_view_module": "@jupyter-widgets/base",
            "overflow": null,
            "_model_module_version": "1.2.0",
            "_view_count": null,
            "flex_flow": null,
            "width": null,
            "min_width": null,
            "border": null,
            "align_items": null,
            "bottom": null,
            "_model_module": "@jupyter-widgets/base",
            "top": null,
            "grid_column": null,
            "overflow_y": null,
            "overflow_x": null,
            "grid_auto_flow": null,
            "grid_area": null,
            "grid_template_columns": null,
            "flex": null,
            "_model_name": "LayoutModel",
            "justify_items": null,
            "grid_row": null,
            "max_height": null,
            "align_content": null,
            "visibility": null,
            "align_self": null,
            "height": null,
            "min_height": null,
            "padding": null,
            "grid_auto_rows": null,
            "grid_gap": null,
            "max_width": null,
            "order": null,
            "_view_module_version": "1.2.0",
            "grid_template_areas": null,
            "object_position": null,
            "object_fit": null,
            "grid_auto_columns": null,
            "margin": null,
            "display": null,
            "left": null
          }
        },
        "1b504afddfa241daa4d4dd28d0e02341": {
          "model_module": "@jupyter-widgets/controls",
          "model_name": "HBoxModel",
          "state": {
            "_view_name": "HBoxView",
            "_dom_classes": [],
            "_model_name": "HBoxModel",
            "_view_module": "@jupyter-widgets/controls",
            "_model_module_version": "1.5.0",
            "_view_count": null,
            "_view_module_version": "1.5.0",
            "box_style": "",
            "layout": "IPY_MODEL_05869ce8ae5a494a821a6032411d422f",
            "_model_module": "@jupyter-widgets/controls",
            "children": [
              "IPY_MODEL_9e272b2a55d44c698bf071cd0037c4d3",
              "IPY_MODEL_7197369e7b344260921837d9cf8f1bcf"
            ]
          }
        },
        "05869ce8ae5a494a821a6032411d422f": {
          "model_module": "@jupyter-widgets/base",
          "model_name": "LayoutModel",
          "state": {
            "_view_name": "LayoutView",
            "grid_template_rows": null,
            "right": null,
            "justify_content": null,
            "_view_module": "@jupyter-widgets/base",
            "overflow": null,
            "_model_module_version": "1.2.0",
            "_view_count": null,
            "flex_flow": null,
            "width": null,
            "min_width": null,
            "border": null,
            "align_items": null,
            "bottom": null,
            "_model_module": "@jupyter-widgets/base",
            "top": null,
            "grid_column": null,
            "overflow_y": null,
            "overflow_x": null,
            "grid_auto_flow": null,
            "grid_area": null,
            "grid_template_columns": null,
            "flex": null,
            "_model_name": "LayoutModel",
            "justify_items": null,
            "grid_row": null,
            "max_height": null,
            "align_content": null,
            "visibility": null,
            "align_self": null,
            "height": null,
            "min_height": null,
            "padding": null,
            "grid_auto_rows": null,
            "grid_gap": null,
            "max_width": null,
            "order": null,
            "_view_module_version": "1.2.0",
            "grid_template_areas": null,
            "object_position": null,
            "object_fit": null,
            "grid_auto_columns": null,
            "margin": null,
            "display": null,
            "left": null
          }
        },
        "9e272b2a55d44c698bf071cd0037c4d3": {
          "model_module": "@jupyter-widgets/controls",
          "model_name": "FloatProgressModel",
          "state": {
            "_view_name": "ProgressView",
            "style": "IPY_MODEL_e31ec15340574ba590ae694d3568f00a",
            "_dom_classes": [],
            "description": "Downloading: 100%",
            "_model_name": "FloatProgressModel",
            "bar_style": "success",
            "max": 648,
            "_view_module": "@jupyter-widgets/controls",
            "_model_module_version": "1.5.0",
            "value": 648,
            "_view_count": null,
            "_view_module_version": "1.5.0",
            "orientation": "horizontal",
            "min": 0,
            "description_tooltip": null,
            "_model_module": "@jupyter-widgets/controls",
            "layout": "IPY_MODEL_83ceb82352dc4c509b8f81d8d81c4d29"
          }
        },
        "7197369e7b344260921837d9cf8f1bcf": {
          "model_module": "@jupyter-widgets/controls",
          "model_name": "HTMLModel",
          "state": {
            "_view_name": "HTMLView",
            "style": "IPY_MODEL_3e46bcd59bca4c70ab5a77e43193aa5c",
            "_dom_classes": [],
            "description": "",
            "_model_name": "HTMLModel",
            "placeholder": "​",
            "_view_module": "@jupyter-widgets/controls",
            "_model_module_version": "1.5.0",
            "value": " 648/648 [00:00&lt;00:00, 964B/s]",
            "_view_count": null,
            "_view_module_version": "1.5.0",
            "description_tooltip": null,
            "_model_module": "@jupyter-widgets/controls",
            "layout": "IPY_MODEL_77ffd62ac3a54ea7a2e1944642ee9185"
          }
        },
        "e31ec15340574ba590ae694d3568f00a": {
          "model_module": "@jupyter-widgets/controls",
          "model_name": "ProgressStyleModel",
          "state": {
            "_view_name": "StyleView",
            "_model_name": "ProgressStyleModel",
            "description_width": "initial",
            "_view_module": "@jupyter-widgets/base",
            "_model_module_version": "1.5.0",
            "_view_count": null,
            "_view_module_version": "1.2.0",
            "bar_color": null,
            "_model_module": "@jupyter-widgets/controls"
          }
        },
        "83ceb82352dc4c509b8f81d8d81c4d29": {
          "model_module": "@jupyter-widgets/base",
          "model_name": "LayoutModel",
          "state": {
            "_view_name": "LayoutView",
            "grid_template_rows": null,
            "right": null,
            "justify_content": null,
            "_view_module": "@jupyter-widgets/base",
            "overflow": null,
            "_model_module_version": "1.2.0",
            "_view_count": null,
            "flex_flow": null,
            "width": null,
            "min_width": null,
            "border": null,
            "align_items": null,
            "bottom": null,
            "_model_module": "@jupyter-widgets/base",
            "top": null,
            "grid_column": null,
            "overflow_y": null,
            "overflow_x": null,
            "grid_auto_flow": null,
            "grid_area": null,
            "grid_template_columns": null,
            "flex": null,
            "_model_name": "LayoutModel",
            "justify_items": null,
            "grid_row": null,
            "max_height": null,
            "align_content": null,
            "visibility": null,
            "align_self": null,
            "height": null,
            "min_height": null,
            "padding": null,
            "grid_auto_rows": null,
            "grid_gap": null,
            "max_width": null,
            "order": null,
            "_view_module_version": "1.2.0",
            "grid_template_areas": null,
            "object_position": null,
            "object_fit": null,
            "grid_auto_columns": null,
            "margin": null,
            "display": null,
            "left": null
          }
        },
        "3e46bcd59bca4c70ab5a77e43193aa5c": {
          "model_module": "@jupyter-widgets/controls",
          "model_name": "DescriptionStyleModel",
          "state": {
            "_view_name": "StyleView",
            "_model_name": "DescriptionStyleModel",
            "description_width": "",
            "_view_module": "@jupyter-widgets/base",
            "_model_module_version": "1.5.0",
            "_view_count": null,
            "_view_module_version": "1.2.0",
            "_model_module": "@jupyter-widgets/controls"
          }
        },
        "77ffd62ac3a54ea7a2e1944642ee9185": {
          "model_module": "@jupyter-widgets/base",
          "model_name": "LayoutModel",
          "state": {
            "_view_name": "LayoutView",
            "grid_template_rows": null,
            "right": null,
            "justify_content": null,
            "_view_module": "@jupyter-widgets/base",
            "overflow": null,
            "_model_module_version": "1.2.0",
            "_view_count": null,
            "flex_flow": null,
            "width": null,
            "min_width": null,
            "border": null,
            "align_items": null,
            "bottom": null,
            "_model_module": "@jupyter-widgets/base",
            "top": null,
            "grid_column": null,
            "overflow_y": null,
            "overflow_x": null,
            "grid_auto_flow": null,
            "grid_area": null,
            "grid_template_columns": null,
            "flex": null,
            "_model_name": "LayoutModel",
            "justify_items": null,
            "grid_row": null,
            "max_height": null,
            "align_content": null,
            "visibility": null,
            "align_self": null,
            "height": null,
            "min_height": null,
            "padding": null,
            "grid_auto_rows": null,
            "grid_gap": null,
            "max_width": null,
            "order": null,
            "_view_module_version": "1.2.0",
            "grid_template_areas": null,
            "object_position": null,
            "object_fit": null,
            "grid_auto_columns": null,
            "margin": null,
            "display": null,
            "left": null
          }
        },
        "c048cdc219aa4cfb992d8977fe6119c6": {
          "model_module": "@jupyter-widgets/controls",
          "model_name": "HBoxModel",
          "state": {
            "_view_name": "HBoxView",
            "_dom_classes": [],
            "_model_name": "HBoxModel",
            "_view_module": "@jupyter-widgets/controls",
            "_model_module_version": "1.5.0",
            "_view_count": null,
            "_view_module_version": "1.5.0",
            "box_style": "",
            "layout": "IPY_MODEL_128c9bd21d914d1e9566db079c5dcf95",
            "_model_module": "@jupyter-widgets/controls",
            "children": [
              "IPY_MODEL_83602a52a1384004a578d524fa5d0b2c",
              "IPY_MODEL_1b1a36640aec447b837d8881df0ad1ee"
            ]
          }
        },
        "128c9bd21d914d1e9566db079c5dcf95": {
          "model_module": "@jupyter-widgets/base",
          "model_name": "LayoutModel",
          "state": {
            "_view_name": "LayoutView",
            "grid_template_rows": null,
            "right": null,
            "justify_content": null,
            "_view_module": "@jupyter-widgets/base",
            "overflow": null,
            "_model_module_version": "1.2.0",
            "_view_count": null,
            "flex_flow": null,
            "width": null,
            "min_width": null,
            "border": null,
            "align_items": null,
            "bottom": null,
            "_model_module": "@jupyter-widgets/base",
            "top": null,
            "grid_column": null,
            "overflow_y": null,
            "overflow_x": null,
            "grid_auto_flow": null,
            "grid_area": null,
            "grid_template_columns": null,
            "flex": null,
            "_model_name": "LayoutModel",
            "justify_items": null,
            "grid_row": null,
            "max_height": null,
            "align_content": null,
            "visibility": null,
            "align_self": null,
            "height": null,
            "min_height": null,
            "padding": null,
            "grid_auto_rows": null,
            "grid_gap": null,
            "max_width": null,
            "order": null,
            "_view_module_version": "1.2.0",
            "grid_template_areas": null,
            "object_position": null,
            "object_fit": null,
            "grid_auto_columns": null,
            "margin": null,
            "display": null,
            "left": null
          }
        },
        "83602a52a1384004a578d524fa5d0b2c": {
          "model_module": "@jupyter-widgets/controls",
          "model_name": "FloatProgressModel",
          "state": {
            "_view_name": "ProgressView",
            "style": "IPY_MODEL_611d966e199e4756b5c3fcf008a384bc",
            "_dom_classes": [],
            "description": "Downloading: 100%",
            "_model_name": "FloatProgressModel",
            "bar_style": "success",
            "max": 1342014951,
            "_view_module": "@jupyter-widgets/controls",
            "_model_module_version": "1.5.0",
            "value": 1342014951,
            "_view_count": null,
            "_view_module_version": "1.5.0",
            "orientation": "horizontal",
            "min": 0,
            "description_tooltip": null,
            "_model_module": "@jupyter-widgets/controls",
            "layout": "IPY_MODEL_703fb850b71644d4a48aa6a616a262bc"
          }
        },
        "1b1a36640aec447b837d8881df0ad1ee": {
          "model_module": "@jupyter-widgets/controls",
          "model_name": "HTMLModel",
          "state": {
            "_view_name": "HTMLView",
            "style": "IPY_MODEL_cc65dc98c83342428a2d7eb32f5e67e3",
            "_dom_classes": [],
            "description": "",
            "_model_name": "HTMLModel",
            "placeholder": "​",
            "_view_module": "@jupyter-widgets/controls",
            "_model_module_version": "1.5.0",
            "value": " 1.34G/1.34G [00:48&lt;00:00, 27.6MB/s]",
            "_view_count": null,
            "_view_module_version": "1.5.0",
            "description_tooltip": null,
            "_model_module": "@jupyter-widgets/controls",
            "layout": "IPY_MODEL_9bcf9ad83bf3421e82e4ce59e436ecd5"
          }
        },
        "611d966e199e4756b5c3fcf008a384bc": {
          "model_module": "@jupyter-widgets/controls",
          "model_name": "ProgressStyleModel",
          "state": {
            "_view_name": "StyleView",
            "_model_name": "ProgressStyleModel",
            "description_width": "initial",
            "_view_module": "@jupyter-widgets/base",
            "_model_module_version": "1.5.0",
            "_view_count": null,
            "_view_module_version": "1.2.0",
            "bar_color": null,
            "_model_module": "@jupyter-widgets/controls"
          }
        },
        "703fb850b71644d4a48aa6a616a262bc": {
          "model_module": "@jupyter-widgets/base",
          "model_name": "LayoutModel",
          "state": {
            "_view_name": "LayoutView",
            "grid_template_rows": null,
            "right": null,
            "justify_content": null,
            "_view_module": "@jupyter-widgets/base",
            "overflow": null,
            "_model_module_version": "1.2.0",
            "_view_count": null,
            "flex_flow": null,
            "width": null,
            "min_width": null,
            "border": null,
            "align_items": null,
            "bottom": null,
            "_model_module": "@jupyter-widgets/base",
            "top": null,
            "grid_column": null,
            "overflow_y": null,
            "overflow_x": null,
            "grid_auto_flow": null,
            "grid_area": null,
            "grid_template_columns": null,
            "flex": null,
            "_model_name": "LayoutModel",
            "justify_items": null,
            "grid_row": null,
            "max_height": null,
            "align_content": null,
            "visibility": null,
            "align_self": null,
            "height": null,
            "min_height": null,
            "padding": null,
            "grid_auto_rows": null,
            "grid_gap": null,
            "max_width": null,
            "order": null,
            "_view_module_version": "1.2.0",
            "grid_template_areas": null,
            "object_position": null,
            "object_fit": null,
            "grid_auto_columns": null,
            "margin": null,
            "display": null,
            "left": null
          }
        },
        "cc65dc98c83342428a2d7eb32f5e67e3": {
          "model_module": "@jupyter-widgets/controls",
          "model_name": "DescriptionStyleModel",
          "state": {
            "_view_name": "StyleView",
            "_model_name": "DescriptionStyleModel",
            "description_width": "",
            "_view_module": "@jupyter-widgets/base",
            "_model_module_version": "1.5.0",
            "_view_count": null,
            "_view_module_version": "1.2.0",
            "_model_module": "@jupyter-widgets/controls"
          }
        },
        "9bcf9ad83bf3421e82e4ce59e436ecd5": {
          "model_module": "@jupyter-widgets/base",
          "model_name": "LayoutModel",
          "state": {
            "_view_name": "LayoutView",
            "grid_template_rows": null,
            "right": null,
            "justify_content": null,
            "_view_module": "@jupyter-widgets/base",
            "overflow": null,
            "_model_module_version": "1.2.0",
            "_view_count": null,
            "flex_flow": null,
            "width": null,
            "min_width": null,
            "border": null,
            "align_items": null,
            "bottom": null,
            "_model_module": "@jupyter-widgets/base",
            "top": null,
            "grid_column": null,
            "overflow_y": null,
            "overflow_x": null,
            "grid_auto_flow": null,
            "grid_area": null,
            "grid_template_columns": null,
            "flex": null,
            "_model_name": "LayoutModel",
            "justify_items": null,
            "grid_row": null,
            "max_height": null,
            "align_content": null,
            "visibility": null,
            "align_self": null,
            "height": null,
            "min_height": null,
            "padding": null,
            "grid_auto_rows": null,
            "grid_gap": null,
            "max_width": null,
            "order": null,
            "_view_module_version": "1.2.0",
            "grid_template_areas": null,
            "object_position": null,
            "object_fit": null,
            "grid_auto_columns": null,
            "margin": null,
            "display": null,
            "left": null
          }
        },
        "f1d7fb00a7da49fb88c80d9c0687f395": {
          "model_module": "@jupyter-widgets/controls",
          "model_name": "HBoxModel",
          "state": {
            "_view_name": "HBoxView",
            "_dom_classes": [],
            "_model_name": "HBoxModel",
            "_view_module": "@jupyter-widgets/controls",
            "_model_module_version": "1.5.0",
            "_view_count": null,
            "_view_module_version": "1.5.0",
            "box_style": "",
            "layout": "IPY_MODEL_49371ca21c484b1db373882743dd8769",
            "_model_module": "@jupyter-widgets/controls",
            "children": [
              "IPY_MODEL_35e4b3bef91547f787506ebe13959cf6",
              "IPY_MODEL_209fa243356a4c8faedba4d73fdb58cc"
            ]
          }
        },
        "49371ca21c484b1db373882743dd8769": {
          "model_module": "@jupyter-widgets/base",
          "model_name": "LayoutModel",
          "state": {
            "_view_name": "LayoutView",
            "grid_template_rows": null,
            "right": null,
            "justify_content": null,
            "_view_module": "@jupyter-widgets/base",
            "overflow": null,
            "_model_module_version": "1.2.0",
            "_view_count": null,
            "flex_flow": null,
            "width": null,
            "min_width": null,
            "border": null,
            "align_items": null,
            "bottom": null,
            "_model_module": "@jupyter-widgets/base",
            "top": null,
            "grid_column": null,
            "overflow_y": null,
            "overflow_x": null,
            "grid_auto_flow": null,
            "grid_area": null,
            "grid_template_columns": null,
            "flex": null,
            "_model_name": "LayoutModel",
            "justify_items": null,
            "grid_row": null,
            "max_height": null,
            "align_content": null,
            "visibility": null,
            "align_self": null,
            "height": null,
            "min_height": null,
            "padding": null,
            "grid_auto_rows": null,
            "grid_gap": null,
            "max_width": null,
            "order": null,
            "_view_module_version": "1.2.0",
            "grid_template_areas": null,
            "object_position": null,
            "object_fit": null,
            "grid_auto_columns": null,
            "margin": null,
            "display": null,
            "left": null
          }
        },
        "35e4b3bef91547f787506ebe13959cf6": {
          "model_module": "@jupyter-widgets/controls",
          "model_name": "FloatProgressModel",
          "state": {
            "_view_name": "ProgressView",
            "style": "IPY_MODEL_e5e142ec8b0c4e4885e882aa6cdf10fc",
            "_dom_classes": [],
            "description": "Downloading: 100%",
            "_model_name": "FloatProgressModel",
            "bar_style": "success",
            "max": 762,
            "_view_module": "@jupyter-widgets/controls",
            "_model_module_version": "1.5.0",
            "value": 762,
            "_view_count": null,
            "_view_module_version": "1.5.0",
            "orientation": "horizontal",
            "min": 0,
            "description_tooltip": null,
            "_model_module": "@jupyter-widgets/controls",
            "layout": "IPY_MODEL_b865b815f772448293fa0a852c822abd"
          }
        },
        "209fa243356a4c8faedba4d73fdb58cc": {
          "model_module": "@jupyter-widgets/controls",
          "model_name": "HTMLModel",
          "state": {
            "_view_name": "HTMLView",
            "style": "IPY_MODEL_3d19c76f9cad4b9d80efab6430c92137",
            "_dom_classes": [],
            "description": "",
            "_model_name": "HTMLModel",
            "placeholder": "​",
            "_view_module": "@jupyter-widgets/controls",
            "_model_module_version": "1.5.0",
            "value": " 762/762 [00:00&lt;00:00, 1.20kB/s]",
            "_view_count": null,
            "_view_module_version": "1.5.0",
            "description_tooltip": null,
            "_model_module": "@jupyter-widgets/controls",
            "layout": "IPY_MODEL_ac82727bf79f4b318110dcaecd710b78"
          }
        },
        "e5e142ec8b0c4e4885e882aa6cdf10fc": {
          "model_module": "@jupyter-widgets/controls",
          "model_name": "ProgressStyleModel",
          "state": {
            "_view_name": "StyleView",
            "_model_name": "ProgressStyleModel",
            "description_width": "initial",
            "_view_module": "@jupyter-widgets/base",
            "_model_module_version": "1.5.0",
            "_view_count": null,
            "_view_module_version": "1.2.0",
            "bar_color": null,
            "_model_module": "@jupyter-widgets/controls"
          }
        },
        "b865b815f772448293fa0a852c822abd": {
          "model_module": "@jupyter-widgets/base",
          "model_name": "LayoutModel",
          "state": {
            "_view_name": "LayoutView",
            "grid_template_rows": null,
            "right": null,
            "justify_content": null,
            "_view_module": "@jupyter-widgets/base",
            "overflow": null,
            "_model_module_version": "1.2.0",
            "_view_count": null,
            "flex_flow": null,
            "width": null,
            "min_width": null,
            "border": null,
            "align_items": null,
            "bottom": null,
            "_model_module": "@jupyter-widgets/base",
            "top": null,
            "grid_column": null,
            "overflow_y": null,
            "overflow_x": null,
            "grid_auto_flow": null,
            "grid_area": null,
            "grid_template_columns": null,
            "flex": null,
            "_model_name": "LayoutModel",
            "justify_items": null,
            "grid_row": null,
            "max_height": null,
            "align_content": null,
            "visibility": null,
            "align_self": null,
            "height": null,
            "min_height": null,
            "padding": null,
            "grid_auto_rows": null,
            "grid_gap": null,
            "max_width": null,
            "order": null,
            "_view_module_version": "1.2.0",
            "grid_template_areas": null,
            "object_position": null,
            "object_fit": null,
            "grid_auto_columns": null,
            "margin": null,
            "display": null,
            "left": null
          }
        },
        "3d19c76f9cad4b9d80efab6430c92137": {
          "model_module": "@jupyter-widgets/controls",
          "model_name": "DescriptionStyleModel",
          "state": {
            "_view_name": "StyleView",
            "_model_name": "DescriptionStyleModel",
            "description_width": "",
            "_view_module": "@jupyter-widgets/base",
            "_model_module_version": "1.5.0",
            "_view_count": null,
            "_view_module_version": "1.2.0",
            "_model_module": "@jupyter-widgets/controls"
          }
        },
        "ac82727bf79f4b318110dcaecd710b78": {
          "model_module": "@jupyter-widgets/base",
          "model_name": "LayoutModel",
          "state": {
            "_view_name": "LayoutView",
            "grid_template_rows": null,
            "right": null,
            "justify_content": null,
            "_view_module": "@jupyter-widgets/base",
            "overflow": null,
            "_model_module_version": "1.2.0",
            "_view_count": null,
            "flex_flow": null,
            "width": null,
            "min_width": null,
            "border": null,
            "align_items": null,
            "bottom": null,
            "_model_module": "@jupyter-widgets/base",
            "top": null,
            "grid_column": null,
            "overflow_y": null,
            "overflow_x": null,
            "grid_auto_flow": null,
            "grid_area": null,
            "grid_template_columns": null,
            "flex": null,
            "_model_name": "LayoutModel",
            "justify_items": null,
            "grid_row": null,
            "max_height": null,
            "align_content": null,
            "visibility": null,
            "align_self": null,
            "height": null,
            "min_height": null,
            "padding": null,
            "grid_auto_rows": null,
            "grid_gap": null,
            "max_width": null,
            "order": null,
            "_view_module_version": "1.2.0",
            "grid_template_areas": null,
            "object_position": null,
            "object_fit": null,
            "grid_auto_columns": null,
            "margin": null,
            "display": null,
            "left": null
          }
        },
        "62cf52ff2bc549f6b106471ed7ed2e10": {
          "model_module": "@jupyter-widgets/controls",
          "model_name": "HBoxModel",
          "state": {
            "_view_name": "HBoxView",
            "_dom_classes": [],
            "_model_name": "HBoxModel",
            "_view_module": "@jupyter-widgets/controls",
            "_model_module_version": "1.5.0",
            "_view_count": null,
            "_view_module_version": "1.5.0",
            "box_style": "",
            "layout": "IPY_MODEL_d2d0957075d04cb5a0a445438f7ed981",
            "_model_module": "@jupyter-widgets/controls",
            "children": [
              "IPY_MODEL_6256980170064257a177361a5df3e984",
              "IPY_MODEL_917519db0c8349608ed73ef0d0628212"
            ]
          }
        },
        "d2d0957075d04cb5a0a445438f7ed981": {
          "model_module": "@jupyter-widgets/base",
          "model_name": "LayoutModel",
          "state": {
            "_view_name": "LayoutView",
            "grid_template_rows": null,
            "right": null,
            "justify_content": null,
            "_view_module": "@jupyter-widgets/base",
            "overflow": null,
            "_model_module_version": "1.2.0",
            "_view_count": null,
            "flex_flow": null,
            "width": null,
            "min_width": null,
            "border": null,
            "align_items": null,
            "bottom": null,
            "_model_module": "@jupyter-widgets/base",
            "top": null,
            "grid_column": null,
            "overflow_y": null,
            "overflow_x": null,
            "grid_auto_flow": null,
            "grid_area": null,
            "grid_template_columns": null,
            "flex": null,
            "_model_name": "LayoutModel",
            "justify_items": null,
            "grid_row": null,
            "max_height": null,
            "align_content": null,
            "visibility": null,
            "align_self": null,
            "height": null,
            "min_height": null,
            "padding": null,
            "grid_auto_rows": null,
            "grid_gap": null,
            "max_width": null,
            "order": null,
            "_view_module_version": "1.2.0",
            "grid_template_areas": null,
            "object_position": null,
            "object_fit": null,
            "grid_auto_columns": null,
            "margin": null,
            "display": null,
            "left": null
          }
        },
        "6256980170064257a177361a5df3e984": {
          "model_module": "@jupyter-widgets/controls",
          "model_name": "FloatProgressModel",
          "state": {
            "_view_name": "ProgressView",
            "style": "IPY_MODEL_ced92489bcf649f39ad1cbba301b8287",
            "_dom_classes": [],
            "description": "Downloading: 100%",
            "_model_name": "FloatProgressModel",
            "bar_style": "success",
            "max": 1338740706,
            "_view_module": "@jupyter-widgets/controls",
            "_model_module_version": "1.5.0",
            "value": 1338740706,
            "_view_count": null,
            "_view_module_version": "1.5.0",
            "orientation": "horizontal",
            "min": 0,
            "description_tooltip": null,
            "_model_module": "@jupyter-widgets/controls",
            "layout": "IPY_MODEL_ebce1facfe1d4995ad6b974c952b738c"
          }
        },
        "917519db0c8349608ed73ef0d0628212": {
          "model_module": "@jupyter-widgets/controls",
          "model_name": "HTMLModel",
          "state": {
            "_view_name": "HTMLView",
            "style": "IPY_MODEL_e8fc894388c146c68a2b22089fc25c3c",
            "_dom_classes": [],
            "description": "",
            "_model_name": "HTMLModel",
            "placeholder": "​",
            "_view_module": "@jupyter-widgets/controls",
            "_model_module_version": "1.5.0",
            "value": " 1.34G/1.34G [00:51&lt;00:00, 26.0MB/s]",
            "_view_count": null,
            "_view_module_version": "1.5.0",
            "description_tooltip": null,
            "_model_module": "@jupyter-widgets/controls",
            "layout": "IPY_MODEL_8259a7df9a324a1ba170848253960652"
          }
        },
        "ced92489bcf649f39ad1cbba301b8287": {
          "model_module": "@jupyter-widgets/controls",
          "model_name": "ProgressStyleModel",
          "state": {
            "_view_name": "StyleView",
            "_model_name": "ProgressStyleModel",
            "description_width": "initial",
            "_view_module": "@jupyter-widgets/base",
            "_model_module_version": "1.5.0",
            "_view_count": null,
            "_view_module_version": "1.2.0",
            "bar_color": null,
            "_model_module": "@jupyter-widgets/controls"
          }
        },
        "ebce1facfe1d4995ad6b974c952b738c": {
          "model_module": "@jupyter-widgets/base",
          "model_name": "LayoutModel",
          "state": {
            "_view_name": "LayoutView",
            "grid_template_rows": null,
            "right": null,
            "justify_content": null,
            "_view_module": "@jupyter-widgets/base",
            "overflow": null,
            "_model_module_version": "1.2.0",
            "_view_count": null,
            "flex_flow": null,
            "width": null,
            "min_width": null,
            "border": null,
            "align_items": null,
            "bottom": null,
            "_model_module": "@jupyter-widgets/base",
            "top": null,
            "grid_column": null,
            "overflow_y": null,
            "overflow_x": null,
            "grid_auto_flow": null,
            "grid_area": null,
            "grid_template_columns": null,
            "flex": null,
            "_model_name": "LayoutModel",
            "justify_items": null,
            "grid_row": null,
            "max_height": null,
            "align_content": null,
            "visibility": null,
            "align_self": null,
            "height": null,
            "min_height": null,
            "padding": null,
            "grid_auto_rows": null,
            "grid_gap": null,
            "max_width": null,
            "order": null,
            "_view_module_version": "1.2.0",
            "grid_template_areas": null,
            "object_position": null,
            "object_fit": null,
            "grid_auto_columns": null,
            "margin": null,
            "display": null,
            "left": null
          }
        },
        "e8fc894388c146c68a2b22089fc25c3c": {
          "model_module": "@jupyter-widgets/controls",
          "model_name": "DescriptionStyleModel",
          "state": {
            "_view_name": "StyleView",
            "_model_name": "DescriptionStyleModel",
            "description_width": "",
            "_view_module": "@jupyter-widgets/base",
            "_model_module_version": "1.5.0",
            "_view_count": null,
            "_view_module_version": "1.2.0",
            "_model_module": "@jupyter-widgets/controls"
          }
        },
        "8259a7df9a324a1ba170848253960652": {
          "model_module": "@jupyter-widgets/base",
          "model_name": "LayoutModel",
          "state": {
            "_view_name": "LayoutView",
            "grid_template_rows": null,
            "right": null,
            "justify_content": null,
            "_view_module": "@jupyter-widgets/base",
            "overflow": null,
            "_model_module_version": "1.2.0",
            "_view_count": null,
            "flex_flow": null,
            "width": null,
            "min_width": null,
            "border": null,
            "align_items": null,
            "bottom": null,
            "_model_module": "@jupyter-widgets/base",
            "top": null,
            "grid_column": null,
            "overflow_y": null,
            "overflow_x": null,
            "grid_auto_flow": null,
            "grid_area": null,
            "grid_template_columns": null,
            "flex": null,
            "_model_name": "LayoutModel",
            "justify_items": null,
            "grid_row": null,
            "max_height": null,
            "align_content": null,
            "visibility": null,
            "align_self": null,
            "height": null,
            "min_height": null,
            "padding": null,
            "grid_auto_rows": null,
            "grid_gap": null,
            "max_width": null,
            "order": null,
            "_view_module_version": "1.2.0",
            "grid_template_areas": null,
            "object_position": null,
            "object_fit": null,
            "grid_auto_columns": null,
            "margin": null,
            "display": null,
            "left": null
          }
        },
        "fe17584c3f304e44a5f4349311fbf431": {
          "model_module": "@jupyter-widgets/controls",
          "model_name": "HBoxModel",
          "state": {
            "_view_name": "HBoxView",
            "_dom_classes": [],
            "_model_name": "HBoxModel",
            "_view_module": "@jupyter-widgets/controls",
            "_model_module_version": "1.5.0",
            "_view_count": null,
            "_view_module_version": "1.5.0",
            "box_style": "",
            "layout": "IPY_MODEL_c97877c3494a44778b3c1648c250b629",
            "_model_module": "@jupyter-widgets/controls",
            "children": [
              "IPY_MODEL_cd92ee6c7bb34504a11800dcb05d8099",
              "IPY_MODEL_7f454e22025a4c5c81b8054422896bf0"
            ]
          }
        },
        "c97877c3494a44778b3c1648c250b629": {
          "model_module": "@jupyter-widgets/base",
          "model_name": "LayoutModel",
          "state": {
            "_view_name": "LayoutView",
            "grid_template_rows": null,
            "right": null,
            "justify_content": null,
            "_view_module": "@jupyter-widgets/base",
            "overflow": null,
            "_model_module_version": "1.2.0",
            "_view_count": null,
            "flex_flow": null,
            "width": null,
            "min_width": null,
            "border": null,
            "align_items": null,
            "bottom": null,
            "_model_module": "@jupyter-widgets/base",
            "top": null,
            "grid_column": null,
            "overflow_y": null,
            "overflow_x": null,
            "grid_auto_flow": null,
            "grid_area": null,
            "grid_template_columns": null,
            "flex": null,
            "_model_name": "LayoutModel",
            "justify_items": null,
            "grid_row": null,
            "max_height": null,
            "align_content": null,
            "visibility": null,
            "align_self": null,
            "height": null,
            "min_height": null,
            "padding": null,
            "grid_auto_rows": null,
            "grid_gap": null,
            "max_width": null,
            "order": null,
            "_view_module_version": "1.2.0",
            "grid_template_areas": null,
            "object_position": null,
            "object_fit": null,
            "grid_auto_columns": null,
            "margin": null,
            "display": null,
            "left": null
          }
        },
        "cd92ee6c7bb34504a11800dcb05d8099": {
          "model_module": "@jupyter-widgets/controls",
          "model_name": "FloatProgressModel",
          "state": {
            "_view_name": "ProgressView",
            "style": "IPY_MODEL_eadc3d82f72f4dba8d55cdb7bd88b77c",
            "_dom_classes": [],
            "description": "Downloading: 100%",
            "_model_name": "FloatProgressModel",
            "bar_style": "success",
            "max": 570,
            "_view_module": "@jupyter-widgets/controls",
            "_model_module_version": "1.5.0",
            "value": 570,
            "_view_count": null,
            "_view_module_version": "1.5.0",
            "orientation": "horizontal",
            "min": 0,
            "description_tooltip": null,
            "_model_module": "@jupyter-widgets/controls",
            "layout": "IPY_MODEL_1883ee3fd4ad403ea8c140ebece43c53"
          }
        },
        "7f454e22025a4c5c81b8054422896bf0": {
          "model_module": "@jupyter-widgets/controls",
          "model_name": "HTMLModel",
          "state": {
            "_view_name": "HTMLView",
            "style": "IPY_MODEL_6462e5456bcc40098c93dea465cf4e79",
            "_dom_classes": [],
            "description": "",
            "_model_name": "HTMLModel",
            "placeholder": "​",
            "_view_module": "@jupyter-widgets/controls",
            "_model_module_version": "1.5.0",
            "value": " 570/570 [00:00&lt;00:00, 1.12kB/s]",
            "_view_count": null,
            "_view_module_version": "1.5.0",
            "description_tooltip": null,
            "_model_module": "@jupyter-widgets/controls",
            "layout": "IPY_MODEL_583f0c705d454fb195706226c47b4d99"
          }
        },
        "eadc3d82f72f4dba8d55cdb7bd88b77c": {
          "model_module": "@jupyter-widgets/controls",
          "model_name": "ProgressStyleModel",
          "state": {
            "_view_name": "StyleView",
            "_model_name": "ProgressStyleModel",
            "description_width": "initial",
            "_view_module": "@jupyter-widgets/base",
            "_model_module_version": "1.5.0",
            "_view_count": null,
            "_view_module_version": "1.2.0",
            "bar_color": null,
            "_model_module": "@jupyter-widgets/controls"
          }
        },
        "1883ee3fd4ad403ea8c140ebece43c53": {
          "model_module": "@jupyter-widgets/base",
          "model_name": "LayoutModel",
          "state": {
            "_view_name": "LayoutView",
            "grid_template_rows": null,
            "right": null,
            "justify_content": null,
            "_view_module": "@jupyter-widgets/base",
            "overflow": null,
            "_model_module_version": "1.2.0",
            "_view_count": null,
            "flex_flow": null,
            "width": null,
            "min_width": null,
            "border": null,
            "align_items": null,
            "bottom": null,
            "_model_module": "@jupyter-widgets/base",
            "top": null,
            "grid_column": null,
            "overflow_y": null,
            "overflow_x": null,
            "grid_auto_flow": null,
            "grid_area": null,
            "grid_template_columns": null,
            "flex": null,
            "_model_name": "LayoutModel",
            "justify_items": null,
            "grid_row": null,
            "max_height": null,
            "align_content": null,
            "visibility": null,
            "align_self": null,
            "height": null,
            "min_height": null,
            "padding": null,
            "grid_auto_rows": null,
            "grid_gap": null,
            "max_width": null,
            "order": null,
            "_view_module_version": "1.2.0",
            "grid_template_areas": null,
            "object_position": null,
            "object_fit": null,
            "grid_auto_columns": null,
            "margin": null,
            "display": null,
            "left": null
          }
        },
        "6462e5456bcc40098c93dea465cf4e79": {
          "model_module": "@jupyter-widgets/controls",
          "model_name": "DescriptionStyleModel",
          "state": {
            "_view_name": "StyleView",
            "_model_name": "DescriptionStyleModel",
            "description_width": "",
            "_view_module": "@jupyter-widgets/base",
            "_model_module_version": "1.5.0",
            "_view_count": null,
            "_view_module_version": "1.2.0",
            "_model_module": "@jupyter-widgets/controls"
          }
        },
        "583f0c705d454fb195706226c47b4d99": {
          "model_module": "@jupyter-widgets/base",
          "model_name": "LayoutModel",
          "state": {
            "_view_name": "LayoutView",
            "grid_template_rows": null,
            "right": null,
            "justify_content": null,
            "_view_module": "@jupyter-widgets/base",
            "overflow": null,
            "_model_module_version": "1.2.0",
            "_view_count": null,
            "flex_flow": null,
            "width": null,
            "min_width": null,
            "border": null,
            "align_items": null,
            "bottom": null,
            "_model_module": "@jupyter-widgets/base",
            "top": null,
            "grid_column": null,
            "overflow_y": null,
            "overflow_x": null,
            "grid_auto_flow": null,
            "grid_area": null,
            "grid_template_columns": null,
            "flex": null,
            "_model_name": "LayoutModel",
            "justify_items": null,
            "grid_row": null,
            "max_height": null,
            "align_content": null,
            "visibility": null,
            "align_self": null,
            "height": null,
            "min_height": null,
            "padding": null,
            "grid_auto_rows": null,
            "grid_gap": null,
            "max_width": null,
            "order": null,
            "_view_module_version": "1.2.0",
            "grid_template_areas": null,
            "object_position": null,
            "object_fit": null,
            "grid_auto_columns": null,
            "margin": null,
            "display": null,
            "left": null
          }
        },
        "4e34f52aa51443a6b91e36f5892b9056": {
          "model_module": "@jupyter-widgets/controls",
          "model_name": "HBoxModel",
          "state": {
            "_view_name": "HBoxView",
            "_dom_classes": [],
            "_model_name": "HBoxModel",
            "_view_module": "@jupyter-widgets/controls",
            "_model_module_version": "1.5.0",
            "_view_count": null,
            "_view_module_version": "1.5.0",
            "box_style": "",
            "layout": "IPY_MODEL_9f5423fc12004ef9ae40b8e108c8272d",
            "_model_module": "@jupyter-widgets/controls",
            "children": [
              "IPY_MODEL_671bd8923f1642d2a4460631bbeed34b",
              "IPY_MODEL_c7510a6835a0463d8c7c9d257cbe6a8b"
            ]
          }
        },
        "9f5423fc12004ef9ae40b8e108c8272d": {
          "model_module": "@jupyter-widgets/base",
          "model_name": "LayoutModel",
          "state": {
            "_view_name": "LayoutView",
            "grid_template_rows": null,
            "right": null,
            "justify_content": null,
            "_view_module": "@jupyter-widgets/base",
            "overflow": null,
            "_model_module_version": "1.2.0",
            "_view_count": null,
            "flex_flow": null,
            "width": null,
            "min_width": null,
            "border": null,
            "align_items": null,
            "bottom": null,
            "_model_module": "@jupyter-widgets/base",
            "top": null,
            "grid_column": null,
            "overflow_y": null,
            "overflow_x": null,
            "grid_auto_flow": null,
            "grid_area": null,
            "grid_template_columns": null,
            "flex": null,
            "_model_name": "LayoutModel",
            "justify_items": null,
            "grid_row": null,
            "max_height": null,
            "align_content": null,
            "visibility": null,
            "align_self": null,
            "height": null,
            "min_height": null,
            "padding": null,
            "grid_auto_rows": null,
            "grid_gap": null,
            "max_width": null,
            "order": null,
            "_view_module_version": "1.2.0",
            "grid_template_areas": null,
            "object_position": null,
            "object_fit": null,
            "grid_auto_columns": null,
            "margin": null,
            "display": null,
            "left": null
          }
        },
        "671bd8923f1642d2a4460631bbeed34b": {
          "model_module": "@jupyter-widgets/controls",
          "model_name": "FloatProgressModel",
          "state": {
            "_view_name": "ProgressView",
            "style": "IPY_MODEL_1ae06660ceca487ea40c23d3821cf9c6",
            "_dom_classes": [],
            "description": "Downloading: 100%",
            "_model_name": "FloatProgressModel",
            "bar_style": "success",
            "max": 435779157,
            "_view_module": "@jupyter-widgets/controls",
            "_model_module_version": "1.5.0",
            "value": 435779157,
            "_view_count": null,
            "_view_module_version": "1.5.0",
            "orientation": "horizontal",
            "min": 0,
            "description_tooltip": null,
            "_model_module": "@jupyter-widgets/controls",
            "layout": "IPY_MODEL_259d1321a93f4dfd8f9da0e53a5abdcc"
          }
        },
        "c7510a6835a0463d8c7c9d257cbe6a8b": {
          "model_module": "@jupyter-widgets/controls",
          "model_name": "HTMLModel",
          "state": {
            "_view_name": "HTMLView",
            "style": "IPY_MODEL_1418080b67aa44cebeefbc2b81bbf0a9",
            "_dom_classes": [],
            "description": "",
            "_model_name": "HTMLModel",
            "placeholder": "​",
            "_view_module": "@jupyter-widgets/controls",
            "_model_module_version": "1.5.0",
            "value": " 436M/436M [00:19&lt;00:00, 22.3MB/s]",
            "_view_count": null,
            "_view_module_version": "1.5.0",
            "description_tooltip": null,
            "_model_module": "@jupyter-widgets/controls",
            "layout": "IPY_MODEL_39f31041ffc4470aa32106ad761c87cd"
          }
        },
        "1ae06660ceca487ea40c23d3821cf9c6": {
          "model_module": "@jupyter-widgets/controls",
          "model_name": "ProgressStyleModel",
          "state": {
            "_view_name": "StyleView",
            "_model_name": "ProgressStyleModel",
            "description_width": "initial",
            "_view_module": "@jupyter-widgets/base",
            "_model_module_version": "1.5.0",
            "_view_count": null,
            "_view_module_version": "1.2.0",
            "bar_color": null,
            "_model_module": "@jupyter-widgets/controls"
          }
        },
        "259d1321a93f4dfd8f9da0e53a5abdcc": {
          "model_module": "@jupyter-widgets/base",
          "model_name": "LayoutModel",
          "state": {
            "_view_name": "LayoutView",
            "grid_template_rows": null,
            "right": null,
            "justify_content": null,
            "_view_module": "@jupyter-widgets/base",
            "overflow": null,
            "_model_module_version": "1.2.0",
            "_view_count": null,
            "flex_flow": null,
            "width": null,
            "min_width": null,
            "border": null,
            "align_items": null,
            "bottom": null,
            "_model_module": "@jupyter-widgets/base",
            "top": null,
            "grid_column": null,
            "overflow_y": null,
            "overflow_x": null,
            "grid_auto_flow": null,
            "grid_area": null,
            "grid_template_columns": null,
            "flex": null,
            "_model_name": "LayoutModel",
            "justify_items": null,
            "grid_row": null,
            "max_height": null,
            "align_content": null,
            "visibility": null,
            "align_self": null,
            "height": null,
            "min_height": null,
            "padding": null,
            "grid_auto_rows": null,
            "grid_gap": null,
            "max_width": null,
            "order": null,
            "_view_module_version": "1.2.0",
            "grid_template_areas": null,
            "object_position": null,
            "object_fit": null,
            "grid_auto_columns": null,
            "margin": null,
            "display": null,
            "left": null
          }
        },
        "1418080b67aa44cebeefbc2b81bbf0a9": {
          "model_module": "@jupyter-widgets/controls",
          "model_name": "DescriptionStyleModel",
          "state": {
            "_view_name": "StyleView",
            "_model_name": "DescriptionStyleModel",
            "description_width": "",
            "_view_module": "@jupyter-widgets/base",
            "_model_module_version": "1.5.0",
            "_view_count": null,
            "_view_module_version": "1.2.0",
            "_model_module": "@jupyter-widgets/controls"
          }
        },
        "39f31041ffc4470aa32106ad761c87cd": {
          "model_module": "@jupyter-widgets/base",
          "model_name": "LayoutModel",
          "state": {
            "_view_name": "LayoutView",
            "grid_template_rows": null,
            "right": null,
            "justify_content": null,
            "_view_module": "@jupyter-widgets/base",
            "overflow": null,
            "_model_module_version": "1.2.0",
            "_view_count": null,
            "flex_flow": null,
            "width": null,
            "min_width": null,
            "border": null,
            "align_items": null,
            "bottom": null,
            "_model_module": "@jupyter-widgets/base",
            "top": null,
            "grid_column": null,
            "overflow_y": null,
            "overflow_x": null,
            "grid_auto_flow": null,
            "grid_area": null,
            "grid_template_columns": null,
            "flex": null,
            "_model_name": "LayoutModel",
            "justify_items": null,
            "grid_row": null,
            "max_height": null,
            "align_content": null,
            "visibility": null,
            "align_self": null,
            "height": null,
            "min_height": null,
            "padding": null,
            "grid_auto_rows": null,
            "grid_gap": null,
            "max_width": null,
            "order": null,
            "_view_module_version": "1.2.0",
            "grid_template_areas": null,
            "object_position": null,
            "object_fit": null,
            "grid_auto_columns": null,
            "margin": null,
            "display": null,
            "left": null
          }
        },
        "dbd777bb0f5741608a5e300bb7c20797": {
          "model_module": "@jupyter-widgets/controls",
          "model_name": "HBoxModel",
          "state": {
            "_view_name": "HBoxView",
            "_dom_classes": [],
            "_model_name": "HBoxModel",
            "_view_module": "@jupyter-widgets/controls",
            "_model_module_version": "1.5.0",
            "_view_count": null,
            "_view_module_version": "1.5.0",
            "box_style": "",
            "layout": "IPY_MODEL_e8e5d27313f74b0a9d530542f21aad52",
            "_model_module": "@jupyter-widgets/controls",
            "children": [
              "IPY_MODEL_01d3aa4e451c4537a0175e56b376737e",
              "IPY_MODEL_f4d0110a54dd47199ccd89e019b6d04b"
            ]
          }
        },
        "e8e5d27313f74b0a9d530542f21aad52": {
          "model_module": "@jupyter-widgets/base",
          "model_name": "LayoutModel",
          "state": {
            "_view_name": "LayoutView",
            "grid_template_rows": null,
            "right": null,
            "justify_content": null,
            "_view_module": "@jupyter-widgets/base",
            "overflow": null,
            "_model_module_version": "1.2.0",
            "_view_count": null,
            "flex_flow": null,
            "width": null,
            "min_width": null,
            "border": null,
            "align_items": null,
            "bottom": null,
            "_model_module": "@jupyter-widgets/base",
            "top": null,
            "grid_column": null,
            "overflow_y": null,
            "overflow_x": null,
            "grid_auto_flow": null,
            "grid_area": null,
            "grid_template_columns": null,
            "flex": null,
            "_model_name": "LayoutModel",
            "justify_items": null,
            "grid_row": null,
            "max_height": null,
            "align_content": null,
            "visibility": null,
            "align_self": null,
            "height": null,
            "min_height": null,
            "padding": null,
            "grid_auto_rows": null,
            "grid_gap": null,
            "max_width": null,
            "order": null,
            "_view_module_version": "1.2.0",
            "grid_template_areas": null,
            "object_position": null,
            "object_fit": null,
            "grid_auto_columns": null,
            "margin": null,
            "display": null,
            "left": null
          }
        },
        "01d3aa4e451c4537a0175e56b376737e": {
          "model_module": "@jupyter-widgets/controls",
          "model_name": "FloatProgressModel",
          "state": {
            "_view_name": "ProgressView",
            "style": "IPY_MODEL_f3bd2200a28d49859ddf22f7d3994f4d",
            "_dom_classes": [],
            "description": "Downloading: 100%",
            "_model_name": "FloatProgressModel",
            "bar_style": "success",
            "max": 625,
            "_view_module": "@jupyter-widgets/controls",
            "_model_module_version": "1.5.0",
            "value": 625,
            "_view_count": null,
            "_view_module_version": "1.5.0",
            "orientation": "horizontal",
            "min": 0,
            "description_tooltip": null,
            "_model_module": "@jupyter-widgets/controls",
            "layout": "IPY_MODEL_680193bfb5e04652934a67f028604786"
          }
        },
        "f4d0110a54dd47199ccd89e019b6d04b": {
          "model_module": "@jupyter-widgets/controls",
          "model_name": "HTMLModel",
          "state": {
            "_view_name": "HTMLView",
            "style": "IPY_MODEL_ad9f6fec985a4aab8edb0f0d06a6794c",
            "_dom_classes": [],
            "description": "",
            "_model_name": "HTMLModel",
            "placeholder": "​",
            "_view_module": "@jupyter-widgets/controls",
            "_model_module_version": "1.5.0",
            "value": " 625/625 [00:00&lt;00:00, 1.43kB/s]",
            "_view_count": null,
            "_view_module_version": "1.5.0",
            "description_tooltip": null,
            "_model_module": "@jupyter-widgets/controls",
            "layout": "IPY_MODEL_7ec7c3f77c564e49adbf769451cb337f"
          }
        },
        "f3bd2200a28d49859ddf22f7d3994f4d": {
          "model_module": "@jupyter-widgets/controls",
          "model_name": "ProgressStyleModel",
          "state": {
            "_view_name": "StyleView",
            "_model_name": "ProgressStyleModel",
            "description_width": "initial",
            "_view_module": "@jupyter-widgets/base",
            "_model_module_version": "1.5.0",
            "_view_count": null,
            "_view_module_version": "1.2.0",
            "bar_color": null,
            "_model_module": "@jupyter-widgets/controls"
          }
        },
        "680193bfb5e04652934a67f028604786": {
          "model_module": "@jupyter-widgets/base",
          "model_name": "LayoutModel",
          "state": {
            "_view_name": "LayoutView",
            "grid_template_rows": null,
            "right": null,
            "justify_content": null,
            "_view_module": "@jupyter-widgets/base",
            "overflow": null,
            "_model_module_version": "1.2.0",
            "_view_count": null,
            "flex_flow": null,
            "width": null,
            "min_width": null,
            "border": null,
            "align_items": null,
            "bottom": null,
            "_model_module": "@jupyter-widgets/base",
            "top": null,
            "grid_column": null,
            "overflow_y": null,
            "overflow_x": null,
            "grid_auto_flow": null,
            "grid_area": null,
            "grid_template_columns": null,
            "flex": null,
            "_model_name": "LayoutModel",
            "justify_items": null,
            "grid_row": null,
            "max_height": null,
            "align_content": null,
            "visibility": null,
            "align_self": null,
            "height": null,
            "min_height": null,
            "padding": null,
            "grid_auto_rows": null,
            "grid_gap": null,
            "max_width": null,
            "order": null,
            "_view_module_version": "1.2.0",
            "grid_template_areas": null,
            "object_position": null,
            "object_fit": null,
            "grid_auto_columns": null,
            "margin": null,
            "display": null,
            "left": null
          }
        },
        "ad9f6fec985a4aab8edb0f0d06a6794c": {
          "model_module": "@jupyter-widgets/controls",
          "model_name": "DescriptionStyleModel",
          "state": {
            "_view_name": "StyleView",
            "_model_name": "DescriptionStyleModel",
            "description_width": "",
            "_view_module": "@jupyter-widgets/base",
            "_model_module_version": "1.5.0",
            "_view_count": null,
            "_view_module_version": "1.2.0",
            "_model_module": "@jupyter-widgets/controls"
          }
        },
        "7ec7c3f77c564e49adbf769451cb337f": {
          "model_module": "@jupyter-widgets/base",
          "model_name": "LayoutModel",
          "state": {
            "_view_name": "LayoutView",
            "grid_template_rows": null,
            "right": null,
            "justify_content": null,
            "_view_module": "@jupyter-widgets/base",
            "overflow": null,
            "_model_module_version": "1.2.0",
            "_view_count": null,
            "flex_flow": null,
            "width": null,
            "min_width": null,
            "border": null,
            "align_items": null,
            "bottom": null,
            "_model_module": "@jupyter-widgets/base",
            "top": null,
            "grid_column": null,
            "overflow_y": null,
            "overflow_x": null,
            "grid_auto_flow": null,
            "grid_area": null,
            "grid_template_columns": null,
            "flex": null,
            "_model_name": "LayoutModel",
            "justify_items": null,
            "grid_row": null,
            "max_height": null,
            "align_content": null,
            "visibility": null,
            "align_self": null,
            "height": null,
            "min_height": null,
            "padding": null,
            "grid_auto_rows": null,
            "grid_gap": null,
            "max_width": null,
            "order": null,
            "_view_module_version": "1.2.0",
            "grid_template_areas": null,
            "object_position": null,
            "object_fit": null,
            "grid_auto_columns": null,
            "margin": null,
            "display": null,
            "left": null
          }
        },
        "9896c56fa3ca4c76a31ea4c1d099d8fe": {
          "model_module": "@jupyter-widgets/controls",
          "model_name": "HBoxModel",
          "state": {
            "_view_name": "HBoxView",
            "_dom_classes": [],
            "_model_name": "HBoxModel",
            "_view_module": "@jupyter-widgets/controls",
            "_model_module_version": "1.5.0",
            "_view_count": null,
            "_view_module_version": "1.5.0",
            "box_style": "",
            "layout": "IPY_MODEL_8c3a1c9e2c9c46ab8281c37b9bb03f19",
            "_model_module": "@jupyter-widgets/controls",
            "children": [
              "IPY_MODEL_c412deea06d246cbb06c38560b30dc28",
              "IPY_MODEL_820ca3239dbf4a14a194f0b8774b5f6e"
            ]
          }
        },
        "8c3a1c9e2c9c46ab8281c37b9bb03f19": {
          "model_module": "@jupyter-widgets/base",
          "model_name": "LayoutModel",
          "state": {
            "_view_name": "LayoutView",
            "grid_template_rows": null,
            "right": null,
            "justify_content": null,
            "_view_module": "@jupyter-widgets/base",
            "overflow": null,
            "_model_module_version": "1.2.0",
            "_view_count": null,
            "flex_flow": null,
            "width": null,
            "min_width": null,
            "border": null,
            "align_items": null,
            "bottom": null,
            "_model_module": "@jupyter-widgets/base",
            "top": null,
            "grid_column": null,
            "overflow_y": null,
            "overflow_x": null,
            "grid_auto_flow": null,
            "grid_area": null,
            "grid_template_columns": null,
            "flex": null,
            "_model_name": "LayoutModel",
            "justify_items": null,
            "grid_row": null,
            "max_height": null,
            "align_content": null,
            "visibility": null,
            "align_self": null,
            "height": null,
            "min_height": null,
            "padding": null,
            "grid_auto_rows": null,
            "grid_gap": null,
            "max_width": null,
            "order": null,
            "_view_module_version": "1.2.0",
            "grid_template_areas": null,
            "object_position": null,
            "object_fit": null,
            "grid_auto_columns": null,
            "margin": null,
            "display": null,
            "left": null
          }
        },
        "c412deea06d246cbb06c38560b30dc28": {
          "model_module": "@jupyter-widgets/controls",
          "model_name": "FloatProgressModel",
          "state": {
            "_view_name": "ProgressView",
            "style": "IPY_MODEL_90e29f32a0c94e499192560365389998",
            "_dom_classes": [],
            "description": "Downloading: 100%",
            "_model_name": "FloatProgressModel",
            "bar_style": "success",
            "max": 714314041,
            "_view_module": "@jupyter-widgets/controls",
            "_model_module_version": "1.5.0",
            "value": 714314041,
            "_view_count": null,
            "_view_module_version": "1.5.0",
            "orientation": "horizontal",
            "min": 0,
            "description_tooltip": null,
            "_model_module": "@jupyter-widgets/controls",
            "layout": "IPY_MODEL_ca5b9b162bbf4a998779e910f80f84b4"
          }
        },
        "820ca3239dbf4a14a194f0b8774b5f6e": {
          "model_module": "@jupyter-widgets/controls",
          "model_name": "HTMLModel",
          "state": {
            "_view_name": "HTMLView",
            "style": "IPY_MODEL_253461c38b024ff999a657f4c0923f89",
            "_dom_classes": [],
            "description": "",
            "_model_name": "HTMLModel",
            "placeholder": "​",
            "_view_module": "@jupyter-widgets/controls",
            "_model_module_version": "1.5.0",
            "value": " 714M/714M [00:30&lt;00:00, 23.7MB/s]",
            "_view_count": null,
            "_view_module_version": "1.5.0",
            "description_tooltip": null,
            "_model_module": "@jupyter-widgets/controls",
            "layout": "IPY_MODEL_66af430f268647cc993223cef3047969"
          }
        },
        "90e29f32a0c94e499192560365389998": {
          "model_module": "@jupyter-widgets/controls",
          "model_name": "ProgressStyleModel",
          "state": {
            "_view_name": "StyleView",
            "_model_name": "ProgressStyleModel",
            "description_width": "initial",
            "_view_module": "@jupyter-widgets/base",
            "_model_module_version": "1.5.0",
            "_view_count": null,
            "_view_module_version": "1.2.0",
            "bar_color": null,
            "_model_module": "@jupyter-widgets/controls"
          }
        },
        "ca5b9b162bbf4a998779e910f80f84b4": {
          "model_module": "@jupyter-widgets/base",
          "model_name": "LayoutModel",
          "state": {
            "_view_name": "LayoutView",
            "grid_template_rows": null,
            "right": null,
            "justify_content": null,
            "_view_module": "@jupyter-widgets/base",
            "overflow": null,
            "_model_module_version": "1.2.0",
            "_view_count": null,
            "flex_flow": null,
            "width": null,
            "min_width": null,
            "border": null,
            "align_items": null,
            "bottom": null,
            "_model_module": "@jupyter-widgets/base",
            "top": null,
            "grid_column": null,
            "overflow_y": null,
            "overflow_x": null,
            "grid_auto_flow": null,
            "grid_area": null,
            "grid_template_columns": null,
            "flex": null,
            "_model_name": "LayoutModel",
            "justify_items": null,
            "grid_row": null,
            "max_height": null,
            "align_content": null,
            "visibility": null,
            "align_self": null,
            "height": null,
            "min_height": null,
            "padding": null,
            "grid_auto_rows": null,
            "grid_gap": null,
            "max_width": null,
            "order": null,
            "_view_module_version": "1.2.0",
            "grid_template_areas": null,
            "object_position": null,
            "object_fit": null,
            "grid_auto_columns": null,
            "margin": null,
            "display": null,
            "left": null
          }
        },
        "253461c38b024ff999a657f4c0923f89": {
          "model_module": "@jupyter-widgets/controls",
          "model_name": "DescriptionStyleModel",
          "state": {
            "_view_name": "StyleView",
            "_model_name": "DescriptionStyleModel",
            "description_width": "",
            "_view_module": "@jupyter-widgets/base",
            "_model_module_version": "1.5.0",
            "_view_count": null,
            "_view_module_version": "1.2.0",
            "_model_module": "@jupyter-widgets/controls"
          }
        },
        "66af430f268647cc993223cef3047969": {
          "model_module": "@jupyter-widgets/base",
          "model_name": "LayoutModel",
          "state": {
            "_view_name": "LayoutView",
            "grid_template_rows": null,
            "right": null,
            "justify_content": null,
            "_view_module": "@jupyter-widgets/base",
            "overflow": null,
            "_model_module_version": "1.2.0",
            "_view_count": null,
            "flex_flow": null,
            "width": null,
            "min_width": null,
            "border": null,
            "align_items": null,
            "bottom": null,
            "_model_module": "@jupyter-widgets/base",
            "top": null,
            "grid_column": null,
            "overflow_y": null,
            "overflow_x": null,
            "grid_auto_flow": null,
            "grid_area": null,
            "grid_template_columns": null,
            "flex": null,
            "_model_name": "LayoutModel",
            "justify_items": null,
            "grid_row": null,
            "max_height": null,
            "align_content": null,
            "visibility": null,
            "align_self": null,
            "height": null,
            "min_height": null,
            "padding": null,
            "grid_auto_rows": null,
            "grid_gap": null,
            "max_width": null,
            "order": null,
            "_view_module_version": "1.2.0",
            "grid_template_areas": null,
            "object_position": null,
            "object_fit": null,
            "grid_auto_columns": null,
            "margin": null,
            "display": null,
            "left": null
          }
        },
        "02442e4d7eba4c3cb6f5d28391596c6d": {
          "model_module": "@jupyter-widgets/controls",
          "model_name": "HBoxModel",
          "state": {
            "_view_name": "HBoxView",
            "_dom_classes": [],
            "_model_name": "HBoxModel",
            "_view_module": "@jupyter-widgets/controls",
            "_model_module_version": "1.5.0",
            "_view_count": null,
            "_view_module_version": "1.5.0",
            "box_style": "",
            "layout": "IPY_MODEL_dfa56925ec844bb09ed9d85e66475944",
            "_model_module": "@jupyter-widgets/controls",
            "children": [
              "IPY_MODEL_4c55e96d106d48859d3e7e0b2dab74f4",
              "IPY_MODEL_07cbed5e171a4aa3b00308e5f53918e5"
            ]
          }
        },
        "dfa56925ec844bb09ed9d85e66475944": {
          "model_module": "@jupyter-widgets/base",
          "model_name": "LayoutModel",
          "state": {
            "_view_name": "LayoutView",
            "grid_template_rows": null,
            "right": null,
            "justify_content": null,
            "_view_module": "@jupyter-widgets/base",
            "overflow": null,
            "_model_module_version": "1.2.0",
            "_view_count": null,
            "flex_flow": null,
            "width": null,
            "min_width": null,
            "border": null,
            "align_items": null,
            "bottom": null,
            "_model_module": "@jupyter-widgets/base",
            "top": null,
            "grid_column": null,
            "overflow_y": null,
            "overflow_x": null,
            "grid_auto_flow": null,
            "grid_area": null,
            "grid_template_columns": null,
            "flex": null,
            "_model_name": "LayoutModel",
            "justify_items": null,
            "grid_row": null,
            "max_height": null,
            "align_content": null,
            "visibility": null,
            "align_self": null,
            "height": null,
            "min_height": null,
            "padding": null,
            "grid_auto_rows": null,
            "grid_gap": null,
            "max_width": null,
            "order": null,
            "_view_module_version": "1.2.0",
            "grid_template_areas": null,
            "object_position": null,
            "object_fit": null,
            "grid_auto_columns": null,
            "margin": null,
            "display": null,
            "left": null
          }
        },
        "4c55e96d106d48859d3e7e0b2dab74f4": {
          "model_module": "@jupyter-widgets/controls",
          "model_name": "FloatProgressModel",
          "state": {
            "_view_name": "ProgressView",
            "style": "IPY_MODEL_6d26671ae3854aa6a6ee1d2a09890288",
            "_dom_classes": [],
            "description": "Downloading: 100%",
            "_model_name": "FloatProgressModel",
            "bar_style": "success",
            "max": 871891,
            "_view_module": "@jupyter-widgets/controls",
            "_model_module_version": "1.5.0",
            "value": 871891,
            "_view_count": null,
            "_view_module_version": "1.5.0",
            "orientation": "horizontal",
            "min": 0,
            "description_tooltip": null,
            "_model_module": "@jupyter-widgets/controls",
            "layout": "IPY_MODEL_7d4b1d8fa70c48f4aed304a6a4f14dc8"
          }
        },
        "07cbed5e171a4aa3b00308e5f53918e5": {
          "model_module": "@jupyter-widgets/controls",
          "model_name": "HTMLModel",
          "state": {
            "_view_name": "HTMLView",
            "style": "IPY_MODEL_c977f310a0fa4c929ee16db921b52990",
            "_dom_classes": [],
            "description": "",
            "_model_name": "HTMLModel",
            "placeholder": "​",
            "_view_module": "@jupyter-widgets/controls",
            "_model_module_version": "1.5.0",
            "value": " 872k/872k [00:00&lt;00:00, 979kB/s]",
            "_view_count": null,
            "_view_module_version": "1.5.0",
            "description_tooltip": null,
            "_model_module": "@jupyter-widgets/controls",
            "layout": "IPY_MODEL_f62e3300b9f64ad4bdcfdab9febcaa3d"
          }
        },
        "6d26671ae3854aa6a6ee1d2a09890288": {
          "model_module": "@jupyter-widgets/controls",
          "model_name": "ProgressStyleModel",
          "state": {
            "_view_name": "StyleView",
            "_model_name": "ProgressStyleModel",
            "description_width": "initial",
            "_view_module": "@jupyter-widgets/base",
            "_model_module_version": "1.5.0",
            "_view_count": null,
            "_view_module_version": "1.2.0",
            "bar_color": null,
            "_model_module": "@jupyter-widgets/controls"
          }
        },
        "7d4b1d8fa70c48f4aed304a6a4f14dc8": {
          "model_module": "@jupyter-widgets/base",
          "model_name": "LayoutModel",
          "state": {
            "_view_name": "LayoutView",
            "grid_template_rows": null,
            "right": null,
            "justify_content": null,
            "_view_module": "@jupyter-widgets/base",
            "overflow": null,
            "_model_module_version": "1.2.0",
            "_view_count": null,
            "flex_flow": null,
            "width": null,
            "min_width": null,
            "border": null,
            "align_items": null,
            "bottom": null,
            "_model_module": "@jupyter-widgets/base",
            "top": null,
            "grid_column": null,
            "overflow_y": null,
            "overflow_x": null,
            "grid_auto_flow": null,
            "grid_area": null,
            "grid_template_columns": null,
            "flex": null,
            "_model_name": "LayoutModel",
            "justify_items": null,
            "grid_row": null,
            "max_height": null,
            "align_content": null,
            "visibility": null,
            "align_self": null,
            "height": null,
            "min_height": null,
            "padding": null,
            "grid_auto_rows": null,
            "grid_gap": null,
            "max_width": null,
            "order": null,
            "_view_module_version": "1.2.0",
            "grid_template_areas": null,
            "object_position": null,
            "object_fit": null,
            "grid_auto_columns": null,
            "margin": null,
            "display": null,
            "left": null
          }
        },
        "c977f310a0fa4c929ee16db921b52990": {
          "model_module": "@jupyter-widgets/controls",
          "model_name": "DescriptionStyleModel",
          "state": {
            "_view_name": "StyleView",
            "_model_name": "DescriptionStyleModel",
            "description_width": "",
            "_view_module": "@jupyter-widgets/base",
            "_model_module_version": "1.5.0",
            "_view_count": null,
            "_view_module_version": "1.2.0",
            "_model_module": "@jupyter-widgets/controls"
          }
        },
        "f62e3300b9f64ad4bdcfdab9febcaa3d": {
          "model_module": "@jupyter-widgets/base",
          "model_name": "LayoutModel",
          "state": {
            "_view_name": "LayoutView",
            "grid_template_rows": null,
            "right": null,
            "justify_content": null,
            "_view_module": "@jupyter-widgets/base",
            "overflow": null,
            "_model_module_version": "1.2.0",
            "_view_count": null,
            "flex_flow": null,
            "width": null,
            "min_width": null,
            "border": null,
            "align_items": null,
            "bottom": null,
            "_model_module": "@jupyter-widgets/base",
            "top": null,
            "grid_column": null,
            "overflow_y": null,
            "overflow_x": null,
            "grid_auto_flow": null,
            "grid_area": null,
            "grid_template_columns": null,
            "flex": null,
            "_model_name": "LayoutModel",
            "justify_items": null,
            "grid_row": null,
            "max_height": null,
            "align_content": null,
            "visibility": null,
            "align_self": null,
            "height": null,
            "min_height": null,
            "padding": null,
            "grid_auto_rows": null,
            "grid_gap": null,
            "max_width": null,
            "order": null,
            "_view_module_version": "1.2.0",
            "grid_template_areas": null,
            "object_position": null,
            "object_fit": null,
            "grid_auto_columns": null,
            "margin": null,
            "display": null,
            "left": null
          }
        },
        "956c8ee66e2f42178a3511aa719787d0": {
          "model_module": "@jupyter-widgets/controls",
          "model_name": "HBoxModel",
          "state": {
            "_view_name": "HBoxView",
            "_dom_classes": [],
            "_model_name": "HBoxModel",
            "_view_module": "@jupyter-widgets/controls",
            "_model_module_version": "1.5.0",
            "_view_count": null,
            "_view_module_version": "1.5.0",
            "box_style": "",
            "layout": "IPY_MODEL_b23861c12d2b41b8b969c98ce5721aad",
            "_model_module": "@jupyter-widgets/controls",
            "children": [
              "IPY_MODEL_5427767c30014fd6bcaf248de0b26b3e",
              "IPY_MODEL_3f1441775def469180d6629e0827c143"
            ]
          }
        },
        "b23861c12d2b41b8b969c98ce5721aad": {
          "model_module": "@jupyter-widgets/base",
          "model_name": "LayoutModel",
          "state": {
            "_view_name": "LayoutView",
            "grid_template_rows": null,
            "right": null,
            "justify_content": null,
            "_view_module": "@jupyter-widgets/base",
            "overflow": null,
            "_model_module_version": "1.2.0",
            "_view_count": null,
            "flex_flow": null,
            "width": null,
            "min_width": null,
            "border": null,
            "align_items": null,
            "bottom": null,
            "_model_module": "@jupyter-widgets/base",
            "top": null,
            "grid_column": null,
            "overflow_y": null,
            "overflow_x": null,
            "grid_auto_flow": null,
            "grid_area": null,
            "grid_template_columns": null,
            "flex": null,
            "_model_name": "LayoutModel",
            "justify_items": null,
            "grid_row": null,
            "max_height": null,
            "align_content": null,
            "visibility": null,
            "align_self": null,
            "height": null,
            "min_height": null,
            "padding": null,
            "grid_auto_rows": null,
            "grid_gap": null,
            "max_width": null,
            "order": null,
            "_view_module_version": "1.2.0",
            "grid_template_areas": null,
            "object_position": null,
            "object_fit": null,
            "grid_auto_columns": null,
            "margin": null,
            "display": null,
            "left": null
          }
        },
        "5427767c30014fd6bcaf248de0b26b3e": {
          "model_module": "@jupyter-widgets/controls",
          "model_name": "FloatProgressModel",
          "state": {
            "_view_name": "ProgressView",
            "style": "IPY_MODEL_8fb0f6ad04e344ffb73889ded078621d",
            "_dom_classes": [],
            "description": "Downloading: 100%",
            "_model_name": "FloatProgressModel",
            "bar_style": "success",
            "max": 28,
            "_view_module": "@jupyter-widgets/controls",
            "_model_module_version": "1.5.0",
            "value": 28,
            "_view_count": null,
            "_view_module_version": "1.5.0",
            "orientation": "horizontal",
            "min": 0,
            "description_tooltip": null,
            "_model_module": "@jupyter-widgets/controls",
            "layout": "IPY_MODEL_34c78eb0a5184f6e8f689ec4cc5a0e35"
          }
        },
        "3f1441775def469180d6629e0827c143": {
          "model_module": "@jupyter-widgets/controls",
          "model_name": "HTMLModel",
          "state": {
            "_view_name": "HTMLView",
            "style": "IPY_MODEL_e446944ceb7b48b7861aa52a7df72abe",
            "_dom_classes": [],
            "description": "",
            "_model_name": "HTMLModel",
            "placeholder": "​",
            "_view_module": "@jupyter-widgets/controls",
            "_model_module_version": "1.5.0",
            "value": " 28.0/28.0 [00:00&lt;00:00, 125B/s]",
            "_view_count": null,
            "_view_module_version": "1.5.0",
            "description_tooltip": null,
            "_model_module": "@jupyter-widgets/controls",
            "layout": "IPY_MODEL_cd249436c7694f489db03aeacce0e329"
          }
        },
        "8fb0f6ad04e344ffb73889ded078621d": {
          "model_module": "@jupyter-widgets/controls",
          "model_name": "ProgressStyleModel",
          "state": {
            "_view_name": "StyleView",
            "_model_name": "ProgressStyleModel",
            "description_width": "initial",
            "_view_module": "@jupyter-widgets/base",
            "_model_module_version": "1.5.0",
            "_view_count": null,
            "_view_module_version": "1.2.0",
            "bar_color": null,
            "_model_module": "@jupyter-widgets/controls"
          }
        },
        "34c78eb0a5184f6e8f689ec4cc5a0e35": {
          "model_module": "@jupyter-widgets/base",
          "model_name": "LayoutModel",
          "state": {
            "_view_name": "LayoutView",
            "grid_template_rows": null,
            "right": null,
            "justify_content": null,
            "_view_module": "@jupyter-widgets/base",
            "overflow": null,
            "_model_module_version": "1.2.0",
            "_view_count": null,
            "flex_flow": null,
            "width": null,
            "min_width": null,
            "border": null,
            "align_items": null,
            "bottom": null,
            "_model_module": "@jupyter-widgets/base",
            "top": null,
            "grid_column": null,
            "overflow_y": null,
            "overflow_x": null,
            "grid_auto_flow": null,
            "grid_area": null,
            "grid_template_columns": null,
            "flex": null,
            "_model_name": "LayoutModel",
            "justify_items": null,
            "grid_row": null,
            "max_height": null,
            "align_content": null,
            "visibility": null,
            "align_self": null,
            "height": null,
            "min_height": null,
            "padding": null,
            "grid_auto_rows": null,
            "grid_gap": null,
            "max_width": null,
            "order": null,
            "_view_module_version": "1.2.0",
            "grid_template_areas": null,
            "object_position": null,
            "object_fit": null,
            "grid_auto_columns": null,
            "margin": null,
            "display": null,
            "left": null
          }
        },
        "e446944ceb7b48b7861aa52a7df72abe": {
          "model_module": "@jupyter-widgets/controls",
          "model_name": "DescriptionStyleModel",
          "state": {
            "_view_name": "StyleView",
            "_model_name": "DescriptionStyleModel",
            "description_width": "",
            "_view_module": "@jupyter-widgets/base",
            "_model_module_version": "1.5.0",
            "_view_count": null,
            "_view_module_version": "1.2.0",
            "_model_module": "@jupyter-widgets/controls"
          }
        },
        "cd249436c7694f489db03aeacce0e329": {
          "model_module": "@jupyter-widgets/base",
          "model_name": "LayoutModel",
          "state": {
            "_view_name": "LayoutView",
            "grid_template_rows": null,
            "right": null,
            "justify_content": null,
            "_view_module": "@jupyter-widgets/base",
            "overflow": null,
            "_model_module_version": "1.2.0",
            "_view_count": null,
            "flex_flow": null,
            "width": null,
            "min_width": null,
            "border": null,
            "align_items": null,
            "bottom": null,
            "_model_module": "@jupyter-widgets/base",
            "top": null,
            "grid_column": null,
            "overflow_y": null,
            "overflow_x": null,
            "grid_auto_flow": null,
            "grid_area": null,
            "grid_template_columns": null,
            "flex": null,
            "_model_name": "LayoutModel",
            "justify_items": null,
            "grid_row": null,
            "max_height": null,
            "align_content": null,
            "visibility": null,
            "align_self": null,
            "height": null,
            "min_height": null,
            "padding": null,
            "grid_auto_rows": null,
            "grid_gap": null,
            "max_width": null,
            "order": null,
            "_view_module_version": "1.2.0",
            "grid_template_areas": null,
            "object_position": null,
            "object_fit": null,
            "grid_auto_columns": null,
            "margin": null,
            "display": null,
            "left": null
          }
        },
        "f9a47043878e47a398f6374330784a01": {
          "model_module": "@jupyter-widgets/controls",
          "model_name": "HBoxModel",
          "state": {
            "_view_name": "HBoxView",
            "_dom_classes": [],
            "_model_name": "HBoxModel",
            "_view_module": "@jupyter-widgets/controls",
            "_model_module_version": "1.5.0",
            "_view_count": null,
            "_view_module_version": "1.5.0",
            "box_style": "",
            "layout": "IPY_MODEL_d698f067455e4f428d070a550278419d",
            "_model_module": "@jupyter-widgets/controls",
            "children": [
              "IPY_MODEL_ea6c388bde584fec9c2aeb19fb9ec8c1",
              "IPY_MODEL_53e5d6255722433fa9efe7aeaf1b309c"
            ]
          }
        },
        "d698f067455e4f428d070a550278419d": {
          "model_module": "@jupyter-widgets/base",
          "model_name": "LayoutModel",
          "state": {
            "_view_name": "LayoutView",
            "grid_template_rows": null,
            "right": null,
            "justify_content": null,
            "_view_module": "@jupyter-widgets/base",
            "overflow": null,
            "_model_module_version": "1.2.0",
            "_view_count": null,
            "flex_flow": null,
            "width": null,
            "min_width": null,
            "border": null,
            "align_items": null,
            "bottom": null,
            "_model_module": "@jupyter-widgets/base",
            "top": null,
            "grid_column": null,
            "overflow_y": null,
            "overflow_x": null,
            "grid_auto_flow": null,
            "grid_area": null,
            "grid_template_columns": null,
            "flex": null,
            "_model_name": "LayoutModel",
            "justify_items": null,
            "grid_row": null,
            "max_height": null,
            "align_content": null,
            "visibility": null,
            "align_self": null,
            "height": null,
            "min_height": null,
            "padding": null,
            "grid_auto_rows": null,
            "grid_gap": null,
            "max_width": null,
            "order": null,
            "_view_module_version": "1.2.0",
            "grid_template_areas": null,
            "object_position": null,
            "object_fit": null,
            "grid_auto_columns": null,
            "margin": null,
            "display": null,
            "left": null
          }
        },
        "ea6c388bde584fec9c2aeb19fb9ec8c1": {
          "model_module": "@jupyter-widgets/controls",
          "model_name": "FloatProgressModel",
          "state": {
            "_view_name": "ProgressView",
            "style": "IPY_MODEL_7202f37104b54548821164b1b900cb15",
            "_dom_classes": [],
            "description": "Downloading: 100%",
            "_model_name": "FloatProgressModel",
            "bar_style": "success",
            "max": 1715180,
            "_view_module": "@jupyter-widgets/controls",
            "_model_module_version": "1.5.0",
            "value": 1715180,
            "_view_count": null,
            "_view_module_version": "1.5.0",
            "orientation": "horizontal",
            "min": 0,
            "description_tooltip": null,
            "_model_module": "@jupyter-widgets/controls",
            "layout": "IPY_MODEL_88ba4eeb76fd4b2698d64448e8f753b8"
          }
        },
        "53e5d6255722433fa9efe7aeaf1b309c": {
          "model_module": "@jupyter-widgets/controls",
          "model_name": "HTMLModel",
          "state": {
            "_view_name": "HTMLView",
            "style": "IPY_MODEL_c7622cfe785a423daf2eb011d39e3f9f",
            "_dom_classes": [],
            "description": "",
            "_model_name": "HTMLModel",
            "placeholder": "​",
            "_view_module": "@jupyter-widgets/controls",
            "_model_module_version": "1.5.0",
            "value": " 1.72M/1.72M [00:00&lt;00:00, 5.85MB/s]",
            "_view_count": null,
            "_view_module_version": "1.5.0",
            "description_tooltip": null,
            "_model_module": "@jupyter-widgets/controls",
            "layout": "IPY_MODEL_3461fac6b96d4a01a45bb65c9d0a4bca"
          }
        },
        "7202f37104b54548821164b1b900cb15": {
          "model_module": "@jupyter-widgets/controls",
          "model_name": "ProgressStyleModel",
          "state": {
            "_view_name": "StyleView",
            "_model_name": "ProgressStyleModel",
            "description_width": "initial",
            "_view_module": "@jupyter-widgets/base",
            "_model_module_version": "1.5.0",
            "_view_count": null,
            "_view_module_version": "1.2.0",
            "bar_color": null,
            "_model_module": "@jupyter-widgets/controls"
          }
        },
        "88ba4eeb76fd4b2698d64448e8f753b8": {
          "model_module": "@jupyter-widgets/base",
          "model_name": "LayoutModel",
          "state": {
            "_view_name": "LayoutView",
            "grid_template_rows": null,
            "right": null,
            "justify_content": null,
            "_view_module": "@jupyter-widgets/base",
            "overflow": null,
            "_model_module_version": "1.2.0",
            "_view_count": null,
            "flex_flow": null,
            "width": null,
            "min_width": null,
            "border": null,
            "align_items": null,
            "bottom": null,
            "_model_module": "@jupyter-widgets/base",
            "top": null,
            "grid_column": null,
            "overflow_y": null,
            "overflow_x": null,
            "grid_auto_flow": null,
            "grid_area": null,
            "grid_template_columns": null,
            "flex": null,
            "_model_name": "LayoutModel",
            "justify_items": null,
            "grid_row": null,
            "max_height": null,
            "align_content": null,
            "visibility": null,
            "align_self": null,
            "height": null,
            "min_height": null,
            "padding": null,
            "grid_auto_rows": null,
            "grid_gap": null,
            "max_width": null,
            "order": null,
            "_view_module_version": "1.2.0",
            "grid_template_areas": null,
            "object_position": null,
            "object_fit": null,
            "grid_auto_columns": null,
            "margin": null,
            "display": null,
            "left": null
          }
        },
        "c7622cfe785a423daf2eb011d39e3f9f": {
          "model_module": "@jupyter-widgets/controls",
          "model_name": "DescriptionStyleModel",
          "state": {
            "_view_name": "StyleView",
            "_model_name": "DescriptionStyleModel",
            "description_width": "",
            "_view_module": "@jupyter-widgets/base",
            "_model_module_version": "1.5.0",
            "_view_count": null,
            "_view_module_version": "1.2.0",
            "_model_module": "@jupyter-widgets/controls"
          }
        },
        "3461fac6b96d4a01a45bb65c9d0a4bca": {
          "model_module": "@jupyter-widgets/base",
          "model_name": "LayoutModel",
          "state": {
            "_view_name": "LayoutView",
            "grid_template_rows": null,
            "right": null,
            "justify_content": null,
            "_view_module": "@jupyter-widgets/base",
            "overflow": null,
            "_model_module_version": "1.2.0",
            "_view_count": null,
            "flex_flow": null,
            "width": null,
            "min_width": null,
            "border": null,
            "align_items": null,
            "bottom": null,
            "_model_module": "@jupyter-widgets/base",
            "top": null,
            "grid_column": null,
            "overflow_y": null,
            "overflow_x": null,
            "grid_auto_flow": null,
            "grid_area": null,
            "grid_template_columns": null,
            "flex": null,
            "_model_name": "LayoutModel",
            "justify_items": null,
            "grid_row": null,
            "max_height": null,
            "align_content": null,
            "visibility": null,
            "align_self": null,
            "height": null,
            "min_height": null,
            "padding": null,
            "grid_auto_rows": null,
            "grid_gap": null,
            "max_width": null,
            "order": null,
            "_view_module_version": "1.2.0",
            "grid_template_areas": null,
            "object_position": null,
            "object_fit": null,
            "grid_auto_columns": null,
            "margin": null,
            "display": null,
            "left": null
          }
        },
        "70f1f5aa4996450aa1480a548f558e64": {
          "model_module": "@jupyter-widgets/controls",
          "model_name": "HBoxModel",
          "state": {
            "_view_name": "HBoxView",
            "_dom_classes": [],
            "_model_name": "HBoxModel",
            "_view_module": "@jupyter-widgets/controls",
            "_model_module_version": "1.5.0",
            "_view_count": null,
            "_view_module_version": "1.5.0",
            "box_style": "",
            "layout": "IPY_MODEL_93c8a9c60b6b43e7803c76351d7be27b",
            "_model_module": "@jupyter-widgets/controls",
            "children": [
              "IPY_MODEL_39dfec178c7e476dbf9a43d9332050fd",
              "IPY_MODEL_ab07477a354c490fb0c58a2e2a77886e"
            ]
          }
        },
        "93c8a9c60b6b43e7803c76351d7be27b": {
          "model_module": "@jupyter-widgets/base",
          "model_name": "LayoutModel",
          "state": {
            "_view_name": "LayoutView",
            "grid_template_rows": null,
            "right": null,
            "justify_content": null,
            "_view_module": "@jupyter-widgets/base",
            "overflow": null,
            "_model_module_version": "1.2.0",
            "_view_count": null,
            "flex_flow": null,
            "width": null,
            "min_width": null,
            "border": null,
            "align_items": null,
            "bottom": null,
            "_model_module": "@jupyter-widgets/base",
            "top": null,
            "grid_column": null,
            "overflow_y": null,
            "overflow_x": null,
            "grid_auto_flow": null,
            "grid_area": null,
            "grid_template_columns": null,
            "flex": null,
            "_model_name": "LayoutModel",
            "justify_items": null,
            "grid_row": null,
            "max_height": null,
            "align_content": null,
            "visibility": null,
            "align_self": null,
            "height": null,
            "min_height": null,
            "padding": null,
            "grid_auto_rows": null,
            "grid_gap": null,
            "max_width": null,
            "order": null,
            "_view_module_version": "1.2.0",
            "grid_template_areas": null,
            "object_position": null,
            "object_fit": null,
            "grid_auto_columns": null,
            "margin": null,
            "display": null,
            "left": null
          }
        },
        "39dfec178c7e476dbf9a43d9332050fd": {
          "model_module": "@jupyter-widgets/controls",
          "model_name": "FloatProgressModel",
          "state": {
            "_view_name": "ProgressView",
            "style": "IPY_MODEL_aae31b1bd381486199885d6f8bcc0003",
            "_dom_classes": [],
            "description": "Downloading: 100%",
            "_model_name": "FloatProgressModel",
            "bar_style": "success",
            "max": 625,
            "_view_module": "@jupyter-widgets/controls",
            "_model_module_version": "1.5.0",
            "value": 625,
            "_view_count": null,
            "_view_module_version": "1.5.0",
            "orientation": "horizontal",
            "min": 0,
            "description_tooltip": null,
            "_model_module": "@jupyter-widgets/controls",
            "layout": "IPY_MODEL_c76cde6fdefa47f796155704cacf87db"
          }
        },
        "ab07477a354c490fb0c58a2e2a77886e": {
          "model_module": "@jupyter-widgets/controls",
          "model_name": "HTMLModel",
          "state": {
            "_view_name": "HTMLView",
            "style": "IPY_MODEL_c34883aceebf4a8085324c963efb217d",
            "_dom_classes": [],
            "description": "",
            "_model_name": "HTMLModel",
            "placeholder": "​",
            "_view_module": "@jupyter-widgets/controls",
            "_model_module_version": "1.5.0",
            "value": " 625/625 [00:27&lt;00:00, 23.1B/s]",
            "_view_count": null,
            "_view_module_version": "1.5.0",
            "description_tooltip": null,
            "_model_module": "@jupyter-widgets/controls",
            "layout": "IPY_MODEL_c194c45e1f114b7d9599edc4d82e978c"
          }
        },
        "aae31b1bd381486199885d6f8bcc0003": {
          "model_module": "@jupyter-widgets/controls",
          "model_name": "ProgressStyleModel",
          "state": {
            "_view_name": "StyleView",
            "_model_name": "ProgressStyleModel",
            "description_width": "initial",
            "_view_module": "@jupyter-widgets/base",
            "_model_module_version": "1.5.0",
            "_view_count": null,
            "_view_module_version": "1.2.0",
            "bar_color": null,
            "_model_module": "@jupyter-widgets/controls"
          }
        },
        "c76cde6fdefa47f796155704cacf87db": {
          "model_module": "@jupyter-widgets/base",
          "model_name": "LayoutModel",
          "state": {
            "_view_name": "LayoutView",
            "grid_template_rows": null,
            "right": null,
            "justify_content": null,
            "_view_module": "@jupyter-widgets/base",
            "overflow": null,
            "_model_module_version": "1.2.0",
            "_view_count": null,
            "flex_flow": null,
            "width": null,
            "min_width": null,
            "border": null,
            "align_items": null,
            "bottom": null,
            "_model_module": "@jupyter-widgets/base",
            "top": null,
            "grid_column": null,
            "overflow_y": null,
            "overflow_x": null,
            "grid_auto_flow": null,
            "grid_area": null,
            "grid_template_columns": null,
            "flex": null,
            "_model_name": "LayoutModel",
            "justify_items": null,
            "grid_row": null,
            "max_height": null,
            "align_content": null,
            "visibility": null,
            "align_self": null,
            "height": null,
            "min_height": null,
            "padding": null,
            "grid_auto_rows": null,
            "grid_gap": null,
            "max_width": null,
            "order": null,
            "_view_module_version": "1.2.0",
            "grid_template_areas": null,
            "object_position": null,
            "object_fit": null,
            "grid_auto_columns": null,
            "margin": null,
            "display": null,
            "left": null
          }
        },
        "c34883aceebf4a8085324c963efb217d": {
          "model_module": "@jupyter-widgets/controls",
          "model_name": "DescriptionStyleModel",
          "state": {
            "_view_name": "StyleView",
            "_model_name": "DescriptionStyleModel",
            "description_width": "",
            "_view_module": "@jupyter-widgets/base",
            "_model_module_version": "1.5.0",
            "_view_count": null,
            "_view_module_version": "1.2.0",
            "_model_module": "@jupyter-widgets/controls"
          }
        },
        "c194c45e1f114b7d9599edc4d82e978c": {
          "model_module": "@jupyter-widgets/base",
          "model_name": "LayoutModel",
          "state": {
            "_view_name": "LayoutView",
            "grid_template_rows": null,
            "right": null,
            "justify_content": null,
            "_view_module": "@jupyter-widgets/base",
            "overflow": null,
            "_model_module_version": "1.2.0",
            "_view_count": null,
            "flex_flow": null,
            "width": null,
            "min_width": null,
            "border": null,
            "align_items": null,
            "bottom": null,
            "_model_module": "@jupyter-widgets/base",
            "top": null,
            "grid_column": null,
            "overflow_y": null,
            "overflow_x": null,
            "grid_auto_flow": null,
            "grid_area": null,
            "grid_template_columns": null,
            "flex": null,
            "_model_name": "LayoutModel",
            "justify_items": null,
            "grid_row": null,
            "max_height": null,
            "align_content": null,
            "visibility": null,
            "align_self": null,
            "height": null,
            "min_height": null,
            "padding": null,
            "grid_auto_rows": null,
            "grid_gap": null,
            "max_width": null,
            "order": null,
            "_view_module_version": "1.2.0",
            "grid_template_areas": null,
            "object_position": null,
            "object_fit": null,
            "grid_auto_columns": null,
            "margin": null,
            "display": null,
            "left": null
          }
        },
        "464b736b4aff4d37a9fb5b883998d8cd": {
          "model_module": "@jupyter-widgets/controls",
          "model_name": "HBoxModel",
          "state": {
            "_view_name": "HBoxView",
            "_dom_classes": [],
            "_model_name": "HBoxModel",
            "_view_module": "@jupyter-widgets/controls",
            "_model_module_version": "1.5.0",
            "_view_count": null,
            "_view_module_version": "1.5.0",
            "box_style": "",
            "layout": "IPY_MODEL_c4e07eed4bb24cb492532cf70f56e5bf",
            "_model_module": "@jupyter-widgets/controls",
            "children": [
              "IPY_MODEL_17a290ba4d934de89026056fe3b68484",
              "IPY_MODEL_57c1946d60e84c91a7d3869d7fe0e82d"
            ]
          }
        },
        "c4e07eed4bb24cb492532cf70f56e5bf": {
          "model_module": "@jupyter-widgets/base",
          "model_name": "LayoutModel",
          "state": {
            "_view_name": "LayoutView",
            "grid_template_rows": null,
            "right": null,
            "justify_content": null,
            "_view_module": "@jupyter-widgets/base",
            "overflow": null,
            "_model_module_version": "1.2.0",
            "_view_count": null,
            "flex_flow": null,
            "width": null,
            "min_width": null,
            "border": null,
            "align_items": null,
            "bottom": null,
            "_model_module": "@jupyter-widgets/base",
            "top": null,
            "grid_column": null,
            "overflow_y": null,
            "overflow_x": null,
            "grid_auto_flow": null,
            "grid_area": null,
            "grid_template_columns": null,
            "flex": null,
            "_model_name": "LayoutModel",
            "justify_items": null,
            "grid_row": null,
            "max_height": null,
            "align_content": null,
            "visibility": null,
            "align_self": null,
            "height": null,
            "min_height": null,
            "padding": null,
            "grid_auto_rows": null,
            "grid_gap": null,
            "max_width": null,
            "order": null,
            "_view_module_version": "1.2.0",
            "grid_template_areas": null,
            "object_position": null,
            "object_fit": null,
            "grid_auto_columns": null,
            "margin": null,
            "display": null,
            "left": null
          }
        },
        "17a290ba4d934de89026056fe3b68484": {
          "model_module": "@jupyter-widgets/controls",
          "model_name": "FloatProgressModel",
          "state": {
            "_view_name": "ProgressView",
            "style": "IPY_MODEL_3c69bcacacb749f6af410d7f80319346",
            "_dom_classes": [],
            "description": "Downloading: 100%",
            "_model_name": "FloatProgressModel",
            "bar_style": "success",
            "max": 672271273,
            "_view_module": "@jupyter-widgets/controls",
            "_model_module_version": "1.5.0",
            "value": 672271273,
            "_view_count": null,
            "_view_module_version": "1.5.0",
            "orientation": "horizontal",
            "min": 0,
            "description_tooltip": null,
            "_model_module": "@jupyter-widgets/controls",
            "layout": "IPY_MODEL_de25bc5e51804f77a41e402da9c16d63"
          }
        },
        "57c1946d60e84c91a7d3869d7fe0e82d": {
          "model_module": "@jupyter-widgets/controls",
          "model_name": "HTMLModel",
          "state": {
            "_view_name": "HTMLView",
            "style": "IPY_MODEL_19642174d32343f4aa0375a82c6299e3",
            "_dom_classes": [],
            "description": "",
            "_model_name": "HTMLModel",
            "placeholder": "​",
            "_view_module": "@jupyter-widgets/controls",
            "_model_module_version": "1.5.0",
            "value": " 672M/672M [00:26&lt;00:00, 25.5MB/s]",
            "_view_count": null,
            "_view_module_version": "1.5.0",
            "description_tooltip": null,
            "_model_module": "@jupyter-widgets/controls",
            "layout": "IPY_MODEL_dde6e5b3c86b46f6913392588d3669c4"
          }
        },
        "3c69bcacacb749f6af410d7f80319346": {
          "model_module": "@jupyter-widgets/controls",
          "model_name": "ProgressStyleModel",
          "state": {
            "_view_name": "StyleView",
            "_model_name": "ProgressStyleModel",
            "description_width": "initial",
            "_view_module": "@jupyter-widgets/base",
            "_model_module_version": "1.5.0",
            "_view_count": null,
            "_view_module_version": "1.2.0",
            "bar_color": null,
            "_model_module": "@jupyter-widgets/controls"
          }
        },
        "de25bc5e51804f77a41e402da9c16d63": {
          "model_module": "@jupyter-widgets/base",
          "model_name": "LayoutModel",
          "state": {
            "_view_name": "LayoutView",
            "grid_template_rows": null,
            "right": null,
            "justify_content": null,
            "_view_module": "@jupyter-widgets/base",
            "overflow": null,
            "_model_module_version": "1.2.0",
            "_view_count": null,
            "flex_flow": null,
            "width": null,
            "min_width": null,
            "border": null,
            "align_items": null,
            "bottom": null,
            "_model_module": "@jupyter-widgets/base",
            "top": null,
            "grid_column": null,
            "overflow_y": null,
            "overflow_x": null,
            "grid_auto_flow": null,
            "grid_area": null,
            "grid_template_columns": null,
            "flex": null,
            "_model_name": "LayoutModel",
            "justify_items": null,
            "grid_row": null,
            "max_height": null,
            "align_content": null,
            "visibility": null,
            "align_self": null,
            "height": null,
            "min_height": null,
            "padding": null,
            "grid_auto_rows": null,
            "grid_gap": null,
            "max_width": null,
            "order": null,
            "_view_module_version": "1.2.0",
            "grid_template_areas": null,
            "object_position": null,
            "object_fit": null,
            "grid_auto_columns": null,
            "margin": null,
            "display": null,
            "left": null
          }
        },
        "19642174d32343f4aa0375a82c6299e3": {
          "model_module": "@jupyter-widgets/controls",
          "model_name": "DescriptionStyleModel",
          "state": {
            "_view_name": "StyleView",
            "_model_name": "DescriptionStyleModel",
            "description_width": "",
            "_view_module": "@jupyter-widgets/base",
            "_model_module_version": "1.5.0",
            "_view_count": null,
            "_view_module_version": "1.2.0",
            "_model_module": "@jupyter-widgets/controls"
          }
        },
        "dde6e5b3c86b46f6913392588d3669c4": {
          "model_module": "@jupyter-widgets/base",
          "model_name": "LayoutModel",
          "state": {
            "_view_name": "LayoutView",
            "grid_template_rows": null,
            "right": null,
            "justify_content": null,
            "_view_module": "@jupyter-widgets/base",
            "overflow": null,
            "_model_module_version": "1.2.0",
            "_view_count": null,
            "flex_flow": null,
            "width": null,
            "min_width": null,
            "border": null,
            "align_items": null,
            "bottom": null,
            "_model_module": "@jupyter-widgets/base",
            "top": null,
            "grid_column": null,
            "overflow_y": null,
            "overflow_x": null,
            "grid_auto_flow": null,
            "grid_area": null,
            "grid_template_columns": null,
            "flex": null,
            "_model_name": "LayoutModel",
            "justify_items": null,
            "grid_row": null,
            "max_height": null,
            "align_content": null,
            "visibility": null,
            "align_self": null,
            "height": null,
            "min_height": null,
            "padding": null,
            "grid_auto_rows": null,
            "grid_gap": null,
            "max_width": null,
            "order": null,
            "_view_module_version": "1.2.0",
            "grid_template_areas": null,
            "object_position": null,
            "object_fit": null,
            "grid_auto_columns": null,
            "margin": null,
            "display": null,
            "left": null
          }
        }
      }
    }
  },
  "cells": [
    {
      "cell_type": "markdown",
      "metadata": {
        "id": "view-in-github",
        "colab_type": "text"
      },
      "source": [
        "<a href=\"https://colab.research.google.com/github/osmarbraz/exemplos_BERT/blob/main/ExemplosPythonBERTTransformers.ipynb\" target=\"_parent\"><img src=\"https://colab.research.google.com/assets/colab-badge.svg\" alt=\"Open In Colab\"/></a>"
      ]
    },
    {
      "cell_type": "markdown",
      "metadata": {
        "id": "9VTUgBXSzaGh"
      },
      "source": [
        "# Exemplos de uso do BERT in Transformers by Huggingface\n",
        "\n",
        "Funções e exemplos de uso BERT através da biblioteca `Transformer` da [Huggingface](https://huggingface.co/transformers/).\n",
        "\n",
        "- Exemplo de carregamento do tokenizador e modelo através de diretório e da comunidade\n",
        "  - Download do arquivos do modelo \n",
        "  \n",
        "- Função de retorno do tokenizador. \n",
        "- Função de retorno do modelo. \n",
        "- Função de retorno do tokenizador e do modelo. \n",
        "\n",
        "Artigo base do [BERT](https://arxiv.org/pdf/1810.04805.pdf).\n",
        "\n",
        "O tokenizador da BERT utiliza WordPiece, veja em [artigo original](https://arxiv.org/pdf/1609.08144.pdf).\n",
        "\n",
        "-----------------------------------------\n",
        "**Guia Colab Iniciante:**\n",
        "\n",
        "https://medium.com/machina-sapiens/google-colab-guia-do-iniciante-334d70aad531\n",
        "\n",
        "**Documentação oficial:**\n",
        "\n",
        "https://colab.research.google.com/github/jakevdp/PythonDataScienceHandbook/blob/master/notebooks/01.01-Help-And-Documentation.ipynb\n",
        "\n",
        "**Características :**\n",
        "\n",
        "https://colab.research.google.com/notebooks/basic_features_overview.ipynb\n"
      ]
    },
    {
      "cell_type": "markdown",
      "metadata": {
        "id": "WOwhoI1lzi-s"
      },
      "source": [
        "# 1 Instalação dos pacotes das biblioteca Transformer"
      ]
    },
    {
      "cell_type": "code",
      "metadata": {
        "id": "UNn1DGlMzNDa",
        "colab": {
          "base_uri": "https://localhost:8080/"
        },
        "outputId": "c0676298-d480-4a02-bfc4-7bcca16a2035"
      },
      "source": [
        "# Instala a última versão da biblioteca\n",
        "!pip install transformers\n",
        "\n",
        "# Instala uma versão Especifica da biblioteca\n",
        "# !pip install -U transformers==4.5.1"
      ],
      "execution_count": null,
      "outputs": [
        {
          "output_type": "stream",
          "text": [
            "Collecting transformers\n",
            "\u001b[?25l  Downloading https://files.pythonhosted.org/packages/d5/43/cfe4ee779bbd6a678ac6a97c5a5cdeb03c35f9eaebbb9720b036680f9a2d/transformers-4.6.1-py3-none-any.whl (2.2MB)\n",
            "\u001b[K     |████████████████████████████████| 2.3MB 5.3MB/s \n",
            "\u001b[?25hCollecting tokenizers<0.11,>=0.10.1\n",
            "\u001b[?25l  Downloading https://files.pythonhosted.org/packages/d4/e2/df3543e8ffdab68f5acc73f613de9c2b155ac47f162e725dcac87c521c11/tokenizers-0.10.3-cp37-cp37m-manylinux_2_5_x86_64.manylinux1_x86_64.manylinux_2_12_x86_64.manylinux2010_x86_64.whl (3.3MB)\n",
            "\u001b[K     |████████████████████████████████| 3.3MB 24.1MB/s \n",
            "\u001b[?25hRequirement already satisfied: tqdm>=4.27 in /usr/local/lib/python3.7/dist-packages (from transformers) (4.41.1)\n",
            "Requirement already satisfied: regex!=2019.12.17 in /usr/local/lib/python3.7/dist-packages (from transformers) (2019.12.20)\n",
            "Collecting sacremoses\n",
            "\u001b[?25l  Downloading https://files.pythonhosted.org/packages/75/ee/67241dc87f266093c533a2d4d3d69438e57d7a90abb216fa076e7d475d4a/sacremoses-0.0.45-py3-none-any.whl (895kB)\n",
            "\u001b[K     |████████████████████████████████| 901kB 31.1MB/s \n",
            "\u001b[?25hRequirement already satisfied: filelock in /usr/local/lib/python3.7/dist-packages (from transformers) (3.0.12)\n",
            "Requirement already satisfied: requests in /usr/local/lib/python3.7/dist-packages (from transformers) (2.23.0)\n",
            "Collecting huggingface-hub==0.0.8\n",
            "  Downloading https://files.pythonhosted.org/packages/a1/88/7b1e45720ecf59c6c6737ff332f41c955963090a18e72acbcbeac6b25e86/huggingface_hub-0.0.8-py3-none-any.whl\n",
            "Requirement already satisfied: numpy>=1.17 in /usr/local/lib/python3.7/dist-packages (from transformers) (1.19.5)\n",
            "Requirement already satisfied: importlib-metadata; python_version < \"3.8\" in /usr/local/lib/python3.7/dist-packages (from transformers) (4.0.1)\n",
            "Requirement already satisfied: packaging in /usr/local/lib/python3.7/dist-packages (from transformers) (20.9)\n",
            "Requirement already satisfied: click in /usr/local/lib/python3.7/dist-packages (from sacremoses->transformers) (7.1.2)\n",
            "Requirement already satisfied: six in /usr/local/lib/python3.7/dist-packages (from sacremoses->transformers) (1.15.0)\n",
            "Requirement already satisfied: joblib in /usr/local/lib/python3.7/dist-packages (from sacremoses->transformers) (1.0.1)\n",
            "Requirement already satisfied: chardet<4,>=3.0.2 in /usr/local/lib/python3.7/dist-packages (from requests->transformers) (3.0.4)\n",
            "Requirement already satisfied: urllib3!=1.25.0,!=1.25.1,<1.26,>=1.21.1 in /usr/local/lib/python3.7/dist-packages (from requests->transformers) (1.24.3)\n",
            "Requirement already satisfied: certifi>=2017.4.17 in /usr/local/lib/python3.7/dist-packages (from requests->transformers) (2020.12.5)\n",
            "Requirement already satisfied: idna<3,>=2.5 in /usr/local/lib/python3.7/dist-packages (from requests->transformers) (2.10)\n",
            "Requirement already satisfied: zipp>=0.5 in /usr/local/lib/python3.7/dist-packages (from importlib-metadata; python_version < \"3.8\"->transformers) (3.4.1)\n",
            "Requirement already satisfied: typing-extensions>=3.6.4; python_version < \"3.8\" in /usr/local/lib/python3.7/dist-packages (from importlib-metadata; python_version < \"3.8\"->transformers) (3.7.4.3)\n",
            "Requirement already satisfied: pyparsing>=2.0.2 in /usr/local/lib/python3.7/dist-packages (from packaging->transformers) (2.4.7)\n",
            "Installing collected packages: tokenizers, sacremoses, huggingface-hub, transformers\n",
            "Successfully installed huggingface-hub-0.0.8 sacremoses-0.0.45 tokenizers-0.10.3 transformers-4.6.1\n"
          ],
          "name": "stdout"
        }
      ]
    },
    {
      "cell_type": "markdown",
      "metadata": {
        "id": "wsX_7pxMzvhS"
      },
      "source": [
        "# 2 Carregamento do modelo e tokenizador do BERT do Transfomer by Huggingface\n",
        "\n",
        "Os tokenizadores e os modelos PyTorch podem ser carregados diretamente da comunidade ou através do download de arquivos.\n",
        "\n",
        "Independente de onde foi carregado o tokenizador ou o modelo Pytorch existe a dpendência da instalação da biblioteca."
      ]
    },
    {
      "cell_type": "markdown",
      "metadata": {
        "id": "URuijJq7z7Kv"
      },
      "source": [
        "### Carregando BERT da comunidade\n",
        "\n",
        "Lista de **modelos da comunidade** podem ser consultadas em \n",
        "https://huggingface.co/models.\n",
        "\n",
        "Lista dos nomes dos modelos em **português** disponíveis na comunidade (https://github.com/neuralmind-ai/portuguese-bert):  \n",
        "* **'neuralmind/bert-base-portuguese-cased'**\n",
        "* **'neuralmind/bert-large-portuguese-cased'**\n",
        "\n",
        "Lista dos nomes dos modelos em **inglês** disponíveis na comunidade:\n",
        "* **'bert-base-uncased'**\n",
        "* **'bert-large-uncased'**\n",
        "\n",
        "O modelo do tokenizador pode ser acessado de duas formas, ou utilizando as AutoClasses ou Classes Especificas. A seguir as duas formas de carregar o modelo BERT."
      ]
    },
    {
      "cell_type": "markdown",
      "metadata": {
        "id": "0XwUuIioozUj"
      },
      "source": [
        "#### AutoClasses\n",
        "\n",
        "As `AutoClasses` recuperam automaticamente o modelo mais relevante, dado o nome/caminho para os pesos/configuração /vocabulário pré-treinados. A API destas classes podem ser consultadas [aqui](https://huggingface.co/transformers/model_doc/auto.html).\n",
        "\n",
        "A classe `AutoTokenizer` identifica a arquitetura a partir do nome ou do caminho do modelo pré-treinado que você está fornecendo ao método from_pretrained.\n",
        "\n",
        "Ao instanciar um  `AutoModel`, `AutoConfig` ou `AutoTokenizer` criará diretamente uma classe da arquitetura relevante, por exemplo:\n",
        "- `tokenizador = AutoTokenizer.from_pretrained('bert-base-cased')` \n",
        "  - criará uma instância de `BertTokenizerr`.\n",
        "- `model = AutoModel.from_pretrained('bert-base-cased')` \n",
        "  - criará uma instância de `BertModel`."
      ]
    },
    {
      "cell_type": "code",
      "metadata": {
        "id": "Jec62Nah0iQI",
        "colab": {
          "base_uri": "https://localhost:8080/",
          "height": 382,
          "referenced_widgets": [
            "71f26022f97a442cab8197b33cd5c334",
            "15ccb049987b4ec7841bef1106b23eac",
            "2ee447295b424723ab12b571ec971c70",
            "ba42679dbab04579906a0e3b888fbbf9",
            "954a6a36732f45ac89ea2f7bfb905763",
            "6b3479c7c79942c3acd78fd1f77fefda",
            "785d40a7bbe84aebb00a08f329d6a19f",
            "52da1ddcce5445dda9f678d695aea60e",
            "b4ddd7553d9d4c0e906554d602dc6e64",
            "fd60f5ac44d1445c9d8b8e482f5adc11",
            "b35b9a8e3a3247ee84c11802f20ebcbc",
            "517933c42975493aa5c839ef42acacb8",
            "ab2ccdc396c544799157615d2b243e34",
            "72a493dcadd3477baec2b7398123023f",
            "d0781ca6465644b08a3d63924df29f2a",
            "be74569970f04f8eaaca8400da00ce4d",
            "c3f123416f264b4f9f4a9aab44db6219",
            "ed505cf5675c49dda97ebcecf9c0e370",
            "eb97f3260499478fb8eac6fe97753310",
            "919aafb4e186480291e9ec47c79ebd60",
            "84967b36fd324f349aaeac2dc8edf8c7",
            "5fc6e815554142d7b566f3a294f3eb83",
            "0890f06b8d9543728ad3c38717ab7ad5",
            "5ff5220d4f24460f9bdd67b79391cf44",
            "ac74dce4f393466cbb7c42387bff5289",
            "4d84b740cb7249d49c162a38a9dfbf76",
            "aa88b24db36343e391f6fc889f2a067b",
            "8589f01c678744f2a1e667b7604616df",
            "5107ce0a555944559caf896143f4ddbf",
            "eaf8bdeb9cfa440db9e57e8db17e7c08",
            "7ecfd2d674dd40048a5edb5996396774",
            "6a1d5fe1c44949149da3de4ade45f0f0",
            "b3d31af83783444cb6d1e8db8953aa1a",
            "5dc209e0852548d5b297df441ac3ceb7",
            "36797261f7a64bccadef4903f00c405a",
            "19068a951c9e42cabf95199a6c3ac4ac",
            "c6460bc7aa3c449bb2bfe93586da09cf",
            "300e8b99870f40fcb0d89eb22bd19a43",
            "2ce1bba82cd5431782464e9440f65618",
            "1061ac6622e6460eb636bacf1f94ab50",
            "d9a59e4427064e49b0507553d336e29e",
            "03a054bb5f484fd1bf78f0601fc081f9",
            "44947c5d4a0f4dad883e4dbb2ea6c4af",
            "77140d8de0274fa6baced3c4283403b5",
            "bc33084be0d344edb20829df9f3289df",
            "45b0336a885a484abb0a1d23d68b6960",
            "1fdf180b0efb46dd9a9fa79e78d59604",
            "4bd2e52670144be98667d7f0e4ff66cf"
          ]
        },
        "outputId": "1963896b-193f-4935-ab64-8946afd3caed"
      },
      "source": [
        "# Importando as bibliotecas do Modelo e do Tokenizador\n",
        "from transformers import AutoModel, AutoTokenizer\n",
        "\n",
        "# Carregando o modelo do tokenizador o modelo do PyTorch da comunidade utilizando AutoClasses\n",
        "\n",
        "# Tokenizador do modelo utilizando as AutoClasses\n",
        "tokenizer = AutoTokenizer.from_pretrained('neuralmind/bert-base-portuguese-cased')\n",
        "\n",
        "# Modelo pré-treinado utilizando as AutoClasses\n",
        "model = AutoModel.from_pretrained('neuralmind/bert-base-portuguese-cased')"
      ],
      "execution_count": null,
      "outputs": [
        {
          "output_type": "display_data",
          "data": {
            "application/vnd.jupyter.widget-view+json": {
              "model_id": "71f26022f97a442cab8197b33cd5c334",
              "version_minor": 0,
              "version_major": 2
            },
            "text/plain": [
              "HBox(children=(FloatProgress(value=0.0, description='Downloading', max=647.0, style=ProgressStyle(description_…"
            ]
          },
          "metadata": {
            "tags": []
          }
        },
        {
          "output_type": "stream",
          "text": [
            "\n"
          ],
          "name": "stdout"
        },
        {
          "output_type": "display_data",
          "data": {
            "application/vnd.jupyter.widget-view+json": {
              "model_id": "b4ddd7553d9d4c0e906554d602dc6e64",
              "version_minor": 0,
              "version_major": 2
            },
            "text/plain": [
              "HBox(children=(FloatProgress(value=0.0, description='Downloading', max=209528.0, style=ProgressStyle(descripti…"
            ]
          },
          "metadata": {
            "tags": []
          }
        },
        {
          "output_type": "stream",
          "text": [
            "\n"
          ],
          "name": "stdout"
        },
        {
          "output_type": "display_data",
          "data": {
            "application/vnd.jupyter.widget-view+json": {
              "model_id": "c3f123416f264b4f9f4a9aab44db6219",
              "version_minor": 0,
              "version_major": 2
            },
            "text/plain": [
              "HBox(children=(FloatProgress(value=0.0, description='Downloading', max=2.0, style=ProgressStyle(description_wi…"
            ]
          },
          "metadata": {
            "tags": []
          }
        },
        {
          "output_type": "stream",
          "text": [
            "\n"
          ],
          "name": "stdout"
        },
        {
          "output_type": "display_data",
          "data": {
            "application/vnd.jupyter.widget-view+json": {
              "model_id": "ac74dce4f393466cbb7c42387bff5289",
              "version_minor": 0,
              "version_major": 2
            },
            "text/plain": [
              "HBox(children=(FloatProgress(value=0.0, description='Downloading', max=112.0, style=ProgressStyle(description_…"
            ]
          },
          "metadata": {
            "tags": []
          }
        },
        {
          "output_type": "stream",
          "text": [
            "\n"
          ],
          "name": "stdout"
        },
        {
          "output_type": "display_data",
          "data": {
            "application/vnd.jupyter.widget-view+json": {
              "model_id": "b3d31af83783444cb6d1e8db8953aa1a",
              "version_minor": 0,
              "version_major": 2
            },
            "text/plain": [
              "HBox(children=(FloatProgress(value=0.0, description='Downloading', max=43.0, style=ProgressStyle(description_w…"
            ]
          },
          "metadata": {
            "tags": []
          }
        },
        {
          "output_type": "stream",
          "text": [
            "\n"
          ],
          "name": "stdout"
        },
        {
          "output_type": "display_data",
          "data": {
            "application/vnd.jupyter.widget-view+json": {
              "model_id": "d9a59e4427064e49b0507553d336e29e",
              "version_minor": 0,
              "version_major": 2
            },
            "text/plain": [
              "HBox(children=(FloatProgress(value=0.0, description='Downloading', max=438235074.0, style=ProgressStyle(descri…"
            ]
          },
          "metadata": {
            "tags": []
          }
        },
        {
          "output_type": "stream",
          "text": [
            "\n"
          ],
          "name": "stdout"
        },
        {
          "output_type": "stream",
          "text": [
            "Some weights of the model checkpoint at neuralmind/bert-base-portuguese-cased were not used when initializing BertModel: ['cls.predictions.decoder.weight', 'cls.predictions.transform.LayerNorm.weight', 'cls.seq_relationship.bias', 'cls.seq_relationship.weight', 'cls.predictions.transform.dense.weight', 'cls.predictions.transform.dense.bias', 'cls.predictions.transform.LayerNorm.bias', 'cls.predictions.bias']\n",
            "- This IS expected if you are initializing BertModel from the checkpoint of a model trained on another task or with another architecture (e.g. initializing a BertForSequenceClassification model from a BertForPreTraining model).\n",
            "- This IS NOT expected if you are initializing BertModel from the checkpoint of a model that you expect to be exactly identical (initializing a BertForSequenceClassification model from a BertForSequenceClassification model).\n"
          ],
          "name": "stderr"
        }
      ]
    },
    {
      "cell_type": "markdown",
      "metadata": {
        "id": "u-gJlnkBo2U5"
      },
      "source": [
        "#### Classes Especificas"
      ]
    },
    {
      "cell_type": "code",
      "metadata": {
        "id": "3oi8ez_FNWkR",
        "colab": {
          "base_uri": "https://localhost:8080/"
        },
        "outputId": "9bd3b340-0490-49a7-d5d6-049a223001de"
      },
      "source": [
        "# Importando as bibliotecas do Modelo e do Tokenizador\n",
        "from transformers import BertModel, BertTokenizer\n",
        "\n",
        "# Carregando o modelo do tokenizador o modelo do PyTorch da comunidade utilizando classes Especificas\n",
        "\n",
        "# Tokenizador do modelo utilizando classe Especifica\n",
        "tokenizer = BertTokenizer.from_pretrained('neuralmind/bert-base-portuguese-cased')\n",
        "\n",
        "# Modelo pré-treinado utilizando classe Especifica\n",
        "model = BertModel.from_pretrained('neuralmind/bert-base-portuguese-cased')"
      ],
      "execution_count": null,
      "outputs": [
        {
          "output_type": "stream",
          "text": [
            "Some weights of the model checkpoint at neuralmind/bert-base-portuguese-cased were not used when initializing BertModel: ['cls.predictions.decoder.weight', 'cls.predictions.transform.LayerNorm.weight', 'cls.seq_relationship.bias', 'cls.seq_relationship.weight', 'cls.predictions.transform.dense.weight', 'cls.predictions.transform.dense.bias', 'cls.predictions.transform.LayerNorm.bias', 'cls.predictions.bias']\n",
            "- This IS expected if you are initializing BertModel from the checkpoint of a model trained on another task or with another architecture (e.g. initializing a BertForSequenceClassification model from a BertForPreTraining model).\n",
            "- This IS NOT expected if you are initializing BertModel from the checkpoint of a model that you expect to be exactly identical (initializing a BertForSequenceClassification model from a BertForSequenceClassification model).\n"
          ],
          "name": "stderr"
        }
      ]
    },
    {
      "cell_type": "markdown",
      "metadata": {
        "id": "Wrp2wwYytLDW"
      },
      "source": [
        "### Carregando BERT de diretório(arquivo)\n",
        "\n",
        "O carregamento do BERT a partir de um diretório com os arquivos do tokenizador e do modelo. "
      ]
    },
    {
      "cell_type": "markdown",
      "metadata": {
        "id": "c161Lh80z8T2"
      },
      "source": [
        "Os arquivo do modelo devem deve ser colocados na pasta '/content/modelo'.\n",
        "\n",
        "Este arquivo pode ser utilizado tanto pelas classes especificas ou pelas AutoClasses, conforme apresentado na seção 'AutoTokenizer'.\n",
        "\n",
        "Link dos arquivos do modelo BERT pré-treinado em português(pt-br) da neuralmind-ai chamado de [BERTTimbau](https://github.com/neuralmind-ai/portuguese-bert).\n",
        "\n",
        "O BERT em português édisponibilizado em dois tamanhos: **BASE** e **LARGE** e em dois formatos: checkpoint do **TensorFlow** ou do **Pytorch**.\n",
        "\n",
        "O arquivo do **Pytorch** é manipulado pela implementação da biblioteca torch disponível [aqui](https://pytorch.org/docs/stable/torch.html)\n",
        "\n",
        "**BERT Base: 1.1 Gbytes**\n",
        "* **Pytorch Checkpoint(Usado no exemplo)** - https://neuralmind-ai.s3.us-east-2.amazonaws.com/nlp/bert-base-portuguese-cased/bert-base-portuguese-cased_pytorch_checkpoint.zip\n",
        "\n",
        "* **Tensor Flow Checkpoint** - https://neuralmind-ai.s3.us-east-2.amazonaws.com/nlp/bert-base-portuguese-cased/bert-base-portuguese-cased_tensorflow_checkpoint.zip\n",
        "\n",
        "* **Vocabulário(Usado no exemplo)** - https://neuralmind-ai.s3.us-east-2.amazonaws.com/nlp/bert-base-portuguese-cased/vocab.txt\n",
        "\n",
        "\n",
        "**BERT Large: 3.2 Gbytes**\n",
        "* **Pytorch Checkpoint** - https://neuralmind-ai.s3.us-east-2.amazonaws.com/nlp/bert-large-portuguese-cased/bert-large-portuguese-cased_pytorch_checkpoint.zip\n",
        "\n",
        "* **Tensor Checkpoint** - https://neuralmind-ai.s3.us-east-2.amazonaws.com/nlp/bert-large-portuguese-cased/bert-large-portuguese-cased_tensorflow_checkpoint.zip\n",
        "\n",
        "* **Vocabulário** - https://neuralmind-ai.s3.us-east-2.amazonaws.com/nlp/bert-large-portuguese-cased/vocab.txt\n",
        "\n",
        "-----------------\n",
        "**Correção dos nomes dos arquivos para usar com o BERT as Service:**\n",
        "* 'large'\n",
        "    * model.ckpt-1000000.data-00000-of-00001 > bert_model.ckpt.data-00000-of-00001\n",
        "    * model.ckpt-1000000.index bert_model.ckpt.index\n",
        "    * model.ckpt-1000000.meta > bert_model.ckpt.meta\n",
        "\n",
        "* 'base'\n",
        "    * model.ckpt.data-00000-of-00001> bert_model.ckpt.data-00000-of-00001\n",
        "    * model.ckpt.index > bert_model.ckpt.index\n",
        "    * model.ckpt.meta > bert_model.ckpt.meta\n",
        "-------------------------\n",
        "O modelo foi treinado com dados de **BrWaC** (Brazilian Web as Corpus):\n",
        "\n",
        "https://www.researchgate.net/publication/326303825_The_brWaC_Corpus_A_New_Open_Resource_for_Brazilian_Portuguese\n"
      ]
    },
    {
      "cell_type": "markdown",
      "metadata": {
        "id": "YZGdOSC_lLBh"
      },
      "source": [
        "#### Usando o BERT do diretório"
      ]
    },
    {
      "cell_type": "markdown",
      "metadata": {
        "id": "WyhoaQKNaNY7"
      },
      "source": [
        "##### Download do arquivo do Pytorch Checkpoint\n",
        "\n",
        "É necessário realizar o download do arquivo de checkpoint e do vocabulário.\n",
        "\n",
        "O arquivo do checkpoint precisa ser descompactado.\n",
        "\n",
        "Os arquivos do modelo e do vocabulário são movidos para o diretório `modelo`."
      ]
    },
    {
      "cell_type": "code",
      "metadata": {
        "id": "jYTujSE9aNY_",
        "colab": {
          "base_uri": "https://localhost:8080/"
        },
        "outputId": "d5a2bd1d-bdc1-41b8-c0e7-6c33e7d391ae"
      },
      "source": [
        "# Importando as bibliotecas\n",
        "import os\n",
        "\n",
        "# Comente uma das urls para carregar modelo do BERT de tamanhos diferentes(base/large)\n",
        "# Url do arquivo do modelo do Pytorch checkpoint\n",
        "\n",
        "# arquivo menor(base) 1.1 Gbytes\n",
        "# URL_MODELO = \"https://neuralmind-ai.s3.us-east-2.amazonaws.com/nlp/bert-base-portuguese-cased/bert-base-portuguese-cased_pytorch_checkpoint.zip\"\n",
        "\n",
        "# arquivo grande(large) 3.5 Gbytes\n",
        "URL_MODELO = \"https://neuralmind-ai.s3.us-east-2.amazonaws.com/nlp/bert-large-portuguese-cased/bert-large-portuguese-cased_pytorch_checkpoint.zip\"\n",
        "      \n",
        "# Recupera o nome do arquivo do modelo da url anterior\n",
        "arquivo = URL_MODELO.split(\"/\")[-1]\n",
        "\n",
        "# Nome do arquivo do vocabulário\n",
        "arquivo_vocab = \"vocab.txt\"\n",
        "\n",
        "# Caminho do arquivo na URL_MODELO\n",
        "caminho = URL_MODELO[0:len(URL_MODELO)-len(arquivo)]\n",
        "\n",
        "# Diretório descompactação do modelo\n",
        "DIRETORIO_MODELO = '/content/modelo'\n",
        "\n",
        "# Verifica se a pasta de descompactação existe na pasta corrente\n",
        "if os.path.exists(DIRETORIO_MODELO):\n",
        "  print(\"Apagando diretório existente do modelo!\")\n",
        "  # Apaga a pasta e os arquivos existentes\n",
        "  !rm -rf $DIRETORIO_MODELO  \n",
        "   \n",
        "# Realiza o download do arquivo do tokenizador\n",
        "!wget $URL_MODELO\n",
        "    \n",
        "# Descompacta o arquivo no diretório do modelo\n",
        "!unzip -o $arquivo -d $DIRETORIO_MODELO\n",
        "\n",
        "# Realiza o download do arquivo do vocabulário\n",
        "# O vocabulário não está no arquivo compactado acima\n",
        "# Concatena o caminho do modelo mais o nome do arquivo do vocabulário\n",
        "URL_MODELO_VOCAB = caminho + arquivo_vocab\n",
        "\n",
        "# Realiza o download do arquivo do vocabulário\n",
        "!wget $URL_MODELO_VOCAB\n",
        "    \n",
        "# Move o arquivo do vocabulário para o diretório do modelo\n",
        "!mv $arquivo_vocab $DIRETORIO_MODELO\n",
        "            \n",
        "# Apaga o arquivo baixado\n",
        " #!rm $arquivo\n",
        "    \n",
        "# Move o arquivo do modelo para o diretório do modelo\n",
        "!mv $arquivo $DIRETORIO_MODELO\n",
        "    \n",
        "print('Diretório do modelo:\\'' + DIRETORIO_MODELO + '\\' pronta!')\n",
        "\n",
        "# Lista o diretório corrente\n",
        "!ls -la"
      ],
      "execution_count": null,
      "outputs": [
        {
          "output_type": "stream",
          "text": [
            "--2021-05-27 23:05:29--  https://neuralmind-ai.s3.us-east-2.amazonaws.com/nlp/bert-large-portuguese-cased/bert-large-portuguese-cased_pytorch_checkpoint.zip\n",
            "Resolving neuralmind-ai.s3.us-east-2.amazonaws.com (neuralmind-ai.s3.us-east-2.amazonaws.com)... 52.219.84.48\n",
            "Connecting to neuralmind-ai.s3.us-east-2.amazonaws.com (neuralmind-ai.s3.us-east-2.amazonaws.com)|52.219.84.48|:443... connected.\n",
            "HTTP request sent, awaiting response... 200 OK\n",
            "Length: 1244275810 (1.2G) [application/zip]\n",
            "Saving to: ‘bert-large-portuguese-cased_pytorch_checkpoint.zip’\n",
            "\n",
            "bert-large-portugue 100%[===================>]   1.16G  91.3MB/s    in 13s     \n",
            "\n",
            "2021-05-27 23:05:43 (91.1 MB/s) - ‘bert-large-portuguese-cased_pytorch_checkpoint.zip’ saved [1244275810/1244275810]\n",
            "\n",
            "Archive:  bert-large-portuguese-cased_pytorch_checkpoint.zip\n",
            "  inflating: /content/modelo/config.json  \n",
            "  inflating: /content/modelo/pytorch_model.bin  \n",
            "--2021-05-27 23:05:58--  https://neuralmind-ai.s3.us-east-2.amazonaws.com/nlp/bert-large-portuguese-cased/vocab.txt\n",
            "Resolving neuralmind-ai.s3.us-east-2.amazonaws.com (neuralmind-ai.s3.us-east-2.amazonaws.com)... 52.219.80.232\n",
            "Connecting to neuralmind-ai.s3.us-east-2.amazonaws.com (neuralmind-ai.s3.us-east-2.amazonaws.com)|52.219.80.232|:443... connected.\n",
            "HTTP request sent, awaiting response... 200 OK\n",
            "Length: 209528 (205K) [text/plain]\n",
            "Saving to: ‘vocab.txt’\n",
            "\n",
            "vocab.txt           100%[===================>] 204.62K  --.-KB/s    in 0.1s    \n",
            "\n",
            "2021-05-27 23:05:58 (1.75 MB/s) - ‘vocab.txt’ saved [209528/209528]\n",
            "\n",
            "Diretório do modelo:'/content/modelo' pronta!\n",
            "total 20\n",
            "drwxr-xr-x 1 root root 4096 May 27 23:05 .\n",
            "drwxr-xr-x 1 root root 4096 May 27 23:04 ..\n",
            "drwxr-xr-x 4 root root 4096 May  6 13:43 .config\n",
            "drwxr-xr-x 2 root root 4096 May 27 23:05 modelo\n",
            "drwxr-xr-x 1 root root 4096 May  6 13:44 sample_data\n"
          ],
          "name": "stdout"
        }
      ]
    },
    {
      "cell_type": "markdown",
      "metadata": {
        "id": "1gZ7lZaVaEk5"
      },
      "source": [
        "##### Carregando o BERT do diretório\n",
        "\n",
        "Carregando o **tokenizador** e **modelo** BERT do diretório '/content/modelo/' do diretório padrão.\n",
        "\n",
        "A implementação do huggingface pytorch inclui um conjunto de interfaces projetadas para uma variedade de tarefas de PNL. Embora essas interfaces sejam todas construídas sobre um modelo treinado de BERT, cada uma possui diferentes camadas superiores e tipos de saída projetados para acomodar suas tarefas Especificas de PNL.\n",
        "\n",
        "Aqui está a lista atual de classes fornecidas para o ajuste fino:\n",
        "* BertModel\n",
        "* BertForPreTraining\n",
        "* BertForMaskedLM\n",
        "* BertForNextSentencePrediction\n",
        "* BertForSequenceClassification\n",
        "* BertForTokenClassification\n",
        "* BertForQuestionAnswering\n",
        "\n",
        "A documentação para estas pode ser encontrada em [aqui](https://huggingface.co/transformers/v2.2.0/model_doc/bert.html).\n"
      ]
    },
    {
      "cell_type": "code",
      "metadata": {
        "id": "pyA4PFN6aNZV",
        "colab": {
          "base_uri": "https://localhost:8080/"
        },
        "outputId": "82faae5c-de09-461c-b8c1-658b1607f11e"
      },
      "source": [
        "# Importando as bibliotecas do Modelo e do Tokenizador\n",
        "from transformers import BertModel, BertTokenizer\n",
        "\n",
        "# Diretório descompactação do modelo\n",
        "DIRETORIO_MODELO = '/content/modelo'\n",
        "\n",
        "# Carregando o modelo do tokenizador o modelo do PyTorch do diretório  utilizando classes Especificas\n",
        "print('Carregando o tokenizador BERT do diretório \\'' + DIRETORIO_MODELO + '\\'...')\n",
        "\n",
        "# Tokenizador do modelo utilizando classe Especifica\n",
        "tokenizer = BertTokenizer.from_pretrained(DIRETORIO_MODELO, \n",
        "                                          do_lower_case=False)\n",
        "\n",
        "print('Carregando o modelo BERT do diretório \\'' + DIRETORIO_MODELO + '\\'...')\n",
        "\n",
        "# Modelo pré-treinado utilizando classe Especifica\n",
        "model = BertModel.from_pretrained(DIRETORIO_MODELO)"
      ],
      "execution_count": null,
      "outputs": [
        {
          "output_type": "stream",
          "text": [
            "Carregando o tokenizador BERT do diretório '/content/modelo'...\n",
            "Carregando o modelo BERT do diretório '/content/modelo'...\n"
          ],
          "name": "stdout"
        },
        {
          "output_type": "stream",
          "text": [
            "Some weights of the model checkpoint at /content/modelo were not used when initializing BertModel: ['cls.predictions.decoder.weight', 'cls.predictions.transform.LayerNorm.weight', 'cls.seq_relationship.bias', 'cls.seq_relationship.weight', 'cls.predictions.transform.dense.weight', 'cls.predictions.transform.dense.bias', 'cls.predictions.transform.LayerNorm.bias', 'cls.predictions.bias']\n",
            "- This IS expected if you are initializing BertModel from the checkpoint of a model trained on another task or with another architecture (e.g. initializing a BertForSequenceClassification model from a BertForPreTraining model).\n",
            "- This IS NOT expected if you are initializing BertModel from the checkpoint of a model that you expect to be exactly identical (initializing a BertForSequenceClassification model from a BertForSequenceClassification model).\n"
          ],
          "name": "stderr"
        }
      ]
    },
    {
      "cell_type": "markdown",
      "metadata": {
        "id": "KAm-Or2D0M0k"
      },
      "source": [
        "## Exemplos de formas de carregamento do BERT"
      ]
    },
    {
      "cell_type": "markdown",
      "metadata": {
        "id": "udxdl4qklY--"
      },
      "source": [
        "#### Usando o BERT da comunidade ou diretório v1\n",
        "\n",
        "Permite configurar a **fonte do modelo**.\n",
        "\n",
        "A variável `URL_MODELO` setada especifica que o BERT deve ser carregado de um diretório, caso contrário da comunidade."
      ]
    },
    {
      "cell_type": "markdown",
      "metadata": {
        "id": "VXm3x84klfRN"
      },
      "source": [
        "##### Download do arquivo do Pytorch Checkpoint\n",
        "\n",
        "É necessário realizar o download do arquivo de checkpoint e do vocabulário.\n",
        "\n",
        "O arquivo do checkpoint precisa ser descompactado.\n",
        "\n",
        "Os arquivos do modelo e do vocabulário são movidos para o diretório `modelo`."
      ]
    },
    {
      "cell_type": "code",
      "metadata": {
        "id": "JtzDkSAYlfs1",
        "colab": {
          "base_uri": "https://localhost:8080/"
        },
        "outputId": "8657979b-b279-4185-c580-1dc8c56027e7"
      },
      "source": [
        "# Importando as bibliotecas\n",
        "import os\n",
        "\n",
        "# Variável para setar o tamanho do arquivo do BERT(base ou large)\n",
        "URL_MODELO = None\n",
        "\n",
        "# Comente uma das urls para carregar modelo do BERT de tamanhos diferentes(base/large)\n",
        "# Url do arquivo do modelo do Pytorch checkpoint\n",
        "\n",
        "# arquivo menor(base) 1.1 Gbytes\n",
        "# URL_MODELO = \"https://neuralmind-ai.s3.us-east-2.amazonaws.com/nlp/bert-base-portuguese-cased/bert-base-portuguese-cased_pytorch_checkpoint.zip\"\n",
        "\n",
        "# arquivo grande(large) 3.5 Gbytes\n",
        "# URL_MODELO = \"https://neuralmind-ai.s3.us-east-2.amazonaws.com/nlp/bert-large-portuguese-cased/bert-large-portuguese-cased_pytorch_checkpoint.zip\"\n",
        "\n",
        "# Se a variável foi setada\n",
        "if URL_MODELO:\n",
        "\n",
        "    # Diretório descompactação do modelo\n",
        "    DIRETORIO_MODELO = '/content/modelo'\n",
        "\n",
        "    # Recupera o nome do arquivo do modelo da url anterior\n",
        "    arquivo = URL_MODELO.split(\"/\")[-1]\n",
        "\n",
        "    # Nome do arquivo do vocabulário\n",
        "    arquivo_vocab = \"vocab.txt\"\n",
        "\n",
        "    # Caminho do arquivo na url\n",
        "    caminho = URL_MODELO[0:len(URL_MODELO)-len(arquivo)]\n",
        "\n",
        "    # Verifica se a pasta de descompactação existe na pasta corrente\n",
        "    if os.path.exists(DIRETORIO_MODELO):\n",
        "      print(\"Apagando diretório existente do modelo!\")\n",
        "      # Apaga a pasta e os arquivos existentes\n",
        "      !rm -rf $DIRETORIO_MODELO  \n",
        "\n",
        "    # Realiza o download do arquivo do modelo\n",
        "    !wget $URL_MODELO\n",
        "    \n",
        "    # Descompacta o arquivo na pasta de destino\n",
        "    !unzip -o $arquivo -d $DIRETORIO_MODELO\n",
        "\n",
        "    # Realiza o download do arquivo do vocabulário\n",
        "    # O vocabulário não está no arquivo compactado acima\n",
        "    # Concatena o caminho do modelo mais o nome do arquivo do vocabulário\n",
        "    URL_MODELO_VOCAB = caminho + arquivo_vocab\n",
        "\n",
        "    # Realiza o download do arquivo do vocabulário\n",
        "    !wget $URL_MODELO_VOCAB\n",
        "    \n",
        "    # Move o arquivo do vocabulário para o diretório do modelo\n",
        "    !mv $arquivo_vocab $DIRETORIO_MODELO\n",
        "            \n",
        "    # Move o arquivo do modelo para o diretório do modelo\n",
        "    !mv $arquivo $DIRETORIO_MODELO\n",
        "        \n",
        "    print('Diretório do modelo:\\'' + DIRETORIO_MODELO + '\\' pronta!')\n",
        "    \n",
        "    #lista a pasta corrente\n",
        "    !ls -la $DIRETORIO_MODELO\n",
        "else:\n",
        "    print('Variável URL_MODELO não setada!')"
      ],
      "execution_count": null,
      "outputs": [
        {
          "output_type": "stream",
          "text": [
            "Variável URL_MODELO não setada!\n"
          ],
          "name": "stdout"
        }
      ]
    },
    {
      "cell_type": "markdown",
      "metadata": {
        "id": "W2VmlSXMgUiU"
      },
      "source": [
        "##### Carregando o BERT\n",
        "\n"
      ]
    },
    {
      "cell_type": "code",
      "metadata": {
        "id": "IR3LKinp7GiI",
        "colab": {
          "base_uri": "https://localhost:8080/"
        },
        "outputId": "6ad30c8f-1443-4549-847a-2517008ba4fd"
      },
      "source": [
        "# Importando as bibliotecas do Modelo e do Tokenizador\n",
        "from transformers import BertModel, BertTokenizer\n",
        "\n",
        "# Se a variável URL_MODELO foi setada\n",
        "if URL_MODELO:\n",
        "    # Carregando o Tokenizador do diretório\n",
        "    print('Carregando o tokenizador BERT do diretório \\'' + DIRETORIO_MODELO + '\\'...')\n",
        "\n",
        "    tokenizer = BertTokenizer.from_pretrained(DIRETORIO_MODELO)\n",
        "\n",
        "    # Carregano o Modelo do diretório\n",
        "    print('Carregando o modelo BERT do diretório \\'' + DIRETORIO_MODELO + '\\'...')\n",
        "\n",
        "    model = BertModel.from_pretrained(DIRETORIO_MODELO, \n",
        "                                      do_lower_case=False)\n",
        "\n",
        "else:\n",
        "    # Carregando o Tokenizador da comunidade\n",
        "    print('Carregando o tokenizador BERT da comunidade...')\n",
        "\n",
        "    tokenizer = BertTokenizer.from_pretrained('neuralmind/bert-base-portuguese-cased', \n",
        "                                              do_lower_case=False)\n",
        "\n",
        "    # Carregando o Modelo da comunidade\n",
        "    print('Carregando o modelo BERT da comunidade...')\n",
        "\n",
        "    model = BertModel.from_pretrained('neuralmind/bert-base-portuguese-cased')  \n"
      ],
      "execution_count": null,
      "outputs": [
        {
          "output_type": "stream",
          "text": [
            "Carregando o tokenizador BERT da comunidade...\n",
            "Carregando o modelo BERT da comunidade...\n"
          ],
          "name": "stdout"
        },
        {
          "output_type": "stream",
          "text": [
            "Some weights of the model checkpoint at neuralmind/bert-base-portuguese-cased were not used when initializing BertModel: ['cls.predictions.decoder.weight', 'cls.predictions.transform.LayerNorm.weight', 'cls.seq_relationship.bias', 'cls.seq_relationship.weight', 'cls.predictions.transform.dense.weight', 'cls.predictions.transform.dense.bias', 'cls.predictions.transform.LayerNorm.bias', 'cls.predictions.bias']\n",
            "- This IS expected if you are initializing BertModel from the checkpoint of a model trained on another task or with another architecture (e.g. initializing a BertForSequenceClassification model from a BertForPreTraining model).\n",
            "- This IS NOT expected if you are initializing BertModel from the checkpoint of a model that you expect to be exactly identical (initializing a BertForSequenceClassification model from a BertForSequenceClassification model).\n"
          ],
          "name": "stderr"
        }
      ]
    },
    {
      "cell_type": "markdown",
      "metadata": {
        "id": "snDFb_WBpItd"
      },
      "source": [
        "#### Usando o BERT da comunidade ou diretório v2\n",
        "\n",
        "Permite configurar o **tamanho do modelo** e a **fonte do modelo**.\n",
        "\n",
        "A variável `fonteBERT` com os valores `comunidade` ou `diretório` especifica se deve ser carregado o BERT de um diretório ou da comunidade.\n",
        "\n",
        "A variável `tamanhoBERT` com os valores `base` ou `large` especifica se o tamanho do modelo BERT a ser utilizado."
      ]
    },
    {
      "cell_type": "markdown",
      "metadata": {
        "id": "Nj1KS8xCpIte"
      },
      "source": [
        "##### Download do arquivo do Pytorch Checkpoint\n",
        "\n",
        "É necessário realizar o download do arquivo de checkpoint e do vocabulário.\n",
        "\n",
        "O arquivo do checkpoint precisa ser descompactado.\n",
        "\n",
        "Os arquivos do modelo e do vocabulário são movidos para o diretório `modelo`."
      ]
    },
    {
      "cell_type": "code",
      "metadata": {
        "id": "3gab02A0pIte",
        "colab": {
          "base_uri": "https://localhost:8080/"
        },
        "outputId": "289debd6-4bcc-4888-9dd8-44d762ed0427"
      },
      "source": [
        "# Importando as bibliotecas\n",
        "import os\n",
        "\n",
        "# Variável fonte especifica a origem do modelo(comunidade ou diretório)\n",
        "#fonteBERT = 'comunidade'\n",
        "fonteBERT = 'DIRETORIO_MODELO'\n",
        "\n",
        "# Especifica o tamanho do modelo a ser carregado(base ou large)\n",
        "tamanhoBERT = 'large'\n",
        "#tamanhoBERT = 'base'\n",
        "\n",
        "# Se a variável 'fonteBERT' foi setada para 'DIRETORIO_MODELO' faz o download dos arquivos modelo\n",
        "if fonteBERT == 'DIRETORIO_MODELO':\n",
        "    \n",
        "    # Se a variável 'tamanhoBERT' foi setada para 'base' faz o download do arquivo do tamanho base do BERT, caso contrário do large.\n",
        "    if tamanhoBERT == 'base':\n",
        "        # Url do arquivo do modelo do Pytorch checkpoint\n",
        "        # arquivo menor(base) 1.1 Gbytes\n",
        "        URL_MODELO = \"https://neuralmind-ai.s3.us-east-2.amazonaws.com/nlp/bert-base-portuguese-cased/bert-base-portuguese-cased_pytorch_checkpoint.zip\"\n",
        "    else:\n",
        "        # Url do arquivo do modelo do Pytorch checkpoint\n",
        "        # arquivo grande(large) 3.5 Gbytes\n",
        "        URL_MODELO = \"https://neuralmind-ai.s3.us-east-2.amazonaws.com/nlp/bert-large-portuguese-cased/bert-large-portuguese-cased_pytorch_checkpoint.zip\"\n",
        "\n",
        "    # Diretório descompactação do modelo\n",
        "    DIRETORIO_MODELO = '/content/modelo'\n",
        "\n",
        "    # Recupera o nome do arquivo do modelo da url anterior\n",
        "    arquivo = URL_MODELO.split(\"/\")[-1]\n",
        "\n",
        "    # Nome do arquivo do vocabulário\n",
        "    arquivo_vocab = \"vocab.txt\"\n",
        "\n",
        "    # Caminho do arquivo na url\n",
        "    caminho = URL_MODELO[0:len(URL_MODELO)-len(arquivo)]\n",
        "\n",
        "    # Verifica se a pasta de descompactação existe na pasta corrente\n",
        "    if os.path.exists(DIRETORIO_MODELO):\n",
        "      print(\"Apagando diretório existente do modelo!\")\n",
        "      # Apaga a pasta e os arquivos existentes\n",
        "      !rm -rf $DIRETORIO_MODELO  \n",
        "\n",
        "    # Realiza o download do arquivo do modelo\n",
        "    !wget $URL_MODELO\n",
        "    \n",
        "    # Descompacta o arquivo na pasta de destino\n",
        "    !unzip -o $arquivo -d $DIRETORIO_MODELO\n",
        "\n",
        "    # Realiza o download do arquivo do vocabulário\n",
        "    # O vocabulário não está no arquivo compactado acima\n",
        "    # Concatena o caminho do modelo mais o nome do arquivo do vocabulário\n",
        "    URL_MODELO_VOCAB = caminho + arquivo_vocab\n",
        "\n",
        "    # Realiza o download do arquivo do vocabulário\n",
        "    !wget $URL_MODELO_VOCAB\n",
        "    \n",
        "    # Move o arquivo do vocabulário para o diretório do modelo\n",
        "    !mv $arquivo_vocab $DIRETORIO_MODELO\n",
        "            \n",
        "    # Move o arquivo do modelo para o diretório do modelo\n",
        "    !mv $arquivo $DIRETORIO_MODELO      \n",
        "                \n",
        "    print('Diretório do modelo:\\'' + DIRETORIO_MODELO + '\\' pronta!')\n",
        "    \n",
        "    #lista a pasta corrente\n",
        "    !ls -la $DIRETORIO_MODELO\n",
        "else:\n",
        "    print('Será carregado o BERT da comunidade')"
      ],
      "execution_count": null,
      "outputs": [
        {
          "output_type": "stream",
          "text": [
            "Apagando diretório existente do modelo!\n",
            "--2021-05-27 23:06:08--  https://neuralmind-ai.s3.us-east-2.amazonaws.com/nlp/bert-large-portuguese-cased/bert-large-portuguese-cased_pytorch_checkpoint.zip\n",
            "Resolving neuralmind-ai.s3.us-east-2.amazonaws.com (neuralmind-ai.s3.us-east-2.amazonaws.com)... 52.219.104.88\n",
            "Connecting to neuralmind-ai.s3.us-east-2.amazonaws.com (neuralmind-ai.s3.us-east-2.amazonaws.com)|52.219.104.88|:443... connected.\n",
            "HTTP request sent, awaiting response... 200 OK\n",
            "Length: 1244275810 (1.2G) [application/zip]\n",
            "Saving to: ‘bert-large-portuguese-cased_pytorch_checkpoint.zip’\n",
            "\n",
            "bert-large-portugue 100%[===================>]   1.16G  15.1MB/s    in 43s     \n",
            "\n",
            "2021-05-27 23:06:51 (27.6 MB/s) - ‘bert-large-portuguese-cased_pytorch_checkpoint.zip’ saved [1244275810/1244275810]\n",
            "\n",
            "Archive:  bert-large-portuguese-cased_pytorch_checkpoint.zip\n",
            "  inflating: /content/modelo/config.json  \n",
            "  inflating: /content/modelo/pytorch_model.bin  \n",
            "--2021-05-27 23:07:07--  https://neuralmind-ai.s3.us-east-2.amazonaws.com/nlp/bert-large-portuguese-cased/vocab.txt\n",
            "Resolving neuralmind-ai.s3.us-east-2.amazonaws.com (neuralmind-ai.s3.us-east-2.amazonaws.com)... 52.219.101.106\n",
            "Connecting to neuralmind-ai.s3.us-east-2.amazonaws.com (neuralmind-ai.s3.us-east-2.amazonaws.com)|52.219.101.106|:443... connected.\n",
            "HTTP request sent, awaiting response... 200 OK\n",
            "Length: 209528 (205K) [text/plain]\n",
            "Saving to: ‘vocab.txt’\n",
            "\n",
            "vocab.txt           100%[===================>] 204.62K  --.-KB/s    in 0.1s    \n",
            "\n",
            "2021-05-27 23:07:07 (1.83 MB/s) - ‘vocab.txt’ saved [209528/209528]\n",
            "\n",
            "Diretório do modelo:'/content/modelo' pronta!\n",
            "total 2525908\n",
            "drwxr-xr-x 2 root root       4096 May 27 23:07 .\n",
            "drwxr-xr-x 1 root root       4096 May 27 23:07 ..\n",
            "-rw-r--r-- 1 root root 1244275810 Jan 22  2020 bert-large-portuguese-cased_pytorch_checkpoint.zip\n",
            "-rw-rw-r-- 1 root root        874 Jan 12  2020 config.json\n",
            "-rw-rw-r-- 1 root root 1342014951 Jan 12  2020 pytorch_model.bin\n",
            "-rw-r--r-- 1 root root     209528 Jan 21  2020 vocab.txt\n"
          ],
          "name": "stdout"
        }
      ]
    },
    {
      "cell_type": "markdown",
      "metadata": {
        "id": "stZE-KdbpIti"
      },
      "source": [
        "##### Carregando o BERT\n",
        "\n",
        "Carregando o **tokenizador** e **modelo** BERT do diretório '/content/modelo/' do diretório padrão.\n",
        "\n",
        "O parâmetro do_lower_case especifica se é ignorar a conversão para minúsculo. Para ignorar use o parâmetro 'do_lower_case=True'.\n"
      ]
    },
    {
      "cell_type": "code",
      "metadata": {
        "id": "Rbdpa5IzpItj",
        "colab": {
          "base_uri": "https://localhost:8080/"
        },
        "outputId": "9197a899-f01e-4e48-acde-6c305d356c43"
      },
      "source": [
        "# Importando as bibliotecas do Modelo e do Tokenizador\n",
        "from transformers import BertModel, BertTokenizer\n",
        "\n",
        "# Se a variável 'fonteBERT' foi setada para 'DIRETORIO_MODELO' faz o download dos arquivos modelo\n",
        "if fonteBERT == 'DIRETORIO_MODELO':\n",
        "\n",
        "    # Carregando o Tokenizador do diretório\n",
        "    print('Carregando o tokenizador BERT_' + tamanhoBERT + ' do diretório ' + DIRETORIO_MODELO + '...')\n",
        "\n",
        "    tokenizer = BertTokenizer.from_pretrained(DIRETORIO_MODELO,\n",
        "                                              do_lower_case=False)   \n",
        "\n",
        "    # Carregando o Modelo do diretório\n",
        "    print('Carregando o modelo BERT_' + tamanhoBERT + ' do diretório ' + DIRETORIO_MODELO + '...')\n",
        "\n",
        "    model = BertModel.from_pretrained(DIRETORIO_MODELO)\n",
        "\n",
        "else:\n",
        "    # Se a variável 'tamanhoBERT' foi setada para 'base' faz o carregamento do tamanho base do BERT, caso contrário do large.\n",
        "    if tamanhoBERT == 'base':\n",
        "        # Carregando o Tokenizador da comunidade\n",
        "        print('Carregando o tokenizador BERT_base da comunidade...')\n",
        "\n",
        "        tokenizer = BertTokenizer.from_pretrained('neuralmind/bert-base-portuguese-cased', \n",
        "                                                  do_lower_case=False)\n",
        "\n",
        "        # Carregando o Modelo da comunidade\n",
        "        print('Carregando o modelo BERT_base da comunidade...')\n",
        "\n",
        "        model = BertModel.from_pretrained('neuralmind/bert-base-portuguese-cased')  \n",
        "    else:\n",
        "        # Carregando o Tokenizador da comunidade  \n",
        "        print('Carregando o tokenizador BERT_large da comunidade...')\n",
        "\n",
        "        tokenizer = BertTokenizer.from_pretrained('neuralmind/bert-large-portuguese-cased',\n",
        "                                                  do_lower_case=False)\n",
        "\n",
        "        # Carregando o Modelo da comunidade\n",
        "        print('Carregando o modelo BERT_large da comunidade...')\n",
        "\n",
        "        model = BertModel.from_pretrained('neuralmind/bert-large-portuguese-cased')  \n"
      ],
      "execution_count": null,
      "outputs": [
        {
          "output_type": "stream",
          "text": [
            "Carregando o tokenizador BERT_large do diretório /content/modelo...\n",
            "Carregando o modelo BERT_large do diretório /content/modelo...\n"
          ],
          "name": "stdout"
        },
        {
          "output_type": "stream",
          "text": [
            "Some weights of the model checkpoint at /content/modelo were not used when initializing BertModel: ['cls.predictions.decoder.weight', 'cls.predictions.transform.LayerNorm.weight', 'cls.seq_relationship.bias', 'cls.seq_relationship.weight', 'cls.predictions.transform.dense.weight', 'cls.predictions.transform.dense.bias', 'cls.predictions.transform.LayerNorm.bias', 'cls.predictions.bias']\n",
            "- This IS expected if you are initializing BertModel from the checkpoint of a model trained on another task or with another architecture (e.g. initializing a BertForSequenceClassification model from a BertForPreTraining model).\n",
            "- This IS NOT expected if you are initializing BertModel from the checkpoint of a model that you expect to be exactly identical (initializing a BertForSequenceClassification model from a BertForSequenceClassification model).\n"
          ],
          "name": "stderr"
        }
      ]
    },
    {
      "cell_type": "markdown",
      "metadata": {
        "id": "eaBm0YHY4lsf"
      },
      "source": [
        "#### \\>>> Usando o BERT da comunidade ou diretório v3 <<<\n",
        "\n",
        "Permite configurar o **tamanho do modelo**, **fonte do modelo** e **se deve retornar os pesos das camadas ocultas**.\n",
        "\n",
        "A variável `fonteBERT` com os valores `comunidade` ou `diretório` especifica se deve ser carregado o BERT de um diretório ou da comunidade.\n",
        "\n",
        "A variável `tamanhoBERT` com os valores `base` ou `large` especifica se o tamanho do modelo BERT a ser utilizado.\n",
        "\n",
        "A variável `pesosCamadasOcultas` com os valores `True` ou `False` especifica se é para gerar e retornar os pesos das camadas ocultas."
      ]
    },
    {
      "cell_type": "markdown",
      "metadata": {
        "id": "tiZcK9JU4lsj"
      },
      "source": [
        "##### Download do arquivo do Pytorch Checkpoint\n",
        "\n",
        "É necessário realizar o download do arquivo de checkpoint e do vocabulário.\n",
        "\n",
        "O arquivo do checkpoint precisa ser descompactado.\n",
        "\n",
        "Os arquivos do modelo e do vocabulário são movidos para o diretório `modelo`."
      ]
    },
    {
      "cell_type": "code",
      "metadata": {
        "id": "-k4sP3yZ4lsm",
        "colab": {
          "base_uri": "https://localhost:8080/"
        },
        "outputId": "ac8dba9b-a433-465d-c233-6e857725d242"
      },
      "source": [
        "# Importando as bibliotecas\n",
        "import os\n",
        "\n",
        "# Variável fonte especifica a origem do modelo(comunidade ou diretório)\n",
        "#fonteBERT = 'comunidade'\n",
        "fonteBERT = 'DIRETORIO_MODELO'\n",
        "\n",
        "# Especifica o tamanho do modelo a ser carregado(base ou large)\n",
        "tamanhoBERT = 'large'\n",
        "#tamanhoBERT = 'base'\n",
        "\n",
        "# Especifica se o modelo deve ser carregado com os pesos das camadas ocultas(True ou False)\n",
        "pesosCamadasOcultas = False\n",
        "\n",
        "# Se a variável 'fonteBERT' foi setada para 'DIRETORIO_MODELO' faz o download dos arquivos modelo\n",
        "if fonteBERT == 'DIRETORIO_MODELO':\n",
        "    \n",
        "    # Se a variável 'tamanhoBERT' foi setada para 'base' faz o download do arquivo do tamanho base do BERT, caso contrário do large.\n",
        "    if tamanhoBERT == 'base':\n",
        "        # URL_MODELO do arquivo do modelo do Pytorch checkpoint\n",
        "        # arquivo menor(base) 1.1 Gbytes\n",
        "        URL_MODELO = \"https://neuralmind-ai.s3.us-east-2.amazonaws.com/nlp/bert-base-portuguese-cased/bert-base-portuguese-cased_pytorch_checkpoint.zip\"\n",
        "    else:\n",
        "        # URL_MODELO do arquivo do modelo do Pytorch checkpoint\n",
        "        # arquivo grande(large) 3.5 Gbytes\n",
        "        URL_MODELO = \"https://neuralmind-ai.s3.us-east-2.amazonaws.com/nlp/bert-large-portuguese-cased/bert-large-portuguese-cased_pytorch_checkpoint.zip\"\n",
        "\n",
        "    # Diretório descompactação do modelo\n",
        "    DIRETORIO_MODELO = '/content/modelo'\n",
        "\n",
        "    # Recupera o nome do arquivo do modelo da url anterior\n",
        "    arquivo = URL_MODELO.split(\"/\")[-1]\n",
        "\n",
        "    # Nome do arquivo do vocabulário\n",
        "    arquivo_vocab = \"vocab.txt\"\n",
        "\n",
        "    # Caminho do arquivo na URL_MODELO\n",
        "    caminho = URL_MODELO[0:len(URL_MODELO)-len(arquivo)]\n",
        "\n",
        "    # Verifica se a pasta de descompactação existe na pasta corrente\n",
        "    if os.path.exists(DIRETORIO_MODELO):\n",
        "      print(\"Apagando diretório existente do modelo!\")\n",
        "      # Apaga a pasta e os arquivos existentes\n",
        "      !rm -rf $DIRETORIO_MODELO      \n",
        "\n",
        "    # Realiza o download do arquivo do modelo\n",
        "    !wget $URL_MODELO\n",
        "    \n",
        "    # Descompacta o arquivo na pasta de destino\n",
        "    !unzip -o $arquivo -d $DIRETORIO_MODELO\n",
        "\n",
        "    # Realiza o download do arquivo do vocabulário\n",
        "    # O vocabulário não está no arquivo compactado acima\n",
        "    # Concatena o caminho do modelo mais o nome do arquivo do vocabulário\n",
        "    URL_MODELO_VOCAB = caminho + arquivo_vocab\n",
        "\n",
        "    # Realiza o download do arquivo do vocabulário\n",
        "    !wget $URL_MODELO_VOCAB\n",
        "    \n",
        "    # Move o arquivo do vocabulário para o diretório do modelo\n",
        "    !mv $arquivo_vocab $DIRETORIO_MODELO\n",
        "            \n",
        "    # Move o arquivo do modelo para o diretório do modelo\n",
        "    !mv $arquivo $DIRETORIO_MODELO      \n",
        "              \n",
        "    print('Diretório do modelo:\\'' + DIRETORIO_MODELO + '\\' pronta!')\n",
        "\n",
        "    #lista a pasta corrente\n",
        "    !ls -la $DIRETORIO_MODELO\n",
        "else:\n",
        "    print('Será carregado o BERT da comunidade')"
      ],
      "execution_count": null,
      "outputs": [
        {
          "output_type": "stream",
          "text": [
            "Apagando diretório existente do modelo!\n",
            "--2021-05-27 23:07:14--  https://neuralmind-ai.s3.us-east-2.amazonaws.com/nlp/bert-large-portuguese-cased/bert-large-portuguese-cased_pytorch_checkpoint.zip\n",
            "Resolving neuralmind-ai.s3.us-east-2.amazonaws.com (neuralmind-ai.s3.us-east-2.amazonaws.com)... 52.219.98.138\n",
            "Connecting to neuralmind-ai.s3.us-east-2.amazonaws.com (neuralmind-ai.s3.us-east-2.amazonaws.com)|52.219.98.138|:443... connected.\n",
            "HTTP request sent, awaiting response... 200 OK\n",
            "Length: 1244275810 (1.2G) [application/zip]\n",
            "Saving to: ‘bert-large-portuguese-cased_pytorch_checkpoint.zip’\n",
            "\n",
            "bert-large-portugue 100%[===================>]   1.16G  94.8MB/s    in 13s     \n",
            "\n",
            "2021-05-27 23:07:27 (94.8 MB/s) - ‘bert-large-portuguese-cased_pytorch_checkpoint.zip’ saved [1244275810/1244275810]\n",
            "\n",
            "Archive:  bert-large-portuguese-cased_pytorch_checkpoint.zip\n",
            "  inflating: /content/modelo/config.json  \n",
            "  inflating: /content/modelo/pytorch_model.bin  \n",
            "--2021-05-27 23:07:42--  https://neuralmind-ai.s3.us-east-2.amazonaws.com/nlp/bert-large-portuguese-cased/vocab.txt\n",
            "Resolving neuralmind-ai.s3.us-east-2.amazonaws.com (neuralmind-ai.s3.us-east-2.amazonaws.com)... 52.219.107.34\n",
            "Connecting to neuralmind-ai.s3.us-east-2.amazonaws.com (neuralmind-ai.s3.us-east-2.amazonaws.com)|52.219.107.34|:443... connected.\n",
            "HTTP request sent, awaiting response... 200 OK\n",
            "Length: 209528 (205K) [text/plain]\n",
            "Saving to: ‘vocab.txt’\n",
            "\n",
            "vocab.txt           100%[===================>] 204.62K  --.-KB/s    in 0.1s    \n",
            "\n",
            "2021-05-27 23:07:43 (1.76 MB/s) - ‘vocab.txt’ saved [209528/209528]\n",
            "\n",
            "Diretório do modelo:'/content/modelo' pronta!\n",
            "total 2525908\n",
            "drwxr-xr-x 2 root root       4096 May 27 23:07 .\n",
            "drwxr-xr-x 1 root root       4096 May 27 23:07 ..\n",
            "-rw-r--r-- 1 root root 1244275810 Jan 22  2020 bert-large-portuguese-cased_pytorch_checkpoint.zip\n",
            "-rw-rw-r-- 1 root root        874 Jan 12  2020 config.json\n",
            "-rw-rw-r-- 1 root root 1342014951 Jan 12  2020 pytorch_model.bin\n",
            "-rw-r--r-- 1 root root     209528 Jan 21  2020 vocab.txt\n"
          ],
          "name": "stdout"
        }
      ]
    },
    {
      "cell_type": "markdown",
      "metadata": {
        "id": "tu-MjBcD4ls3"
      },
      "source": [
        "##### Carregando o BERT\n",
        "\n",
        "Carregando o **tokenizador** e **modelo** BERT do diretório '/content/modelo/' do diretório padrão.\n",
        "\n",
        "O tokenizador utiliza WordPiece, veja em [artigo original](https://arxiv.org/pdf/1609.08144.pdf).\n",
        "\n",
        "Carregando o tokenizador da pasta '/content/modelo/' do diretório padrão se variável `URL_MODELO` setada.\n",
        "\n",
        "**Caso contrário carrega da comunidade**\n",
        "\n",
        "O parâmetro `do_lower_case=True` Especifica a conversão das letras maiúsculas em minúsculo e a remoção das letras acentuadas. Nesta função o default `False` pois a língua portuguesa possui letras acentuadas(ãçéí...), que são necessárias a língua portuguesa, desta maneira mantendo letras maiúsculas e minúsculas. No método `from_treina from_pretrained` o default é `True` quando o parämetro não é especificado.\n",
        "\n",
        "O parâmetro `do_lower_case` interfere na quantidade tokens a ser gerado apartir de um texto. Quando igual a `False` reduz a quantidade de tokens gerados."
      ]
    },
    {
      "cell_type": "code",
      "metadata": {
        "id": "cMivq-Lk4ls5",
        "colab": {
          "base_uri": "https://localhost:8080/"
        },
        "outputId": "6aa091b4-8ff8-4fae-9025-394eff4d1f06"
      },
      "source": [
        "# Importando as bibliotecas do Modelo e do Tokenizador\n",
        "from transformers import BertModel, BertTokenizer\n",
        "\n",
        "# Se a variável 'fonteBERT' foi setada para 'DIRETORIO_MODELO' faz o download dos arquivos modelo\n",
        "if fonteBERT == 'DIRETORIO_MODELO':\n",
        "\n",
        "    # Carregando o Tokenizador do diretório\n",
        "    print('Carregando o tokenizador BERT_' + tamanhoBERT + ' do diretório ' + DIRETORIO_MODELO + '...')\n",
        "\n",
        "    tokenizer = BertTokenizer.from_pretrained(DIRETORIO_MODELO,\n",
        "                                               do_lower_case=False)   \n",
        "\n",
        "    # Carregando o Modelo do diretório\n",
        "    print('Carregando o modelo BERT_' + tamanhoBERT + ' do diretório ' + DIRETORIO_MODELO + '...')\n",
        "\n",
        "    model = BertModel.from_pretrained(DIRETORIO_MODELO,\n",
        "                                      output_hidden_states = pesosCamadasOcultas) # Se o modelo retorna todos os estados ocultos)\n",
        "\n",
        "else:\n",
        "    # Se a variável 'tamanhoBERT' foi setada para 'base' faz o carregamento do tamanho base do BERT, caso contrário do large.\n",
        "    if tamanhoBERT == 'base':\n",
        "        # Carregando o Tokenizador da comunidade\n",
        "        print('Carregando o tokenizador BERT_base da comunidade...')\n",
        "\n",
        "        tokenizer = BertTokenizer.from_pretrained('neuralmind/bert-base-portuguese-cased',\n",
        "                                                   do_lower_case=False)     \n",
        "\n",
        "        # Carregando o Modelo da comunidade\n",
        "        print('Carregando o modelo BERT_base da comunidade...')\n",
        "\n",
        "        model = BertModel.from_pretrained('neuralmind/bert-base-portuguese-cased', \n",
        "                                          output_hidden_states = pesosCamadasOcultas) # Se o modelo retorna todos os estados ocultos)  \n",
        "    else:\n",
        "        # Carregando o Tokenizador da comunidade  \n",
        "        print('Carregando o tokenizador BERT_large da comunidade...')\n",
        "\n",
        "        tokenizer = BertTokenizer.from_pretrained('neuralmind/bert-large-portuguese-cased',\n",
        "                                                   do_lower_case=False)     \n",
        "\n",
        "        # Carregando o Modelo da comunidade\n",
        "        print('Carregando o modelo BERT_large da comunidade...')\n",
        "\n",
        "        model = BertModel.from_pretrained('neuralmind/bert-large-portuguese-cased', \n",
        "                                          output_hidden_states = pesosCamadasOcultas) # Se o modelo retorna todos os estados ocultos)  \n"
      ],
      "execution_count": null,
      "outputs": [
        {
          "output_type": "stream",
          "text": [
            "Carregando o tokenizador BERT_large do diretório /content/modelo...\n",
            "Carregando o modelo BERT_large do diretório /content/modelo...\n"
          ],
          "name": "stdout"
        },
        {
          "output_type": "stream",
          "text": [
            "Some weights of the model checkpoint at /content/modelo were not used when initializing BertModel: ['cls.predictions.decoder.weight', 'cls.predictions.transform.LayerNorm.weight', 'cls.seq_relationship.bias', 'cls.seq_relationship.weight', 'cls.predictions.transform.dense.weight', 'cls.predictions.transform.dense.bias', 'cls.predictions.transform.LayerNorm.bias', 'cls.predictions.bias']\n",
            "- This IS expected if you are initializing BertModel from the checkpoint of a model trained on another task or with another architecture (e.g. initializing a BertForSequenceClassification model from a BertForPreTraining model).\n",
            "- This IS NOT expected if you are initializing BertModel from the checkpoint of a model that you expect to be exactly identical (initializing a BertForSequenceClassification model from a BertForSequenceClassification model).\n"
          ],
          "name": "stderr"
        }
      ]
    },
    {
      "cell_type": "markdown",
      "metadata": {
        "id": "T7NXsoTTC9rf"
      },
      "source": [
        "#### Usando o BERT da comunidade ou diretório  com uma função que retorna o tokenizador v4\n",
        "\n",
        "Função que retorna o tokenizador do BERT. permite configurar o tamanho do modelo e a fonte do modelo. \n",
        "\n",
        "A linguagem do modelo é especificada internamente na função.\n",
        "\n",
        "O parâmetro  `fonteBERT` com os valores `comunidade` ou `diretório` especifica se deve ser carregado o BERT de um diretório ou da comunidade.\n",
        "\n",
        "O parâmetro `tamanhoBERT` com os valores `base` ou `large` especifica se o tamanho do modelo BERT a ser utilizado.\n",
        "\n",
        "O parâmetro `linguaBERT` com os valores `multilingual`, `portugues` ou `ingles` especifica a lingua do modelo BERT a ser utilizado.\n",
        "\n",
        "O parâmetro `do_lower_case=True` Especifica a conversão das letras maiúsculas em minúsculo e a remoção das letras acentuadas para o tokenizador do BERT. Nesta função o default `False` pois a língua portuguesa possui letras acentuadas(ãçéí...), que são necessárias a língua portuguesa, desta maneira mantendo letras maiúsculas e minúsculas. No método `from_pretrained` o default é `True` quando o parämetro não é especificado.\n",
        "\n",
        "A função retorna o **tokenizador** para os parâmetros especificado"
      ]
    },
    {
      "cell_type": "markdown",
      "metadata": {
        "id": "TCyv5sfgC9rg"
      },
      "source": [
        "##### Declarando uma função que retorna o tokenizador."
      ]
    },
    {
      "cell_type": "code",
      "metadata": {
        "id": "H1siflk0C9rh"
      },
      "source": [
        "# Valores default para os parâmetros da função\n",
        "def getTokenizadorBERT(fonteBERT = 'comunidade', \n",
        "                       tamanhoBERT = 'base', \n",
        "                       linguaBERT = 'portugues',\n",
        "                       do_lower_case = False):\n",
        "\n",
        "    \"\"\"Retorna o tokenizador BERT carregado.\n",
        "    De acordo com os parâmetros especificados ou carrega o BERT da comunidade \n",
        "    ou realiza o download dos arquivos do modelo.\n",
        "\n",
        "    Args:\n",
        "        fonteBERT: Especifica a origem do modelo do BERT 'comunidade' ou 'DIRETORIO_MODELO'.\n",
        "        tamanhoBERT: Especifica o tamanho do modelo do BERT 'large' ou 'base'.\n",
        "        linguaBERT: Especifica a língua do modelo do BERT 'multilingual', 'portugues' ou 'ingles'.\n",
        "        do_lower_case: Especifica se o tokenizador do BERT deve realizar a conversão dos dados de entrada para minúsculo. Para ignorar use o parâmetro do_lower_case=False.\n",
        "\n",
        "    Returns:\n",
        "        `tokenizador` com o tokenizador do modelo BERT carregado.       \n",
        "    \"\"\"\n",
        "    #======================================================================\n",
        "    # Verificação do idioma e tamanho do modelo\n",
        "    #======================================================================\n",
        "    # Verifica se a língua é português e o tamanho do modelo\n",
        "    if linguaBERT == 'multilingual' and tamanhoBERT == 'base':\n",
        "        nome_modelo_bert = 'bert-base-multilingual-cased'\n",
        "    else:\n",
        "        if linguaBERT == 'portugues' and tamanhoBERT == 'base':\n",
        "          nome_modelo_bert = 'neuralmind/bert-base-portuguese-cased'\n",
        "        else:\n",
        "            if linguaBERT == 'portugues' and tamanhoBERT == 'large':\n",
        "              nome_modelo_bert = 'neuralmind/bert-large-portuguese-cased'\n",
        "            else:\n",
        "                # Verifica se a língua é inglés e o tamanho do modelo\n",
        "                if linguaBERT == 'ingles' and tamanhoBERT == 'base':\n",
        "                  nome_modelo_bert = 'bert-base-cased'\n",
        "                else:\n",
        "                    if linguaBERT == 'ingles' and tamanhoBERT == 'large':\n",
        "                      nome_modelo_bert = 'bert-large-cased'\n",
        "                    else:\n",
        "                      print(\"Parâmetros \\'língua\\' e \\'tamanhoBERT\\' especificados incorretamente!\")\n",
        "                      return None, None\n",
        "\n",
        "    #======================================================================\n",
        "    # Download do arquivo do modelo\n",
        "    #======================================================================\n",
        "    #Se a variável 'fonteBERT' foi setada para 'DIRETORIO_MODELO' faz o download dos arquivos modelo\n",
        "    if fonteBERT == 'DIRETORIO_MODELO' and linguaBERT == 'portugues':\n",
        "    \n",
        "      # Se a variável 'tamanhoBERT' foi setada para 'base' faz o download do arquivo do tamanho base do BERT, caso contrário do large.\n",
        "      if tamanhoBERT == 'base':\n",
        "          # Url do arquivo do modelo do Pytorch checkpoint\n",
        "          # arquivo menor(base) 1.1 Gbytes\n",
        "          URL_MODELO = \"https://neuralmind-ai.s3.us-east-2.amazonaws.com/nlp/bert-base-portuguese-cased/bert-base-portuguese-cased_pytorch_checkpoint.zip\"\n",
        "      else:\n",
        "          # Url do arquivo do modelo do Pytorch checkpoint\n",
        "          # arquivo grande(large) 3.5 Gbytes\n",
        "          URL_MODELO = \"https://neuralmind-ai.s3.us-east-2.amazonaws.com/nlp/bert-large-portuguese-cased/bert-large-portuguese-cased_pytorch_checkpoint.zip\"\n",
        "\n",
        "      # Diretório descompactação do modelo\n",
        "      DIRETORIO_MODELO = '/content/modelo' + tamanhoBERT\n",
        "\n",
        "      # Recupera o nome do arquivo do modelo da url anterior\n",
        "      arquivo = URL_MODELO.split(\"/\")[-1]\n",
        "\n",
        "      # Nome do arquivo do vocabulário\n",
        "      arquivo_vocab = \"vocab.txt\"\n",
        "\n",
        "      # Caminho do arquivo na URL_MODELO\n",
        "      caminho = URL_MODELO[0:len(URL_MODELO)-len(arquivo)]\n",
        "\n",
        "      # Verifica se a pasta de descompactação existe na pasta corrente\n",
        "      if os.path.exists(DIRETORIO_MODELO):\n",
        "        print(\"Apagando diretório existente do modelo!\")\n",
        "        # Apaga a pasta e os arquivos existentes\n",
        "        !rm -rf $DIRETORIO_MODELO  \n",
        "\n",
        "      # Realiza o download do arquivo do modelo\n",
        "      !wget $URL_MODELO\n",
        "    \n",
        "      # Descompacta o arquivo na pasta de destino\n",
        "      !unzip -o $arquivo -d $DIRETORIO_MODELO\n",
        "\n",
        "      # Realiza o download do arquivo do vocabulário\n",
        "      # O vocabulário não está no arquivo compactado acima\n",
        "      # Concatena o caminho do modelo mais o nome do arquivo do vocabulário\n",
        "      URL_MODELO_VOCAB = caminho + arquivo_vocab\n",
        "\n",
        "      # Realiza o download do arquivo do vocabulário\n",
        "      !wget $URL_MODELO_VOCAB\n",
        "    \n",
        "      # Move o arquivo do vocabulário para o diretório do modelo\n",
        "      !mv $arquivo_vocab $DIRETORIO_MODELO\n",
        "            \n",
        "      # Move o arquivo do modelo para o diretório do modelo\n",
        "      !mv $arquivo $DIRETORIO_MODELO      \n",
        "                \n",
        "      print('Diretório do modelo:\\'' + DIRETORIO_MODELO + '\\' pronta!')\n",
        "      \n",
        "    else:\n",
        "        if linguaBERT == 'ingles':\n",
        "            print('O modelo BERT na língua inglesa deve ser carregado somente da comunidade.')\n",
        "       \n",
        "    #======================================================================\n",
        "    # Carregamento do tokenizador\n",
        "    #======================================================================\n",
        "\n",
        "    # Importando as bibliotecas do Tokenizador\n",
        "    from transformers import BertTokenizer\n",
        "\n",
        "    # Se a variável 'fonteBERT' foi setada para 'DIRETORIO_MODELO' faz o download dos arquivos modelo\n",
        "    # Carregamento de diretório somente para a língua portuguesa\n",
        "    if fonteBERT == 'DIRETORIO_MODELO' and linguaBERT == 'portugues':\n",
        "\n",
        "        # Carregando o Tokenizador do diretório\n",
        "        print('Carregando o tokenizador BERT_' + tamanhoBERT \n",
        "              + ' do diretório \\'' + DIRETORIO_MODELO \n",
        "              + '\\' em língua \\''+ linguaBERT + '\\'...')\n",
        "\n",
        "        tokenizer = BertTokenizer.from_pretrained(DIRETORIO_MODELO,\n",
        "                                                  do_lower_case=do_lower_case)\n",
        "    else:\n",
        "        # Carregando o Tokenizador da comunidade\n",
        "        print('Carregando o tokenizador BERT \\'' + nome_modelo_bert \n",
        "              + '\\' da comunidade em língua \\''+ linguaBERT + '\\'...')\n",
        "\n",
        "        tokenizer = BertTokenizer.from_pretrained(nome_modelo_bert,\n",
        "                                                  do_lower_case=do_lower_case)\n",
        "\n",
        "    # Retorna o tokenizador BERT carregado           \n",
        "    return tokenizer"
      ],
      "execution_count": null,
      "outputs": []
    },
    {
      "cell_type": "markdown",
      "metadata": {
        "id": "MemXlw5fC9rl"
      },
      "source": [
        "##### Usando a função **getTokenizadorBERT()**"
      ]
    },
    {
      "cell_type": "code",
      "metadata": {
        "id": "W2dSJJQsC9rl",
        "colab": {
          "base_uri": "https://localhost:8080/"
        },
        "outputId": "e9cf7239-1e54-49bc-9c4f-bcf5a030b8b4"
      },
      "source": [
        "tokenizador = getTokenizadorBERT()\n",
        "\n",
        "del tokenizador"
      ],
      "execution_count": null,
      "outputs": [
        {
          "output_type": "stream",
          "text": [
            "Carregando o tokenizador BERT 'neuralmind/bert-base-portuguese-cased' da comunidade em língua 'portugues'...\n"
          ],
          "name": "stdout"
        }
      ]
    },
    {
      "cell_type": "code",
      "metadata": {
        "id": "gK9EVQjTC9ro",
        "colab": {
          "base_uri": "https://localhost:8080/",
          "height": 230,
          "referenced_widgets": [
            "b01f97fcdc214d4cb77968337dc53dec",
            "a48b780023a340bf8b11ce457202b676",
            "6035ce58ad04420ab1064a7c031ba9be",
            "d018813a4a6d414ca837afbce54fcf0f",
            "6927cfc549c64abd837677328d773eeb",
            "52e00579d15c415aba8692cfa09cd926",
            "b926115042a044f78268d3d680369a89",
            "bb1d72affd4a4e0180ae28f4ba82de57",
            "2629868f4e2449638f80db9b384d939e",
            "fb7578cab3ec434d8e8b38295f752ff2",
            "8ed8168ada8c4ba69d4b9a8ef1da9a3a",
            "4853426001df4cef843181526a7137e8",
            "1a194155e4ca4d66b57cc3b832bc7cde",
            "e5b01c70c0e6426ab790c1e34294adcc",
            "cadecb5798dd41ec9a79f589dcc80ed8",
            "107a11f854724ba7add6f9ad5c1ccf69",
            "4bc10fd6f6a7453a8e932a7fe4a60256",
            "52c239422b3142fa810a6eb12a0c5fe7",
            "42712885fd7c46d5af1c1adc56e313e2",
            "37812f5738f643e593171dcbd5ac14fc",
            "ed921dc169c8492ca76846f77b5c010e",
            "8b24b9608af146a587fd63181437b363",
            "ca00c70aa4a244c49df68948ff49691c",
            "196720b5f2aa490b8e9da7485d90740b",
            "49d72440ad3144f8909165a564f28b10",
            "c9f2f0c9c8754afead865d39e1c770f0",
            "00bf1f6ee6594db99c22d1b587431cbc",
            "023da2420aea40409dd6923761e973ec",
            "40166f2709f04792a838bd784ef7a0a1",
            "abc19f721ed14b3d9cba7c1f7354b66d",
            "c61d81c8ffa4417ca75bfc857c180262",
            "58a1c404a57f45e7a2ab47f7a8174ed1"
          ]
        },
        "outputId": "a687ad8a-ecec-4d67-808d-e96841a51e79"
      },
      "source": [
        "tokenizador = getTokenizadorBERT(tamanhoBERT = 'large')\n",
        "\n",
        "del tokenizador"
      ],
      "execution_count": null,
      "outputs": [
        {
          "output_type": "stream",
          "text": [
            "Carregando o tokenizador BERT 'neuralmind/bert-large-portuguese-cased' da comunidade em língua 'portugues'...\n"
          ],
          "name": "stdout"
        },
        {
          "output_type": "display_data",
          "data": {
            "application/vnd.jupyter.widget-view+json": {
              "model_id": "b01f97fcdc214d4cb77968337dc53dec",
              "version_minor": 0,
              "version_major": 2
            },
            "text/plain": [
              "HBox(children=(FloatProgress(value=0.0, description='Downloading', max=209528.0, style=ProgressStyle(descripti…"
            ]
          },
          "metadata": {
            "tags": []
          }
        },
        {
          "output_type": "stream",
          "text": [
            "\n"
          ],
          "name": "stdout"
        },
        {
          "output_type": "display_data",
          "data": {
            "application/vnd.jupyter.widget-view+json": {
              "model_id": "2629868f4e2449638f80db9b384d939e",
              "version_minor": 0,
              "version_major": 2
            },
            "text/plain": [
              "HBox(children=(FloatProgress(value=0.0, description='Downloading', max=2.0, style=ProgressStyle(description_wi…"
            ]
          },
          "metadata": {
            "tags": []
          }
        },
        {
          "output_type": "stream",
          "text": [
            "\n"
          ],
          "name": "stdout"
        },
        {
          "output_type": "display_data",
          "data": {
            "application/vnd.jupyter.widget-view+json": {
              "model_id": "4bc10fd6f6a7453a8e932a7fe4a60256",
              "version_minor": 0,
              "version_major": 2
            },
            "text/plain": [
              "HBox(children=(FloatProgress(value=0.0, description='Downloading', max=112.0, style=ProgressStyle(description_…"
            ]
          },
          "metadata": {
            "tags": []
          }
        },
        {
          "output_type": "stream",
          "text": [
            "\n"
          ],
          "name": "stdout"
        },
        {
          "output_type": "display_data",
          "data": {
            "application/vnd.jupyter.widget-view+json": {
              "model_id": "49d72440ad3144f8909165a564f28b10",
              "version_minor": 0,
              "version_major": 2
            },
            "text/plain": [
              "HBox(children=(FloatProgress(value=0.0, description='Downloading', max=155.0, style=ProgressStyle(description_…"
            ]
          },
          "metadata": {
            "tags": []
          }
        },
        {
          "output_type": "stream",
          "text": [
            "\n"
          ],
          "name": "stdout"
        }
      ]
    },
    {
      "cell_type": "code",
      "metadata": {
        "id": "-pylw2QuC9rr",
        "colab": {
          "base_uri": "https://localhost:8080/"
        },
        "outputId": "c729a1cd-841a-47a2-c7d4-6d48c5c50d43"
      },
      "source": [
        "tokenizador = getTokenizadorBERT(tamanhoBERT = 'base')\n",
        "\n",
        "del tokenizador"
      ],
      "execution_count": null,
      "outputs": [
        {
          "output_type": "stream",
          "text": [
            "Carregando o tokenizador BERT 'neuralmind/bert-base-portuguese-cased' da comunidade em língua 'portugues'...\n"
          ],
          "name": "stdout"
        }
      ]
    },
    {
      "cell_type": "code",
      "metadata": {
        "id": "8JZqO28VC9rt",
        "colab": {
          "base_uri": "https://localhost:8080/"
        },
        "outputId": "afdce093-1f53-4b68-fbf5-dbde37fc3a7b"
      },
      "source": [
        "tokenizador = getTokenizadorBERT(fonteBERT = 'DIRETORIO_MODELO', \n",
        "                      tamanhoBERT = 'base')\n",
        "\n",
        "del tokenizador"
      ],
      "execution_count": null,
      "outputs": [
        {
          "output_type": "stream",
          "text": [
            "--2021-05-27 23:07:53--  https://neuralmind-ai.s3.us-east-2.amazonaws.com/nlp/bert-base-portuguese-cased/bert-base-portuguese-cased_pytorch_checkpoint.zip\n",
            "Resolving neuralmind-ai.s3.us-east-2.amazonaws.com (neuralmind-ai.s3.us-east-2.amazonaws.com)... 52.219.104.192\n",
            "Connecting to neuralmind-ai.s3.us-east-2.amazonaws.com (neuralmind-ai.s3.us-east-2.amazonaws.com)|52.219.104.192|:443... connected.\n",
            "HTTP request sent, awaiting response... 200 OK\n",
            "Length: 406220891 (387M) [application/zip]\n",
            "Saving to: ‘bert-base-portuguese-cased_pytorch_checkpoint.zip’\n",
            "\n",
            "bert-base-portugues 100%[===================>] 387.40M  92.0MB/s    in 4.3s    \n",
            "\n",
            "2021-05-27 23:07:57 (89.2 MB/s) - ‘bert-base-portuguese-cased_pytorch_checkpoint.zip’ saved [406220891/406220891]\n",
            "\n",
            "Archive:  bert-base-portuguese-cased_pytorch_checkpoint.zip\n",
            "  inflating: /content/modelobase/config.json  \n",
            "  inflating: /content/modelobase/pytorch_model.bin  \n",
            "--2021-05-27 23:08:03--  https://neuralmind-ai.s3.us-east-2.amazonaws.com/nlp/bert-base-portuguese-cased/vocab.txt\n",
            "Resolving neuralmind-ai.s3.us-east-2.amazonaws.com (neuralmind-ai.s3.us-east-2.amazonaws.com)... 52.219.102.194\n",
            "Connecting to neuralmind-ai.s3.us-east-2.amazonaws.com (neuralmind-ai.s3.us-east-2.amazonaws.com)|52.219.102.194|:443... connected.\n",
            "HTTP request sent, awaiting response... 200 OK\n",
            "Length: 209528 (205K) [text/plain]\n",
            "Saving to: ‘vocab.txt’\n",
            "\n",
            "vocab.txt           100%[===================>] 204.62K  --.-KB/s    in 0.08s   \n",
            "\n",
            "2021-05-27 23:08:03 (2.46 MB/s) - ‘vocab.txt’ saved [209528/209528]\n",
            "\n",
            "Diretório do modelo:'/content/modelobase' pronta!\n",
            "Carregando o tokenizador BERT_base do diretório '/content/modelobase' em língua 'portugues'...\n"
          ],
          "name": "stdout"
        }
      ]
    },
    {
      "cell_type": "code",
      "metadata": {
        "id": "SxPhkiHgC9rw",
        "colab": {
          "base_uri": "https://localhost:8080/"
        },
        "outputId": "1d97c1c8-7da6-42d1-c923-918f7b54a8f9"
      },
      "source": [
        "tokenizador = getTokenizadorBERT(fonteBERT = 'DIRETORIO_MODELO', \n",
        "                      tamanhoBERT = 'large', \n",
        "                      linguaBERT = 'portugues')\n",
        "\n",
        "del tokenizador"
      ],
      "execution_count": null,
      "outputs": [
        {
          "output_type": "stream",
          "text": [
            "--2021-05-27 23:08:04--  https://neuralmind-ai.s3.us-east-2.amazonaws.com/nlp/bert-large-portuguese-cased/bert-large-portuguese-cased_pytorch_checkpoint.zip\n",
            "Resolving neuralmind-ai.s3.us-east-2.amazonaws.com (neuralmind-ai.s3.us-east-2.amazonaws.com)... 52.219.102.194\n",
            "Connecting to neuralmind-ai.s3.us-east-2.amazonaws.com (neuralmind-ai.s3.us-east-2.amazonaws.com)|52.219.102.194|:443... connected.\n",
            "HTTP request sent, awaiting response... 200 OK\n",
            "Length: 1244275810 (1.2G) [application/zip]\n",
            "Saving to: ‘bert-large-portuguese-cased_pytorch_checkpoint.zip’\n",
            "\n",
            "bert-large-portugue 100%[===================>]   1.16G  92.4MB/s    in 13s     \n",
            "\n",
            "2021-05-27 23:08:17 (91.0 MB/s) - ‘bert-large-portuguese-cased_pytorch_checkpoint.zip’ saved [1244275810/1244275810]\n",
            "\n",
            "Archive:  bert-large-portuguese-cased_pytorch_checkpoint.zip\n",
            "  inflating: /content/modelolarge/config.json  \n",
            "  inflating: /content/modelolarge/pytorch_model.bin  \n",
            "--2021-05-27 23:08:32--  https://neuralmind-ai.s3.us-east-2.amazonaws.com/nlp/bert-large-portuguese-cased/vocab.txt\n",
            "Resolving neuralmind-ai.s3.us-east-2.amazonaws.com (neuralmind-ai.s3.us-east-2.amazonaws.com)... 52.219.80.120\n",
            "Connecting to neuralmind-ai.s3.us-east-2.amazonaws.com (neuralmind-ai.s3.us-east-2.amazonaws.com)|52.219.80.120|:443... connected.\n",
            "HTTP request sent, awaiting response... 200 OK\n",
            "Length: 209528 (205K) [text/plain]\n",
            "Saving to: ‘vocab.txt’\n",
            "\n",
            "vocab.txt           100%[===================>] 204.62K  --.-KB/s    in 0.1s    \n",
            "\n",
            "2021-05-27 23:08:33 (1.89 MB/s) - ‘vocab.txt’ saved [209528/209528]\n",
            "\n",
            "Diretório do modelo:'/content/modelolarge' pronta!\n",
            "Carregando o tokenizador BERT_large do diretório '/content/modelolarge' em língua 'portugues'...\n"
          ],
          "name": "stdout"
        }
      ]
    },
    {
      "cell_type": "code",
      "metadata": {
        "id": "ch9g2K7JC9ry",
        "colab": {
          "base_uri": "https://localhost:8080/"
        },
        "outputId": "fe296f11-2131-489a-837b-9e0b6bb70480"
      },
      "source": [
        "tokenizador = getTokenizadorBERT(fonteBERT = 'DIRETORIO_MODELO', \n",
        "                                 tamanhoBERT = 'base', \n",
        "                                 linguaBERT = 'portugues')\n",
        "\n",
        "del tokenizador"
      ],
      "execution_count": null,
      "outputs": [
        {
          "output_type": "stream",
          "text": [
            "Apagando diretório existente do modelo!\n",
            "--2021-05-27 23:08:34--  https://neuralmind-ai.s3.us-east-2.amazonaws.com/nlp/bert-base-portuguese-cased/bert-base-portuguese-cased_pytorch_checkpoint.zip\n",
            "Resolving neuralmind-ai.s3.us-east-2.amazonaws.com (neuralmind-ai.s3.us-east-2.amazonaws.com)... 52.219.80.120\n",
            "Connecting to neuralmind-ai.s3.us-east-2.amazonaws.com (neuralmind-ai.s3.us-east-2.amazonaws.com)|52.219.80.120|:443... connected.\n",
            "HTTP request sent, awaiting response... 200 OK\n",
            "Length: 406220891 (387M) [application/zip]\n",
            "Saving to: ‘bert-base-portuguese-cased_pytorch_checkpoint.zip’\n",
            "\n",
            "bert-base-portugues 100%[===================>] 387.40M  90.8MB/s    in 4.5s    \n",
            "\n",
            "2021-05-27 23:08:38 (85.9 MB/s) - ‘bert-base-portuguese-cased_pytorch_checkpoint.zip’ saved [406220891/406220891]\n",
            "\n",
            "Archive:  bert-base-portuguese-cased_pytorch_checkpoint.zip\n",
            "  inflating: /content/modelobase/config.json  \n",
            "  inflating: /content/modelobase/pytorch_model.bin  \n",
            "--2021-05-27 23:08:44--  https://neuralmind-ai.s3.us-east-2.amazonaws.com/nlp/bert-base-portuguese-cased/vocab.txt\n",
            "Resolving neuralmind-ai.s3.us-east-2.amazonaws.com (neuralmind-ai.s3.us-east-2.amazonaws.com)... 52.219.103.26\n",
            "Connecting to neuralmind-ai.s3.us-east-2.amazonaws.com (neuralmind-ai.s3.us-east-2.amazonaws.com)|52.219.103.26|:443... connected.\n",
            "HTTP request sent, awaiting response... 200 OK\n",
            "Length: 209528 (205K) [text/plain]\n",
            "Saving to: ‘vocab.txt’\n",
            "\n",
            "vocab.txt           100%[===================>] 204.62K  --.-KB/s    in 0.1s    \n",
            "\n",
            "2021-05-27 23:08:44 (1.85 MB/s) - ‘vocab.txt’ saved [209528/209528]\n",
            "\n",
            "Diretório do modelo:'/content/modelobase' pronta!\n",
            "Carregando o tokenizador BERT_base do diretório '/content/modelobase' em língua 'portugues'...\n"
          ],
          "name": "stdout"
        }
      ]
    },
    {
      "cell_type": "code",
      "metadata": {
        "id": "wqAOEy4KC9r1",
        "colab": {
          "base_uri": "https://localhost:8080/"
        },
        "outputId": "a73c6fd3-5045-4da9-9f17-463a6014c3aa"
      },
      "source": [
        "tokenizador = getTokenizadorBERT(fonteBERT = 'comunidade', \n",
        "                      tamanhoBERT = 'large', \n",
        "                      linguaBERT = 'portugues')\n",
        "\n",
        "del tokenizador"
      ],
      "execution_count": null,
      "outputs": [
        {
          "output_type": "stream",
          "text": [
            "Carregando o tokenizador BERT 'neuralmind/bert-large-portuguese-cased' da comunidade em língua 'portugues'...\n"
          ],
          "name": "stdout"
        }
      ]
    },
    {
      "cell_type": "code",
      "metadata": {
        "id": "7yZilzc7C9r3",
        "colab": {
          "base_uri": "https://localhost:8080/"
        },
        "outputId": "fe26f7e3-e7d2-4d88-bc62-9a292c2d624f"
      },
      "source": [
        "tokenizador = getTokenizadorBERT(fonteBERT = 'comunidade', \n",
        "                                 tamanhoBERT = 'base', \n",
        "                                 linguaBERT = 'portugues')\n",
        "\n",
        "del tokenizador"
      ],
      "execution_count": null,
      "outputs": [
        {
          "output_type": "stream",
          "text": [
            "Carregando o tokenizador BERT 'neuralmind/bert-base-portuguese-cased' da comunidade em língua 'portugues'...\n"
          ],
          "name": "stdout"
        }
      ]
    },
    {
      "cell_type": "code",
      "metadata": {
        "id": "wmcpd7bgC9r7",
        "colab": {
          "base_uri": "https://localhost:8080/",
          "height": 198,
          "referenced_widgets": [
            "9c6260ab8c0b4983b7e6df856024d531",
            "919ff310733649caa037f2dc5277c5cb",
            "90df069d5cda4b1896786b2d73e3e0fa",
            "fb5e5a3094b84c7398feaedb3ee2bf44",
            "cddd59e788e4442bba2dda363b199a19",
            "c18dc958ac03464f9480c850f25017af",
            "394a1af227674746beae18713f66e84f",
            "a3733a884eb248c2808732a336fe088b",
            "689e120661ee42539a8ad6a32fb12daa",
            "85bd0f8e5a544469b9dae93853c4b9af",
            "c6a159f65bb540009990b601394cd806",
            "12d9cb9ab81545639f8407f3c086942d",
            "ff43d8cb111d4af28a63fa1b0d8adb60",
            "678d68aa2eca4045b7764ec223114bcb",
            "c210805e04944fcfb4e9595dd910e6ac",
            "2cdac9aad1a24fad8046ac287162b388",
            "e2773a8b7cf34459a6e83c2a83dfd139",
            "d14841ac185e447983ee587f9ceb0344",
            "94f57f4e473e46538b63bc7c048a3a65",
            "6d6feaa4443845a1ac6350a9ceae8e1d",
            "1969af53d66c42bd9022d46ac931cf16",
            "7dbccb4dd13d4599a46ce5ae582ead62",
            "3f0db394d89a4a09b9ce4a37bc9cd74e",
            "0120b964f2824c70972af7ec54a5872a"
          ]
        },
        "outputId": "583d18eb-b9ca-401a-e6b1-2e7247a2c2bd"
      },
      "source": [
        "tokenizador  = getTokenizadorBERT(tamanhoBERT = 'large', \n",
        "                                  linguaBERT = 'ingles')\n",
        "\n",
        "del tokenizador"
      ],
      "execution_count": null,
      "outputs": [
        {
          "output_type": "stream",
          "text": [
            "O modelo BERT na língua inglesa deve ser carregado somente da comunidade.\n",
            "Carregando o tokenizador BERT 'bert-large-cased' da comunidade em língua 'ingles'...\n"
          ],
          "name": "stdout"
        },
        {
          "output_type": "display_data",
          "data": {
            "application/vnd.jupyter.widget-view+json": {
              "model_id": "9c6260ab8c0b4983b7e6df856024d531",
              "version_minor": 0,
              "version_major": 2
            },
            "text/plain": [
              "HBox(children=(FloatProgress(value=0.0, description='Downloading', max=213450.0, style=ProgressStyle(descripti…"
            ]
          },
          "metadata": {
            "tags": []
          }
        },
        {
          "output_type": "stream",
          "text": [
            "\n"
          ],
          "name": "stdout"
        },
        {
          "output_type": "display_data",
          "data": {
            "application/vnd.jupyter.widget-view+json": {
              "model_id": "689e120661ee42539a8ad6a32fb12daa",
              "version_minor": 0,
              "version_major": 2
            },
            "text/plain": [
              "HBox(children=(FloatProgress(value=0.0, description='Downloading', max=29.0, style=ProgressStyle(description_w…"
            ]
          },
          "metadata": {
            "tags": []
          }
        },
        {
          "output_type": "stream",
          "text": [
            "\n"
          ],
          "name": "stdout"
        },
        {
          "output_type": "display_data",
          "data": {
            "application/vnd.jupyter.widget-view+json": {
              "model_id": "e2773a8b7cf34459a6e83c2a83dfd139",
              "version_minor": 0,
              "version_major": 2
            },
            "text/plain": [
              "HBox(children=(FloatProgress(value=0.0, description='Downloading', max=435797.0, style=ProgressStyle(descripti…"
            ]
          },
          "metadata": {
            "tags": []
          }
        },
        {
          "output_type": "stream",
          "text": [
            "\n"
          ],
          "name": "stdout"
        }
      ]
    },
    {
      "cell_type": "code",
      "metadata": {
        "id": "EtLgJEEGC9r-",
        "colab": {
          "base_uri": "https://localhost:8080/",
          "height": 198,
          "referenced_widgets": [
            "56557b5de5fc4092854f3326fd396bf1",
            "4939bccb294c4215975fd1b197170c14",
            "2ad7128661cf4c739773c3827f476e88",
            "73b270d73f594f51a127651ac609f166",
            "4aa6eae1e9c94170974e12d20b73d423",
            "509c1911049d41d7862cfa9a700e13b4",
            "01e6c5c42ce54fd89bf162f98d2b1f6b",
            "279c6b5eb19f498eb81135b4bcdbe096",
            "e4accaae67054e20b92b21dd3eff8724",
            "124128f81b2c44d188b1f6b85805cf5a",
            "a0b9384effe0442c88bbbbe71c82c68b",
            "409759a4ef2f4c8fab777055c5b6a3f7",
            "16a3bd6ccf544e4088a49eda1f54638c",
            "0b7186791fb24b9b8ebaf2a5e9cdc3be",
            "543fa91fdfd040c7823fd74220e55d89",
            "1be7821a03a54948a3f9cce202127128",
            "520d9b3296d8485e8d184e78462751e6",
            "c919414fb1104b1387571330c2c043ff",
            "5515d7aaa3534066affcd22eabc53ce7",
            "70d9be175d2c43658182a98a89ffb2b9",
            "1cc9d00fc0954493b9c6f6d838486662",
            "5e0fbfab3cf248dc857d2f46f1217954",
            "322b246fd3a849d689754c6cee483112",
            "136014cd219944cfb0bac07d68635543"
          ]
        },
        "outputId": "fd09b945-6963-4d54-e48b-74626e9b0d16"
      },
      "source": [
        "tokenizador = getTokenizadorBERT(tamanhoBERT = 'base', \n",
        "                                 linguaBERT = 'ingles')\n",
        "\n",
        "del tokenizador"
      ],
      "execution_count": null,
      "outputs": [
        {
          "output_type": "stream",
          "text": [
            "O modelo BERT na língua inglesa deve ser carregado somente da comunidade.\n",
            "Carregando o tokenizador BERT 'bert-base-cased' da comunidade em língua 'ingles'...\n"
          ],
          "name": "stdout"
        },
        {
          "output_type": "display_data",
          "data": {
            "application/vnd.jupyter.widget-view+json": {
              "model_id": "56557b5de5fc4092854f3326fd396bf1",
              "version_minor": 0,
              "version_major": 2
            },
            "text/plain": [
              "HBox(children=(FloatProgress(value=0.0, description='Downloading', max=213450.0, style=ProgressStyle(descripti…"
            ]
          },
          "metadata": {
            "tags": []
          }
        },
        {
          "output_type": "stream",
          "text": [
            "\n"
          ],
          "name": "stdout"
        },
        {
          "output_type": "display_data",
          "data": {
            "application/vnd.jupyter.widget-view+json": {
              "model_id": "e4accaae67054e20b92b21dd3eff8724",
              "version_minor": 0,
              "version_major": 2
            },
            "text/plain": [
              "HBox(children=(FloatProgress(value=0.0, description='Downloading', max=29.0, style=ProgressStyle(description_w…"
            ]
          },
          "metadata": {
            "tags": []
          }
        },
        {
          "output_type": "stream",
          "text": [
            "\n"
          ],
          "name": "stdout"
        },
        {
          "output_type": "display_data",
          "data": {
            "application/vnd.jupyter.widget-view+json": {
              "model_id": "520d9b3296d8485e8d184e78462751e6",
              "version_minor": 0,
              "version_major": 2
            },
            "text/plain": [
              "HBox(children=(FloatProgress(value=0.0, description='Downloading', max=435797.0, style=ProgressStyle(descripti…"
            ]
          },
          "metadata": {
            "tags": []
          }
        },
        {
          "output_type": "stream",
          "text": [
            "\n"
          ],
          "name": "stdout"
        }
      ]
    },
    {
      "cell_type": "code",
      "metadata": {
        "id": "1IxywOwUC9sA",
        "colab": {
          "base_uri": "https://localhost:8080/"
        },
        "outputId": "08e1db4f-1d60-4dcb-849b-619bc1ccbe6d"
      },
      "source": [
        "tokenizador = getTokenizadorBERT(fonteBERT = 'DIRETORIO_MODELO', \n",
        "                                tamanhoBERT = 'large', \n",
        "                                linguaBERT = 'ingles')\n",
        "\n",
        "del tokenizador"
      ],
      "execution_count": null,
      "outputs": [
        {
          "output_type": "stream",
          "text": [
            "O modelo BERT na língua inglesa deve ser carregado somente da comunidade.\n",
            "Carregando o tokenizador BERT 'bert-large-cased' da comunidade em língua 'ingles'...\n"
          ],
          "name": "stdout"
        }
      ]
    },
    {
      "cell_type": "code",
      "metadata": {
        "id": "aoH_mQBaC9sC",
        "colab": {
          "base_uri": "https://localhost:8080/"
        },
        "outputId": "79036a8a-7459-4c67-ffac-a3e00f59960d"
      },
      "source": [
        "tokenizador = getTokenizadorBERT(fonteBERT = 'DIRETORIO_MODELO', \n",
        "                                 tamanhoBERT = 'base', \n",
        "                                 linguaBERT = 'ingles')\n",
        "\n",
        "del tokenizador"
      ],
      "execution_count": null,
      "outputs": [
        {
          "output_type": "stream",
          "text": [
            "O modelo BERT na língua inglesa deve ser carregado somente da comunidade.\n",
            "Carregando o tokenizador BERT 'bert-base-cased' da comunidade em língua 'ingles'...\n"
          ],
          "name": "stdout"
        }
      ]
    },
    {
      "cell_type": "code",
      "metadata": {
        "id": "PsVXks6PC9sE",
        "colab": {
          "base_uri": "https://localhost:8080/"
        },
        "outputId": "8ab52443-9940-4537-a133-40762f9a2f73"
      },
      "source": [
        "tokenizador = getTokenizadorBERT(fonteBERT = 'comunidade', \n",
        "                                 tamanhoBERT = 'large', \n",
        "                                 linguaBERT = 'ingles')\n",
        "\n",
        "del tokenizador"
      ],
      "execution_count": null,
      "outputs": [
        {
          "output_type": "stream",
          "text": [
            "O modelo BERT na língua inglesa deve ser carregado somente da comunidade.\n",
            "Carregando o tokenizador BERT 'bert-large-cased' da comunidade em língua 'ingles'...\n"
          ],
          "name": "stdout"
        }
      ]
    },
    {
      "cell_type": "code",
      "metadata": {
        "id": "uJ1NiUxgC9sH",
        "colab": {
          "base_uri": "https://localhost:8080/"
        },
        "outputId": "e775fea6-82f0-4cb6-f4d3-b1e793d2e2f7"
      },
      "source": [
        "tokenizador = getTokenizadorBERT(fonteBERT = 'comunidade', \n",
        "                                 tamanhoBERT = 'base', \n",
        "                                 linguaBERT = 'ingles') \n",
        "\n",
        "del tokenizador"
      ],
      "execution_count": null,
      "outputs": [
        {
          "output_type": "stream",
          "text": [
            "O modelo BERT na língua inglesa deve ser carregado somente da comunidade.\n",
            "Carregando o tokenizador BERT 'bert-base-cased' da comunidade em língua 'ingles'...\n"
          ],
          "name": "stdout"
        }
      ]
    },
    {
      "cell_type": "code",
      "metadata": {
        "colab": {
          "base_uri": "https://localhost:8080/",
          "height": 181,
          "referenced_widgets": [
            "8e252690d4e4496d8f5b333549c15898",
            "a586d8f2a731423b89a4f3bfca64a1cf",
            "889d6172655044db81e90dec049b70b2",
            "f940ecbee33344ab8d026277b2d90e29",
            "437628de15334aeea1706ba9f3b1fc1c",
            "9e443d41b3de4d42a4bd3262c8d6e4c7",
            "f1e5ee02dc474b78aeb9a1c173348933",
            "59d944607a2840a8902c64c03c417d20",
            "b85db07858274970b3379b2e37b10153",
            "136536a370ea40d491d945392bfc0e63",
            "7674b95bd6e04556bb9d757433f079d2",
            "fc7c4600e0a64287bd442a742b471d16",
            "2973f2cc84d3421ea75a5cc78a9b1145",
            "acd1479a848047bd9dccd16d8be6a17f",
            "823534be745148858f8db83110a14732",
            "d16ee039dce04fc2a055a2d61a3724f6",
            "94f0297cff4f446e9676f8a6a70a04a0",
            "5276e376a66e4b8d9fc863b7df026fde",
            "2b888cac4300426bb55a99594e0952ff",
            "147ceca216864127ab0a9f588ec43c4d",
            "80e5feba731a4ab699b04790bb2496f2",
            "2cf6064c5e0e495a8c2f85f3b538a6ff",
            "de07eff31526495d9b8e2571eec4a974",
            "f2b18061b8344a078d3bc94ca26ac123"
          ]
        },
        "id": "LTBM51qyTJEX",
        "outputId": "d128ec92-e173-4dfd-9b1d-b0b726d074c3"
      },
      "source": [
        "tokenizador = getTokenizadorBERT(fonteBERT = 'comunidade', \n",
        "                                 tamanhoBERT = 'base', \n",
        "                                 linguaBERT = 'multilingual') \n",
        "\n",
        "del tokenizador"
      ],
      "execution_count": null,
      "outputs": [
        {
          "output_type": "stream",
          "text": [
            "Carregando o tokenizador BERT 'bert-base-multilingual-cased' da comunidade em língua 'multilingual'...\n"
          ],
          "name": "stdout"
        },
        {
          "output_type": "display_data",
          "data": {
            "application/vnd.jupyter.widget-view+json": {
              "model_id": "8e252690d4e4496d8f5b333549c15898",
              "version_minor": 0,
              "version_major": 2
            },
            "text/plain": [
              "HBox(children=(FloatProgress(value=0.0, description='Downloading', max=995526.0, style=ProgressStyle(descripti…"
            ]
          },
          "metadata": {
            "tags": []
          }
        },
        {
          "output_type": "stream",
          "text": [
            "\n"
          ],
          "name": "stdout"
        },
        {
          "output_type": "display_data",
          "data": {
            "application/vnd.jupyter.widget-view+json": {
              "model_id": "b85db07858274970b3379b2e37b10153",
              "version_minor": 0,
              "version_major": 2
            },
            "text/plain": [
              "HBox(children=(FloatProgress(value=0.0, description='Downloading', max=29.0, style=ProgressStyle(description_w…"
            ]
          },
          "metadata": {
            "tags": []
          }
        },
        {
          "output_type": "stream",
          "text": [
            "\n"
          ],
          "name": "stdout"
        },
        {
          "output_type": "display_data",
          "data": {
            "application/vnd.jupyter.widget-view+json": {
              "model_id": "94f0297cff4f446e9676f8a6a70a04a0",
              "version_minor": 0,
              "version_major": 2
            },
            "text/plain": [
              "HBox(children=(FloatProgress(value=0.0, description='Downloading', max=1961828.0, style=ProgressStyle(descript…"
            ]
          },
          "metadata": {
            "tags": []
          }
        },
        {
          "output_type": "stream",
          "text": [
            "\n"
          ],
          "name": "stdout"
        }
      ]
    },
    {
      "cell_type": "code",
      "metadata": {
        "id": "EiwRA1m9C9sQ",
        "colab": {
          "base_uri": "https://localhost:8080/"
        },
        "outputId": "e66ce8a6-a369-4cdb-9548-d5adcaf38d46"
      },
      "source": [
        "import gc\n",
        "gc.collect()"
      ],
      "execution_count": null,
      "outputs": [
        {
          "output_type": "execute_result",
          "data": {
            "text/plain": [
              "118"
            ]
          },
          "metadata": {
            "tags": []
          },
          "execution_count": 28
        }
      ]
    },
    {
      "cell_type": "markdown",
      "metadata": {
        "id": "TnCNWElNFi49"
      },
      "source": [
        "#### Usando o BERT da comunidade ou diretório com uma função que retorna o modelo v5\n",
        "\n",
        "Função que retorna modelo do BERT. permite configurar o tamanho do modelo e a fonte do modelo. \n",
        "\n",
        "A linguagem do modelo é especificada internamente na função.\n",
        "\n",
        "O parâmetro  `fonteBERT` com os valores `comunidade` ou `diretório` especifica se deve ser carregado o BERT de um diretório ou da comunidade.\n",
        "\n",
        "O parâmetro `tamanhoBERT` com os valores `base` ou `large` especifica se o tamanho do modelo BERT a ser utilizado.\n",
        "\n",
        "O parâmetro `linguaBERT` com os valores `multilingual`, `portugues` ou `ingles` especifica a lingua do modelo BERT a ser utilizado.\n",
        "\n",
        "O parâmetro `pesosCamadasOcultas` com os valores `True` ou `False` especifica se é para gerar e retornar os pesos das camadas ocultas.\n",
        "\n",
        "A função retorna o **modelo** para os parâmetros especificado"
      ]
    },
    {
      "cell_type": "markdown",
      "metadata": {
        "id": "x_HNay2hFi49"
      },
      "source": [
        "##### Declarando uma função que retorna o modelo."
      ]
    },
    {
      "cell_type": "code",
      "metadata": {
        "id": "qEu7UM89Fi4-"
      },
      "source": [
        "# Valores default para os parâmetros da função\n",
        "def getModeloBERT(fonteBERT = 'comunidade', \n",
        "                  tamanhoBERT = 'base', \n",
        "                  linguaBERT = 'portugues', \n",
        "                  pesosCamadasOcultas = False):\n",
        "\n",
        "    \"\"\"Retorna o modelo BERT carregado.\n",
        "    De acordo com os parâmetros especificados ou carrega o BERT da comunidade \n",
        "    ou realiza o download dos arquivos do modelo.\n",
        "\n",
        "    Args:\n",
        "        fonteBERT: Especifica a origem do modelo do BERT 'comunidade' ou 'DIRETORIO_MODELO'.\n",
        "        tamanhoBERT: Especifica o tamanho do modelo do BERT 'large' ou 'base'.\n",
        "        linguaBERT: Especifica a língua do modelo do BERT 'multilingual', 'portugues' ou 'ingles'.\n",
        "        pesosCamadasOcultas: Especifica ao modelo para manter os pesos de todas as camadas \n",
        "            ocultas, caso contrário mantém somente a última. A avaliação do modelo retorna\n",
        "            um número de diferentes objetos com base em como é configurado na chamada do\n",
        "            método `from_pretrained`. O retorno de model quando output_hidden_states=True´ é:  \n",
        "                #outputs[0] = last_hidden_state, outputs[1] = pooler_output, outputs[2] = hidden_states            \n",
        "            Veja a documentação para mais detalhes:\n",
        "            https://huggingface.co/transformers/model_doc/bert.html#bertmodel\n",
        "\n",
        "    Returns:        \n",
        "        `modelo` com o modelo BERT carregado.\n",
        "    \"\"\"\n",
        "    #======================================================================\n",
        "    # Verificação do idioma e tamanho do modelo\n",
        "    #======================================================================\n",
        "   \n",
        "    # Verifica se a língua é português e o tamanho do modelo\n",
        "    if linguaBERT == 'multilingual' and tamanhoBERT == 'base':\n",
        "        nome_modelo_bert = 'bert-base-multilingual-cased'\n",
        "    else:\n",
        "        if linguaBERT == 'portugues' and tamanhoBERT == 'base':\n",
        "          nome_modelo_bert = 'neuralmind/bert-base-portuguese-cased'\n",
        "        else:\n",
        "            if linguaBERT == 'portugues' and tamanhoBERT == 'large':\n",
        "              nome_modelo_bert = 'neuralmind/bert-large-portuguese-cased'\n",
        "            else:\n",
        "                # Verifica se a língua é inglés e o tamanho do modelo\n",
        "                if linguaBERT == 'ingles' and tamanhoBERT == 'base':\n",
        "                  nome_modelo_bert = 'bert-base-cased'\n",
        "                else:\n",
        "                    if linguaBERT == 'ingles' and tamanhoBERT == 'large':\n",
        "                      nome_modelo_bert = 'bert-large-cased'\n",
        "                    else:\n",
        "                      print(\"Parâmetros \\'língua\\' e \\'tamanhoBERT\\' especificados incorretamente!\")\n",
        "                      return None, None\n",
        "\n",
        "    #======================================================================\n",
        "    # Download do arquivo do modelo\n",
        "    #======================================================================\n",
        "    #Se a variável 'fonteBERT' foi setada para 'DIRETORIO_MODELO' faz o download dos arquivos modelo\n",
        "    if fonteBERT == 'DIRETORIO_MODELO' and linguaBERT == 'portugues':\n",
        "    \n",
        "      # Se a variável 'tamanhoBERT' foi setada para 'base' faz o download do arquivo do tamanho base do BERT, caso contrário do large.\n",
        "      if tamanhoBERT == 'base':\n",
        "          # URL_MODELO do arquivo do modelo do Pytorch checkpoint\n",
        "          # arquivo menor(base) 1.1 Gbytes\n",
        "          URL_MODELO = \"https://neuralmind-ai.s3.us-east-2.amazonaws.com/nlp/bert-base-portuguese-cased/bert-base-portuguese-cased_pytorch_checkpoint.zip\"\n",
        "      else:\n",
        "          # URL_MODELO do arquivo do modelo do Pytorch checkpoint\n",
        "          # arquivo grande(large) 3.5 Gbytes\n",
        "          URL_MODELO = \"https://neuralmind-ai.s3.us-east-2.amazonaws.com/nlp/bert-large-portuguese-cased/bert-large-portuguese-cased_pytorch_checkpoint.zip\"\n",
        "\n",
        "      # Diretório descompactação do modelo\n",
        "      DIRETORIO_MODELO = '/content/modelo' + tamanhoBERT\n",
        "\n",
        "      # Recupera o nome do arquivo do modelo da URL_MODELO anterior\n",
        "      arquivo = URL_MODELO.split(\"/\")[-1]\n",
        "\n",
        "      # Nome do arquivo do vocabulário\n",
        "      arquivo_vocab = \"vocab.txt\"\n",
        "\n",
        "      # Caminho do arquivo na URL_MODELO\n",
        "      caminho = URL_MODELO[0:len(URL_MODELO)-len(arquivo)]\n",
        "\n",
        "      # Verifica se a pasta de descompactação existe na pasta corrente\n",
        "      if os.path.exists(DIRETORIO_MODELO):\n",
        "        print(\"Apagando diretório existente do modelo!\")\n",
        "        # Apaga a pasta e os arquivos existentes\n",
        "        !rm -rf $DIRETORIO_MODELO  \n",
        "\n",
        "      # Realiza o download do arquivo do modelo\n",
        "      !wget $URL_MODELO\n",
        "    \n",
        "      # Descompacta o arquivo na pasta de destino\n",
        "      !unzip -o $arquivo -d $DIRETORIO_MODELO\n",
        "\n",
        "      # Realiza o download do arquivo do vocabulário\n",
        "      # O vocabulário não está no arquivo compactado acima\n",
        "      # Concatena o caminho do modelo mais o nome do arquivo do vocabulário\n",
        "      URL_MODELO_VOCAB = caminho + arquivo_vocab\n",
        "\n",
        "      # Realiza o download do arquivo do vocabulário\n",
        "      !wget $URL_MODELO_VOCAB\n",
        "    \n",
        "      # Move o arquivo do vocabulário para o diretório do modelo\n",
        "      !mv $arquivo_vocab $DIRETORIO_MODELO\n",
        "            \n",
        "      # Move o arquivo do modelo para o diretório do modelo\n",
        "      !mv $arquivo $DIRETORIO_MODELO      \n",
        "                \n",
        "      print('Diretório do modelo:\\'' + DIRETORIO_MODELO + '\\' pronta!')\n",
        "      \n",
        "    else:\n",
        "        if linguaBERT == 'ingles':\n",
        "            print('O modelo BERT na língua inglesa deve ser carregado somente da comunidade.')\n",
        "       \n",
        "    #======================================================================\n",
        "    # Carregamento do modelo\n",
        "    #======================================================================\n",
        "\n",
        "    # Importando as bibliotecas do Modelo\n",
        "    from transformers import BertModel\n",
        "\n",
        "    # Se a variável 'fonteBERT' foi setada para 'DIRETORIO_MODELO' faz o download dos arquivos modelo\n",
        "    # Carregamento de diretório somente para a língua portuguesa\n",
        "    if fonteBERT == 'DIRETORIO_MODELO' and linguaBERT == 'portugues':\n",
        "\n",
        "        # Carregando o Modelo do diretório\n",
        "        print('Carregando o modelo BERT_' + tamanhoBERT \n",
        "              + ' do diretório \\'' + DIRETORIO_MODELO \n",
        "              + '\\' em língua \\''+ linguaBERT \n",
        "              + '\\' com os pesos das camadas ocultas=' + str(pesosCamadasOcultas) + '...')\n",
        "\n",
        "        model = BertModel.from_pretrained(DIRETORIO_MODELO, \n",
        "                                          output_hidden_states = pesosCamadasOcultas) # Se o modelo retorna todos os estados ocultos\n",
        "\n",
        "    else:\n",
        "\n",
        "        # Carregando o Modelo da comunidade\n",
        "        print('Carregando o modelo BERT \\'' + nome_modelo_bert \n",
        "              + '\\' da comunidade em língua \\''+ linguaBERT \n",
        "              + '\\' com os pesos das camadas ocultas=' + str(pesosCamadasOcultas) + '...')\n",
        "\n",
        "        model = BertModel.from_pretrained(nome_modelo_bert, \n",
        "                                          output_hidden_states = pesosCamadasOcultas) # Se o modelo retorna todos os estados ocultos \n",
        "    \n",
        "    # Retorna o modelo BERT carregado           \n",
        "    return  model"
      ],
      "execution_count": null,
      "outputs": []
    },
    {
      "cell_type": "markdown",
      "metadata": {
        "id": "lQsZoz_0Fi5B"
      },
      "source": [
        "##### Usando a função getModeloBERT()"
      ]
    },
    {
      "cell_type": "code",
      "metadata": {
        "id": "Shpi5zYrFi5C",
        "colab": {
          "base_uri": "https://localhost:8080/"
        },
        "outputId": "cd275f40-19e4-4c71-82d5-0afa1ed1bf28"
      },
      "source": [
        "model = getModeloBERT()\n",
        "\n",
        "del model"
      ],
      "execution_count": null,
      "outputs": [
        {
          "output_type": "stream",
          "text": [
            "Carregando o modelo BERT 'neuralmind/bert-base-portuguese-cased' da comunidade em língua 'portugues' com os pesos das camadas ocultas=False...\n"
          ],
          "name": "stdout"
        },
        {
          "output_type": "stream",
          "text": [
            "Some weights of the model checkpoint at neuralmind/bert-base-portuguese-cased were not used when initializing BertModel: ['cls.predictions.decoder.weight', 'cls.predictions.transform.LayerNorm.weight', 'cls.seq_relationship.bias', 'cls.seq_relationship.weight', 'cls.predictions.transform.dense.weight', 'cls.predictions.transform.dense.bias', 'cls.predictions.transform.LayerNorm.bias', 'cls.predictions.bias']\n",
            "- This IS expected if you are initializing BertModel from the checkpoint of a model trained on another task or with another architecture (e.g. initializing a BertForSequenceClassification model from a BertForPreTraining model).\n",
            "- This IS NOT expected if you are initializing BertModel from the checkpoint of a model that you expect to be exactly identical (initializing a BertForSequenceClassification model from a BertForSequenceClassification model).\n"
          ],
          "name": "stderr"
        }
      ]
    },
    {
      "cell_type": "code",
      "metadata": {
        "id": "1vgrczx9Fi5F",
        "colab": {
          "base_uri": "https://localhost:8080/",
          "height": 203,
          "referenced_widgets": [
            "1b504afddfa241daa4d4dd28d0e02341",
            "05869ce8ae5a494a821a6032411d422f",
            "9e272b2a55d44c698bf071cd0037c4d3",
            "7197369e7b344260921837d9cf8f1bcf",
            "e31ec15340574ba590ae694d3568f00a",
            "83ceb82352dc4c509b8f81d8d81c4d29",
            "3e46bcd59bca4c70ab5a77e43193aa5c",
            "77ffd62ac3a54ea7a2e1944642ee9185",
            "c048cdc219aa4cfb992d8977fe6119c6",
            "128c9bd21d914d1e9566db079c5dcf95",
            "83602a52a1384004a578d524fa5d0b2c",
            "1b1a36640aec447b837d8881df0ad1ee",
            "611d966e199e4756b5c3fcf008a384bc",
            "703fb850b71644d4a48aa6a616a262bc",
            "cc65dc98c83342428a2d7eb32f5e67e3",
            "9bcf9ad83bf3421e82e4ce59e436ecd5"
          ]
        },
        "outputId": "7c032515-7b1c-40a5-fbb5-27f94d814c08"
      },
      "source": [
        "model = getModeloBERT(tamanhoBERT = 'large')\n",
        "\n",
        "del model"
      ],
      "execution_count": null,
      "outputs": [
        {
          "output_type": "stream",
          "text": [
            "Carregando o modelo BERT 'neuralmind/bert-large-portuguese-cased' da comunidade em língua 'portugues' com os pesos das camadas ocultas=False...\n"
          ],
          "name": "stdout"
        },
        {
          "output_type": "display_data",
          "data": {
            "application/vnd.jupyter.widget-view+json": {
              "model_id": "1b504afddfa241daa4d4dd28d0e02341",
              "version_minor": 0,
              "version_major": 2
            },
            "text/plain": [
              "HBox(children=(FloatProgress(value=0.0, description='Downloading', max=648.0, style=ProgressStyle(description_…"
            ]
          },
          "metadata": {
            "tags": []
          }
        },
        {
          "output_type": "stream",
          "text": [
            "\n"
          ],
          "name": "stdout"
        },
        {
          "output_type": "display_data",
          "data": {
            "application/vnd.jupyter.widget-view+json": {
              "model_id": "c048cdc219aa4cfb992d8977fe6119c6",
              "version_minor": 0,
              "version_major": 2
            },
            "text/plain": [
              "HBox(children=(FloatProgress(value=0.0, description='Downloading', max=1342014951.0, style=ProgressStyle(descr…"
            ]
          },
          "metadata": {
            "tags": []
          }
        },
        {
          "output_type": "stream",
          "text": [
            "\n"
          ],
          "name": "stdout"
        },
        {
          "output_type": "stream",
          "text": [
            "Some weights of the model checkpoint at neuralmind/bert-large-portuguese-cased were not used when initializing BertModel: ['cls.predictions.decoder.weight', 'cls.predictions.transform.LayerNorm.weight', 'cls.seq_relationship.bias', 'cls.seq_relationship.weight', 'cls.predictions.transform.dense.weight', 'cls.predictions.transform.dense.bias', 'cls.predictions.transform.LayerNorm.bias', 'cls.predictions.bias']\n",
            "- This IS expected if you are initializing BertModel from the checkpoint of a model trained on another task or with another architecture (e.g. initializing a BertForSequenceClassification model from a BertForPreTraining model).\n",
            "- This IS NOT expected if you are initializing BertModel from the checkpoint of a model that you expect to be exactly identical (initializing a BertForSequenceClassification model from a BertForSequenceClassification model).\n"
          ],
          "name": "stderr"
        }
      ]
    },
    {
      "cell_type": "code",
      "metadata": {
        "id": "Ee7F6aJZFi5I",
        "colab": {
          "base_uri": "https://localhost:8080/"
        },
        "outputId": "64f0ece6-1848-4c54-ff0e-767b906ae538"
      },
      "source": [
        "model = getModeloBERT(tamanhoBERT = 'base')\n",
        "\n",
        "del model"
      ],
      "execution_count": null,
      "outputs": [
        {
          "output_type": "stream",
          "text": [
            "Carregando o modelo BERT 'neuralmind/bert-base-portuguese-cased' da comunidade em língua 'portugues' com os pesos das camadas ocultas=False...\n"
          ],
          "name": "stdout"
        },
        {
          "output_type": "stream",
          "text": [
            "Some weights of the model checkpoint at neuralmind/bert-base-portuguese-cased were not used when initializing BertModel: ['cls.predictions.decoder.weight', 'cls.predictions.transform.LayerNorm.weight', 'cls.seq_relationship.bias', 'cls.seq_relationship.weight', 'cls.predictions.transform.dense.weight', 'cls.predictions.transform.dense.bias', 'cls.predictions.transform.LayerNorm.bias', 'cls.predictions.bias']\n",
            "- This IS expected if you are initializing BertModel from the checkpoint of a model trained on another task or with another architecture (e.g. initializing a BertForSequenceClassification model from a BertForPreTraining model).\n",
            "- This IS NOT expected if you are initializing BertModel from the checkpoint of a model that you expect to be exactly identical (initializing a BertForSequenceClassification model from a BertForSequenceClassification model).\n"
          ],
          "name": "stderr"
        }
      ]
    },
    {
      "cell_type": "code",
      "metadata": {
        "id": "0Ouj7SbLFi5M",
        "colab": {
          "base_uri": "https://localhost:8080/"
        },
        "outputId": "f7cde0e8-e9b7-4952-bdb6-82c4dfe1e2f1"
      },
      "source": [
        "model = getModeloBERT(fonteBERT = 'DIRETORIO_MODELO', \n",
        "                      tamanhoBERT = 'base')\n",
        "del model"
      ],
      "execution_count": null,
      "outputs": [
        {
          "output_type": "stream",
          "text": [
            "Apagando diretório existente do modelo!\n",
            "--2021-05-27 23:09:53--  https://neuralmind-ai.s3.us-east-2.amazonaws.com/nlp/bert-base-portuguese-cased/bert-base-portuguese-cased_pytorch_checkpoint.zip\n",
            "Resolving neuralmind-ai.s3.us-east-2.amazonaws.com (neuralmind-ai.s3.us-east-2.amazonaws.com)... 52.219.101.250\n",
            "Connecting to neuralmind-ai.s3.us-east-2.amazonaws.com (neuralmind-ai.s3.us-east-2.amazonaws.com)|52.219.101.250|:443... connected.\n",
            "HTTP request sent, awaiting response... 200 OK\n",
            "Length: 406220891 (387M) [application/zip]\n",
            "Saving to: ‘bert-base-portuguese-cased_pytorch_checkpoint.zip’\n",
            "\n",
            "bert-base-portugues 100%[===================>] 387.40M  75.3MB/s    in 5.1s    \n",
            "\n",
            "2021-05-27 23:09:58 (76.6 MB/s) - ‘bert-base-portuguese-cased_pytorch_checkpoint.zip’ saved [406220891/406220891]\n",
            "\n",
            "Archive:  bert-base-portuguese-cased_pytorch_checkpoint.zip\n",
            "  inflating: /content/modelobase/config.json  \n",
            "  inflating: /content/modelobase/pytorch_model.bin  \n",
            "--2021-05-27 23:10:05--  https://neuralmind-ai.s3.us-east-2.amazonaws.com/nlp/bert-base-portuguese-cased/vocab.txt\n",
            "Resolving neuralmind-ai.s3.us-east-2.amazonaws.com (neuralmind-ai.s3.us-east-2.amazonaws.com)... 52.219.100.72\n",
            "Connecting to neuralmind-ai.s3.us-east-2.amazonaws.com (neuralmind-ai.s3.us-east-2.amazonaws.com)|52.219.100.72|:443... connected.\n",
            "HTTP request sent, awaiting response... 200 OK\n",
            "Length: 209528 (205K) [text/plain]\n",
            "Saving to: ‘vocab.txt’\n",
            "\n",
            "vocab.txt           100%[===================>] 204.62K  --.-KB/s    in 0.1s    \n",
            "\n",
            "2021-05-27 23:10:06 (1.79 MB/s) - ‘vocab.txt’ saved [209528/209528]\n",
            "\n",
            "Diretório do modelo:'/content/modelobase' pronta!\n",
            "Carregando o modelo BERT_base do diretório '/content/modelobase' em língua 'portugues' com os pesos das camadas ocultas=False...\n"
          ],
          "name": "stdout"
        },
        {
          "output_type": "stream",
          "text": [
            "Some weights of the model checkpoint at /content/modelobase were not used when initializing BertModel: ['cls.predictions.decoder.weight', 'cls.predictions.transform.LayerNorm.weight', 'cls.seq_relationship.bias', 'cls.seq_relationship.weight', 'cls.predictions.transform.dense.weight', 'cls.predictions.transform.dense.bias', 'cls.predictions.transform.LayerNorm.bias', 'cls.predictions.bias']\n",
            "- This IS expected if you are initializing BertModel from the checkpoint of a model trained on another task or with another architecture (e.g. initializing a BertForSequenceClassification model from a BertForPreTraining model).\n",
            "- This IS NOT expected if you are initializing BertModel from the checkpoint of a model that you expect to be exactly identical (initializing a BertForSequenceClassification model from a BertForSequenceClassification model).\n"
          ],
          "name": "stderr"
        }
      ]
    },
    {
      "cell_type": "code",
      "metadata": {
        "id": "Re0JeBNIFi5P",
        "colab": {
          "base_uri": "https://localhost:8080/"
        },
        "outputId": "0d5ab88a-579f-4ce4-f862-37a7be0e053f"
      },
      "source": [
        "model = getModeloBERT(fonteBERT = 'DIRETORIO_MODELO', \n",
        "                      tamanhoBERT = 'large', \n",
        "                      linguaBERT = 'portugues')\n",
        "\n",
        "del model"
      ],
      "execution_count": null,
      "outputs": [
        {
          "output_type": "stream",
          "text": [
            "Apagando diretório existente do modelo!\n",
            "--2021-05-27 23:10:08--  https://neuralmind-ai.s3.us-east-2.amazonaws.com/nlp/bert-large-portuguese-cased/bert-large-portuguese-cased_pytorch_checkpoint.zip\n",
            "Resolving neuralmind-ai.s3.us-east-2.amazonaws.com (neuralmind-ai.s3.us-east-2.amazonaws.com)... 52.219.100.72\n",
            "Connecting to neuralmind-ai.s3.us-east-2.amazonaws.com (neuralmind-ai.s3.us-east-2.amazonaws.com)|52.219.100.72|:443... connected.\n",
            "HTTP request sent, awaiting response... 200 OK\n",
            "Length: 1244275810 (1.2G) [application/zip]\n",
            "Saving to: ‘bert-large-portuguese-cased_pytorch_checkpoint.zip’\n",
            "\n",
            "bert-large-portugue 100%[===================>]   1.16G  79.1MB/s    in 14s     \n",
            "\n",
            "2021-05-27 23:10:23 (84.2 MB/s) - ‘bert-large-portuguese-cased_pytorch_checkpoint.zip’ saved [1244275810/1244275810]\n",
            "\n",
            "Archive:  bert-large-portuguese-cased_pytorch_checkpoint.zip\n",
            "  inflating: /content/modelolarge/config.json  \n",
            "  inflating: /content/modelolarge/pytorch_model.bin  \n",
            "--2021-05-27 23:10:40--  https://neuralmind-ai.s3.us-east-2.amazonaws.com/nlp/bert-large-portuguese-cased/vocab.txt\n",
            "Resolving neuralmind-ai.s3.us-east-2.amazonaws.com (neuralmind-ai.s3.us-east-2.amazonaws.com)... 52.219.96.243\n",
            "Connecting to neuralmind-ai.s3.us-east-2.amazonaws.com (neuralmind-ai.s3.us-east-2.amazonaws.com)|52.219.96.243|:443... connected.\n",
            "HTTP request sent, awaiting response... 200 OK\n",
            "Length: 209528 (205K) [text/plain]\n",
            "Saving to: ‘vocab.txt’\n",
            "\n",
            "vocab.txt           100%[===================>] 204.62K  --.-KB/s    in 0.1s    \n",
            "\n",
            "2021-05-27 23:10:41 (1.77 MB/s) - ‘vocab.txt’ saved [209528/209528]\n",
            "\n",
            "Diretório do modelo:'/content/modelolarge' pronta!\n",
            "Carregando o modelo BERT_large do diretório '/content/modelolarge' em língua 'portugues' com os pesos das camadas ocultas=False...\n"
          ],
          "name": "stdout"
        },
        {
          "output_type": "stream",
          "text": [
            "Some weights of the model checkpoint at /content/modelolarge were not used when initializing BertModel: ['cls.predictions.decoder.weight', 'cls.predictions.transform.LayerNorm.weight', 'cls.seq_relationship.bias', 'cls.seq_relationship.weight', 'cls.predictions.transform.dense.weight', 'cls.predictions.transform.dense.bias', 'cls.predictions.transform.LayerNorm.bias', 'cls.predictions.bias']\n",
            "- This IS expected if you are initializing BertModel from the checkpoint of a model trained on another task or with another architecture (e.g. initializing a BertForSequenceClassification model from a BertForPreTraining model).\n",
            "- This IS NOT expected if you are initializing BertModel from the checkpoint of a model that you expect to be exactly identical (initializing a BertForSequenceClassification model from a BertForSequenceClassification model).\n"
          ],
          "name": "stderr"
        }
      ]
    },
    {
      "cell_type": "code",
      "metadata": {
        "id": "D84OnvHPFi5R",
        "colab": {
          "base_uri": "https://localhost:8080/"
        },
        "outputId": "fb41cbc2-9365-458c-cdeb-0d3086894ca4"
      },
      "source": [
        "model = getModeloBERT(fonteBERT = 'DIRETORIO_MODELO', \n",
        "                      tamanhoBERT = 'base', \n",
        "                      linguaBERT = 'portugues')\n",
        "\n",
        "del model"
      ],
      "execution_count": null,
      "outputs": [
        {
          "output_type": "stream",
          "text": [
            "Apagando diretório existente do modelo!\n",
            "--2021-05-27 23:10:47--  https://neuralmind-ai.s3.us-east-2.amazonaws.com/nlp/bert-base-portuguese-cased/bert-base-portuguese-cased_pytorch_checkpoint.zip\n",
            "Resolving neuralmind-ai.s3.us-east-2.amazonaws.com (neuralmind-ai.s3.us-east-2.amazonaws.com)... 52.219.96.208\n",
            "Connecting to neuralmind-ai.s3.us-east-2.amazonaws.com (neuralmind-ai.s3.us-east-2.amazonaws.com)|52.219.96.208|:443... connected.\n",
            "HTTP request sent, awaiting response... 200 OK\n",
            "Length: 406220891 (387M) [application/zip]\n",
            "Saving to: ‘bert-base-portuguese-cased_pytorch_checkpoint.zip’\n",
            "\n",
            "bert-base-portugues 100%[===================>] 387.40M  93.2MB/s    in 4.3s    \n",
            "\n",
            "2021-05-27 23:10:52 (90.3 MB/s) - ‘bert-base-portuguese-cased_pytorch_checkpoint.zip’ saved [406220891/406220891]\n",
            "\n",
            "Archive:  bert-base-portuguese-cased_pytorch_checkpoint.zip\n",
            "  inflating: /content/modelobase/config.json  \n",
            "  inflating: /content/modelobase/pytorch_model.bin  \n",
            "--2021-05-27 23:10:57--  https://neuralmind-ai.s3.us-east-2.amazonaws.com/nlp/bert-base-portuguese-cased/vocab.txt\n",
            "Resolving neuralmind-ai.s3.us-east-2.amazonaws.com (neuralmind-ai.s3.us-east-2.amazonaws.com)... 52.219.102.218\n",
            "Connecting to neuralmind-ai.s3.us-east-2.amazonaws.com (neuralmind-ai.s3.us-east-2.amazonaws.com)|52.219.102.218|:443... connected.\n",
            "HTTP request sent, awaiting response... 200 OK\n",
            "Length: 209528 (205K) [text/plain]\n",
            "Saving to: ‘vocab.txt’\n",
            "\n",
            "vocab.txt           100%[===================>] 204.62K  --.-KB/s    in 0.1s    \n",
            "\n",
            "2021-05-27 23:10:57 (1.85 MB/s) - ‘vocab.txt’ saved [209528/209528]\n",
            "\n",
            "Diretório do modelo:'/content/modelobase' pronta!\n",
            "Carregando o modelo BERT_base do diretório '/content/modelobase' em língua 'portugues' com os pesos das camadas ocultas=False...\n"
          ],
          "name": "stdout"
        },
        {
          "output_type": "stream",
          "text": [
            "Some weights of the model checkpoint at /content/modelobase were not used when initializing BertModel: ['cls.predictions.decoder.weight', 'cls.predictions.transform.LayerNorm.weight', 'cls.seq_relationship.bias', 'cls.seq_relationship.weight', 'cls.predictions.transform.dense.weight', 'cls.predictions.transform.dense.bias', 'cls.predictions.transform.LayerNorm.bias', 'cls.predictions.bias']\n",
            "- This IS expected if you are initializing BertModel from the checkpoint of a model trained on another task or with another architecture (e.g. initializing a BertForSequenceClassification model from a BertForPreTraining model).\n",
            "- This IS NOT expected if you are initializing BertModel from the checkpoint of a model that you expect to be exactly identical (initializing a BertForSequenceClassification model from a BertForSequenceClassification model).\n"
          ],
          "name": "stderr"
        }
      ]
    },
    {
      "cell_type": "code",
      "metadata": {
        "id": "1x7bJqb4Fi5U",
        "colab": {
          "base_uri": "https://localhost:8080/"
        },
        "outputId": "b765388b-1537-434d-92ea-0e3ddbabb30f"
      },
      "source": [
        "model = getModeloBERT(fonteBERT = 'comunidade', \n",
        "                      tamanhoBERT = 'large', \n",
        "                      linguaBERT = 'portugues')\n",
        "\n",
        "del model"
      ],
      "execution_count": null,
      "outputs": [
        {
          "output_type": "stream",
          "text": [
            "Carregando o modelo BERT 'neuralmind/bert-large-portuguese-cased' da comunidade em língua 'portugues' com os pesos das camadas ocultas=False...\n"
          ],
          "name": "stdout"
        },
        {
          "output_type": "stream",
          "text": [
            "Some weights of the model checkpoint at neuralmind/bert-large-portuguese-cased were not used when initializing BertModel: ['cls.predictions.decoder.weight', 'cls.predictions.transform.LayerNorm.weight', 'cls.seq_relationship.bias', 'cls.seq_relationship.weight', 'cls.predictions.transform.dense.weight', 'cls.predictions.transform.dense.bias', 'cls.predictions.transform.LayerNorm.bias', 'cls.predictions.bias']\n",
            "- This IS expected if you are initializing BertModel from the checkpoint of a model trained on another task or with another architecture (e.g. initializing a BertForSequenceClassification model from a BertForPreTraining model).\n",
            "- This IS NOT expected if you are initializing BertModel from the checkpoint of a model that you expect to be exactly identical (initializing a BertForSequenceClassification model from a BertForSequenceClassification model).\n"
          ],
          "name": "stderr"
        }
      ]
    },
    {
      "cell_type": "code",
      "metadata": {
        "id": "_QRBdDKMFi5W",
        "colab": {
          "base_uri": "https://localhost:8080/"
        },
        "outputId": "3e9ec559-0043-4de2-b533-e3824bdadcfe"
      },
      "source": [
        "model = getModeloBERT(fonteBERT = 'comunidade', \n",
        "                      tamanhoBERT = 'base', \n",
        "                      linguaBERT = 'portugues')\n",
        "\n",
        "del model"
      ],
      "execution_count": null,
      "outputs": [
        {
          "output_type": "stream",
          "text": [
            "Carregando o modelo BERT 'neuralmind/bert-base-portuguese-cased' da comunidade em língua 'portugues' com os pesos das camadas ocultas=False...\n"
          ],
          "name": "stdout"
        },
        {
          "output_type": "stream",
          "text": [
            "Some weights of the model checkpoint at neuralmind/bert-base-portuguese-cased were not used when initializing BertModel: ['cls.predictions.decoder.weight', 'cls.predictions.transform.LayerNorm.weight', 'cls.seq_relationship.bias', 'cls.seq_relationship.weight', 'cls.predictions.transform.dense.weight', 'cls.predictions.transform.dense.bias', 'cls.predictions.transform.LayerNorm.bias', 'cls.predictions.bias']\n",
            "- This IS expected if you are initializing BertModel from the checkpoint of a model trained on another task or with another architecture (e.g. initializing a BertForSequenceClassification model from a BertForPreTraining model).\n",
            "- This IS NOT expected if you are initializing BertModel from the checkpoint of a model that you expect to be exactly identical (initializing a BertForSequenceClassification model from a BertForSequenceClassification model).\n"
          ],
          "name": "stderr"
        }
      ]
    },
    {
      "cell_type": "code",
      "metadata": {
        "id": "nsoRCNwLFi5Y",
        "colab": {
          "base_uri": "https://localhost:8080/"
        },
        "outputId": "aeacf42f-ac5f-43fd-cafa-aa9804207cc5"
      },
      "source": [
        "model =getModeloBERT(fonteBERT = 'comunidade', \n",
        "                     tamanhoBERT = 'base', \n",
        "                     linguaBERT = 'portugues',\n",
        "                     pesosCamadasOcultas = False)\n",
        "\n",
        "del model"
      ],
      "execution_count": null,
      "outputs": [
        {
          "output_type": "stream",
          "text": [
            "Carregando o modelo BERT 'neuralmind/bert-base-portuguese-cased' da comunidade em língua 'portugues' com os pesos das camadas ocultas=False...\n"
          ],
          "name": "stdout"
        },
        {
          "output_type": "stream",
          "text": [
            "Some weights of the model checkpoint at neuralmind/bert-base-portuguese-cased were not used when initializing BertModel: ['cls.predictions.decoder.weight', 'cls.predictions.transform.LayerNorm.weight', 'cls.seq_relationship.bias', 'cls.seq_relationship.weight', 'cls.predictions.transform.dense.weight', 'cls.predictions.transform.dense.bias', 'cls.predictions.transform.LayerNorm.bias', 'cls.predictions.bias']\n",
            "- This IS expected if you are initializing BertModel from the checkpoint of a model trained on another task or with another architecture (e.g. initializing a BertForSequenceClassification model from a BertForPreTraining model).\n",
            "- This IS NOT expected if you are initializing BertModel from the checkpoint of a model that you expect to be exactly identical (initializing a BertForSequenceClassification model from a BertForSequenceClassification model).\n"
          ],
          "name": "stderr"
        }
      ]
    },
    {
      "cell_type": "code",
      "metadata": {
        "id": "qkLHJXiUFi5c",
        "colab": {
          "base_uri": "https://localhost:8080/",
          "height": 220,
          "referenced_widgets": [
            "f1d7fb00a7da49fb88c80d9c0687f395",
            "49371ca21c484b1db373882743dd8769",
            "35e4b3bef91547f787506ebe13959cf6",
            "209fa243356a4c8faedba4d73fdb58cc",
            "e5e142ec8b0c4e4885e882aa6cdf10fc",
            "b865b815f772448293fa0a852c822abd",
            "3d19c76f9cad4b9d80efab6430c92137",
            "ac82727bf79f4b318110dcaecd710b78",
            "62cf52ff2bc549f6b106471ed7ed2e10",
            "d2d0957075d04cb5a0a445438f7ed981",
            "6256980170064257a177361a5df3e984",
            "917519db0c8349608ed73ef0d0628212",
            "ced92489bcf649f39ad1cbba301b8287",
            "ebce1facfe1d4995ad6b974c952b738c",
            "e8fc894388c146c68a2b22089fc25c3c",
            "8259a7df9a324a1ba170848253960652"
          ]
        },
        "outputId": "d34a45f8-46c3-42ba-d177-95af41fc58dd"
      },
      "source": [
        "model = getModeloBERT(tamanhoBERT = 'large', \n",
        "                      linguaBERT = 'ingles')\n",
        "\n",
        "del model"
      ],
      "execution_count": null,
      "outputs": [
        {
          "output_type": "stream",
          "text": [
            "O modelo BERT na língua inglesa deve ser carregado somente da comunidade.\n",
            "Carregando o modelo BERT 'bert-large-cased' da comunidade em língua 'ingles' com os pesos das camadas ocultas=False...\n"
          ],
          "name": "stdout"
        },
        {
          "output_type": "display_data",
          "data": {
            "application/vnd.jupyter.widget-view+json": {
              "model_id": "f1d7fb00a7da49fb88c80d9c0687f395",
              "version_minor": 0,
              "version_major": 2
            },
            "text/plain": [
              "HBox(children=(FloatProgress(value=0.0, description='Downloading', max=762.0, style=ProgressStyle(description_…"
            ]
          },
          "metadata": {
            "tags": []
          }
        },
        {
          "output_type": "stream",
          "text": [
            "\n"
          ],
          "name": "stdout"
        },
        {
          "output_type": "display_data",
          "data": {
            "application/vnd.jupyter.widget-view+json": {
              "model_id": "62cf52ff2bc549f6b106471ed7ed2e10",
              "version_minor": 0,
              "version_major": 2
            },
            "text/plain": [
              "HBox(children=(FloatProgress(value=0.0, description='Downloading', max=1338740706.0, style=ProgressStyle(descr…"
            ]
          },
          "metadata": {
            "tags": []
          }
        },
        {
          "output_type": "stream",
          "text": [
            "\n"
          ],
          "name": "stdout"
        },
        {
          "output_type": "stream",
          "text": [
            "Some weights of the model checkpoint at bert-large-cased were not used when initializing BertModel: ['cls.predictions.decoder.weight', 'cls.predictions.transform.LayerNorm.weight', 'cls.seq_relationship.bias', 'cls.seq_relationship.weight', 'cls.predictions.transform.dense.weight', 'cls.predictions.transform.dense.bias', 'cls.predictions.transform.LayerNorm.bias', 'cls.predictions.bias']\n",
            "- This IS expected if you are initializing BertModel from the checkpoint of a model trained on another task or with another architecture (e.g. initializing a BertForSequenceClassification model from a BertForPreTraining model).\n",
            "- This IS NOT expected if you are initializing BertModel from the checkpoint of a model that you expect to be exactly identical (initializing a BertForSequenceClassification model from a BertForSequenceClassification model).\n"
          ],
          "name": "stderr"
        }
      ]
    },
    {
      "cell_type": "code",
      "metadata": {
        "id": "-DWDVehwFi5g",
        "colab": {
          "base_uri": "https://localhost:8080/",
          "height": 220,
          "referenced_widgets": [
            "fe17584c3f304e44a5f4349311fbf431",
            "c97877c3494a44778b3c1648c250b629",
            "cd92ee6c7bb34504a11800dcb05d8099",
            "7f454e22025a4c5c81b8054422896bf0",
            "eadc3d82f72f4dba8d55cdb7bd88b77c",
            "1883ee3fd4ad403ea8c140ebece43c53",
            "6462e5456bcc40098c93dea465cf4e79",
            "583f0c705d454fb195706226c47b4d99",
            "4e34f52aa51443a6b91e36f5892b9056",
            "9f5423fc12004ef9ae40b8e108c8272d",
            "671bd8923f1642d2a4460631bbeed34b",
            "c7510a6835a0463d8c7c9d257cbe6a8b",
            "1ae06660ceca487ea40c23d3821cf9c6",
            "259d1321a93f4dfd8f9da0e53a5abdcc",
            "1418080b67aa44cebeefbc2b81bbf0a9",
            "39f31041ffc4470aa32106ad761c87cd"
          ]
        },
        "outputId": "935c2cf1-6be1-485f-8544-345ff074d496"
      },
      "source": [
        "model = getModeloBERT(tamanhoBERT = 'base', \n",
        "                     linguaBERT = 'ingles')\n",
        "\n",
        "del model"
      ],
      "execution_count": null,
      "outputs": [
        {
          "output_type": "stream",
          "text": [
            "O modelo BERT na língua inglesa deve ser carregado somente da comunidade.\n",
            "Carregando o modelo BERT 'bert-base-cased' da comunidade em língua 'ingles' com os pesos das camadas ocultas=False...\n"
          ],
          "name": "stdout"
        },
        {
          "output_type": "display_data",
          "data": {
            "application/vnd.jupyter.widget-view+json": {
              "model_id": "fe17584c3f304e44a5f4349311fbf431",
              "version_minor": 0,
              "version_major": 2
            },
            "text/plain": [
              "HBox(children=(FloatProgress(value=0.0, description='Downloading', max=570.0, style=ProgressStyle(description_…"
            ]
          },
          "metadata": {
            "tags": []
          }
        },
        {
          "output_type": "stream",
          "text": [
            "\n"
          ],
          "name": "stdout"
        },
        {
          "output_type": "display_data",
          "data": {
            "application/vnd.jupyter.widget-view+json": {
              "model_id": "4e34f52aa51443a6b91e36f5892b9056",
              "version_minor": 0,
              "version_major": 2
            },
            "text/plain": [
              "HBox(children=(FloatProgress(value=0.0, description='Downloading', max=435779157.0, style=ProgressStyle(descri…"
            ]
          },
          "metadata": {
            "tags": []
          }
        },
        {
          "output_type": "stream",
          "text": [
            "\n"
          ],
          "name": "stdout"
        },
        {
          "output_type": "stream",
          "text": [
            "Some weights of the model checkpoint at bert-base-cased were not used when initializing BertModel: ['cls.predictions.decoder.weight', 'cls.predictions.transform.LayerNorm.weight', 'cls.seq_relationship.bias', 'cls.seq_relationship.weight', 'cls.predictions.transform.dense.weight', 'cls.predictions.transform.dense.bias', 'cls.predictions.transform.LayerNorm.bias', 'cls.predictions.bias']\n",
            "- This IS expected if you are initializing BertModel from the checkpoint of a model trained on another task or with another architecture (e.g. initializing a BertForSequenceClassification model from a BertForPreTraining model).\n",
            "- This IS NOT expected if you are initializing BertModel from the checkpoint of a model that you expect to be exactly identical (initializing a BertForSequenceClassification model from a BertForSequenceClassification model).\n"
          ],
          "name": "stderr"
        }
      ]
    },
    {
      "cell_type": "code",
      "metadata": {
        "id": "jaf7ha23Fi5j",
        "colab": {
          "base_uri": "https://localhost:8080/"
        },
        "outputId": "5a9ee035-eb66-49da-f15c-5b247ac08182"
      },
      "source": [
        "model = getModeloBERT(fonteBERT = 'DIRETORIO_MODELO', \n",
        "                      tamanhoBERT = 'large', \n",
        "                      linguaBERT = 'ingles')\n",
        "\n",
        "del model"
      ],
      "execution_count": null,
      "outputs": [
        {
          "output_type": "stream",
          "text": [
            "O modelo BERT na língua inglesa deve ser carregado somente da comunidade.\n",
            "Carregando o modelo BERT 'bert-large-cased' da comunidade em língua 'ingles' com os pesos das camadas ocultas=False...\n"
          ],
          "name": "stdout"
        },
        {
          "output_type": "stream",
          "text": [
            "Some weights of the model checkpoint at bert-large-cased were not used when initializing BertModel: ['cls.predictions.decoder.weight', 'cls.predictions.transform.LayerNorm.weight', 'cls.seq_relationship.bias', 'cls.seq_relationship.weight', 'cls.predictions.transform.dense.weight', 'cls.predictions.transform.dense.bias', 'cls.predictions.transform.LayerNorm.bias', 'cls.predictions.bias']\n",
            "- This IS expected if you are initializing BertModel from the checkpoint of a model trained on another task or with another architecture (e.g. initializing a BertForSequenceClassification model from a BertForPreTraining model).\n",
            "- This IS NOT expected if you are initializing BertModel from the checkpoint of a model that you expect to be exactly identical (initializing a BertForSequenceClassification model from a BertForSequenceClassification model).\n"
          ],
          "name": "stderr"
        }
      ]
    },
    {
      "cell_type": "code",
      "metadata": {
        "id": "XhpOpsNcFi5m",
        "colab": {
          "base_uri": "https://localhost:8080/"
        },
        "outputId": "599b10a4-684d-4c2a-cd05-431153ff66f0"
      },
      "source": [
        "model = getModeloBERT(fonteBERT = 'DIRETORIO_MODELO', \n",
        "                      tamanhoBERT = 'base', \n",
        "                      linguaBERT = 'ingles')\n",
        "\n",
        "del model"
      ],
      "execution_count": null,
      "outputs": [
        {
          "output_type": "stream",
          "text": [
            "O modelo BERT na língua inglesa deve ser carregado somente da comunidade.\n",
            "Carregando o modelo BERT 'bert-base-cased' da comunidade em língua 'ingles' com os pesos das camadas ocultas=False...\n"
          ],
          "name": "stdout"
        },
        {
          "output_type": "stream",
          "text": [
            "Some weights of the model checkpoint at bert-base-cased were not used when initializing BertModel: ['cls.predictions.decoder.weight', 'cls.predictions.transform.LayerNorm.weight', 'cls.seq_relationship.bias', 'cls.seq_relationship.weight', 'cls.predictions.transform.dense.weight', 'cls.predictions.transform.dense.bias', 'cls.predictions.transform.LayerNorm.bias', 'cls.predictions.bias']\n",
            "- This IS expected if you are initializing BertModel from the checkpoint of a model trained on another task or with another architecture (e.g. initializing a BertForSequenceClassification model from a BertForPreTraining model).\n",
            "- This IS NOT expected if you are initializing BertModel from the checkpoint of a model that you expect to be exactly identical (initializing a BertForSequenceClassification model from a BertForSequenceClassification model).\n"
          ],
          "name": "stderr"
        }
      ]
    },
    {
      "cell_type": "code",
      "metadata": {
        "id": "IzLsTc5CFi5o",
        "colab": {
          "base_uri": "https://localhost:8080/"
        },
        "outputId": "1932f003-b1a6-4513-f544-0d14b40df783"
      },
      "source": [
        "model = getModeloBERT(fonteBERT = 'comunidade', \n",
        "                      tamanhoBERT = 'large', \n",
        "                      linguaBERT = 'ingles')\n",
        "\n",
        "del model"
      ],
      "execution_count": null,
      "outputs": [
        {
          "output_type": "stream",
          "text": [
            "O modelo BERT na língua inglesa deve ser carregado somente da comunidade.\n",
            "Carregando o modelo BERT 'bert-large-cased' da comunidade em língua 'ingles' com os pesos das camadas ocultas=False...\n"
          ],
          "name": "stdout"
        },
        {
          "output_type": "stream",
          "text": [
            "Some weights of the model checkpoint at bert-large-cased were not used when initializing BertModel: ['cls.predictions.decoder.weight', 'cls.predictions.transform.LayerNorm.weight', 'cls.seq_relationship.bias', 'cls.seq_relationship.weight', 'cls.predictions.transform.dense.weight', 'cls.predictions.transform.dense.bias', 'cls.predictions.transform.LayerNorm.bias', 'cls.predictions.bias']\n",
            "- This IS expected if you are initializing BertModel from the checkpoint of a model trained on another task or with another architecture (e.g. initializing a BertForSequenceClassification model from a BertForPreTraining model).\n",
            "- This IS NOT expected if you are initializing BertModel from the checkpoint of a model that you expect to be exactly identical (initializing a BertForSequenceClassification model from a BertForSequenceClassification model).\n"
          ],
          "name": "stderr"
        }
      ]
    },
    {
      "cell_type": "code",
      "metadata": {
        "id": "TGpA4qAWFi5r",
        "colab": {
          "base_uri": "https://localhost:8080/"
        },
        "outputId": "15dc3c3b-c725-4b4f-e321-4f946354f083"
      },
      "source": [
        "model = getModeloBERT(fonteBERT = 'comunidade', \n",
        "                      tamanhoBERT = 'base', \n",
        "                      linguaBERT = 'ingles') \n",
        "\n",
        "del model"
      ],
      "execution_count": null,
      "outputs": [
        {
          "output_type": "stream",
          "text": [
            "O modelo BERT na língua inglesa deve ser carregado somente da comunidade.\n",
            "Carregando o modelo BERT 'bert-base-cased' da comunidade em língua 'ingles' com os pesos das camadas ocultas=False...\n"
          ],
          "name": "stdout"
        },
        {
          "output_type": "stream",
          "text": [
            "Some weights of the model checkpoint at bert-base-cased were not used when initializing BertModel: ['cls.predictions.decoder.weight', 'cls.predictions.transform.LayerNorm.weight', 'cls.seq_relationship.bias', 'cls.seq_relationship.weight', 'cls.predictions.transform.dense.weight', 'cls.predictions.transform.dense.bias', 'cls.predictions.transform.LayerNorm.bias', 'cls.predictions.bias']\n",
            "- This IS expected if you are initializing BertModel from the checkpoint of a model trained on another task or with another architecture (e.g. initializing a BertForSequenceClassification model from a BertForPreTraining model).\n",
            "- This IS NOT expected if you are initializing BertModel from the checkpoint of a model that you expect to be exactly identical (initializing a BertForSequenceClassification model from a BertForSequenceClassification model).\n"
          ],
          "name": "stderr"
        }
      ]
    },
    {
      "cell_type": "code",
      "metadata": {
        "id": "ccq15D00Fi5t",
        "colab": {
          "base_uri": "https://localhost:8080/"
        },
        "outputId": "973998da-258d-4da0-9a69-b4376b20ac2c"
      },
      "source": [
        "model = getModeloBERT(fonteBERT = 'comunidade', \n",
        "                      tamanhoBERT = 'base', \n",
        "                      linguaBERT = 'ingles', \n",
        "                      pesosCamadasOcultas = False)\n",
        "\n",
        "del model"
      ],
      "execution_count": null,
      "outputs": [
        {
          "output_type": "stream",
          "text": [
            "O modelo BERT na língua inglesa deve ser carregado somente da comunidade.\n",
            "Carregando o modelo BERT 'bert-base-cased' da comunidade em língua 'ingles' com os pesos das camadas ocultas=False...\n"
          ],
          "name": "stdout"
        },
        {
          "output_type": "stream",
          "text": [
            "Some weights of the model checkpoint at bert-base-cased were not used when initializing BertModel: ['cls.predictions.decoder.weight', 'cls.predictions.transform.LayerNorm.weight', 'cls.seq_relationship.bias', 'cls.seq_relationship.weight', 'cls.predictions.transform.dense.weight', 'cls.predictions.transform.dense.bias', 'cls.predictions.transform.LayerNorm.bias', 'cls.predictions.bias']\n",
            "- This IS expected if you are initializing BertModel from the checkpoint of a model trained on another task or with another architecture (e.g. initializing a BertForSequenceClassification model from a BertForPreTraining model).\n",
            "- This IS NOT expected if you are initializing BertModel from the checkpoint of a model that you expect to be exactly identical (initializing a BertForSequenceClassification model from a BertForSequenceClassification model).\n"
          ],
          "name": "stderr"
        }
      ]
    },
    {
      "cell_type": "code",
      "metadata": {
        "colab": {
          "base_uri": "https://localhost:8080/",
          "height": 203,
          "referenced_widgets": [
            "dbd777bb0f5741608a5e300bb7c20797",
            "e8e5d27313f74b0a9d530542f21aad52",
            "01d3aa4e451c4537a0175e56b376737e",
            "f4d0110a54dd47199ccd89e019b6d04b",
            "f3bd2200a28d49859ddf22f7d3994f4d",
            "680193bfb5e04652934a67f028604786",
            "ad9f6fec985a4aab8edb0f0d06a6794c",
            "7ec7c3f77c564e49adbf769451cb337f",
            "9896c56fa3ca4c76a31ea4c1d099d8fe",
            "8c3a1c9e2c9c46ab8281c37b9bb03f19",
            "c412deea06d246cbb06c38560b30dc28",
            "820ca3239dbf4a14a194f0b8774b5f6e",
            "90e29f32a0c94e499192560365389998",
            "ca5b9b162bbf4a998779e910f80f84b4",
            "253461c38b024ff999a657f4c0923f89",
            "66af430f268647cc993223cef3047969"
          ]
        },
        "id": "0VifY-MWTPqI",
        "outputId": "1cf635f7-6759-40f2-e26c-a2ca8ca166b9"
      },
      "source": [
        "model = getModeloBERT(fonteBERT = 'comunidade', \n",
        "                      tamanhoBERT = 'base', \n",
        "                      linguaBERT = 'multilingual', \n",
        "                      pesosCamadasOcultas = False)\n",
        "\n",
        "del model"
      ],
      "execution_count": null,
      "outputs": [
        {
          "output_type": "stream",
          "text": [
            "Carregando o modelo BERT 'bert-base-multilingual-cased' da comunidade em língua 'multilingual' com os pesos das camadas ocultas=False...\n"
          ],
          "name": "stdout"
        },
        {
          "output_type": "display_data",
          "data": {
            "application/vnd.jupyter.widget-view+json": {
              "model_id": "dbd777bb0f5741608a5e300bb7c20797",
              "version_minor": 0,
              "version_major": 2
            },
            "text/plain": [
              "HBox(children=(FloatProgress(value=0.0, description='Downloading', max=625.0, style=ProgressStyle(description_…"
            ]
          },
          "metadata": {
            "tags": []
          }
        },
        {
          "output_type": "stream",
          "text": [
            "\n"
          ],
          "name": "stdout"
        },
        {
          "output_type": "display_data",
          "data": {
            "application/vnd.jupyter.widget-view+json": {
              "model_id": "9896c56fa3ca4c76a31ea4c1d099d8fe",
              "version_minor": 0,
              "version_major": 2
            },
            "text/plain": [
              "HBox(children=(FloatProgress(value=0.0, description='Downloading', max=714314041.0, style=ProgressStyle(descri…"
            ]
          },
          "metadata": {
            "tags": []
          }
        },
        {
          "output_type": "stream",
          "text": [
            "\n"
          ],
          "name": "stdout"
        },
        {
          "output_type": "stream",
          "text": [
            "Some weights of the model checkpoint at bert-base-multilingual-cased were not used when initializing BertModel: ['cls.predictions.decoder.weight', 'cls.predictions.transform.LayerNorm.weight', 'cls.seq_relationship.bias', 'cls.seq_relationship.weight', 'cls.predictions.transform.dense.weight', 'cls.predictions.transform.dense.bias', 'cls.predictions.transform.LayerNorm.bias', 'cls.predictions.bias']\n",
            "- This IS expected if you are initializing BertModel from the checkpoint of a model trained on another task or with another architecture (e.g. initializing a BertForSequenceClassification model from a BertForPreTraining model).\n",
            "- This IS NOT expected if you are initializing BertModel from the checkpoint of a model that you expect to be exactly identical (initializing a BertForSequenceClassification model from a BertForSequenceClassification model).\n"
          ],
          "name": "stderr"
        }
      ]
    },
    {
      "cell_type": "code",
      "metadata": {
        "id": "AAmRY-IEFi5x",
        "colab": {
          "base_uri": "https://localhost:8080/"
        },
        "outputId": "bd69c82e-fa85-4700-d708-9da87aff5e27"
      },
      "source": [
        "import gc\n",
        "gc.collect()"
      ],
      "execution_count": null,
      "outputs": [
        {
          "output_type": "execute_result",
          "data": {
            "text/plain": [
              "678"
            ]
          },
          "metadata": {
            "tags": []
          },
          "execution_count": 47
        }
      ]
    },
    {
      "cell_type": "markdown",
      "metadata": {
        "id": "fBjg72XsJdrQ"
      },
      "source": [
        "#### Usando o BERT da comunidade ou diretório com uma função que retorna o tokenizador e o modelo v6\n",
        "\n",
        "Função que retorna o tokenizador e modelo do BERT. permite configurar o tamanho do modelo e a fonte do modelo. \n",
        "\n",
        "A linguagem do modelo é especificada internamente na função.\n",
        "\n",
        "O parâmetro  `fonteBERT` com os valores `comunidade` ou `diretório` especifica se deve ser carregado o BERT de um diretório ou da comunidade.\n",
        "\n",
        "O parâmetro `tamanhoBERT` com os valores `base` ou `large` especifica se o tamanho do modelo BERT a ser utilizado.\n",
        "\n",
        "O parâmetro `linguaBERT` com os valores `multilingual`, `portugues` ou `ingles` especifica a lingua do modelo BERT a ser utilizado.\n",
        "\n",
        "O parâmetro `pesosCamadasOcultas` com os valores `True` ou `False` especifica se é para gerar e retornar os pesos das camadas ocultas.\n",
        "\n",
        "O parâmetro `cased=True` da função define se deve ser usado o modelo BERT cased(com letras maiúsculas e minúsculas) ou o modelo uncased(sem letras maiúsculas). O modelo BERT cased(com maiúsculas, o texto é o mesmo que o texto de entrada (sem alterações) contendo letras maiúsculas e minúsculas. Enquanto que o modelo BERT uncased o texto foi colocado em minúsculas antes da etapa de tokenização do WordPiece. Nesta função o default é `True`.\n",
        "\n",
        "O parâmetro `do_lower_case=True` Especifica a conversão das letras maiúsculas em minúsculo e a remoção das letras acentuadas para o tokenizador do BERT. Nesta função o default `False` pois a língua portuguesa possui letras acentuadas(ãçéí...), que são necessárias a língua portuguesa, desta maneira mantendo letras maiúsculas e minúsculas. No método `from_pretrained` o default é `True` quando o parämetro não é especificado.\n",
        "\n",
        "A função retorna o **tokenizador** e o **modelo** para os parâmetros especificado"
      ]
    },
    {
      "cell_type": "markdown",
      "metadata": {
        "id": "0DcIEDjsJdrW"
      },
      "source": [
        "##### Declarando uma função que retorna o tokenizador e o modelo."
      ]
    },
    {
      "cell_type": "code",
      "metadata": {
        "id": "06dNih68JdrW"
      },
      "source": [
        "# Valores default para os parâmetros da função\n",
        "def getBERT(fonteBERT = 'comunidade', \n",
        "            tamanhoBERT = 'base', \n",
        "            linguaBERT = 'portugues', \n",
        "            pesosCamadasOcultas = False,\n",
        "            cased = True,\n",
        "            do_lower_case = False):\n",
        "\n",
        "    \"\"\"Retorna o tokenizador e modelo BERT carregado.\n",
        "    De acordo com os parâmetros especificados ou carrega o BERT da comunidade \n",
        "    ou realiza o download dos arquivos do modelo.\n",
        "\n",
        "    Args:\n",
        "        fonteBERT: Especifica a origem do modelo do BERT 'comunidade' ou 'DIRETORIO_MODELO'.\n",
        "        tamanhoBERT: Especifica o tamanho do modelo do BERT 'large' ou 'base'.\n",
        "        linguaBERT: Especifica a língua do modelo do BERT 'multilingual'. 'portugues' ou 'ingles'.\n",
        "        pesosCamadasOcultas: Especifica ao modelo para manter os pesos de todas as camadas \n",
        "            ocultas, caso contrário mantém somente a última. A avaliação do modelo retorna\n",
        "            um número de diferentes objetos com base em como é configurado na chamada do\n",
        "            método `from_pretrained`. O retorno de model quando output_hidden_states=True´ é:  \n",
        "                #outputs[0] = last_hidden_state, outputs[1] = pooler_output, outputs[2] = hidden_states            \n",
        "            Veja a documentação para mais detalhes:\n",
        "            https://huggingface.co/transformers/model_doc/bert.html#bertmodel\n",
        "        cased: Especifica se é para ser carregado o modelo BERT cased(com letras maiúsculas e minúsculas) ou o modelo uncased(sem letras maiúsculas).\n",
        "        do_lower_case: Especifica se o tokenizador do BERT deve realizar a conversão dos dados de entrada para minúsculo. Para ignorar use o parâmetro do_lower_case=False.\n",
        "\n",
        "    Returns:\n",
        "        `tokenizador` com o tokenizador do modelo BERT carregado.\n",
        "        `modelo` com o modelo BERT carregado.\n",
        "    \"\"\"\n",
        "    #======================================================================\n",
        "    # Verificação do idioma e tamanho do modelo\n",
        "    #======================================================================\n",
        "    # Verifica se a língua é português e o tamanho do modelo\n",
        "    if linguaBERT == 'multilingual' and tamanhoBERT == 'base':\n",
        "        nome_modelo_bert = 'bert-base-multilingual-cased'\n",
        "    else:\n",
        "        if linguaBERT == 'portugues' and tamanhoBERT == 'base':\n",
        "          nome_modelo_bert = 'neuralmind/bert-base-portuguese-cased'\n",
        "        else:\n",
        "            if linguaBERT == 'portugues' and tamanhoBERT == 'large':\n",
        "              nome_modelo_bert = 'neuralmind/bert-large-portuguese-cased'\n",
        "            else:\n",
        "                # Verifica se a língua é inglés e o tamanho do modelo\n",
        "                if linguaBERT == 'ingles' and tamanhoBERT == 'base':\n",
        "                  nome_modelo_bert = 'bert-base-cased'\n",
        "                else:\n",
        "                    if linguaBERT == 'ingles' and tamanhoBERT == 'large':\n",
        "                      nome_modelo_bert = 'bert-large-cased'\n",
        "                    else:\n",
        "                      print(\"Parâmetros \\'língua\\' e \\'tamanhoBERT\\' especificados incorretamente!\")\n",
        "                      return None, None\n",
        "\n",
        "    #======================================================================\n",
        "    # Verificação do modelo sem maiúsculas ou com maiúscula\n",
        "    #======================================================================\n",
        "    if cased == False:\n",
        "        nome_modelo_bert = nome_modelo_bert.replace('cased','uncased')\n",
        "\n",
        "    #======================================================================\n",
        "    # Download do arquivo do modelo\n",
        "    #======================================================================\n",
        "    #Se a variável 'fonteBERT' foi setada para 'DIRETORIO_MODELO' faz o download dos arquivos modelo\n",
        "    if fonteBERT == 'DIRETORIO_MODELO' and linguaBERT == 'portugues':\n",
        "    \n",
        "      # Se a variável 'tamanhoBERT' foi setada para 'base' faz o download do arquivo do tamanho base do BERT, caso contrário do large.\n",
        "      if tamanhoBERT == 'base':\n",
        "          # URL_MODELO do arquivo do modelo do Pytorch checkpoint\n",
        "          # arquivo menor(base) 1.1 Gbytes\n",
        "          URL_MODELO = \"https://neuralmind-ai.s3.us-east-2.amazonaws.com/nlp/bert-base-portuguese-cased/bert-base-portuguese-cased_pytorch_checkpoint.zip\"\n",
        "      else:\n",
        "          # URL_MODELO do arquivo do modelo do Pytorch checkpoint\n",
        "          # arquivo grande(large) 3.5 Gbytes\n",
        "          URL_MODELO = \"https://neuralmind-ai.s3.us-east-2.amazonaws.com/nlp/bert-large-portuguese-cased/bert-large-portuguese-cased_pytorch_checkpoint.zip\"\n",
        "\n",
        "      # Diretório descompactação do modelo\n",
        "      DIRETORIO_MODELO = '/content/modelo' + tamanhoBERT\n",
        "\n",
        "      # Recupera o nome do arquivo do modelo da URL_MODELO anterior\n",
        "      arquivo = URL_MODELO.split(\"/\")[-1]\n",
        "\n",
        "      # Nome do arquivo do vocabulário\n",
        "      arquivo_vocab = \"vocab.txt\"\n",
        "\n",
        "      # Caminho do arquivo na url\n",
        "      caminho = URL_MODELO[0:len(URL_MODELO)-len(arquivo)]\n",
        "\n",
        "\n",
        "      # Verifica se a pasta de descompactação existe na pasta corrente\n",
        "      if os.path.exists(DIRETORIO_MODELO):\n",
        "        print(\"Apagando diretório existente do modelo!\")\n",
        "        # Apaga a pasta e os arquivos existentes\n",
        "        !rm -rf $DIRETORIO_MODELO  \n",
        "\n",
        "      # Realiza o download do arquivo do modelo\n",
        "      !wget $URL_MODELO\n",
        "    \n",
        "      # Descompacta o arquivo na pasta de destino\n",
        "      !unzip -o $arquivo -d $DIRETORIO_MODELO\n",
        "\n",
        "      # Realiza o download do arquivo do vocabulário\n",
        "      # O vocabulário não está no arquivo compactado acima\n",
        "      # Concatena o caminho do modelo mais o nome do arquivo do vocabulário\n",
        "      URL_MODELO_VOCAB = caminho + arquivo_vocab\n",
        "\n",
        "      # Realiza o download do arquivo do vocabulário\n",
        "      !wget $URL_MODELO_VOCAB\n",
        "    \n",
        "      # Move o arquivo do vocabulário para o diretório do modelo\n",
        "      !mv $arquivo_vocab $DIRETORIO_MODELO\n",
        "            \n",
        "       # Move o arquivo do modelo para o diretório do modelo\n",
        "      !mv $arquivo $DIRETORIO_MODELO      \n",
        "                \n",
        "      print('Diretório do modelo:\\'' + DIRETORIO_MODELO + '\\' pronta!')\n",
        "      \n",
        "    else:\n",
        "        if linguaBERT == 'ingles':\n",
        "            print('O modelo BERT na língua inglesa deve ser carregado somente da comunidade.')\n",
        "       \n",
        "    #======================================================================\n",
        "    # Carregamento do tokenizador e do modelo \n",
        "    #======================================================================\n",
        "\n",
        "    # Importando as bibliotecas do Modelo e do Tokenizador\n",
        "    from transformers import BertModel, BertTokenizer\n",
        "\n",
        "    # Se a variável 'fonteBERT' foi setada para 'DIRETORIO_MODELO' faz o download dos arquivos modelo\n",
        "    # Carregamento de diretório somente para a língua portuguesa\n",
        "    if fonteBERT == 'DIRETORIO_MODELO' and linguaBERT == 'portugues':\n",
        "\n",
        "        # Carregando o Tokenizador do diretório\n",
        "        print('Carregando o tokenizador BERT_' + tamanhoBERT \n",
        "              + ' do diretório \\'' + DIRETORIO_MODELO \n",
        "              + '\\' em língua \\''+ linguaBERT + '\\'...')\n",
        "\n",
        "        tokenizer = BertTokenizer.from_pretrained(DIRETORIO_MODELO,\n",
        "                                                  do_lower_case = do_lower_case)\n",
        "\n",
        "        # Carregando o Modelo do diretório\n",
        "        print('Carregando o modelo BERT_' + tamanhoBERT \n",
        "              + ' do diretório \\'' + DIRETORIO_MODELO \n",
        "              + '\\' em língua \\''+ linguaBERT \n",
        "              + '\\' com os pesos das camadas ocultas=' + str(pesosCamadasOcultas) + '...')\n",
        "\n",
        "        model = BertModel.from_pretrained(DIRETORIO_MODELO, \n",
        "                                          output_hidden_states = pesosCamadasOcultas) # Se o modelo retorna todos os estados ocultos\n",
        "\n",
        "    else:\n",
        "        # Carregando o Tokenizador da comunidade\n",
        "        print('Carregando o tokenizador BERT \\'' + nome_modelo_bert \n",
        "              + '\\' da comunidade em língua \\''+ linguaBERT + '\\'...')\n",
        "\n",
        "        tokenizer = BertTokenizer.from_pretrained(nome_modelo_bert,\n",
        "                                                  do_lower_case = do_lower_case)  \n",
        "\n",
        "        # Carregando o Modelo da comunidade\n",
        "        print('Carregando o modelo BERT \\'' + nome_modelo_bert \n",
        "              + '\\' da comunidade em língua \\''+ linguaBERT \n",
        "              + '\\' com os pesos das camadas ocultas=' + str(pesosCamadasOcultas) + '...')\n",
        "\n",
        "        model = BertModel.from_pretrained(nome_modelo_bert, \n",
        "                                          output_hidden_states = pesosCamadasOcultas)  # Se o modelo retorna todos os estados ocultos\n",
        "    \n",
        "    # Retorna o tokenizador e o modelo BERT carregado           \n",
        "    return tokenizer, model"
      ],
      "execution_count": null,
      "outputs": []
    },
    {
      "cell_type": "markdown",
      "metadata": {
        "id": "1O58k9QeJdrX"
      },
      "source": [
        "##### Usando a função getBERT()"
      ]
    },
    {
      "cell_type": "code",
      "metadata": {
        "colab": {
          "base_uri": "https://localhost:8080/"
        },
        "id": "tK6Sfhy3JdrX",
        "outputId": "76cfcbdd-a327-4f1b-84b1-f28d9a09730d"
      },
      "source": [
        "tokenizador, model = getBERT()\n",
        "\n",
        "del tokenizador\n",
        "del model"
      ],
      "execution_count": null,
      "outputs": [
        {
          "output_type": "stream",
          "text": [
            "Carregando o tokenizador BERT 'neuralmind/bert-base-portuguese-cased' da comunidade em língua 'portugues'...\n",
            "Carregando o modelo BERT 'neuralmind/bert-base-portuguese-cased' da comunidade em língua 'portugues' com os pesos das camadas ocultas=False...\n"
          ],
          "name": "stdout"
        },
        {
          "output_type": "stream",
          "text": [
            "Some weights of the model checkpoint at neuralmind/bert-base-portuguese-cased were not used when initializing BertModel: ['cls.predictions.decoder.weight', 'cls.predictions.transform.LayerNorm.weight', 'cls.seq_relationship.bias', 'cls.seq_relationship.weight', 'cls.predictions.transform.dense.weight', 'cls.predictions.transform.dense.bias', 'cls.predictions.transform.LayerNorm.bias', 'cls.predictions.bias']\n",
            "- This IS expected if you are initializing BertModel from the checkpoint of a model trained on another task or with another architecture (e.g. initializing a BertForSequenceClassification model from a BertForPreTraining model).\n",
            "- This IS NOT expected if you are initializing BertModel from the checkpoint of a model that you expect to be exactly identical (initializing a BertForSequenceClassification model from a BertForSequenceClassification model).\n"
          ],
          "name": "stderr"
        }
      ]
    },
    {
      "cell_type": "code",
      "metadata": {
        "colab": {
          "base_uri": "https://localhost:8080/"
        },
        "id": "44PL7VIWJdrY",
        "outputId": "641f213f-5926-4d47-f971-2effa3adf197"
      },
      "source": [
        "tokenizador, model = getBERT(tamanhoBERT = 'large')"
      ],
      "execution_count": null,
      "outputs": [
        {
          "output_type": "stream",
          "text": [
            "Carregando o tokenizador BERT 'neuralmind/bert-large-portuguese-cased' da comunidade em língua 'portugues'...\n",
            "Carregando o modelo BERT 'neuralmind/bert-large-portuguese-cased' da comunidade em língua 'portugues' com os pesos das camadas ocultas=False...\n"
          ],
          "name": "stdout"
        },
        {
          "output_type": "stream",
          "text": [
            "Some weights of the model checkpoint at neuralmind/bert-large-portuguese-cased were not used when initializing BertModel: ['cls.predictions.decoder.weight', 'cls.predictions.transform.LayerNorm.weight', 'cls.seq_relationship.bias', 'cls.seq_relationship.weight', 'cls.predictions.transform.dense.weight', 'cls.predictions.transform.dense.bias', 'cls.predictions.transform.LayerNorm.bias', 'cls.predictions.bias']\n",
            "- This IS expected if you are initializing BertModel from the checkpoint of a model trained on another task or with another architecture (e.g. initializing a BertForSequenceClassification model from a BertForPreTraining model).\n",
            "- This IS NOT expected if you are initializing BertModel from the checkpoint of a model that you expect to be exactly identical (initializing a BertForSequenceClassification model from a BertForSequenceClassification model).\n"
          ],
          "name": "stderr"
        }
      ]
    },
    {
      "cell_type": "code",
      "metadata": {
        "colab": {
          "base_uri": "https://localhost:8080/"
        },
        "id": "_fq0TXLvJdra",
        "outputId": "f58fd20e-adde-4e35-a097-eb06851f9a91"
      },
      "source": [
        "tokenizador, model = getBERT(tamanhoBERT = 'base')\n",
        "\n",
        "del tokenizador\n",
        "del model"
      ],
      "execution_count": null,
      "outputs": [
        {
          "output_type": "stream",
          "text": [
            "Carregando o tokenizador BERT 'neuralmind/bert-base-portuguese-cased' da comunidade em língua 'portugues'...\n",
            "Carregando o modelo BERT 'neuralmind/bert-base-portuguese-cased' da comunidade em língua 'portugues' com os pesos das camadas ocultas=False...\n"
          ],
          "name": "stdout"
        },
        {
          "output_type": "stream",
          "text": [
            "Some weights of the model checkpoint at neuralmind/bert-base-portuguese-cased were not used when initializing BertModel: ['cls.predictions.decoder.weight', 'cls.predictions.transform.LayerNorm.weight', 'cls.seq_relationship.bias', 'cls.seq_relationship.weight', 'cls.predictions.transform.dense.weight', 'cls.predictions.transform.dense.bias', 'cls.predictions.transform.LayerNorm.bias', 'cls.predictions.bias']\n",
            "- This IS expected if you are initializing BertModel from the checkpoint of a model trained on another task or with another architecture (e.g. initializing a BertForSequenceClassification model from a BertForPreTraining model).\n",
            "- This IS NOT expected if you are initializing BertModel from the checkpoint of a model that you expect to be exactly identical (initializing a BertForSequenceClassification model from a BertForSequenceClassification model).\n"
          ],
          "name": "stderr"
        }
      ]
    },
    {
      "cell_type": "code",
      "metadata": {
        "colab": {
          "base_uri": "https://localhost:8080/"
        },
        "id": "UuRzVhFtJdrb",
        "outputId": "6fad17ee-dfd1-45a4-bd76-bc377a496d79"
      },
      "source": [
        "tokenizador, model = getBERT(fonteBERT = 'DIRETORIO_MODELO', \n",
        "                             tamanhoBERT = 'base')\n",
        "\n",
        "del tokenizador\n",
        "del model"
      ],
      "execution_count": null,
      "outputs": [
        {
          "output_type": "stream",
          "text": [
            "Apagando diretório existente do modelo!\n",
            "--2021-05-27 23:13:47--  https://neuralmind-ai.s3.us-east-2.amazonaws.com/nlp/bert-base-portuguese-cased/bert-base-portuguese-cased_pytorch_checkpoint.zip\n",
            "Resolving neuralmind-ai.s3.us-east-2.amazonaws.com (neuralmind-ai.s3.us-east-2.amazonaws.com)... 52.219.105.42\n",
            "Connecting to neuralmind-ai.s3.us-east-2.amazonaws.com (neuralmind-ai.s3.us-east-2.amazonaws.com)|52.219.105.42|:443... connected.\n",
            "HTTP request sent, awaiting response... 200 OK\n",
            "Length: 406220891 (387M) [application/zip]\n",
            "Saving to: ‘bert-base-portuguese-cased_pytorch_checkpoint.zip’\n",
            "\n",
            "bert-base-portugues 100%[===================>] 387.40M  80.1MB/s    in 4.8s    \n",
            "\n",
            "2021-05-27 23:13:52 (80.3 MB/s) - ‘bert-base-portuguese-cased_pytorch_checkpoint.zip’ saved [406220891/406220891]\n",
            "\n",
            "Archive:  bert-base-portuguese-cased_pytorch_checkpoint.zip\n",
            "  inflating: /content/modelobase/config.json  \n",
            "  inflating: /content/modelobase/pytorch_model.bin  \n",
            "--2021-05-27 23:13:57--  https://neuralmind-ai.s3.us-east-2.amazonaws.com/nlp/bert-base-portuguese-cased/vocab.txt\n",
            "Resolving neuralmind-ai.s3.us-east-2.amazonaws.com (neuralmind-ai.s3.us-east-2.amazonaws.com)... 52.219.106.250\n",
            "Connecting to neuralmind-ai.s3.us-east-2.amazonaws.com (neuralmind-ai.s3.us-east-2.amazonaws.com)|52.219.106.250|:443... connected.\n",
            "HTTP request sent, awaiting response... 200 OK\n",
            "Length: 209528 (205K) [text/plain]\n",
            "Saving to: ‘vocab.txt’\n",
            "\n",
            "vocab.txt           100%[===================>] 204.62K  --.-KB/s    in 0.08s   \n",
            "\n",
            "2021-05-27 23:13:58 (2.46 MB/s) - ‘vocab.txt’ saved [209528/209528]\n",
            "\n",
            "Diretório do modelo:'/content/modelobase' pronta!\n",
            "Carregando o tokenizador BERT_base do diretório '/content/modelobase' em língua 'portugues'...\n",
            "Carregando o modelo BERT_base do diretório '/content/modelobase' em língua 'portugues' com os pesos das camadas ocultas=False...\n"
          ],
          "name": "stdout"
        },
        {
          "output_type": "stream",
          "text": [
            "Some weights of the model checkpoint at /content/modelobase were not used when initializing BertModel: ['cls.predictions.decoder.weight', 'cls.predictions.transform.LayerNorm.weight', 'cls.seq_relationship.bias', 'cls.seq_relationship.weight', 'cls.predictions.transform.dense.weight', 'cls.predictions.transform.dense.bias', 'cls.predictions.transform.LayerNorm.bias', 'cls.predictions.bias']\n",
            "- This IS expected if you are initializing BertModel from the checkpoint of a model trained on another task or with another architecture (e.g. initializing a BertForSequenceClassification model from a BertForPreTraining model).\n",
            "- This IS NOT expected if you are initializing BertModel from the checkpoint of a model that you expect to be exactly identical (initializing a BertForSequenceClassification model from a BertForSequenceClassification model).\n"
          ],
          "name": "stderr"
        }
      ]
    },
    {
      "cell_type": "code",
      "metadata": {
        "colab": {
          "base_uri": "https://localhost:8080/"
        },
        "id": "3Cj_ewTcJdrb",
        "outputId": "1fae156f-5b43-4961-c729-ad2018b482bb"
      },
      "source": [
        "tokenizador, model = getBERT(fonteBERT = 'DIRETORIO_MODELO', \n",
        "                             tamanhoBERT = 'large', \n",
        "                             linguaBERT = 'portugues')\n",
        "\n",
        "del tokenizador\n",
        "del model"
      ],
      "execution_count": null,
      "outputs": [
        {
          "output_type": "stream",
          "text": [
            "Apagando diretório existente do modelo!\n",
            "--2021-05-27 23:14:00--  https://neuralmind-ai.s3.us-east-2.amazonaws.com/nlp/bert-large-portuguese-cased/bert-large-portuguese-cased_pytorch_checkpoint.zip\n",
            "Resolving neuralmind-ai.s3.us-east-2.amazonaws.com (neuralmind-ai.s3.us-east-2.amazonaws.com)... 52.219.106.250\n",
            "Connecting to neuralmind-ai.s3.us-east-2.amazonaws.com (neuralmind-ai.s3.us-east-2.amazonaws.com)|52.219.106.250|:443... connected.\n",
            "HTTP request sent, awaiting response... 200 OK\n",
            "Length: 1244275810 (1.2G) [application/zip]\n",
            "Saving to: ‘bert-large-portuguese-cased_pytorch_checkpoint.zip’\n",
            "\n",
            "bert-large-portugue 100%[===================>]   1.16G  87.1MB/s    in 18s     \n",
            "\n",
            "2021-05-27 23:14:18 (65.8 MB/s) - ‘bert-large-portuguese-cased_pytorch_checkpoint.zip’ saved [1244275810/1244275810]\n",
            "\n",
            "Archive:  bert-large-portuguese-cased_pytorch_checkpoint.zip\n",
            "  inflating: /content/modelolarge/config.json  \n",
            "  inflating: /content/modelolarge/pytorch_model.bin  \n",
            "--2021-05-27 23:14:37--  https://neuralmind-ai.s3.us-east-2.amazonaws.com/nlp/bert-large-portuguese-cased/vocab.txt\n",
            "Resolving neuralmind-ai.s3.us-east-2.amazonaws.com (neuralmind-ai.s3.us-east-2.amazonaws.com)... 52.219.100.40\n",
            "Connecting to neuralmind-ai.s3.us-east-2.amazonaws.com (neuralmind-ai.s3.us-east-2.amazonaws.com)|52.219.100.40|:443... connected.\n",
            "HTTP request sent, awaiting response... 200 OK\n",
            "Length: 209528 (205K) [text/plain]\n",
            "Saving to: ‘vocab.txt’\n",
            "\n",
            "vocab.txt           100%[===================>] 204.62K  --.-KB/s    in 0.1s    \n",
            "\n",
            "2021-05-27 23:14:38 (1.81 MB/s) - ‘vocab.txt’ saved [209528/209528]\n",
            "\n",
            "Diretório do modelo:'/content/modelolarge' pronta!\n",
            "Carregando o tokenizador BERT_large do diretório '/content/modelolarge' em língua 'portugues'...\n",
            "Carregando o modelo BERT_large do diretório '/content/modelolarge' em língua 'portugues' com os pesos das camadas ocultas=False...\n"
          ],
          "name": "stdout"
        },
        {
          "output_type": "stream",
          "text": [
            "Some weights of the model checkpoint at /content/modelolarge were not used when initializing BertModel: ['cls.predictions.decoder.weight', 'cls.predictions.transform.LayerNorm.weight', 'cls.seq_relationship.bias', 'cls.seq_relationship.weight', 'cls.predictions.transform.dense.weight', 'cls.predictions.transform.dense.bias', 'cls.predictions.transform.LayerNorm.bias', 'cls.predictions.bias']\n",
            "- This IS expected if you are initializing BertModel from the checkpoint of a model trained on another task or with another architecture (e.g. initializing a BertForSequenceClassification model from a BertForPreTraining model).\n",
            "- This IS NOT expected if you are initializing BertModel from the checkpoint of a model that you expect to be exactly identical (initializing a BertForSequenceClassification model from a BertForSequenceClassification model).\n"
          ],
          "name": "stderr"
        }
      ]
    },
    {
      "cell_type": "code",
      "metadata": {
        "colab": {
          "base_uri": "https://localhost:8080/"
        },
        "id": "5bb4Wo-tJdrb",
        "outputId": "a7777883-b0d7-4ba6-9fd0-4109389a288b"
      },
      "source": [
        "tokenizador, model = getBERT(fonteBERT = 'DIRETORIO_MODELO', \n",
        "                             tamanhoBERT = 'base', \n",
        "                             linguaBERT = 'portugues')\n",
        "\n",
        "del tokenizador\n",
        "del model"
      ],
      "execution_count": null,
      "outputs": [
        {
          "output_type": "stream",
          "text": [
            "Apagando diretório existente do modelo!\n",
            "--2021-05-27 23:14:45--  https://neuralmind-ai.s3.us-east-2.amazonaws.com/nlp/bert-base-portuguese-cased/bert-base-portuguese-cased_pytorch_checkpoint.zip\n",
            "Resolving neuralmind-ai.s3.us-east-2.amazonaws.com (neuralmind-ai.s3.us-east-2.amazonaws.com)... 52.219.88.136\n",
            "Connecting to neuralmind-ai.s3.us-east-2.amazonaws.com (neuralmind-ai.s3.us-east-2.amazonaws.com)|52.219.88.136|:443... connected.\n",
            "HTTP request sent, awaiting response... 200 OK\n",
            "Length: 406220891 (387M) [application/zip]\n",
            "Saving to: ‘bert-base-portuguese-cased_pytorch_checkpoint.zip’\n",
            "\n",
            "bert-base-portugues 100%[===================>] 387.40M  88.9MB/s    in 4.6s    \n",
            "\n",
            "2021-05-27 23:14:50 (84.6 MB/s) - ‘bert-base-portuguese-cased_pytorch_checkpoint.zip’ saved [406220891/406220891]\n",
            "\n",
            "Archive:  bert-base-portuguese-cased_pytorch_checkpoint.zip\n",
            "  inflating: /content/modelobase/config.json  \n",
            "  inflating: /content/modelobase/pytorch_model.bin  \n",
            "--2021-05-27 23:14:57--  https://neuralmind-ai.s3.us-east-2.amazonaws.com/nlp/bert-base-portuguese-cased/vocab.txt\n",
            "Resolving neuralmind-ai.s3.us-east-2.amazonaws.com (neuralmind-ai.s3.us-east-2.amazonaws.com)... 52.219.105.242\n",
            "Connecting to neuralmind-ai.s3.us-east-2.amazonaws.com (neuralmind-ai.s3.us-east-2.amazonaws.com)|52.219.105.242|:443... connected.\n",
            "HTTP request sent, awaiting response... 200 OK\n",
            "Length: 209528 (205K) [text/plain]\n",
            "Saving to: ‘vocab.txt’\n",
            "\n",
            "vocab.txt           100%[===================>] 204.62K  --.-KB/s    in 0.1s    \n",
            "\n",
            "2021-05-27 23:14:57 (1.84 MB/s) - ‘vocab.txt’ saved [209528/209528]\n",
            "\n",
            "Diretório do modelo:'/content/modelobase' pronta!\n",
            "Carregando o tokenizador BERT_base do diretório '/content/modelobase' em língua 'portugues'...\n",
            "Carregando o modelo BERT_base do diretório '/content/modelobase' em língua 'portugues' com os pesos das camadas ocultas=False...\n"
          ],
          "name": "stdout"
        },
        {
          "output_type": "stream",
          "text": [
            "Some weights of the model checkpoint at /content/modelobase were not used when initializing BertModel: ['cls.predictions.decoder.weight', 'cls.predictions.transform.LayerNorm.weight', 'cls.seq_relationship.bias', 'cls.seq_relationship.weight', 'cls.predictions.transform.dense.weight', 'cls.predictions.transform.dense.bias', 'cls.predictions.transform.LayerNorm.bias', 'cls.predictions.bias']\n",
            "- This IS expected if you are initializing BertModel from the checkpoint of a model trained on another task or with another architecture (e.g. initializing a BertForSequenceClassification model from a BertForPreTraining model).\n",
            "- This IS NOT expected if you are initializing BertModel from the checkpoint of a model that you expect to be exactly identical (initializing a BertForSequenceClassification model from a BertForSequenceClassification model).\n"
          ],
          "name": "stderr"
        }
      ]
    },
    {
      "cell_type": "code",
      "metadata": {
        "colab": {
          "base_uri": "https://localhost:8080/"
        },
        "id": "hLMo2uDcJdrc",
        "outputId": "ddc313c3-e585-4c3c-ed7d-391e3df3d39c"
      },
      "source": [
        "tokenizador, model = getBERT(fonteBERT = 'comunidade', \n",
        "                             tamanhoBERT = 'large', \n",
        "                             linguaBERT = 'portugues')\n",
        "\n",
        "del tokenizador\n",
        "del model"
      ],
      "execution_count": null,
      "outputs": [
        {
          "output_type": "stream",
          "text": [
            "Carregando o tokenizador BERT 'neuralmind/bert-large-portuguese-cased' da comunidade em língua 'portugues'...\n",
            "Carregando o modelo BERT 'neuralmind/bert-large-portuguese-cased' da comunidade em língua 'portugues' com os pesos das camadas ocultas=False...\n"
          ],
          "name": "stdout"
        },
        {
          "output_type": "stream",
          "text": [
            "Some weights of the model checkpoint at neuralmind/bert-large-portuguese-cased were not used when initializing BertModel: ['cls.predictions.decoder.weight', 'cls.predictions.transform.LayerNorm.weight', 'cls.seq_relationship.bias', 'cls.seq_relationship.weight', 'cls.predictions.transform.dense.weight', 'cls.predictions.transform.dense.bias', 'cls.predictions.transform.LayerNorm.bias', 'cls.predictions.bias']\n",
            "- This IS expected if you are initializing BertModel from the checkpoint of a model trained on another task or with another architecture (e.g. initializing a BertForSequenceClassification model from a BertForPreTraining model).\n",
            "- This IS NOT expected if you are initializing BertModel from the checkpoint of a model that you expect to be exactly identical (initializing a BertForSequenceClassification model from a BertForSequenceClassification model).\n"
          ],
          "name": "stderr"
        }
      ]
    },
    {
      "cell_type": "code",
      "metadata": {
        "colab": {
          "base_uri": "https://localhost:8080/"
        },
        "id": "lSsVR5LSJdrc",
        "outputId": "afe391c2-05cf-412a-991e-bc0f885254cb"
      },
      "source": [
        "tokenizador, model = getBERT(fonteBERT = 'comunidade', \n",
        "                             tamanhoBERT = 'base', \n",
        "                             linguaBERT = 'portugues')\n",
        "\n",
        "del tokenizador\n",
        "del model"
      ],
      "execution_count": null,
      "outputs": [
        {
          "output_type": "stream",
          "text": [
            "Carregando o tokenizador BERT 'neuralmind/bert-base-portuguese-cased' da comunidade em língua 'portugues'...\n",
            "Carregando o modelo BERT 'neuralmind/bert-base-portuguese-cased' da comunidade em língua 'portugues' com os pesos das camadas ocultas=False...\n"
          ],
          "name": "stdout"
        },
        {
          "output_type": "stream",
          "text": [
            "Some weights of the model checkpoint at neuralmind/bert-base-portuguese-cased were not used when initializing BertModel: ['cls.predictions.decoder.weight', 'cls.predictions.transform.LayerNorm.weight', 'cls.seq_relationship.bias', 'cls.seq_relationship.weight', 'cls.predictions.transform.dense.weight', 'cls.predictions.transform.dense.bias', 'cls.predictions.transform.LayerNorm.bias', 'cls.predictions.bias']\n",
            "- This IS expected if you are initializing BertModel from the checkpoint of a model trained on another task or with another architecture (e.g. initializing a BertForSequenceClassification model from a BertForPreTraining model).\n",
            "- This IS NOT expected if you are initializing BertModel from the checkpoint of a model that you expect to be exactly identical (initializing a BertForSequenceClassification model from a BertForSequenceClassification model).\n"
          ],
          "name": "stderr"
        }
      ]
    },
    {
      "cell_type": "code",
      "metadata": {
        "colab": {
          "base_uri": "https://localhost:8080/"
        },
        "id": "uj1VR--SJdrc",
        "outputId": "3589893b-4631-4f6b-9a39-779704f850ff"
      },
      "source": [
        "tokenizador, model = getBERT(fonteBERT = 'comunidade', \n",
        "                             tamanhoBERT = 'base', \n",
        "                             linguaBERT = 'portugues',\n",
        "                             cased = True,\n",
        "                             pesosCamadasOcultas = False)\n",
        "\n",
        "del tokenizador\n",
        "del model"
      ],
      "execution_count": null,
      "outputs": [
        {
          "output_type": "stream",
          "text": [
            "Carregando o tokenizador BERT 'neuralmind/bert-base-portuguese-cased' da comunidade em língua 'portugues'...\n",
            "Carregando o modelo BERT 'neuralmind/bert-base-portuguese-cased' da comunidade em língua 'portugues' com os pesos das camadas ocultas=False...\n"
          ],
          "name": "stdout"
        },
        {
          "output_type": "stream",
          "text": [
            "Some weights of the model checkpoint at neuralmind/bert-base-portuguese-cased were not used when initializing BertModel: ['cls.predictions.decoder.weight', 'cls.predictions.transform.LayerNorm.weight', 'cls.seq_relationship.bias', 'cls.seq_relationship.weight', 'cls.predictions.transform.dense.weight', 'cls.predictions.transform.dense.bias', 'cls.predictions.transform.LayerNorm.bias', 'cls.predictions.bias']\n",
            "- This IS expected if you are initializing BertModel from the checkpoint of a model trained on another task or with another architecture (e.g. initializing a BertForSequenceClassification model from a BertForPreTraining model).\n",
            "- This IS NOT expected if you are initializing BertModel from the checkpoint of a model that you expect to be exactly identical (initializing a BertForSequenceClassification model from a BertForSequenceClassification model).\n"
          ],
          "name": "stderr"
        }
      ]
    },
    {
      "cell_type": "code",
      "metadata": {
        "id": "vJcWfn9JJdrd",
        "colab": {
          "base_uri": "https://localhost:8080/"
        },
        "outputId": "858092cf-f4b9-4429-89c6-08b219cd76ad"
      },
      "source": [
        "tokenizador, model = getBERT(tamanhoBERT = 'large', \n",
        "                             linguaBERT = 'ingles')\n",
        "\n",
        "del tokenizador\n",
        "del model"
      ],
      "execution_count": null,
      "outputs": [
        {
          "output_type": "stream",
          "text": [
            "O modelo BERT na língua inglesa deve ser carregado somente da comunidade.\n",
            "Carregando o tokenizador BERT 'bert-large-cased' da comunidade em língua 'ingles'...\n",
            "Carregando o modelo BERT 'bert-large-cased' da comunidade em língua 'ingles' com os pesos das camadas ocultas=False...\n"
          ],
          "name": "stdout"
        },
        {
          "output_type": "stream",
          "text": [
            "Some weights of the model checkpoint at bert-large-cased were not used when initializing BertModel: ['cls.predictions.decoder.weight', 'cls.predictions.transform.LayerNorm.weight', 'cls.seq_relationship.bias', 'cls.seq_relationship.weight', 'cls.predictions.transform.dense.weight', 'cls.predictions.transform.dense.bias', 'cls.predictions.transform.LayerNorm.bias', 'cls.predictions.bias']\n",
            "- This IS expected if you are initializing BertModel from the checkpoint of a model trained on another task or with another architecture (e.g. initializing a BertForSequenceClassification model from a BertForPreTraining model).\n",
            "- This IS NOT expected if you are initializing BertModel from the checkpoint of a model that you expect to be exactly identical (initializing a BertForSequenceClassification model from a BertForSequenceClassification model).\n"
          ],
          "name": "stderr"
        }
      ]
    },
    {
      "cell_type": "code",
      "metadata": {
        "id": "G_aODOWXJdrd",
        "colab": {
          "base_uri": "https://localhost:8080/"
        },
        "outputId": "36a903e2-b963-4f40-cbe7-9a44a887ea4b"
      },
      "source": [
        "tokenizador, model = getBERT(tamanhoBERT = 'base', \n",
        "                             linguaBERT = 'ingles')\n",
        "\n",
        "del tokenizador\n",
        "del model"
      ],
      "execution_count": null,
      "outputs": [
        {
          "output_type": "stream",
          "text": [
            "O modelo BERT na língua inglesa deve ser carregado somente da comunidade.\n",
            "Carregando o tokenizador BERT 'bert-base-cased' da comunidade em língua 'ingles'...\n",
            "Carregando o modelo BERT 'bert-base-cased' da comunidade em língua 'ingles' com os pesos das camadas ocultas=False...\n"
          ],
          "name": "stdout"
        },
        {
          "output_type": "stream",
          "text": [
            "Some weights of the model checkpoint at bert-base-cased were not used when initializing BertModel: ['cls.predictions.decoder.weight', 'cls.predictions.transform.LayerNorm.weight', 'cls.seq_relationship.bias', 'cls.seq_relationship.weight', 'cls.predictions.transform.dense.weight', 'cls.predictions.transform.dense.bias', 'cls.predictions.transform.LayerNorm.bias', 'cls.predictions.bias']\n",
            "- This IS expected if you are initializing BertModel from the checkpoint of a model trained on another task or with another architecture (e.g. initializing a BertForSequenceClassification model from a BertForPreTraining model).\n",
            "- This IS NOT expected if you are initializing BertModel from the checkpoint of a model that you expect to be exactly identical (initializing a BertForSequenceClassification model from a BertForSequenceClassification model).\n"
          ],
          "name": "stderr"
        }
      ]
    },
    {
      "cell_type": "code",
      "metadata": {
        "id": "2l1p9WcAJdrd",
        "colab": {
          "base_uri": "https://localhost:8080/"
        },
        "outputId": "0b2d7ca6-6cdb-4566-ceca-95ebd569f205"
      },
      "source": [
        "tokenizador, model = getBERT(fonteBERT = 'DIRETORIO_MODELO', \n",
        "                             tamanhoBERT = 'large', \n",
        "                             linguaBERT = 'ingles')\n",
        "\n",
        "del tokenizador\n",
        "del model"
      ],
      "execution_count": null,
      "outputs": [
        {
          "output_type": "stream",
          "text": [
            "O modelo BERT na língua inglesa deve ser carregado somente da comunidade.\n",
            "Carregando o tokenizador BERT 'bert-large-cased' da comunidade em língua 'ingles'...\n",
            "Carregando o modelo BERT 'bert-large-cased' da comunidade em língua 'ingles' com os pesos das camadas ocultas=False...\n"
          ],
          "name": "stdout"
        },
        {
          "output_type": "stream",
          "text": [
            "Some weights of the model checkpoint at bert-large-cased were not used when initializing BertModel: ['cls.predictions.decoder.weight', 'cls.predictions.transform.LayerNorm.weight', 'cls.seq_relationship.bias', 'cls.seq_relationship.weight', 'cls.predictions.transform.dense.weight', 'cls.predictions.transform.dense.bias', 'cls.predictions.transform.LayerNorm.bias', 'cls.predictions.bias']\n",
            "- This IS expected if you are initializing BertModel from the checkpoint of a model trained on another task or with another architecture (e.g. initializing a BertForSequenceClassification model from a BertForPreTraining model).\n",
            "- This IS NOT expected if you are initializing BertModel from the checkpoint of a model that you expect to be exactly identical (initializing a BertForSequenceClassification model from a BertForSequenceClassification model).\n"
          ],
          "name": "stderr"
        }
      ]
    },
    {
      "cell_type": "code",
      "metadata": {
        "id": "NXgU_Zi9Jdre",
        "colab": {
          "base_uri": "https://localhost:8080/"
        },
        "outputId": "4b87507c-9e6b-4e1b-d5ef-1dc8620ecd24"
      },
      "source": [
        "tokenizador, model = getBERT(fonteBERT = 'DIRETORIO_MODELO', \n",
        "                             tamanhoBERT = 'base', \n",
        "                             linguaBERT = 'ingles')\n",
        "\n",
        "del tokenizador\n",
        "del model"
      ],
      "execution_count": null,
      "outputs": [
        {
          "output_type": "stream",
          "text": [
            "O modelo BERT na língua inglesa deve ser carregado somente da comunidade.\n",
            "Carregando o tokenizador BERT 'bert-base-cased' da comunidade em língua 'ingles'...\n",
            "Carregando o modelo BERT 'bert-base-cased' da comunidade em língua 'ingles' com os pesos das camadas ocultas=False...\n"
          ],
          "name": "stdout"
        },
        {
          "output_type": "stream",
          "text": [
            "Some weights of the model checkpoint at bert-base-cased were not used when initializing BertModel: ['cls.predictions.decoder.weight', 'cls.predictions.transform.LayerNorm.weight', 'cls.seq_relationship.bias', 'cls.seq_relationship.weight', 'cls.predictions.transform.dense.weight', 'cls.predictions.transform.dense.bias', 'cls.predictions.transform.LayerNorm.bias', 'cls.predictions.bias']\n",
            "- This IS expected if you are initializing BertModel from the checkpoint of a model trained on another task or with another architecture (e.g. initializing a BertForSequenceClassification model from a BertForPreTraining model).\n",
            "- This IS NOT expected if you are initializing BertModel from the checkpoint of a model that you expect to be exactly identical (initializing a BertForSequenceClassification model from a BertForSequenceClassification model).\n"
          ],
          "name": "stderr"
        }
      ]
    },
    {
      "cell_type": "code",
      "metadata": {
        "id": "lNs-129MJdre",
        "colab": {
          "base_uri": "https://localhost:8080/"
        },
        "outputId": "7bcaf153-3670-4eb3-a8eb-366489eac061"
      },
      "source": [
        "tokenizador, model = getBERT(fonteBERT = 'comunidade', \n",
        "                             tamanhoBERT = 'large', \n",
        "                             linguaBERT = 'ingles')\n",
        "\n",
        "del tokenizador\n",
        "del model"
      ],
      "execution_count": null,
      "outputs": [
        {
          "output_type": "stream",
          "text": [
            "O modelo BERT na língua inglesa deve ser carregado somente da comunidade.\n",
            "Carregando o tokenizador BERT 'bert-large-cased' da comunidade em língua 'ingles'...\n",
            "Carregando o modelo BERT 'bert-large-cased' da comunidade em língua 'ingles' com os pesos das camadas ocultas=False...\n"
          ],
          "name": "stdout"
        },
        {
          "output_type": "stream",
          "text": [
            "Some weights of the model checkpoint at bert-large-cased were not used when initializing BertModel: ['cls.predictions.decoder.weight', 'cls.predictions.transform.LayerNorm.weight', 'cls.seq_relationship.bias', 'cls.seq_relationship.weight', 'cls.predictions.transform.dense.weight', 'cls.predictions.transform.dense.bias', 'cls.predictions.transform.LayerNorm.bias', 'cls.predictions.bias']\n",
            "- This IS expected if you are initializing BertModel from the checkpoint of a model trained on another task or with another architecture (e.g. initializing a BertForSequenceClassification model from a BertForPreTraining model).\n",
            "- This IS NOT expected if you are initializing BertModel from the checkpoint of a model that you expect to be exactly identical (initializing a BertForSequenceClassification model from a BertForSequenceClassification model).\n"
          ],
          "name": "stderr"
        }
      ]
    },
    {
      "cell_type": "code",
      "metadata": {
        "id": "fRPN8NFaJdre",
        "colab": {
          "base_uri": "https://localhost:8080/"
        },
        "outputId": "dbcc3548-543e-409b-f477-16f587a72f07"
      },
      "source": [
        "tokenizador, model = getBERT(fonteBERT = 'comunidade', \n",
        "                             tamanhoBERT = 'base', \n",
        "                             linguaBERT = 'ingles') \n",
        "\n",
        "del tokenizador\n",
        "del model"
      ],
      "execution_count": null,
      "outputs": [
        {
          "output_type": "stream",
          "text": [
            "O modelo BERT na língua inglesa deve ser carregado somente da comunidade.\n",
            "Carregando o tokenizador BERT 'bert-base-cased' da comunidade em língua 'ingles'...\n",
            "Carregando o modelo BERT 'bert-base-cased' da comunidade em língua 'ingles' com os pesos das camadas ocultas=False...\n"
          ],
          "name": "stdout"
        },
        {
          "output_type": "stream",
          "text": [
            "Some weights of the model checkpoint at bert-base-cased were not used when initializing BertModel: ['cls.predictions.decoder.weight', 'cls.predictions.transform.LayerNorm.weight', 'cls.seq_relationship.bias', 'cls.seq_relationship.weight', 'cls.predictions.transform.dense.weight', 'cls.predictions.transform.dense.bias', 'cls.predictions.transform.LayerNorm.bias', 'cls.predictions.bias']\n",
            "- This IS expected if you are initializing BertModel from the checkpoint of a model trained on another task or with another architecture (e.g. initializing a BertForSequenceClassification model from a BertForPreTraining model).\n",
            "- This IS NOT expected if you are initializing BertModel from the checkpoint of a model that you expect to be exactly identical (initializing a BertForSequenceClassification model from a BertForSequenceClassification model).\n"
          ],
          "name": "stderr"
        }
      ]
    },
    {
      "cell_type": "code",
      "metadata": {
        "id": "S2FS0UuUJdrf",
        "colab": {
          "base_uri": "https://localhost:8080/"
        },
        "outputId": "c80d989f-9403-40c0-a6aa-8c5cf079c4b1"
      },
      "source": [
        "tokenizador, model = getBERT(fonteBERT = 'comunidade', \n",
        "                             tamanhoBERT = 'base', \n",
        "                             linguaBERT = 'ingles', \n",
        "                             cased = True,\n",
        "                             pesosCamadasOcultas = False)\n",
        "\n",
        "del tokenizador\n",
        "del model"
      ],
      "execution_count": null,
      "outputs": [
        {
          "output_type": "stream",
          "text": [
            "O modelo BERT na língua inglesa deve ser carregado somente da comunidade.\n",
            "Carregando o tokenizador BERT 'bert-base-cased' da comunidade em língua 'ingles'...\n",
            "Carregando o modelo BERT 'bert-base-cased' da comunidade em língua 'ingles' com os pesos das camadas ocultas=False...\n"
          ],
          "name": "stdout"
        },
        {
          "output_type": "stream",
          "text": [
            "Some weights of the model checkpoint at bert-base-cased were not used when initializing BertModel: ['cls.predictions.decoder.weight', 'cls.predictions.transform.LayerNorm.weight', 'cls.seq_relationship.bias', 'cls.seq_relationship.weight', 'cls.predictions.transform.dense.weight', 'cls.predictions.transform.dense.bias', 'cls.predictions.transform.LayerNorm.bias', 'cls.predictions.bias']\n",
            "- This IS expected if you are initializing BertModel from the checkpoint of a model trained on another task or with another architecture (e.g. initializing a BertForSequenceClassification model from a BertForPreTraining model).\n",
            "- This IS NOT expected if you are initializing BertModel from the checkpoint of a model that you expect to be exactly identical (initializing a BertForSequenceClassification model from a BertForSequenceClassification model).\n"
          ],
          "name": "stderr"
        }
      ]
    },
    {
      "cell_type": "code",
      "metadata": {
        "id": "txJZeLdzJdrf",
        "colab": {
          "base_uri": "https://localhost:8080/"
        },
        "outputId": "f6b4401f-018e-47a8-a0ac-e026e3b9e3e2"
      },
      "source": [
        "tokenizador, model = getBERT(fonteBERT = 'comunidade', \n",
        "                             tamanhoBERT = 'base', \n",
        "                             linguaBERT = 'multilingual', \n",
        "                             cased = True,\n",
        "                             pesosCamadasOcultas = False)\n",
        "\n",
        "del tokenizador\n",
        "del model"
      ],
      "execution_count": null,
      "outputs": [
        {
          "output_type": "stream",
          "text": [
            "Carregando o tokenizador BERT 'bert-base-multilingual-cased' da comunidade em língua 'multilingual'...\n",
            "Carregando o modelo BERT 'bert-base-multilingual-cased' da comunidade em língua 'multilingual' com os pesos das camadas ocultas=False...\n"
          ],
          "name": "stdout"
        },
        {
          "output_type": "stream",
          "text": [
            "Some weights of the model checkpoint at bert-base-multilingual-cased were not used when initializing BertModel: ['cls.predictions.decoder.weight', 'cls.predictions.transform.LayerNorm.weight', 'cls.seq_relationship.bias', 'cls.seq_relationship.weight', 'cls.predictions.transform.dense.weight', 'cls.predictions.transform.dense.bias', 'cls.predictions.transform.LayerNorm.bias', 'cls.predictions.bias']\n",
            "- This IS expected if you are initializing BertModel from the checkpoint of a model trained on another task or with another architecture (e.g. initializing a BertForSequenceClassification model from a BertForPreTraining model).\n",
            "- This IS NOT expected if you are initializing BertModel from the checkpoint of a model that you expect to be exactly identical (initializing a BertForSequenceClassification model from a BertForSequenceClassification model).\n"
          ],
          "name": "stderr"
        }
      ]
    },
    {
      "cell_type": "code",
      "metadata": {
        "id": "rB5Ai0eKRkht",
        "colab": {
          "base_uri": "https://localhost:8080/",
          "height": 367,
          "referenced_widgets": [
            "02442e4d7eba4c3cb6f5d28391596c6d",
            "dfa56925ec844bb09ed9d85e66475944",
            "4c55e96d106d48859d3e7e0b2dab74f4",
            "07cbed5e171a4aa3b00308e5f53918e5",
            "6d26671ae3854aa6a6ee1d2a09890288",
            "7d4b1d8fa70c48f4aed304a6a4f14dc8",
            "c977f310a0fa4c929ee16db921b52990",
            "f62e3300b9f64ad4bdcfdab9febcaa3d",
            "956c8ee66e2f42178a3511aa719787d0",
            "b23861c12d2b41b8b969c98ce5721aad",
            "5427767c30014fd6bcaf248de0b26b3e",
            "3f1441775def469180d6629e0827c143",
            "8fb0f6ad04e344ffb73889ded078621d",
            "34c78eb0a5184f6e8f689ec4cc5a0e35",
            "e446944ceb7b48b7861aa52a7df72abe",
            "cd249436c7694f489db03aeacce0e329",
            "f9a47043878e47a398f6374330784a01",
            "d698f067455e4f428d070a550278419d",
            "ea6c388bde584fec9c2aeb19fb9ec8c1",
            "53e5d6255722433fa9efe7aeaf1b309c",
            "7202f37104b54548821164b1b900cb15",
            "88ba4eeb76fd4b2698d64448e8f753b8",
            "c7622cfe785a423daf2eb011d39e3f9f",
            "3461fac6b96d4a01a45bb65c9d0a4bca",
            "70f1f5aa4996450aa1480a548f558e64",
            "93c8a9c60b6b43e7803c76351d7be27b",
            "39dfec178c7e476dbf9a43d9332050fd",
            "ab07477a354c490fb0c58a2e2a77886e",
            "aae31b1bd381486199885d6f8bcc0003",
            "c76cde6fdefa47f796155704cacf87db",
            "c34883aceebf4a8085324c963efb217d",
            "c194c45e1f114b7d9599edc4d82e978c",
            "464b736b4aff4d37a9fb5b883998d8cd",
            "c4e07eed4bb24cb492532cf70f56e5bf",
            "17a290ba4d934de89026056fe3b68484",
            "57c1946d60e84c91a7d3869d7fe0e82d",
            "3c69bcacacb749f6af410d7f80319346",
            "de25bc5e51804f77a41e402da9c16d63",
            "19642174d32343f4aa0375a82c6299e3",
            "dde6e5b3c86b46f6913392588d3669c4"
          ]
        },
        "outputId": "616d7cbd-e698-4d91-b1a5-4e3a8f5f1558"
      },
      "source": [
        "tokenizador, model = getBERT(fonteBERT = 'comunidade', \n",
        "                             tamanhoBERT = 'base', \n",
        "                             linguaBERT = 'multilingual', \n",
        "                             cased = False,\n",
        "                             pesosCamadasOcultas = False)\n",
        "\n",
        "del tokenizador\n",
        "del model"
      ],
      "execution_count": null,
      "outputs": [
        {
          "output_type": "stream",
          "text": [
            "Carregando o tokenizador BERT 'bert-base-multilingual-uncased' da comunidade em língua 'multilingual'...\n"
          ],
          "name": "stdout"
        },
        {
          "output_type": "display_data",
          "data": {
            "application/vnd.jupyter.widget-view+json": {
              "model_id": "02442e4d7eba4c3cb6f5d28391596c6d",
              "version_minor": 0,
              "version_major": 2
            },
            "text/plain": [
              "HBox(children=(FloatProgress(value=0.0, description='Downloading', max=871891.0, style=ProgressStyle(descripti…"
            ]
          },
          "metadata": {
            "tags": []
          }
        },
        {
          "output_type": "stream",
          "text": [
            "\n"
          ],
          "name": "stdout"
        },
        {
          "output_type": "display_data",
          "data": {
            "application/vnd.jupyter.widget-view+json": {
              "model_id": "956c8ee66e2f42178a3511aa719787d0",
              "version_minor": 0,
              "version_major": 2
            },
            "text/plain": [
              "HBox(children=(FloatProgress(value=0.0, description='Downloading', max=28.0, style=ProgressStyle(description_w…"
            ]
          },
          "metadata": {
            "tags": []
          }
        },
        {
          "output_type": "stream",
          "text": [
            "\n"
          ],
          "name": "stdout"
        },
        {
          "output_type": "display_data",
          "data": {
            "application/vnd.jupyter.widget-view+json": {
              "model_id": "f9a47043878e47a398f6374330784a01",
              "version_minor": 0,
              "version_major": 2
            },
            "text/plain": [
              "HBox(children=(FloatProgress(value=0.0, description='Downloading', max=1715180.0, style=ProgressStyle(descript…"
            ]
          },
          "metadata": {
            "tags": []
          }
        },
        {
          "output_type": "stream",
          "text": [
            "\n",
            "Carregando o modelo BERT 'bert-base-multilingual-uncased' da comunidade em língua 'multilingual' com os pesos das camadas ocultas=False...\n"
          ],
          "name": "stdout"
        },
        {
          "output_type": "display_data",
          "data": {
            "application/vnd.jupyter.widget-view+json": {
              "model_id": "70f1f5aa4996450aa1480a548f558e64",
              "version_minor": 0,
              "version_major": 2
            },
            "text/plain": [
              "HBox(children=(FloatProgress(value=0.0, description='Downloading', max=625.0, style=ProgressStyle(description_…"
            ]
          },
          "metadata": {
            "tags": []
          }
        },
        {
          "output_type": "stream",
          "text": [
            "\n"
          ],
          "name": "stdout"
        },
        {
          "output_type": "display_data",
          "data": {
            "application/vnd.jupyter.widget-view+json": {
              "model_id": "464b736b4aff4d37a9fb5b883998d8cd",
              "version_minor": 0,
              "version_major": 2
            },
            "text/plain": [
              "HBox(children=(FloatProgress(value=0.0, description='Downloading', max=672271273.0, style=ProgressStyle(descri…"
            ]
          },
          "metadata": {
            "tags": []
          }
        },
        {
          "output_type": "stream",
          "text": [
            "\n"
          ],
          "name": "stdout"
        },
        {
          "output_type": "stream",
          "text": [
            "Some weights of the model checkpoint at bert-base-multilingual-uncased were not used when initializing BertModel: ['cls.predictions.decoder.weight', 'cls.predictions.transform.LayerNorm.weight', 'cls.seq_relationship.bias', 'cls.seq_relationship.weight', 'cls.predictions.transform.dense.weight', 'cls.predictions.transform.dense.bias', 'cls.predictions.transform.LayerNorm.bias', 'cls.predictions.bias']\n",
            "- This IS expected if you are initializing BertModel from the checkpoint of a model trained on another task or with another architecture (e.g. initializing a BertForSequenceClassification model from a BertForPreTraining model).\n",
            "- This IS NOT expected if you are initializing BertModel from the checkpoint of a model that you expect to be exactly identical (initializing a BertForSequenceClassification model from a BertForSequenceClassification model).\n"
          ],
          "name": "stderr"
        }
      ]
    },
    {
      "cell_type": "code",
      "metadata": {
        "id": "MMWZ7i21Jdrf",
        "colab": {
          "base_uri": "https://localhost:8080/"
        },
        "outputId": "f2ed2ceb-18b1-481b-ad09-08c472837e0b"
      },
      "source": [
        "import gc\n",
        "gc.collect()"
      ],
      "execution_count": null,
      "outputs": [
        {
          "output_type": "execute_result",
          "data": {
            "text/plain": [
              "558"
            ]
          },
          "metadata": {
            "tags": []
          },
          "execution_count": 67
        }
      ]
    },
    {
      "cell_type": "markdown",
      "metadata": {
        "id": "gci3FLLlLUJE"
      },
      "source": [
        "## Declarando uma função que recupera embeddings de frase"
      ]
    },
    {
      "cell_type": "code",
      "metadata": {
        "id": "oeaDaUvaLoC4"
      },
      "source": [
        "def getEmbedding(texto, tokenizadorBERT, modeloBERT):\n",
        "\n",
        "    \"\"\"\n",
        "    Retorna os embeddings de uma frase utilizando um tokenizador e modelo BERT carregado.\n",
        "    \n",
        "    Args:\n",
        "        texto: Texto a ser convertindo em embeddings utilizando o BERT.\n",
        "        tokenizadorBERT: Tokenizador BERT carregado.\n",
        "        modelBERT: Modelo BERT carregado.\n",
        "        \n",
        "    Returns:\n",
        "          0-texto_tokenizado, \n",
        "          1-input_ids, \n",
        "          2-attention_mask, \n",
        "          3-token_type_ids, \n",
        "          4-outputs \n",
        "              0-last_hidden_state,\n",
        "              1-pooler_output,\n",
        "              2-hidden_states\n",
        "    \"\"\"\n",
        "    # Importando a biblioteca\n",
        "    import torch\n",
        "\n",
        "    # Adiciona os tokens especiais\n",
        "    texto_marcado = \"[CLS] \" + texto + \" [SEP]\"\n",
        "\n",
        "    # Tokeniza o texto marcado\n",
        "    texto_tokenizado = tokenizer.tokenize(texto_marcado)\n",
        "    \n",
        "    # Recupera a quantidade tokens do texto tokenizado\n",
        "    qtdeTokens = len(texto_tokenizado)\n",
        "\n",
        "    #tokeniza o texto e retorna os tensores\n",
        "    dic_codificado = tokenizadorBERT.encode_plus(\n",
        "                        text=texto,                     # texto a ser codificado.\n",
        "                        add_special_tokens = True,      # Adiciona os tokens especiais '[CLS]' e '[SEP]'\n",
        "                        max_length = qtdeTokens,        # Define o tamanho máximo para preencheer ou truncar.\n",
        "                        truncation = True,              # Trunca o texto por max_length\n",
        "                        padding = 'max_length',         # Preenche o texto até max_length\n",
        "                        return_attention_mask = True,   # Constrói a máscara de atenção.\n",
        "                        return_tensors = 'pt'           # Retorna os dados como tensores pytorch.\n",
        "                   )                   \n",
        "\n",
        "    # Ids dos tokens de entrada mapeados em seus índices do vocabuário    \n",
        "    input_ids =  dic_codificado['input_ids']\n",
        "\n",
        "    # Máscara de atenção de cada um dos tokens como pertencentes à frase \"1\".\n",
        "    attention_mask = dic_codificado['attention_mask']\n",
        "\n",
        "    # Recupera os tensores dos segmentos\n",
        "    token_type_ids = dic_codificado['token_type_ids']\n",
        "\n",
        "    # Roda o texto através do BERT, e coleta todos os estados ocultos produzidos\n",
        "    # das 12 camadas. \n",
        "    with torch.no_grad():\n",
        "\n",
        "        # Passe para a frente, calcule as previsões e coloque em resultado\n",
        "        # Os resultados são retornados no objeto resultado, documentado aqui:\n",
        "        # https://huggingface.co/transformers/main_classes/output.html#transformers.modeling_outputs.SequenceClassifierOutput\n",
        "        resultado = modeloBERT(input_ids=input_ids, \n",
        "                             attention_mask=attention_mask)\n",
        "\n",
        "        # A avaliação do modelo retorna um número de diferentes objetos com base em\n",
        "        # como é configurado na chamada do método `from_pretrained` anterior. Nesse caso,\n",
        "        # porque definimos `output_hidden_states = True`, o terceiro item será o\n",
        "        # estados ocultos(hidden_states) de todas as camadas. Veja a documentação para mais detalhes:\n",
        "        # https://huggingface.co/transformers/model_doc/bert.html#bertmodel\n",
        "       \n",
        "    # 0-texto_tokenizado, 1-input_ids, 2-attention_mask, 3-token_type_ids, 4-resultado    \n",
        "    return texto_tokenizado, input_ids, attention_mask, token_type_ids, resultado"
      ],
      "execution_count": null,
      "outputs": []
    },
    {
      "cell_type": "markdown",
      "metadata": {
        "id": "eV8B1VdVxF4l"
      },
      "source": [
        "# 4 Preparando a entrada"
      ]
    },
    {
      "cell_type": "markdown",
      "metadata": {
        "id": "PieeR7bQxKO2"
      },
      "source": [
        "## Tokenizador"
      ]
    },
    {
      "cell_type": "markdown",
      "metadata": {
        "id": "dedf1fOJyYkR"
      },
      "source": [
        "### Exemplo do tokenizador com método 'tokenize'"
      ]
    },
    {
      "cell_type": "code",
      "metadata": {
        "id": "Pl7-DgNpxTkd",
        "colab": {
          "base_uri": "https://localhost:8080/"
        },
        "outputId": "3865ed23-99ad-4ac0-993d-f9884bd7b140"
      },
      "source": [
        "# Recupera o tokenizador BERT\n",
        "tokenizer = getTokenizadorBERT()\n",
        "\n",
        "# Texto de exemplo\n",
        "texto = \"O que é embedding?\"\n",
        "\n",
        "# Adiciona os tokens especiais\n",
        "texto_marcado = \"[CLS] \" + texto + \" [SEP]\"\n",
        "\n",
        "# Tokeniza o texto em tokens\n",
        "texto_tokenizado = tokenizer.tokenize(texto_marcado)\n",
        "\n",
        "# Mostra o texto exemplo\n",
        "print(\"Texto exemplo      :\", texto)\n",
        "\n",
        "# Mostra o texto marcado\n",
        "print(\"Texto marcado      :\", texto_marcado)\n",
        "\n",
        "# Mostra o texto tokenizado\n",
        "print(\"Texto tokenizado   :\", texto_tokenizado)"
      ],
      "execution_count": null,
      "outputs": [
        {
          "output_type": "stream",
          "text": [
            "Carregando o tokenizador BERT 'neuralmind/bert-base-portuguese-cased' da comunidade em língua 'portugues'...\n",
            "Texto exemplo      : O que é embedding?\n",
            "Texto marcado      : [CLS] O que é embedding? [SEP]\n",
            "Texto tokenizado   : ['[CLS]', 'O', 'que', 'é', 'em', '##be', '##dd', '##ing', '?', '[SEP]']\n"
          ],
          "name": "stdout"
        }
      ]
    },
    {
      "cell_type": "markdown",
      "metadata": {
        "id": "tVhPYQg_yMl0"
      },
      "source": [
        "## Codificador (input_ids)\n",
        "\n",
        "Converte cada token do texto tokenizado para um id presente no vocabulário do modelo do Tokenizador. Se houver um token que não está presente no vocabulário, o tokenizador usará o id token especial [UNK].\n",
        "\n",
        "- encode\n",
        "- convert_tokens_to_ids"
      ]
    },
    {
      "cell_type": "markdown",
      "metadata": {
        "id": "_ezUjHyRMIuQ"
      },
      "source": [
        "### Exemplo de gerador do id do token com o método 'encode'\n",
        "\n",
        "Método encode tokeniza e converte os tokens para os ids do vocabulário."
      ]
    },
    {
      "cell_type": "code",
      "metadata": {
        "id": "PlXtmkcjMNu0",
        "colab": {
          "base_uri": "https://localhost:8080/"
        },
        "outputId": "b25153a6-0d67-4826-abbd-aebf083c4536"
      },
      "source": [
        "# Recupera o tokenizador BERT\n",
        "tokenizer = getTokenizadorBERT()\n",
        "\n",
        "# Texto de exemplo\n",
        "texto = \"O que é embedding?\"\n",
        "\n",
        "# Adiciona os tokens especiais\n",
        "texto_marcado = \"[CLS] \" + texto + \" [SEP]\"\n",
        "\n",
        "# Tokeniza o texto em tokens\n",
        "texto_tokenizado = tokenizer.tokenize(texto_marcado)\n",
        "\n",
        "# Converte os tokens para os ids do vocabulário, por default(add_special_tokens=True) \n",
        "# já adiciona os tokens especiais.\n",
        "texto_token_ids = tokenizer.encode(text=texto_tokenizado, \n",
        "                                   add_special_tokens=False)\n",
        "\n",
        "# Mostra o texto exemplo\n",
        "print(\"Texto exemplo      :\", texto)\n",
        "\n",
        "# Mostra o texto marcado\n",
        "print(\"Texto marcado      :\", texto_marcado)\n",
        "\n",
        "# Mostra o texto tokenizado\n",
        "print(\"Texto tokenizado   :\", texto_tokenizado)\n",
        "\n",
        "# Mostra o id do texto tokenizado\n",
        "print(\"Texto id token     :\", texto_token_ids)"
      ],
      "execution_count": null,
      "outputs": [
        {
          "output_type": "stream",
          "text": [
            "Carregando o tokenizador BERT 'neuralmind/bert-base-portuguese-cased' da comunidade em língua 'portugues'...\n",
            "Texto exemplo      : O que é embedding?\n",
            "Texto marcado      : [CLS] O que é embedding? [SEP]\n",
            "Texto tokenizado   : ['[CLS]', 'O', 'que', 'é', 'em', '##be', '##dd', '##ing', '?', '[SEP]']\n",
            "Texto id token     : [101, 231, 179, 253, 173, 483, 14852, 446, 136, 102]\n"
          ],
          "name": "stdout"
        }
      ]
    },
    {
      "cell_type": "markdown",
      "metadata": {
        "id": "l5T9g55j57_k"
      },
      "source": [
        "### Exemplo de gerador do id do token com o método 'convert_tokens_to_ids'\n",
        "\n",
        "Método convert_tokens_to_ids tokeniza e converte os tokens para os ids do vocabulário.\n",
        "\n",
        "Função semenlhante ao método `enconde`."
      ]
    },
    {
      "cell_type": "code",
      "metadata": {
        "id": "NL_qJ-nh0Cq0",
        "colab": {
          "base_uri": "https://localhost:8080/"
        },
        "outputId": "705b3be2-0d33-4cfb-e5b2-f99644b7e76a"
      },
      "source": [
        "# Recupera o tokenizador BERT\n",
        "tokenizer = getTokenizadorBERT()\n",
        "\n",
        "# Texto de exemplo\n",
        "texto = \"O que é embedding?\"\n",
        "\n",
        "# Adiciona os tokens especiais\n",
        "texto_marcado = \"[CLS] \" + texto + \" [SEP]\"\n",
        "\n",
        "# Tokeniza o texto em tokens\n",
        "texto_tokenizado = tokenizer.tokenize(texto_marcado)\n",
        "\n",
        "# Converte os tokens para os ids do vocabulário\n",
        "texto_token_ids = tokenizer.convert_tokens_to_ids(texto_tokenizado)\n",
        "\n",
        "# Mostra o texto exemplo\n",
        "print(\"Texto exemplo      :\", texto)\n",
        "\n",
        "# Mostra o texto marcado\n",
        "print(\"Texto marcado      :\", texto_marcado)\n",
        "\n",
        "# Mostra o texto tokenizado\n",
        "print(\"Texto tokenizado   :\", texto_tokenizado)\n",
        "\n",
        "# Mostra o id do texto tokenizado\n",
        "print(\"Texto id token     :\", texto_token_ids)"
      ],
      "execution_count": null,
      "outputs": [
        {
          "output_type": "stream",
          "text": [
            "Carregando o tokenizador BERT 'neuralmind/bert-base-portuguese-cased' da comunidade em língua 'portugues'...\n",
            "Texto exemplo      : O que é embedding?\n",
            "Texto marcado      : [CLS] O que é embedding? [SEP]\n",
            "Texto tokenizado   : ['[CLS]', 'O', 'que', 'é', 'em', '##be', '##dd', '##ing', '?', '[SEP]']\n",
            "Texto id token     : [101, 231, 179, 253, 173, 483, 14852, 446, 136, 102]\n"
          ],
          "name": "stdout"
        }
      ]
    },
    {
      "cell_type": "markdown",
      "metadata": {
        "id": "kbYZGyvGIg2q"
      },
      "source": [
        "### Exemplo de decodificação dos id dos tokens com o método 'decode'"
      ]
    },
    {
      "cell_type": "code",
      "metadata": {
        "id": "n2-DNVvBIzrb",
        "colab": {
          "base_uri": "https://localhost:8080/"
        },
        "outputId": "aae0acbd-53e0-4a9f-bf1c-743ec5a22463"
      },
      "source": [
        "# Recupera o tokenizador BERT\n",
        "tokenizer = getTokenizadorBERT()\n",
        "\n",
        "# Texto de exemplo\n",
        "texto = \"O que é embedding?\"\n",
        "\n",
        "# Adiciona os tokens especiais\n",
        "texto_marcado = \"[CLS] \" + texto + \" [SEP]\"\n",
        "\n",
        "# Tokeniza o texto em tokens\n",
        "texto_tokenizado = tokenizer.tokenize(texto_marcado)\n",
        "\n",
        "# Converte os tokens para os ids do vocabulário\n",
        "texto_token_ids = tokenizer.convert_tokens_to_ids(texto_tokenizado)\n",
        "\n",
        "# Decodifica o id texto tokenizado\n",
        "# skip_special_tokens: bool = False retira os tokens especiais\n",
        "texto_decodificado = tokenizer.decode(texto_token_ids)\n",
        "\n",
        "print(\"Texto exemplo      :\", texto)\n",
        "\n",
        "# Mostra o texto marcado\n",
        "print(\"Texto marcado      :\", texto_marcado)\n",
        "\n",
        "# Mostra o texto tokenizado\n",
        "print(\"Texto tokenizado   :\", texto_tokenizado)\n",
        "\n",
        "# Mostra o id do texto tokenizado\n",
        "print(\"Texto id token     :\", texto_token_ids)\n",
        "\n",
        "# Mostra texto decodificado\n",
        "print(\"Texto decodificado :\", texto_decodificado)"
      ],
      "execution_count": null,
      "outputs": [
        {
          "output_type": "stream",
          "text": [
            "Carregando o tokenizador BERT 'neuralmind/bert-base-portuguese-cased' da comunidade em língua 'portugues'...\n",
            "Texto exemplo      : O que é embedding?\n",
            "Texto marcado      : [CLS] O que é embedding? [SEP]\n",
            "Texto tokenizado   : ['[CLS]', 'O', 'que', 'é', 'em', '##be', '##dd', '##ing', '?', '[SEP]']\n",
            "Texto id token     : [101, 231, 179, 253, 173, 483, 14852, 446, 136, 102]\n",
            "Texto decodificado : [CLS] O que é embedding? [SEP]\n"
          ],
          "name": "stdout"
        }
      ]
    },
    {
      "cell_type": "markdown",
      "metadata": {
        "id": "_6IhqAYe0U6f"
      },
      "source": [
        "## Gerador da máscara de atenção (attention_mask)\n",
        "\n",
        "O BERT é treinado e espera pares de frases, usando 1s e 0s para distinguir entre as duas frases. Ou seja, para cada token em \"texto_tokenizado\", devemos especificar a qual frase pertence: sentença 0 (uma série de 0s) ou sentença 1 (uma série de 1s). \n",
        "\n",
        "Para casos onde as entradas de texto é **única** requerem apenas uma série de 1s; portanto, criaremos um vetor de 1s para cada token em input_ids.\n",
        "\n",
        "Se desejar processar **duas frases**, atribua cada palavra na primeira frase mais o token '[SEP]' a 0 e todos os tokens da segunda frase a 1."
      ]
    },
    {
      "cell_type": "markdown",
      "metadata": {
        "id": "KB1NizSQ6y9O"
      },
      "source": [
        "### Exemplo de gerador de máscara para frase única com lista"
      ]
    },
    {
      "cell_type": "code",
      "metadata": {
        "id": "3oOSCtd00W2b",
        "colab": {
          "base_uri": "https://localhost:8080/"
        },
        "outputId": "8197aa90-dd9c-4793-c74d-cb9524321c28"
      },
      "source": [
        "# Recupera o tokenizador BERT\n",
        "tokenizer = getTokenizadorBERT()\n",
        "\n",
        "# Texto de exemplo\n",
        "texto = \"O que é embedding?\"\n",
        "\n",
        "# Adiciona os tokens especiais\n",
        "texto_marcado = \"[CLS] \" + texto + \" [SEP]\"\n",
        "\n",
        "# Tokeniza o texto em tokens\n",
        "texto_tokenizado = tokenizer.tokenize(texto_marcado)\n",
        "\n",
        "# Converte os tokens para os ids do vocabulário\n",
        "texto_token_ids = tokenizer.convert_tokens_to_ids(texto_tokenizado)\n",
        "\n",
        "# Cria um vetor com o tamanho da quantidade de tokens do texto preenchidos com 1.\n",
        "mascara_atencao = [1] * len(texto_token_ids)\n",
        "\n",
        "print(\"Texto exemplo      :\", texto)\n",
        "\n",
        "# Mostra o texto marcado\n",
        "print(\"Texto marcado      :\", texto_marcado)\n",
        "\n",
        "# Mostra o texto tokenizado\n",
        "print(\"Texto tokenizado   :\", texto_tokenizado)\n",
        "\n",
        "# Mostra o id do texto tokenizado\n",
        "print(\"Texto id token     :\", texto_token_ids)\n",
        "\n",
        "# Mostra a máscara de atenção\n",
        "print(\"Máscara de atenção :\", mascara_atencao)"
      ],
      "execution_count": null,
      "outputs": [
        {
          "output_type": "stream",
          "text": [
            "Carregando o tokenizador BERT 'neuralmind/bert-base-portuguese-cased' da comunidade em língua 'portugues'...\n",
            "Texto exemplo      : O que é embedding?\n",
            "Texto marcado      : [CLS] O que é embedding? [SEP]\n",
            "Texto tokenizado   : ['[CLS]', 'O', 'que', 'é', 'em', '##be', '##dd', '##ing', '?', '[SEP]']\n",
            "Texto id token     : [101, 231, 179, 253, 173, 483, 14852, 446, 136, 102]\n",
            "Máscara de atenção : [1, 1, 1, 1, 1, 1, 1, 1, 1, 1]\n"
          ],
          "name": "stdout"
        }
      ]
    },
    {
      "cell_type": "markdown",
      "metadata": {
        "id": "nKdO4ZDi8O8Q"
      },
      "source": [
        "## Gerando toda a entrada com o encode_plus(input_ids, attention_mask, token_type_ids)\n",
        "\n",
        "O método `enconde_plus` gera todas as entradas necessárias a partir do texto. O método retorna um dicionário com as chaves:\n",
        "\n",
        "- 'input_ids' - O id do texto tokenizado\n",
        "- 'attention_mask' - A máscara de atenção truncada ou preenchida até `max_length`\n",
        "- 'token_type_ids' - A máscara de atenção de pares de frase. Quando o texto é tokenizado com duas frases, a primeira recebe 0 a segunda frase recebe 1.\n",
        "\n",
        "https://huggingface.co/transformers/main_classes/tokenizer.html?highlight=encode_plus#transformers.PreTrainedTokenizer.encode_plus"
      ]
    },
    {
      "cell_type": "code",
      "metadata": {
        "id": "MWM3U6wF8PNw",
        "colab": {
          "base_uri": "https://localhost:8080/"
        },
        "outputId": "bf4edf5d-3973-47fa-873c-f7df3ed166f5"
      },
      "source": [
        "# Recupera o tokenizador BERT\n",
        "tokenizer = getTokenizadorBERT()\n",
        "\n",
        "# Texto de exemplo\n",
        "texto = \"O que é embedding?\"\n",
        "\n",
        "# `encode_plus` irá:\n",
        "#   (1) Tokenize a frase sentence.\n",
        "#   (2) Adicionar o token `[CLS]` no início.\n",
        "#   (3) Adicionar o token `[SEP]` no fim.\n",
        "#   (4) Mapear tokens para os seus IDS.\n",
        "#   (5) Preencher ou truncar as frases para `max_length`\n",
        "#   (6) Criar máscara de atenção para os tokens [PAD].    \n",
        "#   (7) Retorna os dados com tensores\n",
        "dic_codificado = tokenizer.encode_plus(\n",
        "                        text=texto,                     # Texto a ser codificado.\n",
        "                        add_special_tokens = True,      # Adiciona os tokens especiais '[CLS]' e '[SEP]'\n",
        "                        max_length = 10,                # Define o tamanho máximo para preencheer ou truncar.\n",
        "                        truncation = True,              # Trunca o texto por max_length\n",
        "                        padding = 'max_length',         # Preenche o texto até max_length\n",
        "                        return_attention_mask = True,   # Constrói a máscara de atenção.\n",
        "                        return_tensors = 'pt'           # Retorna os dados como tensores pytorch.\n",
        "                   )\n",
        "\n",
        "# Recupera os dados do dicionário\n",
        "texto_token_ids = dic_codificado['input_ids']\n",
        "mascara_atencao = dic_codificado['attention_mask']\n",
        "token_type_ids = dic_codificado['token_type_ids']\n",
        "\n",
        "print(\"Texto exemplo      :\", texto)\n",
        "\n",
        "# Mostra o texto marcado\n",
        "print(\"Texto marcado      :\", texto_marcado)\n",
        "\n",
        "# Mostra o texto tokenizado\n",
        "print(\"Texto tokenizado   :\", texto_tokenizado)\n",
        "\n",
        "# Mostra o id do texto tokenizado\n",
        "print(\"Texto id token     :\", texto_token_ids)\n",
        "\n",
        "# Mostra a máscara de atenção\n",
        "print(\"Máscara de atenção :\", mascara_atencao)\n",
        "\n",
        "# Mostra a máscara de atenção de pares de frase (0 primeira frase e 1 para a segunda frase)\n",
        "print(\"Token types ids    :\", token_type_ids)"
      ],
      "execution_count": null,
      "outputs": [
        {
          "output_type": "stream",
          "text": [
            "Carregando o tokenizador BERT 'neuralmind/bert-base-portuguese-cased' da comunidade em língua 'portugues'...\n",
            "Texto exemplo      : O que é embedding?\n",
            "Texto marcado      : [CLS] O que é embedding? [SEP]\n",
            "Texto tokenizado   : ['[CLS]', 'O', 'que', 'é', 'em', '##be', '##dd', '##ing', '?', '[SEP]']\n",
            "Texto id token     : tensor([[  101,   231,   179,   253,   173,   483, 14852,   446,   136,   102]])\n",
            "Máscara de atenção : tensor([[1, 1, 1, 1, 1, 1, 1, 1, 1, 1]])\n",
            "Token types ids    : tensor([[0, 0, 0, 0, 0, 0, 0, 0, 0, 0]])\n"
          ],
          "name": "stdout"
        }
      ]
    },
    {
      "cell_type": "markdown",
      "metadata": {
        "id": "kjHaBG4U8z04"
      },
      "source": [
        "# 5 Usando o modelo Pré-treinado\n",
        "\n",
        "Uso do modell pré-treinado sem ajuste fino."
      ]
    },
    {
      "cell_type": "markdown",
      "metadata": {
        "id": "riR4jz8W-qk3"
      },
      "source": [
        "# 6 Teste Completo do Tokenizador e Modelo BERT\n",
        "\n",
        "Testa o tokenizador e modelo de vretorno da função getBERT.\n"
      ]
    },
    {
      "cell_type": "code",
      "metadata": {
        "id": "8QP-2tC8YOFW",
        "colab": {
          "base_uri": "https://localhost:8080/"
        },
        "outputId": "9b8ffb12-7fc0-4b50-c33f-ea19be4780b2"
      },
      "source": [
        "# Utiliza a função para retornar o tokenizador e o modelo\n",
        "tokenizer, model = getBERT(tamanhoBERT = 'base')\n",
        "\n",
        "# Define um sentença de exemplo com diversos siginificados da palavra  \"banco\"\n",
        "texto = \"Depois de roubar o cofre do banco,\"\\\n",
        "        \" o ladrão de banco foi visto \" \\\n",
        "        \"sentado no banco da praça central.\"\n",
        "\n",
        "# Adiciona os tokens especiais\n",
        "texto_marcado = \"[CLS] \" + texto + \" [SEP]\"\n",
        "\n",
        "# Divide a sentença em tokens\n",
        "texto_tokenizado = tokenizer.tokenize(texto_marcado)\n",
        "\n",
        "# Mapeia os tokens em seus índices do vocabuário\n",
        "tokens_indexados = tokenizer.convert_tokens_to_ids(texto_tokenizado)\n",
        "\n",
        "# Mostra os tokens com seus índices\n",
        "i = 0\n",
        "for tup in zip(texto_tokenizado, tokens_indexados):\n",
        "    print('{:>3} {:<12} {:>6,}'.format(i, tup[0], tup[1]))\n",
        "    i= i + 1"
      ],
      "execution_count": null,
      "outputs": [
        {
          "output_type": "stream",
          "text": [
            "Carregando o tokenizador BERT 'neuralmind/bert-base-portuguese-cased' da comunidade em língua 'portugues'...\n",
            "Carregando o modelo BERT 'neuralmind/bert-base-portuguese-cased' da comunidade em língua 'portugues' com os pesos das camadas ocultas=False...\n"
          ],
          "name": "stdout"
        },
        {
          "output_type": "stream",
          "text": [
            "Some weights of the model checkpoint at neuralmind/bert-base-portuguese-cased were not used when initializing BertModel: ['cls.predictions.decoder.weight', 'cls.predictions.transform.LayerNorm.weight', 'cls.seq_relationship.bias', 'cls.seq_relationship.weight', 'cls.predictions.transform.dense.weight', 'cls.predictions.transform.dense.bias', 'cls.predictions.transform.LayerNorm.bias', 'cls.predictions.bias']\n",
            "- This IS expected if you are initializing BertModel from the checkpoint of a model trained on another task or with another architecture (e.g. initializing a BertForSequenceClassification model from a BertForPreTraining model).\n",
            "- This IS NOT expected if you are initializing BertModel from the checkpoint of a model that you expect to be exactly identical (initializing a BertForSequenceClassification model from a BertForSequenceClassification model).\n"
          ],
          "name": "stderr"
        },
        {
          "output_type": "stream",
          "text": [
            "  0 [CLS]           101\n",
            "  1 Depois        1,603\n",
            "  2 de              125\n",
            "  3 roubar       16,150\n",
            "  4 o               146\n",
            "  5 co              144\n",
            "  6 ##fre         1,198\n",
            "  7 do              171\n",
            "  8 banco         6,465\n",
            "  9 ,               117\n",
            " 10 o               146\n",
            " 11 lad          13,503\n",
            " 12 ##rão         1,759\n",
            " 13 de              125\n",
            " 14 banco         6,465\n",
            " 15 foi             262\n",
            " 16 visto         3,382\n",
            " 17 sentado      21,541\n",
            " 18 no              202\n",
            " 19 banco         6,465\n",
            " 20 da              180\n",
            " 21 praça         6,357\n",
            " 22 central       2,692\n",
            " 23 .               119\n",
            " 24 [SEP]           102\n"
          ],
          "name": "stdout"
        }
      ]
    },
    {
      "cell_type": "code",
      "metadata": {
        "id": "Pn6z4bM_RG-2"
      },
      "source": [
        "# Importa a bibliteca\n",
        "import torch\n",
        "\n",
        "# Marca cada um dos tokens como pertencentes à frase \"1\", pois só iremos analisar uma.\n",
        "segmentos_ids = [1] * len(texto_tokenizado)\n",
        "\n",
        "# Converte as entradas de listas para tensores do torch\n",
        "input_ids = torch.as_tensor([tokens_indexados])\n",
        "attention_mask = torch.as_tensor([segmentos_ids])"
      ],
      "execution_count": null,
      "outputs": []
    },
    {
      "cell_type": "code",
      "metadata": {
        "id": "ne6-tB8MRG-9"
      },
      "source": [
        "# Prediz os atributos dos estados ocultos para cada camada\n",
        "with torch.no_grad():    \n",
        "  \n",
        "    # outputs[0] = last_hidden_state, outputs[1] = pooler_output, outputs[2] = hidden_states    \n",
        "    outputs = model(input_ids=input_ids, \n",
        "                    attention_mask=attention_mask)\n",
        "    \n",
        "    # Recupera a última camada oculta da saída\n",
        "    last_hidden_states = outputs[0]\n",
        "\n",
        "# Remove a dimensão 1, o lote \"batches\".\n",
        "# O método ´squeeze´ remove a primeira dimensão(0) pois possui tamanho 1\n",
        "token_embeddings = torch.squeeze(last_hidden_states, dim=0)    "
      ],
      "execution_count": null,
      "outputs": []
    },
    {
      "cell_type": "markdown",
      "metadata": {
        "id": "-tnv1g2qIWKD"
      },
      "source": [
        "BASE em português:\n",
        "* banco tensor([ 0.2817, -0.2229,  0.4058, -0.1698,  0.4350])\n",
        "* banco tensor([ 0.3844, -0.2985,  0.1629, -0.2853,  0.4661])\n",
        "* banco tensor([ 0.0382, -0.1985,  0.0825,  0.1369,  0.6871])\n",
        "\n",
        "\n",
        "LARGE em português:\n",
        "* banco tensor([ 0.4261, -0.1251, -0.4406,  0.0736, -1.4059])\n",
        "* banco tensor([ 0.4835,  0.1447, -0.4306,  0.3436, -1.4682])\n",
        "* banco tensor([ 0.3631,  0.9212,  0.1919, -0.2493, -0.9418])"
      ]
    },
    {
      "cell_type": "code",
      "metadata": {
        "id": "2hrWa-RzZIFl",
        "colab": {
          "base_uri": "https://localhost:8080/"
        },
        "outputId": "605b2fe8-5c23-4e1d-955b-62a4b095db0c"
      },
      "source": [
        "palavra1 = 8\n",
        "palavra2 = 14\n",
        "palavra3 = 19\n",
        "\n",
        "print('Os primeiros 5 valores de cada instância de \"banco\".')\n",
        "print('')\n",
        "print(texto_tokenizado[palavra1], str(token_embeddings[palavra1][:5]))\n",
        "print(texto_tokenizado[palavra2], str(token_embeddings[palavra2][:5]))\n",
        "print(texto_tokenizado[palavra3], str(token_embeddings[palavra3][:5]))"
      ],
      "execution_count": null,
      "outputs": [
        {
          "output_type": "stream",
          "text": [
            "Os primeiros 5 valores de cada instância de \"banco\".\n",
            "\n",
            "banco tensor([ 0.2817, -0.2229,  0.4058, -0.1698,  0.4350])\n",
            "banco tensor([ 0.3844, -0.2985,  0.1629, -0.2853,  0.4661])\n",
            "banco tensor([ 0.0382, -0.1985,  0.0825,  0.1369,  0.6871])\n"
          ],
          "name": "stdout"
        }
      ]
    },
    {
      "cell_type": "markdown",
      "metadata": {
        "id": "neHWoJlxLe2z"
      },
      "source": [
        "BASE em português:\n",
        "* Vetor de similaridade  para diferentes significados( 14 , 19 ):  0.71\n",
        "* Vetor de similaridade  para mesmo significado( 14 , 8 ):  0.88\n",
        "* Vetor de similaridade  para diferentes significados( 19 , 8 ):  0.76\n",
        "\n",
        "LARGE em português:\n",
        "* Vetor de similaridade  para diferentes significados( 14 , 19 ):  0.78\n",
        "* Vetor de similaridade  para mesmo significado( 14 , 8 ):  0.92\n",
        "* Vetor de similaridade  para diferentes significados( 19 , 8 ):  0.77"
      ]
    },
    {
      "cell_type": "code",
      "metadata": {
        "id": "_0Wz7anjZIFp",
        "colab": {
          "base_uri": "https://localhost:8080/"
        },
        "outputId": "3c1d519f-64ec-4b97-aea4-cfde276c9972"
      },
      "source": [
        "from scipy.spatial.distance import cosine\n",
        "\n",
        "print(\"Período:\", texto)\n",
        "print(\"Palavra1= \", palavra1, \"=\", texto_tokenizado[palavra1], \"(instituição financeira)\")\n",
        "print(\"Palavra2=\", palavra2, \"=\", texto_tokenizado[palavra2], \"(instituição financeira)\")\n",
        "print(\"Palavra3=\", palavra3, \"=\", texto_tokenizado[palavra3], \"(assento)\")\n",
        "\n",
        "# Calcula a similaridade de coseno entre as palavras banco\n",
        "# Em \"ladrão de banco\" versus \"banco da praça\" (diferentes significados).\n",
        "banco_diferente = 1 - cosine(token_embeddings[palavra2], token_embeddings[palavra3])\n",
        "\n",
        "print('Vetor de similaridade  para diferentes significados(',palavra2,',',palavra3,'):  %.2f' % banco_diferente)\n",
        "\n",
        "# Calcula a similaridade de coseno entre as palavras banco\n",
        "# Em \"ladrão de banco\" versus \"cofre do banco\" (mesmo significado).\n",
        "mesmo_banco = 1 - cosine(token_embeddings[palavra2], token_embeddings[palavra1])\n",
        "\n",
        "print('Vetor de similaridade  para mesmo significado      (',palavra2,', ',palavra1,'):  %.2f' % mesmo_banco)\n",
        "\n",
        "# Calcula a similaridade de coseno entre as palavras banco\n",
        "# Em \"cofre do banco\" versus \"banco da praça\" (diferente significados).\n",
        "banco_diferente2 = 1 - cosine(token_embeddings[palavra3], token_embeddings[palavra1])\n",
        "\n",
        "print('Vetor de similaridade  para diferentes significados(',palavra3,', ',palavra1,'):  %.2f' % banco_diferente2)"
      ],
      "execution_count": null,
      "outputs": [
        {
          "output_type": "stream",
          "text": [
            "Período: Depois de roubar o cofre do banco, o ladrão de banco foi visto sentado no banco da praça central.\n",
            "Palavra1=  8 = banco (instituição financeira)\n",
            "Palavra2= 14 = banco (instituição financeira)\n",
            "Palavra3= 19 = banco (assento)\n",
            "Vetor de similaridade  para diferentes significados( 14 , 19 ):  0.71\n",
            "Vetor de similaridade  para mesmo significado      ( 14 ,  8 ):  0.88\n",
            "Vetor de similaridade  para diferentes significados( 19 ,  8 ):  0.76\n"
          ],
          "name": "stdout"
        }
      ]
    },
    {
      "cell_type": "markdown",
      "metadata": {
        "id": "7JAFCSVopfFb"
      },
      "source": [
        "# 7 Teste completo da função de recuperação de embeddings de frase\n",
        "\n",
        "Testa os embeddings de retorno da função getEmbedding."
      ]
    },
    {
      "cell_type": "code",
      "metadata": {
        "id": "EmjHFQUttUtF",
        "colab": {
          "base_uri": "https://localhost:8080/"
        },
        "outputId": "c0d713ed-3b7a-4273-92b9-64f752f1ac90"
      },
      "source": [
        "# Utiliza a função para retornar o tokenizador e o modelo\n",
        "tokenizer, model = getBERT(tamanhoBERT = 'base')\n",
        "\n",
        "# Define um sentença de exemplo com diversos siginificados da palavra  \"banco\"\n",
        "texto = \"Depois de roubar o cofre do banco,\"\\\n",
        "        \" o ladrão de banco foi visto \" \\\n",
        "        \"sentado no banco da praça central.\"\n",
        "\n",
        "# 0-texto_tokenizado, 1-input_ids, 2-attention_mask, 3-token_type_ids, 4-outputs(0=last_hidden_state,1=pooler_output,2=hidden_states)\n",
        "outputs = getEmbedding(texto, tokenizer, model)        \n",
        "\n",
        "# Recupera a última camada oculta da saída\n",
        "# 4-outputs 0=last_hidden_state\n",
        "last_hidden_states = outputs[4][0]\n",
        "\n",
        "# Remove a dimensão 1, o lote \"batches\".\n",
        "# O método ´squeeze´ remove a primeira dimensão(0) pois possui tamanho 1\n",
        "token_embeddings = torch.squeeze(last_hidden_states, dim=0)    "
      ],
      "execution_count": null,
      "outputs": [
        {
          "output_type": "stream",
          "text": [
            "Carregando o tokenizador BERT 'neuralmind/bert-base-portuguese-cased' da comunidade em língua 'portugues'...\n",
            "Carregando o modelo BERT 'neuralmind/bert-base-portuguese-cased' da comunidade em língua 'portugues' com os pesos das camadas ocultas=False...\n"
          ],
          "name": "stdout"
        },
        {
          "output_type": "stream",
          "text": [
            "Some weights of the model checkpoint at neuralmind/bert-base-portuguese-cased were not used when initializing BertModel: ['cls.predictions.decoder.weight', 'cls.predictions.transform.LayerNorm.weight', 'cls.seq_relationship.bias', 'cls.seq_relationship.weight', 'cls.predictions.transform.dense.weight', 'cls.predictions.transform.dense.bias', 'cls.predictions.transform.LayerNorm.bias', 'cls.predictions.bias']\n",
            "- This IS expected if you are initializing BertModel from the checkpoint of a model trained on another task or with another architecture (e.g. initializing a BertForSequenceClassification model from a BertForPreTraining model).\n",
            "- This IS NOT expected if you are initializing BertModel from the checkpoint of a model that you expect to be exactly identical (initializing a BertForSequenceClassification model from a BertForSequenceClassification model).\n"
          ],
          "name": "stderr"
        }
      ]
    },
    {
      "cell_type": "code",
      "metadata": {
        "id": "Wd84LqC5tUtI",
        "colab": {
          "base_uri": "https://localhost:8080/"
        },
        "outputId": "54cc0a48-8386-405f-804f-b302b0527b26"
      },
      "source": [
        "# Divide a sentença em tokens\n",
        "texto_tokenizado = outputs[0]\n",
        "\n",
        "# Mapeia os tokens em seus índices do vocabuário\n",
        "tokens_indexados = outputs[1]\n",
        "\n",
        "# Mostra os tokens com seus índices\n",
        "for i, token in enumerate(texto_tokenizado):\n",
        "    print(i, token)"
      ],
      "execution_count": null,
      "outputs": [
        {
          "output_type": "stream",
          "text": [
            "0 [CLS]\n",
            "1 Depois\n",
            "2 de\n",
            "3 roubar\n",
            "4 o\n",
            "5 co\n",
            "6 ##fre\n",
            "7 do\n",
            "8 banco\n",
            "9 ,\n",
            "10 o\n",
            "11 lad\n",
            "12 ##rão\n",
            "13 de\n",
            "14 banco\n",
            "15 foi\n",
            "16 visto\n",
            "17 sentado\n",
            "18 no\n",
            "19 banco\n",
            "20 da\n",
            "21 praça\n",
            "22 central\n",
            "23 .\n",
            "24 [SEP]\n"
          ],
          "name": "stdout"
        }
      ]
    },
    {
      "cell_type": "markdown",
      "metadata": {
        "id": "SDB9bYPpI-Oq"
      },
      "source": [
        "BASE em português:\n",
        "* banco tensor([ 0.2817, -0.2229,  0.4058, -0.1698,  0.4350])\n",
        "* banco tensor([ 0.3844, -0.2985,  0.1629, -0.2853,  0.4661])\n",
        "* banco tensor([ 0.0382, -0.1985,  0.0825,  0.1369,  0.6871])\n",
        "\n",
        "\n",
        "LARGE em português:\n",
        "* banco tensor([ 0.4261, -0.1251, -0.4406,  0.0736, -1.4059])\n",
        "* banco tensor([ 0.4835,  0.1447, -0.4306,  0.3436, -1.4682])\n",
        "* banco tensor([ 0.3631,  0.9212,  0.1919, -0.2493, -0.9418])"
      ]
    },
    {
      "cell_type": "code",
      "metadata": {
        "id": "ZhKpFWRrECOo",
        "colab": {
          "base_uri": "https://localhost:8080/"
        },
        "outputId": "18ef70ef-cbf5-4969-b9b9-a3a0310f21fd"
      },
      "source": [
        "palavra1 = 8\n",
        "palavra2 = 14\n",
        "palavra3 = 19\n",
        "\n",
        "print('Os primeiros 5 valores de cada instância de \"banco\".')\n",
        "print('')\n",
        "print(texto_tokenizado[palavra1], str(token_embeddings[palavra1][:5]))\n",
        "print(texto_tokenizado[palavra2], str(token_embeddings[palavra2][:5]))\n",
        "print(texto_tokenizado[palavra3], str(token_embeddings[palavra3][:5]))"
      ],
      "execution_count": null,
      "outputs": [
        {
          "output_type": "stream",
          "text": [
            "Os primeiros 5 valores de cada instância de \"banco\".\n",
            "\n",
            "banco tensor([ 0.2817, -0.2229,  0.4058, -0.1698,  0.4350])\n",
            "banco tensor([ 0.3844, -0.2985,  0.1629, -0.2853,  0.4661])\n",
            "banco tensor([ 0.0382, -0.1985,  0.0825,  0.1369,  0.6871])\n"
          ],
          "name": "stdout"
        }
      ]
    },
    {
      "cell_type": "markdown",
      "metadata": {
        "id": "pgv05eUcECOs"
      },
      "source": [
        "BASE em português:\n",
        "* Vetor de similaridade  para diferentes significados( 14 , 19 ):  0.71\n",
        "* Vetor de similaridade  para mesmo significado( 14 , 8 ):  0.88\n",
        "* Vetor de similaridade  para diferentes significados( 19 , 8 ):  0.76\n",
        "\n",
        "LARGE em português:\n",
        "* Vetor de similaridade  para diferentes significados( 14 , 19 ):  0.78\n",
        "* Vetor de similaridade  para mesmo significado( 14 , 8 ):  0.92\n",
        "* Vetor de similaridade  para diferentes significados( 19 , 8 ):  0.77"
      ]
    }
  ]
}