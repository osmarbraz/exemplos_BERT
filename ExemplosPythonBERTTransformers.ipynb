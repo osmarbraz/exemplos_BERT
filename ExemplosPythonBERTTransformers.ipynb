{
  "nbformat": 4,
  "nbformat_minor": 0,
  "metadata": {
    "colab": {
      "name": "ExemplosPythonBERTTransformers.ipynb",
      "provenance": [],
      "collapsed_sections": [],
      "toc_visible": true,
      "authorship_tag": "ABX9TyOli79nxEMjL7wVD7q1RhVJ",
      "include_colab_link": true
    },
    "kernelspec": {
      "name": "python3",
      "display_name": "Python 3"
    },
    "widgets": {
      "application/vnd.jupyter.widget-state+json": {
        "e4e540727e224c28aa9bc9b617ee2a75": {
          "model_module": "@jupyter-widgets/controls",
          "model_name": "HBoxModel",
          "state": {
            "_view_name": "HBoxView",
            "_dom_classes": [],
            "_model_name": "HBoxModel",
            "_view_module": "@jupyter-widgets/controls",
            "_model_module_version": "1.5.0",
            "_view_count": null,
            "_view_module_version": "1.5.0",
            "box_style": "",
            "layout": "IPY_MODEL_ff31a92a6301480ea0117fa37df6bcbc",
            "_model_module": "@jupyter-widgets/controls",
            "children": [
              "IPY_MODEL_a28a0bad4d0e4c5fa27bbef0337dee2b",
              "IPY_MODEL_f879fd10b2a94746b2e59be5a3c44e14"
            ]
          }
        },
        "ff31a92a6301480ea0117fa37df6bcbc": {
          "model_module": "@jupyter-widgets/base",
          "model_name": "LayoutModel",
          "state": {
            "_view_name": "LayoutView",
            "grid_template_rows": null,
            "right": null,
            "justify_content": null,
            "_view_module": "@jupyter-widgets/base",
            "overflow": null,
            "_model_module_version": "1.2.0",
            "_view_count": null,
            "flex_flow": null,
            "width": null,
            "min_width": null,
            "border": null,
            "align_items": null,
            "bottom": null,
            "_model_module": "@jupyter-widgets/base",
            "top": null,
            "grid_column": null,
            "overflow_y": null,
            "overflow_x": null,
            "grid_auto_flow": null,
            "grid_area": null,
            "grid_template_columns": null,
            "flex": null,
            "_model_name": "LayoutModel",
            "justify_items": null,
            "grid_row": null,
            "max_height": null,
            "align_content": null,
            "visibility": null,
            "align_self": null,
            "height": null,
            "min_height": null,
            "padding": null,
            "grid_auto_rows": null,
            "grid_gap": null,
            "max_width": null,
            "order": null,
            "_view_module_version": "1.2.0",
            "grid_template_areas": null,
            "object_position": null,
            "object_fit": null,
            "grid_auto_columns": null,
            "margin": null,
            "display": null,
            "left": null
          }
        },
        "a28a0bad4d0e4c5fa27bbef0337dee2b": {
          "model_module": "@jupyter-widgets/controls",
          "model_name": "FloatProgressModel",
          "state": {
            "_view_name": "ProgressView",
            "style": "IPY_MODEL_1ed26ce295fe4e9eb768fee99d75651e",
            "_dom_classes": [],
            "description": "Downloading: 100%",
            "_model_name": "FloatProgressModel",
            "bar_style": "success",
            "max": 647,
            "_view_module": "@jupyter-widgets/controls",
            "_model_module_version": "1.5.0",
            "value": 647,
            "_view_count": null,
            "_view_module_version": "1.5.0",
            "orientation": "horizontal",
            "min": 0,
            "description_tooltip": null,
            "_model_module": "@jupyter-widgets/controls",
            "layout": "IPY_MODEL_ede5ec35924445869586bcc518c78a99"
          }
        },
        "f879fd10b2a94746b2e59be5a3c44e14": {
          "model_module": "@jupyter-widgets/controls",
          "model_name": "HTMLModel",
          "state": {
            "_view_name": "HTMLView",
            "style": "IPY_MODEL_272b5afc677f479db3f29c76c60db338",
            "_dom_classes": [],
            "description": "",
            "_model_name": "HTMLModel",
            "placeholder": "​",
            "_view_module": "@jupyter-widgets/controls",
            "_model_module_version": "1.5.0",
            "value": " 647/647 [00:01&lt;00:00, 480B/s]",
            "_view_count": null,
            "_view_module_version": "1.5.0",
            "description_tooltip": null,
            "_model_module": "@jupyter-widgets/controls",
            "layout": "IPY_MODEL_12bc14957d8145d1a8946d4fbb545830"
          }
        },
        "1ed26ce295fe4e9eb768fee99d75651e": {
          "model_module": "@jupyter-widgets/controls",
          "model_name": "ProgressStyleModel",
          "state": {
            "_view_name": "StyleView",
            "_model_name": "ProgressStyleModel",
            "description_width": "initial",
            "_view_module": "@jupyter-widgets/base",
            "_model_module_version": "1.5.0",
            "_view_count": null,
            "_view_module_version": "1.2.0",
            "bar_color": null,
            "_model_module": "@jupyter-widgets/controls"
          }
        },
        "ede5ec35924445869586bcc518c78a99": {
          "model_module": "@jupyter-widgets/base",
          "model_name": "LayoutModel",
          "state": {
            "_view_name": "LayoutView",
            "grid_template_rows": null,
            "right": null,
            "justify_content": null,
            "_view_module": "@jupyter-widgets/base",
            "overflow": null,
            "_model_module_version": "1.2.0",
            "_view_count": null,
            "flex_flow": null,
            "width": null,
            "min_width": null,
            "border": null,
            "align_items": null,
            "bottom": null,
            "_model_module": "@jupyter-widgets/base",
            "top": null,
            "grid_column": null,
            "overflow_y": null,
            "overflow_x": null,
            "grid_auto_flow": null,
            "grid_area": null,
            "grid_template_columns": null,
            "flex": null,
            "_model_name": "LayoutModel",
            "justify_items": null,
            "grid_row": null,
            "max_height": null,
            "align_content": null,
            "visibility": null,
            "align_self": null,
            "height": null,
            "min_height": null,
            "padding": null,
            "grid_auto_rows": null,
            "grid_gap": null,
            "max_width": null,
            "order": null,
            "_view_module_version": "1.2.0",
            "grid_template_areas": null,
            "object_position": null,
            "object_fit": null,
            "grid_auto_columns": null,
            "margin": null,
            "display": null,
            "left": null
          }
        },
        "272b5afc677f479db3f29c76c60db338": {
          "model_module": "@jupyter-widgets/controls",
          "model_name": "DescriptionStyleModel",
          "state": {
            "_view_name": "StyleView",
            "_model_name": "DescriptionStyleModel",
            "description_width": "",
            "_view_module": "@jupyter-widgets/base",
            "_model_module_version": "1.5.0",
            "_view_count": null,
            "_view_module_version": "1.2.0",
            "_model_module": "@jupyter-widgets/controls"
          }
        },
        "12bc14957d8145d1a8946d4fbb545830": {
          "model_module": "@jupyter-widgets/base",
          "model_name": "LayoutModel",
          "state": {
            "_view_name": "LayoutView",
            "grid_template_rows": null,
            "right": null,
            "justify_content": null,
            "_view_module": "@jupyter-widgets/base",
            "overflow": null,
            "_model_module_version": "1.2.0",
            "_view_count": null,
            "flex_flow": null,
            "width": null,
            "min_width": null,
            "border": null,
            "align_items": null,
            "bottom": null,
            "_model_module": "@jupyter-widgets/base",
            "top": null,
            "grid_column": null,
            "overflow_y": null,
            "overflow_x": null,
            "grid_auto_flow": null,
            "grid_area": null,
            "grid_template_columns": null,
            "flex": null,
            "_model_name": "LayoutModel",
            "justify_items": null,
            "grid_row": null,
            "max_height": null,
            "align_content": null,
            "visibility": null,
            "align_self": null,
            "height": null,
            "min_height": null,
            "padding": null,
            "grid_auto_rows": null,
            "grid_gap": null,
            "max_width": null,
            "order": null,
            "_view_module_version": "1.2.0",
            "grid_template_areas": null,
            "object_position": null,
            "object_fit": null,
            "grid_auto_columns": null,
            "margin": null,
            "display": null,
            "left": null
          }
        },
        "6850af2f6ce64adda407c7b738ed4821": {
          "model_module": "@jupyter-widgets/controls",
          "model_name": "HBoxModel",
          "state": {
            "_view_name": "HBoxView",
            "_dom_classes": [],
            "_model_name": "HBoxModel",
            "_view_module": "@jupyter-widgets/controls",
            "_model_module_version": "1.5.0",
            "_view_count": null,
            "_view_module_version": "1.5.0",
            "box_style": "",
            "layout": "IPY_MODEL_1ec10ae1409e4ee1a2a3d2df020939fd",
            "_model_module": "@jupyter-widgets/controls",
            "children": [
              "IPY_MODEL_b9d976d400014d2fa4f06bb1280e47c4",
              "IPY_MODEL_fdfe16a063bc4bd38e1f3142254a7977"
            ]
          }
        },
        "1ec10ae1409e4ee1a2a3d2df020939fd": {
          "model_module": "@jupyter-widgets/base",
          "model_name": "LayoutModel",
          "state": {
            "_view_name": "LayoutView",
            "grid_template_rows": null,
            "right": null,
            "justify_content": null,
            "_view_module": "@jupyter-widgets/base",
            "overflow": null,
            "_model_module_version": "1.2.0",
            "_view_count": null,
            "flex_flow": null,
            "width": null,
            "min_width": null,
            "border": null,
            "align_items": null,
            "bottom": null,
            "_model_module": "@jupyter-widgets/base",
            "top": null,
            "grid_column": null,
            "overflow_y": null,
            "overflow_x": null,
            "grid_auto_flow": null,
            "grid_area": null,
            "grid_template_columns": null,
            "flex": null,
            "_model_name": "LayoutModel",
            "justify_items": null,
            "grid_row": null,
            "max_height": null,
            "align_content": null,
            "visibility": null,
            "align_self": null,
            "height": null,
            "min_height": null,
            "padding": null,
            "grid_auto_rows": null,
            "grid_gap": null,
            "max_width": null,
            "order": null,
            "_view_module_version": "1.2.0",
            "grid_template_areas": null,
            "object_position": null,
            "object_fit": null,
            "grid_auto_columns": null,
            "margin": null,
            "display": null,
            "left": null
          }
        },
        "b9d976d400014d2fa4f06bb1280e47c4": {
          "model_module": "@jupyter-widgets/controls",
          "model_name": "FloatProgressModel",
          "state": {
            "_view_name": "ProgressView",
            "style": "IPY_MODEL_15ffbf3bf5754533b46d1f8966cb3d1e",
            "_dom_classes": [],
            "description": "Downloading: 100%",
            "_model_name": "FloatProgressModel",
            "bar_style": "success",
            "max": 209528,
            "_view_module": "@jupyter-widgets/controls",
            "_model_module_version": "1.5.0",
            "value": 209528,
            "_view_count": null,
            "_view_module_version": "1.5.0",
            "orientation": "horizontal",
            "min": 0,
            "description_tooltip": null,
            "_model_module": "@jupyter-widgets/controls",
            "layout": "IPY_MODEL_c2ad69326f664b76b667a0099eb298f8"
          }
        },
        "fdfe16a063bc4bd38e1f3142254a7977": {
          "model_module": "@jupyter-widgets/controls",
          "model_name": "HTMLModel",
          "state": {
            "_view_name": "HTMLView",
            "style": "IPY_MODEL_4f9d8c5c79804630af63ad55a6eafd3e",
            "_dom_classes": [],
            "description": "",
            "_model_name": "HTMLModel",
            "placeholder": "​",
            "_view_module": "@jupyter-widgets/controls",
            "_model_module_version": "1.5.0",
            "value": " 210k/210k [00:01&lt;00:00, 193kB/s]",
            "_view_count": null,
            "_view_module_version": "1.5.0",
            "description_tooltip": null,
            "_model_module": "@jupyter-widgets/controls",
            "layout": "IPY_MODEL_80edb5f0a1bf4dc081bfeca0511e4e52"
          }
        },
        "15ffbf3bf5754533b46d1f8966cb3d1e": {
          "model_module": "@jupyter-widgets/controls",
          "model_name": "ProgressStyleModel",
          "state": {
            "_view_name": "StyleView",
            "_model_name": "ProgressStyleModel",
            "description_width": "initial",
            "_view_module": "@jupyter-widgets/base",
            "_model_module_version": "1.5.0",
            "_view_count": null,
            "_view_module_version": "1.2.0",
            "bar_color": null,
            "_model_module": "@jupyter-widgets/controls"
          }
        },
        "c2ad69326f664b76b667a0099eb298f8": {
          "model_module": "@jupyter-widgets/base",
          "model_name": "LayoutModel",
          "state": {
            "_view_name": "LayoutView",
            "grid_template_rows": null,
            "right": null,
            "justify_content": null,
            "_view_module": "@jupyter-widgets/base",
            "overflow": null,
            "_model_module_version": "1.2.0",
            "_view_count": null,
            "flex_flow": null,
            "width": null,
            "min_width": null,
            "border": null,
            "align_items": null,
            "bottom": null,
            "_model_module": "@jupyter-widgets/base",
            "top": null,
            "grid_column": null,
            "overflow_y": null,
            "overflow_x": null,
            "grid_auto_flow": null,
            "grid_area": null,
            "grid_template_columns": null,
            "flex": null,
            "_model_name": "LayoutModel",
            "justify_items": null,
            "grid_row": null,
            "max_height": null,
            "align_content": null,
            "visibility": null,
            "align_self": null,
            "height": null,
            "min_height": null,
            "padding": null,
            "grid_auto_rows": null,
            "grid_gap": null,
            "max_width": null,
            "order": null,
            "_view_module_version": "1.2.0",
            "grid_template_areas": null,
            "object_position": null,
            "object_fit": null,
            "grid_auto_columns": null,
            "margin": null,
            "display": null,
            "left": null
          }
        },
        "4f9d8c5c79804630af63ad55a6eafd3e": {
          "model_module": "@jupyter-widgets/controls",
          "model_name": "DescriptionStyleModel",
          "state": {
            "_view_name": "StyleView",
            "_model_name": "DescriptionStyleModel",
            "description_width": "",
            "_view_module": "@jupyter-widgets/base",
            "_model_module_version": "1.5.0",
            "_view_count": null,
            "_view_module_version": "1.2.0",
            "_model_module": "@jupyter-widgets/controls"
          }
        },
        "80edb5f0a1bf4dc081bfeca0511e4e52": {
          "model_module": "@jupyter-widgets/base",
          "model_name": "LayoutModel",
          "state": {
            "_view_name": "LayoutView",
            "grid_template_rows": null,
            "right": null,
            "justify_content": null,
            "_view_module": "@jupyter-widgets/base",
            "overflow": null,
            "_model_module_version": "1.2.0",
            "_view_count": null,
            "flex_flow": null,
            "width": null,
            "min_width": null,
            "border": null,
            "align_items": null,
            "bottom": null,
            "_model_module": "@jupyter-widgets/base",
            "top": null,
            "grid_column": null,
            "overflow_y": null,
            "overflow_x": null,
            "grid_auto_flow": null,
            "grid_area": null,
            "grid_template_columns": null,
            "flex": null,
            "_model_name": "LayoutModel",
            "justify_items": null,
            "grid_row": null,
            "max_height": null,
            "align_content": null,
            "visibility": null,
            "align_self": null,
            "height": null,
            "min_height": null,
            "padding": null,
            "grid_auto_rows": null,
            "grid_gap": null,
            "max_width": null,
            "order": null,
            "_view_module_version": "1.2.0",
            "grid_template_areas": null,
            "object_position": null,
            "object_fit": null,
            "grid_auto_columns": null,
            "margin": null,
            "display": null,
            "left": null
          }
        },
        "3e941b5d2281404089fb694626572426": {
          "model_module": "@jupyter-widgets/controls",
          "model_name": "HBoxModel",
          "state": {
            "_view_name": "HBoxView",
            "_dom_classes": [],
            "_model_name": "HBoxModel",
            "_view_module": "@jupyter-widgets/controls",
            "_model_module_version": "1.5.0",
            "_view_count": null,
            "_view_module_version": "1.5.0",
            "box_style": "",
            "layout": "IPY_MODEL_5584bdc033354f1a843649ad33e46408",
            "_model_module": "@jupyter-widgets/controls",
            "children": [
              "IPY_MODEL_0d797ac5c050485fac06735ab6078b77",
              "IPY_MODEL_5d00ffa0867e41c69fa0ea0f5b68c172"
            ]
          }
        },
        "5584bdc033354f1a843649ad33e46408": {
          "model_module": "@jupyter-widgets/base",
          "model_name": "LayoutModel",
          "state": {
            "_view_name": "LayoutView",
            "grid_template_rows": null,
            "right": null,
            "justify_content": null,
            "_view_module": "@jupyter-widgets/base",
            "overflow": null,
            "_model_module_version": "1.2.0",
            "_view_count": null,
            "flex_flow": null,
            "width": null,
            "min_width": null,
            "border": null,
            "align_items": null,
            "bottom": null,
            "_model_module": "@jupyter-widgets/base",
            "top": null,
            "grid_column": null,
            "overflow_y": null,
            "overflow_x": null,
            "grid_auto_flow": null,
            "grid_area": null,
            "grid_template_columns": null,
            "flex": null,
            "_model_name": "LayoutModel",
            "justify_items": null,
            "grid_row": null,
            "max_height": null,
            "align_content": null,
            "visibility": null,
            "align_self": null,
            "height": null,
            "min_height": null,
            "padding": null,
            "grid_auto_rows": null,
            "grid_gap": null,
            "max_width": null,
            "order": null,
            "_view_module_version": "1.2.0",
            "grid_template_areas": null,
            "object_position": null,
            "object_fit": null,
            "grid_auto_columns": null,
            "margin": null,
            "display": null,
            "left": null
          }
        },
        "0d797ac5c050485fac06735ab6078b77": {
          "model_module": "@jupyter-widgets/controls",
          "model_name": "FloatProgressModel",
          "state": {
            "_view_name": "ProgressView",
            "style": "IPY_MODEL_13c36a35fe044f53902880372376b0b3",
            "_dom_classes": [],
            "description": "Downloading: 100%",
            "_model_name": "FloatProgressModel",
            "bar_style": "success",
            "max": 2,
            "_view_module": "@jupyter-widgets/controls",
            "_model_module_version": "1.5.0",
            "value": 2,
            "_view_count": null,
            "_view_module_version": "1.5.0",
            "orientation": "horizontal",
            "min": 0,
            "description_tooltip": null,
            "_model_module": "@jupyter-widgets/controls",
            "layout": "IPY_MODEL_eeb9bdcb22d64dc9880bd32e4c961df3"
          }
        },
        "5d00ffa0867e41c69fa0ea0f5b68c172": {
          "model_module": "@jupyter-widgets/controls",
          "model_name": "HTMLModel",
          "state": {
            "_view_name": "HTMLView",
            "style": "IPY_MODEL_1cfe92d11aae46f1882ece1a2ce04d72",
            "_dom_classes": [],
            "description": "",
            "_model_name": "HTMLModel",
            "placeholder": "​",
            "_view_module": "@jupyter-widgets/controls",
            "_model_module_version": "1.5.0",
            "value": " 2.00/2.00 [00:00&lt;00:00, 7.29B/s]",
            "_view_count": null,
            "_view_module_version": "1.5.0",
            "description_tooltip": null,
            "_model_module": "@jupyter-widgets/controls",
            "layout": "IPY_MODEL_9c757e0db87746f6ad7ec01831eea351"
          }
        },
        "13c36a35fe044f53902880372376b0b3": {
          "model_module": "@jupyter-widgets/controls",
          "model_name": "ProgressStyleModel",
          "state": {
            "_view_name": "StyleView",
            "_model_name": "ProgressStyleModel",
            "description_width": "initial",
            "_view_module": "@jupyter-widgets/base",
            "_model_module_version": "1.5.0",
            "_view_count": null,
            "_view_module_version": "1.2.0",
            "bar_color": null,
            "_model_module": "@jupyter-widgets/controls"
          }
        },
        "eeb9bdcb22d64dc9880bd32e4c961df3": {
          "model_module": "@jupyter-widgets/base",
          "model_name": "LayoutModel",
          "state": {
            "_view_name": "LayoutView",
            "grid_template_rows": null,
            "right": null,
            "justify_content": null,
            "_view_module": "@jupyter-widgets/base",
            "overflow": null,
            "_model_module_version": "1.2.0",
            "_view_count": null,
            "flex_flow": null,
            "width": null,
            "min_width": null,
            "border": null,
            "align_items": null,
            "bottom": null,
            "_model_module": "@jupyter-widgets/base",
            "top": null,
            "grid_column": null,
            "overflow_y": null,
            "overflow_x": null,
            "grid_auto_flow": null,
            "grid_area": null,
            "grid_template_columns": null,
            "flex": null,
            "_model_name": "LayoutModel",
            "justify_items": null,
            "grid_row": null,
            "max_height": null,
            "align_content": null,
            "visibility": null,
            "align_self": null,
            "height": null,
            "min_height": null,
            "padding": null,
            "grid_auto_rows": null,
            "grid_gap": null,
            "max_width": null,
            "order": null,
            "_view_module_version": "1.2.0",
            "grid_template_areas": null,
            "object_position": null,
            "object_fit": null,
            "grid_auto_columns": null,
            "margin": null,
            "display": null,
            "left": null
          }
        },
        "1cfe92d11aae46f1882ece1a2ce04d72": {
          "model_module": "@jupyter-widgets/controls",
          "model_name": "DescriptionStyleModel",
          "state": {
            "_view_name": "StyleView",
            "_model_name": "DescriptionStyleModel",
            "description_width": "",
            "_view_module": "@jupyter-widgets/base",
            "_model_module_version": "1.5.0",
            "_view_count": null,
            "_view_module_version": "1.2.0",
            "_model_module": "@jupyter-widgets/controls"
          }
        },
        "9c757e0db87746f6ad7ec01831eea351": {
          "model_module": "@jupyter-widgets/base",
          "model_name": "LayoutModel",
          "state": {
            "_view_name": "LayoutView",
            "grid_template_rows": null,
            "right": null,
            "justify_content": null,
            "_view_module": "@jupyter-widgets/base",
            "overflow": null,
            "_model_module_version": "1.2.0",
            "_view_count": null,
            "flex_flow": null,
            "width": null,
            "min_width": null,
            "border": null,
            "align_items": null,
            "bottom": null,
            "_model_module": "@jupyter-widgets/base",
            "top": null,
            "grid_column": null,
            "overflow_y": null,
            "overflow_x": null,
            "grid_auto_flow": null,
            "grid_area": null,
            "grid_template_columns": null,
            "flex": null,
            "_model_name": "LayoutModel",
            "justify_items": null,
            "grid_row": null,
            "max_height": null,
            "align_content": null,
            "visibility": null,
            "align_self": null,
            "height": null,
            "min_height": null,
            "padding": null,
            "grid_auto_rows": null,
            "grid_gap": null,
            "max_width": null,
            "order": null,
            "_view_module_version": "1.2.0",
            "grid_template_areas": null,
            "object_position": null,
            "object_fit": null,
            "grid_auto_columns": null,
            "margin": null,
            "display": null,
            "left": null
          }
        },
        "488a0f9f2af2414aa21112d686200d40": {
          "model_module": "@jupyter-widgets/controls",
          "model_name": "HBoxModel",
          "state": {
            "_view_name": "HBoxView",
            "_dom_classes": [],
            "_model_name": "HBoxModel",
            "_view_module": "@jupyter-widgets/controls",
            "_model_module_version": "1.5.0",
            "_view_count": null,
            "_view_module_version": "1.5.0",
            "box_style": "",
            "layout": "IPY_MODEL_1cb53c659a914c77b3f3f1b1f93d75d3",
            "_model_module": "@jupyter-widgets/controls",
            "children": [
              "IPY_MODEL_b3c46a8dba4245c493b4254a878894e8",
              "IPY_MODEL_ae943da3c13b419daeadc777c2eee248"
            ]
          }
        },
        "1cb53c659a914c77b3f3f1b1f93d75d3": {
          "model_module": "@jupyter-widgets/base",
          "model_name": "LayoutModel",
          "state": {
            "_view_name": "LayoutView",
            "grid_template_rows": null,
            "right": null,
            "justify_content": null,
            "_view_module": "@jupyter-widgets/base",
            "overflow": null,
            "_model_module_version": "1.2.0",
            "_view_count": null,
            "flex_flow": null,
            "width": null,
            "min_width": null,
            "border": null,
            "align_items": null,
            "bottom": null,
            "_model_module": "@jupyter-widgets/base",
            "top": null,
            "grid_column": null,
            "overflow_y": null,
            "overflow_x": null,
            "grid_auto_flow": null,
            "grid_area": null,
            "grid_template_columns": null,
            "flex": null,
            "_model_name": "LayoutModel",
            "justify_items": null,
            "grid_row": null,
            "max_height": null,
            "align_content": null,
            "visibility": null,
            "align_self": null,
            "height": null,
            "min_height": null,
            "padding": null,
            "grid_auto_rows": null,
            "grid_gap": null,
            "max_width": null,
            "order": null,
            "_view_module_version": "1.2.0",
            "grid_template_areas": null,
            "object_position": null,
            "object_fit": null,
            "grid_auto_columns": null,
            "margin": null,
            "display": null,
            "left": null
          }
        },
        "b3c46a8dba4245c493b4254a878894e8": {
          "model_module": "@jupyter-widgets/controls",
          "model_name": "FloatProgressModel",
          "state": {
            "_view_name": "ProgressView",
            "style": "IPY_MODEL_e6952ff1acd44000bbc6c22e04c99e01",
            "_dom_classes": [],
            "description": "Downloading: 100%",
            "_model_name": "FloatProgressModel",
            "bar_style": "success",
            "max": 112,
            "_view_module": "@jupyter-widgets/controls",
            "_model_module_version": "1.5.0",
            "value": 112,
            "_view_count": null,
            "_view_module_version": "1.5.0",
            "orientation": "horizontal",
            "min": 0,
            "description_tooltip": null,
            "_model_module": "@jupyter-widgets/controls",
            "layout": "IPY_MODEL_18947f1de47447d0a116b2470ffd115a"
          }
        },
        "ae943da3c13b419daeadc777c2eee248": {
          "model_module": "@jupyter-widgets/controls",
          "model_name": "HTMLModel",
          "state": {
            "_view_name": "HTMLView",
            "style": "IPY_MODEL_b7f0bf6987c1442db391911509ae62be",
            "_dom_classes": [],
            "description": "",
            "_model_name": "HTMLModel",
            "placeholder": "​",
            "_view_module": "@jupyter-widgets/controls",
            "_model_module_version": "1.5.0",
            "value": " 112/112 [00:00&lt;00:00, 295B/s]",
            "_view_count": null,
            "_view_module_version": "1.5.0",
            "description_tooltip": null,
            "_model_module": "@jupyter-widgets/controls",
            "layout": "IPY_MODEL_b8180a2bda4745cd83b51e1b24532b8c"
          }
        },
        "e6952ff1acd44000bbc6c22e04c99e01": {
          "model_module": "@jupyter-widgets/controls",
          "model_name": "ProgressStyleModel",
          "state": {
            "_view_name": "StyleView",
            "_model_name": "ProgressStyleModel",
            "description_width": "initial",
            "_view_module": "@jupyter-widgets/base",
            "_model_module_version": "1.5.0",
            "_view_count": null,
            "_view_module_version": "1.2.0",
            "bar_color": null,
            "_model_module": "@jupyter-widgets/controls"
          }
        },
        "18947f1de47447d0a116b2470ffd115a": {
          "model_module": "@jupyter-widgets/base",
          "model_name": "LayoutModel",
          "state": {
            "_view_name": "LayoutView",
            "grid_template_rows": null,
            "right": null,
            "justify_content": null,
            "_view_module": "@jupyter-widgets/base",
            "overflow": null,
            "_model_module_version": "1.2.0",
            "_view_count": null,
            "flex_flow": null,
            "width": null,
            "min_width": null,
            "border": null,
            "align_items": null,
            "bottom": null,
            "_model_module": "@jupyter-widgets/base",
            "top": null,
            "grid_column": null,
            "overflow_y": null,
            "overflow_x": null,
            "grid_auto_flow": null,
            "grid_area": null,
            "grid_template_columns": null,
            "flex": null,
            "_model_name": "LayoutModel",
            "justify_items": null,
            "grid_row": null,
            "max_height": null,
            "align_content": null,
            "visibility": null,
            "align_self": null,
            "height": null,
            "min_height": null,
            "padding": null,
            "grid_auto_rows": null,
            "grid_gap": null,
            "max_width": null,
            "order": null,
            "_view_module_version": "1.2.0",
            "grid_template_areas": null,
            "object_position": null,
            "object_fit": null,
            "grid_auto_columns": null,
            "margin": null,
            "display": null,
            "left": null
          }
        },
        "b7f0bf6987c1442db391911509ae62be": {
          "model_module": "@jupyter-widgets/controls",
          "model_name": "DescriptionStyleModel",
          "state": {
            "_view_name": "StyleView",
            "_model_name": "DescriptionStyleModel",
            "description_width": "",
            "_view_module": "@jupyter-widgets/base",
            "_model_module_version": "1.5.0",
            "_view_count": null,
            "_view_module_version": "1.2.0",
            "_model_module": "@jupyter-widgets/controls"
          }
        },
        "b8180a2bda4745cd83b51e1b24532b8c": {
          "model_module": "@jupyter-widgets/base",
          "model_name": "LayoutModel",
          "state": {
            "_view_name": "LayoutView",
            "grid_template_rows": null,
            "right": null,
            "justify_content": null,
            "_view_module": "@jupyter-widgets/base",
            "overflow": null,
            "_model_module_version": "1.2.0",
            "_view_count": null,
            "flex_flow": null,
            "width": null,
            "min_width": null,
            "border": null,
            "align_items": null,
            "bottom": null,
            "_model_module": "@jupyter-widgets/base",
            "top": null,
            "grid_column": null,
            "overflow_y": null,
            "overflow_x": null,
            "grid_auto_flow": null,
            "grid_area": null,
            "grid_template_columns": null,
            "flex": null,
            "_model_name": "LayoutModel",
            "justify_items": null,
            "grid_row": null,
            "max_height": null,
            "align_content": null,
            "visibility": null,
            "align_self": null,
            "height": null,
            "min_height": null,
            "padding": null,
            "grid_auto_rows": null,
            "grid_gap": null,
            "max_width": null,
            "order": null,
            "_view_module_version": "1.2.0",
            "grid_template_areas": null,
            "object_position": null,
            "object_fit": null,
            "grid_auto_columns": null,
            "margin": null,
            "display": null,
            "left": null
          }
        },
        "1a7e9327bc0047d380cebfef204e9765": {
          "model_module": "@jupyter-widgets/controls",
          "model_name": "HBoxModel",
          "state": {
            "_view_name": "HBoxView",
            "_dom_classes": [],
            "_model_name": "HBoxModel",
            "_view_module": "@jupyter-widgets/controls",
            "_model_module_version": "1.5.0",
            "_view_count": null,
            "_view_module_version": "1.5.0",
            "box_style": "",
            "layout": "IPY_MODEL_2a50e9b36c6b4ecc8d6cd210bd199716",
            "_model_module": "@jupyter-widgets/controls",
            "children": [
              "IPY_MODEL_be2c85e15cc045a8b3f43ad084b45f3d",
              "IPY_MODEL_766f801363154cf3a23fb8cefa1f9ca8"
            ]
          }
        },
        "2a50e9b36c6b4ecc8d6cd210bd199716": {
          "model_module": "@jupyter-widgets/base",
          "model_name": "LayoutModel",
          "state": {
            "_view_name": "LayoutView",
            "grid_template_rows": null,
            "right": null,
            "justify_content": null,
            "_view_module": "@jupyter-widgets/base",
            "overflow": null,
            "_model_module_version": "1.2.0",
            "_view_count": null,
            "flex_flow": null,
            "width": null,
            "min_width": null,
            "border": null,
            "align_items": null,
            "bottom": null,
            "_model_module": "@jupyter-widgets/base",
            "top": null,
            "grid_column": null,
            "overflow_y": null,
            "overflow_x": null,
            "grid_auto_flow": null,
            "grid_area": null,
            "grid_template_columns": null,
            "flex": null,
            "_model_name": "LayoutModel",
            "justify_items": null,
            "grid_row": null,
            "max_height": null,
            "align_content": null,
            "visibility": null,
            "align_self": null,
            "height": null,
            "min_height": null,
            "padding": null,
            "grid_auto_rows": null,
            "grid_gap": null,
            "max_width": null,
            "order": null,
            "_view_module_version": "1.2.0",
            "grid_template_areas": null,
            "object_position": null,
            "object_fit": null,
            "grid_auto_columns": null,
            "margin": null,
            "display": null,
            "left": null
          }
        },
        "be2c85e15cc045a8b3f43ad084b45f3d": {
          "model_module": "@jupyter-widgets/controls",
          "model_name": "FloatProgressModel",
          "state": {
            "_view_name": "ProgressView",
            "style": "IPY_MODEL_a114c75320b743b79d246ceb22ff05f0",
            "_dom_classes": [],
            "description": "Downloading: 100%",
            "_model_name": "FloatProgressModel",
            "bar_style": "success",
            "max": 43,
            "_view_module": "@jupyter-widgets/controls",
            "_model_module_version": "1.5.0",
            "value": 43,
            "_view_count": null,
            "_view_module_version": "1.5.0",
            "orientation": "horizontal",
            "min": 0,
            "description_tooltip": null,
            "_model_module": "@jupyter-widgets/controls",
            "layout": "IPY_MODEL_ff717a21f4fc406abdf9c7324aae773f"
          }
        },
        "766f801363154cf3a23fb8cefa1f9ca8": {
          "model_module": "@jupyter-widgets/controls",
          "model_name": "HTMLModel",
          "state": {
            "_view_name": "HTMLView",
            "style": "IPY_MODEL_aa0068291b1e427a8726b26a4eae58d5",
            "_dom_classes": [],
            "description": "",
            "_model_name": "HTMLModel",
            "placeholder": "​",
            "_view_module": "@jupyter-widgets/controls",
            "_model_module_version": "1.5.0",
            "value": " 43.0/43.0 [00:00&lt;00:00, 396B/s]",
            "_view_count": null,
            "_view_module_version": "1.5.0",
            "description_tooltip": null,
            "_model_module": "@jupyter-widgets/controls",
            "layout": "IPY_MODEL_59f066b1d0804f8b966392dc03c893c7"
          }
        },
        "a114c75320b743b79d246ceb22ff05f0": {
          "model_module": "@jupyter-widgets/controls",
          "model_name": "ProgressStyleModel",
          "state": {
            "_view_name": "StyleView",
            "_model_name": "ProgressStyleModel",
            "description_width": "initial",
            "_view_module": "@jupyter-widgets/base",
            "_model_module_version": "1.5.0",
            "_view_count": null,
            "_view_module_version": "1.2.0",
            "bar_color": null,
            "_model_module": "@jupyter-widgets/controls"
          }
        },
        "ff717a21f4fc406abdf9c7324aae773f": {
          "model_module": "@jupyter-widgets/base",
          "model_name": "LayoutModel",
          "state": {
            "_view_name": "LayoutView",
            "grid_template_rows": null,
            "right": null,
            "justify_content": null,
            "_view_module": "@jupyter-widgets/base",
            "overflow": null,
            "_model_module_version": "1.2.0",
            "_view_count": null,
            "flex_flow": null,
            "width": null,
            "min_width": null,
            "border": null,
            "align_items": null,
            "bottom": null,
            "_model_module": "@jupyter-widgets/base",
            "top": null,
            "grid_column": null,
            "overflow_y": null,
            "overflow_x": null,
            "grid_auto_flow": null,
            "grid_area": null,
            "grid_template_columns": null,
            "flex": null,
            "_model_name": "LayoutModel",
            "justify_items": null,
            "grid_row": null,
            "max_height": null,
            "align_content": null,
            "visibility": null,
            "align_self": null,
            "height": null,
            "min_height": null,
            "padding": null,
            "grid_auto_rows": null,
            "grid_gap": null,
            "max_width": null,
            "order": null,
            "_view_module_version": "1.2.0",
            "grid_template_areas": null,
            "object_position": null,
            "object_fit": null,
            "grid_auto_columns": null,
            "margin": null,
            "display": null,
            "left": null
          }
        },
        "aa0068291b1e427a8726b26a4eae58d5": {
          "model_module": "@jupyter-widgets/controls",
          "model_name": "DescriptionStyleModel",
          "state": {
            "_view_name": "StyleView",
            "_model_name": "DescriptionStyleModel",
            "description_width": "",
            "_view_module": "@jupyter-widgets/base",
            "_model_module_version": "1.5.0",
            "_view_count": null,
            "_view_module_version": "1.2.0",
            "_model_module": "@jupyter-widgets/controls"
          }
        },
        "59f066b1d0804f8b966392dc03c893c7": {
          "model_module": "@jupyter-widgets/base",
          "model_name": "LayoutModel",
          "state": {
            "_view_name": "LayoutView",
            "grid_template_rows": null,
            "right": null,
            "justify_content": null,
            "_view_module": "@jupyter-widgets/base",
            "overflow": null,
            "_model_module_version": "1.2.0",
            "_view_count": null,
            "flex_flow": null,
            "width": null,
            "min_width": null,
            "border": null,
            "align_items": null,
            "bottom": null,
            "_model_module": "@jupyter-widgets/base",
            "top": null,
            "grid_column": null,
            "overflow_y": null,
            "overflow_x": null,
            "grid_auto_flow": null,
            "grid_area": null,
            "grid_template_columns": null,
            "flex": null,
            "_model_name": "LayoutModel",
            "justify_items": null,
            "grid_row": null,
            "max_height": null,
            "align_content": null,
            "visibility": null,
            "align_self": null,
            "height": null,
            "min_height": null,
            "padding": null,
            "grid_auto_rows": null,
            "grid_gap": null,
            "max_width": null,
            "order": null,
            "_view_module_version": "1.2.0",
            "grid_template_areas": null,
            "object_position": null,
            "object_fit": null,
            "grid_auto_columns": null,
            "margin": null,
            "display": null,
            "left": null
          }
        },
        "55484bb2a5b343f68b1e5d320688100f": {
          "model_module": "@jupyter-widgets/controls",
          "model_name": "HBoxModel",
          "state": {
            "_view_name": "HBoxView",
            "_dom_classes": [],
            "_model_name": "HBoxModel",
            "_view_module": "@jupyter-widgets/controls",
            "_model_module_version": "1.5.0",
            "_view_count": null,
            "_view_module_version": "1.5.0",
            "box_style": "",
            "layout": "IPY_MODEL_f09ee2a973db40fe8d520394f14643e6",
            "_model_module": "@jupyter-widgets/controls",
            "children": [
              "IPY_MODEL_434aa415daa14e379fc7d4faddcfbc09",
              "IPY_MODEL_2dfcd24fae4347f9bfea0864e2638cc8"
            ]
          }
        },
        "f09ee2a973db40fe8d520394f14643e6": {
          "model_module": "@jupyter-widgets/base",
          "model_name": "LayoutModel",
          "state": {
            "_view_name": "LayoutView",
            "grid_template_rows": null,
            "right": null,
            "justify_content": null,
            "_view_module": "@jupyter-widgets/base",
            "overflow": null,
            "_model_module_version": "1.2.0",
            "_view_count": null,
            "flex_flow": null,
            "width": null,
            "min_width": null,
            "border": null,
            "align_items": null,
            "bottom": null,
            "_model_module": "@jupyter-widgets/base",
            "top": null,
            "grid_column": null,
            "overflow_y": null,
            "overflow_x": null,
            "grid_auto_flow": null,
            "grid_area": null,
            "grid_template_columns": null,
            "flex": null,
            "_model_name": "LayoutModel",
            "justify_items": null,
            "grid_row": null,
            "max_height": null,
            "align_content": null,
            "visibility": null,
            "align_self": null,
            "height": null,
            "min_height": null,
            "padding": null,
            "grid_auto_rows": null,
            "grid_gap": null,
            "max_width": null,
            "order": null,
            "_view_module_version": "1.2.0",
            "grid_template_areas": null,
            "object_position": null,
            "object_fit": null,
            "grid_auto_columns": null,
            "margin": null,
            "display": null,
            "left": null
          }
        },
        "434aa415daa14e379fc7d4faddcfbc09": {
          "model_module": "@jupyter-widgets/controls",
          "model_name": "FloatProgressModel",
          "state": {
            "_view_name": "ProgressView",
            "style": "IPY_MODEL_6bb60f62d31441b48860e19b686b834f",
            "_dom_classes": [],
            "description": "Downloading: 100%",
            "_model_name": "FloatProgressModel",
            "bar_style": "success",
            "max": 438235074,
            "_view_module": "@jupyter-widgets/controls",
            "_model_module_version": "1.5.0",
            "value": 438235074,
            "_view_count": null,
            "_view_module_version": "1.5.0",
            "orientation": "horizontal",
            "min": 0,
            "description_tooltip": null,
            "_model_module": "@jupyter-widgets/controls",
            "layout": "IPY_MODEL_f7afe60b022c40e7bd7abcf9abf74366"
          }
        },
        "2dfcd24fae4347f9bfea0864e2638cc8": {
          "model_module": "@jupyter-widgets/controls",
          "model_name": "HTMLModel",
          "state": {
            "_view_name": "HTMLView",
            "style": "IPY_MODEL_b4192478c2e645c3a5f0877e51d062bb",
            "_dom_classes": [],
            "description": "",
            "_model_name": "HTMLModel",
            "placeholder": "​",
            "_view_module": "@jupyter-widgets/controls",
            "_model_module_version": "1.5.0",
            "value": " 438M/438M [00:16&lt;00:00, 25.9MB/s]",
            "_view_count": null,
            "_view_module_version": "1.5.0",
            "description_tooltip": null,
            "_model_module": "@jupyter-widgets/controls",
            "layout": "IPY_MODEL_37248aeaedcc42e0a001a91b747e07d1"
          }
        },
        "6bb60f62d31441b48860e19b686b834f": {
          "model_module": "@jupyter-widgets/controls",
          "model_name": "ProgressStyleModel",
          "state": {
            "_view_name": "StyleView",
            "_model_name": "ProgressStyleModel",
            "description_width": "initial",
            "_view_module": "@jupyter-widgets/base",
            "_model_module_version": "1.5.0",
            "_view_count": null,
            "_view_module_version": "1.2.0",
            "bar_color": null,
            "_model_module": "@jupyter-widgets/controls"
          }
        },
        "f7afe60b022c40e7bd7abcf9abf74366": {
          "model_module": "@jupyter-widgets/base",
          "model_name": "LayoutModel",
          "state": {
            "_view_name": "LayoutView",
            "grid_template_rows": null,
            "right": null,
            "justify_content": null,
            "_view_module": "@jupyter-widgets/base",
            "overflow": null,
            "_model_module_version": "1.2.0",
            "_view_count": null,
            "flex_flow": null,
            "width": null,
            "min_width": null,
            "border": null,
            "align_items": null,
            "bottom": null,
            "_model_module": "@jupyter-widgets/base",
            "top": null,
            "grid_column": null,
            "overflow_y": null,
            "overflow_x": null,
            "grid_auto_flow": null,
            "grid_area": null,
            "grid_template_columns": null,
            "flex": null,
            "_model_name": "LayoutModel",
            "justify_items": null,
            "grid_row": null,
            "max_height": null,
            "align_content": null,
            "visibility": null,
            "align_self": null,
            "height": null,
            "min_height": null,
            "padding": null,
            "grid_auto_rows": null,
            "grid_gap": null,
            "max_width": null,
            "order": null,
            "_view_module_version": "1.2.0",
            "grid_template_areas": null,
            "object_position": null,
            "object_fit": null,
            "grid_auto_columns": null,
            "margin": null,
            "display": null,
            "left": null
          }
        },
        "b4192478c2e645c3a5f0877e51d062bb": {
          "model_module": "@jupyter-widgets/controls",
          "model_name": "DescriptionStyleModel",
          "state": {
            "_view_name": "StyleView",
            "_model_name": "DescriptionStyleModel",
            "description_width": "",
            "_view_module": "@jupyter-widgets/base",
            "_model_module_version": "1.5.0",
            "_view_count": null,
            "_view_module_version": "1.2.0",
            "_model_module": "@jupyter-widgets/controls"
          }
        },
        "37248aeaedcc42e0a001a91b747e07d1": {
          "model_module": "@jupyter-widgets/base",
          "model_name": "LayoutModel",
          "state": {
            "_view_name": "LayoutView",
            "grid_template_rows": null,
            "right": null,
            "justify_content": null,
            "_view_module": "@jupyter-widgets/base",
            "overflow": null,
            "_model_module_version": "1.2.0",
            "_view_count": null,
            "flex_flow": null,
            "width": null,
            "min_width": null,
            "border": null,
            "align_items": null,
            "bottom": null,
            "_model_module": "@jupyter-widgets/base",
            "top": null,
            "grid_column": null,
            "overflow_y": null,
            "overflow_x": null,
            "grid_auto_flow": null,
            "grid_area": null,
            "grid_template_columns": null,
            "flex": null,
            "_model_name": "LayoutModel",
            "justify_items": null,
            "grid_row": null,
            "max_height": null,
            "align_content": null,
            "visibility": null,
            "align_self": null,
            "height": null,
            "min_height": null,
            "padding": null,
            "grid_auto_rows": null,
            "grid_gap": null,
            "max_width": null,
            "order": null,
            "_view_module_version": "1.2.0",
            "grid_template_areas": null,
            "object_position": null,
            "object_fit": null,
            "grid_auto_columns": null,
            "margin": null,
            "display": null,
            "left": null
          }
        },
        "3256d992dcf74753a3ba7fb44d69208c": {
          "model_module": "@jupyter-widgets/controls",
          "model_name": "HBoxModel",
          "state": {
            "_view_name": "HBoxView",
            "_dom_classes": [],
            "_model_name": "HBoxModel",
            "_view_module": "@jupyter-widgets/controls",
            "_model_module_version": "1.5.0",
            "_view_count": null,
            "_view_module_version": "1.5.0",
            "box_style": "",
            "layout": "IPY_MODEL_320996a3d2d34a03ad156cdd89f97f48",
            "_model_module": "@jupyter-widgets/controls",
            "children": [
              "IPY_MODEL_6b3663df5f01445984645063538591a4",
              "IPY_MODEL_eddea81c6fb54021898c36b3d6d6a08c"
            ]
          }
        },
        "320996a3d2d34a03ad156cdd89f97f48": {
          "model_module": "@jupyter-widgets/base",
          "model_name": "LayoutModel",
          "state": {
            "_view_name": "LayoutView",
            "grid_template_rows": null,
            "right": null,
            "justify_content": null,
            "_view_module": "@jupyter-widgets/base",
            "overflow": null,
            "_model_module_version": "1.2.0",
            "_view_count": null,
            "flex_flow": null,
            "width": null,
            "min_width": null,
            "border": null,
            "align_items": null,
            "bottom": null,
            "_model_module": "@jupyter-widgets/base",
            "top": null,
            "grid_column": null,
            "overflow_y": null,
            "overflow_x": null,
            "grid_auto_flow": null,
            "grid_area": null,
            "grid_template_columns": null,
            "flex": null,
            "_model_name": "LayoutModel",
            "justify_items": null,
            "grid_row": null,
            "max_height": null,
            "align_content": null,
            "visibility": null,
            "align_self": null,
            "height": null,
            "min_height": null,
            "padding": null,
            "grid_auto_rows": null,
            "grid_gap": null,
            "max_width": null,
            "order": null,
            "_view_module_version": "1.2.0",
            "grid_template_areas": null,
            "object_position": null,
            "object_fit": null,
            "grid_auto_columns": null,
            "margin": null,
            "display": null,
            "left": null
          }
        },
        "6b3663df5f01445984645063538591a4": {
          "model_module": "@jupyter-widgets/controls",
          "model_name": "FloatProgressModel",
          "state": {
            "_view_name": "ProgressView",
            "style": "IPY_MODEL_30555d4e375e4dfc8039cf2332f8e45c",
            "_dom_classes": [],
            "description": "Downloading: 100%",
            "_model_name": "FloatProgressModel",
            "bar_style": "success",
            "max": 209528,
            "_view_module": "@jupyter-widgets/controls",
            "_model_module_version": "1.5.0",
            "value": 209528,
            "_view_count": null,
            "_view_module_version": "1.5.0",
            "orientation": "horizontal",
            "min": 0,
            "description_tooltip": null,
            "_model_module": "@jupyter-widgets/controls",
            "layout": "IPY_MODEL_f42f4393417549ed9a5c2f52a6af5914"
          }
        },
        "eddea81c6fb54021898c36b3d6d6a08c": {
          "model_module": "@jupyter-widgets/controls",
          "model_name": "HTMLModel",
          "state": {
            "_view_name": "HTMLView",
            "style": "IPY_MODEL_85015ca97fca4a4cbcd3484cf19badcb",
            "_dom_classes": [],
            "description": "",
            "_model_name": "HTMLModel",
            "placeholder": "​",
            "_view_module": "@jupyter-widgets/controls",
            "_model_module_version": "1.5.0",
            "value": " 210k/210k [00:00&lt;00:00, 574kB/s]",
            "_view_count": null,
            "_view_module_version": "1.5.0",
            "description_tooltip": null,
            "_model_module": "@jupyter-widgets/controls",
            "layout": "IPY_MODEL_67c647a2b12d4062b08834a11ea90f28"
          }
        },
        "30555d4e375e4dfc8039cf2332f8e45c": {
          "model_module": "@jupyter-widgets/controls",
          "model_name": "ProgressStyleModel",
          "state": {
            "_view_name": "StyleView",
            "_model_name": "ProgressStyleModel",
            "description_width": "initial",
            "_view_module": "@jupyter-widgets/base",
            "_model_module_version": "1.5.0",
            "_view_count": null,
            "_view_module_version": "1.2.0",
            "bar_color": null,
            "_model_module": "@jupyter-widgets/controls"
          }
        },
        "f42f4393417549ed9a5c2f52a6af5914": {
          "model_module": "@jupyter-widgets/base",
          "model_name": "LayoutModel",
          "state": {
            "_view_name": "LayoutView",
            "grid_template_rows": null,
            "right": null,
            "justify_content": null,
            "_view_module": "@jupyter-widgets/base",
            "overflow": null,
            "_model_module_version": "1.2.0",
            "_view_count": null,
            "flex_flow": null,
            "width": null,
            "min_width": null,
            "border": null,
            "align_items": null,
            "bottom": null,
            "_model_module": "@jupyter-widgets/base",
            "top": null,
            "grid_column": null,
            "overflow_y": null,
            "overflow_x": null,
            "grid_auto_flow": null,
            "grid_area": null,
            "grid_template_columns": null,
            "flex": null,
            "_model_name": "LayoutModel",
            "justify_items": null,
            "grid_row": null,
            "max_height": null,
            "align_content": null,
            "visibility": null,
            "align_self": null,
            "height": null,
            "min_height": null,
            "padding": null,
            "grid_auto_rows": null,
            "grid_gap": null,
            "max_width": null,
            "order": null,
            "_view_module_version": "1.2.0",
            "grid_template_areas": null,
            "object_position": null,
            "object_fit": null,
            "grid_auto_columns": null,
            "margin": null,
            "display": null,
            "left": null
          }
        },
        "85015ca97fca4a4cbcd3484cf19badcb": {
          "model_module": "@jupyter-widgets/controls",
          "model_name": "DescriptionStyleModel",
          "state": {
            "_view_name": "StyleView",
            "_model_name": "DescriptionStyleModel",
            "description_width": "",
            "_view_module": "@jupyter-widgets/base",
            "_model_module_version": "1.5.0",
            "_view_count": null,
            "_view_module_version": "1.2.0",
            "_model_module": "@jupyter-widgets/controls"
          }
        },
        "67c647a2b12d4062b08834a11ea90f28": {
          "model_module": "@jupyter-widgets/base",
          "model_name": "LayoutModel",
          "state": {
            "_view_name": "LayoutView",
            "grid_template_rows": null,
            "right": null,
            "justify_content": null,
            "_view_module": "@jupyter-widgets/base",
            "overflow": null,
            "_model_module_version": "1.2.0",
            "_view_count": null,
            "flex_flow": null,
            "width": null,
            "min_width": null,
            "border": null,
            "align_items": null,
            "bottom": null,
            "_model_module": "@jupyter-widgets/base",
            "top": null,
            "grid_column": null,
            "overflow_y": null,
            "overflow_x": null,
            "grid_auto_flow": null,
            "grid_area": null,
            "grid_template_columns": null,
            "flex": null,
            "_model_name": "LayoutModel",
            "justify_items": null,
            "grid_row": null,
            "max_height": null,
            "align_content": null,
            "visibility": null,
            "align_self": null,
            "height": null,
            "min_height": null,
            "padding": null,
            "grid_auto_rows": null,
            "grid_gap": null,
            "max_width": null,
            "order": null,
            "_view_module_version": "1.2.0",
            "grid_template_areas": null,
            "object_position": null,
            "object_fit": null,
            "grid_auto_columns": null,
            "margin": null,
            "display": null,
            "left": null
          }
        },
        "812acfd67f374c439fefd2b07abdf1c0": {
          "model_module": "@jupyter-widgets/controls",
          "model_name": "HBoxModel",
          "state": {
            "_view_name": "HBoxView",
            "_dom_classes": [],
            "_model_name": "HBoxModel",
            "_view_module": "@jupyter-widgets/controls",
            "_model_module_version": "1.5.0",
            "_view_count": null,
            "_view_module_version": "1.5.0",
            "box_style": "",
            "layout": "IPY_MODEL_f4534f657aaa451590e49507138a0070",
            "_model_module": "@jupyter-widgets/controls",
            "children": [
              "IPY_MODEL_9b79b4774f7d4f2aa2b23260ca4e65c2",
              "IPY_MODEL_a2588d6415674bb4928f7f9fbf1ad5a0"
            ]
          }
        },
        "f4534f657aaa451590e49507138a0070": {
          "model_module": "@jupyter-widgets/base",
          "model_name": "LayoutModel",
          "state": {
            "_view_name": "LayoutView",
            "grid_template_rows": null,
            "right": null,
            "justify_content": null,
            "_view_module": "@jupyter-widgets/base",
            "overflow": null,
            "_model_module_version": "1.2.0",
            "_view_count": null,
            "flex_flow": null,
            "width": null,
            "min_width": null,
            "border": null,
            "align_items": null,
            "bottom": null,
            "_model_module": "@jupyter-widgets/base",
            "top": null,
            "grid_column": null,
            "overflow_y": null,
            "overflow_x": null,
            "grid_auto_flow": null,
            "grid_area": null,
            "grid_template_columns": null,
            "flex": null,
            "_model_name": "LayoutModel",
            "justify_items": null,
            "grid_row": null,
            "max_height": null,
            "align_content": null,
            "visibility": null,
            "align_self": null,
            "height": null,
            "min_height": null,
            "padding": null,
            "grid_auto_rows": null,
            "grid_gap": null,
            "max_width": null,
            "order": null,
            "_view_module_version": "1.2.0",
            "grid_template_areas": null,
            "object_position": null,
            "object_fit": null,
            "grid_auto_columns": null,
            "margin": null,
            "display": null,
            "left": null
          }
        },
        "9b79b4774f7d4f2aa2b23260ca4e65c2": {
          "model_module": "@jupyter-widgets/controls",
          "model_name": "FloatProgressModel",
          "state": {
            "_view_name": "ProgressView",
            "style": "IPY_MODEL_16bc7d2c714c4eab936ef4b6d7d93470",
            "_dom_classes": [],
            "description": "Downloading: 100%",
            "_model_name": "FloatProgressModel",
            "bar_style": "success",
            "max": 2,
            "_view_module": "@jupyter-widgets/controls",
            "_model_module_version": "1.5.0",
            "value": 2,
            "_view_count": null,
            "_view_module_version": "1.5.0",
            "orientation": "horizontal",
            "min": 0,
            "description_tooltip": null,
            "_model_module": "@jupyter-widgets/controls",
            "layout": "IPY_MODEL_8fea7d134c504679aad495dd40971d25"
          }
        },
        "a2588d6415674bb4928f7f9fbf1ad5a0": {
          "model_module": "@jupyter-widgets/controls",
          "model_name": "HTMLModel",
          "state": {
            "_view_name": "HTMLView",
            "style": "IPY_MODEL_c86a7ca2d10c4ac7a9393b8d5c33ae6f",
            "_dom_classes": [],
            "description": "",
            "_model_name": "HTMLModel",
            "placeholder": "​",
            "_view_module": "@jupyter-widgets/controls",
            "_model_module_version": "1.5.0",
            "value": " 2.00/2.00 [00:52&lt;00:00, 26.1s/B]",
            "_view_count": null,
            "_view_module_version": "1.5.0",
            "description_tooltip": null,
            "_model_module": "@jupyter-widgets/controls",
            "layout": "IPY_MODEL_47dd1a7ec64f4af7af4f70b3e6f5e1bb"
          }
        },
        "16bc7d2c714c4eab936ef4b6d7d93470": {
          "model_module": "@jupyter-widgets/controls",
          "model_name": "ProgressStyleModel",
          "state": {
            "_view_name": "StyleView",
            "_model_name": "ProgressStyleModel",
            "description_width": "initial",
            "_view_module": "@jupyter-widgets/base",
            "_model_module_version": "1.5.0",
            "_view_count": null,
            "_view_module_version": "1.2.0",
            "bar_color": null,
            "_model_module": "@jupyter-widgets/controls"
          }
        },
        "8fea7d134c504679aad495dd40971d25": {
          "model_module": "@jupyter-widgets/base",
          "model_name": "LayoutModel",
          "state": {
            "_view_name": "LayoutView",
            "grid_template_rows": null,
            "right": null,
            "justify_content": null,
            "_view_module": "@jupyter-widgets/base",
            "overflow": null,
            "_model_module_version": "1.2.0",
            "_view_count": null,
            "flex_flow": null,
            "width": null,
            "min_width": null,
            "border": null,
            "align_items": null,
            "bottom": null,
            "_model_module": "@jupyter-widgets/base",
            "top": null,
            "grid_column": null,
            "overflow_y": null,
            "overflow_x": null,
            "grid_auto_flow": null,
            "grid_area": null,
            "grid_template_columns": null,
            "flex": null,
            "_model_name": "LayoutModel",
            "justify_items": null,
            "grid_row": null,
            "max_height": null,
            "align_content": null,
            "visibility": null,
            "align_self": null,
            "height": null,
            "min_height": null,
            "padding": null,
            "grid_auto_rows": null,
            "grid_gap": null,
            "max_width": null,
            "order": null,
            "_view_module_version": "1.2.0",
            "grid_template_areas": null,
            "object_position": null,
            "object_fit": null,
            "grid_auto_columns": null,
            "margin": null,
            "display": null,
            "left": null
          }
        },
        "c86a7ca2d10c4ac7a9393b8d5c33ae6f": {
          "model_module": "@jupyter-widgets/controls",
          "model_name": "DescriptionStyleModel",
          "state": {
            "_view_name": "StyleView",
            "_model_name": "DescriptionStyleModel",
            "description_width": "",
            "_view_module": "@jupyter-widgets/base",
            "_model_module_version": "1.5.0",
            "_view_count": null,
            "_view_module_version": "1.2.0",
            "_model_module": "@jupyter-widgets/controls"
          }
        },
        "47dd1a7ec64f4af7af4f70b3e6f5e1bb": {
          "model_module": "@jupyter-widgets/base",
          "model_name": "LayoutModel",
          "state": {
            "_view_name": "LayoutView",
            "grid_template_rows": null,
            "right": null,
            "justify_content": null,
            "_view_module": "@jupyter-widgets/base",
            "overflow": null,
            "_model_module_version": "1.2.0",
            "_view_count": null,
            "flex_flow": null,
            "width": null,
            "min_width": null,
            "border": null,
            "align_items": null,
            "bottom": null,
            "_model_module": "@jupyter-widgets/base",
            "top": null,
            "grid_column": null,
            "overflow_y": null,
            "overflow_x": null,
            "grid_auto_flow": null,
            "grid_area": null,
            "grid_template_columns": null,
            "flex": null,
            "_model_name": "LayoutModel",
            "justify_items": null,
            "grid_row": null,
            "max_height": null,
            "align_content": null,
            "visibility": null,
            "align_self": null,
            "height": null,
            "min_height": null,
            "padding": null,
            "grid_auto_rows": null,
            "grid_gap": null,
            "max_width": null,
            "order": null,
            "_view_module_version": "1.2.0",
            "grid_template_areas": null,
            "object_position": null,
            "object_fit": null,
            "grid_auto_columns": null,
            "margin": null,
            "display": null,
            "left": null
          }
        },
        "a2dc0d7970274bd5ba9f83339d912b6a": {
          "model_module": "@jupyter-widgets/controls",
          "model_name": "HBoxModel",
          "state": {
            "_view_name": "HBoxView",
            "_dom_classes": [],
            "_model_name": "HBoxModel",
            "_view_module": "@jupyter-widgets/controls",
            "_model_module_version": "1.5.0",
            "_view_count": null,
            "_view_module_version": "1.5.0",
            "box_style": "",
            "layout": "IPY_MODEL_c0f8c1d9c8d040e68d286efd49f18796",
            "_model_module": "@jupyter-widgets/controls",
            "children": [
              "IPY_MODEL_f0da02d533a243838b1684f89216447d",
              "IPY_MODEL_27c6cb61eede455c90fe949b08e44190"
            ]
          }
        },
        "c0f8c1d9c8d040e68d286efd49f18796": {
          "model_module": "@jupyter-widgets/base",
          "model_name": "LayoutModel",
          "state": {
            "_view_name": "LayoutView",
            "grid_template_rows": null,
            "right": null,
            "justify_content": null,
            "_view_module": "@jupyter-widgets/base",
            "overflow": null,
            "_model_module_version": "1.2.0",
            "_view_count": null,
            "flex_flow": null,
            "width": null,
            "min_width": null,
            "border": null,
            "align_items": null,
            "bottom": null,
            "_model_module": "@jupyter-widgets/base",
            "top": null,
            "grid_column": null,
            "overflow_y": null,
            "overflow_x": null,
            "grid_auto_flow": null,
            "grid_area": null,
            "grid_template_columns": null,
            "flex": null,
            "_model_name": "LayoutModel",
            "justify_items": null,
            "grid_row": null,
            "max_height": null,
            "align_content": null,
            "visibility": null,
            "align_self": null,
            "height": null,
            "min_height": null,
            "padding": null,
            "grid_auto_rows": null,
            "grid_gap": null,
            "max_width": null,
            "order": null,
            "_view_module_version": "1.2.0",
            "grid_template_areas": null,
            "object_position": null,
            "object_fit": null,
            "grid_auto_columns": null,
            "margin": null,
            "display": null,
            "left": null
          }
        },
        "f0da02d533a243838b1684f89216447d": {
          "model_module": "@jupyter-widgets/controls",
          "model_name": "FloatProgressModel",
          "state": {
            "_view_name": "ProgressView",
            "style": "IPY_MODEL_11b2e94089cd40e9b2d9d2be016a3140",
            "_dom_classes": [],
            "description": "Downloading: 100%",
            "_model_name": "FloatProgressModel",
            "bar_style": "success",
            "max": 112,
            "_view_module": "@jupyter-widgets/controls",
            "_model_module_version": "1.5.0",
            "value": 112,
            "_view_count": null,
            "_view_module_version": "1.5.0",
            "orientation": "horizontal",
            "min": 0,
            "description_tooltip": null,
            "_model_module": "@jupyter-widgets/controls",
            "layout": "IPY_MODEL_e37272ed325043a7a9fa85157e68c40b"
          }
        },
        "27c6cb61eede455c90fe949b08e44190": {
          "model_module": "@jupyter-widgets/controls",
          "model_name": "HTMLModel",
          "state": {
            "_view_name": "HTMLView",
            "style": "IPY_MODEL_2d30bd2f834942639e450986338c8a93",
            "_dom_classes": [],
            "description": "",
            "_model_name": "HTMLModel",
            "placeholder": "​",
            "_view_module": "@jupyter-widgets/controls",
            "_model_module_version": "1.5.0",
            "value": " 112/112 [00:00&lt;00:00, 248B/s]",
            "_view_count": null,
            "_view_module_version": "1.5.0",
            "description_tooltip": null,
            "_model_module": "@jupyter-widgets/controls",
            "layout": "IPY_MODEL_187af54a50484580b4e0ad49d78015cf"
          }
        },
        "11b2e94089cd40e9b2d9d2be016a3140": {
          "model_module": "@jupyter-widgets/controls",
          "model_name": "ProgressStyleModel",
          "state": {
            "_view_name": "StyleView",
            "_model_name": "ProgressStyleModel",
            "description_width": "initial",
            "_view_module": "@jupyter-widgets/base",
            "_model_module_version": "1.5.0",
            "_view_count": null,
            "_view_module_version": "1.2.0",
            "bar_color": null,
            "_model_module": "@jupyter-widgets/controls"
          }
        },
        "e37272ed325043a7a9fa85157e68c40b": {
          "model_module": "@jupyter-widgets/base",
          "model_name": "LayoutModel",
          "state": {
            "_view_name": "LayoutView",
            "grid_template_rows": null,
            "right": null,
            "justify_content": null,
            "_view_module": "@jupyter-widgets/base",
            "overflow": null,
            "_model_module_version": "1.2.0",
            "_view_count": null,
            "flex_flow": null,
            "width": null,
            "min_width": null,
            "border": null,
            "align_items": null,
            "bottom": null,
            "_model_module": "@jupyter-widgets/base",
            "top": null,
            "grid_column": null,
            "overflow_y": null,
            "overflow_x": null,
            "grid_auto_flow": null,
            "grid_area": null,
            "grid_template_columns": null,
            "flex": null,
            "_model_name": "LayoutModel",
            "justify_items": null,
            "grid_row": null,
            "max_height": null,
            "align_content": null,
            "visibility": null,
            "align_self": null,
            "height": null,
            "min_height": null,
            "padding": null,
            "grid_auto_rows": null,
            "grid_gap": null,
            "max_width": null,
            "order": null,
            "_view_module_version": "1.2.0",
            "grid_template_areas": null,
            "object_position": null,
            "object_fit": null,
            "grid_auto_columns": null,
            "margin": null,
            "display": null,
            "left": null
          }
        },
        "2d30bd2f834942639e450986338c8a93": {
          "model_module": "@jupyter-widgets/controls",
          "model_name": "DescriptionStyleModel",
          "state": {
            "_view_name": "StyleView",
            "_model_name": "DescriptionStyleModel",
            "description_width": "",
            "_view_module": "@jupyter-widgets/base",
            "_model_module_version": "1.5.0",
            "_view_count": null,
            "_view_module_version": "1.2.0",
            "_model_module": "@jupyter-widgets/controls"
          }
        },
        "187af54a50484580b4e0ad49d78015cf": {
          "model_module": "@jupyter-widgets/base",
          "model_name": "LayoutModel",
          "state": {
            "_view_name": "LayoutView",
            "grid_template_rows": null,
            "right": null,
            "justify_content": null,
            "_view_module": "@jupyter-widgets/base",
            "overflow": null,
            "_model_module_version": "1.2.0",
            "_view_count": null,
            "flex_flow": null,
            "width": null,
            "min_width": null,
            "border": null,
            "align_items": null,
            "bottom": null,
            "_model_module": "@jupyter-widgets/base",
            "top": null,
            "grid_column": null,
            "overflow_y": null,
            "overflow_x": null,
            "grid_auto_flow": null,
            "grid_area": null,
            "grid_template_columns": null,
            "flex": null,
            "_model_name": "LayoutModel",
            "justify_items": null,
            "grid_row": null,
            "max_height": null,
            "align_content": null,
            "visibility": null,
            "align_self": null,
            "height": null,
            "min_height": null,
            "padding": null,
            "grid_auto_rows": null,
            "grid_gap": null,
            "max_width": null,
            "order": null,
            "_view_module_version": "1.2.0",
            "grid_template_areas": null,
            "object_position": null,
            "object_fit": null,
            "grid_auto_columns": null,
            "margin": null,
            "display": null,
            "left": null
          }
        },
        "04768c64400041baaad156e5f775ebd9": {
          "model_module": "@jupyter-widgets/controls",
          "model_name": "HBoxModel",
          "state": {
            "_view_name": "HBoxView",
            "_dom_classes": [],
            "_model_name": "HBoxModel",
            "_view_module": "@jupyter-widgets/controls",
            "_model_module_version": "1.5.0",
            "_view_count": null,
            "_view_module_version": "1.5.0",
            "box_style": "",
            "layout": "IPY_MODEL_c710db6edb5847abad40f33a8f1dbd5e",
            "_model_module": "@jupyter-widgets/controls",
            "children": [
              "IPY_MODEL_50321bcbf99e4c71b036a63e74dd7215",
              "IPY_MODEL_58f24bedca57492dba31b57a153119a9"
            ]
          }
        },
        "c710db6edb5847abad40f33a8f1dbd5e": {
          "model_module": "@jupyter-widgets/base",
          "model_name": "LayoutModel",
          "state": {
            "_view_name": "LayoutView",
            "grid_template_rows": null,
            "right": null,
            "justify_content": null,
            "_view_module": "@jupyter-widgets/base",
            "overflow": null,
            "_model_module_version": "1.2.0",
            "_view_count": null,
            "flex_flow": null,
            "width": null,
            "min_width": null,
            "border": null,
            "align_items": null,
            "bottom": null,
            "_model_module": "@jupyter-widgets/base",
            "top": null,
            "grid_column": null,
            "overflow_y": null,
            "overflow_x": null,
            "grid_auto_flow": null,
            "grid_area": null,
            "grid_template_columns": null,
            "flex": null,
            "_model_name": "LayoutModel",
            "justify_items": null,
            "grid_row": null,
            "max_height": null,
            "align_content": null,
            "visibility": null,
            "align_self": null,
            "height": null,
            "min_height": null,
            "padding": null,
            "grid_auto_rows": null,
            "grid_gap": null,
            "max_width": null,
            "order": null,
            "_view_module_version": "1.2.0",
            "grid_template_areas": null,
            "object_position": null,
            "object_fit": null,
            "grid_auto_columns": null,
            "margin": null,
            "display": null,
            "left": null
          }
        },
        "50321bcbf99e4c71b036a63e74dd7215": {
          "model_module": "@jupyter-widgets/controls",
          "model_name": "FloatProgressModel",
          "state": {
            "_view_name": "ProgressView",
            "style": "IPY_MODEL_27f0b1d1d689417b8a72bd7df2cce62e",
            "_dom_classes": [],
            "description": "Downloading: 100%",
            "_model_name": "FloatProgressModel",
            "bar_style": "success",
            "max": 155,
            "_view_module": "@jupyter-widgets/controls",
            "_model_module_version": "1.5.0",
            "value": 155,
            "_view_count": null,
            "_view_module_version": "1.5.0",
            "orientation": "horizontal",
            "min": 0,
            "description_tooltip": null,
            "_model_module": "@jupyter-widgets/controls",
            "layout": "IPY_MODEL_c99ffa320d314443a53a0a0852d0a59d"
          }
        },
        "58f24bedca57492dba31b57a153119a9": {
          "model_module": "@jupyter-widgets/controls",
          "model_name": "HTMLModel",
          "state": {
            "_view_name": "HTMLView",
            "style": "IPY_MODEL_d06a13ea9365498c96fd1231c047e49f",
            "_dom_classes": [],
            "description": "",
            "_model_name": "HTMLModel",
            "placeholder": "​",
            "_view_module": "@jupyter-widgets/controls",
            "_model_module_version": "1.5.0",
            "value": " 155/155 [00:00&lt;00:00, 829B/s]",
            "_view_count": null,
            "_view_module_version": "1.5.0",
            "description_tooltip": null,
            "_model_module": "@jupyter-widgets/controls",
            "layout": "IPY_MODEL_9581341fe6e54a49a508269ebbc5f908"
          }
        },
        "27f0b1d1d689417b8a72bd7df2cce62e": {
          "model_module": "@jupyter-widgets/controls",
          "model_name": "ProgressStyleModel",
          "state": {
            "_view_name": "StyleView",
            "_model_name": "ProgressStyleModel",
            "description_width": "initial",
            "_view_module": "@jupyter-widgets/base",
            "_model_module_version": "1.5.0",
            "_view_count": null,
            "_view_module_version": "1.2.0",
            "bar_color": null,
            "_model_module": "@jupyter-widgets/controls"
          }
        },
        "c99ffa320d314443a53a0a0852d0a59d": {
          "model_module": "@jupyter-widgets/base",
          "model_name": "LayoutModel",
          "state": {
            "_view_name": "LayoutView",
            "grid_template_rows": null,
            "right": null,
            "justify_content": null,
            "_view_module": "@jupyter-widgets/base",
            "overflow": null,
            "_model_module_version": "1.2.0",
            "_view_count": null,
            "flex_flow": null,
            "width": null,
            "min_width": null,
            "border": null,
            "align_items": null,
            "bottom": null,
            "_model_module": "@jupyter-widgets/base",
            "top": null,
            "grid_column": null,
            "overflow_y": null,
            "overflow_x": null,
            "grid_auto_flow": null,
            "grid_area": null,
            "grid_template_columns": null,
            "flex": null,
            "_model_name": "LayoutModel",
            "justify_items": null,
            "grid_row": null,
            "max_height": null,
            "align_content": null,
            "visibility": null,
            "align_self": null,
            "height": null,
            "min_height": null,
            "padding": null,
            "grid_auto_rows": null,
            "grid_gap": null,
            "max_width": null,
            "order": null,
            "_view_module_version": "1.2.0",
            "grid_template_areas": null,
            "object_position": null,
            "object_fit": null,
            "grid_auto_columns": null,
            "margin": null,
            "display": null,
            "left": null
          }
        },
        "d06a13ea9365498c96fd1231c047e49f": {
          "model_module": "@jupyter-widgets/controls",
          "model_name": "DescriptionStyleModel",
          "state": {
            "_view_name": "StyleView",
            "_model_name": "DescriptionStyleModel",
            "description_width": "",
            "_view_module": "@jupyter-widgets/base",
            "_model_module_version": "1.5.0",
            "_view_count": null,
            "_view_module_version": "1.2.0",
            "_model_module": "@jupyter-widgets/controls"
          }
        },
        "9581341fe6e54a49a508269ebbc5f908": {
          "model_module": "@jupyter-widgets/base",
          "model_name": "LayoutModel",
          "state": {
            "_view_name": "LayoutView",
            "grid_template_rows": null,
            "right": null,
            "justify_content": null,
            "_view_module": "@jupyter-widgets/base",
            "overflow": null,
            "_model_module_version": "1.2.0",
            "_view_count": null,
            "flex_flow": null,
            "width": null,
            "min_width": null,
            "border": null,
            "align_items": null,
            "bottom": null,
            "_model_module": "@jupyter-widgets/base",
            "top": null,
            "grid_column": null,
            "overflow_y": null,
            "overflow_x": null,
            "grid_auto_flow": null,
            "grid_area": null,
            "grid_template_columns": null,
            "flex": null,
            "_model_name": "LayoutModel",
            "justify_items": null,
            "grid_row": null,
            "max_height": null,
            "align_content": null,
            "visibility": null,
            "align_self": null,
            "height": null,
            "min_height": null,
            "padding": null,
            "grid_auto_rows": null,
            "grid_gap": null,
            "max_width": null,
            "order": null,
            "_view_module_version": "1.2.0",
            "grid_template_areas": null,
            "object_position": null,
            "object_fit": null,
            "grid_auto_columns": null,
            "margin": null,
            "display": null,
            "left": null
          }
        },
        "00c4b37c76164ebf9ee02bade437cec0": {
          "model_module": "@jupyter-widgets/controls",
          "model_name": "HBoxModel",
          "state": {
            "_view_name": "HBoxView",
            "_dom_classes": [],
            "_model_name": "HBoxModel",
            "_view_module": "@jupyter-widgets/controls",
            "_model_module_version": "1.5.0",
            "_view_count": null,
            "_view_module_version": "1.5.0",
            "box_style": "",
            "layout": "IPY_MODEL_d5c5af814fb54b76b48beedc650c7544",
            "_model_module": "@jupyter-widgets/controls",
            "children": [
              "IPY_MODEL_8b1274f0d0084585b730c1b729c92e06",
              "IPY_MODEL_4a4933e1427d4510ba360b02c2d99359"
            ]
          }
        },
        "d5c5af814fb54b76b48beedc650c7544": {
          "model_module": "@jupyter-widgets/base",
          "model_name": "LayoutModel",
          "state": {
            "_view_name": "LayoutView",
            "grid_template_rows": null,
            "right": null,
            "justify_content": null,
            "_view_module": "@jupyter-widgets/base",
            "overflow": null,
            "_model_module_version": "1.2.0",
            "_view_count": null,
            "flex_flow": null,
            "width": null,
            "min_width": null,
            "border": null,
            "align_items": null,
            "bottom": null,
            "_model_module": "@jupyter-widgets/base",
            "top": null,
            "grid_column": null,
            "overflow_y": null,
            "overflow_x": null,
            "grid_auto_flow": null,
            "grid_area": null,
            "grid_template_columns": null,
            "flex": null,
            "_model_name": "LayoutModel",
            "justify_items": null,
            "grid_row": null,
            "max_height": null,
            "align_content": null,
            "visibility": null,
            "align_self": null,
            "height": null,
            "min_height": null,
            "padding": null,
            "grid_auto_rows": null,
            "grid_gap": null,
            "max_width": null,
            "order": null,
            "_view_module_version": "1.2.0",
            "grid_template_areas": null,
            "object_position": null,
            "object_fit": null,
            "grid_auto_columns": null,
            "margin": null,
            "display": null,
            "left": null
          }
        },
        "8b1274f0d0084585b730c1b729c92e06": {
          "model_module": "@jupyter-widgets/controls",
          "model_name": "FloatProgressModel",
          "state": {
            "_view_name": "ProgressView",
            "style": "IPY_MODEL_a4ac97c478a44d44beee222124f35fb7",
            "_dom_classes": [],
            "description": "Downloading: 100%",
            "_model_name": "FloatProgressModel",
            "bar_style": "success",
            "max": 213450,
            "_view_module": "@jupyter-widgets/controls",
            "_model_module_version": "1.5.0",
            "value": 213450,
            "_view_count": null,
            "_view_module_version": "1.5.0",
            "orientation": "horizontal",
            "min": 0,
            "description_tooltip": null,
            "_model_module": "@jupyter-widgets/controls",
            "layout": "IPY_MODEL_0ca89630804f4e90b17da7b950d608b3"
          }
        },
        "4a4933e1427d4510ba360b02c2d99359": {
          "model_module": "@jupyter-widgets/controls",
          "model_name": "HTMLModel",
          "state": {
            "_view_name": "HTMLView",
            "style": "IPY_MODEL_c2afbf0f7ae34f66955fa3dcfabd697a",
            "_dom_classes": [],
            "description": "",
            "_model_name": "HTMLModel",
            "placeholder": "​",
            "_view_module": "@jupyter-widgets/controls",
            "_model_module_version": "1.5.0",
            "value": " 213k/213k [00:00&lt;00:00, 265kB/s]",
            "_view_count": null,
            "_view_module_version": "1.5.0",
            "description_tooltip": null,
            "_model_module": "@jupyter-widgets/controls",
            "layout": "IPY_MODEL_bd59bea06a684d428f53133fcd1308c6"
          }
        },
        "a4ac97c478a44d44beee222124f35fb7": {
          "model_module": "@jupyter-widgets/controls",
          "model_name": "ProgressStyleModel",
          "state": {
            "_view_name": "StyleView",
            "_model_name": "ProgressStyleModel",
            "description_width": "initial",
            "_view_module": "@jupyter-widgets/base",
            "_model_module_version": "1.5.0",
            "_view_count": null,
            "_view_module_version": "1.2.0",
            "bar_color": null,
            "_model_module": "@jupyter-widgets/controls"
          }
        },
        "0ca89630804f4e90b17da7b950d608b3": {
          "model_module": "@jupyter-widgets/base",
          "model_name": "LayoutModel",
          "state": {
            "_view_name": "LayoutView",
            "grid_template_rows": null,
            "right": null,
            "justify_content": null,
            "_view_module": "@jupyter-widgets/base",
            "overflow": null,
            "_model_module_version": "1.2.0",
            "_view_count": null,
            "flex_flow": null,
            "width": null,
            "min_width": null,
            "border": null,
            "align_items": null,
            "bottom": null,
            "_model_module": "@jupyter-widgets/base",
            "top": null,
            "grid_column": null,
            "overflow_y": null,
            "overflow_x": null,
            "grid_auto_flow": null,
            "grid_area": null,
            "grid_template_columns": null,
            "flex": null,
            "_model_name": "LayoutModel",
            "justify_items": null,
            "grid_row": null,
            "max_height": null,
            "align_content": null,
            "visibility": null,
            "align_self": null,
            "height": null,
            "min_height": null,
            "padding": null,
            "grid_auto_rows": null,
            "grid_gap": null,
            "max_width": null,
            "order": null,
            "_view_module_version": "1.2.0",
            "grid_template_areas": null,
            "object_position": null,
            "object_fit": null,
            "grid_auto_columns": null,
            "margin": null,
            "display": null,
            "left": null
          }
        },
        "c2afbf0f7ae34f66955fa3dcfabd697a": {
          "model_module": "@jupyter-widgets/controls",
          "model_name": "DescriptionStyleModel",
          "state": {
            "_view_name": "StyleView",
            "_model_name": "DescriptionStyleModel",
            "description_width": "",
            "_view_module": "@jupyter-widgets/base",
            "_model_module_version": "1.5.0",
            "_view_count": null,
            "_view_module_version": "1.2.0",
            "_model_module": "@jupyter-widgets/controls"
          }
        },
        "bd59bea06a684d428f53133fcd1308c6": {
          "model_module": "@jupyter-widgets/base",
          "model_name": "LayoutModel",
          "state": {
            "_view_name": "LayoutView",
            "grid_template_rows": null,
            "right": null,
            "justify_content": null,
            "_view_module": "@jupyter-widgets/base",
            "overflow": null,
            "_model_module_version": "1.2.0",
            "_view_count": null,
            "flex_flow": null,
            "width": null,
            "min_width": null,
            "border": null,
            "align_items": null,
            "bottom": null,
            "_model_module": "@jupyter-widgets/base",
            "top": null,
            "grid_column": null,
            "overflow_y": null,
            "overflow_x": null,
            "grid_auto_flow": null,
            "grid_area": null,
            "grid_template_columns": null,
            "flex": null,
            "_model_name": "LayoutModel",
            "justify_items": null,
            "grid_row": null,
            "max_height": null,
            "align_content": null,
            "visibility": null,
            "align_self": null,
            "height": null,
            "min_height": null,
            "padding": null,
            "grid_auto_rows": null,
            "grid_gap": null,
            "max_width": null,
            "order": null,
            "_view_module_version": "1.2.0",
            "grid_template_areas": null,
            "object_position": null,
            "object_fit": null,
            "grid_auto_columns": null,
            "margin": null,
            "display": null,
            "left": null
          }
        },
        "9324213409a346a9b3c80b064d9d0e42": {
          "model_module": "@jupyter-widgets/controls",
          "model_name": "HBoxModel",
          "state": {
            "_view_name": "HBoxView",
            "_dom_classes": [],
            "_model_name": "HBoxModel",
            "_view_module": "@jupyter-widgets/controls",
            "_model_module_version": "1.5.0",
            "_view_count": null,
            "_view_module_version": "1.5.0",
            "box_style": "",
            "layout": "IPY_MODEL_3b8cbe98f87542d49d70039a338197b2",
            "_model_module": "@jupyter-widgets/controls",
            "children": [
              "IPY_MODEL_19d85c9a31ad455f8afb88394448bc6f",
              "IPY_MODEL_192f8332c32b40e48e52266e8e26ee05"
            ]
          }
        },
        "3b8cbe98f87542d49d70039a338197b2": {
          "model_module": "@jupyter-widgets/base",
          "model_name": "LayoutModel",
          "state": {
            "_view_name": "LayoutView",
            "grid_template_rows": null,
            "right": null,
            "justify_content": null,
            "_view_module": "@jupyter-widgets/base",
            "overflow": null,
            "_model_module_version": "1.2.0",
            "_view_count": null,
            "flex_flow": null,
            "width": null,
            "min_width": null,
            "border": null,
            "align_items": null,
            "bottom": null,
            "_model_module": "@jupyter-widgets/base",
            "top": null,
            "grid_column": null,
            "overflow_y": null,
            "overflow_x": null,
            "grid_auto_flow": null,
            "grid_area": null,
            "grid_template_columns": null,
            "flex": null,
            "_model_name": "LayoutModel",
            "justify_items": null,
            "grid_row": null,
            "max_height": null,
            "align_content": null,
            "visibility": null,
            "align_self": null,
            "height": null,
            "min_height": null,
            "padding": null,
            "grid_auto_rows": null,
            "grid_gap": null,
            "max_width": null,
            "order": null,
            "_view_module_version": "1.2.0",
            "grid_template_areas": null,
            "object_position": null,
            "object_fit": null,
            "grid_auto_columns": null,
            "margin": null,
            "display": null,
            "left": null
          }
        },
        "19d85c9a31ad455f8afb88394448bc6f": {
          "model_module": "@jupyter-widgets/controls",
          "model_name": "FloatProgressModel",
          "state": {
            "_view_name": "ProgressView",
            "style": "IPY_MODEL_401f9e14407c4566bd052acb18abef3a",
            "_dom_classes": [],
            "description": "Downloading: 100%",
            "_model_name": "FloatProgressModel",
            "bar_style": "success",
            "max": 29,
            "_view_module": "@jupyter-widgets/controls",
            "_model_module_version": "1.5.0",
            "value": 29,
            "_view_count": null,
            "_view_module_version": "1.5.0",
            "orientation": "horizontal",
            "min": 0,
            "description_tooltip": null,
            "_model_module": "@jupyter-widgets/controls",
            "layout": "IPY_MODEL_2e701a5fd86243638c0276f496dbc2d0"
          }
        },
        "192f8332c32b40e48e52266e8e26ee05": {
          "model_module": "@jupyter-widgets/controls",
          "model_name": "HTMLModel",
          "state": {
            "_view_name": "HTMLView",
            "style": "IPY_MODEL_01f0421a9baf4444aee81a972a180e55",
            "_dom_classes": [],
            "description": "",
            "_model_name": "HTMLModel",
            "placeholder": "​",
            "_view_module": "@jupyter-widgets/controls",
            "_model_module_version": "1.5.0",
            "value": " 29.0/29.0 [00:00&lt;00:00, 111B/s]",
            "_view_count": null,
            "_view_module_version": "1.5.0",
            "description_tooltip": null,
            "_model_module": "@jupyter-widgets/controls",
            "layout": "IPY_MODEL_7091017e67f242f3966ef296cb09b09b"
          }
        },
        "401f9e14407c4566bd052acb18abef3a": {
          "model_module": "@jupyter-widgets/controls",
          "model_name": "ProgressStyleModel",
          "state": {
            "_view_name": "StyleView",
            "_model_name": "ProgressStyleModel",
            "description_width": "initial",
            "_view_module": "@jupyter-widgets/base",
            "_model_module_version": "1.5.0",
            "_view_count": null,
            "_view_module_version": "1.2.0",
            "bar_color": null,
            "_model_module": "@jupyter-widgets/controls"
          }
        },
        "2e701a5fd86243638c0276f496dbc2d0": {
          "model_module": "@jupyter-widgets/base",
          "model_name": "LayoutModel",
          "state": {
            "_view_name": "LayoutView",
            "grid_template_rows": null,
            "right": null,
            "justify_content": null,
            "_view_module": "@jupyter-widgets/base",
            "overflow": null,
            "_model_module_version": "1.2.0",
            "_view_count": null,
            "flex_flow": null,
            "width": null,
            "min_width": null,
            "border": null,
            "align_items": null,
            "bottom": null,
            "_model_module": "@jupyter-widgets/base",
            "top": null,
            "grid_column": null,
            "overflow_y": null,
            "overflow_x": null,
            "grid_auto_flow": null,
            "grid_area": null,
            "grid_template_columns": null,
            "flex": null,
            "_model_name": "LayoutModel",
            "justify_items": null,
            "grid_row": null,
            "max_height": null,
            "align_content": null,
            "visibility": null,
            "align_self": null,
            "height": null,
            "min_height": null,
            "padding": null,
            "grid_auto_rows": null,
            "grid_gap": null,
            "max_width": null,
            "order": null,
            "_view_module_version": "1.2.0",
            "grid_template_areas": null,
            "object_position": null,
            "object_fit": null,
            "grid_auto_columns": null,
            "margin": null,
            "display": null,
            "left": null
          }
        },
        "01f0421a9baf4444aee81a972a180e55": {
          "model_module": "@jupyter-widgets/controls",
          "model_name": "DescriptionStyleModel",
          "state": {
            "_view_name": "StyleView",
            "_model_name": "DescriptionStyleModel",
            "description_width": "",
            "_view_module": "@jupyter-widgets/base",
            "_model_module_version": "1.5.0",
            "_view_count": null,
            "_view_module_version": "1.2.0",
            "_model_module": "@jupyter-widgets/controls"
          }
        },
        "7091017e67f242f3966ef296cb09b09b": {
          "model_module": "@jupyter-widgets/base",
          "model_name": "LayoutModel",
          "state": {
            "_view_name": "LayoutView",
            "grid_template_rows": null,
            "right": null,
            "justify_content": null,
            "_view_module": "@jupyter-widgets/base",
            "overflow": null,
            "_model_module_version": "1.2.0",
            "_view_count": null,
            "flex_flow": null,
            "width": null,
            "min_width": null,
            "border": null,
            "align_items": null,
            "bottom": null,
            "_model_module": "@jupyter-widgets/base",
            "top": null,
            "grid_column": null,
            "overflow_y": null,
            "overflow_x": null,
            "grid_auto_flow": null,
            "grid_area": null,
            "grid_template_columns": null,
            "flex": null,
            "_model_name": "LayoutModel",
            "justify_items": null,
            "grid_row": null,
            "max_height": null,
            "align_content": null,
            "visibility": null,
            "align_self": null,
            "height": null,
            "min_height": null,
            "padding": null,
            "grid_auto_rows": null,
            "grid_gap": null,
            "max_width": null,
            "order": null,
            "_view_module_version": "1.2.0",
            "grid_template_areas": null,
            "object_position": null,
            "object_fit": null,
            "grid_auto_columns": null,
            "margin": null,
            "display": null,
            "left": null
          }
        },
        "d4d37b0369af4c83aea128d7fc99bd62": {
          "model_module": "@jupyter-widgets/controls",
          "model_name": "HBoxModel",
          "state": {
            "_view_name": "HBoxView",
            "_dom_classes": [],
            "_model_name": "HBoxModel",
            "_view_module": "@jupyter-widgets/controls",
            "_model_module_version": "1.5.0",
            "_view_count": null,
            "_view_module_version": "1.5.0",
            "box_style": "",
            "layout": "IPY_MODEL_669d2a03738a4db3bdf6ad1a9f208a55",
            "_model_module": "@jupyter-widgets/controls",
            "children": [
              "IPY_MODEL_d1ee39e5a0444e2e8a973170de9302c3",
              "IPY_MODEL_19c9e492aa524d7fb62a95996ea7a7b4"
            ]
          }
        },
        "669d2a03738a4db3bdf6ad1a9f208a55": {
          "model_module": "@jupyter-widgets/base",
          "model_name": "LayoutModel",
          "state": {
            "_view_name": "LayoutView",
            "grid_template_rows": null,
            "right": null,
            "justify_content": null,
            "_view_module": "@jupyter-widgets/base",
            "overflow": null,
            "_model_module_version": "1.2.0",
            "_view_count": null,
            "flex_flow": null,
            "width": null,
            "min_width": null,
            "border": null,
            "align_items": null,
            "bottom": null,
            "_model_module": "@jupyter-widgets/base",
            "top": null,
            "grid_column": null,
            "overflow_y": null,
            "overflow_x": null,
            "grid_auto_flow": null,
            "grid_area": null,
            "grid_template_columns": null,
            "flex": null,
            "_model_name": "LayoutModel",
            "justify_items": null,
            "grid_row": null,
            "max_height": null,
            "align_content": null,
            "visibility": null,
            "align_self": null,
            "height": null,
            "min_height": null,
            "padding": null,
            "grid_auto_rows": null,
            "grid_gap": null,
            "max_width": null,
            "order": null,
            "_view_module_version": "1.2.0",
            "grid_template_areas": null,
            "object_position": null,
            "object_fit": null,
            "grid_auto_columns": null,
            "margin": null,
            "display": null,
            "left": null
          }
        },
        "d1ee39e5a0444e2e8a973170de9302c3": {
          "model_module": "@jupyter-widgets/controls",
          "model_name": "FloatProgressModel",
          "state": {
            "_view_name": "ProgressView",
            "style": "IPY_MODEL_77c5a7386b6d4acea5270e40d40c187c",
            "_dom_classes": [],
            "description": "Downloading: 100%",
            "_model_name": "FloatProgressModel",
            "bar_style": "success",
            "max": 435797,
            "_view_module": "@jupyter-widgets/controls",
            "_model_module_version": "1.5.0",
            "value": 435797,
            "_view_count": null,
            "_view_module_version": "1.5.0",
            "orientation": "horizontal",
            "min": 0,
            "description_tooltip": null,
            "_model_module": "@jupyter-widgets/controls",
            "layout": "IPY_MODEL_89e2172a92a645939bd39b6d53480da3"
          }
        },
        "19c9e492aa524d7fb62a95996ea7a7b4": {
          "model_module": "@jupyter-widgets/controls",
          "model_name": "HTMLModel",
          "state": {
            "_view_name": "HTMLView",
            "style": "IPY_MODEL_390a40c1f35143889730571fec40776e",
            "_dom_classes": [],
            "description": "",
            "_model_name": "HTMLModel",
            "placeholder": "​",
            "_view_module": "@jupyter-widgets/controls",
            "_model_module_version": "1.5.0",
            "value": " 436k/436k [00:00&lt;00:00, 2.07MB/s]",
            "_view_count": null,
            "_view_module_version": "1.5.0",
            "description_tooltip": null,
            "_model_module": "@jupyter-widgets/controls",
            "layout": "IPY_MODEL_85c7b4adeb7045c28cad3ebf537ea757"
          }
        },
        "77c5a7386b6d4acea5270e40d40c187c": {
          "model_module": "@jupyter-widgets/controls",
          "model_name": "ProgressStyleModel",
          "state": {
            "_view_name": "StyleView",
            "_model_name": "ProgressStyleModel",
            "description_width": "initial",
            "_view_module": "@jupyter-widgets/base",
            "_model_module_version": "1.5.0",
            "_view_count": null,
            "_view_module_version": "1.2.0",
            "bar_color": null,
            "_model_module": "@jupyter-widgets/controls"
          }
        },
        "89e2172a92a645939bd39b6d53480da3": {
          "model_module": "@jupyter-widgets/base",
          "model_name": "LayoutModel",
          "state": {
            "_view_name": "LayoutView",
            "grid_template_rows": null,
            "right": null,
            "justify_content": null,
            "_view_module": "@jupyter-widgets/base",
            "overflow": null,
            "_model_module_version": "1.2.0",
            "_view_count": null,
            "flex_flow": null,
            "width": null,
            "min_width": null,
            "border": null,
            "align_items": null,
            "bottom": null,
            "_model_module": "@jupyter-widgets/base",
            "top": null,
            "grid_column": null,
            "overflow_y": null,
            "overflow_x": null,
            "grid_auto_flow": null,
            "grid_area": null,
            "grid_template_columns": null,
            "flex": null,
            "_model_name": "LayoutModel",
            "justify_items": null,
            "grid_row": null,
            "max_height": null,
            "align_content": null,
            "visibility": null,
            "align_self": null,
            "height": null,
            "min_height": null,
            "padding": null,
            "grid_auto_rows": null,
            "grid_gap": null,
            "max_width": null,
            "order": null,
            "_view_module_version": "1.2.0",
            "grid_template_areas": null,
            "object_position": null,
            "object_fit": null,
            "grid_auto_columns": null,
            "margin": null,
            "display": null,
            "left": null
          }
        },
        "390a40c1f35143889730571fec40776e": {
          "model_module": "@jupyter-widgets/controls",
          "model_name": "DescriptionStyleModel",
          "state": {
            "_view_name": "StyleView",
            "_model_name": "DescriptionStyleModel",
            "description_width": "",
            "_view_module": "@jupyter-widgets/base",
            "_model_module_version": "1.5.0",
            "_view_count": null,
            "_view_module_version": "1.2.0",
            "_model_module": "@jupyter-widgets/controls"
          }
        },
        "85c7b4adeb7045c28cad3ebf537ea757": {
          "model_module": "@jupyter-widgets/base",
          "model_name": "LayoutModel",
          "state": {
            "_view_name": "LayoutView",
            "grid_template_rows": null,
            "right": null,
            "justify_content": null,
            "_view_module": "@jupyter-widgets/base",
            "overflow": null,
            "_model_module_version": "1.2.0",
            "_view_count": null,
            "flex_flow": null,
            "width": null,
            "min_width": null,
            "border": null,
            "align_items": null,
            "bottom": null,
            "_model_module": "@jupyter-widgets/base",
            "top": null,
            "grid_column": null,
            "overflow_y": null,
            "overflow_x": null,
            "grid_auto_flow": null,
            "grid_area": null,
            "grid_template_columns": null,
            "flex": null,
            "_model_name": "LayoutModel",
            "justify_items": null,
            "grid_row": null,
            "max_height": null,
            "align_content": null,
            "visibility": null,
            "align_self": null,
            "height": null,
            "min_height": null,
            "padding": null,
            "grid_auto_rows": null,
            "grid_gap": null,
            "max_width": null,
            "order": null,
            "_view_module_version": "1.2.0",
            "grid_template_areas": null,
            "object_position": null,
            "object_fit": null,
            "grid_auto_columns": null,
            "margin": null,
            "display": null,
            "left": null
          }
        },
        "8cdde4d659ae4193847689d6f2e04468": {
          "model_module": "@jupyter-widgets/controls",
          "model_name": "HBoxModel",
          "state": {
            "_view_name": "HBoxView",
            "_dom_classes": [],
            "_model_name": "HBoxModel",
            "_view_module": "@jupyter-widgets/controls",
            "_model_module_version": "1.5.0",
            "_view_count": null,
            "_view_module_version": "1.5.0",
            "box_style": "",
            "layout": "IPY_MODEL_24beb0b195a9469e983d61ef0e881d37",
            "_model_module": "@jupyter-widgets/controls",
            "children": [
              "IPY_MODEL_f4af91e46aa94e6ba9c43bc578ff7d4d",
              "IPY_MODEL_1b5599aad24447e9a83101efe93babda"
            ]
          }
        },
        "24beb0b195a9469e983d61ef0e881d37": {
          "model_module": "@jupyter-widgets/base",
          "model_name": "LayoutModel",
          "state": {
            "_view_name": "LayoutView",
            "grid_template_rows": null,
            "right": null,
            "justify_content": null,
            "_view_module": "@jupyter-widgets/base",
            "overflow": null,
            "_model_module_version": "1.2.0",
            "_view_count": null,
            "flex_flow": null,
            "width": null,
            "min_width": null,
            "border": null,
            "align_items": null,
            "bottom": null,
            "_model_module": "@jupyter-widgets/base",
            "top": null,
            "grid_column": null,
            "overflow_y": null,
            "overflow_x": null,
            "grid_auto_flow": null,
            "grid_area": null,
            "grid_template_columns": null,
            "flex": null,
            "_model_name": "LayoutModel",
            "justify_items": null,
            "grid_row": null,
            "max_height": null,
            "align_content": null,
            "visibility": null,
            "align_self": null,
            "height": null,
            "min_height": null,
            "padding": null,
            "grid_auto_rows": null,
            "grid_gap": null,
            "max_width": null,
            "order": null,
            "_view_module_version": "1.2.0",
            "grid_template_areas": null,
            "object_position": null,
            "object_fit": null,
            "grid_auto_columns": null,
            "margin": null,
            "display": null,
            "left": null
          }
        },
        "f4af91e46aa94e6ba9c43bc578ff7d4d": {
          "model_module": "@jupyter-widgets/controls",
          "model_name": "FloatProgressModel",
          "state": {
            "_view_name": "ProgressView",
            "style": "IPY_MODEL_c2fb023150aa4819bbb5cb047b3e847a",
            "_dom_classes": [],
            "description": "Downloading: 100%",
            "_model_name": "FloatProgressModel",
            "bar_style": "success",
            "max": 213450,
            "_view_module": "@jupyter-widgets/controls",
            "_model_module_version": "1.5.0",
            "value": 213450,
            "_view_count": null,
            "_view_module_version": "1.5.0",
            "orientation": "horizontal",
            "min": 0,
            "description_tooltip": null,
            "_model_module": "@jupyter-widgets/controls",
            "layout": "IPY_MODEL_effa82d7fed8434aade89b96b49fe3e2"
          }
        },
        "1b5599aad24447e9a83101efe93babda": {
          "model_module": "@jupyter-widgets/controls",
          "model_name": "HTMLModel",
          "state": {
            "_view_name": "HTMLView",
            "style": "IPY_MODEL_6971e1aa29f34145825c1009d800a71b",
            "_dom_classes": [],
            "description": "",
            "_model_name": "HTMLModel",
            "placeholder": "​",
            "_view_module": "@jupyter-widgets/controls",
            "_model_module_version": "1.5.0",
            "value": " 213k/213k [00:00&lt;00:00, 352kB/s]",
            "_view_count": null,
            "_view_module_version": "1.5.0",
            "description_tooltip": null,
            "_model_module": "@jupyter-widgets/controls",
            "layout": "IPY_MODEL_06ccf4d0118540af9f42f0711a3863b9"
          }
        },
        "c2fb023150aa4819bbb5cb047b3e847a": {
          "model_module": "@jupyter-widgets/controls",
          "model_name": "ProgressStyleModel",
          "state": {
            "_view_name": "StyleView",
            "_model_name": "ProgressStyleModel",
            "description_width": "initial",
            "_view_module": "@jupyter-widgets/base",
            "_model_module_version": "1.5.0",
            "_view_count": null,
            "_view_module_version": "1.2.0",
            "bar_color": null,
            "_model_module": "@jupyter-widgets/controls"
          }
        },
        "effa82d7fed8434aade89b96b49fe3e2": {
          "model_module": "@jupyter-widgets/base",
          "model_name": "LayoutModel",
          "state": {
            "_view_name": "LayoutView",
            "grid_template_rows": null,
            "right": null,
            "justify_content": null,
            "_view_module": "@jupyter-widgets/base",
            "overflow": null,
            "_model_module_version": "1.2.0",
            "_view_count": null,
            "flex_flow": null,
            "width": null,
            "min_width": null,
            "border": null,
            "align_items": null,
            "bottom": null,
            "_model_module": "@jupyter-widgets/base",
            "top": null,
            "grid_column": null,
            "overflow_y": null,
            "overflow_x": null,
            "grid_auto_flow": null,
            "grid_area": null,
            "grid_template_columns": null,
            "flex": null,
            "_model_name": "LayoutModel",
            "justify_items": null,
            "grid_row": null,
            "max_height": null,
            "align_content": null,
            "visibility": null,
            "align_self": null,
            "height": null,
            "min_height": null,
            "padding": null,
            "grid_auto_rows": null,
            "grid_gap": null,
            "max_width": null,
            "order": null,
            "_view_module_version": "1.2.0",
            "grid_template_areas": null,
            "object_position": null,
            "object_fit": null,
            "grid_auto_columns": null,
            "margin": null,
            "display": null,
            "left": null
          }
        },
        "6971e1aa29f34145825c1009d800a71b": {
          "model_module": "@jupyter-widgets/controls",
          "model_name": "DescriptionStyleModel",
          "state": {
            "_view_name": "StyleView",
            "_model_name": "DescriptionStyleModel",
            "description_width": "",
            "_view_module": "@jupyter-widgets/base",
            "_model_module_version": "1.5.0",
            "_view_count": null,
            "_view_module_version": "1.2.0",
            "_model_module": "@jupyter-widgets/controls"
          }
        },
        "06ccf4d0118540af9f42f0711a3863b9": {
          "model_module": "@jupyter-widgets/base",
          "model_name": "LayoutModel",
          "state": {
            "_view_name": "LayoutView",
            "grid_template_rows": null,
            "right": null,
            "justify_content": null,
            "_view_module": "@jupyter-widgets/base",
            "overflow": null,
            "_model_module_version": "1.2.0",
            "_view_count": null,
            "flex_flow": null,
            "width": null,
            "min_width": null,
            "border": null,
            "align_items": null,
            "bottom": null,
            "_model_module": "@jupyter-widgets/base",
            "top": null,
            "grid_column": null,
            "overflow_y": null,
            "overflow_x": null,
            "grid_auto_flow": null,
            "grid_area": null,
            "grid_template_columns": null,
            "flex": null,
            "_model_name": "LayoutModel",
            "justify_items": null,
            "grid_row": null,
            "max_height": null,
            "align_content": null,
            "visibility": null,
            "align_self": null,
            "height": null,
            "min_height": null,
            "padding": null,
            "grid_auto_rows": null,
            "grid_gap": null,
            "max_width": null,
            "order": null,
            "_view_module_version": "1.2.0",
            "grid_template_areas": null,
            "object_position": null,
            "object_fit": null,
            "grid_auto_columns": null,
            "margin": null,
            "display": null,
            "left": null
          }
        },
        "ef3b300630294f99aca894d0b9a9683b": {
          "model_module": "@jupyter-widgets/controls",
          "model_name": "HBoxModel",
          "state": {
            "_view_name": "HBoxView",
            "_dom_classes": [],
            "_model_name": "HBoxModel",
            "_view_module": "@jupyter-widgets/controls",
            "_model_module_version": "1.5.0",
            "_view_count": null,
            "_view_module_version": "1.5.0",
            "box_style": "",
            "layout": "IPY_MODEL_99b42396020d4c1999219c7f90d773d6",
            "_model_module": "@jupyter-widgets/controls",
            "children": [
              "IPY_MODEL_c2d3126d95ef45af8b094a99af800884",
              "IPY_MODEL_03282bae184e42748c2565fbc92b8ce4"
            ]
          }
        },
        "99b42396020d4c1999219c7f90d773d6": {
          "model_module": "@jupyter-widgets/base",
          "model_name": "LayoutModel",
          "state": {
            "_view_name": "LayoutView",
            "grid_template_rows": null,
            "right": null,
            "justify_content": null,
            "_view_module": "@jupyter-widgets/base",
            "overflow": null,
            "_model_module_version": "1.2.0",
            "_view_count": null,
            "flex_flow": null,
            "width": null,
            "min_width": null,
            "border": null,
            "align_items": null,
            "bottom": null,
            "_model_module": "@jupyter-widgets/base",
            "top": null,
            "grid_column": null,
            "overflow_y": null,
            "overflow_x": null,
            "grid_auto_flow": null,
            "grid_area": null,
            "grid_template_columns": null,
            "flex": null,
            "_model_name": "LayoutModel",
            "justify_items": null,
            "grid_row": null,
            "max_height": null,
            "align_content": null,
            "visibility": null,
            "align_self": null,
            "height": null,
            "min_height": null,
            "padding": null,
            "grid_auto_rows": null,
            "grid_gap": null,
            "max_width": null,
            "order": null,
            "_view_module_version": "1.2.0",
            "grid_template_areas": null,
            "object_position": null,
            "object_fit": null,
            "grid_auto_columns": null,
            "margin": null,
            "display": null,
            "left": null
          }
        },
        "c2d3126d95ef45af8b094a99af800884": {
          "model_module": "@jupyter-widgets/controls",
          "model_name": "FloatProgressModel",
          "state": {
            "_view_name": "ProgressView",
            "style": "IPY_MODEL_b121a5db21674f269cd2df24e767d4a2",
            "_dom_classes": [],
            "description": "Downloading: 100%",
            "_model_name": "FloatProgressModel",
            "bar_style": "success",
            "max": 29,
            "_view_module": "@jupyter-widgets/controls",
            "_model_module_version": "1.5.0",
            "value": 29,
            "_view_count": null,
            "_view_module_version": "1.5.0",
            "orientation": "horizontal",
            "min": 0,
            "description_tooltip": null,
            "_model_module": "@jupyter-widgets/controls",
            "layout": "IPY_MODEL_0aef1c0113424dfb996a0db1b4a109ca"
          }
        },
        "03282bae184e42748c2565fbc92b8ce4": {
          "model_module": "@jupyter-widgets/controls",
          "model_name": "HTMLModel",
          "state": {
            "_view_name": "HTMLView",
            "style": "IPY_MODEL_be3db2e879814423abec04f224a2a9f2",
            "_dom_classes": [],
            "description": "",
            "_model_name": "HTMLModel",
            "placeholder": "​",
            "_view_module": "@jupyter-widgets/controls",
            "_model_module_version": "1.5.0",
            "value": " 29.0/29.0 [00:00&lt;00:00, 60.7B/s]",
            "_view_count": null,
            "_view_module_version": "1.5.0",
            "description_tooltip": null,
            "_model_module": "@jupyter-widgets/controls",
            "layout": "IPY_MODEL_6fcf41c02a614ae586399f6e70de75d5"
          }
        },
        "b121a5db21674f269cd2df24e767d4a2": {
          "model_module": "@jupyter-widgets/controls",
          "model_name": "ProgressStyleModel",
          "state": {
            "_view_name": "StyleView",
            "_model_name": "ProgressStyleModel",
            "description_width": "initial",
            "_view_module": "@jupyter-widgets/base",
            "_model_module_version": "1.5.0",
            "_view_count": null,
            "_view_module_version": "1.2.0",
            "bar_color": null,
            "_model_module": "@jupyter-widgets/controls"
          }
        },
        "0aef1c0113424dfb996a0db1b4a109ca": {
          "model_module": "@jupyter-widgets/base",
          "model_name": "LayoutModel",
          "state": {
            "_view_name": "LayoutView",
            "grid_template_rows": null,
            "right": null,
            "justify_content": null,
            "_view_module": "@jupyter-widgets/base",
            "overflow": null,
            "_model_module_version": "1.2.0",
            "_view_count": null,
            "flex_flow": null,
            "width": null,
            "min_width": null,
            "border": null,
            "align_items": null,
            "bottom": null,
            "_model_module": "@jupyter-widgets/base",
            "top": null,
            "grid_column": null,
            "overflow_y": null,
            "overflow_x": null,
            "grid_auto_flow": null,
            "grid_area": null,
            "grid_template_columns": null,
            "flex": null,
            "_model_name": "LayoutModel",
            "justify_items": null,
            "grid_row": null,
            "max_height": null,
            "align_content": null,
            "visibility": null,
            "align_self": null,
            "height": null,
            "min_height": null,
            "padding": null,
            "grid_auto_rows": null,
            "grid_gap": null,
            "max_width": null,
            "order": null,
            "_view_module_version": "1.2.0",
            "grid_template_areas": null,
            "object_position": null,
            "object_fit": null,
            "grid_auto_columns": null,
            "margin": null,
            "display": null,
            "left": null
          }
        },
        "be3db2e879814423abec04f224a2a9f2": {
          "model_module": "@jupyter-widgets/controls",
          "model_name": "DescriptionStyleModel",
          "state": {
            "_view_name": "StyleView",
            "_model_name": "DescriptionStyleModel",
            "description_width": "",
            "_view_module": "@jupyter-widgets/base",
            "_model_module_version": "1.5.0",
            "_view_count": null,
            "_view_module_version": "1.2.0",
            "_model_module": "@jupyter-widgets/controls"
          }
        },
        "6fcf41c02a614ae586399f6e70de75d5": {
          "model_module": "@jupyter-widgets/base",
          "model_name": "LayoutModel",
          "state": {
            "_view_name": "LayoutView",
            "grid_template_rows": null,
            "right": null,
            "justify_content": null,
            "_view_module": "@jupyter-widgets/base",
            "overflow": null,
            "_model_module_version": "1.2.0",
            "_view_count": null,
            "flex_flow": null,
            "width": null,
            "min_width": null,
            "border": null,
            "align_items": null,
            "bottom": null,
            "_model_module": "@jupyter-widgets/base",
            "top": null,
            "grid_column": null,
            "overflow_y": null,
            "overflow_x": null,
            "grid_auto_flow": null,
            "grid_area": null,
            "grid_template_columns": null,
            "flex": null,
            "_model_name": "LayoutModel",
            "justify_items": null,
            "grid_row": null,
            "max_height": null,
            "align_content": null,
            "visibility": null,
            "align_self": null,
            "height": null,
            "min_height": null,
            "padding": null,
            "grid_auto_rows": null,
            "grid_gap": null,
            "max_width": null,
            "order": null,
            "_view_module_version": "1.2.0",
            "grid_template_areas": null,
            "object_position": null,
            "object_fit": null,
            "grid_auto_columns": null,
            "margin": null,
            "display": null,
            "left": null
          }
        },
        "14b294522dba402f9c49d582145c64b5": {
          "model_module": "@jupyter-widgets/controls",
          "model_name": "HBoxModel",
          "state": {
            "_view_name": "HBoxView",
            "_dom_classes": [],
            "_model_name": "HBoxModel",
            "_view_module": "@jupyter-widgets/controls",
            "_model_module_version": "1.5.0",
            "_view_count": null,
            "_view_module_version": "1.5.0",
            "box_style": "",
            "layout": "IPY_MODEL_f2a3fa10d2294ff8814f4023b20f44ce",
            "_model_module": "@jupyter-widgets/controls",
            "children": [
              "IPY_MODEL_bb026d6057614e10b1631b6bbd174e5f",
              "IPY_MODEL_20a658155aad49b28765f726c5e7fc01"
            ]
          }
        },
        "f2a3fa10d2294ff8814f4023b20f44ce": {
          "model_module": "@jupyter-widgets/base",
          "model_name": "LayoutModel",
          "state": {
            "_view_name": "LayoutView",
            "grid_template_rows": null,
            "right": null,
            "justify_content": null,
            "_view_module": "@jupyter-widgets/base",
            "overflow": null,
            "_model_module_version": "1.2.0",
            "_view_count": null,
            "flex_flow": null,
            "width": null,
            "min_width": null,
            "border": null,
            "align_items": null,
            "bottom": null,
            "_model_module": "@jupyter-widgets/base",
            "top": null,
            "grid_column": null,
            "overflow_y": null,
            "overflow_x": null,
            "grid_auto_flow": null,
            "grid_area": null,
            "grid_template_columns": null,
            "flex": null,
            "_model_name": "LayoutModel",
            "justify_items": null,
            "grid_row": null,
            "max_height": null,
            "align_content": null,
            "visibility": null,
            "align_self": null,
            "height": null,
            "min_height": null,
            "padding": null,
            "grid_auto_rows": null,
            "grid_gap": null,
            "max_width": null,
            "order": null,
            "_view_module_version": "1.2.0",
            "grid_template_areas": null,
            "object_position": null,
            "object_fit": null,
            "grid_auto_columns": null,
            "margin": null,
            "display": null,
            "left": null
          }
        },
        "bb026d6057614e10b1631b6bbd174e5f": {
          "model_module": "@jupyter-widgets/controls",
          "model_name": "FloatProgressModel",
          "state": {
            "_view_name": "ProgressView",
            "style": "IPY_MODEL_3f9a4b2a45d247f69975e4d94eddfc45",
            "_dom_classes": [],
            "description": "Downloading: 100%",
            "_model_name": "FloatProgressModel",
            "bar_style": "success",
            "max": 435797,
            "_view_module": "@jupyter-widgets/controls",
            "_model_module_version": "1.5.0",
            "value": 435797,
            "_view_count": null,
            "_view_module_version": "1.5.0",
            "orientation": "horizontal",
            "min": 0,
            "description_tooltip": null,
            "_model_module": "@jupyter-widgets/controls",
            "layout": "IPY_MODEL_9ad8566994e14da7a876f0a740dfd14a"
          }
        },
        "20a658155aad49b28765f726c5e7fc01": {
          "model_module": "@jupyter-widgets/controls",
          "model_name": "HTMLModel",
          "state": {
            "_view_name": "HTMLView",
            "style": "IPY_MODEL_67dde9d6f8e044fea1569e84d2912b8f",
            "_dom_classes": [],
            "description": "",
            "_model_name": "HTMLModel",
            "placeholder": "​",
            "_view_module": "@jupyter-widgets/controls",
            "_model_module_version": "1.5.0",
            "value": " 436k/436k [00:00&lt;00:00, 2.10MB/s]",
            "_view_count": null,
            "_view_module_version": "1.5.0",
            "description_tooltip": null,
            "_model_module": "@jupyter-widgets/controls",
            "layout": "IPY_MODEL_ba4d8bbe873543e09877f3f51d92539f"
          }
        },
        "3f9a4b2a45d247f69975e4d94eddfc45": {
          "model_module": "@jupyter-widgets/controls",
          "model_name": "ProgressStyleModel",
          "state": {
            "_view_name": "StyleView",
            "_model_name": "ProgressStyleModel",
            "description_width": "initial",
            "_view_module": "@jupyter-widgets/base",
            "_model_module_version": "1.5.0",
            "_view_count": null,
            "_view_module_version": "1.2.0",
            "bar_color": null,
            "_model_module": "@jupyter-widgets/controls"
          }
        },
        "9ad8566994e14da7a876f0a740dfd14a": {
          "model_module": "@jupyter-widgets/base",
          "model_name": "LayoutModel",
          "state": {
            "_view_name": "LayoutView",
            "grid_template_rows": null,
            "right": null,
            "justify_content": null,
            "_view_module": "@jupyter-widgets/base",
            "overflow": null,
            "_model_module_version": "1.2.0",
            "_view_count": null,
            "flex_flow": null,
            "width": null,
            "min_width": null,
            "border": null,
            "align_items": null,
            "bottom": null,
            "_model_module": "@jupyter-widgets/base",
            "top": null,
            "grid_column": null,
            "overflow_y": null,
            "overflow_x": null,
            "grid_auto_flow": null,
            "grid_area": null,
            "grid_template_columns": null,
            "flex": null,
            "_model_name": "LayoutModel",
            "justify_items": null,
            "grid_row": null,
            "max_height": null,
            "align_content": null,
            "visibility": null,
            "align_self": null,
            "height": null,
            "min_height": null,
            "padding": null,
            "grid_auto_rows": null,
            "grid_gap": null,
            "max_width": null,
            "order": null,
            "_view_module_version": "1.2.0",
            "grid_template_areas": null,
            "object_position": null,
            "object_fit": null,
            "grid_auto_columns": null,
            "margin": null,
            "display": null,
            "left": null
          }
        },
        "67dde9d6f8e044fea1569e84d2912b8f": {
          "model_module": "@jupyter-widgets/controls",
          "model_name": "DescriptionStyleModel",
          "state": {
            "_view_name": "StyleView",
            "_model_name": "DescriptionStyleModel",
            "description_width": "",
            "_view_module": "@jupyter-widgets/base",
            "_model_module_version": "1.5.0",
            "_view_count": null,
            "_view_module_version": "1.2.0",
            "_model_module": "@jupyter-widgets/controls"
          }
        },
        "ba4d8bbe873543e09877f3f51d92539f": {
          "model_module": "@jupyter-widgets/base",
          "model_name": "LayoutModel",
          "state": {
            "_view_name": "LayoutView",
            "grid_template_rows": null,
            "right": null,
            "justify_content": null,
            "_view_module": "@jupyter-widgets/base",
            "overflow": null,
            "_model_module_version": "1.2.0",
            "_view_count": null,
            "flex_flow": null,
            "width": null,
            "min_width": null,
            "border": null,
            "align_items": null,
            "bottom": null,
            "_model_module": "@jupyter-widgets/base",
            "top": null,
            "grid_column": null,
            "overflow_y": null,
            "overflow_x": null,
            "grid_auto_flow": null,
            "grid_area": null,
            "grid_template_columns": null,
            "flex": null,
            "_model_name": "LayoutModel",
            "justify_items": null,
            "grid_row": null,
            "max_height": null,
            "align_content": null,
            "visibility": null,
            "align_self": null,
            "height": null,
            "min_height": null,
            "padding": null,
            "grid_auto_rows": null,
            "grid_gap": null,
            "max_width": null,
            "order": null,
            "_view_module_version": "1.2.0",
            "grid_template_areas": null,
            "object_position": null,
            "object_fit": null,
            "grid_auto_columns": null,
            "margin": null,
            "display": null,
            "left": null
          }
        },
        "b36fbf3bb2ff449d9a3e6d468a3450d5": {
          "model_module": "@jupyter-widgets/controls",
          "model_name": "HBoxModel",
          "state": {
            "_view_name": "HBoxView",
            "_dom_classes": [],
            "_model_name": "HBoxModel",
            "_view_module": "@jupyter-widgets/controls",
            "_model_module_version": "1.5.0",
            "_view_count": null,
            "_view_module_version": "1.5.0",
            "box_style": "",
            "layout": "IPY_MODEL_f0f071718129468c85c8316f955a3d95",
            "_model_module": "@jupyter-widgets/controls",
            "children": [
              "IPY_MODEL_6b6e29ef36464f0d97ed24f7ad543407",
              "IPY_MODEL_9e610ddcd2ef40f2825b55430fe7a836"
            ]
          }
        },
        "f0f071718129468c85c8316f955a3d95": {
          "model_module": "@jupyter-widgets/base",
          "model_name": "LayoutModel",
          "state": {
            "_view_name": "LayoutView",
            "grid_template_rows": null,
            "right": null,
            "justify_content": null,
            "_view_module": "@jupyter-widgets/base",
            "overflow": null,
            "_model_module_version": "1.2.0",
            "_view_count": null,
            "flex_flow": null,
            "width": null,
            "min_width": null,
            "border": null,
            "align_items": null,
            "bottom": null,
            "_model_module": "@jupyter-widgets/base",
            "top": null,
            "grid_column": null,
            "overflow_y": null,
            "overflow_x": null,
            "grid_auto_flow": null,
            "grid_area": null,
            "grid_template_columns": null,
            "flex": null,
            "_model_name": "LayoutModel",
            "justify_items": null,
            "grid_row": null,
            "max_height": null,
            "align_content": null,
            "visibility": null,
            "align_self": null,
            "height": null,
            "min_height": null,
            "padding": null,
            "grid_auto_rows": null,
            "grid_gap": null,
            "max_width": null,
            "order": null,
            "_view_module_version": "1.2.0",
            "grid_template_areas": null,
            "object_position": null,
            "object_fit": null,
            "grid_auto_columns": null,
            "margin": null,
            "display": null,
            "left": null
          }
        },
        "6b6e29ef36464f0d97ed24f7ad543407": {
          "model_module": "@jupyter-widgets/controls",
          "model_name": "FloatProgressModel",
          "state": {
            "_view_name": "ProgressView",
            "style": "IPY_MODEL_a1cb96ab53f046c9a711a3388c4cd801",
            "_dom_classes": [],
            "description": "Downloading: 100%",
            "_model_name": "FloatProgressModel",
            "bar_style": "success",
            "max": 995526,
            "_view_module": "@jupyter-widgets/controls",
            "_model_module_version": "1.5.0",
            "value": 995526,
            "_view_count": null,
            "_view_module_version": "1.5.0",
            "orientation": "horizontal",
            "min": 0,
            "description_tooltip": null,
            "_model_module": "@jupyter-widgets/controls",
            "layout": "IPY_MODEL_0fc894c624754cc5bf636b620a792c3e"
          }
        },
        "9e610ddcd2ef40f2825b55430fe7a836": {
          "model_module": "@jupyter-widgets/controls",
          "model_name": "HTMLModel",
          "state": {
            "_view_name": "HTMLView",
            "style": "IPY_MODEL_93ccdbed926b47278b9c273b92f993fb",
            "_dom_classes": [],
            "description": "",
            "_model_name": "HTMLModel",
            "placeholder": "​",
            "_view_module": "@jupyter-widgets/controls",
            "_model_module_version": "1.5.0",
            "value": " 996k/996k [00:00&lt;00:00, 1.41MB/s]",
            "_view_count": null,
            "_view_module_version": "1.5.0",
            "description_tooltip": null,
            "_model_module": "@jupyter-widgets/controls",
            "layout": "IPY_MODEL_5e8c7b97e1034f3e906650f9fb626c0c"
          }
        },
        "a1cb96ab53f046c9a711a3388c4cd801": {
          "model_module": "@jupyter-widgets/controls",
          "model_name": "ProgressStyleModel",
          "state": {
            "_view_name": "StyleView",
            "_model_name": "ProgressStyleModel",
            "description_width": "initial",
            "_view_module": "@jupyter-widgets/base",
            "_model_module_version": "1.5.0",
            "_view_count": null,
            "_view_module_version": "1.2.0",
            "bar_color": null,
            "_model_module": "@jupyter-widgets/controls"
          }
        },
        "0fc894c624754cc5bf636b620a792c3e": {
          "model_module": "@jupyter-widgets/base",
          "model_name": "LayoutModel",
          "state": {
            "_view_name": "LayoutView",
            "grid_template_rows": null,
            "right": null,
            "justify_content": null,
            "_view_module": "@jupyter-widgets/base",
            "overflow": null,
            "_model_module_version": "1.2.0",
            "_view_count": null,
            "flex_flow": null,
            "width": null,
            "min_width": null,
            "border": null,
            "align_items": null,
            "bottom": null,
            "_model_module": "@jupyter-widgets/base",
            "top": null,
            "grid_column": null,
            "overflow_y": null,
            "overflow_x": null,
            "grid_auto_flow": null,
            "grid_area": null,
            "grid_template_columns": null,
            "flex": null,
            "_model_name": "LayoutModel",
            "justify_items": null,
            "grid_row": null,
            "max_height": null,
            "align_content": null,
            "visibility": null,
            "align_self": null,
            "height": null,
            "min_height": null,
            "padding": null,
            "grid_auto_rows": null,
            "grid_gap": null,
            "max_width": null,
            "order": null,
            "_view_module_version": "1.2.0",
            "grid_template_areas": null,
            "object_position": null,
            "object_fit": null,
            "grid_auto_columns": null,
            "margin": null,
            "display": null,
            "left": null
          }
        },
        "93ccdbed926b47278b9c273b92f993fb": {
          "model_module": "@jupyter-widgets/controls",
          "model_name": "DescriptionStyleModel",
          "state": {
            "_view_name": "StyleView",
            "_model_name": "DescriptionStyleModel",
            "description_width": "",
            "_view_module": "@jupyter-widgets/base",
            "_model_module_version": "1.5.0",
            "_view_count": null,
            "_view_module_version": "1.2.0",
            "_model_module": "@jupyter-widgets/controls"
          }
        },
        "5e8c7b97e1034f3e906650f9fb626c0c": {
          "model_module": "@jupyter-widgets/base",
          "model_name": "LayoutModel",
          "state": {
            "_view_name": "LayoutView",
            "grid_template_rows": null,
            "right": null,
            "justify_content": null,
            "_view_module": "@jupyter-widgets/base",
            "overflow": null,
            "_model_module_version": "1.2.0",
            "_view_count": null,
            "flex_flow": null,
            "width": null,
            "min_width": null,
            "border": null,
            "align_items": null,
            "bottom": null,
            "_model_module": "@jupyter-widgets/base",
            "top": null,
            "grid_column": null,
            "overflow_y": null,
            "overflow_x": null,
            "grid_auto_flow": null,
            "grid_area": null,
            "grid_template_columns": null,
            "flex": null,
            "_model_name": "LayoutModel",
            "justify_items": null,
            "grid_row": null,
            "max_height": null,
            "align_content": null,
            "visibility": null,
            "align_self": null,
            "height": null,
            "min_height": null,
            "padding": null,
            "grid_auto_rows": null,
            "grid_gap": null,
            "max_width": null,
            "order": null,
            "_view_module_version": "1.2.0",
            "grid_template_areas": null,
            "object_position": null,
            "object_fit": null,
            "grid_auto_columns": null,
            "margin": null,
            "display": null,
            "left": null
          }
        },
        "934b5fef891a4299a2ff439b1c1c8db9": {
          "model_module": "@jupyter-widgets/controls",
          "model_name": "HBoxModel",
          "state": {
            "_view_name": "HBoxView",
            "_dom_classes": [],
            "_model_name": "HBoxModel",
            "_view_module": "@jupyter-widgets/controls",
            "_model_module_version": "1.5.0",
            "_view_count": null,
            "_view_module_version": "1.5.0",
            "box_style": "",
            "layout": "IPY_MODEL_cf5feda966294ee5a0c1a354f60b311f",
            "_model_module": "@jupyter-widgets/controls",
            "children": [
              "IPY_MODEL_d16b0728c25040538d2dc1b3d30cc1fd",
              "IPY_MODEL_bdddf4249a874e39b05f6d85494bf23a"
            ]
          }
        },
        "cf5feda966294ee5a0c1a354f60b311f": {
          "model_module": "@jupyter-widgets/base",
          "model_name": "LayoutModel",
          "state": {
            "_view_name": "LayoutView",
            "grid_template_rows": null,
            "right": null,
            "justify_content": null,
            "_view_module": "@jupyter-widgets/base",
            "overflow": null,
            "_model_module_version": "1.2.0",
            "_view_count": null,
            "flex_flow": null,
            "width": null,
            "min_width": null,
            "border": null,
            "align_items": null,
            "bottom": null,
            "_model_module": "@jupyter-widgets/base",
            "top": null,
            "grid_column": null,
            "overflow_y": null,
            "overflow_x": null,
            "grid_auto_flow": null,
            "grid_area": null,
            "grid_template_columns": null,
            "flex": null,
            "_model_name": "LayoutModel",
            "justify_items": null,
            "grid_row": null,
            "max_height": null,
            "align_content": null,
            "visibility": null,
            "align_self": null,
            "height": null,
            "min_height": null,
            "padding": null,
            "grid_auto_rows": null,
            "grid_gap": null,
            "max_width": null,
            "order": null,
            "_view_module_version": "1.2.0",
            "grid_template_areas": null,
            "object_position": null,
            "object_fit": null,
            "grid_auto_columns": null,
            "margin": null,
            "display": null,
            "left": null
          }
        },
        "d16b0728c25040538d2dc1b3d30cc1fd": {
          "model_module": "@jupyter-widgets/controls",
          "model_name": "FloatProgressModel",
          "state": {
            "_view_name": "ProgressView",
            "style": "IPY_MODEL_5a7864d4f0e24fd8a0b2c11f5457b2ba",
            "_dom_classes": [],
            "description": "Downloading: 100%",
            "_model_name": "FloatProgressModel",
            "bar_style": "success",
            "max": 29,
            "_view_module": "@jupyter-widgets/controls",
            "_model_module_version": "1.5.0",
            "value": 29,
            "_view_count": null,
            "_view_module_version": "1.5.0",
            "orientation": "horizontal",
            "min": 0,
            "description_tooltip": null,
            "_model_module": "@jupyter-widgets/controls",
            "layout": "IPY_MODEL_4b5fc8eef8d14ee0b1cb991f91218a8b"
          }
        },
        "bdddf4249a874e39b05f6d85494bf23a": {
          "model_module": "@jupyter-widgets/controls",
          "model_name": "HTMLModel",
          "state": {
            "_view_name": "HTMLView",
            "style": "IPY_MODEL_b37e1b50169e471ea82f180d88753c27",
            "_dom_classes": [],
            "description": "",
            "_model_name": "HTMLModel",
            "placeholder": "​",
            "_view_module": "@jupyter-widgets/controls",
            "_model_module_version": "1.5.0",
            "value": " 29.0/29.0 [00:00&lt;00:00, 289B/s]",
            "_view_count": null,
            "_view_module_version": "1.5.0",
            "description_tooltip": null,
            "_model_module": "@jupyter-widgets/controls",
            "layout": "IPY_MODEL_63769512805a4deaa50c973863dbe1ed"
          }
        },
        "5a7864d4f0e24fd8a0b2c11f5457b2ba": {
          "model_module": "@jupyter-widgets/controls",
          "model_name": "ProgressStyleModel",
          "state": {
            "_view_name": "StyleView",
            "_model_name": "ProgressStyleModel",
            "description_width": "initial",
            "_view_module": "@jupyter-widgets/base",
            "_model_module_version": "1.5.0",
            "_view_count": null,
            "_view_module_version": "1.2.0",
            "bar_color": null,
            "_model_module": "@jupyter-widgets/controls"
          }
        },
        "4b5fc8eef8d14ee0b1cb991f91218a8b": {
          "model_module": "@jupyter-widgets/base",
          "model_name": "LayoutModel",
          "state": {
            "_view_name": "LayoutView",
            "grid_template_rows": null,
            "right": null,
            "justify_content": null,
            "_view_module": "@jupyter-widgets/base",
            "overflow": null,
            "_model_module_version": "1.2.0",
            "_view_count": null,
            "flex_flow": null,
            "width": null,
            "min_width": null,
            "border": null,
            "align_items": null,
            "bottom": null,
            "_model_module": "@jupyter-widgets/base",
            "top": null,
            "grid_column": null,
            "overflow_y": null,
            "overflow_x": null,
            "grid_auto_flow": null,
            "grid_area": null,
            "grid_template_columns": null,
            "flex": null,
            "_model_name": "LayoutModel",
            "justify_items": null,
            "grid_row": null,
            "max_height": null,
            "align_content": null,
            "visibility": null,
            "align_self": null,
            "height": null,
            "min_height": null,
            "padding": null,
            "grid_auto_rows": null,
            "grid_gap": null,
            "max_width": null,
            "order": null,
            "_view_module_version": "1.2.0",
            "grid_template_areas": null,
            "object_position": null,
            "object_fit": null,
            "grid_auto_columns": null,
            "margin": null,
            "display": null,
            "left": null
          }
        },
        "b37e1b50169e471ea82f180d88753c27": {
          "model_module": "@jupyter-widgets/controls",
          "model_name": "DescriptionStyleModel",
          "state": {
            "_view_name": "StyleView",
            "_model_name": "DescriptionStyleModel",
            "description_width": "",
            "_view_module": "@jupyter-widgets/base",
            "_model_module_version": "1.5.0",
            "_view_count": null,
            "_view_module_version": "1.2.0",
            "_model_module": "@jupyter-widgets/controls"
          }
        },
        "63769512805a4deaa50c973863dbe1ed": {
          "model_module": "@jupyter-widgets/base",
          "model_name": "LayoutModel",
          "state": {
            "_view_name": "LayoutView",
            "grid_template_rows": null,
            "right": null,
            "justify_content": null,
            "_view_module": "@jupyter-widgets/base",
            "overflow": null,
            "_model_module_version": "1.2.0",
            "_view_count": null,
            "flex_flow": null,
            "width": null,
            "min_width": null,
            "border": null,
            "align_items": null,
            "bottom": null,
            "_model_module": "@jupyter-widgets/base",
            "top": null,
            "grid_column": null,
            "overflow_y": null,
            "overflow_x": null,
            "grid_auto_flow": null,
            "grid_area": null,
            "grid_template_columns": null,
            "flex": null,
            "_model_name": "LayoutModel",
            "justify_items": null,
            "grid_row": null,
            "max_height": null,
            "align_content": null,
            "visibility": null,
            "align_self": null,
            "height": null,
            "min_height": null,
            "padding": null,
            "grid_auto_rows": null,
            "grid_gap": null,
            "max_width": null,
            "order": null,
            "_view_module_version": "1.2.0",
            "grid_template_areas": null,
            "object_position": null,
            "object_fit": null,
            "grid_auto_columns": null,
            "margin": null,
            "display": null,
            "left": null
          }
        },
        "5053fe4f6d8948a99a48457c1fd96b51": {
          "model_module": "@jupyter-widgets/controls",
          "model_name": "HBoxModel",
          "state": {
            "_view_name": "HBoxView",
            "_dom_classes": [],
            "_model_name": "HBoxModel",
            "_view_module": "@jupyter-widgets/controls",
            "_model_module_version": "1.5.0",
            "_view_count": null,
            "_view_module_version": "1.5.0",
            "box_style": "",
            "layout": "IPY_MODEL_61891cecb4db466788cc9fdbbe9ecf31",
            "_model_module": "@jupyter-widgets/controls",
            "children": [
              "IPY_MODEL_a4da7f1e60db45a59bdf76ab5fa4e986",
              "IPY_MODEL_affab59485d64b9489653f605a83a8ca"
            ]
          }
        },
        "61891cecb4db466788cc9fdbbe9ecf31": {
          "model_module": "@jupyter-widgets/base",
          "model_name": "LayoutModel",
          "state": {
            "_view_name": "LayoutView",
            "grid_template_rows": null,
            "right": null,
            "justify_content": null,
            "_view_module": "@jupyter-widgets/base",
            "overflow": null,
            "_model_module_version": "1.2.0",
            "_view_count": null,
            "flex_flow": null,
            "width": null,
            "min_width": null,
            "border": null,
            "align_items": null,
            "bottom": null,
            "_model_module": "@jupyter-widgets/base",
            "top": null,
            "grid_column": null,
            "overflow_y": null,
            "overflow_x": null,
            "grid_auto_flow": null,
            "grid_area": null,
            "grid_template_columns": null,
            "flex": null,
            "_model_name": "LayoutModel",
            "justify_items": null,
            "grid_row": null,
            "max_height": null,
            "align_content": null,
            "visibility": null,
            "align_self": null,
            "height": null,
            "min_height": null,
            "padding": null,
            "grid_auto_rows": null,
            "grid_gap": null,
            "max_width": null,
            "order": null,
            "_view_module_version": "1.2.0",
            "grid_template_areas": null,
            "object_position": null,
            "object_fit": null,
            "grid_auto_columns": null,
            "margin": null,
            "display": null,
            "left": null
          }
        },
        "a4da7f1e60db45a59bdf76ab5fa4e986": {
          "model_module": "@jupyter-widgets/controls",
          "model_name": "FloatProgressModel",
          "state": {
            "_view_name": "ProgressView",
            "style": "IPY_MODEL_9aba9944f42740dc9969881eb7735fe5",
            "_dom_classes": [],
            "description": "Downloading: 100%",
            "_model_name": "FloatProgressModel",
            "bar_style": "success",
            "max": 1961828,
            "_view_module": "@jupyter-widgets/controls",
            "_model_module_version": "1.5.0",
            "value": 1961828,
            "_view_count": null,
            "_view_module_version": "1.5.0",
            "orientation": "horizontal",
            "min": 0,
            "description_tooltip": null,
            "_model_module": "@jupyter-widgets/controls",
            "layout": "IPY_MODEL_5bc7f2c768fa43b8bef280791ad14790"
          }
        },
        "affab59485d64b9489653f605a83a8ca": {
          "model_module": "@jupyter-widgets/controls",
          "model_name": "HTMLModel",
          "state": {
            "_view_name": "HTMLView",
            "style": "IPY_MODEL_5dd232a4fbd24f85b93985517755aeb3",
            "_dom_classes": [],
            "description": "",
            "_model_name": "HTMLModel",
            "placeholder": "​",
            "_view_module": "@jupyter-widgets/controls",
            "_model_module_version": "1.5.0",
            "value": " 1.96M/1.96M [00:00&lt;00:00, 5.13MB/s]",
            "_view_count": null,
            "_view_module_version": "1.5.0",
            "description_tooltip": null,
            "_model_module": "@jupyter-widgets/controls",
            "layout": "IPY_MODEL_4402e628ece047f6b8b1012d99ed5324"
          }
        },
        "9aba9944f42740dc9969881eb7735fe5": {
          "model_module": "@jupyter-widgets/controls",
          "model_name": "ProgressStyleModel",
          "state": {
            "_view_name": "StyleView",
            "_model_name": "ProgressStyleModel",
            "description_width": "initial",
            "_view_module": "@jupyter-widgets/base",
            "_model_module_version": "1.5.0",
            "_view_count": null,
            "_view_module_version": "1.2.0",
            "bar_color": null,
            "_model_module": "@jupyter-widgets/controls"
          }
        },
        "5bc7f2c768fa43b8bef280791ad14790": {
          "model_module": "@jupyter-widgets/base",
          "model_name": "LayoutModel",
          "state": {
            "_view_name": "LayoutView",
            "grid_template_rows": null,
            "right": null,
            "justify_content": null,
            "_view_module": "@jupyter-widgets/base",
            "overflow": null,
            "_model_module_version": "1.2.0",
            "_view_count": null,
            "flex_flow": null,
            "width": null,
            "min_width": null,
            "border": null,
            "align_items": null,
            "bottom": null,
            "_model_module": "@jupyter-widgets/base",
            "top": null,
            "grid_column": null,
            "overflow_y": null,
            "overflow_x": null,
            "grid_auto_flow": null,
            "grid_area": null,
            "grid_template_columns": null,
            "flex": null,
            "_model_name": "LayoutModel",
            "justify_items": null,
            "grid_row": null,
            "max_height": null,
            "align_content": null,
            "visibility": null,
            "align_self": null,
            "height": null,
            "min_height": null,
            "padding": null,
            "grid_auto_rows": null,
            "grid_gap": null,
            "max_width": null,
            "order": null,
            "_view_module_version": "1.2.0",
            "grid_template_areas": null,
            "object_position": null,
            "object_fit": null,
            "grid_auto_columns": null,
            "margin": null,
            "display": null,
            "left": null
          }
        },
        "5dd232a4fbd24f85b93985517755aeb3": {
          "model_module": "@jupyter-widgets/controls",
          "model_name": "DescriptionStyleModel",
          "state": {
            "_view_name": "StyleView",
            "_model_name": "DescriptionStyleModel",
            "description_width": "",
            "_view_module": "@jupyter-widgets/base",
            "_model_module_version": "1.5.0",
            "_view_count": null,
            "_view_module_version": "1.2.0",
            "_model_module": "@jupyter-widgets/controls"
          }
        },
        "4402e628ece047f6b8b1012d99ed5324": {
          "model_module": "@jupyter-widgets/base",
          "model_name": "LayoutModel",
          "state": {
            "_view_name": "LayoutView",
            "grid_template_rows": null,
            "right": null,
            "justify_content": null,
            "_view_module": "@jupyter-widgets/base",
            "overflow": null,
            "_model_module_version": "1.2.0",
            "_view_count": null,
            "flex_flow": null,
            "width": null,
            "min_width": null,
            "border": null,
            "align_items": null,
            "bottom": null,
            "_model_module": "@jupyter-widgets/base",
            "top": null,
            "grid_column": null,
            "overflow_y": null,
            "overflow_x": null,
            "grid_auto_flow": null,
            "grid_area": null,
            "grid_template_columns": null,
            "flex": null,
            "_model_name": "LayoutModel",
            "justify_items": null,
            "grid_row": null,
            "max_height": null,
            "align_content": null,
            "visibility": null,
            "align_self": null,
            "height": null,
            "min_height": null,
            "padding": null,
            "grid_auto_rows": null,
            "grid_gap": null,
            "max_width": null,
            "order": null,
            "_view_module_version": "1.2.0",
            "grid_template_areas": null,
            "object_position": null,
            "object_fit": null,
            "grid_auto_columns": null,
            "margin": null,
            "display": null,
            "left": null
          }
        },
        "985295f524df4124a626dd27b3e37b30": {
          "model_module": "@jupyter-widgets/controls",
          "model_name": "HBoxModel",
          "state": {
            "_view_name": "HBoxView",
            "_dom_classes": [],
            "_model_name": "HBoxModel",
            "_view_module": "@jupyter-widgets/controls",
            "_model_module_version": "1.5.0",
            "_view_count": null,
            "_view_module_version": "1.5.0",
            "box_style": "",
            "layout": "IPY_MODEL_5016039cbfe042438643f6827cb38495",
            "_model_module": "@jupyter-widgets/controls",
            "children": [
              "IPY_MODEL_1acad02aa1ab438eb9d704fc9c4aff79",
              "IPY_MODEL_991716ed02094bfa884028b76ed4f9b4"
            ]
          }
        },
        "5016039cbfe042438643f6827cb38495": {
          "model_module": "@jupyter-widgets/base",
          "model_name": "LayoutModel",
          "state": {
            "_view_name": "LayoutView",
            "grid_template_rows": null,
            "right": null,
            "justify_content": null,
            "_view_module": "@jupyter-widgets/base",
            "overflow": null,
            "_model_module_version": "1.2.0",
            "_view_count": null,
            "flex_flow": null,
            "width": null,
            "min_width": null,
            "border": null,
            "align_items": null,
            "bottom": null,
            "_model_module": "@jupyter-widgets/base",
            "top": null,
            "grid_column": null,
            "overflow_y": null,
            "overflow_x": null,
            "grid_auto_flow": null,
            "grid_area": null,
            "grid_template_columns": null,
            "flex": null,
            "_model_name": "LayoutModel",
            "justify_items": null,
            "grid_row": null,
            "max_height": null,
            "align_content": null,
            "visibility": null,
            "align_self": null,
            "height": null,
            "min_height": null,
            "padding": null,
            "grid_auto_rows": null,
            "grid_gap": null,
            "max_width": null,
            "order": null,
            "_view_module_version": "1.2.0",
            "grid_template_areas": null,
            "object_position": null,
            "object_fit": null,
            "grid_auto_columns": null,
            "margin": null,
            "display": null,
            "left": null
          }
        },
        "1acad02aa1ab438eb9d704fc9c4aff79": {
          "model_module": "@jupyter-widgets/controls",
          "model_name": "FloatProgressModel",
          "state": {
            "_view_name": "ProgressView",
            "style": "IPY_MODEL_cf9f99852c5b44b7995213824aec3204",
            "_dom_classes": [],
            "description": "Downloading: 100%",
            "_model_name": "FloatProgressModel",
            "bar_style": "success",
            "max": 648,
            "_view_module": "@jupyter-widgets/controls",
            "_model_module_version": "1.5.0",
            "value": 648,
            "_view_count": null,
            "_view_module_version": "1.5.0",
            "orientation": "horizontal",
            "min": 0,
            "description_tooltip": null,
            "_model_module": "@jupyter-widgets/controls",
            "layout": "IPY_MODEL_a889dbbdcbe24312a4bb444f098a382c"
          }
        },
        "991716ed02094bfa884028b76ed4f9b4": {
          "model_module": "@jupyter-widgets/controls",
          "model_name": "HTMLModel",
          "state": {
            "_view_name": "HTMLView",
            "style": "IPY_MODEL_7db5aee1221248008b94dc73a352987a",
            "_dom_classes": [],
            "description": "",
            "_model_name": "HTMLModel",
            "placeholder": "​",
            "_view_module": "@jupyter-widgets/controls",
            "_model_module_version": "1.5.0",
            "value": " 648/648 [00:00&lt;00:00, 1.27kB/s]",
            "_view_count": null,
            "_view_module_version": "1.5.0",
            "description_tooltip": null,
            "_model_module": "@jupyter-widgets/controls",
            "layout": "IPY_MODEL_9a4d2d58820f4384aae8531730d762a4"
          }
        },
        "cf9f99852c5b44b7995213824aec3204": {
          "model_module": "@jupyter-widgets/controls",
          "model_name": "ProgressStyleModel",
          "state": {
            "_view_name": "StyleView",
            "_model_name": "ProgressStyleModel",
            "description_width": "initial",
            "_view_module": "@jupyter-widgets/base",
            "_model_module_version": "1.5.0",
            "_view_count": null,
            "_view_module_version": "1.2.0",
            "bar_color": null,
            "_model_module": "@jupyter-widgets/controls"
          }
        },
        "a889dbbdcbe24312a4bb444f098a382c": {
          "model_module": "@jupyter-widgets/base",
          "model_name": "LayoutModel",
          "state": {
            "_view_name": "LayoutView",
            "grid_template_rows": null,
            "right": null,
            "justify_content": null,
            "_view_module": "@jupyter-widgets/base",
            "overflow": null,
            "_model_module_version": "1.2.0",
            "_view_count": null,
            "flex_flow": null,
            "width": null,
            "min_width": null,
            "border": null,
            "align_items": null,
            "bottom": null,
            "_model_module": "@jupyter-widgets/base",
            "top": null,
            "grid_column": null,
            "overflow_y": null,
            "overflow_x": null,
            "grid_auto_flow": null,
            "grid_area": null,
            "grid_template_columns": null,
            "flex": null,
            "_model_name": "LayoutModel",
            "justify_items": null,
            "grid_row": null,
            "max_height": null,
            "align_content": null,
            "visibility": null,
            "align_self": null,
            "height": null,
            "min_height": null,
            "padding": null,
            "grid_auto_rows": null,
            "grid_gap": null,
            "max_width": null,
            "order": null,
            "_view_module_version": "1.2.0",
            "grid_template_areas": null,
            "object_position": null,
            "object_fit": null,
            "grid_auto_columns": null,
            "margin": null,
            "display": null,
            "left": null
          }
        },
        "7db5aee1221248008b94dc73a352987a": {
          "model_module": "@jupyter-widgets/controls",
          "model_name": "DescriptionStyleModel",
          "state": {
            "_view_name": "StyleView",
            "_model_name": "DescriptionStyleModel",
            "description_width": "",
            "_view_module": "@jupyter-widgets/base",
            "_model_module_version": "1.5.0",
            "_view_count": null,
            "_view_module_version": "1.2.0",
            "_model_module": "@jupyter-widgets/controls"
          }
        },
        "9a4d2d58820f4384aae8531730d762a4": {
          "model_module": "@jupyter-widgets/base",
          "model_name": "LayoutModel",
          "state": {
            "_view_name": "LayoutView",
            "grid_template_rows": null,
            "right": null,
            "justify_content": null,
            "_view_module": "@jupyter-widgets/base",
            "overflow": null,
            "_model_module_version": "1.2.0",
            "_view_count": null,
            "flex_flow": null,
            "width": null,
            "min_width": null,
            "border": null,
            "align_items": null,
            "bottom": null,
            "_model_module": "@jupyter-widgets/base",
            "top": null,
            "grid_column": null,
            "overflow_y": null,
            "overflow_x": null,
            "grid_auto_flow": null,
            "grid_area": null,
            "grid_template_columns": null,
            "flex": null,
            "_model_name": "LayoutModel",
            "justify_items": null,
            "grid_row": null,
            "max_height": null,
            "align_content": null,
            "visibility": null,
            "align_self": null,
            "height": null,
            "min_height": null,
            "padding": null,
            "grid_auto_rows": null,
            "grid_gap": null,
            "max_width": null,
            "order": null,
            "_view_module_version": "1.2.0",
            "grid_template_areas": null,
            "object_position": null,
            "object_fit": null,
            "grid_auto_columns": null,
            "margin": null,
            "display": null,
            "left": null
          }
        },
        "7604462049c643cc9c984e1c91bebd7f": {
          "model_module": "@jupyter-widgets/controls",
          "model_name": "HBoxModel",
          "state": {
            "_view_name": "HBoxView",
            "_dom_classes": [],
            "_model_name": "HBoxModel",
            "_view_module": "@jupyter-widgets/controls",
            "_model_module_version": "1.5.0",
            "_view_count": null,
            "_view_module_version": "1.5.0",
            "box_style": "",
            "layout": "IPY_MODEL_43485219e1724b29a7c678e862ae720d",
            "_model_module": "@jupyter-widgets/controls",
            "children": [
              "IPY_MODEL_27c116b07e7e4d1ea67f776db696687d",
              "IPY_MODEL_900d54c78af74571ba03c4a6cd7f11c8"
            ]
          }
        },
        "43485219e1724b29a7c678e862ae720d": {
          "model_module": "@jupyter-widgets/base",
          "model_name": "LayoutModel",
          "state": {
            "_view_name": "LayoutView",
            "grid_template_rows": null,
            "right": null,
            "justify_content": null,
            "_view_module": "@jupyter-widgets/base",
            "overflow": null,
            "_model_module_version": "1.2.0",
            "_view_count": null,
            "flex_flow": null,
            "width": null,
            "min_width": null,
            "border": null,
            "align_items": null,
            "bottom": null,
            "_model_module": "@jupyter-widgets/base",
            "top": null,
            "grid_column": null,
            "overflow_y": null,
            "overflow_x": null,
            "grid_auto_flow": null,
            "grid_area": null,
            "grid_template_columns": null,
            "flex": null,
            "_model_name": "LayoutModel",
            "justify_items": null,
            "grid_row": null,
            "max_height": null,
            "align_content": null,
            "visibility": null,
            "align_self": null,
            "height": null,
            "min_height": null,
            "padding": null,
            "grid_auto_rows": null,
            "grid_gap": null,
            "max_width": null,
            "order": null,
            "_view_module_version": "1.2.0",
            "grid_template_areas": null,
            "object_position": null,
            "object_fit": null,
            "grid_auto_columns": null,
            "margin": null,
            "display": null,
            "left": null
          }
        },
        "27c116b07e7e4d1ea67f776db696687d": {
          "model_module": "@jupyter-widgets/controls",
          "model_name": "FloatProgressModel",
          "state": {
            "_view_name": "ProgressView",
            "style": "IPY_MODEL_4b6b389d970b47cf970984f36b6b7d52",
            "_dom_classes": [],
            "description": "Downloading: 100%",
            "_model_name": "FloatProgressModel",
            "bar_style": "success",
            "max": 1342014951,
            "_view_module": "@jupyter-widgets/controls",
            "_model_module_version": "1.5.0",
            "value": 1342014951,
            "_view_count": null,
            "_view_module_version": "1.5.0",
            "orientation": "horizontal",
            "min": 0,
            "description_tooltip": null,
            "_model_module": "@jupyter-widgets/controls",
            "layout": "IPY_MODEL_a49081063a2a4e22b9881abc30474a9d"
          }
        },
        "900d54c78af74571ba03c4a6cd7f11c8": {
          "model_module": "@jupyter-widgets/controls",
          "model_name": "HTMLModel",
          "state": {
            "_view_name": "HTMLView",
            "style": "IPY_MODEL_f81ed647d59f4299a3c440b6d5f7d61a",
            "_dom_classes": [],
            "description": "",
            "_model_name": "HTMLModel",
            "placeholder": "​",
            "_view_module": "@jupyter-widgets/controls",
            "_model_module_version": "1.5.0",
            "value": " 1.34G/1.34G [00:41&lt;00:00, 32.5MB/s]",
            "_view_count": null,
            "_view_module_version": "1.5.0",
            "description_tooltip": null,
            "_model_module": "@jupyter-widgets/controls",
            "layout": "IPY_MODEL_de49e5ad78eb4db1bf5d2474bccafd77"
          }
        },
        "4b6b389d970b47cf970984f36b6b7d52": {
          "model_module": "@jupyter-widgets/controls",
          "model_name": "ProgressStyleModel",
          "state": {
            "_view_name": "StyleView",
            "_model_name": "ProgressStyleModel",
            "description_width": "initial",
            "_view_module": "@jupyter-widgets/base",
            "_model_module_version": "1.5.0",
            "_view_count": null,
            "_view_module_version": "1.2.0",
            "bar_color": null,
            "_model_module": "@jupyter-widgets/controls"
          }
        },
        "a49081063a2a4e22b9881abc30474a9d": {
          "model_module": "@jupyter-widgets/base",
          "model_name": "LayoutModel",
          "state": {
            "_view_name": "LayoutView",
            "grid_template_rows": null,
            "right": null,
            "justify_content": null,
            "_view_module": "@jupyter-widgets/base",
            "overflow": null,
            "_model_module_version": "1.2.0",
            "_view_count": null,
            "flex_flow": null,
            "width": null,
            "min_width": null,
            "border": null,
            "align_items": null,
            "bottom": null,
            "_model_module": "@jupyter-widgets/base",
            "top": null,
            "grid_column": null,
            "overflow_y": null,
            "overflow_x": null,
            "grid_auto_flow": null,
            "grid_area": null,
            "grid_template_columns": null,
            "flex": null,
            "_model_name": "LayoutModel",
            "justify_items": null,
            "grid_row": null,
            "max_height": null,
            "align_content": null,
            "visibility": null,
            "align_self": null,
            "height": null,
            "min_height": null,
            "padding": null,
            "grid_auto_rows": null,
            "grid_gap": null,
            "max_width": null,
            "order": null,
            "_view_module_version": "1.2.0",
            "grid_template_areas": null,
            "object_position": null,
            "object_fit": null,
            "grid_auto_columns": null,
            "margin": null,
            "display": null,
            "left": null
          }
        },
        "f81ed647d59f4299a3c440b6d5f7d61a": {
          "model_module": "@jupyter-widgets/controls",
          "model_name": "DescriptionStyleModel",
          "state": {
            "_view_name": "StyleView",
            "_model_name": "DescriptionStyleModel",
            "description_width": "",
            "_view_module": "@jupyter-widgets/base",
            "_model_module_version": "1.5.0",
            "_view_count": null,
            "_view_module_version": "1.2.0",
            "_model_module": "@jupyter-widgets/controls"
          }
        },
        "de49e5ad78eb4db1bf5d2474bccafd77": {
          "model_module": "@jupyter-widgets/base",
          "model_name": "LayoutModel",
          "state": {
            "_view_name": "LayoutView",
            "grid_template_rows": null,
            "right": null,
            "justify_content": null,
            "_view_module": "@jupyter-widgets/base",
            "overflow": null,
            "_model_module_version": "1.2.0",
            "_view_count": null,
            "flex_flow": null,
            "width": null,
            "min_width": null,
            "border": null,
            "align_items": null,
            "bottom": null,
            "_model_module": "@jupyter-widgets/base",
            "top": null,
            "grid_column": null,
            "overflow_y": null,
            "overflow_x": null,
            "grid_auto_flow": null,
            "grid_area": null,
            "grid_template_columns": null,
            "flex": null,
            "_model_name": "LayoutModel",
            "justify_items": null,
            "grid_row": null,
            "max_height": null,
            "align_content": null,
            "visibility": null,
            "align_self": null,
            "height": null,
            "min_height": null,
            "padding": null,
            "grid_auto_rows": null,
            "grid_gap": null,
            "max_width": null,
            "order": null,
            "_view_module_version": "1.2.0",
            "grid_template_areas": null,
            "object_position": null,
            "object_fit": null,
            "grid_auto_columns": null,
            "margin": null,
            "display": null,
            "left": null
          }
        },
        "ee35aacc2b714de7928262c764ebf3ec": {
          "model_module": "@jupyter-widgets/controls",
          "model_name": "HBoxModel",
          "state": {
            "_view_name": "HBoxView",
            "_dom_classes": [],
            "_model_name": "HBoxModel",
            "_view_module": "@jupyter-widgets/controls",
            "_model_module_version": "1.5.0",
            "_view_count": null,
            "_view_module_version": "1.5.0",
            "box_style": "",
            "layout": "IPY_MODEL_867f53630dd64136b716e119db98f212",
            "_model_module": "@jupyter-widgets/controls",
            "children": [
              "IPY_MODEL_1b1dc3062425452980529d40d54e6c18",
              "IPY_MODEL_87e45a03cce44906b7ca5959ba8df1e8"
            ]
          }
        },
        "867f53630dd64136b716e119db98f212": {
          "model_module": "@jupyter-widgets/base",
          "model_name": "LayoutModel",
          "state": {
            "_view_name": "LayoutView",
            "grid_template_rows": null,
            "right": null,
            "justify_content": null,
            "_view_module": "@jupyter-widgets/base",
            "overflow": null,
            "_model_module_version": "1.2.0",
            "_view_count": null,
            "flex_flow": null,
            "width": null,
            "min_width": null,
            "border": null,
            "align_items": null,
            "bottom": null,
            "_model_module": "@jupyter-widgets/base",
            "top": null,
            "grid_column": null,
            "overflow_y": null,
            "overflow_x": null,
            "grid_auto_flow": null,
            "grid_area": null,
            "grid_template_columns": null,
            "flex": null,
            "_model_name": "LayoutModel",
            "justify_items": null,
            "grid_row": null,
            "max_height": null,
            "align_content": null,
            "visibility": null,
            "align_self": null,
            "height": null,
            "min_height": null,
            "padding": null,
            "grid_auto_rows": null,
            "grid_gap": null,
            "max_width": null,
            "order": null,
            "_view_module_version": "1.2.0",
            "grid_template_areas": null,
            "object_position": null,
            "object_fit": null,
            "grid_auto_columns": null,
            "margin": null,
            "display": null,
            "left": null
          }
        },
        "1b1dc3062425452980529d40d54e6c18": {
          "model_module": "@jupyter-widgets/controls",
          "model_name": "FloatProgressModel",
          "state": {
            "_view_name": "ProgressView",
            "style": "IPY_MODEL_8d4c542b6eb441e28ccdd57fc9f0ffe2",
            "_dom_classes": [],
            "description": "Downloading: 100%",
            "_model_name": "FloatProgressModel",
            "bar_style": "success",
            "max": 762,
            "_view_module": "@jupyter-widgets/controls",
            "_model_module_version": "1.5.0",
            "value": 762,
            "_view_count": null,
            "_view_module_version": "1.5.0",
            "orientation": "horizontal",
            "min": 0,
            "description_tooltip": null,
            "_model_module": "@jupyter-widgets/controls",
            "layout": "IPY_MODEL_7fc793692f8d445fad29a3cf2b41e278"
          }
        },
        "87e45a03cce44906b7ca5959ba8df1e8": {
          "model_module": "@jupyter-widgets/controls",
          "model_name": "HTMLModel",
          "state": {
            "_view_name": "HTMLView",
            "style": "IPY_MODEL_f1a612cbca66484599dc051899bd2d6c",
            "_dom_classes": [],
            "description": "",
            "_model_name": "HTMLModel",
            "placeholder": "​",
            "_view_module": "@jupyter-widgets/controls",
            "_model_module_version": "1.5.0",
            "value": " 762/762 [00:00&lt;00:00, 1.37kB/s]",
            "_view_count": null,
            "_view_module_version": "1.5.0",
            "description_tooltip": null,
            "_model_module": "@jupyter-widgets/controls",
            "layout": "IPY_MODEL_df0f6ac427f84139beda5418a549de5d"
          }
        },
        "8d4c542b6eb441e28ccdd57fc9f0ffe2": {
          "model_module": "@jupyter-widgets/controls",
          "model_name": "ProgressStyleModel",
          "state": {
            "_view_name": "StyleView",
            "_model_name": "ProgressStyleModel",
            "description_width": "initial",
            "_view_module": "@jupyter-widgets/base",
            "_model_module_version": "1.5.0",
            "_view_count": null,
            "_view_module_version": "1.2.0",
            "bar_color": null,
            "_model_module": "@jupyter-widgets/controls"
          }
        },
        "7fc793692f8d445fad29a3cf2b41e278": {
          "model_module": "@jupyter-widgets/base",
          "model_name": "LayoutModel",
          "state": {
            "_view_name": "LayoutView",
            "grid_template_rows": null,
            "right": null,
            "justify_content": null,
            "_view_module": "@jupyter-widgets/base",
            "overflow": null,
            "_model_module_version": "1.2.0",
            "_view_count": null,
            "flex_flow": null,
            "width": null,
            "min_width": null,
            "border": null,
            "align_items": null,
            "bottom": null,
            "_model_module": "@jupyter-widgets/base",
            "top": null,
            "grid_column": null,
            "overflow_y": null,
            "overflow_x": null,
            "grid_auto_flow": null,
            "grid_area": null,
            "grid_template_columns": null,
            "flex": null,
            "_model_name": "LayoutModel",
            "justify_items": null,
            "grid_row": null,
            "max_height": null,
            "align_content": null,
            "visibility": null,
            "align_self": null,
            "height": null,
            "min_height": null,
            "padding": null,
            "grid_auto_rows": null,
            "grid_gap": null,
            "max_width": null,
            "order": null,
            "_view_module_version": "1.2.0",
            "grid_template_areas": null,
            "object_position": null,
            "object_fit": null,
            "grid_auto_columns": null,
            "margin": null,
            "display": null,
            "left": null
          }
        },
        "f1a612cbca66484599dc051899bd2d6c": {
          "model_module": "@jupyter-widgets/controls",
          "model_name": "DescriptionStyleModel",
          "state": {
            "_view_name": "StyleView",
            "_model_name": "DescriptionStyleModel",
            "description_width": "",
            "_view_module": "@jupyter-widgets/base",
            "_model_module_version": "1.5.0",
            "_view_count": null,
            "_view_module_version": "1.2.0",
            "_model_module": "@jupyter-widgets/controls"
          }
        },
        "df0f6ac427f84139beda5418a549de5d": {
          "model_module": "@jupyter-widgets/base",
          "model_name": "LayoutModel",
          "state": {
            "_view_name": "LayoutView",
            "grid_template_rows": null,
            "right": null,
            "justify_content": null,
            "_view_module": "@jupyter-widgets/base",
            "overflow": null,
            "_model_module_version": "1.2.0",
            "_view_count": null,
            "flex_flow": null,
            "width": null,
            "min_width": null,
            "border": null,
            "align_items": null,
            "bottom": null,
            "_model_module": "@jupyter-widgets/base",
            "top": null,
            "grid_column": null,
            "overflow_y": null,
            "overflow_x": null,
            "grid_auto_flow": null,
            "grid_area": null,
            "grid_template_columns": null,
            "flex": null,
            "_model_name": "LayoutModel",
            "justify_items": null,
            "grid_row": null,
            "max_height": null,
            "align_content": null,
            "visibility": null,
            "align_self": null,
            "height": null,
            "min_height": null,
            "padding": null,
            "grid_auto_rows": null,
            "grid_gap": null,
            "max_width": null,
            "order": null,
            "_view_module_version": "1.2.0",
            "grid_template_areas": null,
            "object_position": null,
            "object_fit": null,
            "grid_auto_columns": null,
            "margin": null,
            "display": null,
            "left": null
          }
        },
        "87779f3183b740c6a321b70785aae269": {
          "model_module": "@jupyter-widgets/controls",
          "model_name": "HBoxModel",
          "state": {
            "_view_name": "HBoxView",
            "_dom_classes": [],
            "_model_name": "HBoxModel",
            "_view_module": "@jupyter-widgets/controls",
            "_model_module_version": "1.5.0",
            "_view_count": null,
            "_view_module_version": "1.5.0",
            "box_style": "",
            "layout": "IPY_MODEL_324554c1747e46cc914107c0a09f7922",
            "_model_module": "@jupyter-widgets/controls",
            "children": [
              "IPY_MODEL_14718a5a4b6b4ad9bdf833fee0a7d72a",
              "IPY_MODEL_caa8771b8c5047779fd2912e81ebee59"
            ]
          }
        },
        "324554c1747e46cc914107c0a09f7922": {
          "model_module": "@jupyter-widgets/base",
          "model_name": "LayoutModel",
          "state": {
            "_view_name": "LayoutView",
            "grid_template_rows": null,
            "right": null,
            "justify_content": null,
            "_view_module": "@jupyter-widgets/base",
            "overflow": null,
            "_model_module_version": "1.2.0",
            "_view_count": null,
            "flex_flow": null,
            "width": null,
            "min_width": null,
            "border": null,
            "align_items": null,
            "bottom": null,
            "_model_module": "@jupyter-widgets/base",
            "top": null,
            "grid_column": null,
            "overflow_y": null,
            "overflow_x": null,
            "grid_auto_flow": null,
            "grid_area": null,
            "grid_template_columns": null,
            "flex": null,
            "_model_name": "LayoutModel",
            "justify_items": null,
            "grid_row": null,
            "max_height": null,
            "align_content": null,
            "visibility": null,
            "align_self": null,
            "height": null,
            "min_height": null,
            "padding": null,
            "grid_auto_rows": null,
            "grid_gap": null,
            "max_width": null,
            "order": null,
            "_view_module_version": "1.2.0",
            "grid_template_areas": null,
            "object_position": null,
            "object_fit": null,
            "grid_auto_columns": null,
            "margin": null,
            "display": null,
            "left": null
          }
        },
        "14718a5a4b6b4ad9bdf833fee0a7d72a": {
          "model_module": "@jupyter-widgets/controls",
          "model_name": "FloatProgressModel",
          "state": {
            "_view_name": "ProgressView",
            "style": "IPY_MODEL_cdad0c88613c4ea8b7e2d1420da1cb50",
            "_dom_classes": [],
            "description": "Downloading: 100%",
            "_model_name": "FloatProgressModel",
            "bar_style": "success",
            "max": 1338740706,
            "_view_module": "@jupyter-widgets/controls",
            "_model_module_version": "1.5.0",
            "value": 1338740706,
            "_view_count": null,
            "_view_module_version": "1.5.0",
            "orientation": "horizontal",
            "min": 0,
            "description_tooltip": null,
            "_model_module": "@jupyter-widgets/controls",
            "layout": "IPY_MODEL_f5af00d019af4d89b06eb21ddf692bd0"
          }
        },
        "caa8771b8c5047779fd2912e81ebee59": {
          "model_module": "@jupyter-widgets/controls",
          "model_name": "HTMLModel",
          "state": {
            "_view_name": "HTMLView",
            "style": "IPY_MODEL_91fa158d66d6406ab1813e4c1c5f8216",
            "_dom_classes": [],
            "description": "",
            "_model_name": "HTMLModel",
            "placeholder": "​",
            "_view_module": "@jupyter-widgets/controls",
            "_model_module_version": "1.5.0",
            "value": " 1.34G/1.34G [00:44&lt;00:00, 30.0MB/s]",
            "_view_count": null,
            "_view_module_version": "1.5.0",
            "description_tooltip": null,
            "_model_module": "@jupyter-widgets/controls",
            "layout": "IPY_MODEL_b4063eac150c4604a1a092c343344c78"
          }
        },
        "cdad0c88613c4ea8b7e2d1420da1cb50": {
          "model_module": "@jupyter-widgets/controls",
          "model_name": "ProgressStyleModel",
          "state": {
            "_view_name": "StyleView",
            "_model_name": "ProgressStyleModel",
            "description_width": "initial",
            "_view_module": "@jupyter-widgets/base",
            "_model_module_version": "1.5.0",
            "_view_count": null,
            "_view_module_version": "1.2.0",
            "bar_color": null,
            "_model_module": "@jupyter-widgets/controls"
          }
        },
        "f5af00d019af4d89b06eb21ddf692bd0": {
          "model_module": "@jupyter-widgets/base",
          "model_name": "LayoutModel",
          "state": {
            "_view_name": "LayoutView",
            "grid_template_rows": null,
            "right": null,
            "justify_content": null,
            "_view_module": "@jupyter-widgets/base",
            "overflow": null,
            "_model_module_version": "1.2.0",
            "_view_count": null,
            "flex_flow": null,
            "width": null,
            "min_width": null,
            "border": null,
            "align_items": null,
            "bottom": null,
            "_model_module": "@jupyter-widgets/base",
            "top": null,
            "grid_column": null,
            "overflow_y": null,
            "overflow_x": null,
            "grid_auto_flow": null,
            "grid_area": null,
            "grid_template_columns": null,
            "flex": null,
            "_model_name": "LayoutModel",
            "justify_items": null,
            "grid_row": null,
            "max_height": null,
            "align_content": null,
            "visibility": null,
            "align_self": null,
            "height": null,
            "min_height": null,
            "padding": null,
            "grid_auto_rows": null,
            "grid_gap": null,
            "max_width": null,
            "order": null,
            "_view_module_version": "1.2.0",
            "grid_template_areas": null,
            "object_position": null,
            "object_fit": null,
            "grid_auto_columns": null,
            "margin": null,
            "display": null,
            "left": null
          }
        },
        "91fa158d66d6406ab1813e4c1c5f8216": {
          "model_module": "@jupyter-widgets/controls",
          "model_name": "DescriptionStyleModel",
          "state": {
            "_view_name": "StyleView",
            "_model_name": "DescriptionStyleModel",
            "description_width": "",
            "_view_module": "@jupyter-widgets/base",
            "_model_module_version": "1.5.0",
            "_view_count": null,
            "_view_module_version": "1.2.0",
            "_model_module": "@jupyter-widgets/controls"
          }
        },
        "b4063eac150c4604a1a092c343344c78": {
          "model_module": "@jupyter-widgets/base",
          "model_name": "LayoutModel",
          "state": {
            "_view_name": "LayoutView",
            "grid_template_rows": null,
            "right": null,
            "justify_content": null,
            "_view_module": "@jupyter-widgets/base",
            "overflow": null,
            "_model_module_version": "1.2.0",
            "_view_count": null,
            "flex_flow": null,
            "width": null,
            "min_width": null,
            "border": null,
            "align_items": null,
            "bottom": null,
            "_model_module": "@jupyter-widgets/base",
            "top": null,
            "grid_column": null,
            "overflow_y": null,
            "overflow_x": null,
            "grid_auto_flow": null,
            "grid_area": null,
            "grid_template_columns": null,
            "flex": null,
            "_model_name": "LayoutModel",
            "justify_items": null,
            "grid_row": null,
            "max_height": null,
            "align_content": null,
            "visibility": null,
            "align_self": null,
            "height": null,
            "min_height": null,
            "padding": null,
            "grid_auto_rows": null,
            "grid_gap": null,
            "max_width": null,
            "order": null,
            "_view_module_version": "1.2.0",
            "grid_template_areas": null,
            "object_position": null,
            "object_fit": null,
            "grid_auto_columns": null,
            "margin": null,
            "display": null,
            "left": null
          }
        },
        "f0cf3addd74a44eea3bb2ba4f7a565fa": {
          "model_module": "@jupyter-widgets/controls",
          "model_name": "HBoxModel",
          "state": {
            "_view_name": "HBoxView",
            "_dom_classes": [],
            "_model_name": "HBoxModel",
            "_view_module": "@jupyter-widgets/controls",
            "_model_module_version": "1.5.0",
            "_view_count": null,
            "_view_module_version": "1.5.0",
            "box_style": "",
            "layout": "IPY_MODEL_0135fa5a2df242a6ac2d8661df36ef2c",
            "_model_module": "@jupyter-widgets/controls",
            "children": [
              "IPY_MODEL_f3637c8f0a9c426e93a93c653e3a7f3c",
              "IPY_MODEL_fad06cd32e884a6492e9cbdfd84f7a4b"
            ]
          }
        },
        "0135fa5a2df242a6ac2d8661df36ef2c": {
          "model_module": "@jupyter-widgets/base",
          "model_name": "LayoutModel",
          "state": {
            "_view_name": "LayoutView",
            "grid_template_rows": null,
            "right": null,
            "justify_content": null,
            "_view_module": "@jupyter-widgets/base",
            "overflow": null,
            "_model_module_version": "1.2.0",
            "_view_count": null,
            "flex_flow": null,
            "width": null,
            "min_width": null,
            "border": null,
            "align_items": null,
            "bottom": null,
            "_model_module": "@jupyter-widgets/base",
            "top": null,
            "grid_column": null,
            "overflow_y": null,
            "overflow_x": null,
            "grid_auto_flow": null,
            "grid_area": null,
            "grid_template_columns": null,
            "flex": null,
            "_model_name": "LayoutModel",
            "justify_items": null,
            "grid_row": null,
            "max_height": null,
            "align_content": null,
            "visibility": null,
            "align_self": null,
            "height": null,
            "min_height": null,
            "padding": null,
            "grid_auto_rows": null,
            "grid_gap": null,
            "max_width": null,
            "order": null,
            "_view_module_version": "1.2.0",
            "grid_template_areas": null,
            "object_position": null,
            "object_fit": null,
            "grid_auto_columns": null,
            "margin": null,
            "display": null,
            "left": null
          }
        },
        "f3637c8f0a9c426e93a93c653e3a7f3c": {
          "model_module": "@jupyter-widgets/controls",
          "model_name": "FloatProgressModel",
          "state": {
            "_view_name": "ProgressView",
            "style": "IPY_MODEL_8a1cb878e9544eb0917d07a8d0f0b38e",
            "_dom_classes": [],
            "description": "Downloading: 100%",
            "_model_name": "FloatProgressModel",
            "bar_style": "success",
            "max": 570,
            "_view_module": "@jupyter-widgets/controls",
            "_model_module_version": "1.5.0",
            "value": 570,
            "_view_count": null,
            "_view_module_version": "1.5.0",
            "orientation": "horizontal",
            "min": 0,
            "description_tooltip": null,
            "_model_module": "@jupyter-widgets/controls",
            "layout": "IPY_MODEL_8c1d3f4e99e3469d8e96e6028b71400c"
          }
        },
        "fad06cd32e884a6492e9cbdfd84f7a4b": {
          "model_module": "@jupyter-widgets/controls",
          "model_name": "HTMLModel",
          "state": {
            "_view_name": "HTMLView",
            "style": "IPY_MODEL_adc53aefe6004c0f9fa2a252aac4d11e",
            "_dom_classes": [],
            "description": "",
            "_model_name": "HTMLModel",
            "placeholder": "​",
            "_view_module": "@jupyter-widgets/controls",
            "_model_module_version": "1.5.0",
            "value": " 570/570 [00:00&lt;00:00, 1.45kB/s]",
            "_view_count": null,
            "_view_module_version": "1.5.0",
            "description_tooltip": null,
            "_model_module": "@jupyter-widgets/controls",
            "layout": "IPY_MODEL_52324f4c0eeb4303a7f4ee929edd3fb9"
          }
        },
        "8a1cb878e9544eb0917d07a8d0f0b38e": {
          "model_module": "@jupyter-widgets/controls",
          "model_name": "ProgressStyleModel",
          "state": {
            "_view_name": "StyleView",
            "_model_name": "ProgressStyleModel",
            "description_width": "initial",
            "_view_module": "@jupyter-widgets/base",
            "_model_module_version": "1.5.0",
            "_view_count": null,
            "_view_module_version": "1.2.0",
            "bar_color": null,
            "_model_module": "@jupyter-widgets/controls"
          }
        },
        "8c1d3f4e99e3469d8e96e6028b71400c": {
          "model_module": "@jupyter-widgets/base",
          "model_name": "LayoutModel",
          "state": {
            "_view_name": "LayoutView",
            "grid_template_rows": null,
            "right": null,
            "justify_content": null,
            "_view_module": "@jupyter-widgets/base",
            "overflow": null,
            "_model_module_version": "1.2.0",
            "_view_count": null,
            "flex_flow": null,
            "width": null,
            "min_width": null,
            "border": null,
            "align_items": null,
            "bottom": null,
            "_model_module": "@jupyter-widgets/base",
            "top": null,
            "grid_column": null,
            "overflow_y": null,
            "overflow_x": null,
            "grid_auto_flow": null,
            "grid_area": null,
            "grid_template_columns": null,
            "flex": null,
            "_model_name": "LayoutModel",
            "justify_items": null,
            "grid_row": null,
            "max_height": null,
            "align_content": null,
            "visibility": null,
            "align_self": null,
            "height": null,
            "min_height": null,
            "padding": null,
            "grid_auto_rows": null,
            "grid_gap": null,
            "max_width": null,
            "order": null,
            "_view_module_version": "1.2.0",
            "grid_template_areas": null,
            "object_position": null,
            "object_fit": null,
            "grid_auto_columns": null,
            "margin": null,
            "display": null,
            "left": null
          }
        },
        "adc53aefe6004c0f9fa2a252aac4d11e": {
          "model_module": "@jupyter-widgets/controls",
          "model_name": "DescriptionStyleModel",
          "state": {
            "_view_name": "StyleView",
            "_model_name": "DescriptionStyleModel",
            "description_width": "",
            "_view_module": "@jupyter-widgets/base",
            "_model_module_version": "1.5.0",
            "_view_count": null,
            "_view_module_version": "1.2.0",
            "_model_module": "@jupyter-widgets/controls"
          }
        },
        "52324f4c0eeb4303a7f4ee929edd3fb9": {
          "model_module": "@jupyter-widgets/base",
          "model_name": "LayoutModel",
          "state": {
            "_view_name": "LayoutView",
            "grid_template_rows": null,
            "right": null,
            "justify_content": null,
            "_view_module": "@jupyter-widgets/base",
            "overflow": null,
            "_model_module_version": "1.2.0",
            "_view_count": null,
            "flex_flow": null,
            "width": null,
            "min_width": null,
            "border": null,
            "align_items": null,
            "bottom": null,
            "_model_module": "@jupyter-widgets/base",
            "top": null,
            "grid_column": null,
            "overflow_y": null,
            "overflow_x": null,
            "grid_auto_flow": null,
            "grid_area": null,
            "grid_template_columns": null,
            "flex": null,
            "_model_name": "LayoutModel",
            "justify_items": null,
            "grid_row": null,
            "max_height": null,
            "align_content": null,
            "visibility": null,
            "align_self": null,
            "height": null,
            "min_height": null,
            "padding": null,
            "grid_auto_rows": null,
            "grid_gap": null,
            "max_width": null,
            "order": null,
            "_view_module_version": "1.2.0",
            "grid_template_areas": null,
            "object_position": null,
            "object_fit": null,
            "grid_auto_columns": null,
            "margin": null,
            "display": null,
            "left": null
          }
        },
        "88047e554fc244c9892531a3a7c11824": {
          "model_module": "@jupyter-widgets/controls",
          "model_name": "HBoxModel",
          "state": {
            "_view_name": "HBoxView",
            "_dom_classes": [],
            "_model_name": "HBoxModel",
            "_view_module": "@jupyter-widgets/controls",
            "_model_module_version": "1.5.0",
            "_view_count": null,
            "_view_module_version": "1.5.0",
            "box_style": "",
            "layout": "IPY_MODEL_2aca36b81c6f4bb3b4278cf018b600dc",
            "_model_module": "@jupyter-widgets/controls",
            "children": [
              "IPY_MODEL_ea8e551f29bd4c6f8f4549e978651602",
              "IPY_MODEL_20323dc84d1842888181688cbf24e4cd"
            ]
          }
        },
        "2aca36b81c6f4bb3b4278cf018b600dc": {
          "model_module": "@jupyter-widgets/base",
          "model_name": "LayoutModel",
          "state": {
            "_view_name": "LayoutView",
            "grid_template_rows": null,
            "right": null,
            "justify_content": null,
            "_view_module": "@jupyter-widgets/base",
            "overflow": null,
            "_model_module_version": "1.2.0",
            "_view_count": null,
            "flex_flow": null,
            "width": null,
            "min_width": null,
            "border": null,
            "align_items": null,
            "bottom": null,
            "_model_module": "@jupyter-widgets/base",
            "top": null,
            "grid_column": null,
            "overflow_y": null,
            "overflow_x": null,
            "grid_auto_flow": null,
            "grid_area": null,
            "grid_template_columns": null,
            "flex": null,
            "_model_name": "LayoutModel",
            "justify_items": null,
            "grid_row": null,
            "max_height": null,
            "align_content": null,
            "visibility": null,
            "align_self": null,
            "height": null,
            "min_height": null,
            "padding": null,
            "grid_auto_rows": null,
            "grid_gap": null,
            "max_width": null,
            "order": null,
            "_view_module_version": "1.2.0",
            "grid_template_areas": null,
            "object_position": null,
            "object_fit": null,
            "grid_auto_columns": null,
            "margin": null,
            "display": null,
            "left": null
          }
        },
        "ea8e551f29bd4c6f8f4549e978651602": {
          "model_module": "@jupyter-widgets/controls",
          "model_name": "FloatProgressModel",
          "state": {
            "_view_name": "ProgressView",
            "style": "IPY_MODEL_db3387ddac074b519b2ab6fe400c4eec",
            "_dom_classes": [],
            "description": "Downloading: 100%",
            "_model_name": "FloatProgressModel",
            "bar_style": "success",
            "max": 435779157,
            "_view_module": "@jupyter-widgets/controls",
            "_model_module_version": "1.5.0",
            "value": 435779157,
            "_view_count": null,
            "_view_module_version": "1.5.0",
            "orientation": "horizontal",
            "min": 0,
            "description_tooltip": null,
            "_model_module": "@jupyter-widgets/controls",
            "layout": "IPY_MODEL_e545077e22094924bdd906abed8ae2ba"
          }
        },
        "20323dc84d1842888181688cbf24e4cd": {
          "model_module": "@jupyter-widgets/controls",
          "model_name": "HTMLModel",
          "state": {
            "_view_name": "HTMLView",
            "style": "IPY_MODEL_a47e53f4ac854c93a4ace2e212b73f68",
            "_dom_classes": [],
            "description": "",
            "_model_name": "HTMLModel",
            "placeholder": "​",
            "_view_module": "@jupyter-widgets/controls",
            "_model_module_version": "1.5.0",
            "value": " 436M/436M [00:19&lt;00:00, 22.8MB/s]",
            "_view_count": null,
            "_view_module_version": "1.5.0",
            "description_tooltip": null,
            "_model_module": "@jupyter-widgets/controls",
            "layout": "IPY_MODEL_e9be2406688d4af59e62ceb8a9e3b444"
          }
        },
        "db3387ddac074b519b2ab6fe400c4eec": {
          "model_module": "@jupyter-widgets/controls",
          "model_name": "ProgressStyleModel",
          "state": {
            "_view_name": "StyleView",
            "_model_name": "ProgressStyleModel",
            "description_width": "initial",
            "_view_module": "@jupyter-widgets/base",
            "_model_module_version": "1.5.0",
            "_view_count": null,
            "_view_module_version": "1.2.0",
            "bar_color": null,
            "_model_module": "@jupyter-widgets/controls"
          }
        },
        "e545077e22094924bdd906abed8ae2ba": {
          "model_module": "@jupyter-widgets/base",
          "model_name": "LayoutModel",
          "state": {
            "_view_name": "LayoutView",
            "grid_template_rows": null,
            "right": null,
            "justify_content": null,
            "_view_module": "@jupyter-widgets/base",
            "overflow": null,
            "_model_module_version": "1.2.0",
            "_view_count": null,
            "flex_flow": null,
            "width": null,
            "min_width": null,
            "border": null,
            "align_items": null,
            "bottom": null,
            "_model_module": "@jupyter-widgets/base",
            "top": null,
            "grid_column": null,
            "overflow_y": null,
            "overflow_x": null,
            "grid_auto_flow": null,
            "grid_area": null,
            "grid_template_columns": null,
            "flex": null,
            "_model_name": "LayoutModel",
            "justify_items": null,
            "grid_row": null,
            "max_height": null,
            "align_content": null,
            "visibility": null,
            "align_self": null,
            "height": null,
            "min_height": null,
            "padding": null,
            "grid_auto_rows": null,
            "grid_gap": null,
            "max_width": null,
            "order": null,
            "_view_module_version": "1.2.0",
            "grid_template_areas": null,
            "object_position": null,
            "object_fit": null,
            "grid_auto_columns": null,
            "margin": null,
            "display": null,
            "left": null
          }
        },
        "a47e53f4ac854c93a4ace2e212b73f68": {
          "model_module": "@jupyter-widgets/controls",
          "model_name": "DescriptionStyleModel",
          "state": {
            "_view_name": "StyleView",
            "_model_name": "DescriptionStyleModel",
            "description_width": "",
            "_view_module": "@jupyter-widgets/base",
            "_model_module_version": "1.5.0",
            "_view_count": null,
            "_view_module_version": "1.2.0",
            "_model_module": "@jupyter-widgets/controls"
          }
        },
        "e9be2406688d4af59e62ceb8a9e3b444": {
          "model_module": "@jupyter-widgets/base",
          "model_name": "LayoutModel",
          "state": {
            "_view_name": "LayoutView",
            "grid_template_rows": null,
            "right": null,
            "justify_content": null,
            "_view_module": "@jupyter-widgets/base",
            "overflow": null,
            "_model_module_version": "1.2.0",
            "_view_count": null,
            "flex_flow": null,
            "width": null,
            "min_width": null,
            "border": null,
            "align_items": null,
            "bottom": null,
            "_model_module": "@jupyter-widgets/base",
            "top": null,
            "grid_column": null,
            "overflow_y": null,
            "overflow_x": null,
            "grid_auto_flow": null,
            "grid_area": null,
            "grid_template_columns": null,
            "flex": null,
            "_model_name": "LayoutModel",
            "justify_items": null,
            "grid_row": null,
            "max_height": null,
            "align_content": null,
            "visibility": null,
            "align_self": null,
            "height": null,
            "min_height": null,
            "padding": null,
            "grid_auto_rows": null,
            "grid_gap": null,
            "max_width": null,
            "order": null,
            "_view_module_version": "1.2.0",
            "grid_template_areas": null,
            "object_position": null,
            "object_fit": null,
            "grid_auto_columns": null,
            "margin": null,
            "display": null,
            "left": null
          }
        },
        "a11ca396ad8a4266a3189f5d99c430a7": {
          "model_module": "@jupyter-widgets/controls",
          "model_name": "HBoxModel",
          "state": {
            "_view_name": "HBoxView",
            "_dom_classes": [],
            "_model_name": "HBoxModel",
            "_view_module": "@jupyter-widgets/controls",
            "_model_module_version": "1.5.0",
            "_view_count": null,
            "_view_module_version": "1.5.0",
            "box_style": "",
            "layout": "IPY_MODEL_b5621b28579442e190acc87a2530915e",
            "_model_module": "@jupyter-widgets/controls",
            "children": [
              "IPY_MODEL_ac4ae44aa8644c5f874be76c44f2b24d",
              "IPY_MODEL_c6a0e50e858344d7a626885707708744"
            ]
          }
        },
        "b5621b28579442e190acc87a2530915e": {
          "model_module": "@jupyter-widgets/base",
          "model_name": "LayoutModel",
          "state": {
            "_view_name": "LayoutView",
            "grid_template_rows": null,
            "right": null,
            "justify_content": null,
            "_view_module": "@jupyter-widgets/base",
            "overflow": null,
            "_model_module_version": "1.2.0",
            "_view_count": null,
            "flex_flow": null,
            "width": null,
            "min_width": null,
            "border": null,
            "align_items": null,
            "bottom": null,
            "_model_module": "@jupyter-widgets/base",
            "top": null,
            "grid_column": null,
            "overflow_y": null,
            "overflow_x": null,
            "grid_auto_flow": null,
            "grid_area": null,
            "grid_template_columns": null,
            "flex": null,
            "_model_name": "LayoutModel",
            "justify_items": null,
            "grid_row": null,
            "max_height": null,
            "align_content": null,
            "visibility": null,
            "align_self": null,
            "height": null,
            "min_height": null,
            "padding": null,
            "grid_auto_rows": null,
            "grid_gap": null,
            "max_width": null,
            "order": null,
            "_view_module_version": "1.2.0",
            "grid_template_areas": null,
            "object_position": null,
            "object_fit": null,
            "grid_auto_columns": null,
            "margin": null,
            "display": null,
            "left": null
          }
        },
        "ac4ae44aa8644c5f874be76c44f2b24d": {
          "model_module": "@jupyter-widgets/controls",
          "model_name": "FloatProgressModel",
          "state": {
            "_view_name": "ProgressView",
            "style": "IPY_MODEL_642b2ad434324911b7726c676d5041bb",
            "_dom_classes": [],
            "description": "Downloading: 100%",
            "_model_name": "FloatProgressModel",
            "bar_style": "success",
            "max": 625,
            "_view_module": "@jupyter-widgets/controls",
            "_model_module_version": "1.5.0",
            "value": 625,
            "_view_count": null,
            "_view_module_version": "1.5.0",
            "orientation": "horizontal",
            "min": 0,
            "description_tooltip": null,
            "_model_module": "@jupyter-widgets/controls",
            "layout": "IPY_MODEL_6c822f63def248a690836f0f22ec1e4d"
          }
        },
        "c6a0e50e858344d7a626885707708744": {
          "model_module": "@jupyter-widgets/controls",
          "model_name": "HTMLModel",
          "state": {
            "_view_name": "HTMLView",
            "style": "IPY_MODEL_4752bd52589a44b0aca94379d41c0360",
            "_dom_classes": [],
            "description": "",
            "_model_name": "HTMLModel",
            "placeholder": "​",
            "_view_module": "@jupyter-widgets/controls",
            "_model_module_version": "1.5.0",
            "value": " 625/625 [00:00&lt;00:00, 1.04kB/s]",
            "_view_count": null,
            "_view_module_version": "1.5.0",
            "description_tooltip": null,
            "_model_module": "@jupyter-widgets/controls",
            "layout": "IPY_MODEL_706196a91da141039c9aab0b505253c5"
          }
        },
        "642b2ad434324911b7726c676d5041bb": {
          "model_module": "@jupyter-widgets/controls",
          "model_name": "ProgressStyleModel",
          "state": {
            "_view_name": "StyleView",
            "_model_name": "ProgressStyleModel",
            "description_width": "initial",
            "_view_module": "@jupyter-widgets/base",
            "_model_module_version": "1.5.0",
            "_view_count": null,
            "_view_module_version": "1.2.0",
            "bar_color": null,
            "_model_module": "@jupyter-widgets/controls"
          }
        },
        "6c822f63def248a690836f0f22ec1e4d": {
          "model_module": "@jupyter-widgets/base",
          "model_name": "LayoutModel",
          "state": {
            "_view_name": "LayoutView",
            "grid_template_rows": null,
            "right": null,
            "justify_content": null,
            "_view_module": "@jupyter-widgets/base",
            "overflow": null,
            "_model_module_version": "1.2.0",
            "_view_count": null,
            "flex_flow": null,
            "width": null,
            "min_width": null,
            "border": null,
            "align_items": null,
            "bottom": null,
            "_model_module": "@jupyter-widgets/base",
            "top": null,
            "grid_column": null,
            "overflow_y": null,
            "overflow_x": null,
            "grid_auto_flow": null,
            "grid_area": null,
            "grid_template_columns": null,
            "flex": null,
            "_model_name": "LayoutModel",
            "justify_items": null,
            "grid_row": null,
            "max_height": null,
            "align_content": null,
            "visibility": null,
            "align_self": null,
            "height": null,
            "min_height": null,
            "padding": null,
            "grid_auto_rows": null,
            "grid_gap": null,
            "max_width": null,
            "order": null,
            "_view_module_version": "1.2.0",
            "grid_template_areas": null,
            "object_position": null,
            "object_fit": null,
            "grid_auto_columns": null,
            "margin": null,
            "display": null,
            "left": null
          }
        },
        "4752bd52589a44b0aca94379d41c0360": {
          "model_module": "@jupyter-widgets/controls",
          "model_name": "DescriptionStyleModel",
          "state": {
            "_view_name": "StyleView",
            "_model_name": "DescriptionStyleModel",
            "description_width": "",
            "_view_module": "@jupyter-widgets/base",
            "_model_module_version": "1.5.0",
            "_view_count": null,
            "_view_module_version": "1.2.0",
            "_model_module": "@jupyter-widgets/controls"
          }
        },
        "706196a91da141039c9aab0b505253c5": {
          "model_module": "@jupyter-widgets/base",
          "model_name": "LayoutModel",
          "state": {
            "_view_name": "LayoutView",
            "grid_template_rows": null,
            "right": null,
            "justify_content": null,
            "_view_module": "@jupyter-widgets/base",
            "overflow": null,
            "_model_module_version": "1.2.0",
            "_view_count": null,
            "flex_flow": null,
            "width": null,
            "min_width": null,
            "border": null,
            "align_items": null,
            "bottom": null,
            "_model_module": "@jupyter-widgets/base",
            "top": null,
            "grid_column": null,
            "overflow_y": null,
            "overflow_x": null,
            "grid_auto_flow": null,
            "grid_area": null,
            "grid_template_columns": null,
            "flex": null,
            "_model_name": "LayoutModel",
            "justify_items": null,
            "grid_row": null,
            "max_height": null,
            "align_content": null,
            "visibility": null,
            "align_self": null,
            "height": null,
            "min_height": null,
            "padding": null,
            "grid_auto_rows": null,
            "grid_gap": null,
            "max_width": null,
            "order": null,
            "_view_module_version": "1.2.0",
            "grid_template_areas": null,
            "object_position": null,
            "object_fit": null,
            "grid_auto_columns": null,
            "margin": null,
            "display": null,
            "left": null
          }
        },
        "5f01bbbd19ad4cdd991e62a1d1b1eca1": {
          "model_module": "@jupyter-widgets/controls",
          "model_name": "HBoxModel",
          "state": {
            "_view_name": "HBoxView",
            "_dom_classes": [],
            "_model_name": "HBoxModel",
            "_view_module": "@jupyter-widgets/controls",
            "_model_module_version": "1.5.0",
            "_view_count": null,
            "_view_module_version": "1.5.0",
            "box_style": "",
            "layout": "IPY_MODEL_1ccbfd8f22e24b8a861cd4ef21a96400",
            "_model_module": "@jupyter-widgets/controls",
            "children": [
              "IPY_MODEL_77d005071d694cd4aa7b078c6f1f310f",
              "IPY_MODEL_570d7af6cb98477cb6ba8a39e28504c7"
            ]
          }
        },
        "1ccbfd8f22e24b8a861cd4ef21a96400": {
          "model_module": "@jupyter-widgets/base",
          "model_name": "LayoutModel",
          "state": {
            "_view_name": "LayoutView",
            "grid_template_rows": null,
            "right": null,
            "justify_content": null,
            "_view_module": "@jupyter-widgets/base",
            "overflow": null,
            "_model_module_version": "1.2.0",
            "_view_count": null,
            "flex_flow": null,
            "width": null,
            "min_width": null,
            "border": null,
            "align_items": null,
            "bottom": null,
            "_model_module": "@jupyter-widgets/base",
            "top": null,
            "grid_column": null,
            "overflow_y": null,
            "overflow_x": null,
            "grid_auto_flow": null,
            "grid_area": null,
            "grid_template_columns": null,
            "flex": null,
            "_model_name": "LayoutModel",
            "justify_items": null,
            "grid_row": null,
            "max_height": null,
            "align_content": null,
            "visibility": null,
            "align_self": null,
            "height": null,
            "min_height": null,
            "padding": null,
            "grid_auto_rows": null,
            "grid_gap": null,
            "max_width": null,
            "order": null,
            "_view_module_version": "1.2.0",
            "grid_template_areas": null,
            "object_position": null,
            "object_fit": null,
            "grid_auto_columns": null,
            "margin": null,
            "display": null,
            "left": null
          }
        },
        "77d005071d694cd4aa7b078c6f1f310f": {
          "model_module": "@jupyter-widgets/controls",
          "model_name": "FloatProgressModel",
          "state": {
            "_view_name": "ProgressView",
            "style": "IPY_MODEL_1c65f0e32fe84af090324c648979772a",
            "_dom_classes": [],
            "description": "Downloading: 100%",
            "_model_name": "FloatProgressModel",
            "bar_style": "success",
            "max": 714314041,
            "_view_module": "@jupyter-widgets/controls",
            "_model_module_version": "1.5.0",
            "value": 714314041,
            "_view_count": null,
            "_view_module_version": "1.5.0",
            "orientation": "horizontal",
            "min": 0,
            "description_tooltip": null,
            "_model_module": "@jupyter-widgets/controls",
            "layout": "IPY_MODEL_405862ae4ae8450a8dd6c374830f3021"
          }
        },
        "570d7af6cb98477cb6ba8a39e28504c7": {
          "model_module": "@jupyter-widgets/controls",
          "model_name": "HTMLModel",
          "state": {
            "_view_name": "HTMLView",
            "style": "IPY_MODEL_d0fefaab1aeb4884816cc84ebc248542",
            "_dom_classes": [],
            "description": "",
            "_model_name": "HTMLModel",
            "placeholder": "​",
            "_view_module": "@jupyter-widgets/controls",
            "_model_module_version": "1.5.0",
            "value": " 714M/714M [00:32&lt;00:00, 22.1MB/s]",
            "_view_count": null,
            "_view_module_version": "1.5.0",
            "description_tooltip": null,
            "_model_module": "@jupyter-widgets/controls",
            "layout": "IPY_MODEL_7550bb24f95b4b52ad315dd24e3862fd"
          }
        },
        "1c65f0e32fe84af090324c648979772a": {
          "model_module": "@jupyter-widgets/controls",
          "model_name": "ProgressStyleModel",
          "state": {
            "_view_name": "StyleView",
            "_model_name": "ProgressStyleModel",
            "description_width": "initial",
            "_view_module": "@jupyter-widgets/base",
            "_model_module_version": "1.5.0",
            "_view_count": null,
            "_view_module_version": "1.2.0",
            "bar_color": null,
            "_model_module": "@jupyter-widgets/controls"
          }
        },
        "405862ae4ae8450a8dd6c374830f3021": {
          "model_module": "@jupyter-widgets/base",
          "model_name": "LayoutModel",
          "state": {
            "_view_name": "LayoutView",
            "grid_template_rows": null,
            "right": null,
            "justify_content": null,
            "_view_module": "@jupyter-widgets/base",
            "overflow": null,
            "_model_module_version": "1.2.0",
            "_view_count": null,
            "flex_flow": null,
            "width": null,
            "min_width": null,
            "border": null,
            "align_items": null,
            "bottom": null,
            "_model_module": "@jupyter-widgets/base",
            "top": null,
            "grid_column": null,
            "overflow_y": null,
            "overflow_x": null,
            "grid_auto_flow": null,
            "grid_area": null,
            "grid_template_columns": null,
            "flex": null,
            "_model_name": "LayoutModel",
            "justify_items": null,
            "grid_row": null,
            "max_height": null,
            "align_content": null,
            "visibility": null,
            "align_self": null,
            "height": null,
            "min_height": null,
            "padding": null,
            "grid_auto_rows": null,
            "grid_gap": null,
            "max_width": null,
            "order": null,
            "_view_module_version": "1.2.0",
            "grid_template_areas": null,
            "object_position": null,
            "object_fit": null,
            "grid_auto_columns": null,
            "margin": null,
            "display": null,
            "left": null
          }
        },
        "d0fefaab1aeb4884816cc84ebc248542": {
          "model_module": "@jupyter-widgets/controls",
          "model_name": "DescriptionStyleModel",
          "state": {
            "_view_name": "StyleView",
            "_model_name": "DescriptionStyleModel",
            "description_width": "",
            "_view_module": "@jupyter-widgets/base",
            "_model_module_version": "1.5.0",
            "_view_count": null,
            "_view_module_version": "1.2.0",
            "_model_module": "@jupyter-widgets/controls"
          }
        },
        "7550bb24f95b4b52ad315dd24e3862fd": {
          "model_module": "@jupyter-widgets/base",
          "model_name": "LayoutModel",
          "state": {
            "_view_name": "LayoutView",
            "grid_template_rows": null,
            "right": null,
            "justify_content": null,
            "_view_module": "@jupyter-widgets/base",
            "overflow": null,
            "_model_module_version": "1.2.0",
            "_view_count": null,
            "flex_flow": null,
            "width": null,
            "min_width": null,
            "border": null,
            "align_items": null,
            "bottom": null,
            "_model_module": "@jupyter-widgets/base",
            "top": null,
            "grid_column": null,
            "overflow_y": null,
            "overflow_x": null,
            "grid_auto_flow": null,
            "grid_area": null,
            "grid_template_columns": null,
            "flex": null,
            "_model_name": "LayoutModel",
            "justify_items": null,
            "grid_row": null,
            "max_height": null,
            "align_content": null,
            "visibility": null,
            "align_self": null,
            "height": null,
            "min_height": null,
            "padding": null,
            "grid_auto_rows": null,
            "grid_gap": null,
            "max_width": null,
            "order": null,
            "_view_module_version": "1.2.0",
            "grid_template_areas": null,
            "object_position": null,
            "object_fit": null,
            "grid_auto_columns": null,
            "margin": null,
            "display": null,
            "left": null
          }
        }
      }
    }
  },
  "cells": [
    {
      "cell_type": "markdown",
      "metadata": {
        "id": "view-in-github",
        "colab_type": "text"
      },
      "source": [
        "<a href=\"https://colab.research.google.com/github/osmarbraz/exemplos_BERT/blob/main/ExemplosPythonBERTTransformers.ipynb\" target=\"_parent\"><img src=\"https://colab.research.google.com/assets/colab-badge.svg\" alt=\"Open In Colab\"/></a>"
      ]
    },
    {
      "cell_type": "markdown",
      "metadata": {
        "id": "9VTUgBXSzaGh"
      },
      "source": [
        "# Exemplos de uso do BERT in Transformers by Huggingface\n",
        "\n",
        "Funções e exemplos de uso BERT através da biblioteca `Transformer` da [Huggingface](https://huggingface.co/transformers/).\n",
        "\n",
        "- Exemplo de carregamento do tokenizador e modelo através de diretório e da comunidade\n",
        "  - Download do arquivos do modelo \n",
        "  \n",
        "- Função de retorno do tokenizador. \n",
        "- Função de retorno do modelo. \n",
        "- Função de retorno do tokenizador e do modelo. \n",
        "\n",
        "Artigo base do [BERT](https://arxiv.org/pdf/1810.04805.pdf).\n",
        "\n",
        "O tokenizador da BERT utiliza WordPiece, veja em [artigo original](https://arxiv.org/pdf/1609.08144.pdf).\n",
        "\n",
        "-----------------------------------------\n",
        "**Guia Colab Iniciante:**\n",
        "\n",
        "https://medium.com/machina-sapiens/google-colab-guia-do-iniciante-334d70aad531\n",
        "\n",
        "**Documentação oficial:**\n",
        "\n",
        "https://colab.research.google.com/github/jakevdp/PythonDataScienceHandbook/blob/master/notebooks/01.01-Help-And-Documentation.ipynb\n",
        "\n",
        "**Características :**\n",
        "\n",
        "https://colab.research.google.com/notebooks/basic_features_overview.ipynb\n"
      ]
    },
    {
      "cell_type": "markdown",
      "metadata": {
        "id": "WOwhoI1lzi-s"
      },
      "source": [
        "# 1 Instalação dos pacotes das biblioteca Transformer"
      ]
    },
    {
      "cell_type": "code",
      "metadata": {
        "id": "UNn1DGlMzNDa",
        "colab": {
          "base_uri": "https://localhost:8080/"
        },
        "outputId": "41a710e3-ed7d-4e31-aad8-7e49309c2102"
      },
      "source": [
        "# Instala a última versão da biblioteca\n",
        "!pip install transformers\n",
        "\n",
        "# Instala uma versão Especifica da biblioteca\n",
        "# !pip install -U transformers==4.5.1"
      ],
      "execution_count": null,
      "outputs": [
        {
          "output_type": "stream",
          "text": [
            "Collecting transformers\n",
            "\u001b[?25l  Downloading https://files.pythonhosted.org/packages/d8/b2/57495b5309f09fa501866e225c84532d1fd89536ea62406b2181933fb418/transformers-4.5.1-py3-none-any.whl (2.1MB)\n",
            "\u001b[K     |████████████████████████████████| 2.1MB 6.3MB/s \n",
            "\u001b[?25hCollecting sacremoses\n",
            "\u001b[?25l  Downloading https://files.pythonhosted.org/packages/75/ee/67241dc87f266093c533a2d4d3d69438e57d7a90abb216fa076e7d475d4a/sacremoses-0.0.45-py3-none-any.whl (895kB)\n",
            "\u001b[K     |████████████████████████████████| 901kB 23.0MB/s \n",
            "\u001b[?25hRequirement already satisfied: filelock in /usr/local/lib/python3.7/dist-packages (from transformers) (3.0.12)\n",
            "Requirement already satisfied: packaging in /usr/local/lib/python3.7/dist-packages (from transformers) (20.9)\n",
            "Requirement already satisfied: numpy>=1.17 in /usr/local/lib/python3.7/dist-packages (from transformers) (1.19.5)\n",
            "Collecting tokenizers<0.11,>=0.10.1\n",
            "\u001b[?25l  Downloading https://files.pythonhosted.org/packages/ae/04/5b870f26a858552025a62f1649c20d29d2672c02ff3c3fb4c688ca46467a/tokenizers-0.10.2-cp37-cp37m-manylinux2010_x86_64.whl (3.3MB)\n",
            "\u001b[K     |████████████████████████████████| 3.3MB 19.1MB/s \n",
            "\u001b[?25hRequirement already satisfied: requests in /usr/local/lib/python3.7/dist-packages (from transformers) (2.23.0)\n",
            "Requirement already satisfied: importlib-metadata; python_version < \"3.8\" in /usr/local/lib/python3.7/dist-packages (from transformers) (3.10.1)\n",
            "Requirement already satisfied: tqdm>=4.27 in /usr/local/lib/python3.7/dist-packages (from transformers) (4.41.1)\n",
            "Requirement already satisfied: regex!=2019.12.17 in /usr/local/lib/python3.7/dist-packages (from transformers) (2019.12.20)\n",
            "Requirement already satisfied: click in /usr/local/lib/python3.7/dist-packages (from sacremoses->transformers) (7.1.2)\n",
            "Requirement already satisfied: six in /usr/local/lib/python3.7/dist-packages (from sacremoses->transformers) (1.15.0)\n",
            "Requirement already satisfied: joblib in /usr/local/lib/python3.7/dist-packages (from sacremoses->transformers) (1.0.1)\n",
            "Requirement already satisfied: pyparsing>=2.0.2 in /usr/local/lib/python3.7/dist-packages (from packaging->transformers) (2.4.7)\n",
            "Requirement already satisfied: chardet<4,>=3.0.2 in /usr/local/lib/python3.7/dist-packages (from requests->transformers) (3.0.4)\n",
            "Requirement already satisfied: idna<3,>=2.5 in /usr/local/lib/python3.7/dist-packages (from requests->transformers) (2.10)\n",
            "Requirement already satisfied: urllib3!=1.25.0,!=1.25.1,<1.26,>=1.21.1 in /usr/local/lib/python3.7/dist-packages (from requests->transformers) (1.24.3)\n",
            "Requirement already satisfied: certifi>=2017.4.17 in /usr/local/lib/python3.7/dist-packages (from requests->transformers) (2020.12.5)\n",
            "Requirement already satisfied: typing-extensions>=3.6.4; python_version < \"3.8\" in /usr/local/lib/python3.7/dist-packages (from importlib-metadata; python_version < \"3.8\"->transformers) (3.7.4.3)\n",
            "Requirement already satisfied: zipp>=0.5 in /usr/local/lib/python3.7/dist-packages (from importlib-metadata; python_version < \"3.8\"->transformers) (3.4.1)\n",
            "Installing collected packages: sacremoses, tokenizers, transformers\n",
            "Successfully installed sacremoses-0.0.45 tokenizers-0.10.2 transformers-4.5.1\n"
          ],
          "name": "stdout"
        }
      ]
    },
    {
      "cell_type": "markdown",
      "metadata": {
        "id": "wsX_7pxMzvhS"
      },
      "source": [
        "# 2 Carregamento do modelo e tokenizador do BERT do Transfomer by Huggingface\n",
        "\n",
        "Os tokenizadores e os modelos PyTorch podem ser carregados diretamente da comunidade ou através do download de arquivos.\n",
        "\n",
        "Independente de onde foi carregado o tokenizador ou o modelo Pytorch existe a dpendência da instalação da biblioteca."
      ]
    },
    {
      "cell_type": "markdown",
      "metadata": {
        "id": "URuijJq7z7Kv"
      },
      "source": [
        "### Carregando BERT da comunidade\n",
        "\n",
        "Lista de **modelos da comunidade** podem ser consultadas em \n",
        "https://huggingface.co/models.\n",
        "\n",
        "Lista dos nomes dos modelos em **português** disponíveis na comunidade (https://github.com/neuralmind-ai/portuguese-bert):  \n",
        "* **'neuralmind/bert-base-portuguese-cased'**\n",
        "* **'neuralmind/bert-large-portuguese-cased'**\n",
        "\n",
        "Lista dos nomes dos modelos em **inglês** disponíveis na comunidade:\n",
        "* **'bert-base-uncased'**\n",
        "* **'bert-large-uncased'**\n",
        "\n",
        "O modelo do tokenizador pode ser acessado de duas formas, ou utilizando as AutoClasses ou Classes Especificas. A seguir as duas formas de carregar o modelo BERT."
      ]
    },
    {
      "cell_type": "markdown",
      "metadata": {
        "id": "0XwUuIioozUj"
      },
      "source": [
        "#### AutoClasses\n",
        "\n",
        "As `AutoClasses` recuperam automaticamente o modelo mais relevante, dado o nome/caminho para os pesos/configuração /vocabulário pré-treinados. A API destas classes podem ser consultadas [aqui](https://huggingface.co/transformers/model_doc/auto.html).\n",
        "\n",
        "A classe `AutoTokenizer` identifica a arquitetura a partir do nome ou do caminho do modelo pré-treinado que você está fornecendo ao método from_pretrained.\n",
        "\n",
        "Ao instanciar um  `AutoModel`, `AutoConfig` ou `AutoTokenizer` criará diretamente uma classe da arquitetura relevante, por exemplo:\n",
        "- `tokenizador = AutoTokenizer.from_pretrained('bert-base-cased')` \n",
        "  - criará uma instância de `BertTokenizerr`.\n",
        "- `model = AutoModel.from_pretrained('bert-base-cased')` \n",
        "  - criará uma instância de `BertModel`."
      ]
    },
    {
      "cell_type": "code",
      "metadata": {
        "id": "Jec62Nah0iQI",
        "colab": {
          "base_uri": "https://localhost:8080/",
          "height": 311,
          "referenced_widgets": [
            "e4e540727e224c28aa9bc9b617ee2a75",
            "ff31a92a6301480ea0117fa37df6bcbc",
            "a28a0bad4d0e4c5fa27bbef0337dee2b",
            "f879fd10b2a94746b2e59be5a3c44e14",
            "1ed26ce295fe4e9eb768fee99d75651e",
            "ede5ec35924445869586bcc518c78a99",
            "272b5afc677f479db3f29c76c60db338",
            "12bc14957d8145d1a8946d4fbb545830",
            "6850af2f6ce64adda407c7b738ed4821",
            "1ec10ae1409e4ee1a2a3d2df020939fd",
            "b9d976d400014d2fa4f06bb1280e47c4",
            "fdfe16a063bc4bd38e1f3142254a7977",
            "15ffbf3bf5754533b46d1f8966cb3d1e",
            "c2ad69326f664b76b667a0099eb298f8",
            "4f9d8c5c79804630af63ad55a6eafd3e",
            "80edb5f0a1bf4dc081bfeca0511e4e52",
            "3e941b5d2281404089fb694626572426",
            "5584bdc033354f1a843649ad33e46408",
            "0d797ac5c050485fac06735ab6078b77",
            "5d00ffa0867e41c69fa0ea0f5b68c172",
            "13c36a35fe044f53902880372376b0b3",
            "eeb9bdcb22d64dc9880bd32e4c961df3",
            "1cfe92d11aae46f1882ece1a2ce04d72",
            "9c757e0db87746f6ad7ec01831eea351",
            "488a0f9f2af2414aa21112d686200d40",
            "1cb53c659a914c77b3f3f1b1f93d75d3",
            "b3c46a8dba4245c493b4254a878894e8",
            "ae943da3c13b419daeadc777c2eee248",
            "e6952ff1acd44000bbc6c22e04c99e01",
            "18947f1de47447d0a116b2470ffd115a",
            "b7f0bf6987c1442db391911509ae62be",
            "b8180a2bda4745cd83b51e1b24532b8c",
            "1a7e9327bc0047d380cebfef204e9765",
            "2a50e9b36c6b4ecc8d6cd210bd199716",
            "be2c85e15cc045a8b3f43ad084b45f3d",
            "766f801363154cf3a23fb8cefa1f9ca8",
            "a114c75320b743b79d246ceb22ff05f0",
            "ff717a21f4fc406abdf9c7324aae773f",
            "aa0068291b1e427a8726b26a4eae58d5",
            "59f066b1d0804f8b966392dc03c893c7",
            "55484bb2a5b343f68b1e5d320688100f",
            "f09ee2a973db40fe8d520394f14643e6",
            "434aa415daa14e379fc7d4faddcfbc09",
            "2dfcd24fae4347f9bfea0864e2638cc8",
            "6bb60f62d31441b48860e19b686b834f",
            "f7afe60b022c40e7bd7abcf9abf74366",
            "b4192478c2e645c3a5f0877e51d062bb",
            "37248aeaedcc42e0a001a91b747e07d1"
          ]
        },
        "outputId": "5a40bcf0-5520-4cff-abbc-771143911830"
      },
      "source": [
        "# Importando as bibliotecas do Modelo e do Tokenizador\n",
        "from transformers import AutoModel, AutoTokenizer\n",
        "\n",
        "# Carregando o modelo do tokenizador o modelo do PyTorch da comunidade utilizando AutoClasses\n",
        "\n",
        "# Tokenizador do modelo utilizando as AutoClasses\n",
        "tokenizer = AutoTokenizer.from_pretrained('neuralmind/bert-base-portuguese-cased')\n",
        "\n",
        "# Modelo pré-treinado utilizando as AutoClasses\n",
        "model = AutoModel.from_pretrained('neuralmind/bert-base-portuguese-cased')"
      ],
      "execution_count": null,
      "outputs": [
        {
          "output_type": "display_data",
          "data": {
            "application/vnd.jupyter.widget-view+json": {
              "model_id": "e4e540727e224c28aa9bc9b617ee2a75",
              "version_minor": 0,
              "version_major": 2
            },
            "text/plain": [
              "HBox(children=(FloatProgress(value=0.0, description='Downloading', max=647.0, style=ProgressStyle(description_…"
            ]
          },
          "metadata": {
            "tags": []
          }
        },
        {
          "output_type": "stream",
          "text": [
            "\n"
          ],
          "name": "stdout"
        },
        {
          "output_type": "display_data",
          "data": {
            "application/vnd.jupyter.widget-view+json": {
              "model_id": "6850af2f6ce64adda407c7b738ed4821",
              "version_minor": 0,
              "version_major": 2
            },
            "text/plain": [
              "HBox(children=(FloatProgress(value=0.0, description='Downloading', max=209528.0, style=ProgressStyle(descripti…"
            ]
          },
          "metadata": {
            "tags": []
          }
        },
        {
          "output_type": "stream",
          "text": [
            "\n"
          ],
          "name": "stdout"
        },
        {
          "output_type": "display_data",
          "data": {
            "application/vnd.jupyter.widget-view+json": {
              "model_id": "3e941b5d2281404089fb694626572426",
              "version_minor": 0,
              "version_major": 2
            },
            "text/plain": [
              "HBox(children=(FloatProgress(value=0.0, description='Downloading', max=2.0, style=ProgressStyle(description_wi…"
            ]
          },
          "metadata": {
            "tags": []
          }
        },
        {
          "output_type": "stream",
          "text": [
            "\n"
          ],
          "name": "stdout"
        },
        {
          "output_type": "display_data",
          "data": {
            "application/vnd.jupyter.widget-view+json": {
              "model_id": "488a0f9f2af2414aa21112d686200d40",
              "version_minor": 0,
              "version_major": 2
            },
            "text/plain": [
              "HBox(children=(FloatProgress(value=0.0, description='Downloading', max=112.0, style=ProgressStyle(description_…"
            ]
          },
          "metadata": {
            "tags": []
          }
        },
        {
          "output_type": "stream",
          "text": [
            "\n"
          ],
          "name": "stdout"
        },
        {
          "output_type": "display_data",
          "data": {
            "application/vnd.jupyter.widget-view+json": {
              "model_id": "1a7e9327bc0047d380cebfef204e9765",
              "version_minor": 0,
              "version_major": 2
            },
            "text/plain": [
              "HBox(children=(FloatProgress(value=0.0, description='Downloading', max=43.0, style=ProgressStyle(description_w…"
            ]
          },
          "metadata": {
            "tags": []
          }
        },
        {
          "output_type": "stream",
          "text": [
            "\n"
          ],
          "name": "stdout"
        },
        {
          "output_type": "display_data",
          "data": {
            "application/vnd.jupyter.widget-view+json": {
              "model_id": "55484bb2a5b343f68b1e5d320688100f",
              "version_minor": 0,
              "version_major": 2
            },
            "text/plain": [
              "HBox(children=(FloatProgress(value=0.0, description='Downloading', max=438235074.0, style=ProgressStyle(descri…"
            ]
          },
          "metadata": {
            "tags": []
          }
        },
        {
          "output_type": "stream",
          "text": [
            "\n"
          ],
          "name": "stdout"
        }
      ]
    },
    {
      "cell_type": "markdown",
      "metadata": {
        "id": "u-gJlnkBo2U5"
      },
      "source": [
        "#### Classes Especificas"
      ]
    },
    {
      "cell_type": "code",
      "metadata": {
        "id": "3oi8ez_FNWkR"
      },
      "source": [
        "# Importando as bibliotecas do Modelo e do Tokenizador\n",
        "from transformers import BertModel, BertTokenizer\n",
        "\n",
        "# Carregando o modelo do tokenizador o modelo do PyTorch da comunidade utilizando classes Especificas\n",
        "\n",
        "# Tokenizador do modelo utilizando classe Especifica\n",
        "tokenizer = BertTokenizer.from_pretrained('neuralmind/bert-base-portuguese-cased')\n",
        "\n",
        "# Modelo pré-treinado utilizando classe Especifica\n",
        "model = BertModel.from_pretrained('neuralmind/bert-base-portuguese-cased')"
      ],
      "execution_count": null,
      "outputs": []
    },
    {
      "cell_type": "markdown",
      "metadata": {
        "id": "Wrp2wwYytLDW"
      },
      "source": [
        "### Carregando BERT de diretório(arquivo)\n",
        "\n",
        "O carregamento do BERT a partir de um diretório com os arquivos do tokenizador e do modelo. "
      ]
    },
    {
      "cell_type": "markdown",
      "metadata": {
        "id": "c161Lh80z8T2"
      },
      "source": [
        "Os arquivo do modelo devem deve ser colocados na pasta '/content/modelo'.\n",
        "\n",
        "Este arquivo pode ser utilizado tanto pelas classes especificas ou pelas AutoClasses, conforme apresentado na seção 'AutoTokenizer'.\n",
        "\n",
        "Link dos arquivos do modelo BERT pré-treinado em português(pt-br) da neuralmind-ai chamado de [BERTTimbau](https://github.com/neuralmind-ai/portuguese-bert).\n",
        "\n",
        "O BERT em português édisponibilizado em dois tamanhos: **BASE** e **LARGE** e em dois formatos: checkpoint do **TensorFlow** ou do **Pytorch**.\n",
        "\n",
        "O arquivo do **Pytorch** é manipulado pela implementação da biblioteca torch disponível [aqui](https://pytorch.org/docs/stable/torch.html)\n",
        "\n",
        "**BERT Base: 1.1 Gbytes**\n",
        "* **Pytorch Checkpoint(Usado no exemplo)** - https://neuralmind-ai.s3.us-east-2.amazonaws.com/nlp/bert-base-portuguese-cased/bert-base-portuguese-cased_pytorch_checkpoint.zip\n",
        "\n",
        "* **Tensor Flow Checkpoint** - https://neuralmind-ai.s3.us-east-2.amazonaws.com/nlp/bert-base-portuguese-cased/bert-base-portuguese-cased_tensorflow_checkpoint.zip\n",
        "\n",
        "* **Vocabulário(Usado no exemplo)** - https://neuralmind-ai.s3.us-east-2.amazonaws.com/nlp/bert-base-portuguese-cased/vocab.txt\n",
        "\n",
        "\n",
        "**BERT Large: 3.2 Gbytes**\n",
        "* **Pytorch Checkpoint** - https://neuralmind-ai.s3.us-east-2.amazonaws.com/nlp/bert-large-portuguese-cased/bert-large-portuguese-cased_pytorch_checkpoint.zip\n",
        "\n",
        "* **Tensor Checkpoint** - https://neuralmind-ai.s3.us-east-2.amazonaws.com/nlp/bert-large-portuguese-cased/bert-large-portuguese-cased_tensorflow_checkpoint.zip\n",
        "\n",
        "* **Vocabulário** - https://neuralmind-ai.s3.us-east-2.amazonaws.com/nlp/bert-large-portuguese-cased/vocab.txt\n",
        "\n",
        "-----------------\n",
        "**Correção dos nomes dos arquivos para usar com o BERT as Service:**\n",
        "* 'large'\n",
        "    * model.ckpt-1000000.data-00000-of-00001 > bert_model.ckpt.data-00000-of-00001\n",
        "    * model.ckpt-1000000.index bert_model.ckpt.index\n",
        "    * model.ckpt-1000000.meta > bert_model.ckpt.meta\n",
        "\n",
        "* 'base'\n",
        "    * model.ckpt.data-00000-of-00001> bert_model.ckpt.data-00000-of-00001\n",
        "    * model.ckpt.index > bert_model.ckpt.index\n",
        "    * model.ckpt.meta > bert_model.ckpt.meta\n",
        "-------------------------\n",
        "O modelo foi treinado com dados de **BrWaC** (Brazilian Web as Corpus):\n",
        "\n",
        "https://www.researchgate.net/publication/326303825_The_brWaC_Corpus_A_New_Open_Resource_for_Brazilian_Portuguese\n"
      ]
    },
    {
      "cell_type": "markdown",
      "metadata": {
        "id": "YZGdOSC_lLBh"
      },
      "source": [
        "#### Usando o BERT do diretório"
      ]
    },
    {
      "cell_type": "markdown",
      "metadata": {
        "id": "WyhoaQKNaNY7"
      },
      "source": [
        "##### Download do arquivo do Pytorch Checkpoint\n",
        "\n",
        "É necessário realizar o download do arquivo de checkpoint e do vocabulário.\n",
        "\n",
        "O arquivo do checkpoint precisa ser descompactado.\n",
        "\n",
        "Os arquivos do modelo e do vocabulário são movidos para o diretório `modelo`."
      ]
    },
    {
      "cell_type": "code",
      "metadata": {
        "id": "jYTujSE9aNY_",
        "colab": {
          "base_uri": "https://localhost:8080/"
        },
        "outputId": "9f22f939-830d-44ea-b682-8096f59a2314"
      },
      "source": [
        "# Importando as bibliotecas\n",
        "import os\n",
        "\n",
        "# Comente uma das urls para carregar modelo do BERT de tamanhos diferentes(base/large)\n",
        "# Url do arquivo do modelo do Pytorch checkpoint\n",
        "\n",
        "# arquivo menor(base) 1.1 Gbytes\n",
        "# URL_MODELO = \"https://neuralmind-ai.s3.us-east-2.amazonaws.com/nlp/bert-base-portuguese-cased/bert-base-portuguese-cased_pytorch_checkpoint.zip\"\n",
        "\n",
        "# arquivo grande(large) 3.5 Gbytes\n",
        "URL_MODELO = \"https://neuralmind-ai.s3.us-east-2.amazonaws.com/nlp/bert-large-portuguese-cased/bert-large-portuguese-cased_pytorch_checkpoint.zip\"\n",
        "      \n",
        "# Recupera o nome do arquivo do modelo da url anterior\n",
        "arquivo = URL_MODELO.split(\"/\")[-1]\n",
        "\n",
        "# Nome do arquivo do vocabulário\n",
        "arquivo_vocab = \"vocab.txt\"\n",
        "\n",
        "# Caminho do arquivo na URL_MODELO\n",
        "caminho = URL_MODELO[0:len(URL_MODELO)-len(arquivo)]\n",
        "\n",
        "# Diretório descompactação do modelo\n",
        "DIRETORIO_MODELO = '/content/modelo'\n",
        "\n",
        "# Verifica se o diretório do modelo existe a partir do diretório corrente\n",
        "if not os.path.exists(DIRETORIO_MODELO):\n",
        "   \n",
        "    # Realiza o download do arquivo do tokenizador\n",
        "    !wget $URL_MODELO\n",
        "    \n",
        "    # Descompacta o arquivo no diretório do modelo\n",
        "    !unzip -o $arquivo -d $DIRETORIO_MODELO\n",
        "\n",
        "    # Realiza o download do arquivo do vocabulário\n",
        "    # O vocabulário não está no arquivo compactado acima\n",
        "    # Concatena o caminho do modelo mais o nome do arquivo do vocabulário\n",
        "    URL_MODELO_VOCAB = caminho + arquivo_vocab\n",
        "\n",
        "    # Realiza o download do arquivo do vocabulário\n",
        "    !wget $URL_MODELO_VOCAB\n",
        "    \n",
        "    # Move o arquivo do vocabulário para o diretório do modelo\n",
        "    !mv $arquivo_vocab $DIRETORIO_MODELO\n",
        "            \n",
        "    # Apaga o arquivo baixado\n",
        "    #!rm $arquivo\n",
        "    \n",
        "    # Move o arquivo do modelo para o diretório do modelo\n",
        "    !mv $arquivo $DIRETORIO_MODELO\n",
        "    \n",
        "    print('Diretório do modelo:\\'' + DIRETORIO_MODELO + '\\' pronta!')\n",
        "else:\n",
        "    print('Diretório do modelo:\\'' + DIRETORIO_MODELO + '\\' já existe!')\n",
        "\n",
        "# Lista o diretório corrente\n",
        "!ls -la"
      ],
      "execution_count": null,
      "outputs": [
        {
          "output_type": "stream",
          "text": [
            "--2021-05-01 20:26:24--  https://neuralmind-ai.s3.us-east-2.amazonaws.com/nlp/bert-large-portuguese-cased/bert-large-portuguese-cased_pytorch_checkpoint.zip\n",
            "Resolving neuralmind-ai.s3.us-east-2.amazonaws.com (neuralmind-ai.s3.us-east-2.amazonaws.com)... 52.219.101.82\n",
            "Connecting to neuralmind-ai.s3.us-east-2.amazonaws.com (neuralmind-ai.s3.us-east-2.amazonaws.com)|52.219.101.82|:443... connected.\n",
            "HTTP request sent, awaiting response... 200 OK\n",
            "Length: 1244275810 (1.2G) [application/zip]\n",
            "Saving to: ‘bert-large-portuguese-cased_pytorch_checkpoint.zip’\n",
            "\n",
            "bert-large-portugue 100%[===================>]   1.16G  91.7MB/s    in 13s     \n",
            "\n",
            "2021-05-01 20:26:36 (94.9 MB/s) - ‘bert-large-portuguese-cased_pytorch_checkpoint.zip’ saved [1244275810/1244275810]\n",
            "\n",
            "Archive:  bert-large-portuguese-cased_pytorch_checkpoint.zip\n",
            "  inflating: /content/modelo/config.json  \n",
            "  inflating: /content/modelo/pytorch_model.bin  \n",
            "--2021-05-01 20:26:52--  https://neuralmind-ai.s3.us-east-2.amazonaws.com/nlp/bert-large-portuguese-cased/vocab.txt\n",
            "Resolving neuralmind-ai.s3.us-east-2.amazonaws.com (neuralmind-ai.s3.us-east-2.amazonaws.com)... 52.219.97.50\n",
            "Connecting to neuralmind-ai.s3.us-east-2.amazonaws.com (neuralmind-ai.s3.us-east-2.amazonaws.com)|52.219.97.50|:443... connected.\n",
            "HTTP request sent, awaiting response... 200 OK\n",
            "Length: 209528 (205K) [text/plain]\n",
            "Saving to: ‘vocab.txt’\n",
            "\n",
            "vocab.txt           100%[===================>] 204.62K  --.-KB/s    in 0.09s   \n",
            "\n",
            "2021-05-01 20:26:52 (2.34 MB/s) - ‘vocab.txt’ saved [209528/209528]\n",
            "\n",
            "Diretório do modelo:'/content/modelo' pronta!\n",
            "total 20\n",
            "drwxr-xr-x 1 root root 4096 May  1 20:26 .\n",
            "drwxr-xr-x 1 root root 4096 May  1 20:25 ..\n",
            "drwxr-xr-x 4 root root 4096 Apr 21 13:38 .config\n",
            "drwxr-xr-x 2 root root 4096 May  1 20:26 modelo\n",
            "drwxr-xr-x 1 root root 4096 Apr 21 13:39 sample_data\n"
          ],
          "name": "stdout"
        }
      ]
    },
    {
      "cell_type": "markdown",
      "metadata": {
        "id": "1gZ7lZaVaEk5"
      },
      "source": [
        "##### Carregando o BERT do diretório\n",
        "\n",
        "Carregando o **tokenizador** e **modelo** BERT do diretório '/content/modelo/' do diretório padrão.\n",
        "\n",
        "A implementação do huggingface pytorch inclui um conjunto de interfaces projetadas para uma variedade de tarefas de PNL. Embora essas interfaces sejam todas construídas sobre um modelo treinado de BERT, cada uma possui diferentes camadas superiores e tipos de saída projetados para acomodar suas tarefas Especificas de PNL.\n",
        "\n",
        "Aqui está a lista atual de classes fornecidas para o ajuste fino:\n",
        "* BertModel\n",
        "* BertForPreTraining\n",
        "* BertForMaskedLM\n",
        "* BertForNextSentencePrediction\n",
        "* BertForSequenceClassification\n",
        "* BertForTokenClassification\n",
        "* BertForQuestionAnswering\n",
        "\n",
        "A documentação para estas pode ser encontrada em [aqui](https://huggingface.co/transformers/v2.2.0/model_doc/bert.html).\n"
      ]
    },
    {
      "cell_type": "code",
      "metadata": {
        "id": "pyA4PFN6aNZV",
        "colab": {
          "base_uri": "https://localhost:8080/"
        },
        "outputId": "3e673560-5cd5-4770-aac0-283c556eb8a4"
      },
      "source": [
        "# Importando as bibliotecas do Modelo e do Tokenizador\n",
        "from transformers import BertModel, BertTokenizer\n",
        "\n",
        "# Diretório descompactação do modelo\n",
        "DIRETORIO_MODELO = '/content/modelo'\n",
        "\n",
        "# Carregando o modelo do tokenizador o modelo do PyTorch do diretório  utilizando classes Especificas\n",
        "print('Carregando o tokenizador BERT do diretório \\'' + DIRETORIO_MODELO + '\\'...')\n",
        "\n",
        "# Tokenizador do modelo utilizando classe Especifica\n",
        "tokenizer = BertTokenizer.from_pretrained(DIRETORIO_MODELO, \n",
        "                                          do_lower_case=False)\n",
        "\n",
        "print('Carregando o modelo BERT do diretório \\'' + DIRETORIO_MODELO + '\\'...')\n",
        "\n",
        "# Modelo pré-treinado utilizando classe Especifica\n",
        "model = BertModel.from_pretrained(DIRETORIO_MODELO)"
      ],
      "execution_count": null,
      "outputs": [
        {
          "output_type": "stream",
          "text": [
            "Carregando o tokenizador BERT do diretório '/content/modelo'...\n",
            "Carregando o modelo BERT do diretório '/content/modelo'...\n"
          ],
          "name": "stdout"
        }
      ]
    },
    {
      "cell_type": "markdown",
      "metadata": {
        "id": "KAm-Or2D0M0k"
      },
      "source": [
        "## Exemplos de formas de carregamento do BERT"
      ]
    },
    {
      "cell_type": "markdown",
      "metadata": {
        "id": "udxdl4qklY--"
      },
      "source": [
        "#### Usando o BERT da comunidade ou diretório v1\n",
        "\n",
        "Permite configurar a **fonte do modelo**.\n",
        "\n",
        "A variável `URL_MODELO` setada especifica que o BERT deve ser carregado de um diretório, caso contrário da comunidade."
      ]
    },
    {
      "cell_type": "markdown",
      "metadata": {
        "id": "VXm3x84klfRN"
      },
      "source": [
        "##### Download do arquivo do Pytorch Checkpoint\n",
        "\n",
        "É necessário realizar o download do arquivo de checkpoint e do vocabulário.\n",
        "\n",
        "O arquivo do checkpoint precisa ser descompactado.\n",
        "\n",
        "Os arquivos do modelo e do vocabulário são movidos para o diretório `modelo`."
      ]
    },
    {
      "cell_type": "code",
      "metadata": {
        "id": "JtzDkSAYlfs1",
        "colab": {
          "base_uri": "https://localhost:8080/"
        },
        "outputId": "bda43e4c-9fbf-4f0d-81d4-f3db7a552424"
      },
      "source": [
        "# Importando as bibliotecas\n",
        "import os\n",
        "\n",
        "# Variável para setar o tamanho do arquivo do BERT(base ou large)\n",
        "URL_MODELO = None\n",
        "\n",
        "# Comente uma das urls para carregar modelo do BERT de tamanhos diferentes(base/large)\n",
        "# Url do arquivo do modelo do Pytorch checkpoint\n",
        "\n",
        "# arquivo menor(base) 1.1 Gbytes\n",
        "# URL_MODELO = \"https://neuralmind-ai.s3.us-east-2.amazonaws.com/nlp/bert-base-portuguese-cased/bert-base-portuguese-cased_pytorch_checkpoint.zip\"\n",
        "\n",
        "# arquivo grande(large) 3.5 Gbytes\n",
        "# URL_MODELO = \"https://neuralmind-ai.s3.us-east-2.amazonaws.com/nlp/bert-large-portuguese-cased/bert-large-portuguese-cased_pytorch_checkpoint.zip\"\n",
        "\n",
        "# Se a variável foi setada\n",
        "if URL_MODELO:\n",
        "\n",
        "    # Diretório descompactação do modelo\n",
        "    DIRETORIO_MODELO = '/content/modelo'\n",
        "\n",
        "    # Recupera o nome do arquivo do modelo da url anterior\n",
        "    arquivo = URL_MODELO.split(\"/\")[-1]\n",
        "\n",
        "    # Nome do arquivo do vocabulário\n",
        "    arquivo_vocab = \"vocab.txt\"\n",
        "\n",
        "    # Caminho do arquivo na url\n",
        "    caminho = URL_MODELO[0:len(URL_MODELO)-len(arquivo)]\n",
        "\n",
        "    # Verifica se a pasta de descompactação existe no pasta corrente\n",
        "    if not os.path.exists(DIRETORIO_MODELO):\n",
        "   \n",
        "        # Realiza o download do arquivo do modelo\n",
        "        !wget $URL_MODELO\n",
        "    \n",
        "        # Descompacta o arquivo na pasta de destino\n",
        "        !unzip -o $arquivo -d $DIRETORIO_MODELO\n",
        "\n",
        "        # Realiza o download do arquivo do vocabulário\n",
        "        # O vocabulário não está no arquivo compactado acima\n",
        "        # Concatena o caminho do modelo mais o nome do arquivo do vocabulário\n",
        "        URL_MODELO_VOCAB = caminho + arquivo_vocab\n",
        "\n",
        "        # Realiza o download do arquivo do vocabulário\n",
        "        !wget $URL_MODELO_VOCAB\n",
        "    \n",
        "        # Move o arquivo do vocabulário para o diretório do modelo\n",
        "        !mv $arquivo_vocab $DIRETORIO_MODELO\n",
        "            \n",
        "        # Move o arquivo do modelo para o diretório do modelo\n",
        "        !mv $arquivo $DIRETORIO_MODELO\n",
        "        \n",
        "        print('Diretório do modelo:\\'' + DIRETORIO_MODELO + '\\' pronta!')\n",
        "    else:      \n",
        "      print('Diretório do modelo:\\'' + DIRETORIO_MODELO + '\\' já existe!')\n",
        "\n",
        "    #lista a pasta corrente\n",
        "    !ls -la $DIRETORIO_MODELO\n",
        "else:\n",
        "    print('Variável URL_MODELO não setada!')"
      ],
      "execution_count": null,
      "outputs": [
        {
          "output_type": "stream",
          "text": [
            "Variável URL_MODELO não setada!\n"
          ],
          "name": "stdout"
        }
      ]
    },
    {
      "cell_type": "markdown",
      "metadata": {
        "id": "W2VmlSXMgUiU"
      },
      "source": [
        "##### Carregando o BERT\n",
        "\n"
      ]
    },
    {
      "cell_type": "code",
      "metadata": {
        "id": "IR3LKinp7GiI",
        "colab": {
          "base_uri": "https://localhost:8080/"
        },
        "outputId": "f28162a6-0ff4-4417-ae45-facba4f2f63a"
      },
      "source": [
        "# Importando as bibliotecas do Modelo e do Tokenizador\n",
        "from transformers import BertModel, BertTokenizer\n",
        "\n",
        "# Se a variável URL_MODELO foi setada\n",
        "if URL_MODELO:\n",
        "    # Carregando o Tokenizador do diretório\n",
        "    print('Carregando o tokenizador BERT do diretório \\'' + DIRETORIO_MODELO + '\\'...')\n",
        "\n",
        "    tokenizer = BertTokenizer.from_pretrained(DIRETORIO_MODELO)\n",
        "\n",
        "    # Carregano o Modelo do diretório\n",
        "    print('Carregando o modelo BERT do diretório \\'' + DIRETORIO_MODELO + '\\'...')\n",
        "\n",
        "    model = BertModel.from_pretrained(DIRETORIO_MODELO, \n",
        "                                      do_lower_case=False)\n",
        "\n",
        "else:\n",
        "    # Carregando o Tokenizador da comunidade\n",
        "    print('Carregando o tokenizador BERT da comunidade...')\n",
        "\n",
        "    tokenizer = BertTokenizer.from_pretrained('neuralmind/bert-base-portuguese-cased', \n",
        "                                              do_lower_case=False)\n",
        "\n",
        "    # Carregando o Modelo da comunidade\n",
        "    print('Carregando o modelo BERT da comunidade...')\n",
        "\n",
        "    model = BertModel.from_pretrained('neuralmind/bert-base-portuguese-cased')  \n"
      ],
      "execution_count": null,
      "outputs": [
        {
          "output_type": "stream",
          "text": [
            "Carregando o tokenizador BERT da comunidade...\n",
            "Carregando o modelo BERT da comunidade...\n"
          ],
          "name": "stdout"
        }
      ]
    },
    {
      "cell_type": "markdown",
      "metadata": {
        "id": "snDFb_WBpItd"
      },
      "source": [
        "#### Usando o BERT da comunidade ou diretório v2\n",
        "\n",
        "Permite configurar o **tamanho do modelo** e a **fonte do modelo**.\n",
        "\n",
        "A variável `fonteBERT` com os valores `comunidade` ou `diretório` especifica se deve ser carregado o BERT de um diretório ou da comunidade.\n",
        "\n",
        "A variável `tamanhoBERT` com os valores `base` ou `large` especifica se o tamanho do modelo BERT a ser utilizado."
      ]
    },
    {
      "cell_type": "markdown",
      "metadata": {
        "id": "Nj1KS8xCpIte"
      },
      "source": [
        "##### Download do arquivo do Pytorch Checkpoint\n",
        "\n",
        "É necessário realizar o download do arquivo de checkpoint e do vocabulário.\n",
        "\n",
        "O arquivo do checkpoint precisa ser descompactado.\n",
        "\n",
        "Os arquivos do modelo e do vocabulário são movidos para o diretório `modelo`."
      ]
    },
    {
      "cell_type": "code",
      "metadata": {
        "id": "3gab02A0pIte",
        "colab": {
          "base_uri": "https://localhost:8080/"
        },
        "outputId": "708b42ce-dc12-4256-cce5-a9c53796cf38"
      },
      "source": [
        "# Importando as bibliotecas\n",
        "import os\n",
        "\n",
        "# Variável fonte especifica a origem do modelo(comunidade ou diretório)\n",
        "#fonteBERT = 'comunidade'\n",
        "fonteBERT = 'DIRETORIO_MODELO'\n",
        "\n",
        "# Especifica o tamanho do modelo a ser carregado(base ou large)\n",
        "tamanhoBERT = 'large'\n",
        "#tamanhoBERT = 'base'\n",
        "\n",
        "# Se a variável 'fonteBERT' foi setada para 'DIRETORIO_MODELO' faz o download dos arquivos modelo\n",
        "if fonteBERT == 'DIRETORIO_MODELO':\n",
        "    \n",
        "    # Se a variável 'tamanhoBERT' foi setada para 'base' faz o download do arquivo do tamanho base do BERT, caso contrário do large.\n",
        "    if tamanhoBERT == 'base':\n",
        "        # Url do arquivo do modelo do Pytorch checkpoint\n",
        "        # arquivo menor(base) 1.1 Gbytes\n",
        "        URL_MODELO = \"https://neuralmind-ai.s3.us-east-2.amazonaws.com/nlp/bert-base-portuguese-cased/bert-base-portuguese-cased_pytorch_checkpoint.zip\"\n",
        "    else:\n",
        "        # Url do arquivo do modelo do Pytorch checkpoint\n",
        "        # arquivo grande(large) 3.5 Gbytes\n",
        "        URL_MODELO = \"https://neuralmind-ai.s3.us-east-2.amazonaws.com/nlp/bert-large-portuguese-cased/bert-large-portuguese-cased_pytorch_checkpoint.zip\"\n",
        "\n",
        "    # Diretório descompactação do modelo\n",
        "    DIRETORIO_MODELO = '/content/modelo'\n",
        "\n",
        "    # Recupera o nome do arquivo do modelo da url anterior\n",
        "    arquivo = URL_MODELO.split(\"/\")[-1]\n",
        "\n",
        "    # Nome do arquivo do vocabulário\n",
        "    arquivo_vocab = \"vocab.txt\"\n",
        "\n",
        "    # Caminho do arquivo na url\n",
        "    caminho = URL_MODELO[0:len(URL_MODELO)-len(arquivo)]\n",
        "\n",
        "    # Verifica se a pasta de descompactação existe no pasta corrente\n",
        "    if not os.path.exists(DIRETORIO_MODELO):\n",
        "   \n",
        "        # Realiza o download do arquivo do modelo\n",
        "        !wget $URL_MODELO\n",
        "    \n",
        "        # Descompacta o arquivo na pasta de destino\n",
        "        !unzip -o $arquivo -d $DIRETORIO_MODELO\n",
        "\n",
        "        # Realiza o download do arquivo do vocabulário\n",
        "        # O vocabulário não está no arquivo compactado acima\n",
        "        # Concatena o caminho do modelo mais o nome do arquivo do vocabulário\n",
        "        URL_MODELO_VOCAB = caminho + arquivo_vocab\n",
        "\n",
        "        # Realiza o download do arquivo do vocabulário\n",
        "        !wget $URL_MODELO_VOCAB\n",
        "    \n",
        "        # Move o arquivo do vocabulário para o diretório do modelo\n",
        "        !mv $arquivo_vocab $DIRETORIO_MODELO\n",
        "            \n",
        "        # Move o arquivo do modelo para o diretório do modelo\n",
        "        !mv $arquivo $DIRETORIO_MODELO      \n",
        "                \n",
        "        print('Diretório do modelo:\\'' + DIRETORIO_MODELO + '\\' pronta!')\n",
        "    else:      \n",
        "      print('Diretório do modelo:\\'' + DIRETORIO_MODELO + '\\' já existe!')\n",
        "\n",
        "    #lista a pasta corrente\n",
        "    !ls -la $DIRETORIO_MODELO\n",
        "else:\n",
        "    print('Será carregado o BERT da comunidade')"
      ],
      "execution_count": null,
      "outputs": [
        {
          "output_type": "stream",
          "text": [
            "Diretório do modelo:'/content/modelo' já existe!\n",
            "total 2525908\n",
            "drwxr-xr-x 2 root root       4096 May  1 20:26 .\n",
            "drwxr-xr-x 1 root root       4096 May  1 20:26 ..\n",
            "-rw-r--r-- 1 root root 1244275810 Jan 22  2020 bert-large-portuguese-cased_pytorch_checkpoint.zip\n",
            "-rw-rw-r-- 1 root root        874 Jan 12  2020 config.json\n",
            "-rw-rw-r-- 1 root root 1342014951 Jan 12  2020 pytorch_model.bin\n",
            "-rw-r--r-- 1 root root     209528 Jan 21  2020 vocab.txt\n"
          ],
          "name": "stdout"
        }
      ]
    },
    {
      "cell_type": "markdown",
      "metadata": {
        "id": "stZE-KdbpIti"
      },
      "source": [
        "##### Carregando o BERT\n",
        "\n",
        "Carregando o **tokenizador** e **modelo** BERT do diretório '/content/modelo/' do diretório padrão.\n",
        "\n",
        "O parâmetro do_lower_case especifica se é ignorar a conversão para minúsculo. Para ignorar use o parâmetro 'do_lower_case=True'.\n"
      ]
    },
    {
      "cell_type": "code",
      "metadata": {
        "id": "Rbdpa5IzpItj",
        "colab": {
          "base_uri": "https://localhost:8080/"
        },
        "outputId": "18572ee6-05e4-40c9-ac6b-080d81dc2363"
      },
      "source": [
        "# Importando as bibliotecas do Modelo e do Tokenizador\n",
        "from transformers import BertModel, BertTokenizer\n",
        "\n",
        "# Se a variável 'fonteBERT' foi setada para 'DIRETORIO_MODELO' faz o download dos arquivos modelo\n",
        "if fonteBERT == 'DIRETORIO_MODELO':\n",
        "\n",
        "    # Carregando o Tokenizador do diretório\n",
        "    print('Carregando o tokenizador BERT_' + tamanhoBERT + ' do diretório ' + DIRETORIO_MODELO + '...')\n",
        "\n",
        "    tokenizer = BertTokenizer.from_pretrained(DIRETORIO_MODELO,\n",
        "                                              do_lower_case=False)   \n",
        "\n",
        "    # Carregando o Modelo do diretório\n",
        "    print('Carregando o modelo BERT_' + tamanhoBERT + ' do diretório ' + DIRETORIO_MODELO + '...')\n",
        "\n",
        "    model = BertModel.from_pretrained(DIRETORIO_MODELO)\n",
        "\n",
        "else:\n",
        "    # Se a variável 'tamanhoBERT' foi setada para 'base' faz o carregamento do tamanho base do BERT, caso contrário do large.\n",
        "    if tamanhoBERT == 'base':\n",
        "        # Carregando o Tokenizador da comunidade\n",
        "        print('Carregando o tokenizador BERT_base da comunidade...')\n",
        "\n",
        "        tokenizer = BertTokenizer.from_pretrained('neuralmind/bert-base-portuguese-cased', \n",
        "                                                  do_lower_case=False)\n",
        "\n",
        "        # Carregando o Modelo da comunidade\n",
        "        print('Carregando o modelo BERT_base da comunidade...')\n",
        "\n",
        "        model = BertModel.from_pretrained('neuralmind/bert-base-portuguese-cased')  \n",
        "    else:\n",
        "        # Carregando o Tokenizador da comunidade  \n",
        "        print('Carregando o tokenizador BERT_large da comunidade...')\n",
        "\n",
        "        tokenizer = BertTokenizer.from_pretrained('neuralmind/bert-large-portuguese-cased',\n",
        "                                                  do_lower_case=False)\n",
        "\n",
        "        # Carregando o Modelo da comunidade\n",
        "        print('Carregando o modelo BERT_large da comunidade...')\n",
        "\n",
        "        model = BertModel.from_pretrained('neuralmind/bert-large-portuguese-cased')  \n"
      ],
      "execution_count": null,
      "outputs": [
        {
          "output_type": "stream",
          "text": [
            "Carregando o tokenizador BERT_large do diretório /content/modelo...\n",
            "Carregando o modelo BERT_large do diretório /content/modelo...\n"
          ],
          "name": "stdout"
        }
      ]
    },
    {
      "cell_type": "markdown",
      "metadata": {
        "id": "eaBm0YHY4lsf"
      },
      "source": [
        "#### \\>>> Usando o BERT da comunidade ou diretório v3 <<<\n",
        "\n",
        "Permite configurar o **tamanho do modelo**, **fonte do modelo** e **se deve retornar os pesos das camadas ocultas**.\n",
        "\n",
        "A variável `fonteBERT` com os valores `comunidade` ou `diretório` especifica se deve ser carregado o BERT de um diretório ou da comunidade.\n",
        "\n",
        "A variável `tamanhoBERT` com os valores `base` ou `large` especifica se o tamanho do modelo BERT a ser utilizado.\n",
        "\n",
        "A variável `pesosCamadasOcultas` com os valores `True` ou `False` especifica se é para gerar e retornar os pesos das camadas ocultas."
      ]
    },
    {
      "cell_type": "markdown",
      "metadata": {
        "id": "tiZcK9JU4lsj"
      },
      "source": [
        "##### Download do arquivo do Pytorch Checkpoint\n",
        "\n",
        "É necessário realizar o download do arquivo de checkpoint e do vocabulário.\n",
        "\n",
        "O arquivo do checkpoint precisa ser descompactado.\n",
        "\n",
        "Os arquivos do modelo e do vocabulário são movidos para o diretório `modelo`."
      ]
    },
    {
      "cell_type": "code",
      "metadata": {
        "id": "-k4sP3yZ4lsm",
        "colab": {
          "base_uri": "https://localhost:8080/"
        },
        "outputId": "b7ba941a-8538-4603-e815-2f1616967cfc"
      },
      "source": [
        "# Importando as bibliotecas\n",
        "import os\n",
        "\n",
        "# Variável fonte especifica a origem do modelo(comunidade ou diretório)\n",
        "#fonteBERT = 'comunidade'\n",
        "fonteBERT = 'DIRETORIO_MODELO'\n",
        "\n",
        "# Especifica o tamanho do modelo a ser carregado(base ou large)\n",
        "tamanhoBERT = 'large'\n",
        "#tamanhoBERT = 'base'\n",
        "\n",
        "# Especifica se o modelo deve ser carregado com os pesos das camadas ocultas(True ou False)\n",
        "pesosCamadasOcultas = False\n",
        "\n",
        "# Se a variável 'fonteBERT' foi setada para 'DIRETORIO_MODELO' faz o download dos arquivos modelo\n",
        "if fonteBERT == 'DIRETORIO_MODELO':\n",
        "    \n",
        "    # Se a variável 'tamanhoBERT' foi setada para 'base' faz o download do arquivo do tamanho base do BERT, caso contrário do large.\n",
        "    if tamanhoBERT == 'base':\n",
        "        # URL_MODELO do arquivo do modelo do Pytorch checkpoint\n",
        "        # arquivo menor(base) 1.1 Gbytes\n",
        "        URL_MODELO = \"https://neuralmind-ai.s3.us-east-2.amazonaws.com/nlp/bert-base-portuguese-cased/bert-base-portuguese-cased_pytorch_checkpoint.zip\"\n",
        "    else:\n",
        "        # URL_MODELO do arquivo do modelo do Pytorch checkpoint\n",
        "        # arquivo grande(large) 3.5 Gbytes\n",
        "        URL_MODELO = \"https://neuralmind-ai.s3.us-east-2.amazonaws.com/nlp/bert-large-portuguese-cased/bert-large-portuguese-cased_pytorch_checkpoint.zip\"\n",
        "\n",
        "    # Diretório descompactação do modelo\n",
        "    DIRETORIO_MODELO = '/content/modelo'\n",
        "\n",
        "    # Recupera o nome do arquivo do modelo da url anterior\n",
        "    arquivo = URL_MODELO.split(\"/\")[-1]\n",
        "\n",
        "    # Nome do arquivo do vocabulário\n",
        "    arquivo_vocab = \"vocab.txt\"\n",
        "\n",
        "    # Caminho do arquivo na URL_MODELO\n",
        "    caminho = URL_MODELO[0:len(URL_MODELO)-len(arquivo)]\n",
        "\n",
        "    # Verifica se a pasta de descompactação existe no pasta corrente\n",
        "    if not os.path.exists(DIRETORIO_MODELO):\n",
        "   \n",
        "        # Realiza o download do arquivo do modelo\n",
        "        !wget $URL_MODELO\n",
        "    \n",
        "        # Descompacta o arquivo na pasta de destino\n",
        "        !unzip -o $arquivo -d $DIRETORIO_MODELO\n",
        "\n",
        "        # Realiza o download do arquivo do vocabulário\n",
        "        # O vocabulário não está no arquivo compactado acima\n",
        "        # Concatena o caminho do modelo mais o nome do arquivo do vocabulário\n",
        "        URL_MODELO_VOCAB = caminho + arquivo_vocab\n",
        "\n",
        "        # Realiza o download do arquivo do vocabulário\n",
        "        !wget $URL_MODELO_VOCAB\n",
        "    \n",
        "        # Move o arquivo do vocabulário para o diretório do modelo\n",
        "        !mv $arquivo_vocab $DIRETORIO_MODELO\n",
        "            \n",
        "        # Move o arquivo do modelo para o diretório do modelo\n",
        "        !mv $arquivo $DIRETORIO_MODELO      \n",
        "                \n",
        "        print('Diretório do modelo:\\'' + DIRETORIO_MODELO + '\\' pronta!')\n",
        "    else:      \n",
        "      print('Diretório do modelo:\\'' + DIRETORIO_MODELO + '\\' já existe!')\n",
        "\n",
        "    #lista a pasta corrente\n",
        "    !ls -la $DIRETORIO_MODELO\n",
        "else:\n",
        "    print('Será carregado o BERT da comunidade')"
      ],
      "execution_count": null,
      "outputs": [
        {
          "output_type": "stream",
          "text": [
            "Diretório do modelo:'/content/modelo' já existe!\n",
            "total 2525908\n",
            "drwxr-xr-x 2 root root       4096 May  1 20:26 .\n",
            "drwxr-xr-x 1 root root       4096 May  1 20:26 ..\n",
            "-rw-r--r-- 1 root root 1244275810 Jan 22  2020 bert-large-portuguese-cased_pytorch_checkpoint.zip\n",
            "-rw-rw-r-- 1 root root        874 Jan 12  2020 config.json\n",
            "-rw-rw-r-- 1 root root 1342014951 Jan 12  2020 pytorch_model.bin\n",
            "-rw-r--r-- 1 root root     209528 Jan 21  2020 vocab.txt\n"
          ],
          "name": "stdout"
        }
      ]
    },
    {
      "cell_type": "markdown",
      "metadata": {
        "id": "tu-MjBcD4ls3"
      },
      "source": [
        "##### Carregando o BERT\n",
        "\n",
        "Carregando o **tokenizador** e **modelo** BERT do diretório '/content/modelo/' do diretório padrão.\n",
        "\n",
        "O tokenizador utiliza WordPiece, veja em [artigo original](https://arxiv.org/pdf/1609.08144.pdf).\n",
        "\n",
        "Carregando o tokenizador da pasta '/content/modelo/' do diretório padrão se variável `URL_MODELO` setada.\n",
        "\n",
        "**Caso contrário carrega da comunidade**\n",
        "\n",
        "O parâmetro `do_lower_case=True` Especifica a conversão das letras maiúsculas em minúsculo e a remoção das letras acentuadas. Nesta função o default `False` pois a língua portuguesa possui letras acentuadas(ãçéí...), que são necessárias a língua portuguesa, desta maneira mantendo letras maiúsculas e minúsculas. No método `from_treina from_pretrained` o default é `True` quando o parämetro não é especificado.\n",
        "\n",
        "O parâmetro `do_lower_case` interfere na quantidade tokens a ser gerado apartir de um texto. Quando igual a `False` reduz a quantidade de tokens gerados."
      ]
    },
    {
      "cell_type": "code",
      "metadata": {
        "id": "cMivq-Lk4ls5",
        "colab": {
          "base_uri": "https://localhost:8080/"
        },
        "outputId": "753067fa-c151-4689-f165-27d9a240edbe"
      },
      "source": [
        "# Importando as bibliotecas do Modelo e do Tokenizador\n",
        "from transformers import BertModel, BertTokenizer\n",
        "\n",
        "# Se a variável 'fonteBERT' foi setada para 'DIRETORIO_MODELO' faz o download dos arquivos modelo\n",
        "if fonteBERT == 'DIRETORIO_MODELO':\n",
        "\n",
        "    # Carregando o Tokenizador do diretório\n",
        "    print('Carregando o tokenizador BERT_' + tamanhoBERT + ' do diretório ' + DIRETORIO_MODELO + '...')\n",
        "\n",
        "    tokenizer = BertTokenizer.from_pretrained(DIRETORIO_MODELO,\n",
        "                                               do_lower_case=False)   \n",
        "\n",
        "    # Carregando o Modelo do diretório\n",
        "    print('Carregando o modelo BERT_' + tamanhoBERT + ' do diretório ' + DIRETORIO_MODELO + '...')\n",
        "\n",
        "    model = BertModel.from_pretrained(DIRETORIO_MODELO,\n",
        "                                      output_hidden_states = pesosCamadasOcultas) # Se o modelo retorna todos os estados ocultos)\n",
        "\n",
        "else:\n",
        "    # Se a variável 'tamanhoBERT' foi setada para 'base' faz o carregamento do tamanho base do BERT, caso contrário do large.\n",
        "    if tamanhoBERT == 'base':\n",
        "        # Carregando o Tokenizador da comunidade\n",
        "        print('Carregando o tokenizador BERT_base da comunidade...')\n",
        "\n",
        "        tokenizer = BertTokenizer.from_pretrained('neuralmind/bert-base-portuguese-cased',\n",
        "                                                   do_lower_case=False)     \n",
        "\n",
        "        # Carregando o Modelo da comunidade\n",
        "        print('Carregando o modelo BERT_base da comunidade...')\n",
        "\n",
        "        model = BertModel.from_pretrained('neuralmind/bert-base-portuguese-cased', \n",
        "                                          output_hidden_states = pesosCamadasOcultas) # Se o modelo retorna todos os estados ocultos)  \n",
        "    else:\n",
        "        # Carregando o Tokenizador da comunidade  \n",
        "        print('Carregando o tokenizador BERT_large da comunidade...')\n",
        "\n",
        "        tokenizer = BertTokenizer.from_pretrained('neuralmind/bert-large-portuguese-cased',\n",
        "                                                   do_lower_case=False)     \n",
        "\n",
        "        # Carregando o Modelo da comunidade\n",
        "        print('Carregando o modelo BERT_large da comunidade...')\n",
        "\n",
        "        model = BertModel.from_pretrained('neuralmind/bert-large-portuguese-cased', \n",
        "                                          output_hidden_states = pesosCamadasOcultas) # Se o modelo retorna todos os estados ocultos)  \n"
      ],
      "execution_count": null,
      "outputs": [
        {
          "output_type": "stream",
          "text": [
            "Carregando o tokenizador BERT_large do diretório /content/modelo...\n",
            "Carregando o modelo BERT_large do diretório /content/modelo...\n"
          ],
          "name": "stdout"
        }
      ]
    },
    {
      "cell_type": "markdown",
      "metadata": {
        "id": "T7NXsoTTC9rf"
      },
      "source": [
        "#### Usando o BERT da comunidade ou diretório  com uma função que retorna o tokenizador v4\n",
        "\n",
        "Função que retorna o tokenizador do BERT. permite configurar o tamanho do modelo e a fonte do modelo. \n",
        "\n",
        "A linguagem do modelo é especificada internamente na função.\n",
        "\n",
        "O parâmetro  `fonteBERT` com os valores `comunidade` ou `diretório` especifica se deve ser carregado o BERT de um diretório ou da comunidade.\n",
        "\n",
        "O parâmetro `tamanhoBERT` com os valores `base` ou `large` especifica se o tamanho do modelo BERT a ser utilizado.\n",
        "\n",
        "O parâmetro `linguaBERT` com os valores `multilingual`, `portugues` ou `ingles` especifica a lingua do modelo BERT a ser utilizado.\n",
        "\n",
        "O parâmetro `do_lower_case=True` Especifica a conversão das letras maiúsculas em minúsculo e a remoção das letras acentuadas para o tokenizador do BERT. Nesta função o default `False` pois a língua portuguesa possui letras acentuadas(ãçéí...), que são necessárias a língua portuguesa, desta maneira mantendo letras maiúsculas e minúsculas. No método `from_pretrained` o default é `True` quando o parämetro não é especificado.\n",
        "\n",
        "A função retorna o **tokenizador** para os parâmetros especificado"
      ]
    },
    {
      "cell_type": "markdown",
      "metadata": {
        "id": "TCyv5sfgC9rg"
      },
      "source": [
        "##### Declarando uma função que retorna o tokenizador."
      ]
    },
    {
      "cell_type": "code",
      "metadata": {
        "id": "H1siflk0C9rh"
      },
      "source": [
        "# Valores default para os parâmetros da função\n",
        "def getTokenizadorBERT(fonteBERT = 'comunidade', \n",
        "                       tamanhoBERT = 'base', \n",
        "                       linguaBERT = 'portugues',\n",
        "                       do_lower_case = False):\n",
        "\n",
        "    \"\"\"Retorna o tokenizador BERT carregado.\n",
        "    De acordo com os parâmetros especificados ou carrega o BERT da comunidade \n",
        "    ou realiza o download dos arquivos do modelo.\n",
        "\n",
        "    Args:\n",
        "        fonteBERT: Especifica a origem do modelo do BERT 'comunidade' ou 'DIRETORIO_MODELO'.\n",
        "        tamanhoBERT: Especifica o tamanho do modelo do BERT 'large' ou 'base'.\n",
        "        linguaBERT: Especifica a língua do modelo do BERT 'multilingual', 'portugues' ou 'ingles'.\n",
        "        do_lower_case: Especifica se o tokenizador do BERT deve ignorar a conversão para minúsculo. Para ignorar use o parâmetro do_lower_case=True.\n",
        "\n",
        "    Returns:\n",
        "        `tokenizador` com o tokenizador do modelo BERT carregado.       \n",
        "    \"\"\"\n",
        "    #======================================================================\n",
        "    # Verificação do idioma e tamanho do modelo\n",
        "    #======================================================================\n",
        "    # Verifica se a língua é português e o tamanho do modelo\n",
        "    if linguaBERT == 'multilingual' and tamanhoBERT == 'base':\n",
        "        nome_modelo_bert = 'bert-base-multilingual-cased'\n",
        "    else:\n",
        "        if linguaBERT == 'portugues' and tamanhoBERT == 'base':\n",
        "          nome_modelo_bert = 'neuralmind/bert-base-portuguese-cased'\n",
        "        else:\n",
        "            if linguaBERT == 'portugues' and tamanhoBERT == 'large':\n",
        "              nome_modelo_bert = 'neuralmind/bert-large-portuguese-cased'\n",
        "            else:\n",
        "                # Verifica se a língua é inglés e o tamanho do modelo\n",
        "                if linguaBERT == 'ingles' and tamanhoBERT == 'base':\n",
        "                  nome_modelo_bert = 'bert-base-cased'\n",
        "                else:\n",
        "                    if linguaBERT == 'ingles' and tamanhoBERT == 'large':\n",
        "                      nome_modelo_bert = 'bert-large-cased'\n",
        "                    else:\n",
        "                      print(\"Parâmetros \\'língua\\' e \\'tamanhoBERT\\' especificados incorretamente!\")\n",
        "                      return None, None\n",
        "\n",
        "    #======================================================================\n",
        "    # Download do arquivo do modelo\n",
        "    #======================================================================\n",
        "    #Se a variável 'fonteBERT' foi setada para 'DIRETORIO_MODELO' faz o download dos arquivos modelo\n",
        "    if fonteBERT == 'DIRETORIO_MODELO' and linguaBERT == 'portugues':\n",
        "    \n",
        "      # Se a variável 'tamanhoBERT' foi setada para 'base' faz o download do arquivo do tamanho base do BERT, caso contrário do large.\n",
        "      if tamanhoBERT == 'base':\n",
        "          # Url do arquivo do modelo do Pytorch checkpoint\n",
        "          # arquivo menor(base) 1.1 Gbytes\n",
        "          URL_MODELO = \"https://neuralmind-ai.s3.us-east-2.amazonaws.com/nlp/bert-base-portuguese-cased/bert-base-portuguese-cased_pytorch_checkpoint.zip\"\n",
        "      else:\n",
        "          # Url do arquivo do modelo do Pytorch checkpoint\n",
        "          # arquivo grande(large) 3.5 Gbytes\n",
        "          URL_MODELO = \"https://neuralmind-ai.s3.us-east-2.amazonaws.com/nlp/bert-large-portuguese-cased/bert-large-portuguese-cased_pytorch_checkpoint.zip\"\n",
        "\n",
        "      # Diretório descompactação do modelo\n",
        "      DIRETORIO_MODELO = '/content/modelo' + tamanhoBERT\n",
        "\n",
        "      # Recupera o nome do arquivo do modelo da url anterior\n",
        "      arquivo = URL_MODELO.split(\"/\")[-1]\n",
        "\n",
        "      # Nome do arquivo do vocabulário\n",
        "      arquivo_vocab = \"vocab.txt\"\n",
        "\n",
        "      # Caminho do arquivo na URL_MODELO\n",
        "      caminho = URL_MODELO[0:len(URL_MODELO)-len(arquivo)]\n",
        "\n",
        "      # Verifica se a pasta de descompactação existe no pasta corrente\n",
        "      if not os.path.exists(DIRETORIO_MODELO):\n",
        "   \n",
        "          # Realiza o download do arquivo do modelo\n",
        "          !wget $URL_MODELO\n",
        "    \n",
        "          # Descompacta o arquivo na pasta de destino\n",
        "          !unzip -o $arquivo -d $DIRETORIO_MODELO\n",
        "\n",
        "          # Realiza o download do arquivo do vocabulário\n",
        "          # O vocabulário não está no arquivo compactado acima\n",
        "          # Concatena o caminho do modelo mais o nome do arquivo do vocabulário\n",
        "          URL_MODELO_VOCAB = caminho + arquivo_vocab\n",
        "\n",
        "          # Realiza o download do arquivo do vocabulário\n",
        "          !wget $URL_MODELO_VOCAB\n",
        "    \n",
        "          # Move o arquivo do vocabulário para o diretório do modelo\n",
        "          !mv $arquivo_vocab $DIRETORIO_MODELO\n",
        "            \n",
        "          # Move o arquivo do modelo para o diretório do modelo\n",
        "          !mv $arquivo $DIRETORIO_MODELO      \n",
        "                \n",
        "          print('Diretório do modelo:\\'' + DIRETORIO_MODELO + '\\' pronta!')\n",
        "      else:      \n",
        "          print('Diretório do modelo:\\'' + DIRETORIO_MODELO + '\\' já existe!')\n",
        "      \n",
        "    else:\n",
        "        if linguaBERT == 'ingles':\n",
        "            print('O modelo BERT na língua inglesa deve ser carregado somente da comunidade.')\n",
        "       \n",
        "    #======================================================================\n",
        "    # Carregamento do tokenizador\n",
        "    #======================================================================\n",
        "\n",
        "    # Importando as bibliotecas do Tokenizador\n",
        "    from transformers import BertTokenizer\n",
        "\n",
        "    # Se a variável 'fonteBERT' foi setada para 'DIRETORIO_MODELO' faz o download dos arquivos modelo\n",
        "    # Carregamento de diretório somente para a língua portuguesa\n",
        "    if fonteBERT == 'DIRETORIO_MODELO' and linguaBERT == 'portugues':\n",
        "\n",
        "        # Carregando o Tokenizador do diretório\n",
        "        print('Carregando o tokenizador BERT_' + tamanhoBERT \n",
        "              + ' do diretório \\'' + DIRETORIO_MODELO \n",
        "              + '\\' em língua \\''+ linguaBERT + '\\'...')\n",
        "\n",
        "        tokenizer = BertTokenizer.from_pretrained(DIRETORIO_MODELO,\n",
        "                                                  do_lower_case=do_lower_case)\n",
        "    else:\n",
        "        # Carregando o Tokenizador da comunidade\n",
        "        print('Carregando o tokenizador BERT \\'' + nome_modelo_bert \n",
        "              + '\\' da comunidade em língua \\''+ linguaBERT + '\\'...')\n",
        "\n",
        "        tokenizer = BertTokenizer.from_pretrained(nome_modelo_bert,\n",
        "                                                  do_lower_case=do_lower_case)\n",
        "\n",
        "    # Retorna o tokenizador BERT carregado           \n",
        "    return tokenizer"
      ],
      "execution_count": null,
      "outputs": []
    },
    {
      "cell_type": "markdown",
      "metadata": {
        "id": "MemXlw5fC9rl"
      },
      "source": [
        "##### Usando a função **getTokenizadorBERT()**"
      ]
    },
    {
      "cell_type": "code",
      "metadata": {
        "id": "W2dSJJQsC9rl",
        "colab": {
          "base_uri": "https://localhost:8080/"
        },
        "outputId": "3d6208a6-c9c1-41e0-eefb-421b3c3d441c"
      },
      "source": [
        "tokenizador = getTokenizadorBERT()\n",
        "\n",
        "del tokenizador"
      ],
      "execution_count": null,
      "outputs": [
        {
          "output_type": "stream",
          "text": [
            "Carregando o tokenizador BERT 'neuralmind/bert-base-portuguese-cased' da comunidade em língua 'portugues'...\n"
          ],
          "name": "stdout"
        }
      ]
    },
    {
      "cell_type": "code",
      "metadata": {
        "id": "gK9EVQjTC9ro",
        "colab": {
          "base_uri": "https://localhost:8080/",
          "height": 230,
          "referenced_widgets": [
            "3256d992dcf74753a3ba7fb44d69208c",
            "320996a3d2d34a03ad156cdd89f97f48",
            "6b3663df5f01445984645063538591a4",
            "eddea81c6fb54021898c36b3d6d6a08c",
            "30555d4e375e4dfc8039cf2332f8e45c",
            "f42f4393417549ed9a5c2f52a6af5914",
            "85015ca97fca4a4cbcd3484cf19badcb",
            "67c647a2b12d4062b08834a11ea90f28",
            "812acfd67f374c439fefd2b07abdf1c0",
            "f4534f657aaa451590e49507138a0070",
            "9b79b4774f7d4f2aa2b23260ca4e65c2",
            "a2588d6415674bb4928f7f9fbf1ad5a0",
            "16bc7d2c714c4eab936ef4b6d7d93470",
            "8fea7d134c504679aad495dd40971d25",
            "c86a7ca2d10c4ac7a9393b8d5c33ae6f",
            "47dd1a7ec64f4af7af4f70b3e6f5e1bb",
            "a2dc0d7970274bd5ba9f83339d912b6a",
            "c0f8c1d9c8d040e68d286efd49f18796",
            "f0da02d533a243838b1684f89216447d",
            "27c6cb61eede455c90fe949b08e44190",
            "11b2e94089cd40e9b2d9d2be016a3140",
            "e37272ed325043a7a9fa85157e68c40b",
            "2d30bd2f834942639e450986338c8a93",
            "187af54a50484580b4e0ad49d78015cf",
            "04768c64400041baaad156e5f775ebd9",
            "c710db6edb5847abad40f33a8f1dbd5e",
            "50321bcbf99e4c71b036a63e74dd7215",
            "58f24bedca57492dba31b57a153119a9",
            "27f0b1d1d689417b8a72bd7df2cce62e",
            "c99ffa320d314443a53a0a0852d0a59d",
            "d06a13ea9365498c96fd1231c047e49f",
            "9581341fe6e54a49a508269ebbc5f908"
          ]
        },
        "outputId": "ce0884d0-ac3a-4a7a-cfba-388d9a8a9e64"
      },
      "source": [
        "tokenizador = getTokenizadorBERT(tamanhoBERT = 'large')\n",
        "\n",
        "del tokenizador"
      ],
      "execution_count": null,
      "outputs": [
        {
          "output_type": "stream",
          "text": [
            "Carregando o tokenizador BERT 'neuralmind/bert-large-portuguese-cased' da comunidade em língua 'portugues'...\n"
          ],
          "name": "stdout"
        },
        {
          "output_type": "display_data",
          "data": {
            "application/vnd.jupyter.widget-view+json": {
              "model_id": "3256d992dcf74753a3ba7fb44d69208c",
              "version_minor": 0,
              "version_major": 2
            },
            "text/plain": [
              "HBox(children=(FloatProgress(value=0.0, description='Downloading', max=209528.0, style=ProgressStyle(descripti…"
            ]
          },
          "metadata": {
            "tags": []
          }
        },
        {
          "output_type": "stream",
          "text": [
            "\n"
          ],
          "name": "stdout"
        },
        {
          "output_type": "display_data",
          "data": {
            "application/vnd.jupyter.widget-view+json": {
              "model_id": "812acfd67f374c439fefd2b07abdf1c0",
              "version_minor": 0,
              "version_major": 2
            },
            "text/plain": [
              "HBox(children=(FloatProgress(value=0.0, description='Downloading', max=2.0, style=ProgressStyle(description_wi…"
            ]
          },
          "metadata": {
            "tags": []
          }
        },
        {
          "output_type": "stream",
          "text": [
            "\n"
          ],
          "name": "stdout"
        },
        {
          "output_type": "display_data",
          "data": {
            "application/vnd.jupyter.widget-view+json": {
              "model_id": "a2dc0d7970274bd5ba9f83339d912b6a",
              "version_minor": 0,
              "version_major": 2
            },
            "text/plain": [
              "HBox(children=(FloatProgress(value=0.0, description='Downloading', max=112.0, style=ProgressStyle(description_…"
            ]
          },
          "metadata": {
            "tags": []
          }
        },
        {
          "output_type": "stream",
          "text": [
            "\n"
          ],
          "name": "stdout"
        },
        {
          "output_type": "display_data",
          "data": {
            "application/vnd.jupyter.widget-view+json": {
              "model_id": "04768c64400041baaad156e5f775ebd9",
              "version_minor": 0,
              "version_major": 2
            },
            "text/plain": [
              "HBox(children=(FloatProgress(value=0.0, description='Downloading', max=155.0, style=ProgressStyle(description_…"
            ]
          },
          "metadata": {
            "tags": []
          }
        },
        {
          "output_type": "stream",
          "text": [
            "\n"
          ],
          "name": "stdout"
        }
      ]
    },
    {
      "cell_type": "code",
      "metadata": {
        "id": "-pylw2QuC9rr",
        "colab": {
          "base_uri": "https://localhost:8080/"
        },
        "outputId": "bac583e8-f36f-4a3d-95fb-e7418f84c280"
      },
      "source": [
        "tokenizador = getTokenizadorBERT(tamanhoBERT = 'base')\n",
        "\n",
        "del tokenizador"
      ],
      "execution_count": null,
      "outputs": [
        {
          "output_type": "stream",
          "text": [
            "Carregando o tokenizador BERT 'neuralmind/bert-base-portuguese-cased' da comunidade em língua 'portugues'...\n"
          ],
          "name": "stdout"
        }
      ]
    },
    {
      "cell_type": "code",
      "metadata": {
        "id": "8JZqO28VC9rt",
        "colab": {
          "base_uri": "https://localhost:8080/"
        },
        "outputId": "eebb9904-4c08-4739-9301-de0d07f796d8"
      },
      "source": [
        "tokenizador = getTokenizadorBERT(fonteBERT = 'DIRETORIO_MODELO', \n",
        "                      tamanhoBERT = 'base')\n",
        "\n",
        "del tokenizador"
      ],
      "execution_count": null,
      "outputs": [
        {
          "output_type": "stream",
          "text": [
            "--2021-05-01 20:27:28--  https://neuralmind-ai.s3.us-east-2.amazonaws.com/nlp/bert-base-portuguese-cased/bert-base-portuguese-cased_pytorch_checkpoint.zip\n",
            "Resolving neuralmind-ai.s3.us-east-2.amazonaws.com (neuralmind-ai.s3.us-east-2.amazonaws.com)... 52.219.102.250\n",
            "Connecting to neuralmind-ai.s3.us-east-2.amazonaws.com (neuralmind-ai.s3.us-east-2.amazonaws.com)|52.219.102.250|:443... connected.\n",
            "HTTP request sent, awaiting response... 200 OK\n",
            "Length: 406220891 (387M) [application/zip]\n",
            "Saving to: ‘bert-base-portuguese-cased_pytorch_checkpoint.zip’\n",
            "\n",
            "bert-base-portugues 100%[===================>] 387.40M  93.4MB/s    in 4.4s    \n",
            "\n",
            "2021-05-01 20:27:33 (88.8 MB/s) - ‘bert-base-portuguese-cased_pytorch_checkpoint.zip’ saved [406220891/406220891]\n",
            "\n",
            "Archive:  bert-base-portuguese-cased_pytorch_checkpoint.zip\n",
            "  inflating: /content/modelobase/config.json  \n",
            "  inflating: /content/modelobase/pytorch_model.bin  \n",
            "--2021-05-01 20:27:38--  https://neuralmind-ai.s3.us-east-2.amazonaws.com/nlp/bert-base-portuguese-cased/vocab.txt\n",
            "Resolving neuralmind-ai.s3.us-east-2.amazonaws.com (neuralmind-ai.s3.us-east-2.amazonaws.com)... 52.219.105.10\n",
            "Connecting to neuralmind-ai.s3.us-east-2.amazonaws.com (neuralmind-ai.s3.us-east-2.amazonaws.com)|52.219.105.10|:443... connected.\n",
            "HTTP request sent, awaiting response... 200 OK\n",
            "Length: 209528 (205K) [text/plain]\n",
            "Saving to: ‘vocab.txt’\n",
            "\n",
            "vocab.txt           100%[===================>] 204.62K  --.-KB/s    in 0.09s   \n",
            "\n",
            "2021-05-01 20:27:39 (2.31 MB/s) - ‘vocab.txt’ saved [209528/209528]\n",
            "\n",
            "Diretório do modelo:'/content/modelobase' pronta!\n",
            "Carregando o tokenizador BERT_base do diretório '/content/modelobase' em língua 'portugues'...\n"
          ],
          "name": "stdout"
        }
      ]
    },
    {
      "cell_type": "code",
      "metadata": {
        "id": "SxPhkiHgC9rw",
        "colab": {
          "base_uri": "https://localhost:8080/"
        },
        "outputId": "3ec1903d-e733-476c-c84a-1e9d1a524ebf"
      },
      "source": [
        "tokenizador = getTokenizadorBERT(fonteBERT = 'DIRETORIO_MODELO', \n",
        "                      tamanhoBERT = 'large', \n",
        "                      linguaBERT = 'portugues')\n",
        "\n",
        "del tokenizador"
      ],
      "execution_count": null,
      "outputs": [
        {
          "output_type": "stream",
          "text": [
            "--2021-05-01 20:27:39--  https://neuralmind-ai.s3.us-east-2.amazonaws.com/nlp/bert-large-portuguese-cased/bert-large-portuguese-cased_pytorch_checkpoint.zip\n",
            "Resolving neuralmind-ai.s3.us-east-2.amazonaws.com (neuralmind-ai.s3.us-east-2.amazonaws.com)... 52.219.105.10\n",
            "Connecting to neuralmind-ai.s3.us-east-2.amazonaws.com (neuralmind-ai.s3.us-east-2.amazonaws.com)|52.219.105.10|:443... connected.\n",
            "HTTP request sent, awaiting response... 200 OK\n",
            "Length: 1244275810 (1.2G) [application/zip]\n",
            "Saving to: ‘bert-large-portuguese-cased_pytorch_checkpoint.zip’\n",
            "\n",
            "bert-large-portugue 100%[===================>]   1.16G  98.6MB/s    in 15s     \n",
            "\n",
            "2021-05-01 20:27:55 (78.3 MB/s) - ‘bert-large-portuguese-cased_pytorch_checkpoint.zip’ saved [1244275810/1244275810]\n",
            "\n",
            "Archive:  bert-large-portuguese-cased_pytorch_checkpoint.zip\n",
            "  inflating: /content/modelolarge/config.json  \n",
            "  inflating: /content/modelolarge/pytorch_model.bin  \n",
            "--2021-05-01 20:28:10--  https://neuralmind-ai.s3.us-east-2.amazonaws.com/nlp/bert-large-portuguese-cased/vocab.txt\n",
            "Resolving neuralmind-ai.s3.us-east-2.amazonaws.com (neuralmind-ai.s3.us-east-2.amazonaws.com)... 52.219.101.234\n",
            "Connecting to neuralmind-ai.s3.us-east-2.amazonaws.com (neuralmind-ai.s3.us-east-2.amazonaws.com)|52.219.101.234|:443... connected.\n",
            "HTTP request sent, awaiting response... 200 OK\n",
            "Length: 209528 (205K) [text/plain]\n",
            "Saving to: ‘vocab.txt’\n",
            "\n",
            "vocab.txt           100%[===================>] 204.62K  --.-KB/s    in 0.1s    \n",
            "\n",
            "2021-05-01 20:28:10 (1.85 MB/s) - ‘vocab.txt’ saved [209528/209528]\n",
            "\n",
            "Diretório do modelo:'/content/modelolarge' pronta!\n",
            "Carregando o tokenizador BERT_large do diretório '/content/modelolarge' em língua 'portugues'...\n"
          ],
          "name": "stdout"
        }
      ]
    },
    {
      "cell_type": "code",
      "metadata": {
        "id": "ch9g2K7JC9ry",
        "colab": {
          "base_uri": "https://localhost:8080/"
        },
        "outputId": "e8cebf41-d085-499b-a71f-0d5815eef49c"
      },
      "source": [
        "tokenizador = getTokenizadorBERT(fonteBERT = 'DIRETORIO_MODELO', \n",
        "                                 tamanhoBERT = 'base', \n",
        "                                 linguaBERT = 'portugues')\n",
        "\n",
        "del tokenizador"
      ],
      "execution_count": null,
      "outputs": [
        {
          "output_type": "stream",
          "text": [
            "Diretório do modelo:'/content/modelobase' já existe!\n",
            "Carregando o tokenizador BERT_base do diretório '/content/modelobase' em língua 'portugues'...\n"
          ],
          "name": "stdout"
        }
      ]
    },
    {
      "cell_type": "code",
      "metadata": {
        "id": "wqAOEy4KC9r1",
        "colab": {
          "base_uri": "https://localhost:8080/"
        },
        "outputId": "c131f28c-a196-48d3-e3d2-2d89518f6128"
      },
      "source": [
        "tokenizador = getTokenizadorBERT(fonteBERT = 'comunidade', \n",
        "                      tamanhoBERT = 'large', \n",
        "                      linguaBERT = 'portugues')\n",
        "\n",
        "del tokenizador"
      ],
      "execution_count": null,
      "outputs": [
        {
          "output_type": "stream",
          "text": [
            "Carregando o tokenizador BERT 'neuralmind/bert-large-portuguese-cased' da comunidade em língua 'portugues'...\n"
          ],
          "name": "stdout"
        }
      ]
    },
    {
      "cell_type": "code",
      "metadata": {
        "id": "7yZilzc7C9r3",
        "colab": {
          "base_uri": "https://localhost:8080/"
        },
        "outputId": "29e6a53c-44b4-4748-ed64-3ce11d2f6af6"
      },
      "source": [
        "tokenizador = getTokenizadorBERT(fonteBERT = 'comunidade', \n",
        "                                 tamanhoBERT = 'base', \n",
        "                                 linguaBERT = 'portugues')\n",
        "\n",
        "del tokenizador"
      ],
      "execution_count": null,
      "outputs": [
        {
          "output_type": "stream",
          "text": [
            "Carregando o tokenizador BERT 'neuralmind/bert-base-portuguese-cased' da comunidade em língua 'portugues'...\n"
          ],
          "name": "stdout"
        }
      ]
    },
    {
      "cell_type": "code",
      "metadata": {
        "id": "wmcpd7bgC9r7",
        "colab": {
          "base_uri": "https://localhost:8080/",
          "height": 198,
          "referenced_widgets": [
            "00c4b37c76164ebf9ee02bade437cec0",
            "d5c5af814fb54b76b48beedc650c7544",
            "8b1274f0d0084585b730c1b729c92e06",
            "4a4933e1427d4510ba360b02c2d99359",
            "a4ac97c478a44d44beee222124f35fb7",
            "0ca89630804f4e90b17da7b950d608b3",
            "c2afbf0f7ae34f66955fa3dcfabd697a",
            "bd59bea06a684d428f53133fcd1308c6",
            "9324213409a346a9b3c80b064d9d0e42",
            "3b8cbe98f87542d49d70039a338197b2",
            "19d85c9a31ad455f8afb88394448bc6f",
            "192f8332c32b40e48e52266e8e26ee05",
            "401f9e14407c4566bd052acb18abef3a",
            "2e701a5fd86243638c0276f496dbc2d0",
            "01f0421a9baf4444aee81a972a180e55",
            "7091017e67f242f3966ef296cb09b09b",
            "d4d37b0369af4c83aea128d7fc99bd62",
            "669d2a03738a4db3bdf6ad1a9f208a55",
            "d1ee39e5a0444e2e8a973170de9302c3",
            "19c9e492aa524d7fb62a95996ea7a7b4",
            "77c5a7386b6d4acea5270e40d40c187c",
            "89e2172a92a645939bd39b6d53480da3",
            "390a40c1f35143889730571fec40776e",
            "85c7b4adeb7045c28cad3ebf537ea757"
          ]
        },
        "outputId": "093465a9-9680-4437-c566-81c697437d13"
      },
      "source": [
        "tokenizador  = getTokenizadorBERT(tamanhoBERT = 'large', \n",
        "                                  linguaBERT = 'ingles')\n",
        "\n",
        "del tokenizador"
      ],
      "execution_count": null,
      "outputs": [
        {
          "output_type": "stream",
          "text": [
            "O modelo BERT na língua inglesa deve ser carregado somente da comunidade.\n",
            "Carregando o tokenizador BERT 'bert-large-cased' da comunidade em língua 'ingles'...\n"
          ],
          "name": "stdout"
        },
        {
          "output_type": "display_data",
          "data": {
            "application/vnd.jupyter.widget-view+json": {
              "model_id": "00c4b37c76164ebf9ee02bade437cec0",
              "version_minor": 0,
              "version_major": 2
            },
            "text/plain": [
              "HBox(children=(FloatProgress(value=0.0, description='Downloading', max=213450.0, style=ProgressStyle(descripti…"
            ]
          },
          "metadata": {
            "tags": []
          }
        },
        {
          "output_type": "stream",
          "text": [
            "\n"
          ],
          "name": "stdout"
        },
        {
          "output_type": "display_data",
          "data": {
            "application/vnd.jupyter.widget-view+json": {
              "model_id": "9324213409a346a9b3c80b064d9d0e42",
              "version_minor": 0,
              "version_major": 2
            },
            "text/plain": [
              "HBox(children=(FloatProgress(value=0.0, description='Downloading', max=29.0, style=ProgressStyle(description_w…"
            ]
          },
          "metadata": {
            "tags": []
          }
        },
        {
          "output_type": "stream",
          "text": [
            "\n"
          ],
          "name": "stdout"
        },
        {
          "output_type": "display_data",
          "data": {
            "application/vnd.jupyter.widget-view+json": {
              "model_id": "d4d37b0369af4c83aea128d7fc99bd62",
              "version_minor": 0,
              "version_major": 2
            },
            "text/plain": [
              "HBox(children=(FloatProgress(value=0.0, description='Downloading', max=435797.0, style=ProgressStyle(descripti…"
            ]
          },
          "metadata": {
            "tags": []
          }
        },
        {
          "output_type": "stream",
          "text": [
            "\n"
          ],
          "name": "stdout"
        }
      ]
    },
    {
      "cell_type": "code",
      "metadata": {
        "id": "EtLgJEEGC9r-",
        "colab": {
          "base_uri": "https://localhost:8080/",
          "height": 198,
          "referenced_widgets": [
            "8cdde4d659ae4193847689d6f2e04468",
            "24beb0b195a9469e983d61ef0e881d37",
            "f4af91e46aa94e6ba9c43bc578ff7d4d",
            "1b5599aad24447e9a83101efe93babda",
            "c2fb023150aa4819bbb5cb047b3e847a",
            "effa82d7fed8434aade89b96b49fe3e2",
            "6971e1aa29f34145825c1009d800a71b",
            "06ccf4d0118540af9f42f0711a3863b9",
            "ef3b300630294f99aca894d0b9a9683b",
            "99b42396020d4c1999219c7f90d773d6",
            "c2d3126d95ef45af8b094a99af800884",
            "03282bae184e42748c2565fbc92b8ce4",
            "b121a5db21674f269cd2df24e767d4a2",
            "0aef1c0113424dfb996a0db1b4a109ca",
            "be3db2e879814423abec04f224a2a9f2",
            "6fcf41c02a614ae586399f6e70de75d5",
            "14b294522dba402f9c49d582145c64b5",
            "f2a3fa10d2294ff8814f4023b20f44ce",
            "bb026d6057614e10b1631b6bbd174e5f",
            "20a658155aad49b28765f726c5e7fc01",
            "3f9a4b2a45d247f69975e4d94eddfc45",
            "9ad8566994e14da7a876f0a740dfd14a",
            "67dde9d6f8e044fea1569e84d2912b8f",
            "ba4d8bbe873543e09877f3f51d92539f"
          ]
        },
        "outputId": "d7efd732-6dd1-4bbf-a72f-13c3a5d76af4"
      },
      "source": [
        "tokenizador = getTokenizadorBERT(tamanhoBERT = 'base', \n",
        "                                 linguaBERT = 'ingles')\n",
        "\n",
        "del tokenizador"
      ],
      "execution_count": null,
      "outputs": [
        {
          "output_type": "stream",
          "text": [
            "O modelo BERT na língua inglesa deve ser carregado somente da comunidade.\n",
            "Carregando o tokenizador BERT 'bert-base-cased' da comunidade em língua 'ingles'...\n"
          ],
          "name": "stdout"
        },
        {
          "output_type": "display_data",
          "data": {
            "application/vnd.jupyter.widget-view+json": {
              "model_id": "8cdde4d659ae4193847689d6f2e04468",
              "version_minor": 0,
              "version_major": 2
            },
            "text/plain": [
              "HBox(children=(FloatProgress(value=0.0, description='Downloading', max=213450.0, style=ProgressStyle(descripti…"
            ]
          },
          "metadata": {
            "tags": []
          }
        },
        {
          "output_type": "stream",
          "text": [
            "\n"
          ],
          "name": "stdout"
        },
        {
          "output_type": "display_data",
          "data": {
            "application/vnd.jupyter.widget-view+json": {
              "model_id": "ef3b300630294f99aca894d0b9a9683b",
              "version_minor": 0,
              "version_major": 2
            },
            "text/plain": [
              "HBox(children=(FloatProgress(value=0.0, description='Downloading', max=29.0, style=ProgressStyle(description_w…"
            ]
          },
          "metadata": {
            "tags": []
          }
        },
        {
          "output_type": "stream",
          "text": [
            "\n"
          ],
          "name": "stdout"
        },
        {
          "output_type": "display_data",
          "data": {
            "application/vnd.jupyter.widget-view+json": {
              "model_id": "14b294522dba402f9c49d582145c64b5",
              "version_minor": 0,
              "version_major": 2
            },
            "text/plain": [
              "HBox(children=(FloatProgress(value=0.0, description='Downloading', max=435797.0, style=ProgressStyle(descripti…"
            ]
          },
          "metadata": {
            "tags": []
          }
        },
        {
          "output_type": "stream",
          "text": [
            "\n"
          ],
          "name": "stdout"
        }
      ]
    },
    {
      "cell_type": "code",
      "metadata": {
        "id": "1IxywOwUC9sA",
        "colab": {
          "base_uri": "https://localhost:8080/"
        },
        "outputId": "f60e7747-2ca7-47ca-9f62-a254a4995a93"
      },
      "source": [
        "tokenizador = getTokenizadorBERT(fonteBERT = 'DIRETORIO_MODELO', \n",
        "                                tamanhoBERT = 'large', \n",
        "                                linguaBERT = 'ingles')\n",
        "\n",
        "del tokenizador"
      ],
      "execution_count": null,
      "outputs": [
        {
          "output_type": "stream",
          "text": [
            "O modelo BERT na língua inglesa deve ser carregado somente da comunidade.\n",
            "Carregando o tokenizador BERT 'bert-large-cased' da comunidade em língua 'ingles'...\n"
          ],
          "name": "stdout"
        }
      ]
    },
    {
      "cell_type": "code",
      "metadata": {
        "id": "aoH_mQBaC9sC",
        "colab": {
          "base_uri": "https://localhost:8080/"
        },
        "outputId": "ba6e760b-dc2f-4f51-b132-8f3c11178cc1"
      },
      "source": [
        "tokenizador = getTokenizadorBERT(fonteBERT = 'DIRETORIO_MODELO', \n",
        "                                 tamanhoBERT = 'base', \n",
        "                                 linguaBERT = 'ingles')\n",
        "\n",
        "del tokenizador"
      ],
      "execution_count": null,
      "outputs": [
        {
          "output_type": "stream",
          "text": [
            "O modelo BERT na língua inglesa deve ser carregado somente da comunidade.\n",
            "Carregando o tokenizador BERT 'bert-base-cased' da comunidade em língua 'ingles'...\n"
          ],
          "name": "stdout"
        }
      ]
    },
    {
      "cell_type": "code",
      "metadata": {
        "id": "PsVXks6PC9sE",
        "colab": {
          "base_uri": "https://localhost:8080/"
        },
        "outputId": "9cc316f4-3de8-40bd-810c-93abe7da2316"
      },
      "source": [
        "tokenizador = getTokenizadorBERT(fonteBERT = 'comunidade', \n",
        "                                 tamanhoBERT = 'large', \n",
        "                                 linguaBERT = 'ingles')\n",
        "\n",
        "del tokenizador"
      ],
      "execution_count": null,
      "outputs": [
        {
          "output_type": "stream",
          "text": [
            "O modelo BERT na língua inglesa deve ser carregado somente da comunidade.\n",
            "Carregando o tokenizador BERT 'bert-large-cased' da comunidade em língua 'ingles'...\n"
          ],
          "name": "stdout"
        }
      ]
    },
    {
      "cell_type": "code",
      "metadata": {
        "id": "uJ1NiUxgC9sH",
        "colab": {
          "base_uri": "https://localhost:8080/"
        },
        "outputId": "7a898c6c-2c5d-4f5c-b7b0-fe8e9e17d404"
      },
      "source": [
        "tokenizador = getTokenizadorBERT(fonteBERT = 'comunidade', \n",
        "                                 tamanhoBERT = 'base', \n",
        "                                 linguaBERT = 'ingles') \n",
        "\n",
        "del tokenizador"
      ],
      "execution_count": null,
      "outputs": [
        {
          "output_type": "stream",
          "text": [
            "O modelo BERT na língua inglesa deve ser carregado somente da comunidade.\n",
            "Carregando o tokenizador BERT 'bert-base-cased' da comunidade em língua 'ingles'...\n"
          ],
          "name": "stdout"
        }
      ]
    },
    {
      "cell_type": "code",
      "metadata": {
        "colab": {
          "base_uri": "https://localhost:8080/",
          "height": 181,
          "referenced_widgets": [
            "b36fbf3bb2ff449d9a3e6d468a3450d5",
            "f0f071718129468c85c8316f955a3d95",
            "6b6e29ef36464f0d97ed24f7ad543407",
            "9e610ddcd2ef40f2825b55430fe7a836",
            "a1cb96ab53f046c9a711a3388c4cd801",
            "0fc894c624754cc5bf636b620a792c3e",
            "93ccdbed926b47278b9c273b92f993fb",
            "5e8c7b97e1034f3e906650f9fb626c0c",
            "934b5fef891a4299a2ff439b1c1c8db9",
            "cf5feda966294ee5a0c1a354f60b311f",
            "d16b0728c25040538d2dc1b3d30cc1fd",
            "bdddf4249a874e39b05f6d85494bf23a",
            "5a7864d4f0e24fd8a0b2c11f5457b2ba",
            "4b5fc8eef8d14ee0b1cb991f91218a8b",
            "b37e1b50169e471ea82f180d88753c27",
            "63769512805a4deaa50c973863dbe1ed",
            "5053fe4f6d8948a99a48457c1fd96b51",
            "61891cecb4db466788cc9fdbbe9ecf31",
            "a4da7f1e60db45a59bdf76ab5fa4e986",
            "affab59485d64b9489653f605a83a8ca",
            "9aba9944f42740dc9969881eb7735fe5",
            "5bc7f2c768fa43b8bef280791ad14790",
            "5dd232a4fbd24f85b93985517755aeb3",
            "4402e628ece047f6b8b1012d99ed5324"
          ]
        },
        "id": "LTBM51qyTJEX",
        "outputId": "7d7cb7d9-004a-413c-df65-272606364574"
      },
      "source": [
        "tokenizador = getTokenizadorBERT(fonteBERT = 'comunidade', \n",
        "                                 tamanhoBERT = 'base', \n",
        "                                 linguaBERT = 'multilingual') \n",
        "\n",
        "del tokenizador"
      ],
      "execution_count": null,
      "outputs": [
        {
          "output_type": "stream",
          "text": [
            "Carregando o tokenizador BERT 'bert-base-multilingual-cased' da comunidade em língua 'multilingual'...\n"
          ],
          "name": "stdout"
        },
        {
          "output_type": "display_data",
          "data": {
            "application/vnd.jupyter.widget-view+json": {
              "model_id": "b36fbf3bb2ff449d9a3e6d468a3450d5",
              "version_minor": 0,
              "version_major": 2
            },
            "text/plain": [
              "HBox(children=(FloatProgress(value=0.0, description='Downloading', max=995526.0, style=ProgressStyle(descripti…"
            ]
          },
          "metadata": {
            "tags": []
          }
        },
        {
          "output_type": "stream",
          "text": [
            "\n"
          ],
          "name": "stdout"
        },
        {
          "output_type": "display_data",
          "data": {
            "application/vnd.jupyter.widget-view+json": {
              "model_id": "934b5fef891a4299a2ff439b1c1c8db9",
              "version_minor": 0,
              "version_major": 2
            },
            "text/plain": [
              "HBox(children=(FloatProgress(value=0.0, description='Downloading', max=29.0, style=ProgressStyle(description_w…"
            ]
          },
          "metadata": {
            "tags": []
          }
        },
        {
          "output_type": "stream",
          "text": [
            "\n"
          ],
          "name": "stdout"
        },
        {
          "output_type": "display_data",
          "data": {
            "application/vnd.jupyter.widget-view+json": {
              "model_id": "5053fe4f6d8948a99a48457c1fd96b51",
              "version_minor": 0,
              "version_major": 2
            },
            "text/plain": [
              "HBox(children=(FloatProgress(value=0.0, description='Downloading', max=1961828.0, style=ProgressStyle(descript…"
            ]
          },
          "metadata": {
            "tags": []
          }
        },
        {
          "output_type": "stream",
          "text": [
            "\n"
          ],
          "name": "stdout"
        }
      ]
    },
    {
      "cell_type": "code",
      "metadata": {
        "id": "EiwRA1m9C9sQ",
        "colab": {
          "base_uri": "https://localhost:8080/"
        },
        "outputId": "fddfa3fd-37b2-414e-d86f-875b121a16f5"
      },
      "source": [
        "import gc\n",
        "gc.collect()"
      ],
      "execution_count": null,
      "outputs": [
        {
          "output_type": "execute_result",
          "data": {
            "text/plain": [
              "4539"
            ]
          },
          "metadata": {
            "tags": []
          },
          "execution_count": 28
        }
      ]
    },
    {
      "cell_type": "markdown",
      "metadata": {
        "id": "TnCNWElNFi49"
      },
      "source": [
        "#### Usando o BERT da comunidade ou diretório com uma função que retorna o modelo v5\n",
        "\n",
        "Função que retorna modelo do BERT. permite configurar o tamanho do modelo e a fonte do modelo. \n",
        "\n",
        "A linguagem do modelo é especificada internamente na função.\n",
        "\n",
        "O parâmetro  `fonteBERT` com os valores `comunidade` ou `diretório` especifica se deve ser carregado o BERT de um diretório ou da comunidade.\n",
        "\n",
        "O parâmetro `tamanhoBERT` com os valores `base` ou `large` especifica se o tamanho do modelo BERT a ser utilizado.\n",
        "\n",
        "O parâmetro `linguaBERT` com os valores `multilingual`, `portugues` ou `ingles` especifica a lingua do modelo BERT a ser utilizado.\n",
        "\n",
        "O parâmetro `pesosCamadasOcultas` com os valores `True` ou `False` especifica se é para gerar e retornar os pesos das camadas ocultas.\n",
        "\n",
        "A função retorna o **modelo** para os parâmetros especificado"
      ]
    },
    {
      "cell_type": "markdown",
      "metadata": {
        "id": "x_HNay2hFi49"
      },
      "source": [
        "##### Declarando uma função que retorna o modelo."
      ]
    },
    {
      "cell_type": "code",
      "metadata": {
        "id": "qEu7UM89Fi4-"
      },
      "source": [
        "# Valores default para os parâmetros da função\n",
        "def getModeloBERT(fonteBERT = 'comunidade', \n",
        "                  tamanhoBERT = 'base', \n",
        "                  linguaBERT = 'portugues', \n",
        "                  pesosCamadasOcultas = False):\n",
        "\n",
        "    \"\"\"Retorna o modelo BERT carregado.\n",
        "    De acordo com os parâmetros especificados ou carrega o BERT da comunidade \n",
        "    ou realiza o download dos arquivos do modelo.\n",
        "\n",
        "    Args:\n",
        "        fonteBERT: Especifica a origem do modelo do BERT 'comunidade' ou 'DIRETORIO_MODELO'.\n",
        "        tamanhoBERT: Especifica o tamanho do modelo do BERT 'large' ou 'base'.\n",
        "        linguaBERT: Especifica a língua do modelo do BERT 'multilingual', 'portugues' ou 'ingles'.\n",
        "        pesosCamadasOcultas: Especifica ao modelo para manter os pesos de todas as camadas \n",
        "            ocultas, caso contrário mantém somente a última. A avaliação do modelo retorna\n",
        "            um número de diferentes objetos com base em como é configurado na chamada do\n",
        "            método `from_pretrained`. O retorno de model quando output_hidden_states=True´ é:  \n",
        "                #outputs[0] = last_hidden_state, outputs[1] = pooler_output, outputs[2] = hidden_states            \n",
        "            Veja a documentação para mais detalhes:\n",
        "            https://huggingface.co/transformers/model_doc/bert.html#bertmodel\n",
        "\n",
        "    Returns:        \n",
        "        `modelo` com o modelo BERT carregado.\n",
        "    \"\"\"\n",
        "    #======================================================================\n",
        "    # Verificação do idioma e tamanho do modelo\n",
        "    #======================================================================\n",
        "   \n",
        "    # Verifica se a língua é português e o tamanho do modelo\n",
        "    if linguaBERT == 'multilingual' and tamanhoBERT == 'base':\n",
        "        nome_modelo_bert = 'bert-base-multilingual-cased'\n",
        "    else:\n",
        "        if linguaBERT == 'portugues' and tamanhoBERT == 'base':\n",
        "          nome_modelo_bert = 'neuralmind/bert-base-portuguese-cased'\n",
        "        else:\n",
        "            if linguaBERT == 'portugues' and tamanhoBERT == 'large':\n",
        "              nome_modelo_bert = 'neuralmind/bert-large-portuguese-cased'\n",
        "            else:\n",
        "                # Verifica se a língua é inglés e o tamanho do modelo\n",
        "                if linguaBERT == 'ingles' and tamanhoBERT == 'base':\n",
        "                  nome_modelo_bert = 'bert-base-cased'\n",
        "                else:\n",
        "                    if linguaBERT == 'ingles' and tamanhoBERT == 'large':\n",
        "                      nome_modelo_bert = 'bert-large-cased'\n",
        "                    else:\n",
        "                      print(\"Parâmetros \\'língua\\' e \\'tamanhoBERT\\' especificados incorretamente!\")\n",
        "                      return None, None\n",
        "\n",
        "    #======================================================================\n",
        "    # Download do arquivo do modelo\n",
        "    #======================================================================\n",
        "    #Se a variável 'fonteBERT' foi setada para 'DIRETORIO_MODELO' faz o download dos arquivos modelo\n",
        "    if fonteBERT == 'DIRETORIO_MODELO' and linguaBERT == 'portugues':\n",
        "    \n",
        "      # Se a variável 'tamanhoBERT' foi setada para 'base' faz o download do arquivo do tamanho base do BERT, caso contrário do large.\n",
        "      if tamanhoBERT == 'base':\n",
        "          # URL_MODELO do arquivo do modelo do Pytorch checkpoint\n",
        "          # arquivo menor(base) 1.1 Gbytes\n",
        "          URL_MODELO = \"https://neuralmind-ai.s3.us-east-2.amazonaws.com/nlp/bert-base-portuguese-cased/bert-base-portuguese-cased_pytorch_checkpoint.zip\"\n",
        "      else:\n",
        "          # URL_MODELO do arquivo do modelo do Pytorch checkpoint\n",
        "          # arquivo grande(large) 3.5 Gbytes\n",
        "          URL_MODELO = \"https://neuralmind-ai.s3.us-east-2.amazonaws.com/nlp/bert-large-portuguese-cased/bert-large-portuguese-cased_pytorch_checkpoint.zip\"\n",
        "\n",
        "      # Diretório descompactação do modelo\n",
        "      DIRETORIO_MODELO = '/content/modelo' + tamanhoBERT\n",
        "\n",
        "      # Recupera o nome do arquivo do modelo da URL_MODELO anterior\n",
        "      arquivo = URL_MODELO.split(\"/\")[-1]\n",
        "\n",
        "      # Nome do arquivo do vocabulário\n",
        "      arquivo_vocab = \"vocab.txt\"\n",
        "\n",
        "      # Caminho do arquivo na URL_MODELO\n",
        "      caminho = URL_MODELO[0:len(URL_MODELO)-len(arquivo)]\n",
        "\n",
        "      # Verifica se a pasta de descompactação existe no pasta corrente\n",
        "      if not os.path.exists(DIRETORIO_MODELO):\n",
        "   \n",
        "          # Realiza o download do arquivo do modelo\n",
        "          !wget $URL_MODELO\n",
        "    \n",
        "          # Descompacta o arquivo na pasta de destino\n",
        "          !unzip -o $arquivo -d $DIRETORIO_MODELO\n",
        "\n",
        "          # Realiza o download do arquivo do vocabulário\n",
        "          # O vocabulário não está no arquivo compactado acima\n",
        "          # Concatena o caminho do modelo mais o nome do arquivo do vocabulário\n",
        "          URL_MODELO_VOCAB = caminho + arquivo_vocab\n",
        "\n",
        "          # Realiza o download do arquivo do vocabulário\n",
        "          !wget $URL_MODELO_VOCAB\n",
        "    \n",
        "          # Move o arquivo do vocabulário para o diretório do modelo\n",
        "          !mv $arquivo_vocab $DIRETORIO_MODELO\n",
        "            \n",
        "          # Move o arquivo do modelo para o diretório do modelo\n",
        "          !mv $arquivo $DIRETORIO_MODELO      \n",
        "                \n",
        "          print('Diretório do modelo:\\'' + DIRETORIO_MODELO + '\\' pronta!')\n",
        "      else:      \n",
        "          print('Diretório do modelo:\\'' + DIRETORIO_MODELO + '\\' já existe!')\n",
        "      \n",
        "    else:\n",
        "        if linguaBERT == 'ingles':\n",
        "            print('O modelo BERT na língua inglesa deve ser carregado somente da comunidade.')\n",
        "       \n",
        "    #======================================================================\n",
        "    # Carregamento do modelo\n",
        "    #======================================================================\n",
        "\n",
        "    # Importando as bibliotecas do Modelo\n",
        "    from transformers import BertModel\n",
        "\n",
        "    # Se a variável 'fonteBERT' foi setada para 'DIRETORIO_MODELO' faz o download dos arquivos modelo\n",
        "    # Carregamento de diretório somente para a língua portuguesa\n",
        "    if fonteBERT == 'DIRETORIO_MODELO' and linguaBERT == 'portugues':\n",
        "\n",
        "        # Carregando o Modelo do diretório\n",
        "        print('Carregando o modelo BERT_' + tamanhoBERT \n",
        "              + ' do diretório \\'' + DIRETORIO_MODELO \n",
        "              + '\\' em língua \\''+ linguaBERT \n",
        "              + '\\' com os pesos das camadas ocultas=' + str(pesosCamadasOcultas) + '...')\n",
        "\n",
        "        model = BertModel.from_pretrained(DIRETORIO_MODELO, \n",
        "                                          output_hidden_states = pesosCamadasOcultas) # Se o modelo retorna todos os estados ocultos\n",
        "\n",
        "    else:\n",
        "\n",
        "        # Carregando o Modelo da comunidade\n",
        "        print('Carregando o modelo BERT \\'' + nome_modelo_bert \n",
        "              + '\\' da comunidade em língua \\''+ linguaBERT \n",
        "              + '\\' com os pesos das camadas ocultas=' + str(pesosCamadasOcultas) + '...')\n",
        "\n",
        "        model = BertModel.from_pretrained(nome_modelo_bert, \n",
        "                                          output_hidden_states = pesosCamadasOcultas) # Se o modelo retorna todos os estados ocultos \n",
        "    \n",
        "    # Retorna o modelo BERT carregado           \n",
        "    return  model"
      ],
      "execution_count": null,
      "outputs": []
    },
    {
      "cell_type": "markdown",
      "metadata": {
        "id": "lQsZoz_0Fi5B"
      },
      "source": [
        "##### Usando a função getModeloBERT()"
      ]
    },
    {
      "cell_type": "code",
      "metadata": {
        "id": "Shpi5zYrFi5C",
        "colab": {
          "base_uri": "https://localhost:8080/"
        },
        "outputId": "f010a444-4fd4-42b9-e2e8-272b09b145dd"
      },
      "source": [
        "model = getModeloBERT()\n",
        "\n",
        "del model"
      ],
      "execution_count": null,
      "outputs": [
        {
          "output_type": "stream",
          "text": [
            "Carregando o modelo BERT 'neuralmind/bert-base-portuguese-cased' da comunidade em língua 'portugues' com os pesos das camadas ocultas=False...\n"
          ],
          "name": "stdout"
        }
      ]
    },
    {
      "cell_type": "code",
      "metadata": {
        "id": "1vgrczx9Fi5F",
        "colab": {
          "base_uri": "https://localhost:8080/",
          "height": 152,
          "referenced_widgets": [
            "985295f524df4124a626dd27b3e37b30",
            "5016039cbfe042438643f6827cb38495",
            "1acad02aa1ab438eb9d704fc9c4aff79",
            "991716ed02094bfa884028b76ed4f9b4",
            "cf9f99852c5b44b7995213824aec3204",
            "a889dbbdcbe24312a4bb444f098a382c",
            "7db5aee1221248008b94dc73a352987a",
            "9a4d2d58820f4384aae8531730d762a4",
            "7604462049c643cc9c984e1c91bebd7f",
            "43485219e1724b29a7c678e862ae720d",
            "27c116b07e7e4d1ea67f776db696687d",
            "900d54c78af74571ba03c4a6cd7f11c8",
            "4b6b389d970b47cf970984f36b6b7d52",
            "a49081063a2a4e22b9881abc30474a9d",
            "f81ed647d59f4299a3c440b6d5f7d61a",
            "de49e5ad78eb4db1bf5d2474bccafd77"
          ]
        },
        "outputId": "bb123693-4b2a-409c-8fd8-04f7ba8f9601"
      },
      "source": [
        "model = getModeloBERT(tamanhoBERT = 'large')\n",
        "\n",
        "del model"
      ],
      "execution_count": null,
      "outputs": [
        {
          "output_type": "stream",
          "text": [
            "Carregando o modelo BERT 'neuralmind/bert-large-portuguese-cased' da comunidade em língua 'portugues' com os pesos das camadas ocultas=False...\n"
          ],
          "name": "stdout"
        },
        {
          "output_type": "display_data",
          "data": {
            "application/vnd.jupyter.widget-view+json": {
              "model_id": "985295f524df4124a626dd27b3e37b30",
              "version_minor": 0,
              "version_major": 2
            },
            "text/plain": [
              "HBox(children=(FloatProgress(value=0.0, description='Downloading', max=648.0, style=ProgressStyle(description_…"
            ]
          },
          "metadata": {
            "tags": []
          }
        },
        {
          "output_type": "stream",
          "text": [
            "\n"
          ],
          "name": "stdout"
        },
        {
          "output_type": "display_data",
          "data": {
            "application/vnd.jupyter.widget-view+json": {
              "model_id": "7604462049c643cc9c984e1c91bebd7f",
              "version_minor": 0,
              "version_major": 2
            },
            "text/plain": [
              "HBox(children=(FloatProgress(value=0.0, description='Downloading', max=1342014951.0, style=ProgressStyle(descr…"
            ]
          },
          "metadata": {
            "tags": []
          }
        },
        {
          "output_type": "stream",
          "text": [
            "\n"
          ],
          "name": "stdout"
        }
      ]
    },
    {
      "cell_type": "code",
      "metadata": {
        "id": "Ee7F6aJZFi5I",
        "colab": {
          "base_uri": "https://localhost:8080/"
        },
        "outputId": "6699c49d-d0c9-413b-932b-e4f9554aaf56"
      },
      "source": [
        "model = getModeloBERT(tamanhoBERT = 'base')\n",
        "\n",
        "del model"
      ],
      "execution_count": null,
      "outputs": [
        {
          "output_type": "stream",
          "text": [
            "Carregando o modelo BERT 'neuralmind/bert-base-portuguese-cased' da comunidade em língua 'portugues' com os pesos das camadas ocultas=False...\n"
          ],
          "name": "stdout"
        }
      ]
    },
    {
      "cell_type": "code",
      "metadata": {
        "id": "0Ouj7SbLFi5M",
        "colab": {
          "base_uri": "https://localhost:8080/"
        },
        "outputId": "f2121019-755e-4a20-b984-8b69ad518e40"
      },
      "source": [
        "model = getModeloBERT(fonteBERT = 'DIRETORIO_MODELO', \n",
        "                      tamanhoBERT = 'base')\n",
        "del model"
      ],
      "execution_count": null,
      "outputs": [
        {
          "output_type": "stream",
          "text": [
            "Diretório do modelo:'/content/modelobase' já existe!\n",
            "Carregando o modelo BERT_base do diretório '/content/modelobase' em língua 'portugues' com os pesos das camadas ocultas=False...\n"
          ],
          "name": "stdout"
        }
      ]
    },
    {
      "cell_type": "code",
      "metadata": {
        "id": "Re0JeBNIFi5P",
        "colab": {
          "base_uri": "https://localhost:8080/"
        },
        "outputId": "b238c601-580e-43e2-d5e6-996f08b374ef"
      },
      "source": [
        "model = getModeloBERT(fonteBERT = 'DIRETORIO_MODELO', \n",
        "                      tamanhoBERT = 'large', \n",
        "                      linguaBERT = 'portugues')\n",
        "\n",
        "del model"
      ],
      "execution_count": null,
      "outputs": [
        {
          "output_type": "stream",
          "text": [
            "Diretório do modelo:'/content/modelolarge' já existe!\n",
            "Carregando o modelo BERT_large do diretório '/content/modelolarge' em língua 'portugues' com os pesos das camadas ocultas=False...\n"
          ],
          "name": "stdout"
        }
      ]
    },
    {
      "cell_type": "code",
      "metadata": {
        "id": "D84OnvHPFi5R",
        "colab": {
          "base_uri": "https://localhost:8080/"
        },
        "outputId": "6ed4757e-9984-47be-bfd6-e11bdaf5920d"
      },
      "source": [
        "model = getModeloBERT(fonteBERT = 'DIRETORIO_MODELO', \n",
        "                      tamanhoBERT = 'base', \n",
        "                      linguaBERT = 'portugues')\n",
        "\n",
        "del model"
      ],
      "execution_count": null,
      "outputs": [
        {
          "output_type": "stream",
          "text": [
            "Diretório do modelo:'/content/modelobase' já existe!\n",
            "Carregando o modelo BERT_base do diretório '/content/modelobase' em língua 'portugues' com os pesos das camadas ocultas=False...\n"
          ],
          "name": "stdout"
        }
      ]
    },
    {
      "cell_type": "code",
      "metadata": {
        "id": "1x7bJqb4Fi5U",
        "colab": {
          "base_uri": "https://localhost:8080/"
        },
        "outputId": "bfe3f85b-f391-43e4-9beb-3172f2bb50e3"
      },
      "source": [
        "model = getModeloBERT(fonteBERT = 'comunidade', \n",
        "                      tamanhoBERT = 'large', \n",
        "                      linguaBERT = 'portugues')\n",
        "\n",
        "del model"
      ],
      "execution_count": null,
      "outputs": [
        {
          "output_type": "stream",
          "text": [
            "Carregando o modelo BERT 'neuralmind/bert-large-portuguese-cased' da comunidade em língua 'portugues' com os pesos das camadas ocultas=False...\n"
          ],
          "name": "stdout"
        }
      ]
    },
    {
      "cell_type": "code",
      "metadata": {
        "id": "_QRBdDKMFi5W",
        "colab": {
          "base_uri": "https://localhost:8080/"
        },
        "outputId": "0c245298-5b4b-4ebf-b2a4-040ad7813c25"
      },
      "source": [
        "model = getModeloBERT(fonteBERT = 'comunidade', \n",
        "                      tamanhoBERT = 'base', \n",
        "                      linguaBERT = 'portugues')\n",
        "\n",
        "del model"
      ],
      "execution_count": null,
      "outputs": [
        {
          "output_type": "stream",
          "text": [
            "Carregando o modelo BERT 'neuralmind/bert-base-portuguese-cased' da comunidade em língua 'portugues' com os pesos das camadas ocultas=False...\n"
          ],
          "name": "stdout"
        }
      ]
    },
    {
      "cell_type": "code",
      "metadata": {
        "id": "nsoRCNwLFi5Y",
        "colab": {
          "base_uri": "https://localhost:8080/"
        },
        "outputId": "ec93e94c-e659-41cf-da60-a3bda35c1c82"
      },
      "source": [
        "model =getModeloBERT(fonteBERT = 'comunidade', \n",
        "                     tamanhoBERT = 'base', \n",
        "                     linguaBERT = 'portugues',\n",
        "                     pesosCamadasOcultas = False)\n",
        "\n",
        "del model"
      ],
      "execution_count": null,
      "outputs": [
        {
          "output_type": "stream",
          "text": [
            "Carregando o modelo BERT 'neuralmind/bert-base-portuguese-cased' da comunidade em língua 'portugues' com os pesos das camadas ocultas=False...\n"
          ],
          "name": "stdout"
        }
      ]
    },
    {
      "cell_type": "code",
      "metadata": {
        "id": "qkLHJXiUFi5c",
        "colab": {
          "base_uri": "https://localhost:8080/",
          "height": 169,
          "referenced_widgets": [
            "ee35aacc2b714de7928262c764ebf3ec",
            "867f53630dd64136b716e119db98f212",
            "1b1dc3062425452980529d40d54e6c18",
            "87e45a03cce44906b7ca5959ba8df1e8",
            "8d4c542b6eb441e28ccdd57fc9f0ffe2",
            "7fc793692f8d445fad29a3cf2b41e278",
            "f1a612cbca66484599dc051899bd2d6c",
            "df0f6ac427f84139beda5418a549de5d",
            "87779f3183b740c6a321b70785aae269",
            "324554c1747e46cc914107c0a09f7922",
            "14718a5a4b6b4ad9bdf833fee0a7d72a",
            "caa8771b8c5047779fd2912e81ebee59",
            "cdad0c88613c4ea8b7e2d1420da1cb50",
            "f5af00d019af4d89b06eb21ddf692bd0",
            "91fa158d66d6406ab1813e4c1c5f8216",
            "b4063eac150c4604a1a092c343344c78"
          ]
        },
        "outputId": "8ab13cef-b2b6-450a-bdbf-75b8f5bd9ae6"
      },
      "source": [
        "model = getModeloBERT(tamanhoBERT = 'large', \n",
        "                      linguaBERT = 'ingles')\n",
        "\n",
        "del model"
      ],
      "execution_count": null,
      "outputs": [
        {
          "output_type": "stream",
          "text": [
            "O modelo BERT na língua inglesa deve ser carregado somente da comunidade.\n",
            "Carregando o modelo BERT 'bert-large-cased' da comunidade em língua 'ingles' com os pesos das camadas ocultas=False...\n"
          ],
          "name": "stdout"
        },
        {
          "output_type": "display_data",
          "data": {
            "application/vnd.jupyter.widget-view+json": {
              "model_id": "ee35aacc2b714de7928262c764ebf3ec",
              "version_minor": 0,
              "version_major": 2
            },
            "text/plain": [
              "HBox(children=(FloatProgress(value=0.0, description='Downloading', max=762.0, style=ProgressStyle(description_…"
            ]
          },
          "metadata": {
            "tags": []
          }
        },
        {
          "output_type": "stream",
          "text": [
            "\n"
          ],
          "name": "stdout"
        },
        {
          "output_type": "display_data",
          "data": {
            "application/vnd.jupyter.widget-view+json": {
              "model_id": "87779f3183b740c6a321b70785aae269",
              "version_minor": 0,
              "version_major": 2
            },
            "text/plain": [
              "HBox(children=(FloatProgress(value=0.0, description='Downloading', max=1338740706.0, style=ProgressStyle(descr…"
            ]
          },
          "metadata": {
            "tags": []
          }
        },
        {
          "output_type": "stream",
          "text": [
            "\n"
          ],
          "name": "stdout"
        }
      ]
    },
    {
      "cell_type": "code",
      "metadata": {
        "id": "-DWDVehwFi5g",
        "colab": {
          "base_uri": "https://localhost:8080/",
          "height": 149,
          "referenced_widgets": [
            "f0cf3addd74a44eea3bb2ba4f7a565fa",
            "0135fa5a2df242a6ac2d8661df36ef2c",
            "f3637c8f0a9c426e93a93c653e3a7f3c",
            "fad06cd32e884a6492e9cbdfd84f7a4b",
            "8a1cb878e9544eb0917d07a8d0f0b38e",
            "8c1d3f4e99e3469d8e96e6028b71400c",
            "adc53aefe6004c0f9fa2a252aac4d11e",
            "52324f4c0eeb4303a7f4ee929edd3fb9",
            "88047e554fc244c9892531a3a7c11824",
            "2aca36b81c6f4bb3b4278cf018b600dc",
            "ea8e551f29bd4c6f8f4549e978651602",
            "20323dc84d1842888181688cbf24e4cd",
            "db3387ddac074b519b2ab6fe400c4eec",
            "e545077e22094924bdd906abed8ae2ba",
            "a47e53f4ac854c93a4ace2e212b73f68",
            "e9be2406688d4af59e62ceb8a9e3b444"
          ]
        },
        "outputId": "d2f97844-dae6-4bfe-dd26-b6cfa87cc175"
      },
      "source": [
        "model = getModeloBERT(tamanhoBERT = 'base', \n",
        "                     linguaBERT = 'ingles')\n",
        "\n",
        "del model"
      ],
      "execution_count": null,
      "outputs": [
        {
          "output_type": "stream",
          "text": [
            "O modelo BERT na língua inglesa deve ser carregado somente da comunidade.\n",
            "Carregando o modelo BERT 'bert-base-cased' da comunidade em língua 'ingles' com os pesos das camadas ocultas=False...\n"
          ],
          "name": "stdout"
        },
        {
          "output_type": "display_data",
          "data": {
            "application/vnd.jupyter.widget-view+json": {
              "model_id": "f0cf3addd74a44eea3bb2ba4f7a565fa",
              "version_minor": 0,
              "version_major": 2
            },
            "text/plain": [
              "HBox(children=(FloatProgress(value=0.0, description='Downloading', max=570.0, style=ProgressStyle(description_…"
            ]
          },
          "metadata": {
            "tags": []
          }
        },
        {
          "output_type": "stream",
          "text": [
            "\n"
          ],
          "name": "stdout"
        },
        {
          "output_type": "display_data",
          "data": {
            "application/vnd.jupyter.widget-view+json": {
              "model_id": "88047e554fc244c9892531a3a7c11824",
              "version_minor": 0,
              "version_major": 2
            },
            "text/plain": [
              "HBox(children=(FloatProgress(value=0.0, description='Downloading', max=435779157.0, style=ProgressStyle(descri…"
            ]
          },
          "metadata": {
            "tags": []
          }
        },
        {
          "output_type": "stream",
          "text": [
            "\n"
          ],
          "name": "stdout"
        }
      ]
    },
    {
      "cell_type": "code",
      "metadata": {
        "id": "jaf7ha23Fi5j",
        "colab": {
          "base_uri": "https://localhost:8080/"
        },
        "outputId": "7f2b0773-c310-414d-9caa-492f382d159b"
      },
      "source": [
        "model = getModeloBERT(fonteBERT = 'DIRETORIO_MODELO', \n",
        "                      tamanhoBERT = 'large', \n",
        "                      linguaBERT = 'ingles')\n",
        "\n",
        "del model"
      ],
      "execution_count": null,
      "outputs": [
        {
          "output_type": "stream",
          "text": [
            "O modelo BERT na língua inglesa deve ser carregado somente da comunidade.\n",
            "Carregando o modelo BERT 'bert-large-cased' da comunidade em língua 'ingles' com os pesos das camadas ocultas=False...\n"
          ],
          "name": "stdout"
        }
      ]
    },
    {
      "cell_type": "code",
      "metadata": {
        "id": "XhpOpsNcFi5m",
        "colab": {
          "base_uri": "https://localhost:8080/"
        },
        "outputId": "a0fc0351-e05b-41eb-b0a9-3b3ebf005e88"
      },
      "source": [
        "model = getModeloBERT(fonteBERT = 'DIRETORIO_MODELO', \n",
        "                      tamanhoBERT = 'base', \n",
        "                      linguaBERT = 'ingles')\n",
        "\n",
        "del model"
      ],
      "execution_count": null,
      "outputs": [
        {
          "output_type": "stream",
          "text": [
            "O modelo BERT na língua inglesa deve ser carregado somente da comunidade.\n",
            "Carregando o modelo BERT 'bert-base-cased' da comunidade em língua 'ingles' com os pesos das camadas ocultas=False...\n"
          ],
          "name": "stdout"
        }
      ]
    },
    {
      "cell_type": "code",
      "metadata": {
        "id": "IzLsTc5CFi5o",
        "colab": {
          "base_uri": "https://localhost:8080/"
        },
        "outputId": "76d17d10-a0e6-4ac5-8847-5b8e90543d0d"
      },
      "source": [
        "model = getModeloBERT(fonteBERT = 'comunidade', \n",
        "                      tamanhoBERT = 'large', \n",
        "                      linguaBERT = 'ingles')\n",
        "\n",
        "del model"
      ],
      "execution_count": null,
      "outputs": [
        {
          "output_type": "stream",
          "text": [
            "O modelo BERT na língua inglesa deve ser carregado somente da comunidade.\n",
            "Carregando o modelo BERT 'bert-large-cased' da comunidade em língua 'ingles' com os pesos das camadas ocultas=False...\n"
          ],
          "name": "stdout"
        }
      ]
    },
    {
      "cell_type": "code",
      "metadata": {
        "id": "TGpA4qAWFi5r",
        "colab": {
          "base_uri": "https://localhost:8080/"
        },
        "outputId": "b233b5b0-d64c-4b6d-fe1e-ee4429dd898a"
      },
      "source": [
        "model = getModeloBERT(fonteBERT = 'comunidade', \n",
        "                      tamanhoBERT = 'base', \n",
        "                      linguaBERT = 'ingles') \n",
        "\n",
        "del model"
      ],
      "execution_count": null,
      "outputs": [
        {
          "output_type": "stream",
          "text": [
            "O modelo BERT na língua inglesa deve ser carregado somente da comunidade.\n",
            "Carregando o modelo BERT 'bert-base-cased' da comunidade em língua 'ingles' com os pesos das camadas ocultas=False...\n"
          ],
          "name": "stdout"
        }
      ]
    },
    {
      "cell_type": "code",
      "metadata": {
        "id": "ccq15D00Fi5t",
        "colab": {
          "base_uri": "https://localhost:8080/"
        },
        "outputId": "3be97ec4-8d94-416a-8d04-d7f293cd5420"
      },
      "source": [
        "model = getModeloBERT(fonteBERT = 'comunidade', \n",
        "                      tamanhoBERT = 'base', \n",
        "                      linguaBERT = 'ingles', \n",
        "                      pesosCamadasOcultas = False)\n",
        "\n",
        "del model"
      ],
      "execution_count": null,
      "outputs": [
        {
          "output_type": "stream",
          "text": [
            "O modelo BERT na língua inglesa deve ser carregado somente da comunidade.\n",
            "Carregando o modelo BERT 'bert-base-cased' da comunidade em língua 'ingles' com os pesos das camadas ocultas=False...\n"
          ],
          "name": "stdout"
        }
      ]
    },
    {
      "cell_type": "code",
      "metadata": {
        "colab": {
          "base_uri": "https://localhost:8080/",
          "height": 152,
          "referenced_widgets": [
            "a11ca396ad8a4266a3189f5d99c430a7",
            "b5621b28579442e190acc87a2530915e",
            "ac4ae44aa8644c5f874be76c44f2b24d",
            "c6a0e50e858344d7a626885707708744",
            "642b2ad434324911b7726c676d5041bb",
            "6c822f63def248a690836f0f22ec1e4d",
            "4752bd52589a44b0aca94379d41c0360",
            "706196a91da141039c9aab0b505253c5",
            "5f01bbbd19ad4cdd991e62a1d1b1eca1",
            "1ccbfd8f22e24b8a861cd4ef21a96400",
            "77d005071d694cd4aa7b078c6f1f310f",
            "570d7af6cb98477cb6ba8a39e28504c7",
            "1c65f0e32fe84af090324c648979772a",
            "405862ae4ae8450a8dd6c374830f3021",
            "d0fefaab1aeb4884816cc84ebc248542",
            "7550bb24f95b4b52ad315dd24e3862fd"
          ]
        },
        "id": "0VifY-MWTPqI",
        "outputId": "2ae25d0a-606c-45c1-a08d-9d56a3c72dfd"
      },
      "source": [
        "model = getModeloBERT(fonteBERT = 'comunidade', \n",
        "                      tamanhoBERT = 'base', \n",
        "                      linguaBERT = 'multilingual', \n",
        "                      pesosCamadasOcultas = False)\n",
        "\n",
        "del model"
      ],
      "execution_count": null,
      "outputs": [
        {
          "output_type": "stream",
          "text": [
            "Carregando o modelo BERT 'bert-base-multilingual-cased' da comunidade em língua 'multilingual' com os pesos das camadas ocultas=False...\n"
          ],
          "name": "stdout"
        },
        {
          "output_type": "display_data",
          "data": {
            "application/vnd.jupyter.widget-view+json": {
              "model_id": "a11ca396ad8a4266a3189f5d99c430a7",
              "version_minor": 0,
              "version_major": 2
            },
            "text/plain": [
              "HBox(children=(FloatProgress(value=0.0, description='Downloading', max=625.0, style=ProgressStyle(description_…"
            ]
          },
          "metadata": {
            "tags": []
          }
        },
        {
          "output_type": "stream",
          "text": [
            "\n"
          ],
          "name": "stdout"
        },
        {
          "output_type": "display_data",
          "data": {
            "application/vnd.jupyter.widget-view+json": {
              "model_id": "5f01bbbd19ad4cdd991e62a1d1b1eca1",
              "version_minor": 0,
              "version_major": 2
            },
            "text/plain": [
              "HBox(children=(FloatProgress(value=0.0, description='Downloading', max=714314041.0, style=ProgressStyle(descri…"
            ]
          },
          "metadata": {
            "tags": []
          }
        },
        {
          "output_type": "stream",
          "text": [
            "\n"
          ],
          "name": "stdout"
        }
      ]
    },
    {
      "cell_type": "code",
      "metadata": {
        "id": "AAmRY-IEFi5x",
        "colab": {
          "base_uri": "https://localhost:8080/"
        },
        "outputId": "b803a9d2-8d51-4315-d2c0-2e2841f21672"
      },
      "source": [
        "import gc\n",
        "gc.collect()"
      ],
      "execution_count": null,
      "outputs": [
        {
          "output_type": "execute_result",
          "data": {
            "text/plain": [
              "5036"
            ]
          },
          "metadata": {
            "tags": []
          },
          "execution_count": 47
        }
      ]
    },
    {
      "cell_type": "markdown",
      "metadata": {
        "id": "fBjg72XsJdrQ"
      },
      "source": [
        "#### Usando o BERT da comunidade ou diretório com uma função que retorna o tokenizador e o modelo v6\n",
        "\n",
        "Função que retorna o tokenizador e modelo do BERT. permite configurar o tamanho do modelo e a fonte do modelo. \n",
        "\n",
        "A linguagem do modelo é especificada internamente na função.\n",
        "\n",
        "O parâmetro  `fonteBERT` com os valores `comunidade` ou `diretório` especifica se deve ser carregado o BERT de um diretório ou da comunidade.\n",
        "\n",
        "O parâmetro `tamanhoBERT` com os valores `base` ou `large` especifica se o tamanho do modelo BERT a ser utilizado.\n",
        "\n",
        "O parâmetro `linguaBERT` com os valores `multilingual`, `portugues` ou `ingles` especifica a lingua do modelo BERT a ser utilizado.\n",
        "\n",
        "O parâmetro `pesosCamadasOcultas` com os valores `True` ou `False` especifica se é para gerar e retornar os pesos das camadas ocultas.\n",
        "\n",
        "O parâmetro `model_cased=True` da função define se deve ser usado o modelo BERT cased(com letras maiúsculas e minúsculas) ou o modelo uncased(sem letras maiúsculas). O modelo BERT cased(com maiúsculas, o texto é o mesmo que o texto de entrada (sem alterações) contendo letras maiúsculas e minúsculas. Enquanto que o modelo BERT uncased o texto foi colocado em minúsculas antes da etapa de tokenização do WordPiece. Nesta função o default é `True`.\n",
        "\n",
        "O parâmetro `do_lower_case=True` Especifica a conversão das letras maiúsculas em minúsculo e a remoção das letras acentuadas para o tokenizador do BERT. Nesta função o default `False` pois a língua portuguesa possui letras acentuadas(ãçéí...), que são necessárias a língua portuguesa, desta maneira mantendo letras maiúsculas e minúsculas. No método `from_pretrained` o default é `True` quando o parämetro não é especificado.\n",
        "\n",
        "A função retorna o **tokenizador** e o **modelo** para os parâmetros especificado"
      ]
    },
    {
      "cell_type": "markdown",
      "metadata": {
        "id": "0DcIEDjsJdrW"
      },
      "source": [
        "##### Declarando uma função que retorna o tokenizador e o modelo."
      ]
    },
    {
      "cell_type": "code",
      "metadata": {
        "id": "06dNih68JdrW"
      },
      "source": [
        "# Valores default para os parâmetros da função\n",
        "def getBERT(fonteBERT = 'comunidade', \n",
        "            tamanhoBERT = 'base', \n",
        "            linguaBERT = 'portugues', \n",
        "            pesosCamadasOcultas = False,\n",
        "            model_cased = True,\n",
        "            do_lower_case = False):\n",
        "\n",
        "    \"\"\"Retorna o tokenizador e modelo BERT carregado.\n",
        "    De acordo com os parâmetros especificados ou carrega o BERT da comunidade \n",
        "    ou realiza o download dos arquivos do modelo.\n",
        "\n",
        "    Args:\n",
        "        fonteBERT: Especifica a origem do modelo do BERT 'comunidade' ou 'DIRETORIO_MODELO'.\n",
        "        tamanhoBERT: Especifica o tamanho do modelo do BERT 'large' ou 'base'.\n",
        "        linguaBERT: Especifica a língua do modelo do BERT 'multilingual'. 'portugues' ou 'ingles'.\n",
        "        pesosCamadasOcultas: Especifica ao modelo para manter os pesos de todas as camadas \n",
        "            ocultas, caso contrário mantém somente a última. A avaliação do modelo retorna\n",
        "            um número de diferentes objetos com base em como é configurado na chamada do\n",
        "            método `from_pretrained`. O retorno de model quando output_hidden_states=True´ é:  \n",
        "                #outputs[0] = last_hidden_state, outputs[1] = pooler_output, outputs[2] = hidden_states            \n",
        "            Veja a documentação para mais detalhes:\n",
        "            https://huggingface.co/transformers/model_doc/bert.html#bertmodel\n",
        "        model_cased: Especifica se é para ser carregado o modelo BERT cased(com letras maiúsculas e minúsculas) ou o modelo uncased(sem letras maiúsculas).\n",
        "        do_lower_case: Especifica se o tokenizador do BERT deve ignorar a conversão para minúsculo. Para ignorar use o parâmetro do_lower_case=True.\n",
        "\n",
        "    Returns:\n",
        "        `tokenizador` com o tokenizador do modelo BERT carregado.\n",
        "        `modelo` com o modelo BERT carregado.\n",
        "    \"\"\"\n",
        "    #======================================================================\n",
        "    # Verificação do idioma e tamanho do modelo\n",
        "    #======================================================================\n",
        "    # Verifica se a língua é português e o tamanho do modelo\n",
        "    if linguaBERT == 'multilingual' and tamanhoBERT == 'base':\n",
        "        nome_modelo_bert = 'bert-base-multilingual-cased'\n",
        "    else:\n",
        "        if linguaBERT == 'portugues' and tamanhoBERT == 'base':\n",
        "          nome_modelo_bert = 'neuralmind/bert-base-portuguese-cased'\n",
        "        else:\n",
        "            if linguaBERT == 'portugues' and tamanhoBERT == 'large':\n",
        "              nome_modelo_bert = 'neuralmind/bert-large-portuguese-cased'\n",
        "            else:\n",
        "                # Verifica se a língua é inglés e o tamanho do modelo\n",
        "                if linguaBERT == 'ingles' and tamanhoBERT == 'base':\n",
        "                  nome_modelo_bert = 'bert-base-cased'\n",
        "                else:\n",
        "                    if linguaBERT == 'ingles' and tamanhoBERT == 'large':\n",
        "                      nome_modelo_bert = 'bert-large-cased'\n",
        "                    else:\n",
        "                      print(\"Parâmetros \\'língua\\' e \\'tamanhoBERT\\' especificados incorretamente!\")\n",
        "                      return None, None\n",
        "\n",
        "    #======================================================================\n",
        "    # Verificação do modelo sem maiúsculas ou com maiúscula\n",
        "    #======================================================================\n",
        "    if model_cased == False:\n",
        "        nome_modelo_bert = nome_modelo_bert.replace('cased','uncased')\n",
        "\n",
        "    #======================================================================\n",
        "    # Download do arquivo do modelo\n",
        "    #======================================================================\n",
        "    #Se a variável 'fonteBERT' foi setada para 'DIRETORIO_MODELO' faz o download dos arquivos modelo\n",
        "    if fonteBERT == 'DIRETORIO_MODELO' and linguaBERT == 'portugues':\n",
        "    \n",
        "      # Se a variável 'tamanhoBERT' foi setada para 'base' faz o download do arquivo do tamanho base do BERT, caso contrário do large.\n",
        "      if tamanhoBERT == 'base':\n",
        "          # URL_MODELO do arquivo do modelo do Pytorch checkpoint\n",
        "          # arquivo menor(base) 1.1 Gbytes\n",
        "          URL_MODELO = \"https://neuralmind-ai.s3.us-east-2.amazonaws.com/nlp/bert-base-portuguese-cased/bert-base-portuguese-cased_pytorch_checkpoint.zip\"\n",
        "      else:\n",
        "          # URL_MODELO do arquivo do modelo do Pytorch checkpoint\n",
        "          # arquivo grande(large) 3.5 Gbytes\n",
        "          URL_MODELO = \"https://neuralmind-ai.s3.us-east-2.amazonaws.com/nlp/bert-large-portuguese-cased/bert-large-portuguese-cased_pytorch_checkpoint.zip\"\n",
        "\n",
        "      # Diretório descompactação do modelo\n",
        "      DIRETORIO_MODELO = '/content/modelo' + tamanhoBERT\n",
        "\n",
        "      # Recupera o nome do arquivo do modelo da URL_MODELO anterior\n",
        "      arquivo = URL_MODELO.split(\"/\")[-1]\n",
        "\n",
        "      # Nome do arquivo do vocabulário\n",
        "      arquivo_vocab = \"vocab.txt\"\n",
        "\n",
        "      # Caminho do arquivo na url\n",
        "      caminho = URL_MODELO[0:len(URL_MODELO)-len(arquivo)]\n",
        "\n",
        "      # Verifica se a pasta de descompactação existe no pasta corrente\n",
        "      if not os.path.exists(DIRETORIO_MODELO):\n",
        "   \n",
        "          # Realiza o download do arquivo do modelo\n",
        "          !wget $URL_MODELO\n",
        "    \n",
        "          # Descompacta o arquivo na pasta de destino\n",
        "          !unzip -o $arquivo -d $DIRETORIO_MODELO\n",
        "\n",
        "          # Realiza o download do arquivo do vocabulário\n",
        "          # O vocabulário não está no arquivo compactado acima\n",
        "          # Concatena o caminho do modelo mais o nome do arquivo do vocabulário\n",
        "          URL_MODELO_VOCAB = caminho + arquivo_vocab\n",
        "\n",
        "          # Realiza o download do arquivo do vocabulário\n",
        "          !wget $URL_MODELO_VOCAB\n",
        "    \n",
        "          # Move o arquivo do vocabulário para o diretório do modelo\n",
        "          !mv $arquivo_vocab $DIRETORIO_MODELO\n",
        "            \n",
        "          # Move o arquivo do modelo para o diretório do modelo\n",
        "          !mv $arquivo $DIRETORIO_MODELO      \n",
        "                \n",
        "          print('Diretório do modelo:\\'' + DIRETORIO_MODELO + '\\' pronta!')\n",
        "      else:      \n",
        "          print('Diretório do modelo:\\'' + DIRETORIO_MODELO + '\\' já existe!')\n",
        "      \n",
        "    else:\n",
        "        if linguaBERT == 'ingles':\n",
        "            print('O modelo BERT na língua inglesa deve ser carregado somente da comunidade.')\n",
        "       \n",
        "    #======================================================================\n",
        "    # Carregamento do tokenizador e do modelo \n",
        "    #======================================================================\n",
        "\n",
        "    # Importando as bibliotecas do Modelo e do Tokenizador\n",
        "    from transformers import BertModel, BertTokenizer\n",
        "\n",
        "    # Se a variável 'fonteBERT' foi setada para 'DIRETORIO_MODELO' faz o download dos arquivos modelo\n",
        "    # Carregamento de diretório somente para a língua portuguesa\n",
        "    if fonteBERT == 'DIRETORIO_MODELO' and linguaBERT == 'portugues':\n",
        "\n",
        "        # Carregando o Tokenizador do diretório\n",
        "        print('Carregando o tokenizador BERT_' + tamanhoBERT \n",
        "              + ' do diretório \\'' + DIRETORIO_MODELO \n",
        "              + '\\' em língua \\''+ linguaBERT + '\\'...')\n",
        "\n",
        "        tokenizer = BertTokenizer.from_pretrained(DIRETORIO_MODELO,\n",
        "                                                  do_lower_case = do_lower_case)\n",
        "\n",
        "        # Carregando o Modelo do diretório\n",
        "        print('Carregando o modelo BERT_' + tamanhoBERT \n",
        "              + ' do diretório \\'' + DIRETORIO_MODELO \n",
        "              + '\\' em língua \\''+ linguaBERT \n",
        "              + '\\' com os pesos das camadas ocultas=' + str(pesosCamadasOcultas) + '...')\n",
        "\n",
        "        model = BertModel.from_pretrained(DIRETORIO_MODELO, \n",
        "                                          output_hidden_states = pesosCamadasOcultas) # Se o modelo retorna todos os estados ocultos\n",
        "\n",
        "    else:\n",
        "        # Carregando o Tokenizador da comunidade\n",
        "        print('Carregando o tokenizador BERT \\'' + nome_modelo_bert \n",
        "              + '\\' da comunidade em língua \\''+ linguaBERT + '\\'...')\n",
        "\n",
        "        tokenizer = BertTokenizer.from_pretrained(nome_modelo_bert,\n",
        "                                                  do_lower_case = do_lower_case)  \n",
        "\n",
        "        # Carregando o Modelo da comunidade\n",
        "        print('Carregando o modelo BERT \\'' + nome_modelo_bert \n",
        "              + '\\' da comunidade em língua \\''+ linguaBERT \n",
        "              + '\\' com os pesos das camadas ocultas=' + str(pesosCamadasOcultas) + '...')\n",
        "\n",
        "        model = BertModel.from_pretrained(nome_modelo_bert, \n",
        "                                          output_hidden_states = pesosCamadasOcultas)  # Se o modelo retorna todos os estados ocultos\n",
        "    \n",
        "    # Retorna o tokenizador e o modelo BERT carregado           \n",
        "    return tokenizer, model"
      ],
      "execution_count": null,
      "outputs": []
    },
    {
      "cell_type": "markdown",
      "metadata": {
        "id": "1O58k9QeJdrX"
      },
      "source": [
        "##### Usando a função getBERT()"
      ]
    },
    {
      "cell_type": "code",
      "metadata": {
        "colab": {
          "base_uri": "https://localhost:8080/"
        },
        "id": "tK6Sfhy3JdrX",
        "outputId": "2bf1f82c-b4f4-4727-fb77-54ba567195a3"
      },
      "source": [
        "tokenizador, model = getBERT()\n",
        "\n",
        "del tokenizador\n",
        "del model"
      ],
      "execution_count": null,
      "outputs": [
        {
          "output_type": "stream",
          "text": [
            "Carregando o tokenizador BERT 'neuralmind/bert-base-portuguese-cased' da comunidade em língua 'portugues'...\n",
            "Carregando o modelo BERT 'neuralmind/bert-base-portuguese-cased' da comunidade em língua 'portugues' com os pesos das camadas ocultas=False...\n"
          ],
          "name": "stdout"
        }
      ]
    },
    {
      "cell_type": "code",
      "metadata": {
        "colab": {
          "base_uri": "https://localhost:8080/"
        },
        "id": "44PL7VIWJdrY",
        "outputId": "39776b32-16d0-4c90-a153-0b1a11676716"
      },
      "source": [
        "tokenizador, model = getBERT(tamanhoBERT = 'large')"
      ],
      "execution_count": null,
      "outputs": [
        {
          "output_type": "stream",
          "text": [
            "Carregando o tokenizador BERT 'neuralmind/bert-large-portuguese-cased' da comunidade em língua 'portugues'...\n",
            "Carregando o modelo BERT 'neuralmind/bert-large-portuguese-cased' da comunidade em língua 'portugues' com os pesos das camadas ocultas=False...\n"
          ],
          "name": "stdout"
        }
      ]
    },
    {
      "cell_type": "code",
      "metadata": {
        "colab": {
          "base_uri": "https://localhost:8080/"
        },
        "id": "_fq0TXLvJdra",
        "outputId": "a1852a4d-086f-4986-ddec-5009ee15c3ca"
      },
      "source": [
        "tokenizador, model = getBERT(tamanhoBERT = 'base')\n",
        "\n",
        "del tokenizador\n",
        "del model"
      ],
      "execution_count": null,
      "outputs": [
        {
          "output_type": "stream",
          "text": [
            "Carregando o tokenizador BERT 'neuralmind/bert-base-portuguese-cased' da comunidade em língua 'portugues'...\n",
            "Carregando o modelo BERT 'neuralmind/bert-base-portuguese-cased' da comunidade em língua 'portugues' com os pesos das camadas ocultas=False...\n"
          ],
          "name": "stdout"
        }
      ]
    },
    {
      "cell_type": "code",
      "metadata": {
        "colab": {
          "base_uri": "https://localhost:8080/"
        },
        "id": "UuRzVhFtJdrb",
        "outputId": "a7f85a6b-e866-49b0-a445-626864770d5c"
      },
      "source": [
        "tokenizador, model = getBERT(fonteBERT = 'DIRETORIO_MODELO', \n",
        "                             tamanhoBERT = 'base')\n",
        "\n",
        "del tokenizador\n",
        "del model"
      ],
      "execution_count": null,
      "outputs": [
        {
          "output_type": "stream",
          "text": [
            "Diretório do modelo:'/content/modelobase' já existe!\n",
            "Carregando o tokenizador BERT_base do diretório '/content/modelobase' em língua 'portugues'...\n",
            "Carregando o modelo BERT_base do diretório '/content/modelobase' em língua 'portugues' com os pesos das camadas ocultas=False...\n"
          ],
          "name": "stdout"
        }
      ]
    },
    {
      "cell_type": "code",
      "metadata": {
        "colab": {
          "base_uri": "https://localhost:8080/"
        },
        "id": "3Cj_ewTcJdrb",
        "outputId": "1be4df13-b3ba-4d12-b8bd-0ac66356f089"
      },
      "source": [
        "tokenizador, model = getBERT(fonteBERT = 'DIRETORIO_MODELO', \n",
        "                             tamanhoBERT = 'large', \n",
        "                             linguaBERT = 'portugues')\n",
        "\n",
        "del tokenizador\n",
        "del model"
      ],
      "execution_count": null,
      "outputs": [
        {
          "output_type": "stream",
          "text": [
            "Diretório do modelo:'/content/modelolarge' já existe!\n",
            "Carregando o tokenizador BERT_large do diretório '/content/modelolarge' em língua 'portugues'...\n",
            "Carregando o modelo BERT_large do diretório '/content/modelolarge' em língua 'portugues' com os pesos das camadas ocultas=False...\n"
          ],
          "name": "stdout"
        }
      ]
    },
    {
      "cell_type": "code",
      "metadata": {
        "colab": {
          "base_uri": "https://localhost:8080/"
        },
        "id": "5bb4Wo-tJdrb",
        "outputId": "e60ee8b3-d8ec-41e6-b854-d4e68fde1c92"
      },
      "source": [
        "tokenizador, model = getBERT(fonteBERT = 'DIRETORIO_MODELO', \n",
        "                             tamanhoBERT = 'base', \n",
        "                             linguaBERT = 'portugues')\n",
        "\n",
        "del tokenizador\n",
        "del model"
      ],
      "execution_count": null,
      "outputs": [
        {
          "output_type": "stream",
          "text": [
            "Diretório do modelo:'/content/modelobase' já existe!\n",
            "Carregando o tokenizador BERT_base do diretório '/content/modelobase' em língua 'portugues'...\n",
            "Carregando o modelo BERT_base do diretório '/content/modelobase' em língua 'portugues' com os pesos das camadas ocultas=False...\n"
          ],
          "name": "stdout"
        }
      ]
    },
    {
      "cell_type": "code",
      "metadata": {
        "colab": {
          "base_uri": "https://localhost:8080/"
        },
        "id": "hLMo2uDcJdrc",
        "outputId": "18697a1c-3386-4418-f8dd-5c7c41fc34fa"
      },
      "source": [
        "tokenizador, model = getBERT(fonteBERT = 'comunidade', \n",
        "                             tamanhoBERT = 'large', \n",
        "                             linguaBERT = 'portugues')\n",
        "\n",
        "del tokenizador\n",
        "del model"
      ],
      "execution_count": null,
      "outputs": [
        {
          "output_type": "stream",
          "text": [
            "Carregando o tokenizador BERT 'neuralmind/bert-large-portuguese-cased' da comunidade em língua 'portugues'...\n",
            "Carregando o modelo BERT 'neuralmind/bert-large-portuguese-cased' da comunidade em língua 'portugues' com os pesos das camadas ocultas=False...\n"
          ],
          "name": "stdout"
        }
      ]
    },
    {
      "cell_type": "code",
      "metadata": {
        "colab": {
          "base_uri": "https://localhost:8080/"
        },
        "id": "lSsVR5LSJdrc",
        "outputId": "b1039db5-c0bd-419e-9639-5c4b3ba95d0b"
      },
      "source": [
        "tokenizador, model = getBERT(fonteBERT = 'comunidade', \n",
        "                             tamanhoBERT = 'base', \n",
        "                             linguaBERT = 'portugues')\n",
        "\n",
        "del tokenizador\n",
        "del model"
      ],
      "execution_count": null,
      "outputs": [
        {
          "output_type": "stream",
          "text": [
            "Carregando o tokenizador BERT 'neuralmind/bert-base-portuguese-cased' da comunidade em língua 'portugues'...\n",
            "Carregando o modelo BERT 'neuralmind/bert-base-portuguese-cased' da comunidade em língua 'portugues' com os pesos das camadas ocultas=False...\n"
          ],
          "name": "stdout"
        }
      ]
    },
    {
      "cell_type": "code",
      "metadata": {
        "colab": {
          "base_uri": "https://localhost:8080/",
          "height": 233
        },
        "id": "uj1VR--SJdrc",
        "outputId": "64a4735b-57b0-48fc-accb-9ea4fa579a33"
      },
      "source": [
        "tokenizador, model = getBERT(fonteBERT = 'comunidade', \n",
        "                             tamanhoBERT = 'base', \n",
        "                             linguaBERT = 'portugues',\n",
        "                             cased = True,\n",
        "                             pesosCamadasOcultas = False)\n",
        "\n",
        "del tokenizador\n",
        "del model"
      ],
      "execution_count": null,
      "outputs": [
        {
          "output_type": "error",
          "ename": "TypeError",
          "evalue": "ignored",
          "traceback": [
            "\u001b[0;31m---------------------------------------------------------------------------\u001b[0m",
            "\u001b[0;31mTypeError\u001b[0m                                 Traceback (most recent call last)",
            "\u001b[0;32m<ipython-input-57-18b92f748ae3>\u001b[0m in \u001b[0;36m<module>\u001b[0;34m()\u001b[0m\n\u001b[1;32m      3\u001b[0m                              \u001b[0mlinguaBERT\u001b[0m \u001b[0;34m=\u001b[0m \u001b[0;34m'portugues'\u001b[0m\u001b[0;34m,\u001b[0m\u001b[0;34m\u001b[0m\u001b[0;34m\u001b[0m\u001b[0m\n\u001b[1;32m      4\u001b[0m                              \u001b[0mcased\u001b[0m \u001b[0;34m=\u001b[0m \u001b[0;32mTrue\u001b[0m\u001b[0;34m,\u001b[0m\u001b[0;34m\u001b[0m\u001b[0;34m\u001b[0m\u001b[0m\n\u001b[0;32m----> 5\u001b[0;31m                              pesosCamadasOcultas = False)\n\u001b[0m\u001b[1;32m      6\u001b[0m \u001b[0;34m\u001b[0m\u001b[0m\n\u001b[1;32m      7\u001b[0m \u001b[0;32mdel\u001b[0m \u001b[0mtokenizador\u001b[0m\u001b[0;34m\u001b[0m\u001b[0;34m\u001b[0m\u001b[0m\n",
            "\u001b[0;31mTypeError\u001b[0m: getBERT() got an unexpected keyword argument 'cased'"
          ]
        }
      ]
    },
    {
      "cell_type": "code",
      "metadata": {
        "id": "EmzLQwluTGlH"
      },
      "source": [
        "tokenizador, model = getBERT(fonteBERT = 'comunidade', \n",
        "                             tamanhoBERT = 'base', \n",
        "                             linguaBERT = 'portugues',\n",
        "                             cased = False,\n",
        "                             pesosCamadasOcultas = False)\n",
        "\n",
        "del tokenizador\n",
        "del model"
      ],
      "execution_count": null,
      "outputs": []
    },
    {
      "cell_type": "code",
      "metadata": {
        "id": "vJcWfn9JJdrd"
      },
      "source": [
        "tokenizador, model = getBERT(tamanhoBERT = 'large', \n",
        "                             linguaBERT = 'ingles')\n",
        "\n",
        "del tokenizador\n",
        "del model"
      ],
      "execution_count": null,
      "outputs": []
    },
    {
      "cell_type": "code",
      "metadata": {
        "id": "G_aODOWXJdrd"
      },
      "source": [
        "tokenizador, model = getBERT(tamanhoBERT = 'base', \n",
        "                             linguaBERT = 'ingles')\n",
        "\n",
        "del tokenizador\n",
        "del model"
      ],
      "execution_count": null,
      "outputs": []
    },
    {
      "cell_type": "code",
      "metadata": {
        "id": "2l1p9WcAJdrd"
      },
      "source": [
        "tokenizador, model = getBERT(fonteBERT = 'DIRETORIO_MODELO', \n",
        "                             tamanhoBERT = 'large', \n",
        "                             linguaBERT = 'ingles')\n",
        "\n",
        "del tokenizador\n",
        "del model"
      ],
      "execution_count": null,
      "outputs": []
    },
    {
      "cell_type": "code",
      "metadata": {
        "id": "NXgU_Zi9Jdre"
      },
      "source": [
        "tokenizador, model = getBERT(fonteBERT = 'DIRETORIO_MODELO', \n",
        "                             tamanhoBERT = 'base', \n",
        "                             linguaBERT = 'ingles')\n",
        "\n",
        "del tokenizador\n",
        "del model"
      ],
      "execution_count": null,
      "outputs": []
    },
    {
      "cell_type": "code",
      "metadata": {
        "id": "lNs-129MJdre"
      },
      "source": [
        "tokenizador, model = getBERT(fonteBERT = 'comunidade', \n",
        "                             tamanhoBERT = 'large', \n",
        "                             linguaBERT = 'ingles')\n",
        "\n",
        "del tokenizador\n",
        "del model"
      ],
      "execution_count": null,
      "outputs": []
    },
    {
      "cell_type": "code",
      "metadata": {
        "id": "fRPN8NFaJdre"
      },
      "source": [
        "tokenizador, model = getBERT(fonteBERT = 'comunidade', \n",
        "                             tamanhoBERT = 'base', \n",
        "                             linguaBERT = 'ingles') \n",
        "\n",
        "del tokenizador\n",
        "del model"
      ],
      "execution_count": null,
      "outputs": []
    },
    {
      "cell_type": "code",
      "metadata": {
        "id": "S2FS0UuUJdrf"
      },
      "source": [
        "tokenizador, model = getBERT(fonteBERT = 'comunidade', \n",
        "                             tamanhoBERT = 'base', \n",
        "                             linguaBERT = 'ingles', \n",
        "                             cased = True,\n",
        "                             pesosCamadasOcultas = False)\n",
        "\n",
        "del tokenizador\n",
        "del model\n",
        "                             pesosCamadasOcultas = False)\n",
        "\n",
        "del tokenizador\n",
        "del model"
      ],
      "execution_count": null,
      "outputs": []
    },
    {
      "cell_type": "code",
      "metadata": {
        "id": "txJZeLdzJdrf"
      },
      "source": [
        "tokenizador, model = getBERT(fonteBERT = 'comunidade', \n",
        "                             tamanhoBERT = 'base', \n",
        "                             linguaBERT = 'multilingual', \n",
        "                             cased = True\n",
        "                             pesosCamadasOcultas = False)\n",
        "\n",
        "del tokenizador\n",
        "del model"
      ],
      "execution_count": null,
      "outputs": []
    },
    {
      "cell_type": "code",
      "metadata": {
        "id": "rB5Ai0eKRkht"
      },
      "source": [
        "tokenizador, model = getBERT(fonteBERT = 'comunidade', \n",
        "                             tamanhoBERT = 'base', \n",
        "                             linguaBERT = 'multilingual', \n",
        "                             cased = False\n",
        "                             pesosCamadasOcultas = False)\n",
        "\n",
        "del tokenizador\n",
        "del model"
      ],
      "execution_count": null,
      "outputs": []
    },
    {
      "cell_type": "code",
      "metadata": {
        "id": "MMWZ7i21Jdrf"
      },
      "source": [
        "import gc\n",
        "gc.collect()"
      ],
      "execution_count": null,
      "outputs": []
    },
    {
      "cell_type": "markdown",
      "metadata": {
        "id": "gci3FLLlLUJE"
      },
      "source": [
        "## Declarando uma função que recupera embeddings de frase"
      ]
    },
    {
      "cell_type": "code",
      "metadata": {
        "id": "oeaDaUvaLoC4"
      },
      "source": [
        "def getEmbedding(texto, tokenizadorBERT, modeloBERT):\n",
        "\n",
        "    \"\"\"\n",
        "    Retorna os embeddings de uma frase utilizando um tokenizador e modelo BERT carregado.\n",
        "    \n",
        "    Args:\n",
        "        texto: Texto a ser convertindo em embeddings utilizando o BERT.\n",
        "        tokenizadorBERT: Tokenizador BERT carregado.\n",
        "        modelBERT: Modelo BERT carregado.\n",
        "        \n",
        "    Returns:\n",
        "          0-texto_tokenizado, \n",
        "          1-input_ids, \n",
        "          2-attention_mask, \n",
        "          3-token_type_ids, \n",
        "          4-outputs \n",
        "              0-last_hidden_state,\n",
        "              1-pooler_output,\n",
        "              2-hidden_states\n",
        "    \"\"\"\n",
        "    # Importando a biblioteca\n",
        "    import torch\n",
        "\n",
        "    # Adiciona os tokens especiais\n",
        "    texto_marcado = \"[CLS] \" + texto + \" [SEP]\"\n",
        "\n",
        "    # Tokeniza o texto marcado\n",
        "    texto_tokenizado = tokenizer.tokenize(texto_marcado)\n",
        "    \n",
        "    # Recupera a quantidade tokens do texto tokenizado\n",
        "    qtdeTokens = len(texto_tokenizado)\n",
        "\n",
        "    #tokeniza o texto e retorna os tensores\n",
        "    dic_codificado = tokenizadorBERT.encode_plus(\n",
        "                        text=texto,                     # texto a ser codificado.\n",
        "                        add_special_tokens = True,      # Adiciona os tokens especiais '[CLS]' e '[SEP]'\n",
        "                        max_length = qtdeTokens,        # Define o tamanho máximo para preencheer ou truncar.\n",
        "                        truncation = True,              # Trunca o texto por max_length\n",
        "                        padding = 'max_length',         # Preenche o texto até max_length\n",
        "                        return_attention_mask = True,   # Constrói a máscara de atenção.\n",
        "                        return_tensors = 'pt'           # Retorna os dados como tensores pytorch.\n",
        "                   )                   \n",
        "\n",
        "    # Ids dos tokens de entrada mapeados em seus índices do vocabuário    \n",
        "    input_ids =  dic_codificado['input_ids']\n",
        "\n",
        "    # Máscara de atenção de cada um dos tokens como pertencentes à frase \"1\".\n",
        "    attention_mask = dic_codificado['attention_mask']\n",
        "\n",
        "    # Recupera os tensores dos segmentos\n",
        "    token_type_ids = dic_codificado['token_type_ids']\n",
        "\n",
        "    # Roda o texto através do BERT, e coleta todos os estados ocultos produzidos\n",
        "    # das 12 camadas. \n",
        "    with torch.no_grad():\n",
        "\n",
        "        # Passe para a frente, calcule as previsões e coloque em resultado\n",
        "        # Os resultados são retornados no objeto resultado, documentado aqui:\n",
        "        # https://huggingface.co/transformers/main_classes/output.html#transformers.modeling_outputs.SequenceClassifierOutput\n",
        "        resultado = modeloBERT(input_ids=input_ids, \n",
        "                             attention_mask=attention_mask)\n",
        "\n",
        "        # A avaliação do modelo retorna um número de diferentes objetos com base em\n",
        "        # como é configurado na chamada do método `from_pretrained` anterior. Nesse caso,\n",
        "        # porque definimos `output_hidden_states = True`, o terceiro item será o\n",
        "        # estados ocultos(hidden_states) de todas as camadas. Veja a documentação para mais detalhes:\n",
        "        # https://huggingface.co/transformers/model_doc/bert.html#bertmodel\n",
        "       \n",
        "    # 0-texto_tokenizado, 1-input_ids, 2-attention_mask, 3-token_type_ids, 4-resultado    \n",
        "    return texto_tokenizado, input_ids, attention_mask, token_type_ids, resultado"
      ],
      "execution_count": null,
      "outputs": []
    },
    {
      "cell_type": "markdown",
      "metadata": {
        "id": "eV8B1VdVxF4l"
      },
      "source": [
        "# 4 Preparando a entrada"
      ]
    },
    {
      "cell_type": "markdown",
      "metadata": {
        "id": "PieeR7bQxKO2"
      },
      "source": [
        "## Tokenizador"
      ]
    },
    {
      "cell_type": "markdown",
      "metadata": {
        "id": "dedf1fOJyYkR"
      },
      "source": [
        "### Exemplo do tokenizador com método 'tokenize'"
      ]
    },
    {
      "cell_type": "code",
      "metadata": {
        "id": "Pl7-DgNpxTkd"
      },
      "source": [
        "# Recupera o tokenizador BERT\n",
        "tokenizer = getTokenizadorBERT()\n",
        "\n",
        "# Texto de exemplo\n",
        "texto = \"O que é embedding?\"\n",
        "\n",
        "# Adiciona os tokens especiais\n",
        "texto_marcado = \"[CLS] \" + texto + \" [SEP]\"\n",
        "\n",
        "# Tokeniza o texto em tokens\n",
        "texto_tokenizado = tokenizer.tokenize(texto_marcado)\n",
        "\n",
        "# Mostra o texto exemplo\n",
        "print(\"Texto exemplo      :\", texto)\n",
        "\n",
        "# Mostra o texto marcado\n",
        "print(\"Texto marcado      :\", texto_marcado)\n",
        "\n",
        "# Mostra o texto tokenizado\n",
        "print(\"Texto tokenizado   :\", texto_tokenizado)"
      ],
      "execution_count": null,
      "outputs": []
    },
    {
      "cell_type": "markdown",
      "metadata": {
        "id": "tVhPYQg_yMl0"
      },
      "source": [
        "## Codificador (input_ids)\n",
        "\n",
        "Converte cada token do texto tokenizado para um id presente no vocabulário do modelo do Tokenizador. Se houver um token que não está presente no vocabulário, o tokenizador usará o id token especial [UNK].\n",
        "\n",
        "- encode\n",
        "- convert_tokens_to_ids"
      ]
    },
    {
      "cell_type": "markdown",
      "metadata": {
        "id": "_ezUjHyRMIuQ"
      },
      "source": [
        "### Exemplo de gerador do id do token com o método 'encode'\n",
        "\n",
        "Método encode tokeniza e converte os tokens para os ids do vocabulário."
      ]
    },
    {
      "cell_type": "code",
      "metadata": {
        "id": "PlXtmkcjMNu0"
      },
      "source": [
        "# Recupera o tokenizador BERT\n",
        "tokenizer = getTokenizadorBERT()\n",
        "\n",
        "# Texto de exemplo\n",
        "texto = \"O que é embedding?\"\n",
        "\n",
        "# Adiciona os tokens especiais\n",
        "texto_marcado = \"[CLS] \" + texto + \" [SEP]\"\n",
        "\n",
        "# Tokeniza o texto em tokens\n",
        "texto_tokenizado = tokenizer.tokenize(texto_marcado)\n",
        "\n",
        "# Converte os tokens para os ids do vocabulário, por default(add_special_tokens=True) \n",
        "# já adiciona os tokens especiais.\n",
        "texto_token_ids = tokenizer.encode(text=texto_tokenizado, \n",
        "                                   add_special_tokens=False)\n",
        "\n",
        "# Mostra o texto exemplo\n",
        "print(\"Texto exemplo      :\", texto)\n",
        "\n",
        "# Mostra o texto marcado\n",
        "print(\"Texto marcado      :\", texto_marcado)\n",
        "\n",
        "# Mostra o texto tokenizado\n",
        "print(\"Texto tokenizado   :\", texto_tokenizado)\n",
        "\n",
        "# Mostra o id do texto tokenizado\n",
        "print(\"Texto id token     :\", texto_token_ids)"
      ],
      "execution_count": null,
      "outputs": []
    },
    {
      "cell_type": "markdown",
      "metadata": {
        "id": "l5T9g55j57_k"
      },
      "source": [
        "### Exemplo de gerador do id do token com o método 'convert_tokens_to_ids'\n",
        "\n",
        "Método convert_tokens_to_ids tokeniza e converte os tokens para os ids do vocabulário.\n",
        "\n",
        "Função semenlhante ao método `enconde`."
      ]
    },
    {
      "cell_type": "code",
      "metadata": {
        "id": "NL_qJ-nh0Cq0"
      },
      "source": [
        "# Recupera o tokenizador BERT\n",
        "tokenizer = getTokenizadorBERT()\n",
        "\n",
        "# Texto de exemplo\n",
        "texto = \"O que é embedding?\"\n",
        "\n",
        "# Adiciona os tokens especiais\n",
        "texto_marcado = \"[CLS] \" + texto + \" [SEP]\"\n",
        "\n",
        "# Tokeniza o texto em tokens\n",
        "texto_tokenizado = tokenizer.tokenize(texto_marcado)\n",
        "\n",
        "# Converte os tokens para os ids do vocabulário\n",
        "texto_token_ids = tokenizer.convert_tokens_to_ids(texto_tokenizado)\n",
        "\n",
        "# Mostra o texto exemplo\n",
        "print(\"Texto exemplo      :\", texto)\n",
        "\n",
        "# Mostra o texto marcado\n",
        "print(\"Texto marcado      :\", texto_marcado)\n",
        "\n",
        "# Mostra o texto tokenizado\n",
        "print(\"Texto tokenizado   :\", texto_tokenizado)\n",
        "\n",
        "# Mostra o id do texto tokenizado\n",
        "print(\"Texto id token     :\", texto_token_ids)"
      ],
      "execution_count": null,
      "outputs": []
    },
    {
      "cell_type": "markdown",
      "metadata": {
        "id": "kbYZGyvGIg2q"
      },
      "source": [
        "### Exemplo de decodificação dos id dos tokens com o método 'decode'"
      ]
    },
    {
      "cell_type": "code",
      "metadata": {
        "id": "n2-DNVvBIzrb"
      },
      "source": [
        "# Recupera o tokenizador BERT\n",
        "tokenizer = getTokenizadorBERT()\n",
        "\n",
        "# Texto de exemplo\n",
        "texto = \"O que é embedding?\"\n",
        "\n",
        "# Adiciona os tokens especiais\n",
        "texto_marcado = \"[CLS] \" + texto + \" [SEP]\"\n",
        "\n",
        "# Tokeniza o texto em tokens\n",
        "texto_tokenizado = tokenizer.tokenize(texto_marcado)\n",
        "\n",
        "# Converte os tokens para os ids do vocabulário\n",
        "texto_token_ids = tokenizer.convert_tokens_to_ids(texto_tokenizado)\n",
        "\n",
        "# Decodifica o id texto tokenizado\n",
        "# skip_special_tokens: bool = False retira os tokens especiais\n",
        "texto_decodificado = tokenizer.decode(texto_token_ids)\n",
        "\n",
        "print(\"Texto exemplo      :\", texto)\n",
        "\n",
        "# Mostra o texto marcado\n",
        "print(\"Texto marcado      :\", texto_marcado)\n",
        "\n",
        "# Mostra o texto tokenizado\n",
        "print(\"Texto tokenizado   :\", texto_tokenizado)\n",
        "\n",
        "# Mostra o id do texto tokenizado\n",
        "print(\"Texto id token     :\", texto_token_ids)\n",
        "\n",
        "# Mostra texto decodificado\n",
        "print(\"Texto decodificado :\", texto_decodificado)"
      ],
      "execution_count": null,
      "outputs": []
    },
    {
      "cell_type": "markdown",
      "metadata": {
        "id": "_6IhqAYe0U6f"
      },
      "source": [
        "## Gerador da máscara de atenção (attention_mask)\n",
        "\n",
        "O BERT é treinado e espera pares de frases, usando 1s e 0s para distinguir entre as duas frases. Ou seja, para cada token em \"texto_tokenizado\", devemos especificar a qual frase pertence: sentença 0 (uma série de 0s) ou sentença 1 (uma série de 1s). \n",
        "\n",
        "Para casos onde as entradas de texto é **única** requerem apenas uma série de 1s; portanto, criaremos um vetor de 1s para cada token em input_ids.\n",
        "\n",
        "Se desejar processar **duas frases**, atribua cada palavra na primeira frase mais o token '[SEP]' a 0 e todos os tokens da segunda frase a 1."
      ]
    },
    {
      "cell_type": "markdown",
      "metadata": {
        "id": "KB1NizSQ6y9O"
      },
      "source": [
        "### Exemplo de gerador de máscara para frase única com lista"
      ]
    },
    {
      "cell_type": "code",
      "metadata": {
        "id": "3oOSCtd00W2b"
      },
      "source": [
        "# Recupera o tokenizador BERT\n",
        "tokenizer = getTokenizadorBERT()\n",
        "\n",
        "# Texto de exemplo\n",
        "texto = \"O que é embedding?\"\n",
        "\n",
        "# Adiciona os tokens especiais\n",
        "texto_marcado = \"[CLS] \" + texto + \" [SEP]\"\n",
        "\n",
        "# Tokeniza o texto em tokens\n",
        "texto_tokenizado = tokenizer.tokenize(texto_marcado)\n",
        "\n",
        "# Converte os tokens para os ids do vocabulário\n",
        "texto_token_ids = tokenizer.convert_tokens_to_ids(texto_tokenizado)\n",
        "\n",
        "# Cria um vetor com o tamanho da quantidade de tokens do texto preenchidos com 1.\n",
        "mascara_atencao = [1] * len(texto_token_ids)\n",
        "\n",
        "print(\"Texto exemplo      :\", texto)\n",
        "\n",
        "# Mostra o texto marcado\n",
        "print(\"Texto marcado      :\", texto_marcado)\n",
        "\n",
        "# Mostra o texto tokenizado\n",
        "print(\"Texto tokenizado   :\", texto_tokenizado)\n",
        "\n",
        "# Mostra o id do texto tokenizado\n",
        "print(\"Texto id token     :\", texto_token_ids)\n",
        "\n",
        "# Mostra a máscara de atenção\n",
        "print(\"Máscara de atenção :\", mascara_atencao)"
      ],
      "execution_count": null,
      "outputs": []
    },
    {
      "cell_type": "markdown",
      "metadata": {
        "id": "nKdO4ZDi8O8Q"
      },
      "source": [
        "## Gerando toda a entrada com o encode_plus(input_ids, attention_mask, token_type_ids)\n",
        "\n",
        "O método `enconde_plus` gera todas as entradas necessárias a partir do texto. O método retorna um dicionário com as chaves:\n",
        "\n",
        "- 'input_ids' - O id do texto tokenizado\n",
        "- 'attention_mask' - A máscara de atenção truncada ou preenchida até `max_length`\n",
        "- 'token_type_ids' - A máscara de atenção de pares de frase. Quando o texto é tokenizado com duas frases, a primeira recebe 0 a segunda frase recebe 1.\n",
        "\n",
        "https://huggingface.co/transformers/main_classes/tokenizer.html?highlight=encode_plus#transformers.PreTrainedTokenizer.encode_plus"
      ]
    },
    {
      "cell_type": "code",
      "metadata": {
        "id": "MWM3U6wF8PNw"
      },
      "source": [
        "# Recupera o tokenizador BERT\n",
        "tokenizer = getTokenizadorBERT()\n",
        "\n",
        "# Texto de exemplo\n",
        "texto = \"O que é embedding?\"\n",
        "\n",
        "# `encode_plus` irá:\n",
        "#   (1) Tokenize a frase sentence.\n",
        "#   (2) Adicionar o token `[CLS]` no início.\n",
        "#   (3) Adicionar o token `[SEP]` no fim.\n",
        "#   (4) Mapear tokens para os seus IDS.\n",
        "#   (5) Preencher ou truncar as frases para `max_length`\n",
        "#   (6) Criar máscara de atenção para os tokens [PAD].    \n",
        "#   (7) Retorna os dados com tensores\n",
        "dic_codificado = tokenizer.encode_plus(\n",
        "                        text=texto,                     # Texto a ser codificado.\n",
        "                        add_special_tokens = True,      # Adiciona os tokens especiais '[CLS]' e '[SEP]'\n",
        "                        max_length = 10,                # Define o tamanho máximo para preencheer ou truncar.\n",
        "                        truncation = True,              # Trunca o texto por max_length\n",
        "                        padding = 'max_length',         # Preenche o texto até max_length\n",
        "                        return_attention_mask = True,   # Constrói a máscara de atenção.\n",
        "                        return_tensors = 'pt'           # Retorna os dados como tensores pytorch.\n",
        "                   )\n",
        "\n",
        "# Recupera os dados do dicionário\n",
        "texto_token_ids = dic_codificado['input_ids']\n",
        "mascara_atencao = dic_codificado['attention_mask']\n",
        "token_type_ids = dic_codificado['token_type_ids']\n",
        "\n",
        "print(\"Texto exemplo      :\", texto)\n",
        "\n",
        "# Mostra o texto marcado\n",
        "print(\"Texto marcado      :\", texto_marcado)\n",
        "\n",
        "# Mostra o texto tokenizado\n",
        "print(\"Texto tokenizado   :\", texto_tokenizado)\n",
        "\n",
        "# Mostra o id do texto tokenizado\n",
        "print(\"Texto id token     :\", texto_token_ids)\n",
        "\n",
        "# Mostra a máscara de atenção\n",
        "print(\"Máscara de atenção :\", mascara_atencao)\n",
        "\n",
        "# Mostra a máscara de atenção de pares de frase (0 primeira frase e 1 para a segunda frase)\n",
        "print(\"Token types ids    :\", token_type_ids)"
      ],
      "execution_count": null,
      "outputs": []
    },
    {
      "cell_type": "markdown",
      "metadata": {
        "id": "kjHaBG4U8z04"
      },
      "source": [
        "# 5 Usando o modelo Pré-treinado\n",
        "\n",
        "Uso do modell pré-treinado sem ajuste fino."
      ]
    },
    {
      "cell_type": "markdown",
      "metadata": {
        "id": "riR4jz8W-qk3"
      },
      "source": [
        "# 6 Teste Completo do Tokenizador e Modelo BERT\n",
        "\n",
        "Testa o tokenizador e modelo de vretorno da função getBERT.\n"
      ]
    },
    {
      "cell_type": "code",
      "metadata": {
        "id": "8QP-2tC8YOFW"
      },
      "source": [
        "# Utiliza a função para retornar o tokenizador e o modelo\n",
        "tokenizer, model = getBERT(tamanhoBERT = 'base')\n",
        "\n",
        "# Define um sentença de exemplo com diversos siginificados da palavra  \"banco\"\n",
        "texto = \"Depois de roubar o cofre do banco,\"\\\n",
        "        \" o ladrão de banco foi visto \" \\\n",
        "        \"sentado no banco da praça central.\"\n",
        "\n",
        "# Adiciona os tokens especiais\n",
        "texto_marcado = \"[CLS] \" + texto + \" [SEP]\"\n",
        "\n",
        "# Divide a sentença em tokens\n",
        "texto_tokenizado = tokenizer.tokenize(texto_marcado)\n",
        "\n",
        "# Mapeia os tokens em seus índices do vocabuário\n",
        "tokens_indexados = tokenizer.convert_tokens_to_ids(texto_tokenizado)\n",
        "\n",
        "# Mostra os tokens com seus índices\n",
        "i = 0\n",
        "for tup in zip(texto_tokenizado, tokens_indexados):\n",
        "    print('{:>3} {:<12} {:>6,}'.format(i, tup[0], tup[1]))\n",
        "    i= i + 1"
      ],
      "execution_count": null,
      "outputs": []
    },
    {
      "cell_type": "code",
      "metadata": {
        "id": "Pn6z4bM_RG-2"
      },
      "source": [
        "# Importa a bibliteca\n",
        "import torch\n",
        "\n",
        "# Marca cada um dos tokens como pertencentes à frase \"1\", pois só iremos analisar uma.\n",
        "segmentos_ids = [1] * len(texto_tokenizado)\n",
        "\n",
        "# Converte as entradas de listas para tensores do torch\n",
        "input_ids = torch.as_tensor([tokens_indexados])\n",
        "attention_mask = torch.as_tensor([segmentos_ids])"
      ],
      "execution_count": null,
      "outputs": []
    },
    {
      "cell_type": "code",
      "metadata": {
        "id": "ne6-tB8MRG-9"
      },
      "source": [
        "# Prediz os atributos dos estados ocultos para cada camada\n",
        "with torch.no_grad():    \n",
        "  \n",
        "    # outputs[0] = last_hidden_state, outputs[1] = pooler_output, outputs[2] = hidden_states    \n",
        "    outputs = model(input_ids=input_ids, \n",
        "                    attention_mask=attention_mask)\n",
        "    \n",
        "    # Recupera a última camada oculta da saída\n",
        "    last_hidden_states = outputs[0]\n",
        "\n",
        "# Remove a dimensão 1, o lote \"batches\".\n",
        "# O método ´squeeze´ remove a primeira dimensão(0) pois possui tamanho 1\n",
        "token_embeddings = torch.squeeze(last_hidden_states, dim=0)    "
      ],
      "execution_count": null,
      "outputs": []
    },
    {
      "cell_type": "markdown",
      "metadata": {
        "id": "-tnv1g2qIWKD"
      },
      "source": [
        "BASE em português:\n",
        "* banco tensor([ 0.2817, -0.2229,  0.4058, -0.1698,  0.4350])\n",
        "* banco tensor([ 0.3844, -0.2985,  0.1629, -0.2853,  0.4661])\n",
        "* banco tensor([ 0.0382, -0.1985,  0.0825,  0.1369,  0.6871])\n",
        "\n",
        "\n",
        "LARGE em português:\n",
        "* banco tensor([ 0.4261, -0.1251, -0.4406,  0.0736, -1.4059])\n",
        "* banco tensor([ 0.4835,  0.1447, -0.4306,  0.3436, -1.4682])\n",
        "* banco tensor([ 0.3631,  0.9212,  0.1919, -0.2493, -0.9418])"
      ]
    },
    {
      "cell_type": "code",
      "metadata": {
        "id": "2hrWa-RzZIFl"
      },
      "source": [
        "palavra1 = 8\n",
        "palavra2 = 14\n",
        "palavra3 = 19\n",
        "\n",
        "print('Os primeiros 5 valores de cada instância de \"banco\".')\n",
        "print('')\n",
        "print(texto_tokenizado[palavra1], str(token_embeddings[palavra1][:5]))\n",
        "print(texto_tokenizado[palavra2], str(token_embeddings[palavra2][:5]))\n",
        "print(texto_tokenizado[palavra3], str(token_embeddings[palavra3][:5]))"
      ],
      "execution_count": null,
      "outputs": []
    },
    {
      "cell_type": "markdown",
      "metadata": {
        "id": "neHWoJlxLe2z"
      },
      "source": [
        "BASE em português:\n",
        "* Vetor de similaridade  para diferentes significados( 14 , 19 ):  0.71\n",
        "* Vetor de similaridade  para mesmo significado( 14 , 8 ):  0.88\n",
        "* Vetor de similaridade  para diferentes significados( 19 , 8 ):  0.76\n",
        "\n",
        "LARGE em português:\n",
        "* Vetor de similaridade  para diferentes significados( 14 , 19 ):  0.78\n",
        "* Vetor de similaridade  para mesmo significado( 14 , 8 ):  0.92\n",
        "* Vetor de similaridade  para diferentes significados( 19 , 8 ):  0.77"
      ]
    },
    {
      "cell_type": "code",
      "metadata": {
        "id": "_0Wz7anjZIFp"
      },
      "source": [
        "from scipy.spatial.distance import cosine\n",
        "\n",
        "print(\"Período:\", texto)\n",
        "print(\"Palavra1= \", palavra1, \"=\", texto_tokenizado[palavra1], \"(instituição financeira)\")\n",
        "print(\"Palavra2=\", palavra2, \"=\", texto_tokenizado[palavra2], \"(instituição financeira)\")\n",
        "print(\"Palavra3=\", palavra3, \"=\", texto_tokenizado[palavra3], \"(assento)\")\n",
        "\n",
        "# Calcula a similaridade de coseno entre as palavras banco\n",
        "# Em \"ladrão de banco\" versus \"banco da praça\" (diferentes significados).\n",
        "banco_diferente = 1 - cosine(token_embeddings[palavra2], token_embeddings[palavra3])\n",
        "\n",
        "print('Vetor de similaridade  para diferentes significados(',palavra2,',',palavra3,'):  %.2f' % banco_diferente)\n",
        "\n",
        "# Calcula a similaridade de coseno entre as palavras banco\n",
        "# Em \"ladrão de banco\" versus \"cofre do banco\" (mesmo significado).\n",
        "mesmo_banco = 1 - cosine(token_embeddings[palavra2], token_embeddings[palavra1])\n",
        "\n",
        "print('Vetor de similaridade  para mesmo significado      (',palavra2,', ',palavra1,'):  %.2f' % mesmo_banco)\n",
        "\n",
        "# Calcula a similaridade de coseno entre as palavras banco\n",
        "# Em \"cofre do banco\" versus \"banco da praça\" (diferente significados).\n",
        "banco_diferente2 = 1 - cosine(token_embeddings[palavra3], token_embeddings[palavra1])\n",
        "\n",
        "print('Vetor de similaridade  para diferentes significados(',palavra3,', ',palavra1,'):  %.2f' % banco_diferente2)"
      ],
      "execution_count": null,
      "outputs": []
    },
    {
      "cell_type": "markdown",
      "metadata": {
        "id": "7JAFCSVopfFb"
      },
      "source": [
        "# 7 Teste completo da função de recuperação de embeddings de frase\n",
        "\n",
        "Testa os embeddings de retorno da função getEmbedding."
      ]
    },
    {
      "cell_type": "code",
      "metadata": {
        "id": "EmjHFQUttUtF"
      },
      "source": [
        "# Utiliza a função para retornar o tokenizador e o modelo\n",
        "tokenizer, model = getBERT(tamanhoBERT = 'base')\n",
        "\n",
        "# Define um sentença de exemplo com diversos siginificados da palavra  \"banco\"\n",
        "texto = \"Depois de roubar o cofre do banco,\"\\\n",
        "        \" o ladrão de banco foi visto \" \\\n",
        "        \"sentado no banco da praça central.\"\n",
        "\n",
        "# 0-texto_tokenizado, 1-input_ids, 2-attention_mask, 3-token_type_ids, 4-outputs(0=last_hidden_state,1=pooler_output,2=hidden_states)\n",
        "outputs = getEmbedding(texto, tokenizer, model)        \n",
        "\n",
        "# Recupera a última camada oculta da saída\n",
        "# 4-outputs 0=last_hidden_state\n",
        "last_hidden_states = outputs[4][0]\n",
        "\n",
        "# Remove a dimensão 1, o lote \"batches\".\n",
        "# O método ´squeeze´ remove a primeira dimensão(0) pois possui tamanho 1\n",
        "token_embeddings = torch.squeeze(last_hidden_states, dim=0)    "
      ],
      "execution_count": null,
      "outputs": []
    },
    {
      "cell_type": "code",
      "metadata": {
        "id": "Wd84LqC5tUtI"
      },
      "source": [
        "# Divide a sentença em tokens\n",
        "texto_tokenizado = outputs[0]\n",
        "\n",
        "# Mapeia os tokens em seus índices do vocabuário\n",
        "tokens_indexados = outputs[1]\n",
        "\n",
        "# Mostra os tokens com seus índices\n",
        "for i, token in enumerate(texto_tokenizado):\n",
        "    print(i, token)"
      ],
      "execution_count": null,
      "outputs": []
    },
    {
      "cell_type": "markdown",
      "metadata": {
        "id": "SDB9bYPpI-Oq"
      },
      "source": [
        "BASE em português:\n",
        "* banco tensor([ 0.2817, -0.2229,  0.4058, -0.1698,  0.4350])\n",
        "* banco tensor([ 0.3844, -0.2985,  0.1629, -0.2853,  0.4661])\n",
        "* banco tensor([ 0.0382, -0.1985,  0.0825,  0.1369,  0.6871])\n",
        "\n",
        "\n",
        "LARGE em português:\n",
        "* banco tensor([ 0.4261, -0.1251, -0.4406,  0.0736, -1.4059])\n",
        "* banco tensor([ 0.4835,  0.1447, -0.4306,  0.3436, -1.4682])\n",
        "* banco tensor([ 0.3631,  0.9212,  0.1919, -0.2493, -0.9418])"
      ]
    },
    {
      "cell_type": "code",
      "metadata": {
        "id": "ZhKpFWRrECOo"
      },
      "source": [
        "palavra1 = 8\n",
        "palavra2 = 14\n",
        "palavra3 = 19\n",
        "\n",
        "print('Os primeiros 5 valores de cada instância de \"banco\".')\n",
        "print('')\n",
        "print(texto_tokenizado[palavra1], str(token_embeddings[palavra1][:5]))\n",
        "print(texto_tokenizado[palavra2], str(token_embeddings[palavra2][:5]))\n",
        "print(texto_tokenizado[palavra3], str(token_embeddings[palavra3][:5]))"
      ],
      "execution_count": null,
      "outputs": []
    },
    {
      "cell_type": "markdown",
      "metadata": {
        "id": "pgv05eUcECOs"
      },
      "source": [
        "BASE em português:\n",
        "* Vetor de similaridade  para diferentes significados( 14 , 19 ):  0.71\n",
        "* Vetor de similaridade  para mesmo significado( 14 , 8 ):  0.88\n",
        "* Vetor de similaridade  para diferentes significados( 19 , 8 ):  0.76\n",
        "\n",
        "LARGE em português:\n",
        "* Vetor de similaridade  para diferentes significados( 14 , 19 ):  0.78\n",
        "* Vetor de similaridade  para mesmo significado( 14 , 8 ):  0.92\n",
        "* Vetor de similaridade  para diferentes significados( 19 , 8 ):  0.77"
      ]
    }
  ]
}