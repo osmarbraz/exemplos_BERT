{
  "nbformat": 4,
  "nbformat_minor": 0,
  "metadata": {
    "colab": {
      "provenance": [],
      "toc_visible": true,
      "include_colab_link": true
    },
    "kernelspec": {
      "name": "python3",
      "display_name": "Python 3"
    }
  },
  "cells": [
    {
      "cell_type": "markdown",
      "metadata": {
        "id": "view-in-github",
        "colab_type": "text"
      },
      "source": [
        "<a href=\"https://colab.research.google.com/github/osmarbraz/exemplos_BERT/blob/main/ExemplosInspecionado_Vocabulario_BERT_pt_br.ipynb\" target=\"_parent\"><img src=\"https://colab.research.google.com/assets/colab-badge.svg\" alt=\"Open In Colab\"/></a>"
      ]
    },
    {
      "cell_type": "markdown",
      "metadata": {
        "id": "whjogPl1KL4-"
      },
      "source": [
        "# Inpecionando o Vocabulário do BERT em português(pt-br) usando Transformers by HuggingFace\n",
        "\n",
        "Usando transformers\n",
        "\n",
        "Modelo pré treinado em português\n",
        "Link dos arquivos do modelo pt-br BERT\n",
        "\n",
        "https://github.com/neuralmind-ai/portuguese-bert\n",
        "\n",
        "Lista dos modelos\n",
        "\n",
        "https://huggingface.co/models"
      ]
    },
    {
      "cell_type": "markdown",
      "metadata": {
        "id": "sUou4SXfRCxV"
      },
      "source": [
        "## Carrega o modelo"
      ]
    },
    {
      "cell_type": "markdown",
      "metadata": {
        "id": "O0wWu4oEKYtc"
      },
      "source": [
        "Instalando a implementação huggingface do transformers."
      ]
    },
    {
      "cell_type": "code",
      "metadata": {
        "id": "PzCjfNB6jksJ",
        "outputId": "3b860456-abff-497f-f49a-0388754984d0",
        "colab": {
          "base_uri": "https://localhost:8080/",
          "height": 360
        }
      },
      "source": [
        "!pip install transformers"
      ],
      "execution_count": null,
      "outputs": [
        {
          "output_type": "stream",
          "text": [
            "Requirement already satisfied: transformers in /usr/local/lib/python3.6/dist-packages (3.3.1)\n",
            "Requirement already satisfied: regex!=2019.12.17 in /usr/local/lib/python3.6/dist-packages (from transformers) (2019.12.20)\n",
            "Requirement already satisfied: tqdm>=4.27 in /usr/local/lib/python3.6/dist-packages (from transformers) (4.41.1)\n",
            "Requirement already satisfied: sacremoses in /usr/local/lib/python3.6/dist-packages (from transformers) (0.0.43)\n",
            "Requirement already satisfied: requests in /usr/local/lib/python3.6/dist-packages (from transformers) (2.23.0)\n",
            "Requirement already satisfied: packaging in /usr/local/lib/python3.6/dist-packages (from transformers) (20.4)\n",
            "Requirement already satisfied: sentencepiece!=0.1.92 in /usr/local/lib/python3.6/dist-packages (from transformers) (0.1.91)\n",
            "Requirement already satisfied: filelock in /usr/local/lib/python3.6/dist-packages (from transformers) (3.0.12)\n",
            "Requirement already satisfied: dataclasses; python_version < \"3.7\" in /usr/local/lib/python3.6/dist-packages (from transformers) (0.7)\n",
            "Requirement already satisfied: numpy in /usr/local/lib/python3.6/dist-packages (from transformers) (1.18.5)\n",
            "Requirement already satisfied: tokenizers==0.8.1.rc2 in /usr/local/lib/python3.6/dist-packages (from transformers) (0.8.1rc2)\n",
            "Requirement already satisfied: joblib in /usr/local/lib/python3.6/dist-packages (from sacremoses->transformers) (0.16.0)\n",
            "Requirement already satisfied: six in /usr/local/lib/python3.6/dist-packages (from sacremoses->transformers) (1.15.0)\n",
            "Requirement already satisfied: click in /usr/local/lib/python3.6/dist-packages (from sacremoses->transformers) (7.1.2)\n",
            "Requirement already satisfied: urllib3!=1.25.0,!=1.25.1,<1.26,>=1.21.1 in /usr/local/lib/python3.6/dist-packages (from requests->transformers) (1.24.3)\n",
            "Requirement already satisfied: chardet<4,>=3.0.2 in /usr/local/lib/python3.6/dist-packages (from requests->transformers) (3.0.4)\n",
            "Requirement already satisfied: idna<3,>=2.5 in /usr/local/lib/python3.6/dist-packages (from requests->transformers) (2.10)\n",
            "Requirement already satisfied: certifi>=2017.4.17 in /usr/local/lib/python3.6/dist-packages (from requests->transformers) (2020.6.20)\n",
            "Requirement already satisfied: pyparsing>=2.0.2 in /usr/local/lib/python3.6/dist-packages (from packaging->transformers) (2.4.7)\n"
          ],
          "name": "stdout"
        }
      ]
    },
    {
      "cell_type": "markdown",
      "metadata": {
        "id": "OzWcQNSORrYC"
      },
      "source": [
        "## Carregando o modelo pré-treinado BERT"
      ]
    },
    {
      "cell_type": "markdown",
      "metadata": {
        "id": "snDFb_WBpItd"
      },
      "source": [
        "#### Usando o BERT da comunidade ou diretório v2\n",
        "\n",
        "Permite configurar o **tamanho do modelo** e a **fonte do modelo**.\n",
        "\n",
        "A variável `fonteBERT` com os valores `comunidade` ou `diretório` especifica se deve ser carregado o BERT de um diretório ou da comunidade.\n",
        "\n",
        "A variável `tamanhoBERT` com os valores `base` ou `large` especifica se o tamanho do modelo BERT a ser utilizado."
      ]
    },
    {
      "cell_type": "markdown",
      "metadata": {
        "id": "Nj1KS8xCpIte"
      },
      "source": [
        "##### Download do arquivo do Pytorch Checkpoint\n",
        "\n",
        "É necessário realizar o download do arquivo de checkpoint e do vocabulário.\n",
        "\n",
        "O arquivo do checkpoint precisa ser descompactado.\n",
        "\n",
        "Os arquivos do modelo e do vocabulário são movidos para o diretório `modelo`."
      ]
    },
    {
      "cell_type": "code",
      "metadata": {
        "id": "3gab02A0pIte",
        "outputId": "4de09918-b4de-4f3e-a72e-27569c8c46f2",
        "colab": {
          "base_uri": "https://localhost:8080/",
          "height": 34
        }
      },
      "source": [
        "# Importando as bibliotecas\n",
        "import os\n",
        "\n",
        "# Variável fonte especifica a origem do modelo(comunidade ou diretório)\n",
        "fonteBERT = 'comunidade'\n",
        "#fonteBERT = 'diretorio'\n",
        "\n",
        "# Especifica o tamanho do modelo a ser carregado(base ou large)\n",
        "#tamanhoBERT = 'large'\n",
        "tamanhoBERT = 'base'\n",
        "\n",
        "# Se a variável 'fonteBERT' foi setada para 'diretorio' faz o download dos arquivos modelo\n",
        "if fonteBERT == 'diretorio':\n",
        "    \n",
        "    # Se a variável 'tamanhoBERT' foi setada para 'base' faz o download do arquivo do tamanho base do BERT, caso contrário do large.\n",
        "    if tamanhoBERT == 'base':\n",
        "        # url do arquivo do modelo do Pytorch checkpoint\n",
        "        # arquivo menor(base) 1.1 Gbytes\n",
        "        url = \"https://neuralmind-ai.s3.us-east-2.amazonaws.com/nlp/bert-base-portuguese-cased/bert-base-portuguese-cased_pytorch_checkpoint.zip\"\n",
        "    else:\n",
        "        # url do arquivo do modelo do Pytorch checkpoint\n",
        "        # arquivo grande(large) 3.5 Gbytes\n",
        "        url = \"https://neuralmind-ai.s3.us-east-2.amazonaws.com/nlp/bert-large-portuguese-cased/bert-large-portuguese-cased_pytorch_checkpoint.zip\"\n",
        "\n",
        "    # Diretório descompactação do modelo\n",
        "    diretorio = '/content/modelo'\n",
        "\n",
        "    # Recupera o nome do arquivo do modelo da url anterior\n",
        "    arquivo = url.split(\"/\")[-1]\n",
        "\n",
        "    # Nome do arquivo do vocabulário\n",
        "    arquivo_vocab = \"vocab.txt\"\n",
        "\n",
        "    # Caminho do arquivo na url\n",
        "    caminho = url[0:len(url)-len(arquivo)]\n",
        "\n",
        "    # Verifica se a pasta de descompactação existe no pasta corrente\n",
        "    if not os.path.exists(diretorio):\n",
        "   \n",
        "        # Realiza o download do arquivo do modelo\n",
        "        !wget $url\n",
        "    \n",
        "        # Descompacta o arquivo na pasta de destino\n",
        "        !unzip -o $arquivo -d $diretorio\n",
        "\n",
        "        # Realiza o download do arquivo do vocabulário\n",
        "        # O vocabulário não está no arquivo compactado acima\n",
        "        # Concatena o caminho do modelo mais o nome do arquivo do vocabulário\n",
        "        url_vocab = caminho + arquivo_vocab\n",
        "\n",
        "        # Realiza o download do arquivo do vocabulário\n",
        "        !wget $url_vocab\n",
        "    \n",
        "        # Move o arquivo do vocabulário para o diretório do modelo\n",
        "        !mv $arquivo_vocab $diretorio\n",
        "            \n",
        "        # Move o arquivo do modelo para o diretório do modelo\n",
        "        !mv $arquivo $diretorio      \n",
        "                \n",
        "        print('Diretório do modelo:\\'' + diretorio + '\\' pronta!')\n",
        "    else:      \n",
        "      print('Diretório do modelo:\\'' + diretorio + '\\' já existe!')\n",
        "\n",
        "    #lista a pasta corrente\n",
        "    !ls -la $diretorio\n",
        "else:\n",
        "    print('Será carregado o BERT da comunidade')"
      ],
      "execution_count": null,
      "outputs": [
        {
          "output_type": "stream",
          "text": [
            "Será carregado o BERT da comunidade\n"
          ],
          "name": "stdout"
        }
      ]
    },
    {
      "cell_type": "markdown",
      "metadata": {
        "id": "stZE-KdbpIti"
      },
      "source": [
        "##### Carregando o BERT\n",
        "\n",
        "Carregando o **tokenizador** e **modelo** BERT do diretório '/content/modelo/' do diretório padrão.\n"
      ]
    },
    {
      "cell_type": "code",
      "metadata": {
        "id": "Rbdpa5IzpItj",
        "outputId": "ce3e6349-849d-42bb-ecdc-44307bd8ea09",
        "colab": {
          "base_uri": "https://localhost:8080/",
          "height": 51
        }
      },
      "source": [
        "# Importando as bibliotecas do Modelo e do Tokenizador\n",
        "from transformers import BertModel, BertTokenizer\n",
        "\n",
        "# Se a variável 'fonteBERT' foi setada para 'diretorio' faz o download dos arquivos modelo\n",
        "if fonteBERT == 'diretorio':\n",
        "\n",
        "    # Carregando o Tokenizador do diretório\n",
        "    print('Carregando o tokenizador BERT_' + tamanhoBERT + ' do diretório ' + diretorio + '...')\n",
        "\n",
        "    tokenizer = BertTokenizer.from_pretrained(diretorio)\n",
        "\n",
        "    # Carregando o Modelo do diretório\n",
        "    print('Carregando o modelo BERT_' + tamanhoBERT + ' do diretório ' + diretorio + '...')\n",
        "\n",
        "    model = BertModel.from_pretrained(diretorio)\n",
        "\n",
        "else:\n",
        "    # Se a variável 'tamanhoBERT' foi setada para 'base' faz o carregamento do tamanho base do BERT, caso contrário do large.\n",
        "    if tamanhoBERT == 'base':\n",
        "        # Carregando o Tokenizador da comunidade\n",
        "        print('Carregando o tokenizador BERT_base da comunidade...')\n",
        "\n",
        "        tokenizer = BertTokenizer.from_pretrained('neuralmind/bert-base-portuguese-cased')  \n",
        "\n",
        "        # Carregando o Modelo da comunidade\n",
        "        print('Carregando o modelo BERT_base da comunidade...')\n",
        "\n",
        "        model = BertModel.from_pretrained('neuralmind/bert-base-portuguese-cased')  \n",
        "    else:\n",
        "        # Carregando o Tokenizador da comunidade  \n",
        "        print('Carregando o tokenizador BERT_large da comunidade...')\n",
        "\n",
        "        tokenizer = BertTokenizer.from_pretrained('neuralmind/bert-large-portuguese-cased')  \n",
        "\n",
        "        # Carregando o Modelo da comunidade\n",
        "        print('Carregando o modelo BERT_large da comunidade...')\n",
        "\n",
        "        model = BertModel.from_pretrained('neuralmind/bert-large-portuguese-cased')  \n"
      ],
      "execution_count": null,
      "outputs": [
        {
          "output_type": "stream",
          "text": [
            "Carregando o tokenizador BERT_base da comunidade...\n",
            "Carregando o modelo BERT_base da comunidade...\n"
          ],
          "name": "stdout"
        }
      ]
    },
    {
      "cell_type": "markdown",
      "metadata": {
        "id": "B8FD0tDpKVBF"
      },
      "source": [
        "## Inspecionando Vocabulário BERT\n",
        "--------------------------"
      ]
    },
    {
      "cell_type": "markdown",
      "metadata": {
        "id": "7UB5FRPOhinf"
      },
      "source": [
        "### Descarregar Vocabulário\n",
        "--------------\n",
        "\n",
        "Recupere a lista inteira de \"tokens\" e escreva em  um arquivo texto para que possamos examiná-los."
      ]
    },
    {
      "cell_type": "code",
      "metadata": {
        "id": "NRf7NXJGgsnG"
      },
      "source": [
        "with open(\"vocabulario.txt\", 'w') as f:\n",
        "    \n",
        "    # Para cada token...\n",
        "    for token in tokenizer.vocab.keys():\n",
        "        \n",
        "        # Escreve ele na saída com um caracter de escape unicode.            \n",
        "        f.write(token + '\\n')"
      ],
      "execution_count": null,
      "outputs": []
    },
    {
      "cell_type": "markdown",
      "metadata": {
        "id": "c8geTQ3Iidsv"
      },
      "source": [
        "Ao ler o vocabulário, estou vendo o seguinte:\n",
        "\n",
        "* Os primeiros 99 tokens (indexados 1) parecem estar reservados e a maioria possui o formato [unused957].\n",
        "     * 1 - [PAD]\n",
        "     * 101 - [UNK]\n",
        "     * 102 - [CLS]\n",
        "     * 103 - [SEP]\n",
        "     * 104 - [MÁSCARA]\n",
        "* As linhas 22279-29794 parecem ser um despejo de caracteres individuais.\n",
        "     * Eles não parecem ser classificados por frequência (por exemplo, as letras do alfabeto não estão todas em sequência).\n",
        "* A primeira palavra é \"de\" na posição 126.\n",
        "     * A partir daí, as palavras parecem ser classificadas por frequência.\n",
        "     * As ~ 18 palavras principais são palavras inteiras e o número 2016 é ##s, presumivelmente a subpalavra mais comum.\n",
        "     * A última palavra inteira é 22278, \"Minnes\"\n",
        "\n",
        "Algumas inclusões engraçadas:\n",
        "* Abdul\n",
        "* baga\n"
      ]
    },
    {
      "cell_type": "markdown",
      "metadata": {
        "id": "uviYdpTZYMmd"
      },
      "source": [
        "### Characteres único\n",
        "---------------------"
      ]
    },
    {
      "cell_type": "markdown",
      "metadata": {
        "id": "Bu-KbpbR1L4q"
      },
      "source": [
        "O código a seguir imprime todos os tokens de caracteres únicos no vocabulário, bem como todos os tokens de caracteres únicos precedidos por '##'.\n",
        "\n",
        "Acontece que esses são conjuntos correspondentes conjunto--para de cada caractere independente também há uma versão '##'. Existem 997 tokens de caractere único."
      ]
    },
    {
      "cell_type": "markdown",
      "metadata": {
        "id": "Q6ysF8LD1fbl"
      },
      "source": [
        "A célula a seguir itera sobre o vocabulário, guardando todos os tokens de caractere único."
      ]
    },
    {
      "cell_type": "code",
      "metadata": {
        "id": "YHpH2NEPy3t9",
        "outputId": "c1f57035-272f-4fbd-827a-396a9d7863d1",
        "colab": {
          "base_uri": "https://localhost:8080/",
          "height": 51
        }
      },
      "source": [
        "one_chars = []\n",
        "one_chars_hashes = []\n",
        "\n",
        "# Para cada token no vocabulário...\n",
        "for token in tokenizer.vocab.keys():\n",
        "        \n",
        "    # Grava qualquer token com um simples caracter.\n",
        "    if len(token) == 1:\n",
        "        one_chars.append(token)\n",
        "        \n",
        "    # Grava tokens de caractere único precedidos de dois hash.    \n",
        "    elif len(token) == 3 and token[0:2] == '##':\n",
        "        one_chars_hashes.append(token)\n",
        "\n",
        "print(len(one_chars))\n",
        "print(len(one_chars_hashes))"
      ],
      "execution_count": null,
      "outputs": [
        {
          "output_type": "stream",
          "text": [
            "242\n",
            "7534\n"
          ],
          "name": "stdout"
        }
      ]
    },
    {
      "cell_type": "code",
      "metadata": {
        "id": "jCzfsjHrzZYn",
        "outputId": "2e6afb27-70ec-4325-9093-3e348c18f06e",
        "colab": {
          "base_uri": "https://localhost:8080/",
          "height": 170
        }
      },
      "source": [
        "print('Número de tokens de um único caractere:', len(one_chars), '\\n')\n",
        "\n",
        "# Imprime todos os caracteres únicos, 40 por linha.\n",
        "\n",
        "# Para cada batch de 40 tokens...\n",
        "for i in range(0, len(one_chars), 40):\n",
        "        \n",
        "    # Limita o índice final para que não ultrapassem o final da lista.\n",
        "    end = min(i + 40, len(one_chars) + 1)\n",
        "        \n",
        "    # Imprime os tokens, separados por um espaço\n",
        "    print(' '.join(one_chars[i:end]))"
      ],
      "execution_count": null,
      "outputs": [
        {
          "output_type": "stream",
          "text": [
            "Número de tokens de um único caractere: 242 \n",
            "\n",
            "! \" # $ % & ' ( ) * + , - . / d e a p c : ; < = > ? @ s o n f t [ \\ ] ^ _ u m A\n",
            "C v E { | } ~ ¡ S § 1 « P M ¶ · l » ¿ O b g B 2 N D é i R F T j L G I J H h à V\n",
            "U á W K 3 ú ՚ ՛ ՜ ՝ ՞ 4 ։ ֊ ־ ׃ 5 ׳ ״ ، ؍ ؛ ؟ X ٪ ٫ ٬ ٭ ۔ 6 । ॥ ॰ Y 7 É Z 8 “ 9\n",
            "Á r – k ་ ། ၊ ။ ၌ ၍ ၎ ၏ ‖ ‚ „ ‟ † ‡ • ․ ‥ ‧ ‰ ′ ″ ‹ › ※ ‿ ⁾ z ₍ ₎ 〈 〉 ⟨ ⟩ 、 。 〃\n",
            "〈 〉 《 》 「 」 『 』 【 】 〔 〕 〖 〗 〜 〝 — ・ í 0 w ó Í x y À Q ° Ó ‘ Ú ﴾ ﴿ ︰ ﹐ ﹑ ﹔ ﹕ ﹝ ﹞\n",
            "﹣ ！ ＂ ＃ ％ ＆ （ ） ＊ ， － ． ／ ： ； ？ ＠ ［ ＼ ］ ＿ ｡ ｢ ｣ ､ ･ Â ́ £ → ” ’ ` ― ‐ ‒ ‛ ។ ᨞ ⌈\n",
            "⌉ ⸱\n"
          ],
          "name": "stdout"
        }
      ]
    },
    {
      "cell_type": "code",
      "metadata": {
        "id": "62MD-M1N0R-W",
        "outputId": "85d0c5a5-d2cf-4b31-c384-b2ca06004beb",
        "colab": {
          "base_uri": "https://localhost:8080/",
          "height": 1000
        }
      },
      "source": [
        "print('Número de tokens de um único caractere com hashes:', len(one_chars_hashes), '\\n')\n",
        "\n",
        "# Imprime todos os caracteres únicos, 40 por linha.\n",
        "\n",
        "# Remova as marcas de hash, uma vez que elas apenas bagunçam a tela.\n",
        "tokens = [token.replace('##', '') for token in one_chars_hashes]\n",
        "\n",
        "# Para cada batch de 40 tokens...\n",
        "for i in range(0, len(tokens), 40):\n",
        "    \n",
        "    # Limita o índice final para que não ultrapassem o final da lista.\n",
        "    end = min(i + 40, len(tokens) + 1)\n",
        "    \n",
        "    # Imprime os tokens, separados por um espaço\n",
        "    print(' '.join(tokens[i:end]))"
      ],
      "execution_count": null,
      "outputs": [
        {
          "output_type": "stream",
          "text": [
            "Número de tokens de um único caractere com hashes: 7534 \n",
            "\n",
            "\" ( - “ , . – [ — ' & / < « = ) # : $ + • ‘ ; ! | % * · > ? a e o s r i d n t m\n",
            "u c l p v g f b h ã q ç é A 1 á C z í 0 S E P M x 2 j 9 ó O B D N T R I F ê y L\n",
            "G õ 8 k ú J 5 3 4 7 6 V H U à w â W K ô X Q Y Z É ] ” _ Á ü ° Í ’ ö » ñ è À ō Ó\n",
            "ä Ú ā а ć α ́ о ū Â и ë š е ł н ο р μ ν ø ş Ã ı ρ в æ × ς ε с ι Ç č к ī л σ τ }\n",
            "ا λ → т ß ï £ { € å Ê β π ː ~ § ò κ \\ î ă − ′ ń ー Ö ω ð ì д ğ י ē ` м у Ô ل @ θ\n",
            "γ φ ו û δ ž † ر η ù υ ч ό й ș ί ي ś Š ن م ± ה Å ⁄ א ン ý ά ^ Ō я С б ə ب χ و ы ь\n",
            "Σ ל ר г Δ Č ス ル Ü د п ˈ の з מ ή ě ש ラ ę İ ® ― ř έ س х ḥ ∈ ≤ В ב נ ¬ Î Đ ♭ Ø ő К\n",
            "А ת ・ Æ œ Ş ע ɛ ż イ ト М ی Π ● đ リ Ł Ž ¡ ą ύ Р і ع ↑ ‐ Ω ة ŋ ् ク ṣ ت ه ד Д ц ा ṭ\n",
            "Ś ш ם ア ξ ف П Ḥ ش ǎ ح Α ≥ ロ 大 ţ ψ Н ן र ɔ Γ ッ Ò ¥ ח َ ְ ج シ ジ ʃ タ ド ζ ק い ẓ þ Φ\n",
            "ж כ ￼ Ñ Г Б › ♯ ź ָ া 国 Þ ʔ Õ Λ И „ フ О ּ ἀ 中 Ä ʿ ִ פ म ↔ カ レ Ż 日 ț ̈ ≠ 人 ق 「 」\n",
            "ウ È マ न ἐ ィ 이 ÿ ė ز ャ ɐ ك ʾ オ テ 天 Κ ա า ブ ǔ ệ 子 ַ ط स ि ร ḳ ■ ニ バ 山 王 ʻ Ε Т ∞ ュ\n",
            "ũ Μ ώ э ص ა ∧ 月 Л ט ṇ 田 ～ ¿ ʼ ס क े パ 武 ĩ Ф ј ِ ⊆ る ミ ह ≈ ★ ⟨ ⟩ Τ צ ា ọ ∀ た 一 道\n",
            "य व ་ ი ⊕ な Ā ̄ ֶ ז أ ে ្ ⇒ か デ ハ 三 年 戦 神 ư प ी ῦ ∆ ♦ ナ 法 ǃ ̃ Θ Ι Е З ф ю خ त ả\n",
            "∨ ≡ し コ ņ ɡ ɪ Ν র ェ ガ サ 太 ǐ ʒ Ш ง ม រ ạ ὸ う り メ 城 新 明 金 ň ɑ ɾ ُ ک ম プ ム 京 東 ġ ǂ\n",
            "Β Ο ё ֵ ন ∃ ☆ ♠ エ グ 南 宮 小 西 ɣ ɨ Х ъ ג ज น ῆ ∴ 、 ん セ 島 文 ɕ ך ग ẹ ὐ ῖ く こ て に 北 士\n",
            "美 ů ơ Ч Я ত ิ ế ἰ ↵ √ ち と ら キ チ 皇 대 ħ ŭ Ɔ Ц ն ल ु য ე ễ ἄ ₩ ▪ あ ァ ダ 会 國 女 家 少 市\n",
            "空 野 나 지 한 ŏ ƒ ƞ щ ր ֹ ض ब ก ท ั ် ὁ ‰ が き ケ 代 学 木 本 華 Ψ У ћ آ ى ّ द ক ด ย ว ḵ ῶ\n",
            "‹ ⋅ █ ズ ノ ョ 春 高 김 다 Ì ÷ ә ਾ เ ṅ ẽ ố ụ Ἀ ⇄ ─ さ だ っ ま を 世 之 和 無 花 藤 라 리 아 Œ ͡ Υ Ж\n",
            "ե غ گ ं ্ ਰ อ ས ầ ネ モ ワ 名 地 川 愛 民 水 海 真 사 하 ¢ ɬ ʊ ̊ ̲ Η ո ो ল ় ি რ ს ក ḡ ṃ ツ ボ\n",
            "五 信 十 帝 拳 生 行 都 長 陽 스 의 ų ǀ ǒ ǫ ช ส ะ ṛ ṯ ὰ ὶ ♘ お ザ ビ ベ 上 八 公 台 平 成 清 竜 郎 기 Ć ĭ\n",
            "Ţ Ș ʕ ̀ ̱ अ ण আ ម ស け す つ み も ゴ ヴ 府 志 星 李 記 그 로 일 자 Ρ ـ پ ھ श । গ ོ ნ ព Ḳ ồ ớ ♥\n",
            "ⲁ は ポ ヤ 分 司 周 土 字 心 方 時 流 百 羅 青 風 가 도 서 © Ë ĥ ǁ ɲ ̓ ̯ І ў ׁ ף ْ ܐ ই ค ต ห ่ က ო\n",
            "ប ἔ ὴ ピ 下 仁 冒 四 园 安 州 張 恐 政 楊 火 特 玄 白 石 隊 마 세 에 오 요 화 ť ʁ ʌ ̌ ̟ ̥ Э ґ ء إ ਗ ් ไ\n",
            "თ ជ ḍ Ẓ ấ ờ ἑ ‡ ♗ じ で ど ば め れ ォ ゲ ペ 主 二 元 千 吉 園 夏 忍 望 楽 歌 江 漢 狗 界 草 血 酒 門 音 香 魔\n",
            "黄 만 수 시 우 주 ļ ɖ ̤ ̧ Ю ի կ ئ ব ু ੁ พ ლ მ ត ិ ḏ ị ἡ ‒ ↦ ∂ ∩ ❣ ⲟ ⲥ へ 东 伝 合 君 學 岳 式\n",
            "強 御 教 斯 林 校 殿 玉 相 社 福 節 義 英 赤 身 龍 건 국 루 미 방 성 연 인 현 Ē Χ ѳ վ ث ذ ܕ ड ़ দ ো ৗ ് ག\n",
            "គ ង ុ ḱ Ṣ Ọ Ἰ ὑ ⊥ │ ♣ ⲉ ⲓ ⴰ ず ギ ヌ 不 井 光 出 刀 力 华 博 原 命 官 岡 形 影 手 書 極 氣 河 治 球 理 立\n",
            "章 良 衛 超 里 长 険 集 魂 민 바 부 제 학 해 호 ĉ ĕ ĝ į ľ ŷ Ǝ Ɛ Ț ɗ ʂ ʉ ̪ ֲ ־ च ट ध ট ধ න ล ี ์\n",
            "ང ར დ ვ უ ន ổ ở ữ ỹ ἱ ∪ ♪ ⲕ ⲛ ほ ゼ ヒ ユ 今 伊 侍 克 六 共 兵 内 利 前 動 双 古 只 吳 奴 姫 拉 捜 是 朝\n",
            "森 気 永 津 浦 港 澤 物 的 者 联 自 術 見 説 院 電 馬 게 고 는 박 반 보 어 음 전 정 타 Ð ŵ ̅ Й լ յ ս ւ ظ ٌ ے\n",
            "ख ष ै ঁ হ ੀ ി บ ุ แ ้ བ ལ လ ာ ბ ណ ទ ល ី ḗ Ṭ ỏ ộ ứ ἁ Ἄ Ἑ ᾶ ῥ ₪ ✝ ⲣ ⵉ 『 』 え ょ ソ ヘ\n",
            "ヨ 七 九 事 仙 佐 体 你 典 军 剣 功 勝 区 口 史 后 夢 奇 契 奥 如 妙 孫 寺 屋 嶽 布 庙 建 张 忠 村 松 氏 波 深 源 牛 猫\n",
            "画 盟 目 祭 秀 篇 精 系 約 能 舞 虎 蛮 警 豊 銀 阪 雲 韓 順 館 남 내 너 단 모 법 선 신 야 영 원 유 재 조 차 천 환 ď ŕ\n",
            "ű ǧ ɯ ʀ ̩ ̹ ғ Գ Մ զ տ چ ہ ە ۡ ܘ ܢ आ ई थ भ ॒ ছ ভ ਦ ਨ ਹ ਿ ் ര ම ස จ ํ ྱ ྲ တ မ သ ហ\n",
            "ṁ ṕ ṗ ậ ủ ἕ Ἐ ὺ ῷ ‖ ‚ ‟ ← ⇔ ∅ ∉ ∗ ⊗ ✰ ⲗ ⲙ 。 ぐ び ぼ や ゆ よ ろ わ 丸 位 作 侯 保 列 加 动 协 可\n",
            "同 善 堂 外 夜 娘 孔 守 宗 宝 実 宫 富 實 尾 左 師 弘 弾 彦 後 徳 恵 悪 我 放 昆 智 最 格 桃 桜 棍 様 樹 橋 正 沢 派 涼\n",
            "澄 為 犬 獣 第 紅 紫 経 經 经 若 茶 葉 蔵 號 要 覺 解 語 谷 賦 越 遊 達 邦 郡 部 量 防 陈 限 陵 隻 霊 飛 鳥 강 계 동 드\n",
            "디 랑 를 상 소 안 알 약 울 좋 태 합 희 ︠ ︡ Ù Ī Ľ Ŋ ŝ Ɖ ǝ ʋ ʘ ˁ ̇ ̡ Ά Ζ Ξ ϊ ϝ ї қ ҳ Ա դ մ ք ܝ\n",
            "ञ ॆ ौ ॑ খ চ জ ফ স ਜ ਮ ਸ ੋ ੱ ್ ക വ ญ ณ ถ ภ ศ ษ ็ ນ ཀ འ ဖ ု ြ ტ ქ ძ ራ ስ ት ដ យ អ ំ\n",
            "ᠠ ᩣ ḫ ḷ ỳ Ἔ ὅ Ὀ ὕ ὲ ῳ ∠ ⊤ ► ⲡ ⲧ ⲩ ⵍ ⵏ ⵓ ⵔ 〜 そ ぬ ひ ぶ べ ゃ ゾ 久 也 书 亜 亞 令 仮 何 來 傳 僕\n",
            "先 兼 刘 化 卍 友 号 向 商 圓 坂 坊 墨 多 夫 央 失 夷 奈 好 孝 尚 局 居 崇 崎 希 幻 康 徐 德 恭 悟 想 意 戯 拓 振 撃 敏\n",
            "斗 断 旅 普 景 曲 會 有 期 未 株 根 梁 楚 樺 死 段 母 比 毛 气 汉 沙 沟 洋 浮 消 湖 澳 烈 熊 爆 版 獄 瑞 瓦 甲 男 町 直\n",
            "県 砲 祖 禁 禅 私 科 秦 種 穂 突 等 終 織 红 翼 聖 肉 臺 艺 菲 萬 蒙 蓮 藍 蛇 装 詩 记 试 走 跡 車 通 造 運 過 遠 那 重\n",
            "間 闘 阿 陰 雄 雅 面 食 鹿 黒 거 교 끄 람 레 막 말 무 발 밤 번 범 별 봐 산 삼 설 애 양 여 을 장 종 짓 찬 창 처 초 크 키\n",
            "트 파 판 황 효 ️ Û Ū ǣ ǰ ɓ ɰ ɵ ʈ ̚ ̴ ͈ Ό ϟ Є Щ ђ ќ ң ҷ һ ө Հ գ շ ց ֣ ܗ ܠ ܪ ܬ މ ދ ަ ު\n",
            "ढ ॊ প ী ਂ ਪ ਭ ਲ ਵ ੜ ੰ ર ି ப ಂ ಕ ರ മ ല ാ ක ත ා ි ข ธ ป ผ ื ฿ ใ າ ເ ཆ ད ི ུ င း გ\n",
            "კ ფ ჯ ᅠ ል መ ቤ ተ ክ ዊ ያ ខ ច ថ ួ ែ Ẹ ỉ ἥ ἦ Ἡ ἴ ἶ ὖ ‛ ‧ ₤ ₹ ↝ ∕ ∙ ≐ ⊩ ♀ ♂ ♕ ✓ ⲅ ⲏ ⵎ\n",
            "ⵡ 《 》 ぎ せ む 万 丘 丹 乱 乾 了 争 云 亲 介 仔 仕 伏 住 佑 佳 俊 傅 僧 儀 儒 切 別 制 則 勉 務 包 匹 區 单 占 卫 味\n",
            "咲 唐 喜 嘉 器 在 坐 堤 場 塚 壱 変 夕 奉 妹 始 委 季 宇 宋 定 容 察 寶 対 射 尋 尺 嵩 巡 工 常 幽 广 庁 弱 役 必 急 性\n",
            "总 恋 悠 感 慈 應 戀 战 戰 戸 房 扶 承 技 持 推 攻 旗 易 昭 晴 来 杨 柳 栗 次 步 歲 汗 泉 泣 洛 浄 渡 湾 潘 灯 焼 煙 熱\n",
            "爾 狂 独 璋 甫 电 當 痛 益 盛 眠 着 禹 秋 穴 策 管 篠 紀 級 細 繁 级 罪 羽 翔 耳 聽 育 胡 脅 臣 至 致 舒 艦 芳 苑 荘 藝\n",
            "藩 虚 虞 融 衡 袁 裕 褒 覚 角 言 計 訓 試 読 豆 貴 貿 賀 賢 贝 贤 赛 趙 足 跋 路 踊 軍 転 輝 辛 运 这 進 遇 郭 郷 鈴 銃\n",
            "鍊 鎖 鐸 鑑 银 関 阮 陳 隆 隠 雪 零 雷 霧 非 飲 餅 骨 鬼 麗 黃 齋 齐 간 구 군 글 금 꿈 난 년 노 늘 니 님 당 데 돼 들 래\n",
            "려 령 머 메 봄 블 비 빨 쁜 생 션 순 심 았 와 용 저 점 젝 중 줘 직 진 철 청 최 치 카 케 터 텔 통 프 홍 활 𐬁 ¤ ¶ Ï Ý\n",
            "Ĝ Ħ ĵ ķ ĺ Ť Ŷ Ə ƣ Ǧ Ǫ ǭ ǯ ǿ ȓ ȟ ȳ ɒ ɘ ɳ ɴ ɸ ˀ ˄ ˥ ̆ ̑ ̔ ̞ Ή ΐ Ђ Ј Љ Ъ Ь є љ ѣ ү\n",
            "ұ Ӏ ӿ Ս բ թ ղ պ փ ֱ ֿ ץ ، ؤ ٍ ٹ ژ ۆ ܒ ܚ ܛ ܦ ܩ ܵ ހ ލ ެ ް ँ ः ए ङ ळ ृ ং অ শ ৰ ਕ ਚ\n",
            "ਤ ਬ ਼ ત મ ા க ர ಣ ಸ ೀ ഗ ണ ത പ യ റ ീ േ ජ ය ර ව හ ු ෙ โ ຂ ງ ຈ ດ ວ ສ ະ ན ཚ ེ ྐ ྒ ྗ\n",
            "ྟ န ရ ိ ီ ူ ေ ့ ှ ზ ღ შ ᄂ ᄊ ᄋ ᄐ ᄑ ሃ ላ ማ ር በ ን አ ኢ ኤ እ ከ ይ ዮ ጵ Ꭼ Ꮎ Ꮒ Ꮧ វ ូ ើ ៃ ោ\n",
            "ះ ។ ᨶ ᴪ ḇ ṏ ṓ ṳ ẩ ắ ẻ ự ἠ ἣ ἤ ἵ ὀ ὄ Ὕ ὠ ὤ Ὧ ῃ ῴ ₲ ↀ ↓ ⇌ ∇ ∖ ≅ ⊸ ⋀ ├ ▶ ▼ ◇ ◊ ☭ ☰\n",
            "☷ ♫ ➡ ⴳ ⴷ ⵜ 〇 〖 〗 ざ ふ ホ 丷 丽 乃 交 亭 亮 仰 任 伎 伯 伶 余 佛 併 侵 便 俗 修 倒 偉 健 偶 充 兎 兔 党 具 円\n",
            "冰 冷 准 凯 凹 刊 刑 刻 剛 劉 勇 勢 匡 半 協 卜 印 却 厄 厘 厥 厳 取 受 右 吟 吸 吹 员 員 哲 唱 喰 嗎 因 団 囲 圏 圣 场\n",
            "坛 坝 坡 坪 型 埋 堀 塊 墜 壁 壮 売 壽 奪 妄 妨 姊 姑 姿 威 媽 嫡 孟 孤 孩 宅 宣 宵 宿 寂 密 寇 寝 寧 将 尉 尽 尿 屏 履\n",
            "岐 岛 岩 岸 嵐 嶋 巨 巫 巻 师 帥 席 干 幸 幹 度 廃 廣 弓 弦 当 彩 彰 彼 律 従 得 微 忌 念 怒 怨 怪 悝 情 惠 惣 惨 惲 愚\n",
            "慎 慧 憂 懐 才 抑 抱 抵 拙 拾 挙 捷 排 接 摩 播 擧 改 救 敷 斋 斎 料 施 族 旦 旬 旭 时 昇 昌 昧 晈 暦 暮 曌 曖 曜 更 曹\n",
            "朗 札 朱 朴 机 杂 杉 杜 束 条 板 极 析 果 枢 架 柄 染 柚 栄 核 栽 桂 桑 桥 梅 棚 棟 植 業 楼 標 権 機 欅 欧 歐 殊 殺 殻\n",
            "氷 汚 汤 汪 決 況 注 泰 洞 浅 浜 浪 混 渋 渦 游 湯 滚 滝 滸 漆 演 漫 潜 激 瀑 灣 灵 炎 焦 照 煮 熙 燈 燕 狩 狼 猿 率 珊\n",
            "珍 珠 珪 班 琵 琶 瑠 瓶 甘 甜 用 畢 番 疆 疾 癖 発 皃 盆 盲 省 督 瞬 矢 知 破 碑 碧 磨 祥 禎 禪 秘 程 窪 端 竹 符 箱 篤\n",
            "簿 米 糕 紋 純 継 維 網 綾 緒 線 編 緩 緯 縄 繭 纪 络 罗 置 罰 考 聞 職 股 肥 胤 脉 脚 腹 航 般 船 艇 芝 芭 芸 苗 茂 荒\n",
            "荣 菊 菜 菩 萌 著 葛 董 葬 蒻 蔡 蕉 蕭 薙 薦 薩 薫 藏 蘭 虐 虫 蜜 蝦 蝶 螂 螳 衣 袋 袖 裏 襲 覇 視 親 観 訂 詞 詠 話 誓\n",
            "調 請 論 諦 諸 謀 譲 護 诗 语 豐 象 豪 貞 資 賈 賞 赵 軽 輩 轉 轟 达 逝 週 遍 遣 遺 還 邑 邓 邱 邸 鄧 酢 酸 醒 釜 鉄 鋭\n",
            "鋼 録 鍛 鎧 鎮 鐘 鐵 间 队 阳 陣 隅 際 隣 隷 雙 雨 需 露 靈 靴 韬 韻 領 頤 頭 顧 颐 飾 養 首 騎 魄 鮑 鳴 鴻 鶯 鸣 麻 鼻\n",
            "齡 龙 ꞵ 각 감 개 결 곱 궁 근 길 깃 까 꺼 넌 논 누 달 담 더 덕 던 돈 돌 둥 등 딱 럼 름 림 맨 면 목 못 문 물 뭐 밖 밥 배\n",
            "뷰 븐 빤 석 섬 섭 셔 손 솔 송 숙 슬 식 싶 씨 않 업 엔 역 예 온 왕 워 월 윤 익 잎 절 좀 좌 줄 즐 짱 째 쫄 찾 척 첫 춰 칠\n",
            "컬 콤 토 톱 투 티 틴 팝 팠 폼 풀 피 행 향 협 훈 휴 𐬯 🇷 Ċ ċ Ď Ĕ Ė Ġ Ģ Ķ Ņ Ŗ Ř Ŭ Ů ƛ ƭ ǚ ǥ ǵ ǽ Ȃ ȃ\n",
            "Ȇ ȇ Ȋ ȋ Ȏ ȏ Ȗ ȗ ɟ ɤ ɥ ɫ ɭ ɹ ʐ ʑ ʝ ʟ ʤ ʦ ʧ ʹ ʽ ˆ ˇ ˊ ˋ ˌ ˑ ˧ ˯ ̂ ̍ ̐ ̠ ̣ ̨ ̺ ͵ Έ\n",
            "Ύ Ϙ ϛ ϡ ϫ Њ Џ Ы ѕ њ џ Ѡ ѡ Ѧ Ѩ Ѫ Ѭ Ѯ ѯ Ѱ ѱ Ѳ Ѵ Ґ Қ Ҝ ҟ Ҷ ҹ Һ ӕ Ә ӡ ӧ Ө Բ Դ Ե Զ Է\n",
            "Թ Լ Խ Կ Ռ Վ Փ Ք ՙ ՚ խ ծ հ չ ջ ռ ֑ ֖ ֥ ֫ ֭ ֻ ֽ ׂ װ ׳ ״ ً ٔ څ ڇ ڈ ڑ ڙ ڠ ڬ ڭ ڳ ڻ ۍ\n",
            "ێ ې ܓ ܖ ܡ ܣ ܥ ܫ ܲ ݇ ނ އ ވ ޝ ާ ި ީ उ ऋ औ घ झ ठ फ ू ॐ উ ঐ ঘ ড ণ থ ষ ৃ ৱ ਆ ਖ ਘ ਟ ਣ\n",
            "ਥ ਫ ੂ ੍ આ ગ જ બ શ સ ી ુ ્ ଉ ଗ ଧ ର ଳ ஏ ங ச ஜ ம ி ூ ே ಅ ಗ ಟ ದ ನ ಪ ಬ ಮ ಯ ಳ ವ ಷ ಾ ಿ\n",
            "ು ೂ ೃ ೆ ೇ ೈ ೊ ം ആ ച ഞ ബ ള സ ഹ ൊ එ ණ ද ධ ඳ බ ල ශ ේ ෛ ෝ ฏ ฤ ฬ ๆ ກ ຄ ບ ປ ພ ລ ຫ ອ ັ\n",
            "ິ ຸ ົ ແ ້ ໍ ། ཇ ཏ ཐ པ ཕ ཟ ཡ ཨ ྫ ྭ ླ ဗ ဘ ယ ဝ အ ဦ ဧ ဲ ဵ ျ ၼ ႈ პ ც წ ხ ᄀ ᄁ ᄃ ᄅ ᄆ ᄇ\n",
            "ᄉ ᄌ ᄎ ᄏ ᄒ ᄚ ᄡ ᄫ ᅧ ᅪ ᅰ ᅱ ᅲ ᅴ ᅵ ᆪ ᆬ ᆭ ᆰ ᆱ ᆲ ᆳ ᆴ ᆵ ሁ ህ ሊ ሕ ሞ ረ ሪ ሬ ሰ ሲ ሳ ቀ ቅ ባ ብ ታ\n",
            "ቸ ኋ ነ ካ ኰ ኸ ዀ ዋ ው ዓ የ ደ ዲ ዳ ዴ ድ ጉ ግ ጣ ፋ ፌ ፍ ፐ ፭ ፻ Ꭰ Ꭷ Ꭹ Ꮉ Ꮝ Ꮣ Ᏹ ᐁ ᐊ ᑦ ᓄ ᓇ ᓯ ᖅ ឋ\n",
            "ធ ឧ ឮ ឿ េ ៉ ់ ៍ ័ ᠨ ᠭ ᠰ ᠴ ᠷ ᨞ ᨠ ᨧ ᨱ ᩃ ᩋ ᩕ ᩠ ᩢ ᩶ Ḍ Ḏ Ḡ ḣ ḭ ḿ ṍ Ṯ ṵ ṹ ẅ ẍ Ấ ặ Ẽ ề\n",
            "ể ỗ ợ Ứ ừ Ἁ Ἃ Ἤ Ἥ ἷ Ἱ Ἵ Ὄ Ὅ ὒ ὗ ᾅ ᾠ ᾰ ῇ Ῥ ₢ ₧ ₱ ₴ ℗ ℟ ℣ ⅋ ⇐ ⇢ ∏ ∑ ∓ ∝ ∥ ≪ ≫ ⊃ ⊊\n",
            "⊙ ⊞ ⊢ ⊦ ⊧ ⊨ ⋁ ⋋ ⋌ ⋔ ⋯ ⌈ ⌉ ⎖ ⏤ ┌ ┐ ▲ ◌ ◢ ◤ ◦ ☀ ☉ ☠ ☤ ☪ ☱ ☲ ☳ ☴ ☵ ♉ ♏ ♒ ♔ ♡ ✩ ✶ ⬇\n",
            "ⲃ ⲇ Ⲭ ⲭ ⳡ ⴹ ⴻ ⵃ ⵊ ⵖ ⵣ ⸱ 々 ぃ げ ご ぢ づ ぷ ぺ ぽ ゥ ヲ ㄖ 丁 丈 与 且 丙 丞 个 串 举 义 乏 乗 乡 亀 予 于\n",
            "亥 产 亨 亩 享 亳 亿 什 仏 他 们 件 份 企 伐 众 优 伴 伸 伺 但 低 使 例 依 侠 侮 促 俞 俸 俺 倉 個 候 借 倣 倫 倱 倹 假\n",
            "偏 偵 偽 傍 傑 傘 備 催 債 傾 働 像 僚 僵 償 優 兄 兆 免 児 兜 入 內 兩 兰 兴 再 冑 冗 写 农 冠 冨 冯 冲 凉 凌 凍 凝 凤\n",
            "凰 凶 凸 刁 刈 划 初 判 别 到 刺 削 剋 剖 剤 剰 劃 劇 劍 劣 助 努 励 劾 势 勅 勘 募 勧 勲 匁 匂 匈 匠 医 匿 升 卑 卒 卓\n",
            "単 即 卵 卸 卿 厚 厭 参 又 叉 及 反 发 叔 叙 句 叫 召 各 吏 吐 吗 含 呈 呉 呼 咎 咪 咯 哀 品 哉 哥 哨 唄 唆 唇 唯 啊 啓\n",
            "喚 喝 喧 喪 喫 喬 営 嗣 嘆 嘘 嘩 嘱 噛 噠 噴 嚇 囚 回 团 圆 圍 圖 圜 圭 圳 坑 坚 坤 垣 垦 執 培 堅 堕 堪 報 塀 塁 塑 塔\n",
            "塗 塞 塩 塾 増 墳 墾 壇 壊 壌 壤 声 壶 壺 夙 头 奔 奨 她 妃 妇 妊 妖 妥 妻 姒 姓 姻 娠 娯 婆 婚 婷 婿 媒 媛 嫁 嫌 嬢 存\n",
            "孙 宛 宜 宰 宴 寄 寛 寡 寨 審 寮 寸 寿 封 將 尊 導 尔 就 尼 屈 届 屍 展 屯 岬 岭 峠 峡 峰 崩 嶌 嶺 巌 巧 己 已 巿 帆 帖\n",
            "帽 幅 幕 幟 幣 幫 幾 床 底 庫 庶 庸 庾 廉 廊 廌 廟 廬 廷 开 弇 弊 弐 引 弟 弥 弧 强 彈 录 彫 彭 征 待 復 循 徴 徹 徽 忙\n",
            "忽 怀 怖 思 怠 恒 恢 恥 恨 恩 恪 悔 患 悦 悩 悼 惑 惜 惡 惰 愁 愉 慌 慕 慢 慨 慮 慰 慶 憎 憤 憩 憶 憾 懇 懲 懷 懸 戏 戒\n",
            "截 戲 户 戻 所 扇 扉 打 払 扱 找 抄 把 投 抖 抗 抜 択 护 披 抹 押 抽 拂 拍 拏 拐 拒 拘 招 拜 拠 括 拷 拿 按 挑 挟 挿 捕\n",
            "据 掃 掌 掘 掛 控 措 掲 描 提 揚 換 握 援 揺 搬 搭 携 搾 摂 摘 撤 撫 撮 撲 擁 擦 擬 敗 敢 散 整 數 斉 斜 斤 斥 斬 斷 旋\n",
            "无 既 旧 旨 昊 昔 晃 晉 晞 晶 暁 暇 暢 暫 暴 曇 曙 替 朕 末 术 朽 杏 杯 枕 枠 枯 柏 某 柔 柱 柴 树 栓 桀 桓 桟 條 梟 梢\n",
            "梦 梨 棄 棋 棺 椎 検 概 榮 槽 模 橘 橙 欄 欺 欽 款 歓 歳 歸 殉 殖 殥 殴 殷 汀 汁 汝 沈 沖 没 沸 油 沼 泊 泌 泡 泥 泫 泳\n",
            "泽 洁 洗 洪 洲 活 洽 浣 浸 涂 涙 涯 淀 淑 淡 淮 添 渇 渉 渓 渭 湿 満 準 溝 溥 溪 溶 滅 滋 滑 滞 滨 滴 漂 漏 漠 漬 漸 潁\n",
            "潟 潤 潭 濁 濃 濫 濯 瀋 瀬 灭 炉 炊 点 烏 烟 烧 烨 焙 然 煎 煩 熟 燁 燃 燊 燒 燥 燮 爭 爵 父 片 牙 牲 犀 犠 犯 狡 狭 猛\n",
            "猟 献 猴 猶 獅 獲 玩 环 现 珀 珉 琥 琴 璃 璇 環 璽 瓊 甄 甚 產 畔 畜 畝 畠 略 異 畳 疎 疫 疲 症 痘 痢 痴 療 癒 發 皆 皐\n",
            "皖 盈 盗 監 盤 盾 眉 眞 眺 眼 睡 睿 瞿 矛 短 矯 研 砕 硝 硫 硬 碁 碇 碎 碕 碼 礁 礎 礼 祈 祉 祿 禄 禍 禮 租 秩 称 移 稚\n",
            "稟 稲 稷 稼 稿 穆 穏 穫 究 穿 窃 窒 窟 窩 窮 窯 站 童 笹 筆 筈 筒 箇 箏 範 籌 籍 粉 粋 粒 粗 粘 粛 粧 糖 糧 糾 納 紘 紙\n",
            "紛 素 紡 索 累 紳 紹 紺 組 絆 結 絞 絡 絨 統 絵 続 綱 綺 緊 緋 総 緑 締 練 縁 縛 縣 縫 繊 繕 繚 繰 约 纲 纵 线 练 继 绮\n",
            "维 绿 缮 缶 署 罷 羊 羲 翁 翟 翻 老 耐 耗 聲 聴 肇 肌 肖 肚 肝 肢 肩 肪 肯 胆 胎 胞 胴 脂 脇 脫 脱 脳 脹 腐 腕 腰 腺 腿\n",
            "膚 膜 膝 膨 膳 膽 臭 臼 與 舉 舍 舗 舜 舟 舶 色 艹 艾 节 芋 芥 苏 苕 苦 苹 茅 茎 荆 荊 荤 药 菌 菎 菓 菻 萧 萨 葡 葵 蒟\n",
            "蒲 蒼 蓄 蓝 蔣 蕎 蕩 薄 薪 藻 蘇 虛 虜 蚊 蚕 蛋 蛍 蜂 蜍 蝉 蟀 蟋 蟾 衆 街 衝 表 衰 衷 被 裁 裂 裝 裸 褐 襟 覆 規 覧 觀\n",
            "视 觉 触 託 訟 許 訴 診 詐 詔 詰 該 詳 詹 誇 誉 誌 誕 誘 說 誰 諭 諮 諾 謁 謄 謙 講 謝 謡 謹 譚 譜 議 讐 讓 计 议 讲 许\n",
            "论 设 证 词 话 诞 说 诸 诺 谋 谒 谭 豔 豚 豫 豬 貓 貝 負 貢 貧 販 貫 貶 賄 賊 賓 賜 賠 購 贈 财 贵 贺 资 赞 赦 赴 起 趣\n",
            "趾 距 跳 践 踏 蹴 躍 軌 軒 軟 軸 較 載 輪 轄 车 轩 转 轮 辈 辞 辭 辰 辱 農 辶 辺 込 迅 迎 进 迪 迫 迭 迷 追 送 逃 逆 透\n",
            "逐 逓 途 逗 這 逞 速 連 逮 逸 遂 遅 違 遥 遭 遮 遵 遷 避 邪 邯 邾 郊 郑 鄉 鄭 鄲 酌 酔 酪 酬 酱 酵 酷 醉 醜 醸 釈 釣 鈍\n",
            "鈕 鉛 鉢 銅 銑 銘 鋳 錘 錠 錦 錬 錯 鍋 鍪 鎌 鎗 鎸 鑒 钊 铁 铺 锻 閃 閉 閑 閒 閥 閲 閻 闇 闊 關 闻 阴 阻 陀 附 际 降 陛\n",
            "陥 陪 陶 陸 随 隐 隔 隱 隸 隼 雀 雇 雌 雜 雞 離 雯 雰 震 霍 霜 靖 静 靚 革 鞏 鞠 韋 韩 韵 響 頂 項 頑 頒 頻 頼 額 顕 顗\n",
            "類 顯 顺 顾 颱 飢 飯 飽 餓 餘 饌 駄 駆 駐 駿 騒 騰 驚 马 髄 體 髪 髮 鬥 鬱 魅 魊 魏 魚 鮃 鮮 鯉 鯨 鯱 鰐 鲍 鲜 鲟 鳩 鳳\n",
            "鴫 鶏 鷲 鷹 鸡 鸦 鸿 鹰 麟 麦 麴 麼 黎 黑 黙 點 黨 鼓 鼠 齢 같 검 겁 경 곅 곆 곇 곈 곉 곊 곋 곌 곍 곎 곏 곐 곑 곒 곓 곔\n",
            "곕 곖 곗 곘 곙 곚 곛 곜 곝 곞 곟 곡 공 과 관 광 괴 굴 궈 궉 궊 궋 권 궍 궎 궏 궐 궑 궒 궓 궔 궕 궖 궗 궘 궙 궚 궛 궜 궝\n",
            "궞 궟 궠 궡 궢 궣 규 극 귺 귻 귽 귾 귿 긁 긂 긃 긄 긅 긆 긇 급 긊 긋 긌 긍 긎 긏 긐 긑 긒 긓 긔 긕 긖 긗 긘 긙 긚 긛 긜\n",
            "긝 긞 긟 긠 긡 긢 긣 긤 긥 긦 긧 긨 긩 긪 긫 긬 긭 긮 긯 긴 께 껴 껵 껶 껷 껸 껹 껺 껻 껼 껽 껾 껿 꼀 꼁 꼂 꼃 꼄 꼅 꼆\n",
            "꼇 꼈 꼉 꼊 꼋 꼌 꼍 꼎 꼏 꼐 꼑 꼒 꼓 꼔 꼕 꼖 꼗 꼘 꼙 꼚 꼛 꼜 꼝 꼞 꼟 꼠 꼡 꼢 꼣 꼤 꼥 꼦 꼧 꼨 꼩 꼪 꼫 꾜 꾝 꾞\n",
            "꾟 꾠 꾡 꾢 꾣 꾤 꾥 꾦 꾧 꾨 꾩 꾪 꾫 꾬 꾭 꾮 꾯 꾰 꾱 꾲 꾳 꾴 꾵 꾶 꾷 뀨 뀩 뀪 뀫 뀬 뀭 뀮 뀯 뀰 뀱 뀲 뀳 뀴 뀵 뀶\n",
            "뀷 뀸 뀹 뀺 뀻 뀼 뀽 뀾 뀿 끀 끁 끂 끃 낮 널 녀 녁 녕 놀 뇨 뇩 뇪 뇫 뇬 뇭 뇮 뇯 뇰 뇱 뇲 뇳 뇴 뇵 뇶 뇷 뇸 뇹 뇺 뇻 뇼\n",
            "뇽 뇾 뇿 눀 눁 눂 눃 느 늬 닫 닭 댜 댝 댞 댟 댠 댡 댢 댣 댤 댥 댦 댧 댨 댩 댪 댫 댬 댭 댮 댯 댰 댱 댲 댳 댴 댵 댶 댷 덩\n",
            "뎌 뎍 뎎 뎏 뎐 뎑 뎒 뎓 뎔 뎕 뎖 뎗 뎘 뎙 뎚 뎛 뎜 뎝 뎞 뎟 뎠 뎡 뎢 뎣 뎤 뎥 뎦 뎧 뎨 뎩 뎪 뎫 뎬 뎭 뎮 뎯 뎰 뎱 뎲 뎳\n",
            "뎴 뎵 뎶 뎷 뎸 뎹 뎺 뎻 뎼 뎽 뎾 뎿 돀 돁 돂 돃 돠 돡 돢 돣 돤 돥 돦 돧 돨 돩 돪 돫 돬 돭 돮 돯 돰 돱 돲 돳 돴 돵 돶 돷\n",
            "돸 돹 돺 돻 돽 돾 돿 됀 됁 됂 됃 됄 됅 됆 됇 됈 됉 됊 됋 됌 됍 됎 됏 됐 됑 됒 됓 됔 됕 됖 됗 된 됴 됵 됶 됷 됸 됹 됺 됻\n",
            "됼 됽 됾 됿 둀 둁 둂 둃 둄 둅 둆 둇 둈 둉 둊 둋 둌 둍 둎 둏 두 뒈 뒉 뒊 뒋 뒌 뒍 뒎 뒏 뒐 뒑 뒒 뒓 뒔 뒕 뒖 뒗 뒘 뒙 뒚\n",
            "뒛 뒜 뒝 뒞 뒟 뒠 뒡 뒢 뒣 뒤 뒥 뒦 뒧 뒨 뒩 뒪 뒫 뒬 뒭 뒮 뒯 뒰 뒱 뒲 뒳 뒴 뒵 뒶 뒷 뒸 뒹 뒺 뒻 뒼 뒽 뒾 뒿 든 딕 딖\n",
            "딗 딘 딙 딚 딛 딜 딝 딞 딟 딠 딡 딢 딣 딤 딥 딦 딧 딨 딩 딪 딫 딬 딭 딮 딯 따 딲 딳 딴 딵 딶 딷 딸 딹 딺 딻 딼 딽 딾 딿\n",
            "땀 땁 땂 땃 땄 땅 땆 땇 땈 땉 땊 땋 때 떄 떅 떆 떇 떈 떉 떊 떋 떌 떍 떎 떏 떐 떑 떒 떓 떔 떕 떖 떗 떘 떙 떚 떛 떜 떝 떞\n",
            "떟 떡 뗄 뗘 뗙 뗚 뗛 뗜 뗝 뗞 뗟 뗠 뗡 뗢 뗣 뗤 뗥 뗦 뗧 뗨 뗩 뗪 뗫 뗬 뗭 뗮 뗯 뗰 뗱 뗲 뗳 또 똬 똭 똮 똯 똰 똱 똲 똳\n",
            "똴 똵 똶 똷 똸 똹 똺 똻 똼 똽 똾 똿 뙀 뙁 뙂 뙃 뙄 뙅 뙆 뙇 뛰 뜌 뜍 뜎 뜏 뜐 뜑 뜒 뜓 뜔 뜕 뜖 뜗 뜘 뜙 뜚 뜛 뜜 뜝 뜞\n",
            "뜟 뜠 뜡 뜢 뜣 뜤 뜥 뜦 뜧 뜨 램 랴 략 랶 랷 랸 랹 랺 랻 랼 랽 랾 랿 럀 럁 럂 럃 럄 럅 럆 럇 럈 량 럊 럋 럌 럍 럎 럏 럐\n",
            "럑 럒 럓 럔 럕 럖 럗 럘 럙 럚 럛 럜 럝 럞 럟 럠 럡 럢 럣 럤 럥 럦 럧 럨 럩 럪 럫 러 렁 렸 록 류 르 른 릉 릭 린 링 맛 망\n",
            "맹 먀 먁 먂 먃 먄 먅 먆 먇 먈 먉 먊 먋 먌 먍 먎 먏 먐 먑 먒 먓 먔 먕 먖 먗 먘 먙 먚 먛 먹 먼 멈 멕 멖 멗 멘 멙 멚 멛 멜\n",
            "멝 멞 멟 멠 멡 멢 멣 멤 멥 멦 멧 멨 멩 멪 멫 멬 멭 멮 멯 며 명 뭔 므 믁 믂 믃 믄 믅 믆 믇 믈 믉 믊 믋 믌 믍 믎 믏 믐 믑\n",
            "믒 믓 믔 믕 믖 믗 믘 믙 믚 믛 믜 믝 믞 믟 믠 믡 믢 믣 믤 믥 믦 믧 믨 믩 믪 믫 믬 믭 믮 믯 믰 믱 믲 믳 믴 믵 믶 믷 밗 밙\n",
            "밚 받 밝 밞 밟 밠 밡 밢 밣 밦 밧 밨 밪 밫 밬 밭 밮 밯 백 뱃 벌 베 벳 변 복 볶 본 볼 분 붜 붝 붞 붟 붠 붡 붢 붣 붤 붥 붦\n",
            "붧 붨 붩 붪 붫 붬 붭 붮 붯 붰 붱 붲 붳 붴 붵 붶 붷 뷱 뷲 뷳 뷴 뷵 뷶 뷷 뷸 뷹 뷺 뷻 뷼 뷽 뷾 뷿 븀 븁 븂 븃 븄 븅 븆 븇\n",
            "븈 븉 븊 븋 빈 빠 빡 빢 빣 빥 빦 빧 빩 빪 빫 빬 빭 빮 빯 빰 빱 빲 빳 빴 빵 빶 빷 빸 빹 빺 빻 빼 빽 빾 빿 뺀 뺁 뺂 뺃 뺄\n",
            "뺅 뺆 뺇 뺈 뺉 뺊 뺋 뺌 뺍 뺎 뺏 뺐 뺑 뺒 뺓 뺔 뺕 뺖 뺗 뺘 뺙 뺚 뺛 뺜 뺝 뺞 뺟 뺠 뺡 뺢 뺣 뺤 뺥 뺦 뺧 뺨 뺩 뺪 뺫 뺬\n",
            "뺭 뺮 뺯 뺰 뺱 뺲 뺳 뼈 뼉 뼊 뼋 뼌 뼍 뼎 뼏 뼐 뼑 뼒 뼓 뼔 뼕 뼖 뼗 뼘 뼙 뼚 뼛 뼜 뼝 뼞 뼟 뼠 뼡 뼢 뼣 뼤 뼥 뼦 뼧 뼨\n",
            "뼩 뼪 뼫 뼬 뼭 뼮 뼯 뼰 뼱 뼲 뼳 뼴 뼵 뼶 뼷 뼸 뼹 뼺 뼻 뼼 뼽 뼾 뼿 뿌 삐 삭 삮 삯 삱 삲 삳 살 삵 삶 삷 삸 삹 삺 삻 삽\n",
            "삾 삿 샀 샂 샃 샄 샅 샆 샇 새 색 샐 샤 샥 샦 샧 샨 샩 샪 샫 샬 샭 샮 샯 샰 샱 샲 샳 샴 샵 샶 샷 샸 샹 샺 샻 샼 샽 샾 샿\n",
            "섞 섟 섡 섢 섣 섥 섦 섧 섨 섩 섪 섫 섮 섯 섰 섲 섳 섴 섵 섶 섷 셕 셖 셗 셙 셚 셛 셜 셝 셞 셟 셠 셡 셢 셣 셤 셥 셦 셧 셨\n",
            "셩 셪 셫 셬 셭 셮 셯 속 솎 솏 솑 솒 솓 솕 솖 솗 솘 솙 솚 솛 솜 솝 솞 솟 솠 솢 솣 솤 솥 솦 솧 쇼 숨 슈 슉 슊 슋 슌 슍 슎\n",
            "슏 슐 슑 슒 슓 슔 슕 슖 슗 슘 슙 슚 슛 슜 슝 슞 슟 슠 슡 슢 슣 슨 슴 습 승 실 썌 썍 썎 썏 썐 썑 썒 썓 썔 썕 썖 썗 썘 썙\n",
            "썚 썛 썜 썝 썞 썟 썠 썡 썢 썣 썤 썥 썦 썧 써 썩 썪 썫 썬 썭 썮 썯 썰 썱 썲 썳 썴 썵 썶 썷 썸 썹 썺 썻 썼 썽 썾 썿 쎀 쎁\n",
            "쎂 쎃 쎠 쎡 쎢 쎣 쎤 쎥 쎦 쎧 쎨 쎩 쎪 쎫 쎬 쎭 쎮 쎯 쎰 쎱 쎲 쎳 쎴 쎵 쎶 쎷 쎸 쎹 쎺 쎻 쏘 쏙 쏚 쏛 쏜 쏝 쏞 쏟 쏠 쏡\n",
            "쏢 쏣 쏤 쏥 쏦 쏧 쏨 쏩 쏪 쏫 쏬 쏭 쏮 쏯 쏰 쏱 쏲 쏳 쐬 쐭 쐮 쐯 쐰 쐱 쐲 쐳 쐴 쐵 쐶 쐷 쐸 쐹 쐺 쐻 쐼 쐽 쐾 쐿 쑀 쑁\n",
            "쑂 쑃 쑄 쑅 쑆 쑇 쑤 쒜 쒝 쒞 쒟 쒠 쒡 쒢 쒣 쒤 쒥 쒦 쒧 쒨 쒩 쒪 쒫 쒬 쒭 쒮 쒯 쒰 쒱 쒲 쒳 쒴 쒵 쒶 쒷 쓔 쓕 쓖 쓗 쓘\n",
            "쓙 쓚 쓛 쓜 쓝 쓞 쓟 쓠 쓡 쓢 쓣 쓤 쓥 쓦 쓧 쓨 쓩 쓪 쓫 쓬 쓭 쓮 쓯 쓰 씩 씪 씫 씬 씭 씮 씯 씰 씱 씲 씳 씴 씵 씶 씷 씸\n",
            "씹 씺 씻 씼 씽 씾 씿 앀 앁 앂 앃 악 앤 앾 앿 얀 얁 얂 얃 얄 얅 얆 얇 얈 얉 얊 얋 얌 얍 얎 얏 얐 얒 얓 얔 얕 얖 얗 언 얼\n",
            "없 엘 엣 엮 엯 엱 엲 엳 열 엵 엶 엷 엸 엹 엺 엻 염 엽 엾 엿 였 옂 옃 옄 옅 옆 옇 욱 운 움 웅 웍 웎 웏 웑 웒 웓 웕 웖 웗\n",
            "웘 웙 웚 웛 웜 웝 웞 웟 웠 웡 웢 웣 웤 웥 웦 웧 육 윢 윣 윥 윦 윧 율 윩 윪 윫 윬 윭 윮 윯 윰 윱 윲 윳 윴 융 윶 윷 윸 윹\n",
            "윺 윻 으 은 임 작 잭 쟁 쟤 쟥 쟦 쟧 쟨 쟩 쟪 쟫 쟬 쟭 쟮 쟯 쟰 쟱 쟲 쟳 쟴 쟵 쟶 쟷 쟸 쟹 쟺 쟻 쟼 쟽 쟾 쟿 젞 젟 젠 젡\n",
            "젢 젣 젤 젥 젦 젧 젨 젩 젪 젫 젬 젭 젮 젯 젰 젱 젲 젳 젴 젵 젶 젷 져 젹 젺 젻 젼 젽 젾 젿 졀 졁 졂 졃 졄 졅 졆 졇 졈 졉\n",
            "졊 졋 졌 졍 졎 졏 졐 졑 졒 졓 좍 좎 좏 좐 좑 좒 좓 좔 좕 좖 좗 좘 좙 좚 좛 좜 좝 좞 좟 좠 좡 좢 좣 좤 좥 좦 좧 죽 즈 집\n",
            "징 짜 짝 짞 짟 짠 짡 짢 짣 짤 짥 짦 짧 짨 짩 짪 짫 짬 짭 짮 짯 짰 짲 짳 짴 짵 짶 짷 쩔 쪄 쪅 쪆 쪇 쪈 쪉 쪊 쪋 쪌 쪍 쪎\n",
            "쪏 쪐 쪑 쪒 쪓 쪔 쪕 쪖 쪗 쪘 쪙 쪚 쪛 쪜 쪝 쪞 쪟 쬐 쬑 쬒 쬓 쬔 쬕 쬖 쬗 쬘 쬙 쬚 쬛 쬜 쬝 쬞 쬟 쬠 쬡 쬢 쬣 쬤 쬥 쬦\n",
            "쬧 쬨 쬩 쬪 쬫 쯔 쯕 쯖 쯗 쯘 쯙 쯚 쯛 쯜 쯝 쯞 쯟 쯠 쯡 쯢 쯣 쯤 쯥 쯦 쯧 쯨 쯩 쯪 쯫 쯬 쯭 쯮 쯯 착 찪 찫 찭 찮 찯 찰\n",
            "찱 찲 찳 찴 찵 찶 찷 참 찹 찺 찻 찼 찿 챀 챁 챂 챃 첚 첛 첝 첞 첟 첡 첢 첣 첤 첥 첦 첧 첨 첩 첪 첬 첮 첯 첰 첱 첲 첳 체\n",
            "쳐 쳬 쳭 쳮 쳯 쳰 쳱 쳲 쳳 쳴 쳵 쳶 쳷 쳸 쳹 쳺 쳻 쳼 쳽 쳾 쳿 촀 촁 촂 촃 촄 촅 촆 촇 촉 촊 촋 촌 촍 촎 촏 촐 촑 촒 촓\n",
            "촔 촕 촖 촗 촘 촙 촚 촛 촜 총 촞 촟 촠 촡 촢 촣 추 축 출 춱 춲 춳 춴 춵 춶 춷 춸 춹 춺 춻 춼 춽 춾 춿 췀 췁 췂 췃 췄 췅\n",
            "췆 췇 췈 췉 췊 췋 츄 츠 측 츢 츣 츤 츥 츦 츧 츨 츩 츪 츫 츬 츭 츮 츯 츰 츱 츲 츳 츴 층 츶 츷 츸 츹 츺 츻 칙 칚 칛 친 칝\n",
            "칞 칟 칡 칢 칣 칤 칥 칦 칧 침 칩 칪 칫 칬 칭 칮 칯 칰 칱 칲 칳 캬 캭 캮 캯 캰 캱 캲 캳 캴 캵 캶 캷 캸 캹 캺 캻 캼 캽 캾\n",
            "캿 컀 컁 컂 컃 컄 컅 컆 컇 컈 컉 컊 컋 컌 컍 컎 컏 컐 컑 컒 컓 컔 컕 컖 컗 컘 컙 컚 컛 컜 컝 컞 컟 컠 컡 컢 컣 커 컥 컦\n",
            "컧 컨 컩 컪 컫 컭 컮 컯 컰 컱 컲 컳 컴 컵 컶 컷 컸 컹 컺 컻 컼 컽 컾 컿 켄 켜 켝 켞 켟 켠 켡 켢 켣 켤 켥 켦 켧 켨 켩 켪\n",
            "켫 켬 켭 켮 켯 켰 켱 켲 켳 켴 켵 켶 켷 켸 켹 켺 켻 켼 켽 켾 켿 콀 콁 콂 콃 콄 콅 콆 콇 콈 콉 콊 콋 콌 콍 콎 콏 콐 콑 콒\n",
            "콓 콩 콰 콱 콲 콳 콴 콵 콶 콷 콸 콹 콺 콻 콼 콽 콾 콿 쾀 쾁 쾂 쾃 쾄 쾅 쾆 쾇 쾈 쾉 쾊 쾋 쿄 쿅 쿆 쿇 쿈 쿉 쿊 쿋 쿌 쿍\n",
            "쿎 쿏 쿐 쿑 쿒 쿓 쿔 쿕 쿖 쿗 쿘 쿙 쿚 쿛 쿜 쿝 쿞 쿟 쿨 퀘 퀙 퀚 퀛 퀜 퀝 퀞 퀟 퀠 퀡 퀢 퀣 퀤 퀥 퀦 퀧 퀨 퀩 퀪 퀫 퀬\n",
            "퀭 퀮 퀯 퀰 퀱 퀲 퀳 퀴 퀵 퀶 퀷 퀸 퀹 퀺 퀻 퀼 퀽 퀾 퀿 큀 큁 큂 큃 큄 큅 큆 큇 큈 큉 큊 큋 큌 큍 큎 큏 큐 큑 큒 큓 큔\n",
            "큕 큖 큗 큘 큙 큚 큛 큜 큝 큞 큟 큠 큡 큢 큣 큤 큥 큦 큧 큨 큩 큪 큫 킈 킉 킊 킋 킌 킍 킎 킏 킐 킑 킒 킓 킔 킕 킖 킗 킘\n",
            "킙 킚 킛 킜 킝 킞 킟 킠 킡 킢 킣 킥 킦 킧 킨 킩 킪 킫 킬 킭 킮 킯 킰 킱 킲 킳 킴 킵 킶 킷 킸 킹 킺 킻 킼 킽 킾 킿 탄 탈\n",
            "택 턱 턲 턳 턴 턵 턶 턷 털 턹 턺 턻 턼 턽 턾 턿 텀 텁 텂 텃 텄 텅 텆 텇 텈 텉 텊 텋 테 텍 텎 텏 텐 텑 텒 텓 텕 텖 텗 텘\n",
            "텙 텚 텛 템 텝 텞 텟 텠 텡 텢 텣 텤 텥 텦 텧 텨 텩 텪 텫 텬 텭 텮 텯 텰 텱 텲 텳 텴 텵 텶 텷 텸 텹 텺 텻 텼 텽 텾 텿 톀\n",
            "톁 톂 톃 톡 톢 톣 톤 톥 톦 톧 톨 톩 톪 톫 톬 톭 톮 톯 톰 톲 톳 톴 톶 톷 톸 톹 톺 톻 퇘 퇙 퇚 퇛 퇜 퇝 퇞 퇟 퇠 퇡 퇢 퇣\n",
            "퇤 퇥 퇦 퇧 퇨 퇩 퇪 퇫 퇬 퇭 퇮 퇯 퇰 퇱 퇲 퇳 특 틔 틕 틖 틗 틘 틙 틚 틛 틜 틝 틞 틟 틠 틡 틢 틣 틤 틥 틦 틧 틨 틩 틪\n",
            "틫 틬 틭 틮 틯 틱 팍 팎 팏 팑 팒 팓 팔 팕 팖 팗 팘 팙 팚 팛 팜 팞 팟 팡 팢 팣 팤 팥 팦 팧 퍄 퍅 퍆 퍇 퍈 퍉 퍊 퍋 퍌 퍍\n",
            "퍎 퍏 퍐 퍑 퍒 퍓 퍔 퍕 퍖 퍗 퍘 퍙 퍚 퍛 퍜 퍝 퍞 퍟 퍠 퍡 퍢 퍣 퍤 퍥 퍦 퍧 퍨 퍩 퍪 퍫 퍬 퍭 퍮 퍯 퍰 퍱 퍲 퍳 퍴 퍵\n",
            "퍶 퍷 퍸 퍹 퍺 퍻 폐 폑 폒 폓 폔 폕 폖 폗 폘 폙 폚 폛 폜 폝 폞 폟 폠 폡 폢 폣 폤 폥 폦 폧 폨 폩 폪 폫 포 폰 푸 풔 풕 풖\n",
            "풗 풘 풙 풚 풛 풜 풝 풞 풟 풠 풡 풢 풣 풤 풥 풦 풧 풨 풩 풪 풫 풬 풭 풮 풯 픠 픡 픢 픣 픤 픥 픦 픧 픨 픩 픪 픫 픬 픭 픮\n",
            "픯 픰 픱 픲 픳 픴 픵 픶 픷 픸 픹 픺 픻 픽 함 항 핸 했 햐 햑 햒 햓 햔 햕 햖 햗 햘 햙 햚 햛 햜 햝 햞 햟 햠 햡 햢 햣 햤 햦\n",
            "햧 햨 햩 햪 햫 혀 확 홖 홗 홙 홚 홛 홝 홞 홟 홠 홡 홢 홣 홤 홥 홦 홧 홨 홪 홫 홬 홭 홮 홯 회 획 횎 횏 횐 횑 횒 횓 횔 횕\n",
            "횖 횗 횘 횙 횚 횛 횜 횝 횞 횟 횠 횡 횢 횣 횤 횥 횦 횧 후 훠 훡 훢 훣 훤 훥 훦 훧 훨 훩 훪 훫 훬 훭 훮 훯 훰 훱 훲 훳 훴\n",
            "훵 훶 훷 훸 훹 훺 훻 훼 훽 훾 훿 휀 휁 휂 휃 휄 휅 휆 휇 휈 휉 휊 휋 휌 휍 휎 휏 휐 휑 휒 휓 휔 휕 휖 휗 휵 휶 휷 휸 휹\n",
            "휺 휻 휼 휽 휾 휿 흀 흁 흂 흃 흄 흅 흆 흇 흈 흉 흊 흋 흌 흍 흎 흏 흭 흮 흯 흰 흱 흲 흳 흴 흵 흶 흷 흸 흹 흺 흻 흼 흽 흾\n",
            "흿 힀 힁 힂 힃 힄 힅 힆 힇 힙 﨔 𐎾 𐬞 𐬭\n"
          ],
          "name": "stdout"
        }
      ]
    },
    {
      "cell_type": "code",
      "metadata": {
        "id": "u-TFrVP9005S",
        "outputId": "3bbf0e7d-4ebf-46bc-a600-5578803ade34",
        "colab": {
          "base_uri": "https://localhost:8080/",
          "height": 34
        }
      },
      "source": [
        "print('Are the two sets identical?', set(one_chars) == set(tokens))"
      ],
      "execution_count": null,
      "outputs": [
        {
          "output_type": "stream",
          "text": [
            "Are the two sets identical? False\n"
          ],
          "name": "stdout"
        }
      ]
    },
    {
      "cell_type": "markdown",
      "metadata": {
        "id": "uPnW2RetYc97"
      },
      "source": [
        "### Subpalavras vs. palavras inteiras\n",
        "\n",
        "Vamos reunir algumas estatísticas sobre o vocabulário.\n",
        "\n"
      ]
    },
    {
      "cell_type": "code",
      "metadata": {
        "id": "LjvrWcNTdkAW",
        "outputId": "062dd74c-7d05-4a5d-a1ef-b18232a4151f",
        "colab": {
          "base_uri": "https://localhost:8080/",
          "height": 444
        }
      },
      "source": [
        "import matplotlib.pyplot as plt\n",
        "import seaborn as sns\n",
        "import numpy as np\n",
        "\n",
        "sns.set(style='darkgrid')\n",
        "\n",
        "# Aumente o tamanho do gráfico e o tamanho da fonte.\n",
        "sns.set(font_scale=1.5)\n",
        "plt.rcParams[\"figure.figsize\"] = (10,5)\n",
        "\n",
        "# Medida do comprimento de cada token no vocabulário.\n",
        "token_lengths = [len(token) for token in tokenizer.vocab.keys()]\n",
        "\n",
        "# Plota o número de tokens pr cada tamanho.\n",
        "sns.countplot(token_lengths)\n",
        "plt.title('Comprimento dos tokens do vocabulário')\n",
        "plt.xlabel('Comprimento dos tokens')\n",
        "plt.ylabel('# de tokens')\n",
        "\n",
        "print('Maximum token length:', max(token_lengths))"
      ],
      "execution_count": null,
      "outputs": [
        {
          "output_type": "stream",
          "text": [
            "/usr/local/lib/python3.6/dist-packages/seaborn/_decorators.py:43: FutureWarning: Pass the following variable as a keyword arg: x. From version 0.12, the only valid positional argument will be `data`, and passing other arguments without an explicit keyword will result in an error or misinterpretation.\n",
            "  FutureWarning\n"
          ],
          "name": "stderr"
        },
        {
          "output_type": "stream",
          "text": [
            "Maximum token length: 16\n"
          ],
          "name": "stdout"
        },
        {
          "output_type": "display_data",
          "data": {
            "image/png": "[encoded data removed]",
            "text/plain": [
              "<Figure size 720x360 with 1 Axes>"
            ]
          },
          "metadata": {
            "tags": []
          }
        }
      ]
    },
    {
      "cell_type": "markdown",
      "metadata": {
        "id": "QQ8YUh75Usqj"
      },
      "source": [
        "Vamos olhar somente os tokens que começam com '##'."
      ]
    },
    {
      "cell_type": "code",
      "metadata": {
        "id": "69Vf46p-Ym97"
      },
      "source": [
        "num_subwords = 0\n",
        "\n",
        "subword_lengths = []\n",
        "\n",
        "# Para cada token no vocabulário ...\n",
        "for token in tokenizer.vocab.keys():\n",
        "    \n",
        "    # Se ela tem uma subpalavra...\n",
        "    if len(token) >= 2 and token[0:2] == '##':\n",
        "        \n",
        "        # Conta todas as subpalavras\n",
        "        num_subwords += 1\n",
        "\n",
        "        # Medida do comprimento da subpalavra (sem os hashes)\n",
        "        length = len(token) - 2\n",
        "\n",
        "        # Registra o tamanho.        \n",
        "        subword_lengths.append(length)\n"
      ],
      "execution_count": null,
      "outputs": []
    },
    {
      "cell_type": "markdown",
      "metadata": {
        "id": "lakK1gF-S1Ej"
      },
      "source": [
        "Quantos tokens '##' existem vs. o vocabulário completo?"
      ]
    },
    {
      "cell_type": "code",
      "metadata": {
        "id": "PJh6wl2bSzaC",
        "outputId": "008187aa-1795-49f7-900d-3e16389a3451",
        "colab": {
          "base_uri": "https://localhost:8080/",
          "height": 51
        }
      },
      "source": [
        "vocab_size = len(tokenizer.vocab.keys())\n",
        "\n",
        "print('Número de subpalavras: {:,} of {:,}'.format(num_subwords, vocab_size))\n",
        "\n",
        "# Calcule a porcentagem de palavras que são '##' subpalavras.\n",
        "prcnt = float(num_subwords) / vocab_size * 100.0\n",
        "\n",
        "print('%.1f%%' % prcnt)"
      ],
      "execution_count": null,
      "outputs": [
        {
          "output_type": "stream",
          "text": [
            "Número de subpalavras: 13,434 of 29,794\n",
            "45.1%\n"
          ],
          "name": "stdout"
        }
      ]
    },
    {
      "cell_type": "markdown",
      "metadata": {
        "id": "fj_AcObWS-1S"
      },
      "source": [
        "Plotando o tamanho das subpalavras (não incluindo os caracteres '##')."
      ]
    },
    {
      "cell_type": "code",
      "metadata": {
        "id": "fO1GeFbhSyhD",
        "outputId": "34b1c2f6-f74b-4fd4-cf45-a42131304a55",
        "colab": {
          "base_uri": "https://localhost:8080/",
          "height": 443
        }
      },
      "source": [
        "sns.countplot(subword_lengths)\n",
        "plt.title('Comprimentos de token de subpalavra (com/sem \"##\")')\n",
        "plt.xlabel('Comprimentos de subpalavra')\n",
        "plt.ylabel('# de ## Subpalavras')"
      ],
      "execution_count": null,
      "outputs": [
        {
          "output_type": "stream",
          "text": [
            "/usr/local/lib/python3.6/dist-packages/seaborn/_decorators.py:43: FutureWarning: Pass the following variable as a keyword arg: x. From version 0.12, the only valid positional argument will be `data`, and passing other arguments without an explicit keyword will result in an error or misinterpretation.\n",
            "  FutureWarning\n"
          ],
          "name": "stderr"
        },
        {
          "output_type": "execute_result",
          "data": {
            "text/plain": [
              "Text(0, 0.5, '# de ## Subpalavras')"
            ]
          },
          "metadata": {
            "tags": []
          },
          "execution_count": 12
        },
        {
          "output_type": "display_data",
          "data": {
            "image/png": "[encoded data removed]",
            "text/plain": [
              "<Figure size 720x360 with 1 Axes>"
            ]
          },
          "metadata": {
            "tags": []
          }
        }
      ]
    },
    {
      "cell_type": "markdown",
      "metadata": {
        "id": "gCDYsO8qyepC"
      },
      "source": [
        "### Erros ortográficos"
      ]
    },
    {
      "cell_type": "code",
      "metadata": {
        "id": "p-n_ObF14sh3",
        "outputId": "425e203d-cd64-43d3-893c-ebb3ee04db20",
        "colab": {
          "base_uri": "https://localhost:8080/",
          "height": 34
        }
      },
      "source": [
        "'crescer' in tokenizer.vocab # Correto"
      ],
      "execution_count": null,
      "outputs": [
        {
          "output_type": "execute_result",
          "data": {
            "text/plain": [
              "True"
            ]
          },
          "metadata": {
            "tags": []
          },
          "execution_count": 13
        }
      ]
    },
    {
      "cell_type": "code",
      "metadata": {
        "id": "FnUu6C_VjTVQ",
        "outputId": "f7b4104d-3fda-499f-dd53-9bcd6972379f",
        "colab": {
          "base_uri": "https://localhost:8080/",
          "height": 34
        }
      },
      "source": [
        "'crecer' in tokenizer.vocab # Errado"
      ],
      "execution_count": null,
      "outputs": [
        {
          "output_type": "execute_result",
          "data": {
            "text/plain": [
              "False"
            ]
          },
          "metadata": {
            "tags": []
          },
          "execution_count": 14
        }
      ]
    },
    {
      "cell_type": "code",
      "metadata": {
        "id": "GrKICg1y45Rz",
        "outputId": "65a27fe0-a416-4b00-84f0-eeb76b6288dc",
        "colab": {
          "base_uri": "https://localhost:8080/",
          "height": 34
        }
      },
      "source": [
        "'governo' in tokenizer.vocab # Correto"
      ],
      "execution_count": null,
      "outputs": [
        {
          "output_type": "execute_result",
          "data": {
            "text/plain": [
              "True"
            ]
          },
          "metadata": {
            "tags": []
          },
          "execution_count": 15
        }
      ]
    },
    {
      "cell_type": "code",
      "metadata": {
        "id": "fO72IlrU5I8t",
        "outputId": "aac8fdf6-1e48-4442-fb12-dc3cd90669b6",
        "colab": {
          "base_uri": "https://localhost:8080/",
          "height": 34
        }
      },
      "source": [
        "'gorverno' in tokenizer.vocab # Errado"
      ],
      "execution_count": null,
      "outputs": [
        {
          "output_type": "execute_result",
          "data": {
            "text/plain": [
              "False"
            ]
          },
          "metadata": {
            "tags": []
          },
          "execution_count": 16
        }
      ]
    },
    {
      "cell_type": "code",
      "metadata": {
        "id": "FfqU2qbpjubX",
        "outputId": "a291fb45-177f-48c4-db7f-0bfadb7e97ad",
        "colab": {
          "base_uri": "https://localhost:8080/",
          "height": 34
        }
      },
      "source": [
        "'inicio' in tokenizer.vocab # Correto"
      ],
      "execution_count": null,
      "outputs": [
        {
          "output_type": "execute_result",
          "data": {
            "text/plain": [
              "True"
            ]
          },
          "metadata": {
            "tags": []
          },
          "execution_count": 17
        }
      ]
    },
    {
      "cell_type": "code",
      "metadata": {
        "id": "Cvzy-sMsjs5P",
        "outputId": "aceb1358-69f4-42d4-f664-4c3e46e6d406",
        "colab": {
          "base_uri": "https://localhost:8080/",
          "height": 34
        }
      },
      "source": [
        "'inisio' in tokenizer.vocab # Errado"
      ],
      "execution_count": null,
      "outputs": [
        {
          "output_type": "execute_result",
          "data": {
            "text/plain": [
              "False"
            ]
          },
          "metadata": {
            "tags": []
          },
          "execution_count": 18
        }
      ]
    },
    {
      "cell_type": "code",
      "metadata": {
        "id": "WkqxG-675A1c",
        "outputId": "a7beccf9-5039-40d2-834c-a29014ded784",
        "colab": {
          "base_uri": "https://localhost:8080/",
          "height": 34
        }
      },
      "source": [
        "'separado' in tokenizer.vocab # Correto"
      ],
      "execution_count": null,
      "outputs": [
        {
          "output_type": "execute_result",
          "data": {
            "text/plain": [
              "True"
            ]
          },
          "metadata": {
            "tags": []
          },
          "execution_count": 19
        }
      ]
    },
    {
      "cell_type": "code",
      "metadata": {
        "id": "ziFBjur15GHg",
        "outputId": "4c390824-c728-4923-8eb9-717fc01d6a9b",
        "colab": {
          "base_uri": "https://localhost:8080/",
          "height": 34
        }
      },
      "source": [
        "'seperado' in tokenizer.vocab # Errado"
      ],
      "execution_count": null,
      "outputs": [
        {
          "output_type": "execute_result",
          "data": {
            "text/plain": [
              "False"
            ]
          },
          "metadata": {
            "tags": []
          },
          "execution_count": 20
        }
      ]
    },
    {
      "cell_type": "markdown",
      "metadata": {
        "id": "-KZHPgVsSgvz"
      },
      "source": [
        "E as contrações?"
      ]
    },
    {
      "cell_type": "code",
      "metadata": {
        "id": "VvUru5j3jxm2",
        "outputId": "d361c319-3c38-4cf8-b986-7f750938693c",
        "colab": {
          "base_uri": "https://localhost:8080/",
          "height": 34
        }
      },
      "source": [
        "\"você\" in tokenizer.vocab # Correto"
      ],
      "execution_count": null,
      "outputs": [
        {
          "output_type": "execute_result",
          "data": {
            "text/plain": [
              "True"
            ]
          },
          "metadata": {
            "tags": []
          },
          "execution_count": 21
        }
      ]
    },
    {
      "cell_type": "code",
      "metadata": {
        "id": "wl_l2xKwj0_l",
        "outputId": "2ba8ec52-fbd3-4e90-9151-aa10f7f6e66b",
        "colab": {
          "base_uri": "https://localhost:8080/",
          "height": 34
        }
      },
      "source": [
        "\"vc\" in tokenizer.vocab # Errado"
      ],
      "execution_count": null,
      "outputs": [
        {
          "output_type": "execute_result",
          "data": {
            "text/plain": [
              "False"
            ]
          },
          "metadata": {
            "tags": []
          },
          "execution_count": 22
        }
      ]
    },
    {
      "cell_type": "markdown",
      "metadata": {
        "id": "RE4TqKOlykJD"
      },
      "source": [
        "### Início versus subpalavras médias\n",
        "\n",
        "Para caracteres únicos, existe o caractere individual e a versão '##' para cada caractere. O mesmo vale para subpalavras?"
      ]
    },
    {
      "cell_type": "code",
      "metadata": {
        "id": "_Xf9FH7HWZya",
        "outputId": "cc941348-0036-44e6-c900-35272161fbd9",
        "colab": {
          "base_uri": "https://localhost:8080/",
          "height": 34
        }
      },
      "source": [
        "# Para cada token no vocabulário...\n",
        "for token in tokenizer.vocab.keys():\n",
        "    # Se ela é uma subpalavras...\n",
        "    if len(token) >= 2 and token[0:2] == '##':\n",
        "        if not token[2:] in tokenizer.vocab:\n",
        "            print('Did not find a token for', token[2:])\n",
        "            break"
      ],
      "execution_count": null,
      "outputs": [
        {
          "output_type": "stream",
          "text": [
            "Did not find a token for nt\n"
          ],
          "name": "stdout"
        }
      ]
    },
    {
      "cell_type": "code",
      "metadata": {
        "id": "0rPGb9z8SmYn",
        "outputId": "d8e87b46-15b9-4f7a-c28a-d89bb681adaa",
        "colab": {
          "base_uri": "https://localhost:8080/",
          "height": 34
        }
      },
      "source": [
        "'##te' in tokenizer.vocab"
      ],
      "execution_count": null,
      "outputs": [
        {
          "output_type": "execute_result",
          "data": {
            "text/plain": [
              "True"
            ]
          },
          "metadata": {
            "tags": []
          },
          "execution_count": 24
        }
      ]
    },
    {
      "cell_type": "code",
      "metadata": {
        "id": "wUmQwKqfWx9K",
        "outputId": "170b22c6-5083-4f20-ff08-aa7e548f3385",
        "colab": {
          "base_uri": "https://localhost:8080/",
          "height": 34
        }
      },
      "source": [
        "'te' in tokenizer.vocab"
      ],
      "execution_count": null,
      "outputs": [
        {
          "output_type": "execute_result",
          "data": {
            "text/plain": [
              "True"
            ]
          },
          "metadata": {
            "tags": []
          },
          "execution_count": 25
        }
      ]
    },
    {
      "cell_type": "markdown",
      "metadata": {
        "id": "PRaaspCfyqsY"
      },
      "source": [
        "### Nomes\n",
        "\n"
      ]
    },
    {
      "cell_type": "code",
      "metadata": {
        "id": "s7OLeBs_zBiR",
        "outputId": "48698f6a-10ac-4eb5-8100-72ef95d94afa",
        "colab": {
          "base_uri": "https://localhost:8080/",
          "height": 34
        }
      },
      "source": [
        "!pip install wget"
      ],
      "execution_count": null,
      "outputs": [
        {
          "output_type": "stream",
          "text": [
            "Requirement already satisfied: wget in /usr/local/lib/python3.6/dist-packages (3.2)\n"
          ],
          "name": "stdout"
        }
      ]
    },
    {
      "cell_type": "code",
      "metadata": {
        "id": "9Mac6NiYys4g",
        "outputId": "ba236045-8d9b-4262-d377-33a6128ca95f",
        "colab": {
          "base_uri": "https://localhost:8080/",
          "height": 52
        }
      },
      "source": [
        "import wget\n",
        "import random \n",
        "\n",
        "print('Beginning file download with wget module')\n",
        "\n",
        "url = 'http://www.gutenberg.org/files/3201/files/NAMES.TXT'\n",
        "wget.download(url, 'first-names.txt')\n"
      ],
      "execution_count": null,
      "outputs": [
        {
          "output_type": "stream",
          "text": [
            "Beginning file download with wget module\n"
          ],
          "name": "stdout"
        },
        {
          "output_type": "execute_result",
          "data": {
            "application/vnd.google.colaboratory.intrinsic+json": {
              "type": "string"
            },
            "text/plain": [
              "'first-names (2).txt'"
            ]
          },
          "metadata": {
            "tags": []
          },
          "execution_count": 27
        }
      ]
    },
    {
      "cell_type": "code",
      "metadata": {
        "id": "FHF1JgrqY7Zi",
        "outputId": "fe0f8338-593e-49d6-da46-e2bd65815206",
        "colab": {
          "base_uri": "https://localhost:8080/",
          "height": 51
        }
      },
      "source": [
        "# Leia-os no.\n",
        "with open('first-names.txt', 'rb') as f:\n",
        "    names_encoded = f.readlines()\n",
        "\n",
        "names = []\n",
        "\n",
        "# Decodifique os nomes, converta em minúsculas e retire as novas linhas.\n",
        "for name in names_encoded:\n",
        "    try:\n",
        "        names.append(name.rstrip().lower().decode('utf-8'))\n",
        "    except:\n",
        "        continue\n",
        "\n",
        "print('Número de nomes: {:,}'.format(len(names)))\n",
        "print('Exemplo:', random.choice(names))\n"
      ],
      "execution_count": null,
      "outputs": [
        {
          "output_type": "stream",
          "text": [
            "Número de nomes: 21,985\n",
            "Exemplo: giliane\n"
          ],
          "name": "stdout"
        }
      ]
    },
    {
      "cell_type": "code",
      "metadata": {
        "id": "6heL05KQzmCa",
        "outputId": "2cd81994-b599-4a05-a3f1-b27965a3981f",
        "colab": {
          "base_uri": "https://localhost:8080/",
          "height": 34
        }
      },
      "source": [
        "num_names = 0\n",
        "\n",
        "# Para cada nome da lista...\n",
        "for name in names:\n",
        "\n",
        "    # Se ela está no vocabulário...\n",
        "    if name in tokenizer.vocab:\n",
        "        # Conta ela.\n",
        "        num_names += 1\n",
        "\n",
        "print('{:,} nomes no vocabulário'.format(num_names))"
      ],
      "execution_count": null,
      "outputs": [
        {
          "output_type": "stream",
          "text": [
            "483 nomes no vocabulário\n"
          ],
          "name": "stdout"
        }
      ]
    },
    {
      "cell_type": "markdown",
      "metadata": {
        "id": "BM99iB36RAxX"
      },
      "source": [
        "**Mais pesquisa**\n",
        "\n",
        "* Adicione nomes mais modernos\n",
        "     * Este repositório / arquivo contém alguns nomes mais modernos. O download do arquivo não está funcionando, no entanto.\n",
        "     * `https://raw.githubusercontent.com/arineng/arincli/master/lib/nome-do-primeiro-nome.txt'\n",
        "\n",
        "* Adicione nomes comuns de outros idiomas.\n"
      ]
    },
    {
      "cell_type": "markdown",
      "metadata": {
        "id": "3HGvwsy0ynkq"
      },
      "source": [
        "### Números"
      ]
    },
    {
      "cell_type": "code",
      "metadata": {
        "id": "h5T_-gfQZKm6",
        "outputId": "b3505793-4577-4d4c-8e4d-8c78f4e527b5",
        "colab": {
          "base_uri": "https://localhost:8080/",
          "height": 34
        }
      },
      "source": [
        "# Conte quantos números existem no vocabulário.\n",
        "count = 0\n",
        "\n",
        "# Para cada token no vocabulário...\n",
        "for token in tokenizer.vocab:\n",
        "\n",
        "    # Conta ele é um número.\n",
        "    if token.isdigit():\n",
        "        count += 1\n",
        "        \n",
        "        # Qualquer número >= 10,000?\n",
        "        if len(token) > 4:\n",
        "            print(token)\n",
        "\n",
        "print('Vocabulário incluí {:,} números.'.format(count))"
      ],
      "execution_count": null,
      "outputs": [
        {
          "output_type": "stream",
          "text": [
            "Vocabulário incluí 335 números.\n"
          ],
          "name": "stdout"
        }
      ]
    },
    {
      "cell_type": "code",
      "metadata": {
        "id": "-M1biDEVYjaL",
        "outputId": "d338e887-22b7-4c86-e31c-30c06b4af7c0",
        "colab": {
          "base_uri": "https://localhost:8080/",
          "height": 34
        }
      },
      "source": [
        "# Conta quantas datas entre 1600 e 2021 estão incluídas.\n",
        "count = 0 \n",
        "for i in range(1600, 2021):\n",
        "    if str(i) in tokenizer.vocab:\n",
        "        count += 1\n",
        "\n",
        "print('Vocabulário inclui {:,} de 421 datas de 1600 - 2021'.format(count))"
      ],
      "execution_count": null,
      "outputs": [
        {
          "output_type": "stream",
          "text": [
            "Vocabulário inclui 122 de 421 datas de 1600 - 2021\n"
          ],
          "name": "stdout"
        }
      ]
    }
  ]
}