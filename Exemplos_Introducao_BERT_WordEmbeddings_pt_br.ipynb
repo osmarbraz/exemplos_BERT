{
  "nbformat": 4,
  "nbformat_minor": 0,
  "metadata": {
    "colab": {
      "provenance": [],
      "toc_visible": true,
      "include_colab_link": true
    },
    "kernelspec": {
      "name": "python3",
      "display_name": "Python 3"
    }
  },
  "cells": [
    {
      "cell_type": "markdown",
      "metadata": {
        "id": "view-in-github",
        "colab_type": "text"
      },
      "source": [
        "<a href=\"https://colab.research.google.com/github/osmarbraz/exemplos_BERT/blob/main/Exemplos_Introducao_BERT_WordEmbeddings_pt_br.ipynb\" target=\"_parent\"><img src=\"https://colab.research.google.com/assets/colab-badge.svg\" alt=\"Open In Colab\"/></a>"
      ]
    },
    {
      "cell_type": "markdown",
      "metadata": {
        "id": "78HE8FLsKN9Q"
      },
      "source": [
        "#BERT Word Embeddings pt-br usando Transformers(v2) by HuggingFace\n",
        "\n",
        "**Artigo Original:**\n",
        "\n",
        "http://mccormickml.com/2019/05/14/BERT-word-embeddings-tutorial/\n",
        "\n",
        "**Notebook Original:**\n",
        "https://colab.research.google.com/drive/1ZQvuAVwA3IjybezQOXnrXMGAnMyZRuPU\n",
        "\n",
        "\n",
        "Nesta postagem, eu examino detalhadamente as combinações de palavras produzidas pelo BERT do Google e mostro como começar com o BERT produzindo suas próprias combinações de palavras.\n",
        "\n",
        "Esta postagem é apresentada em duas formas - como uma postagem no blog [aqui](http://mccormickml.com/2019/05/14/BERT-word-embeddings-tutorial/) e como um notebook da Colab [aqui](https://colab.research.google.com/drive/1ZQvuAVwA3IjybezQOXnrXMGAnMyZRuPU).\n",
        "O conteúdo é idêntico em ambos, mas:\n",
        "\n",
        "* O formato da postagem do blog pode ser mais fácil de ler e inclui uma seção de comentários para discussão.\n",
        "* O Notebook Colab permitirá que você execute o código e inspecione enquanto lê.\n"
      ]
    },
    {
      "cell_type": "markdown",
      "metadata": {
        "id": "dYapTjoYa0kO"
      },
      "source": [
        "# Introdução\n",
        "\n"
      ]
    },
    {
      "cell_type": "markdown",
      "metadata": {
        "id": "c8HDKzBai5dL"
      },
      "source": [
        "### História\n",
        "\n",
        "2018 foi um ano inovador na PNL. A transferência de aprendizado, particularmente modelos como o ELMO de Allen AI, o Open-GPT da OpenAI e o BERT do Google, permitiu que os pesquisadores quebrassem vários benchmarks com o mínimo de ajuste fino específico da tarefa e forneceu ao restante da comunidade da PNL modelos pré-treinados que poderiam facilmente (com menos dados) e menos tempo de computação) sejam ajustados e implementados para produzir resultados de última geração. Infelizmente, para muitos iniciantes na PNL e mesmo para alguns praticantes experientes, a teoria e a aplicação prática desses poderosos modelos ainda não são bem conhecidas.\n"
      ]
    },
    {
      "cell_type": "markdown",
      "metadata": {
        "id": "WoitNQMWA1bt"
      },
      "source": [
        "\n",
        "### O que é  BERT?\n",
        "\n",
        "O BERT (Representações de codificadores bidirecionais da Transformers), lançado no final de 2018, é o modelo que usaremos neste tutorial para fornecer aos leitores uma melhor compreensão e orientação prática para o uso de modelos de aprendizado de transferência na PNL. O BERT é um método de pré-treinamento de representações da linguagem que foi usado para criar modelos que os profissionais da PNL podem baixar e usar gratuitamente. Você pode usar esses modelos para extrair recursos de linguagem de alta qualidade dos dados de texto ou ajustá-los em uma tarefa específica (classificação, reconhecimento de entidade, resposta a perguntas etc.) com seus próprios dados para produzir o estado do previsões de arte."
      ]
    },
    {
      "cell_type": "markdown",
      "metadata": {
        "id": "q-dDVmXAA3At"
      },
      "source": [
        "### Porque BERT embeddings?\n",
        "\n",
        "Neste tutorial, usaremos o BERT para extrair recursos, como vetores de incorporação de palavras e frases, a partir de dados de texto. O que podemos fazer com esses vetores de incorporação de palavras e frases? Primeiro, essas incorporações são úteis para a expansão de palavras-chave / pesquisa, pesquisa semântica e recuperação de informações. Por exemplo, se você deseja comparar perguntas ou pesquisas do cliente com perguntas já respondidas ou pesquisas bem documentadas, essas representações o ajudarão a recuperar com precisão os resultados correspondentes à intenção e ao significado contextual do cliente, mesmo se não houver sobreposição de palavra-chave ou frase.\n",
        "\n",
        "Segundo, e talvez mais importante, esses vetores são usados ​​como entradas de recursos de alta qualidade para modelos posteriores. Modelos de PNL, como LSTMs ou CNNs, exigem entradas na forma de vetores numéricos, e isso normalmente significa traduzir recursos como o vocabulário e partes do discurso em representações numéricas. No passado, as palavras eram representadas como valores indexados exclusivamente (codificação one-hot), ou mais útil como incorporação de palavras neurais em que as palavras do vocabulário são comparadas com as incorporação de recursos de comprimento fixo resultantes de modelos como Word2Vec ou Fasttext. O BERT oferece uma vantagem sobre modelos como o Word2Vec, porque, embora cada palavra tenha uma representação fixa no Word2Vec, independentemente do contexto em que a palavra aparece, o BERT produz representações de palavras que são dinamicamente informadas pelas palavras ao seu redor. Por exemplo, dadas duas frases:\n",
        "\n",
        "* \"The man was accused of robbing a bank.\"\n",
        "* \"The man went fishing by the bank of the river.\"\n",
        "\n",
        "traduzido(modificado)\n",
        "\n",
        "* \"O homem foi acusado de assaltar um banco.\"\n",
        "* \"O homem foi sentar no banco da praça.\"\n",
        "\n",
        "O Word2Vec produziria a mesma palavra incorporação para a palavra \"banco\" em ambas as frases, enquanto em BERT a palavra incorporação para \"banco\" seria diferente para cada frase. Além de capturar diferenças óbvias como a polissemia, as inserções de palavras informadas pelo contexto capturam outras formas de informação que resultam em representações de recursos mais precisas, o que, por sua vez, resulta em melhor desempenho do modelo.\n",
        "\n",
        "Do ponto de vista educacional, um exame atento das combinações de palavras do BERT é uma boa maneira de se molhar com o BERT e sua família de modelos de aprendizado de transferência, além de estabelecer alguns conhecimentos e contextos práticos para entender melhor os detalhes internos do modelo em tutoriais posteriores.\n",
        "\n",
        "Avante!"
      ]
    },
    {
      "cell_type": "markdown",
      "metadata": {
        "id": "xyxb5Px3p1-e"
      },
      "source": [
        "## Preparação do ambiente\n",
        "Preparação do ambiente para análise e tratamento de perguntas"
      ]
    },
    {
      "cell_type": "markdown",
      "metadata": {
        "id": "iAPVtRXQqDim"
      },
      "source": [
        "###Tratamento de logs"
      ]
    },
    {
      "cell_type": "code",
      "metadata": {
        "id": "DcopxbGZqDip"
      },
      "source": [
        "# Biblioteca de logging\n",
        "import logging\n",
        "\n",
        "# Formatando a mensagem de logging\n",
        "logging.basicConfig(format='%(asctime)s : %(levelname)s : %(message)s', level=logging.INFO)"
      ],
      "execution_count": null,
      "outputs": []
    },
    {
      "cell_type": "markdown",
      "metadata": {
        "id": "_GjYtXcMnSAe"
      },
      "source": [
        "### Identificando o ambiente Colab"
      ]
    },
    {
      "cell_type": "code",
      "metadata": {
        "id": "YMiH0E3OnRa1"
      },
      "source": [
        "# Se estiver executando no Google Colaboratory\n",
        "import sys\n",
        "# Retorna true ou false se estiver no Google Colaboratory\n",
        "IN_COLAB = 'google.colab' in sys.modules"
      ],
      "execution_count": null,
      "outputs": []
    },
    {
      "cell_type": "markdown",
      "metadata": {
        "id": "Pqa-7WXBAw8q"
      },
      "source": [
        "# 1 Carregando BERT Pre-Treinado "
      ]
    },
    {
      "cell_type": "markdown",
      "metadata": {
        "id": "eCdqJCtQN52l"
      },
      "source": [
        "Instale a interface pytorch para o BERT by Hugging Face. (Esta biblioteca contém interfaces para outros modelos de linguagem pré-treinados, como o GPT e o GPT-2 da OpenAI.)\n",
        "\n",
        "Selecionamos a interface pytorch porque ela encontra um bom equilíbrio entre as APIs de alto nível (que são fáceis de usar, mas não fornecem informações sobre como as coisas funcionam) e o código do tensorflow (que contém muitos detalhes, mas muitas vezes nos desvia lições sobre o fluxo tensor, quando o objetivo aqui é o BERT!).\n",
        "\n",
        "Se você estiver executando esse código no Google Colab, precisará instalar esta biblioteca sempre que se reconectar; a célula a seguir cuidará disso para você."
      ]
    },
    {
      "cell_type": "code",
      "metadata": {
        "id": "1RfUN_KolV-f",
        "colab": {
          "base_uri": "https://localhost:8080/"
        },
        "outputId": "6a11f06d-be49-4120-e535-94c149b8e47d"
      },
      "source": [
        "!pip install transformers"
      ],
      "execution_count": null,
      "outputs": [
        {
          "output_type": "stream",
          "text": [
            "Collecting transformers\n",
            "\u001b[?25l  Downloading https://files.pythonhosted.org/packages/19/22/aff234f4a841f8999e68a7a94bdd4b60b4cebcfeca5d67d61cd08c9179de/transformers-3.3.1-py3-none-any.whl (1.1MB)\n",
            "\u001b[K     |████████████████████████████████| 1.1MB 2.8MB/s \n",
            "\u001b[?25hRequirement already satisfied: dataclasses; python_version < \"3.7\" in /usr/local/lib/python3.6/dist-packages (from transformers) (0.7)\n",
            "Requirement already satisfied: regex!=2019.12.17 in /usr/local/lib/python3.6/dist-packages (from transformers) (2019.12.20)\n",
            "Collecting sentencepiece!=0.1.92\n",
            "\u001b[?25l  Downloading https://files.pythonhosted.org/packages/d4/a4/d0a884c4300004a78cca907a6ff9a5e9fe4f090f5d95ab341c53d28cbc58/sentencepiece-0.1.91-cp36-cp36m-manylinux1_x86_64.whl (1.1MB)\n",
            "\u001b[K     |████████████████████████████████| 1.1MB 16.6MB/s \n",
            "\u001b[?25hRequirement already satisfied: filelock in /usr/local/lib/python3.6/dist-packages (from transformers) (3.0.12)\n",
            "Requirement already satisfied: packaging in /usr/local/lib/python3.6/dist-packages (from transformers) (20.4)\n",
            "Requirement already satisfied: requests in /usr/local/lib/python3.6/dist-packages (from transformers) (2.23.0)\n",
            "Collecting sacremoses\n",
            "\u001b[?25l  Downloading https://files.pythonhosted.org/packages/7d/34/09d19aff26edcc8eb2a01bed8e98f13a1537005d31e95233fd48216eed10/sacremoses-0.0.43.tar.gz (883kB)\n",
            "\u001b[K     |████████████████████████████████| 890kB 20.8MB/s \n",
            "\u001b[?25hRequirement already satisfied: numpy in /usr/local/lib/python3.6/dist-packages (from transformers) (1.18.5)\n",
            "Requirement already satisfied: tqdm>=4.27 in /usr/local/lib/python3.6/dist-packages (from transformers) (4.41.1)\n",
            "Collecting tokenizers==0.8.1.rc2\n",
            "\u001b[?25l  Downloading https://files.pythonhosted.org/packages/80/83/8b9fccb9e48eeb575ee19179e2bdde0ee9a1904f97de5f02d19016b8804f/tokenizers-0.8.1rc2-cp36-cp36m-manylinux1_x86_64.whl (3.0MB)\n",
            "\u001b[K     |████████████████████████████████| 3.0MB 23.9MB/s \n",
            "\u001b[?25hRequirement already satisfied: six in /usr/local/lib/python3.6/dist-packages (from packaging->transformers) (1.15.0)\n",
            "Requirement already satisfied: pyparsing>=2.0.2 in /usr/local/lib/python3.6/dist-packages (from packaging->transformers) (2.4.7)\n",
            "Requirement already satisfied: idna<3,>=2.5 in /usr/local/lib/python3.6/dist-packages (from requests->transformers) (2.10)\n",
            "Requirement already satisfied: chardet<4,>=3.0.2 in /usr/local/lib/python3.6/dist-packages (from requests->transformers) (3.0.4)\n",
            "Requirement already satisfied: certifi>=2017.4.17 in /usr/local/lib/python3.6/dist-packages (from requests->transformers) (2020.6.20)\n",
            "Requirement already satisfied: urllib3!=1.25.0,!=1.25.1,<1.26,>=1.21.1 in /usr/local/lib/python3.6/dist-packages (from requests->transformers) (1.24.3)\n",
            "Requirement already satisfied: click in /usr/local/lib/python3.6/dist-packages (from sacremoses->transformers) (7.1.2)\n",
            "Requirement already satisfied: joblib in /usr/local/lib/python3.6/dist-packages (from sacremoses->transformers) (0.16.0)\n",
            "Building wheels for collected packages: sacremoses\n",
            "  Building wheel for sacremoses (setup.py) ... \u001b[?25l\u001b[?25hdone\n",
            "  Created wheel for sacremoses: filename=sacremoses-0.0.43-cp36-none-any.whl size=893257 sha256=7b388f3182f1f5ea4855be8fe24f00fd449aa1c3eece57343f9fb9b1da92a5fe\n",
            "  Stored in directory: /root/.cache/pip/wheels/29/3c/fd/7ce5c3f0666dab31a50123635e6fb5e19ceb42ce38d4e58f45\n",
            "Successfully built sacremoses\n",
            "Installing collected packages: sentencepiece, sacremoses, tokenizers, transformers\n",
            "Successfully installed sacremoses-0.0.43 sentencepiece-0.1.91 tokenizers-0.8.1rc2 transformers-3.3.1\n"
          ],
          "name": "stdout"
        }
      ]
    },
    {
      "cell_type": "markdown",
      "metadata": {
        "id": "JSXImOxMPdNg"
      },
      "source": [
        "\n",
        "Agora vamos importar pytorch, o modelo pré-treinado BERT e um tokenizer BERT. Explicaremos o modelo BERT em detalhes em um tutorial posterior, mas este é o modelo pré-treinado lançado pelo Google, que funcionou por muitas e muitas horas na Wikipedia e no [Book Corpus](https://arxiv.org/pdf/1506.06724.pdf), um conjunto de dados contendo 10.000 livros de diferentes gêneros. Esse modelo é responsável (com uma pequena modificação) por superar os benchmarks de PNL em várias tarefas. O Google lançou algumas variações dos modelos BERT, mas o que usaremos aqui é o menor dos dois tamanhos disponíveis (\"base\" e \"large\") e ignora o maiúscula e minúsculo, portanto, \"uncased\". \"\n",
        "\n",
        "Por default(`do_lower_case=True`) todas as letras são colocadas para minúsculas. Para ignorar a conversão para minúsculo use o parâmetro `do_lower_case=False`."
      ]
    },
    {
      "cell_type": "markdown",
      "metadata": {
        "id": "OzWcQNSORrYC"
      },
      "source": [
        "## Carregando o modelo pré-treinado BERT"
      ]
    },
    {
      "cell_type": "markdown",
      "metadata": {
        "id": "snDFb_WBpItd"
      },
      "source": [
        "#### Usando o BERT da comunidade ou diretório v2\n",
        "\n",
        "Permite configurar o **tamanho do modelo** e a **fonte do modelo**.\n",
        "\n",
        "A variável `fonteBERT` com os valores `comunidade` ou `diretório` especifica se deve ser carregado o BERT de um diretório ou da comunidade.\n",
        "\n",
        "A variável `tamanhoBERT` com os valores `base` ou `large` especifica se o tamanho do modelo BERT a ser utilizado.\n",
        "\n",
        "A variável `pesosCamadasOcultas` com os valores `True` ou `False` especifica se é para gerar e retornar os pesos das camadas ocultas."
      ]
    },
    {
      "cell_type": "markdown",
      "metadata": {
        "id": "Nj1KS8xCpIte"
      },
      "source": [
        "##### Download do arquivo do Pytorch Checkpoint\n",
        "\n",
        "É necessário realizar o download do arquivo de checkpoint e do vocabulário.\n",
        "\n",
        "O arquivo do checkpoint precisa ser descompactado.\n",
        "\n",
        "Os arquivos do modelo e do vocabulário são movidos para o diretório `modelo`."
      ]
    },
    {
      "cell_type": "code",
      "metadata": {
        "id": "3gab02A0pIte",
        "colab": {
          "base_uri": "https://localhost:8080/"
        },
        "outputId": "aaf18d1b-ee05-4b96-de60-7f8088cc561f"
      },
      "source": [
        "# Importando as bibliotecas\n",
        "import os\n",
        "\n",
        "# Variável fonte especifica a origem do modelo(comunidade ou diretório)\n",
        "#fonteBERT = 'comunidade'\n",
        "fonteBERT = 'diretorio'\n",
        "\n",
        "# Especifica o tamanho do modelo a ser carregado(base ou large)\n",
        "tamanhoBERT = 'large'\n",
        "#tamanhoBERT = 'base'\n",
        "\n",
        "# Especifica se o modelo deve ser carregado com os pesos das camadas ocultas(True ou False)\n",
        "pesosCamadasOcultas = True\n",
        "\n",
        "# Se a variável 'fonteBERT' foi setada para 'diretorio' faz o download dos arquivos modelo\n",
        "if fonteBERT == 'diretorio':\n",
        "    \n",
        "    # Se a variável 'tamanhoBERT' foi setada para 'base' faz o download do arquivo do tamanho base do BERT, caso contrário do large.\n",
        "    if tamanhoBERT == 'base':\n",
        "        # url do arquivo do modelo do Pytorch checkpoint\n",
        "        # arquivo menor(base) 1.1 Gbytes\n",
        "        url = \"https://neuralmind-ai.s3.us-east-2.amazonaws.com/nlp/bert-base-portuguese-cased/bert-base-portuguese-cased_pytorch_checkpoint.zip\"\n",
        "    else:\n",
        "        # url do arquivo do modelo do Pytorch checkpoint\n",
        "        # arquivo grande(large) 3.5 Gbytes\n",
        "        url = \"https://neuralmind-ai.s3.us-east-2.amazonaws.com/nlp/bert-large-portuguese-cased/bert-large-portuguese-cased_pytorch_checkpoint.zip\"\n",
        "\n",
        "    # Diretório descompactação do modelo\n",
        "    diretorio = '/content/modelo'\n",
        "\n",
        "    # Recupera o nome do arquivo do modelo da url anterior\n",
        "    arquivo = url.split(\"/\")[-1]\n",
        "\n",
        "    # Nome do arquivo do vocabulário\n",
        "    arquivo_vocab = \"vocab.txt\"\n",
        "\n",
        "    # Caminho do arquivo na url\n",
        "    caminho = url[0:len(url)-len(arquivo)]\n",
        "\n",
        "    # Verifica se a pasta de descompactação existe no pasta corrente\n",
        "    if not os.path.exists(diretorio):\n",
        "   \n",
        "        # Realiza o download do arquivo do modelo\n",
        "        !wget $url\n",
        "    \n",
        "        # Descompacta o arquivo na pasta de destino\n",
        "        !unzip -o $arquivo -d $diretorio\n",
        "\n",
        "        # Realiza o download do arquivo do vocabulário\n",
        "        # O vocabulário não está no arquivo compactado acima\n",
        "        # Concatena o caminho do modelo mais o nome do arquivo do vocabulário\n",
        "        url_vocab = caminho + arquivo_vocab\n",
        "\n",
        "        # Realiza o download do arquivo do vocabulário\n",
        "        !wget $url_vocab\n",
        "    \n",
        "        # Move o arquivo do vocabulário para o diretório do modelo\n",
        "        !mv $arquivo_vocab $diretorio\n",
        "            \n",
        "        # Move o arquivo do modelo para o diretório do modelo\n",
        "        !mv $arquivo $diretorio      \n",
        "                \n",
        "        print('Diretório do modelo:\\'' + diretorio + '\\' pronta!')\n",
        "    else:      \n",
        "      print('Diretório do modelo:\\'' + diretorio + '\\' já existe!')\n",
        "\n",
        "    #lista a pasta corrente\n",
        "    !ls -la $diretorio\n",
        "else:\n",
        "    print('Será carregado o BERT da comunidade')"
      ],
      "execution_count": null,
      "outputs": [
        {
          "output_type": "stream",
          "text": [
            "--2020-10-07 10:56:25--  https://neuralmind-ai.s3.us-east-2.amazonaws.com/nlp/bert-large-portuguese-cased/bert-large-portuguese-cased_pytorch_checkpoint.zip\n",
            "Resolving neuralmind-ai.s3.us-east-2.amazonaws.com (neuralmind-ai.s3.us-east-2.amazonaws.com)... 52.219.88.128\n",
            "Connecting to neuralmind-ai.s3.us-east-2.amazonaws.com (neuralmind-ai.s3.us-east-2.amazonaws.com)|52.219.88.128|:443... connected.\n",
            "HTTP request sent, awaiting response... 200 OK\n",
            "Length: 1244275810 (1.2G) [application/zip]\n",
            "Saving to: ‘bert-large-portuguese-cased_pytorch_checkpoint.zip’\n",
            "\n",
            "bert-large-portugue 100%[===================>]   1.16G  16.2MB/s    in 77s     \n",
            "\n",
            "2020-10-07 10:57:43 (15.3 MB/s) - ‘bert-large-portuguese-cased_pytorch_checkpoint.zip’ saved [1244275810/1244275810]\n",
            "\n",
            "Archive:  bert-large-portuguese-cased_pytorch_checkpoint.zip\n",
            "  inflating: /content/modelo/config.json  \n",
            "  inflating: /content/modelo/pytorch_model.bin  \n",
            "--2020-10-07 10:57:58--  https://neuralmind-ai.s3.us-east-2.amazonaws.com/nlp/bert-large-portuguese-cased/vocab.txt\n",
            "Resolving neuralmind-ai.s3.us-east-2.amazonaws.com (neuralmind-ai.s3.us-east-2.amazonaws.com)... 52.219.105.66\n",
            "Connecting to neuralmind-ai.s3.us-east-2.amazonaws.com (neuralmind-ai.s3.us-east-2.amazonaws.com)|52.219.105.66|:443... connected.\n",
            "HTTP request sent, awaiting response... 200 OK\n",
            "Length: 209528 (205K) [text/plain]\n",
            "Saving to: ‘vocab.txt’\n",
            "\n",
            "vocab.txt           100%[===================>] 204.62K   368KB/s    in 0.6s    \n",
            "\n",
            "2020-10-07 10:58:00 (368 KB/s) - ‘vocab.txt’ saved [209528/209528]\n",
            "\n",
            "Diretório do modelo:'/content/modelo' pronta!\n",
            "total 2525908\n",
            "drwxr-xr-x 2 root root       4096 Oct  7 10:58 .\n",
            "drwxr-xr-x 1 root root       4096 Oct  7 10:58 ..\n",
            "-rw-r--r-- 1 root root 1244275810 Jan 22  2020 bert-large-portuguese-cased_pytorch_checkpoint.zip\n",
            "-rw-rw-r-- 1 root root        874 Jan 12  2020 config.json\n",
            "-rw-rw-r-- 1 root root 1342014951 Jan 12  2020 pytorch_model.bin\n",
            "-rw-r--r-- 1 root root     209528 Jan 21  2020 vocab.txt\n"
          ],
          "name": "stdout"
        }
      ]
    },
    {
      "cell_type": "markdown",
      "metadata": {
        "id": "stZE-KdbpIti"
      },
      "source": [
        "##### Carregando o BERT\n",
        "\n",
        "Carregando o **tokenizador** e **modelo** BERT do diretório '/content/modelo/' do diretório padrão.\n"
      ]
    },
    {
      "cell_type": "code",
      "metadata": {
        "id": "Rbdpa5IzpItj",
        "colab": {
          "base_uri": "https://localhost:8080/"
        },
        "outputId": "387f7852-699f-481b-bfd8-079bfc96e2cf"
      },
      "source": [
        "# Importando as bibliotecas do Modelo e do Tokenizador\n",
        "from transformers import BertModel, BertTokenizer\n",
        "\n",
        "# Se a variável 'fonteBERT' foi setada para 'diretorio' faz o download dos arquivos modelo\n",
        "if fonteBERT == 'diretorio':\n",
        "\n",
        "    # Carregando o Tokenizador do diretório\n",
        "    print('Carregando o tokenizador BERT_' + tamanhoBERT + ' do diretório ' + diretorio + '...')\n",
        "\n",
        "    tokenizer = BertTokenizer.from_pretrained(diretorio)\n",
        "\n",
        "    # Carregando o Modelo do diretório\n",
        "    print('Carregando o modelo BERT_' + tamanhoBERT + ' do diretório ' + diretorio + '...')\n",
        "\n",
        "    model = BertModel.from_pretrained(diretorio,\n",
        "                                      output_hidden_states = pesosCamadasOcultas) # Se o modelo retorna todos os estados ocultos)\n",
        "\n",
        "else:\n",
        "    # Se a variável 'tamanhoBERT' foi setada para 'base' faz o carregamento do tamanho base do BERT, caso contrário do large.\n",
        "    if tamanhoBERT == 'base':\n",
        "        # Carregando o Tokenizador da comunidade\n",
        "        print('Carregando o tokenizador BERT_base da comunidade...')\n",
        "\n",
        "        tokenizer = BertTokenizer.from_pretrained('neuralmind/bert-base-portuguese-cased')  \n",
        "\n",
        "        # Carregando o Modelo da comunidade\n",
        "        print('Carregando o modelo BERT_base da comunidade...')\n",
        "\n",
        "        model = BertModel.from_pretrained('neuralmind/bert-base-portuguese-cased', \n",
        "                                          output_hidden_states = pesosCamadasOcultas) # Se o modelo retorna todos os estados ocultos)  \n",
        "    else:\n",
        "        # Carregando o Tokenizador da comunidade  \n",
        "        print('Carregando o tokenizador BERT_large da comunidade...')\n",
        "\n",
        "        tokenizer = BertTokenizer.from_pretrained('neuralmind/bert-large-portuguese-cased')  \n",
        "\n",
        "        # Carregando o Modelo da comunidade\n",
        "        print('Carregando o modelo BERT_large da comunidade...')\n",
        "\n",
        "        model = BertModel.from_pretrained('neuralmind/bert-large-portuguese-cased', \n",
        "                                          output_hidden_states = pesosCamadasOcultas) # Se o modelo retorna todos os estados ocultos)  \n"
      ],
      "execution_count": null,
      "outputs": [
        {
          "output_type": "stream",
          "text": [
            "Carregando o tokenizador BERT_large do diretório /content/modelo...\n",
            "Carregando o modelo BERT_large do diretório /content/modelo...\n"
          ],
          "name": "stdout"
        }
      ]
    },
    {
      "cell_type": "markdown",
      "metadata": {
        "id": "Tlv3VlPnKKHN"
      },
      "source": [
        "# 2 Formatando a entrada\n",
        "\n",
        "Como o BERT é um modelo pré-treinado que espera dados de entrada em um formato específico, precisaremos:\n",
        "\n",
        "1. Um **token especial, `[SEP]`,** para marcar o final de uma frase ou a separação entre duas frases\n",
        "2. Um **token especial, `[CLS]`,** no início do nosso texto. Este token é usado para tarefas de classificação, mas o BERT espera isso, não importa qual seja o seu aplicativo.\n",
        "3. Tokens que estão em conformidade com o vocabulário fixo usado em BERT\n",
        "4. Os **IDs de token** para os tokens, do tokenizer de BERT\n",
        "5. **Mask IDs** para indicar quais elementos na sequência são tokens e quais são elementos de preenchimento\n",
        "6. **IDs de segmento** usados ​​para distinguir frases diferentes\n",
        "7. **Embeddings posicionais** usados ​​para mostrar a posição do token dentro da sequência\n",
        "\n",
        "Felizmente, a interface `transformers` cuida de todos os requisitos acima (usando a função` tokenizer.encode_plus`).\n",
        "\n",
        "Uma vez que isso pretende ser uma introdução ao trabalho com BERT, no entanto, vamos realizar essas etapas de uma maneira (principalmente) manual.\n",
        "\n",
        "> * Para um exemplo de uso de `tokenizer.encode_plus`, consulte a próxima postagem sobre Classificação de frases [aqui](http://mccormickml.com/2019/07/22/BERT-fine-tuning/). *\n"
      ]
    },
    {
      "cell_type": "markdown",
      "metadata": {
        "id": "diVtyCJCurxJ"
      },
      "source": [
        "## 2.1. Tokens Especiais\n",
        "\n",
        "O BERT pode receber como entrada uma ou duas frases e usa o token especial `[SEP]` para diferenciá-las. O token `[CLS]` sempre aparece no início do texto e é específico para tarefas de classificação.\n",
        "\n",
        "Ambos os tokens são * sempre necessários *, no entanto, mesmo se tivermos apenas uma frase, e mesmo se não estivermos usando BERT para classificação. Foi assim que o BERT foi pré-treinado, e é isso que o BERT espera ver.\n",
        "\n",
        "**Entrada de 2 frases**:\n",
        "\n",
        "`[CLS] O homem foi à loja. [SEP] Ele comprou um galão de leite.\n",
        "\n",
        "**Entrada de 1 frase**:\n",
        "\n",
        "`[CLS] O homem foi à loja. [SEP] `\n",
        "\n"
      ]
    },
    {
      "cell_type": "markdown",
      "metadata": {
        "id": "3gsyrAwYvBfC"
      },
      "source": [
        "## 2.2. Tokenization"
      ]
    },
    {
      "cell_type": "markdown",
      "metadata": {
        "id": "2WafgQPLAWmo"
      },
      "source": [
        "O BERT fornece seu próprio tokenizer, que nós importamos acima. Vamos ver como ele lida com a frase abaixo."
      ]
    },
    {
      "cell_type": "code",
      "metadata": {
        "id": "Pg0P9rFxJwwp",
        "colab": {
          "base_uri": "https://localhost:8080/"
        },
        "outputId": "46aa594f-4812-4a62-e7b9-1df858749118"
      },
      "source": [
        "text = \"Aqui está uma frase para a qual quero embeddings.\"\n",
        "marked_text = \"[CLS] \" + text + \" [SEP]\"\n",
        "\n",
        "# Tokeniza a frase com o tokenizador BERT.\n",
        "tokenized_text = tokenizer.tokenize(marked_text)\n",
        "\n",
        "# Imprime os tokens.\n",
        "print (tokenized_text)"
      ],
      "execution_count": null,
      "outputs": [
        {
          "output_type": "stream",
          "text": [
            "['[CLS]', 'aqui', 'esta', 'uma', 'frase', 'para', 'a', 'qual', 'quero', 'em', '##be', '##dd', '##ings', '.', '[SEP]']\n"
          ],
          "name": "stdout"
        }
      ]
    },
    {
      "cell_type": "markdown",
      "metadata": {
        "id": "Q51eN4KAkbIJ"
      },
      "source": [
        "Observe como a palavra \"embeddings\" é representada:\n",
        "\n",
        "`['em', '##be', '##dd', '##ings'] `\n",
        "\n",
        "A palavra original foi dividida em subpalavras e caracteres menores. Os dois sinais de hash que precedem algumas dessas subpalavras são apenas a maneira do nosso tokenizer de indicar que essa subpalavra ou caractere é parte de uma palavra maior e precedida por outra subpalavra. Portanto, por exemplo, o token '##be' é separado do token 'be'; o primeiro é usado sempre que a subpalavra 'be' ocorre em uma palavra maior e o segundo é explicitamente usado quando ocorre o token  'be'.\n",
        "\n",
        "Por que parece assim? Isso ocorre porque o tokenizer BERT foi criado com um modelo do WordPiece. Esse modelo cria avidamente um vocabulário de tamanho fixo de caracteres, subpalavras e palavras individuais que melhor se ajustam aos nossos dados de idioma. Como o tamanho limite do vocabulário do nosso modelo de tokenizador BERT é 30.000, o modelo WordPiece gerou um vocabulário que contém todos os caracteres em inglês, além das ~ 30.000 palavras e subpalavras mais comuns encontradas no corpus em que o modelo é treinado. Este vocabulário contém quatro coisas:\n",
        "\n",
        "1. Palavras inteiras\n",
        "2. As subpalavras que ocorrem na frente de uma palavra ou isoladamente (\"em\" como em \"incorporação\" recebem o mesmo vetor que a sequência autônoma de caracteres \"em\" como em \"vá buscar\")\n",
        "3. Subpalavras que não estão na frente de uma palavra, precedidas por '##' para denotar este caso\n",
        "4. Caracteres individuais\n",
        "\n",
        "Para tokenizar uma palavra nesse modelo, o tokenizador primeiro verifica se a palavra inteira está no vocabulário. Caso contrário, ele tenta dividir a palavra nas maiores subpalavras possíveis contidas no vocabulário e, como último recurso, decompõe a palavra em caracteres individuais. Observe que, por isso, sempre podemos representar uma palavra como, no mínimo, a coleção de seus caracteres individuais.\n",
        "\n",
        "Como resultado, em vez de atribuir palavras do vocabulário a um token genérico como 'OOV' ou 'UNK', palavras que não estão no vocabulário são decompostas em subpalavras e tokens de caracteres para os quais podemos gerar incorporações.\n",
        "\n",
        "Portanto, em vez de atribuir \"incorporações\" e todas as outras palavras do vocabulário a um token de vocabulário desconhecido sobrecarregado, dividimos em tokens de subpalavras ['em', '## bed', '## ding', '## s' ] que reterão parte do significado contextual da palavra original. Podemos até calcular a média desses vetores de incorporação de subpalavras para gerar um vetor aproximado para a palavra original.\n",
        "\n",
        "\n",
        "(Para obter mais informações sobre o WordPiece, consulte o [artigo original](https://static.googleusercontent.com/media/research.google.com/en//pubs/archive/37842.pdf) e mais perguntas sobre o sistema do Google [Neural Machine Translation System](https://arxiv.org/pdf/1609.08144.pdf).)\n"
      ]
    },
    {
      "cell_type": "markdown",
      "metadata": {
        "id": "jp5zXAPBVp82"
      },
      "source": [
        "Aqui estão alguns exemplos dos tokens contidos em nosso vocabulário. Os tokens iniciados com dois hashes são subpalavras ou caracteres individuais.\n",
        "\n",
        "*Para uma exploração do conteúdo do vocabulário do BERT, consulte [este notebook](https://colab.research.google.com/drive/1fCKIBJ6fgWQ-f6UKs7wDTpNTL9N-Cq9X) que criei e o vídeo do YouTube que o acompanha [aqui](https://youtu.be/zJW57aCBCTk).*"
      ]
    },
    {
      "cell_type": "code",
      "metadata": {
        "id": "1z1SzuTrqx-7",
        "colab": {
          "base_uri": "https://localhost:8080/"
        },
        "outputId": "5be7586b-2104-4ea7-d274-cfa3dadb3ea9"
      },
      "source": [
        "list(tokenizer.vocab.keys())[5000:5020]"
      ],
      "execution_count": null,
      "outputs": [
        {
          "output_type": "execute_result",
          "data": {
            "text/plain": [
              "['##ariam',\n",
              " 'castelo',\n",
              " '181',\n",
              " 'vê',\n",
              " '##nais',\n",
              " 'meios',\n",
              " 'ocasião',\n",
              " 'contempor',\n",
              " 'Assembleia',\n",
              " 'manu',\n",
              " 'coorden',\n",
              " '70',\n",
              " 'opin',\n",
              " '##erta',\n",
              " 'Dezembro',\n",
              " 'conteúdo',\n",
              " 'compositor',\n",
              " '##pole',\n",
              " '##1)',\n",
              " 'Pereira']"
            ]
          },
          "metadata": {
            "tags": []
          },
          "execution_count": 7
        }
      ]
    },
    {
      "cell_type": "markdown",
      "metadata": {
        "id": "KqtNxrFCokxq"
      },
      "source": [
        "Quantidade de entradas no dicionário."
      ]
    },
    {
      "cell_type": "code",
      "metadata": {
        "id": "gOf7x3x-oceM",
        "colab": {
          "base_uri": "https://localhost:8080/"
        },
        "outputId": "6df04c90-ad77-4129-ae8b-7067dff47287"
      },
      "source": [
        "print(len(list(tokenizer.vocab.keys())))"
      ],
      "execution_count": null,
      "outputs": [
        {
          "output_type": "stream",
          "text": [
            "29794\n"
          ],
          "name": "stdout"
        }
      ]
    },
    {
      "cell_type": "markdown",
      "metadata": {
        "id": "HoF3LC47VgBb"
      },
      "source": [
        "Depois de dividir o texto em tokens, precisamos converter a sentença de uma lista de strings para uma lista de indeces de vocabulário.\n",
        "\n",
        "A partir daqui, usaremos a frase de exemplo abaixo, que contém duas instâncias da palavra \"banco\" com significados diferentes."
      ]
    },
    {
      "cell_type": "code",
      "metadata": {
        "id": "XYjcYJuXoAQx",
        "colab": {
          "base_uri": "https://localhost:8080/"
        },
        "outputId": "898d848b-f4c9-45b1-d3eb-3608ed657fa1"
      },
      "source": [
        "# Define um novo exemplo com múltiplos significados da palavra \"banco\"\n",
        "text = \"Depois de roubar o cofre do banco,\"\\\n",
        "       \" o ladrão de banco foi visto \" \\\n",
        "       \"sentado no banco da praça central.\"\n",
        "\n",
        "# Adiciona os tokens especiais.\n",
        "marked_text = \"[CLS] \" + text + \" [SEP]\"\n",
        "\n",
        "# Divide a frase em tokens.\n",
        "tokenized_text = tokenizer.tokenize(marked_text)\n",
        "\n",
        "# Mapeia os tokens em seus índices do vocabuário\n",
        "indexed_tokens = tokenizer.convert_tokens_to_ids(tokenized_text)\n",
        "\n",
        "# Mostra as palavras com seus índices.\n",
        "for tup in zip(tokenized_text, indexed_tokens):\n",
        "    print('{:<12} {:>6,}'.format(tup[0], tup[1]))"
      ],
      "execution_count": null,
      "outputs": [
        {
          "output_type": "stream",
          "text": [
            "[CLS]           101\n",
            "depois          700\n",
            "de              125\n",
            "roubar       16,150\n",
            "o               146\n",
            "co              144\n",
            "##fre         1,198\n",
            "do              171\n",
            "banco         6,465\n",
            ",               117\n",
            "o               146\n",
            "lad          13,503\n",
            "##ra            124\n",
            "##o          22,280\n",
            "de              125\n",
            "banco         6,465\n",
            "foi             262\n",
            "visto         3,382\n",
            "sentado      21,541\n",
            "no              202\n",
            "banco         6,465\n",
            "da              180\n",
            "pra           1,174\n",
            "##ca            304\n",
            "central       2,692\n",
            ".               119\n",
            "[SEP]           102\n"
          ],
          "name": "stdout"
        }
      ]
    },
    {
      "cell_type": "markdown",
      "metadata": {
        "id": "if6C_iCULU60"
      },
      "source": [
        "## 2.3. Segmento ID / Attention Mask\n",
        "\n",
        "O BERT é treinado e espera pares de frases, usando 1s e 0s para distinguir entre as duas frases. Ou seja, para cada token em \"tokenized_text\", devemos especificar a qual frase pertence: sentença 0 (uma série de 0s) ou sentença 1 (uma série de 1s). Para nossos propósitos, as entradas de sentença única requerem apenas uma série de 1s; portanto, criaremos um vetor de 1s para cada token em nossa frase de entrada.\n",
        "\n",
        "Se você deseja processar duas frases, atribua cada palavra na primeira frase mais o token '[SEP]' a 0 e todos os tokens da segunda frase a 1."
      ]
    },
    {
      "cell_type": "code",
      "metadata": {
        "id": "u_jEkVKxJMc0",
        "colab": {
          "base_uri": "https://localhost:8080/"
        },
        "outputId": "64a3f9d6-9dd5-4ec9-88dc-2cbc7724576d"
      },
      "source": [
        "# #Marca cada um dos tokens como pertencentes à frase \"1\".\n",
        "# Cria um vetor com o tamanho da quantidade de tokens do texto preenchidos com 1.\n",
        "segments_ids = [1] * len(tokenized_text)\n",
        "\n",
        "print (segments_ids)\n",
        "print(len(segments_ids))"
      ],
      "execution_count": null,
      "outputs": [
        {
          "output_type": "stream",
          "text": [
            "[1, 1, 1, 1, 1, 1, 1, 1, 1, 1, 1, 1, 1, 1, 1, 1, 1, 1, 1, 1, 1, 1, 1, 1, 1, 1, 1]\n",
            "27\n"
          ],
          "name": "stdout"
        }
      ]
    },
    {
      "cell_type": "markdown",
      "metadata": {
        "id": "c-nY9LASLr2L"
      },
      "source": [
        "# 3 Extraindo Embeddings \n",
        "\n"
      ]
    },
    {
      "cell_type": "markdown",
      "metadata": {
        "id": "_ZS_lTImjJnI"
      },
      "source": [
        "## 3.1. Rodando BERT no texto"
      ]
    },
    {
      "cell_type": "markdown",
      "metadata": {
        "id": "njDBQ036jHpc"
      },
      "source": [
        "Em seguida, precisamos converter nossos dados em tensores de tocha e chamar o modelo BERT. A interface BERT PyTorch exige que os dados estejam em tensores de tocha em vez de em listas Python; portanto, convertemos as listas aqui - isso não altera a forma ou os dados."
      ]
    },
    {
      "cell_type": "code",
      "metadata": {
        "id": "KitXPXHyZYHo"
      },
      "source": [
        "import torch\n",
        "\n",
        "# Converte as entradas para tensores PyTorch\n",
        "tokens_tensor = torch.tensor([indexed_tokens])\n",
        "segments_tensors = torch.tensor([segments_ids])"
      ],
      "execution_count": null,
      "outputs": []
    },
    {
      "cell_type": "markdown",
      "metadata": {
        "id": "ZqBEJKQnvRo5"
      },
      "source": [
        "Chamar `from_pretrained` buscará o modelo na Internet. Quando carregamos o `bert-base-uncased`, vemos a definição do modelo impressa no log. O modelo é uma rede neural profunda com 12 camadas! Explicar as camadas e suas funções está fora do escopo desta postagem, e você pode pular essa saída por enquanto.\n",
        "\n",
        "\n",
        "model.eval () coloca nosso modelo no modo de avaliação em oposição ao modo de treinamento. Nesse caso, o modo de avaliação desativa a regularização de abandono, usada no treinamento."
      ]
    },
    {
      "cell_type": "markdown",
      "metadata": {
        "id": "MJDuKUs_vebA"
      },
      "source": [
        "**O carregamento do modelo foi realizado com o tokenizador anteriormente.**"
      ]
    },
    {
      "cell_type": "code",
      "metadata": {
        "id": "Iqg_AEnQxg4j",
        "colab": {
          "base_uri": "https://localhost:8080/"
        },
        "outputId": "670d137a-55d7-4cca-9410-801a6b0bac4a"
      },
      "source": [
        "# coloca o modelo em modo \"avaliação\", significando operação de feed-forward(retro-alimentação).\n",
        "model.eval()"
      ],
      "execution_count": null,
      "outputs": [
        {
          "output_type": "execute_result",
          "data": {
            "text/plain": [
              "BertModel(\n",
              "  (embeddings): BertEmbeddings(\n",
              "    (word_embeddings): Embedding(29794, 1024, padding_idx=0)\n",
              "    (position_embeddings): Embedding(512, 1024)\n",
              "    (token_type_embeddings): Embedding(2, 1024)\n",
              "    (LayerNorm): LayerNorm((1024,), eps=1e-12, elementwise_affine=True)\n",
              "    (dropout): Dropout(p=0.1, inplace=False)\n",
              "  )\n",
              "  (encoder): BertEncoder(\n",
              "    (layer): ModuleList(\n",
              "      (0): BertLayer(\n",
              "        (attention): BertAttention(\n",
              "          (self): BertSelfAttention(\n",
              "            (query): Linear(in_features=1024, out_features=1024, bias=True)\n",
              "            (key): Linear(in_features=1024, out_features=1024, bias=True)\n",
              "            (value): Linear(in_features=1024, out_features=1024, bias=True)\n",
              "            (dropout): Dropout(p=0.1, inplace=False)\n",
              "          )\n",
              "          (output): BertSelfOutput(\n",
              "            (dense): Linear(in_features=1024, out_features=1024, bias=True)\n",
              "            (LayerNorm): LayerNorm((1024,), eps=1e-12, elementwise_affine=True)\n",
              "            (dropout): Dropout(p=0.1, inplace=False)\n",
              "          )\n",
              "        )\n",
              "        (intermediate): BertIntermediate(\n",
              "          (dense): Linear(in_features=1024, out_features=4096, bias=True)\n",
              "        )\n",
              "        (output): BertOutput(\n",
              "          (dense): Linear(in_features=4096, out_features=1024, bias=True)\n",
              "          (LayerNorm): LayerNorm((1024,), eps=1e-12, elementwise_affine=True)\n",
              "          (dropout): Dropout(p=0.1, inplace=False)\n",
              "        )\n",
              "      )\n",
              "      (1): BertLayer(\n",
              "        (attention): BertAttention(\n",
              "          (self): BertSelfAttention(\n",
              "            (query): Linear(in_features=1024, out_features=1024, bias=True)\n",
              "            (key): Linear(in_features=1024, out_features=1024, bias=True)\n",
              "            (value): Linear(in_features=1024, out_features=1024, bias=True)\n",
              "            (dropout): Dropout(p=0.1, inplace=False)\n",
              "          )\n",
              "          (output): BertSelfOutput(\n",
              "            (dense): Linear(in_features=1024, out_features=1024, bias=True)\n",
              "            (LayerNorm): LayerNorm((1024,), eps=1e-12, elementwise_affine=True)\n",
              "            (dropout): Dropout(p=0.1, inplace=False)\n",
              "          )\n",
              "        )\n",
              "        (intermediate): BertIntermediate(\n",
              "          (dense): Linear(in_features=1024, out_features=4096, bias=True)\n",
              "        )\n",
              "        (output): BertOutput(\n",
              "          (dense): Linear(in_features=4096, out_features=1024, bias=True)\n",
              "          (LayerNorm): LayerNorm((1024,), eps=1e-12, elementwise_affine=True)\n",
              "          (dropout): Dropout(p=0.1, inplace=False)\n",
              "        )\n",
              "      )\n",
              "      (2): BertLayer(\n",
              "        (attention): BertAttention(\n",
              "          (self): BertSelfAttention(\n",
              "            (query): Linear(in_features=1024, out_features=1024, bias=True)\n",
              "            (key): Linear(in_features=1024, out_features=1024, bias=True)\n",
              "            (value): Linear(in_features=1024, out_features=1024, bias=True)\n",
              "            (dropout): Dropout(p=0.1, inplace=False)\n",
              "          )\n",
              "          (output): BertSelfOutput(\n",
              "            (dense): Linear(in_features=1024, out_features=1024, bias=True)\n",
              "            (LayerNorm): LayerNorm((1024,), eps=1e-12, elementwise_affine=True)\n",
              "            (dropout): Dropout(p=0.1, inplace=False)\n",
              "          )\n",
              "        )\n",
              "        (intermediate): BertIntermediate(\n",
              "          (dense): Linear(in_features=1024, out_features=4096, bias=True)\n",
              "        )\n",
              "        (output): BertOutput(\n",
              "          (dense): Linear(in_features=4096, out_features=1024, bias=True)\n",
              "          (LayerNorm): LayerNorm((1024,), eps=1e-12, elementwise_affine=True)\n",
              "          (dropout): Dropout(p=0.1, inplace=False)\n",
              "        )\n",
              "      )\n",
              "      (3): BertLayer(\n",
              "        (attention): BertAttention(\n",
              "          (self): BertSelfAttention(\n",
              "            (query): Linear(in_features=1024, out_features=1024, bias=True)\n",
              "            (key): Linear(in_features=1024, out_features=1024, bias=True)\n",
              "            (value): Linear(in_features=1024, out_features=1024, bias=True)\n",
              "            (dropout): Dropout(p=0.1, inplace=False)\n",
              "          )\n",
              "          (output): BertSelfOutput(\n",
              "            (dense): Linear(in_features=1024, out_features=1024, bias=True)\n",
              "            (LayerNorm): LayerNorm((1024,), eps=1e-12, elementwise_affine=True)\n",
              "            (dropout): Dropout(p=0.1, inplace=False)\n",
              "          )\n",
              "        )\n",
              "        (intermediate): BertIntermediate(\n",
              "          (dense): Linear(in_features=1024, out_features=4096, bias=True)\n",
              "        )\n",
              "        (output): BertOutput(\n",
              "          (dense): Linear(in_features=4096, out_features=1024, bias=True)\n",
              "          (LayerNorm): LayerNorm((1024,), eps=1e-12, elementwise_affine=True)\n",
              "          (dropout): Dropout(p=0.1, inplace=False)\n",
              "        )\n",
              "      )\n",
              "      (4): BertLayer(\n",
              "        (attention): BertAttention(\n",
              "          (self): BertSelfAttention(\n",
              "            (query): Linear(in_features=1024, out_features=1024, bias=True)\n",
              "            (key): Linear(in_features=1024, out_features=1024, bias=True)\n",
              "            (value): Linear(in_features=1024, out_features=1024, bias=True)\n",
              "            (dropout): Dropout(p=0.1, inplace=False)\n",
              "          )\n",
              "          (output): BertSelfOutput(\n",
              "            (dense): Linear(in_features=1024, out_features=1024, bias=True)\n",
              "            (LayerNorm): LayerNorm((1024,), eps=1e-12, elementwise_affine=True)\n",
              "            (dropout): Dropout(p=0.1, inplace=False)\n",
              "          )\n",
              "        )\n",
              "        (intermediate): BertIntermediate(\n",
              "          (dense): Linear(in_features=1024, out_features=4096, bias=True)\n",
              "        )\n",
              "        (output): BertOutput(\n",
              "          (dense): Linear(in_features=4096, out_features=1024, bias=True)\n",
              "          (LayerNorm): LayerNorm((1024,), eps=1e-12, elementwise_affine=True)\n",
              "          (dropout): Dropout(p=0.1, inplace=False)\n",
              "        )\n",
              "      )\n",
              "      (5): BertLayer(\n",
              "        (attention): BertAttention(\n",
              "          (self): BertSelfAttention(\n",
              "            (query): Linear(in_features=1024, out_features=1024, bias=True)\n",
              "            (key): Linear(in_features=1024, out_features=1024, bias=True)\n",
              "            (value): Linear(in_features=1024, out_features=1024, bias=True)\n",
              "            (dropout): Dropout(p=0.1, inplace=False)\n",
              "          )\n",
              "          (output): BertSelfOutput(\n",
              "            (dense): Linear(in_features=1024, out_features=1024, bias=True)\n",
              "            (LayerNorm): LayerNorm((1024,), eps=1e-12, elementwise_affine=True)\n",
              "            (dropout): Dropout(p=0.1, inplace=False)\n",
              "          )\n",
              "        )\n",
              "        (intermediate): BertIntermediate(\n",
              "          (dense): Linear(in_features=1024, out_features=4096, bias=True)\n",
              "        )\n",
              "        (output): BertOutput(\n",
              "          (dense): Linear(in_features=4096, out_features=1024, bias=True)\n",
              "          (LayerNorm): LayerNorm((1024,), eps=1e-12, elementwise_affine=True)\n",
              "          (dropout): Dropout(p=0.1, inplace=False)\n",
              "        )\n",
              "      )\n",
              "      (6): BertLayer(\n",
              "        (attention): BertAttention(\n",
              "          (self): BertSelfAttention(\n",
              "            (query): Linear(in_features=1024, out_features=1024, bias=True)\n",
              "            (key): Linear(in_features=1024, out_features=1024, bias=True)\n",
              "            (value): Linear(in_features=1024, out_features=1024, bias=True)\n",
              "            (dropout): Dropout(p=0.1, inplace=False)\n",
              "          )\n",
              "          (output): BertSelfOutput(\n",
              "            (dense): Linear(in_features=1024, out_features=1024, bias=True)\n",
              "            (LayerNorm): LayerNorm((1024,), eps=1e-12, elementwise_affine=True)\n",
              "            (dropout): Dropout(p=0.1, inplace=False)\n",
              "          )\n",
              "        )\n",
              "        (intermediate): BertIntermediate(\n",
              "          (dense): Linear(in_features=1024, out_features=4096, bias=True)\n",
              "        )\n",
              "        (output): BertOutput(\n",
              "          (dense): Linear(in_features=4096, out_features=1024, bias=True)\n",
              "          (LayerNorm): LayerNorm((1024,), eps=1e-12, elementwise_affine=True)\n",
              "          (dropout): Dropout(p=0.1, inplace=False)\n",
              "        )\n",
              "      )\n",
              "      (7): BertLayer(\n",
              "        (attention): BertAttention(\n",
              "          (self): BertSelfAttention(\n",
              "            (query): Linear(in_features=1024, out_features=1024, bias=True)\n",
              "            (key): Linear(in_features=1024, out_features=1024, bias=True)\n",
              "            (value): Linear(in_features=1024, out_features=1024, bias=True)\n",
              "            (dropout): Dropout(p=0.1, inplace=False)\n",
              "          )\n",
              "          (output): BertSelfOutput(\n",
              "            (dense): Linear(in_features=1024, out_features=1024, bias=True)\n",
              "            (LayerNorm): LayerNorm((1024,), eps=1e-12, elementwise_affine=True)\n",
              "            (dropout): Dropout(p=0.1, inplace=False)\n",
              "          )\n",
              "        )\n",
              "        (intermediate): BertIntermediate(\n",
              "          (dense): Linear(in_features=1024, out_features=4096, bias=True)\n",
              "        )\n",
              "        (output): BertOutput(\n",
              "          (dense): Linear(in_features=4096, out_features=1024, bias=True)\n",
              "          (LayerNorm): LayerNorm((1024,), eps=1e-12, elementwise_affine=True)\n",
              "          (dropout): Dropout(p=0.1, inplace=False)\n",
              "        )\n",
              "      )\n",
              "      (8): BertLayer(\n",
              "        (attention): BertAttention(\n",
              "          (self): BertSelfAttention(\n",
              "            (query): Linear(in_features=1024, out_features=1024, bias=True)\n",
              "            (key): Linear(in_features=1024, out_features=1024, bias=True)\n",
              "            (value): Linear(in_features=1024, out_features=1024, bias=True)\n",
              "            (dropout): Dropout(p=0.1, inplace=False)\n",
              "          )\n",
              "          (output): BertSelfOutput(\n",
              "            (dense): Linear(in_features=1024, out_features=1024, bias=True)\n",
              "            (LayerNorm): LayerNorm((1024,), eps=1e-12, elementwise_affine=True)\n",
              "            (dropout): Dropout(p=0.1, inplace=False)\n",
              "          )\n",
              "        )\n",
              "        (intermediate): BertIntermediate(\n",
              "          (dense): Linear(in_features=1024, out_features=4096, bias=True)\n",
              "        )\n",
              "        (output): BertOutput(\n",
              "          (dense): Linear(in_features=4096, out_features=1024, bias=True)\n",
              "          (LayerNorm): LayerNorm((1024,), eps=1e-12, elementwise_affine=True)\n",
              "          (dropout): Dropout(p=0.1, inplace=False)\n",
              "        )\n",
              "      )\n",
              "      (9): BertLayer(\n",
              "        (attention): BertAttention(\n",
              "          (self): BertSelfAttention(\n",
              "            (query): Linear(in_features=1024, out_features=1024, bias=True)\n",
              "            (key): Linear(in_features=1024, out_features=1024, bias=True)\n",
              "            (value): Linear(in_features=1024, out_features=1024, bias=True)\n",
              "            (dropout): Dropout(p=0.1, inplace=False)\n",
              "          )\n",
              "          (output): BertSelfOutput(\n",
              "            (dense): Linear(in_features=1024, out_features=1024, bias=True)\n",
              "            (LayerNorm): LayerNorm((1024,), eps=1e-12, elementwise_affine=True)\n",
              "            (dropout): Dropout(p=0.1, inplace=False)\n",
              "          )\n",
              "        )\n",
              "        (intermediate): BertIntermediate(\n",
              "          (dense): Linear(in_features=1024, out_features=4096, bias=True)\n",
              "        )\n",
              "        (output): BertOutput(\n",
              "          (dense): Linear(in_features=4096, out_features=1024, bias=True)\n",
              "          (LayerNorm): LayerNorm((1024,), eps=1e-12, elementwise_affine=True)\n",
              "          (dropout): Dropout(p=0.1, inplace=False)\n",
              "        )\n",
              "      )\n",
              "      (10): BertLayer(\n",
              "        (attention): BertAttention(\n",
              "          (self): BertSelfAttention(\n",
              "            (query): Linear(in_features=1024, out_features=1024, bias=True)\n",
              "            (key): Linear(in_features=1024, out_features=1024, bias=True)\n",
              "            (value): Linear(in_features=1024, out_features=1024, bias=True)\n",
              "            (dropout): Dropout(p=0.1, inplace=False)\n",
              "          )\n",
              "          (output): BertSelfOutput(\n",
              "            (dense): Linear(in_features=1024, out_features=1024, bias=True)\n",
              "            (LayerNorm): LayerNorm((1024,), eps=1e-12, elementwise_affine=True)\n",
              "            (dropout): Dropout(p=0.1, inplace=False)\n",
              "          )\n",
              "        )\n",
              "        (intermediate): BertIntermediate(\n",
              "          (dense): Linear(in_features=1024, out_features=4096, bias=True)\n",
              "        )\n",
              "        (output): BertOutput(\n",
              "          (dense): Linear(in_features=4096, out_features=1024, bias=True)\n",
              "          (LayerNorm): LayerNorm((1024,), eps=1e-12, elementwise_affine=True)\n",
              "          (dropout): Dropout(p=0.1, inplace=False)\n",
              "        )\n",
              "      )\n",
              "      (11): BertLayer(\n",
              "        (attention): BertAttention(\n",
              "          (self): BertSelfAttention(\n",
              "            (query): Linear(in_features=1024, out_features=1024, bias=True)\n",
              "            (key): Linear(in_features=1024, out_features=1024, bias=True)\n",
              "            (value): Linear(in_features=1024, out_features=1024, bias=True)\n",
              "            (dropout): Dropout(p=0.1, inplace=False)\n",
              "          )\n",
              "          (output): BertSelfOutput(\n",
              "            (dense): Linear(in_features=1024, out_features=1024, bias=True)\n",
              "            (LayerNorm): LayerNorm((1024,), eps=1e-12, elementwise_affine=True)\n",
              "            (dropout): Dropout(p=0.1, inplace=False)\n",
              "          )\n",
              "        )\n",
              "        (intermediate): BertIntermediate(\n",
              "          (dense): Linear(in_features=1024, out_features=4096, bias=True)\n",
              "        )\n",
              "        (output): BertOutput(\n",
              "          (dense): Linear(in_features=4096, out_features=1024, bias=True)\n",
              "          (LayerNorm): LayerNorm((1024,), eps=1e-12, elementwise_affine=True)\n",
              "          (dropout): Dropout(p=0.1, inplace=False)\n",
              "        )\n",
              "      )\n",
              "      (12): BertLayer(\n",
              "        (attention): BertAttention(\n",
              "          (self): BertSelfAttention(\n",
              "            (query): Linear(in_features=1024, out_features=1024, bias=True)\n",
              "            (key): Linear(in_features=1024, out_features=1024, bias=True)\n",
              "            (value): Linear(in_features=1024, out_features=1024, bias=True)\n",
              "            (dropout): Dropout(p=0.1, inplace=False)\n",
              "          )\n",
              "          (output): BertSelfOutput(\n",
              "            (dense): Linear(in_features=1024, out_features=1024, bias=True)\n",
              "            (LayerNorm): LayerNorm((1024,), eps=1e-12, elementwise_affine=True)\n",
              "            (dropout): Dropout(p=0.1, inplace=False)\n",
              "          )\n",
              "        )\n",
              "        (intermediate): BertIntermediate(\n",
              "          (dense): Linear(in_features=1024, out_features=4096, bias=True)\n",
              "        )\n",
              "        (output): BertOutput(\n",
              "          (dense): Linear(in_features=4096, out_features=1024, bias=True)\n",
              "          (LayerNorm): LayerNorm((1024,), eps=1e-12, elementwise_affine=True)\n",
              "          (dropout): Dropout(p=0.1, inplace=False)\n",
              "        )\n",
              "      )\n",
              "      (13): BertLayer(\n",
              "        (attention): BertAttention(\n",
              "          (self): BertSelfAttention(\n",
              "            (query): Linear(in_features=1024, out_features=1024, bias=True)\n",
              "            (key): Linear(in_features=1024, out_features=1024, bias=True)\n",
              "            (value): Linear(in_features=1024, out_features=1024, bias=True)\n",
              "            (dropout): Dropout(p=0.1, inplace=False)\n",
              "          )\n",
              "          (output): BertSelfOutput(\n",
              "            (dense): Linear(in_features=1024, out_features=1024, bias=True)\n",
              "            (LayerNorm): LayerNorm((1024,), eps=1e-12, elementwise_affine=True)\n",
              "            (dropout): Dropout(p=0.1, inplace=False)\n",
              "          )\n",
              "        )\n",
              "        (intermediate): BertIntermediate(\n",
              "          (dense): Linear(in_features=1024, out_features=4096, bias=True)\n",
              "        )\n",
              "        (output): BertOutput(\n",
              "          (dense): Linear(in_features=4096, out_features=1024, bias=True)\n",
              "          (LayerNorm): LayerNorm((1024,), eps=1e-12, elementwise_affine=True)\n",
              "          (dropout): Dropout(p=0.1, inplace=False)\n",
              "        )\n",
              "      )\n",
              "      (14): BertLayer(\n",
              "        (attention): BertAttention(\n",
              "          (self): BertSelfAttention(\n",
              "            (query): Linear(in_features=1024, out_features=1024, bias=True)\n",
              "            (key): Linear(in_features=1024, out_features=1024, bias=True)\n",
              "            (value): Linear(in_features=1024, out_features=1024, bias=True)\n",
              "            (dropout): Dropout(p=0.1, inplace=False)\n",
              "          )\n",
              "          (output): BertSelfOutput(\n",
              "            (dense): Linear(in_features=1024, out_features=1024, bias=True)\n",
              "            (LayerNorm): LayerNorm((1024,), eps=1e-12, elementwise_affine=True)\n",
              "            (dropout): Dropout(p=0.1, inplace=False)\n",
              "          )\n",
              "        )\n",
              "        (intermediate): BertIntermediate(\n",
              "          (dense): Linear(in_features=1024, out_features=4096, bias=True)\n",
              "        )\n",
              "        (output): BertOutput(\n",
              "          (dense): Linear(in_features=4096, out_features=1024, bias=True)\n",
              "          (LayerNorm): LayerNorm((1024,), eps=1e-12, elementwise_affine=True)\n",
              "          (dropout): Dropout(p=0.1, inplace=False)\n",
              "        )\n",
              "      )\n",
              "      (15): BertLayer(\n",
              "        (attention): BertAttention(\n",
              "          (self): BertSelfAttention(\n",
              "            (query): Linear(in_features=1024, out_features=1024, bias=True)\n",
              "            (key): Linear(in_features=1024, out_features=1024, bias=True)\n",
              "            (value): Linear(in_features=1024, out_features=1024, bias=True)\n",
              "            (dropout): Dropout(p=0.1, inplace=False)\n",
              "          )\n",
              "          (output): BertSelfOutput(\n",
              "            (dense): Linear(in_features=1024, out_features=1024, bias=True)\n",
              "            (LayerNorm): LayerNorm((1024,), eps=1e-12, elementwise_affine=True)\n",
              "            (dropout): Dropout(p=0.1, inplace=False)\n",
              "          )\n",
              "        )\n",
              "        (intermediate): BertIntermediate(\n",
              "          (dense): Linear(in_features=1024, out_features=4096, bias=True)\n",
              "        )\n",
              "        (output): BertOutput(\n",
              "          (dense): Linear(in_features=4096, out_features=1024, bias=True)\n",
              "          (LayerNorm): LayerNorm((1024,), eps=1e-12, elementwise_affine=True)\n",
              "          (dropout): Dropout(p=0.1, inplace=False)\n",
              "        )\n",
              "      )\n",
              "      (16): BertLayer(\n",
              "        (attention): BertAttention(\n",
              "          (self): BertSelfAttention(\n",
              "            (query): Linear(in_features=1024, out_features=1024, bias=True)\n",
              "            (key): Linear(in_features=1024, out_features=1024, bias=True)\n",
              "            (value): Linear(in_features=1024, out_features=1024, bias=True)\n",
              "            (dropout): Dropout(p=0.1, inplace=False)\n",
              "          )\n",
              "          (output): BertSelfOutput(\n",
              "            (dense): Linear(in_features=1024, out_features=1024, bias=True)\n",
              "            (LayerNorm): LayerNorm((1024,), eps=1e-12, elementwise_affine=True)\n",
              "            (dropout): Dropout(p=0.1, inplace=False)\n",
              "          )\n",
              "        )\n",
              "        (intermediate): BertIntermediate(\n",
              "          (dense): Linear(in_features=1024, out_features=4096, bias=True)\n",
              "        )\n",
              "        (output): BertOutput(\n",
              "          (dense): Linear(in_features=4096, out_features=1024, bias=True)\n",
              "          (LayerNorm): LayerNorm((1024,), eps=1e-12, elementwise_affine=True)\n",
              "          (dropout): Dropout(p=0.1, inplace=False)\n",
              "        )\n",
              "      )\n",
              "      (17): BertLayer(\n",
              "        (attention): BertAttention(\n",
              "          (self): BertSelfAttention(\n",
              "            (query): Linear(in_features=1024, out_features=1024, bias=True)\n",
              "            (key): Linear(in_features=1024, out_features=1024, bias=True)\n",
              "            (value): Linear(in_features=1024, out_features=1024, bias=True)\n",
              "            (dropout): Dropout(p=0.1, inplace=False)\n",
              "          )\n",
              "          (output): BertSelfOutput(\n",
              "            (dense): Linear(in_features=1024, out_features=1024, bias=True)\n",
              "            (LayerNorm): LayerNorm((1024,), eps=1e-12, elementwise_affine=True)\n",
              "            (dropout): Dropout(p=0.1, inplace=False)\n",
              "          )\n",
              "        )\n",
              "        (intermediate): BertIntermediate(\n",
              "          (dense): Linear(in_features=1024, out_features=4096, bias=True)\n",
              "        )\n",
              "        (output): BertOutput(\n",
              "          (dense): Linear(in_features=4096, out_features=1024, bias=True)\n",
              "          (LayerNorm): LayerNorm((1024,), eps=1e-12, elementwise_affine=True)\n",
              "          (dropout): Dropout(p=0.1, inplace=False)\n",
              "        )\n",
              "      )\n",
              "      (18): BertLayer(\n",
              "        (attention): BertAttention(\n",
              "          (self): BertSelfAttention(\n",
              "            (query): Linear(in_features=1024, out_features=1024, bias=True)\n",
              "            (key): Linear(in_features=1024, out_features=1024, bias=True)\n",
              "            (value): Linear(in_features=1024, out_features=1024, bias=True)\n",
              "            (dropout): Dropout(p=0.1, inplace=False)\n",
              "          )\n",
              "          (output): BertSelfOutput(\n",
              "            (dense): Linear(in_features=1024, out_features=1024, bias=True)\n",
              "            (LayerNorm): LayerNorm((1024,), eps=1e-12, elementwise_affine=True)\n",
              "            (dropout): Dropout(p=0.1, inplace=False)\n",
              "          )\n",
              "        )\n",
              "        (intermediate): BertIntermediate(\n",
              "          (dense): Linear(in_features=1024, out_features=4096, bias=True)\n",
              "        )\n",
              "        (output): BertOutput(\n",
              "          (dense): Linear(in_features=4096, out_features=1024, bias=True)\n",
              "          (LayerNorm): LayerNorm((1024,), eps=1e-12, elementwise_affine=True)\n",
              "          (dropout): Dropout(p=0.1, inplace=False)\n",
              "        )\n",
              "      )\n",
              "      (19): BertLayer(\n",
              "        (attention): BertAttention(\n",
              "          (self): BertSelfAttention(\n",
              "            (query): Linear(in_features=1024, out_features=1024, bias=True)\n",
              "            (key): Linear(in_features=1024, out_features=1024, bias=True)\n",
              "            (value): Linear(in_features=1024, out_features=1024, bias=True)\n",
              "            (dropout): Dropout(p=0.1, inplace=False)\n",
              "          )\n",
              "          (output): BertSelfOutput(\n",
              "            (dense): Linear(in_features=1024, out_features=1024, bias=True)\n",
              "            (LayerNorm): LayerNorm((1024,), eps=1e-12, elementwise_affine=True)\n",
              "            (dropout): Dropout(p=0.1, inplace=False)\n",
              "          )\n",
              "        )\n",
              "        (intermediate): BertIntermediate(\n",
              "          (dense): Linear(in_features=1024, out_features=4096, bias=True)\n",
              "        )\n",
              "        (output): BertOutput(\n",
              "          (dense): Linear(in_features=4096, out_features=1024, bias=True)\n",
              "          (LayerNorm): LayerNorm((1024,), eps=1e-12, elementwise_affine=True)\n",
              "          (dropout): Dropout(p=0.1, inplace=False)\n",
              "        )\n",
              "      )\n",
              "      (20): BertLayer(\n",
              "        (attention): BertAttention(\n",
              "          (self): BertSelfAttention(\n",
              "            (query): Linear(in_features=1024, out_features=1024, bias=True)\n",
              "            (key): Linear(in_features=1024, out_features=1024, bias=True)\n",
              "            (value): Linear(in_features=1024, out_features=1024, bias=True)\n",
              "            (dropout): Dropout(p=0.1, inplace=False)\n",
              "          )\n",
              "          (output): BertSelfOutput(\n",
              "            (dense): Linear(in_features=1024, out_features=1024, bias=True)\n",
              "            (LayerNorm): LayerNorm((1024,), eps=1e-12, elementwise_affine=True)\n",
              "            (dropout): Dropout(p=0.1, inplace=False)\n",
              "          )\n",
              "        )\n",
              "        (intermediate): BertIntermediate(\n",
              "          (dense): Linear(in_features=1024, out_features=4096, bias=True)\n",
              "        )\n",
              "        (output): BertOutput(\n",
              "          (dense): Linear(in_features=4096, out_features=1024, bias=True)\n",
              "          (LayerNorm): LayerNorm((1024,), eps=1e-12, elementwise_affine=True)\n",
              "          (dropout): Dropout(p=0.1, inplace=False)\n",
              "        )\n",
              "      )\n",
              "      (21): BertLayer(\n",
              "        (attention): BertAttention(\n",
              "          (self): BertSelfAttention(\n",
              "            (query): Linear(in_features=1024, out_features=1024, bias=True)\n",
              "            (key): Linear(in_features=1024, out_features=1024, bias=True)\n",
              "            (value): Linear(in_features=1024, out_features=1024, bias=True)\n",
              "            (dropout): Dropout(p=0.1, inplace=False)\n",
              "          )\n",
              "          (output): BertSelfOutput(\n",
              "            (dense): Linear(in_features=1024, out_features=1024, bias=True)\n",
              "            (LayerNorm): LayerNorm((1024,), eps=1e-12, elementwise_affine=True)\n",
              "            (dropout): Dropout(p=0.1, inplace=False)\n",
              "          )\n",
              "        )\n",
              "        (intermediate): BertIntermediate(\n",
              "          (dense): Linear(in_features=1024, out_features=4096, bias=True)\n",
              "        )\n",
              "        (output): BertOutput(\n",
              "          (dense): Linear(in_features=4096, out_features=1024, bias=True)\n",
              "          (LayerNorm): LayerNorm((1024,), eps=1e-12, elementwise_affine=True)\n",
              "          (dropout): Dropout(p=0.1, inplace=False)\n",
              "        )\n",
              "      )\n",
              "      (22): BertLayer(\n",
              "        (attention): BertAttention(\n",
              "          (self): BertSelfAttention(\n",
              "            (query): Linear(in_features=1024, out_features=1024, bias=True)\n",
              "            (key): Linear(in_features=1024, out_features=1024, bias=True)\n",
              "            (value): Linear(in_features=1024, out_features=1024, bias=True)\n",
              "            (dropout): Dropout(p=0.1, inplace=False)\n",
              "          )\n",
              "          (output): BertSelfOutput(\n",
              "            (dense): Linear(in_features=1024, out_features=1024, bias=True)\n",
              "            (LayerNorm): LayerNorm((1024,), eps=1e-12, elementwise_affine=True)\n",
              "            (dropout): Dropout(p=0.1, inplace=False)\n",
              "          )\n",
              "        )\n",
              "        (intermediate): BertIntermediate(\n",
              "          (dense): Linear(in_features=1024, out_features=4096, bias=True)\n",
              "        )\n",
              "        (output): BertOutput(\n",
              "          (dense): Linear(in_features=4096, out_features=1024, bias=True)\n",
              "          (LayerNorm): LayerNorm((1024,), eps=1e-12, elementwise_affine=True)\n",
              "          (dropout): Dropout(p=0.1, inplace=False)\n",
              "        )\n",
              "      )\n",
              "      (23): BertLayer(\n",
              "        (attention): BertAttention(\n",
              "          (self): BertSelfAttention(\n",
              "            (query): Linear(in_features=1024, out_features=1024, bias=True)\n",
              "            (key): Linear(in_features=1024, out_features=1024, bias=True)\n",
              "            (value): Linear(in_features=1024, out_features=1024, bias=True)\n",
              "            (dropout): Dropout(p=0.1, inplace=False)\n",
              "          )\n",
              "          (output): BertSelfOutput(\n",
              "            (dense): Linear(in_features=1024, out_features=1024, bias=True)\n",
              "            (LayerNorm): LayerNorm((1024,), eps=1e-12, elementwise_affine=True)\n",
              "            (dropout): Dropout(p=0.1, inplace=False)\n",
              "          )\n",
              "        )\n",
              "        (intermediate): BertIntermediate(\n",
              "          (dense): Linear(in_features=1024, out_features=4096, bias=True)\n",
              "        )\n",
              "        (output): BertOutput(\n",
              "          (dense): Linear(in_features=4096, out_features=1024, bias=True)\n",
              "          (LayerNorm): LayerNorm((1024,), eps=1e-12, elementwise_affine=True)\n",
              "          (dropout): Dropout(p=0.1, inplace=False)\n",
              "        )\n",
              "      )\n",
              "    )\n",
              "  )\n",
              "  (pooler): BertPooler(\n",
              "    (dense): Linear(in_features=1024, out_features=1024, bias=True)\n",
              "    (activation): Tanh()\n",
              "  )\n",
              ")"
            ]
          },
          "metadata": {
            "tags": []
          },
          "execution_count": 12
        }
      ]
    },
    {
      "cell_type": "markdown",
      "metadata": {
        "id": "OZ9TtnzDvpSV"
      },
      "source": [
        "Em seguida, vamos buscar os estados ocultos da rede.\n",
        "\n",
        "torch.no_grad desativa os cálculos de gradiente, economiza memória e acelera o cálculo (não precisamos de gradientes ou de retropaginação, pois estamos executando apenas um avanço)"
      ]
    },
    {
      "cell_type": "code",
      "metadata": {
        "id": "nN0QTZwiMzeq"
      },
      "source": [
        "# Roda o texto através do BERT, e coleta todos os estados ocultos produzidos\n",
        "# das 12 ou 24 camadas. \n",
        "with torch.no_grad():\n",
        "\n",
        "    outputs = model(tokens_tensor, segments_tensors)\n",
        "\n",
        "    # A avaliação do modelo retorna um número de diferentes objetos com base em\n",
        "    # como é configurado na chamada do método `from_pretrained` anterior. Nesse caso,\n",
        "    # porque definimos `output_hidden_states = True`, o terceiro item será o\n",
        "    # estados ocultos(hidden_states) de todas as camadas. Veja a documentação para mais detalhes:\n",
        "    # https://huggingface.co/transformers/model_doc/bert.html#bertmodel\n",
        "\n",
        "    # Retorno de model quando ´last_hidden_state=True´ é setado:    \n",
        "    # outputs[0] = last_hidden_state, outputs[1] = pooler_output, outputs[2] = hidden_states\n",
        " \n",
        "    hidden_states = outputs[2]\n",
        "    last_hidden_state = outputs[0]"
      ],
      "execution_count": null,
      "outputs": []
    },
    {
      "cell_type": "markdown",
      "metadata": {
        "id": "UeQNEFbUgMSf"
      },
      "source": [
        "## 3.2. Entendendo a Saída\n",
        "\n",
        "O conjunto completo de estados ocultos para este modelo, armazenados no objeto `encoded_layers`, é um pouco estonteante. Este objeto tem quatro dimensões, na seguinte ordem: Na última versão do Transformer somente a última dimensão das camadas é mantida.\n",
        "\n",
        "1. O número da camada (camada de entrada mais 12  ou 24 camadas oculta)(somente a última está disponível quando o modelo receber o parâmetro ´output_hidden_states = False´)\n",
        "2. O número do lote (1 frase)\n",
        "3. O número da palavra / token (22 tokens em nossa frase)\n",
        "4. O número da unidade / recurso oculto (768 ou 1024 recursos)\n",
        "\n",
        "São 202.752 valores únicos apenas para representar nossa única frase!\n",
        "\n",
        "A segunda dimensão, o tamanho do lote(batch size = 1), é usada ao enviar várias frases para o modelo de uma só vez; aqui, porém, temos apenas um exemplo de sentença."
      ]
    },
    {
      "cell_type": "code",
      "metadata": {
        "id": "fRPMNDwmut2C",
        "colab": {
          "base_uri": "https://localhost:8080/"
        },
        "outputId": "79acf545-f85a-438a-9580-6f8753a25674"
      },
      "source": [
        "print (\"Número de camadas:\", len(hidden_states), \"  (embeddings inicial + (12 ou 24) camadas do BERT)\")\n",
        "layer_i = 0\n",
        "\n",
        "print (\"Número de lotes(batches):\", len(hidden_states[layer_i]))\n",
        "batch_i = 0\n",
        "\n",
        "print (\"Número de tokens:\", len(hidden_states[layer_i][batch_i]))\n",
        "token_i = 0\n",
        "\n",
        "print (\"Número de unidades ocultas:\", len(hidden_states[layer_i][batch_i][token_i]))\n"
      ],
      "execution_count": null,
      "outputs": [
        {
          "output_type": "stream",
          "text": [
            "Número de camadas: 25   (embeddings inicial + 12 camadas do BERT)\n",
            "Número de lotes(batches): 1\n",
            "Número de tokens: 27\n",
            "Número de unidades ocultas: 1024\n"
          ],
          "name": "stdout"
        }
      ]
    },
    {
      "cell_type": "markdown",
      "metadata": {
        "id": "6Uc_S_hmOWe7"
      },
      "source": [
        "Vamos dar uma rápida olhada no intervalo de valores para uma determinada camada e token.\n",
        "\n",
        "Você verá que o intervalo é bastante semelhante para todas as camadas e tokens, com a maioria dos valores variando entre \\[-2.5, 2.5\\] e um pequeno número de valores em torno de -10."
      ]
    },
    {
      "cell_type": "code",
      "metadata": {
        "id": "-UF_OAO-S1sP",
        "colab": {
          "base_uri": "https://localhost:8080/",
          "height": 610
        },
        "outputId": "9588981b-27d4-4a00-9751-4c1a4879ffd8"
      },
      "source": [
        "# Import da biblioteca gráfica\n",
        "import matplotlib.pyplot as plt\n",
        "%matplotlib inline\n",
        "\n",
        "# Para o oitavo token na frase, seleciona os valores das características da camada 5.\n",
        "layer_i = 5\n",
        "batch_i = 0\n",
        "token_i = 8\n",
        "vec = hidden_states[layer_i][batch_i][token_i]\n",
        "\n",
        "# Mostra as palavras com seu token_i\n",
        "print((tokenized_text[token_i], indexed_tokens[token_i]))\n",
        "\n",
        "# Desenha os valores como um histograma para mostrar sua distribuição\n",
        "plt.figure(figsize=(10,10))\n",
        "plt.hist(vec, bins=200)\n",
        "plt.show()"
      ],
      "execution_count": null,
      "outputs": [
        {
          "output_type": "stream",
          "text": [
            "('banco', 6465)\n"
          ],
          "name": "stdout"
        },
        {
          "output_type": "display_data",
          "data": {
            "image/png": "[encoded data removed]",
            "text/plain": [
              "<Figure size 720x720 with 1 Axes>"
            ]
          },
          "metadata": {
            "tags": [],
            "needs_background": "light"
          }
        }
      ]
    },
    {
      "cell_type": "markdown",
      "metadata": {
        "id": "n194RcReDYfw"
      },
      "source": [
        "Agrupar os valores por camada faz sentido para o modelo, mas para nossos propósitos, queremos que ele seja agrupado por token.\n",
        "\n",
        "Dimensões atuais:\n",
        "\n",
        "`[# camadas, # lotes, # tokens, # características]`\n",
        "\n",
        "`[# layers, # batches, # tokens, # features]`\n",
        "\n",
        "Dimensões desejadas:\n",
        "\n",
        "`[# tokens, # camadas, # características]`\n",
        "\n",
        "`[# tokens, # layers, # features]`\n",
        "\n",
        "Felizmente, o PyTorch inclui a função `permute` para reorganizar facilmente as dimensões de um tensor.\n",
        "\n",
        "No entanto, a primeira dimensão é atualmente uma lista Python!\n"
      ]
    },
    {
      "cell_type": "code",
      "metadata": {
        "id": "0CcY_oRwcHlS",
        "colab": {
          "base_uri": "https://localhost:8080/"
        },
        "outputId": "0cb185db-906c-42d3-af1c-7c8faeac25bc"
      },
      "source": [
        "# `hidden_states` é uma lista  Python.\n",
        "print('           Tipo de estados ocultos: ', type(hidden_states))\n",
        "\n",
        "# Cada elemento na lista é um tensor torch.\n",
        "print('Formato do Tensor para cada camada: ', hidden_states[0].size())"
      ],
      "execution_count": null,
      "outputs": [
        {
          "output_type": "stream",
          "text": [
            "           Tipo de estados ocultos:  <class 'tuple'>\n",
            "Formato do Tensor para cada camada:  torch.Size([1, 27, 1024])\n"
          ],
          "name": "stdout"
        }
      ]
    },
    {
      "cell_type": "markdown",
      "metadata": {
        "id": "1yXZjLSke3F0"
      },
      "source": [
        "Vamos combinar as 12 camadas para fazer todo esse grande tensor."
      ]
    },
    {
      "cell_type": "code",
      "metadata": {
        "id": "pTJV8AFFcLbL",
        "colab": {
          "base_uri": "https://localhost:8080/"
        },
        "outputId": "fa1ae5b7-bebe-4ec1-c6b2-ced6ca2d294f"
      },
      "source": [
        "# Concatena os tensores de todas as camadas. Usa o método `stack` para \n",
        "# criar uma nova dimensão no tensor.\n",
        "token_embeddings = torch.stack(hidden_states, dim=0)\n",
        "\n",
        "token_embeddings.size()"
      ],
      "execution_count": null,
      "outputs": [
        {
          "output_type": "execute_result",
          "data": {
            "text/plain": [
              "torch.Size([25, 1, 27, 1024])"
            ]
          },
          "metadata": {
            "tags": []
          },
          "execution_count": 17
        }
      ]
    },
    {
      "cell_type": "markdown",
      "metadata": {
        "id": "rnBv2TUNhzf4"
      },
      "source": [
        "Vamos nos livrar da dimensão \"batches\", pois não precisamos dela."
      ]
    },
    {
      "cell_type": "code",
      "metadata": {
        "id": "En4JZ41fh6CI",
        "colab": {
          "base_uri": "https://localhost:8080/"
        },
        "outputId": "f1d307b5-0f3e-4564-f83d-fb36ee43a468"
      },
      "source": [
        "# Remove a dimensão 1, o lote \"batches\".\n",
        "# Usa o método 'squeeze' para remover a primeira dimensão(0) pois possui tamanho 1\n",
        "token_embeddings = torch.squeeze(token_embeddings, dim=1)\n",
        "\n",
        "token_embeddings.size()"
      ],
      "execution_count": null,
      "outputs": [
        {
          "output_type": "execute_result",
          "data": {
            "text/plain": [
              "torch.Size([25, 27, 1024])"
            ]
          },
          "metadata": {
            "tags": []
          },
          "execution_count": 18
        }
      ]
    },
    {
      "cell_type": "markdown",
      "metadata": {
        "id": "gnZtWWaNwrZ-"
      },
      "source": [
        "Finalmente, podemos alternar as dimensões \"layers\" e \"tokens\" com `permute`."
      ]
    },
    {
      "cell_type": "code",
      "metadata": {
        "id": "rap1FosMwrsI",
        "colab": {
          "base_uri": "https://localhost:8080/"
        },
        "outputId": "77cc9a03-0f02-446e-f299-4e12596e1ecc"
      },
      "source": [
        "# Troca a dimensão 0 e 1.\n",
        "token_embeddings = token_embeddings.permute(1,0,2)\n",
        "\n",
        "token_embeddings.size()"
      ],
      "execution_count": null,
      "outputs": [
        {
          "output_type": "execute_result",
          "data": {
            "text/plain": [
              "torch.Size([27, 25, 1024])"
            ]
          },
          "metadata": {
            "tags": []
          },
          "execution_count": 19
        }
      ]
    },
    {
      "cell_type": "markdown",
      "metadata": {
        "id": "Ey5RhOQ7NGtz"
      },
      "source": [
        "## 3.3. Criando vetores de palavras e frases a partir de estados ocultos\n",
        "\n",
        "Agora, o que fazemos com esses estados ocultos? Gostaríamos de obter vetores individuais para cada um de nossos tokens, ou talvez uma única representação vetorial de toda a sentença, mas para cada token de nossa entrada, temos 12 vetores separados, cada um de comprimento 768.\n",
        "\n",
        "Para obter os vetores individuais, precisamos combinar alguns dos vetores de camada ... mas qual camada ou combinação de camadas fornece a melhor representação? Os autores do BERT testaram isso alimentando diferentes combinações de vetores como recursos de entrada para um BiLSTM usado em uma tarefa de reconhecimento de entidade nomeada e observando as pontuações F1 resultantes.\n",
        "\n",
        "(Imagem de [Jay Allamar](http://jalammar.github.io/illustrated-bert/)'s blog)\n",
        "\n",
        "\n",
        "![alt text](http://jalammar.github.io/images/bert-feature-extraction-contextualized-embeddings.png)\n",
        "\n",
        "Embora a concatenação das últimas quatro camadas tenha produzido os melhores resultados nessa tarefa específica, muitos dos outros métodos ocorrem em um segundo próximo e, em geral, é aconselhável testar versões diferentes para sua aplicação específica: os resultados podem variar.\n",
        "\n",
        "Isso é parcialmente demonstrado ao observar que as diferentes camadas do BERT codificam tipos muito diferentes de informações, portanto, a estratégia de pool apropriada será alterada dependendo do aplicativo, porque diferentes camadas codificam diferentes tipos de informações. A discussão de Hanxiao sobre esse tópico é relevante, assim como seus experimentos analisando as visualizações de diferentes camadas do PCA treinadas em um conjunto de dados de notícias e observando as diferenças nas quatro separações de classe das diferentes estratégias de agrupamento:\n",
        "\n",
        "(Imagens de [Hanxiao's](https://github.com/hanxiao/bert-as-service) BERT-as-a-service)\n",
        "\n",
        "![alt text](https://raw.githubusercontent.com/hanxiao/bert-as-service/master/.github/pool_mean.png)\n",
        "![alt text](https://raw.githubusercontent.com/hanxiao/bert-as-service/master/.github/pool_max.png)\n",
        "\n",
        "O resultado é que, novamente **, a estratégia de pool correta (média, max, concatenação etc.) e as camadas usadas (quatro últimas, todas, última camada etc.) dependem do aplicativo**. Essa discussão sobre estratégias de agrupamento se aplica tanto a inserções inteiras de frases quanto a inserções individuais de tokens semelhantes a ELMO.\n",
        "\n",
        "\n",
        "\n",
        "\n",
        "\n"
      ]
    },
    {
      "cell_type": "markdown",
      "metadata": {
        "id": "76TdtFH8NM9q"
      },
      "source": [
        "### Vetores de Palavras\n",
        "\n",
        "Para dar alguns exemplos, vamos criar vetores de palavras de duas maneiras.\n",
        "\n",
        "Primeiro, vamos **concatenar** as últimas quatro camadas, fornecendo um vetor de palavra única por token. Cada vetor terá o comprimento `4 x 768 = 3.072` ou `4 x 1024 = 4.096`."
      ]
    },
    {
      "cell_type": "markdown",
      "metadata": {
        "id": "6H60ix5cxhQ4"
      },
      "source": [
        "#### Concatenando os vetores de palavras"
      ]
    },
    {
      "cell_type": "code",
      "metadata": {
        "id": "84jBG23ixHdC",
        "colab": {
          "base_uri": "https://localhost:8080/"
        },
        "outputId": "d2ca885f-29bd-4fde-cb98-b2159c0a91d3"
      },
      "source": [
        "# Armazena um vetor de tokens, com o formato [25 x 4,096]\n",
        "token_vecs_cat = []\n",
        "\n",
        "# `token_embeddings` is a [25 x 13 x 768] ou [25 x 25 x 1024] tensor.\n",
        "\n",
        "# Para cada token na frase...\n",
        "for token in token_embeddings:\n",
        "    \n",
        "    # `token` é um tensor[13 x 768]\n",
        "\n",
        "    # Concatene os vetores (ou seja, juntando-os) a partir das quatro últimas    \n",
        "    # Cada vetor da camada são 768 ou 1024 valores, então `cat_vec` é de tamanho 3,072 ou 4,096.\n",
        "    cat_vec = torch.cat((token[-1], token[-2], token[-3], token[-4]), dim=0)\n",
        "    \n",
        "    # Usa `cat_vec` para representar `token`.\n",
        "    token_vecs_cat.append(cat_vec)\n",
        "\n",
        "print ('Formato é: %d x %d' % (len(token_vecs_cat), len(token_vecs_cat[0])))"
      ],
      "execution_count": null,
      "outputs": [
        {
          "output_type": "stream",
          "text": [
            "Formato é: 27 x 4096\n"
          ],
          "name": "stdout"
        }
      ]
    },
    {
      "cell_type": "markdown",
      "metadata": {
        "id": "ncmkq6_Zxm73"
      },
      "source": [
        "#### Somando os vetores de palavras"
      ]
    },
    {
      "cell_type": "markdown",
      "metadata": {
        "id": "VnWaByfelM-e"
      },
      "source": [
        "Como método alternativo, vamos tentar criar os vetores de palavras **somando/summing** juntas as últimas quatro camadas."
      ]
    },
    {
      "cell_type": "code",
      "metadata": {
        "id": "j4DKDtFwiF0S",
        "colab": {
          "base_uri": "https://localhost:8080/"
        },
        "outputId": "44b61dcb-5b04-4fa5-f5c2-8757084e1110"
      },
      "source": [
        "# Armazena o vetor de tokens, com o formato [25 x 768] ou [25 x 1024]\n",
        "token_vecs_sum = []\n",
        "\n",
        "# `token_embeddings` é um tensor [25 x 12 x 768] ou [25 x 24 x 1024].\n",
        "\n",
        "# Para cada token na frase...\n",
        "for token in token_embeddings:\n",
        "\n",
        "    # `token` é um tensor [12 x 768] ou [24 x 1024]\n",
        "\n",
        "    # Soma o vetor das últimas quatro camadas.\n",
        "    sum_vec = torch.sum(token[-4:], dim=0)\n",
        "    \n",
        "    # Usa `sum_vec` para representar o `token`.\n",
        "    token_vecs_sum.append(sum_vec)\n",
        "\n",
        "print ('Formato é: %d x %d' % (len(token_vecs_sum), len(token_vecs_sum[0])))"
      ],
      "execution_count": null,
      "outputs": [
        {
          "output_type": "stream",
          "text": [
            "Formato é: 27 x 1024\n"
          ],
          "name": "stdout"
        }
      ]
    },
    {
      "cell_type": "markdown",
      "metadata": {
        "id": "mQaco6jRLkXn"
      },
      "source": [
        "### Gerando um vetores de embedding para a Frases(média)\n",
        "\n",
        "Para obter um único vetor para toda a sentença, temos várias estratégias dependentes de aplicativos, mas uma abordagem simples é calcular a penúltima camada hiden de cada token, produzindo um único vetor de 768 ou 1024 de comprimento."
      ]
    },
    {
      "cell_type": "code",
      "metadata": {
        "id": "Zn0n2S-FWZih"
      },
      "source": [
        "# `hidden_states` tem o formato [13 x 1 x 22 x 768] ou [25 x 1 x 22 x 1024]\n",
        "\n",
        "# `token_vecs` é um tensor com o formato [22 x 768] ou [22 x 1024]\n",
        "token_vecs = hidden_states[-2][0]\n",
        "\n",
        "# Calcula a média de todos os 25 tokens do vetor.\n",
        "sentence_embedding = torch.mean(token_vecs, dim=0)"
      ],
      "execution_count": null,
      "outputs": []
    },
    {
      "cell_type": "code",
      "metadata": {
        "id": "MQv0FL8VWadn",
        "colab": {
          "base_uri": "https://localhost:8080/"
        },
        "outputId": "8557762f-4c10-4b82-c99b-e07b563f725e"
      },
      "source": [
        "print (\"Vetor de embedding da frase tem o formato:\", sentence_embedding.size())"
      ],
      "execution_count": null,
      "outputs": [
        {
          "output_type": "stream",
          "text": [
            "Vetor de embedding da frase tem o formato: torch.Size([1024])\n"
          ],
          "name": "stdout"
        }
      ]
    },
    {
      "cell_type": "markdown",
      "metadata": {
        "id": "TqYcrAipfE3E"
      },
      "source": [
        "## 3.4. Confirmando vetores dependentes do contexto\n",
        "\n",
        "Para confirmar que o valor desses vetores são de fato dependentes do contexto, vejamos as diferentes instâncias da palavra \"banco\" em nossa frase de exemplo:\n",
        "\n",
        "\"Depois de roubar **dinheiro do banco**, o **ladrão de banco** foi visto sentado no **banco da praça** central.\"\n",
        "\n",
        "Vamos encontrar o índice dessas três instâncias da palavra \"banco\" na sentença de exemplo."
      ]
    },
    {
      "cell_type": "code",
      "metadata": {
        "id": "DNiRsEh9cmWz",
        "colab": {
          "base_uri": "https://localhost:8080/"
        },
        "outputId": "0bb89819-9bdc-4e69-e46f-eff9b02df7cb"
      },
      "source": [
        "for i, token_str in enumerate(tokenized_text):\n",
        "  print (i, token_str)"
      ],
      "execution_count": null,
      "outputs": [
        {
          "output_type": "stream",
          "text": [
            "0 [CLS]\n",
            "1 depois\n",
            "2 de\n",
            "3 roubar\n",
            "4 o\n",
            "5 co\n",
            "6 ##fre\n",
            "7 do\n",
            "8 banco\n",
            "9 ,\n",
            "10 o\n",
            "11 lad\n",
            "12 ##ra\n",
            "13 ##o\n",
            "14 de\n",
            "15 banco\n",
            "16 foi\n",
            "17 visto\n",
            "18 sentado\n",
            "19 no\n",
            "20 banco\n",
            "21 da\n",
            "22 pra\n",
            "23 ##ca\n",
            "24 central\n",
            "25 .\n",
            "26 [SEP]\n"
          ],
          "name": "stdout"
        }
      ]
    },
    {
      "cell_type": "markdown",
      "metadata": {
        "id": "8j_5F0qfX_rv"
      },
      "source": [
        "As palavras estão em 8, 14 e 19.\n",
        "\n",
        "Para esta análise, usaremos os vetores de palavras da somados, concatenados e última camada.\n",
        "\n",
        "Podemos tentar imprimir seus vetores para compará-los."
      ]
    },
    {
      "cell_type": "markdown",
      "metadata": {
        "id": "kAOxurWOX5bi"
      },
      "source": [
        "### Somando"
      ]
    },
    {
      "cell_type": "markdown",
      "metadata": {
        "id": "2eJ9Dba9YSuu"
      },
      "source": [
        "#### Embeddings"
      ]
    },
    {
      "cell_type": "markdown",
      "metadata": {
        "id": "AEhBIA5RlS8-"
      },
      "source": [
        "\n",
        "\n",
        "base(arquivo/comunidade):\n",
        "* cofre do banco   tensor([ 0.2817, -0.2229,  0.4058, -0.* 1698,  0.4350])\n",
        "* ladrão de banco  tensor([ 0.3844, -0.2985,  0.1629, -0.2853,  0.4661])\n",
        "* banco da praça   tensor([ 0.0382, -0.1985,  0.0825,  0.1369,  0.6871])\n",
        "\n",
        "large(arquivo/comunidade):\n",
        "* cofre do banco   tensor([ 0.4261, -0.1251, -0.4406,  0.0736, -1.4059])\n",
        "* ladrão de banco  tensor([ 0.4835,  0.1447, -0.4306,  0.3436, -1.4682])\n",
        "* banco da praça   tensor([ 0.3631,  0.9212,  0.1919, -0.2493, -0.9418])"
      ]
    },
    {
      "cell_type": "code",
      "metadata": {
        "id": "tBa6vRHknSkv",
        "colab": {
          "base_uri": "https://localhost:8080/"
        },
        "outputId": "d4ed9203-2876-49a2-d908-9f80e75fbfbe"
      },
      "source": [
        "print('Os primeiro 5 valores do vetor para cada instância de \"banco\".')\n",
        "print('')\n",
        "print(\"cofre do banco  \", str(token_vecs_sum[8][:5]))\n",
        "print(\"ladrão de banco \", str(token_vecs_sum[14][:5]))\n",
        "print(\"banco da praça  \", str(token_vecs_sum[19][:5]))"
      ],
      "execution_count": null,
      "outputs": [
        {
          "output_type": "stream",
          "text": [
            "Os primeiro 5 valores do vetor para cada instância de \"banco\".\n",
            "\n",
            "cofre do banco   tensor([ 0.0593,  0.3090, -0.9891, -1.1097, -4.9291])\n",
            "ladrão de banco  tensor([-1.2682, -4.2015,  2.1934,  1.2131,  2.9108])\n",
            "banco da praça   tensor([ 1.2599, -1.7715,  0.0220,  1.3867, -1.6851])\n"
          ],
          "name": "stdout"
        }
      ]
    },
    {
      "cell_type": "markdown",
      "metadata": {
        "id": "mhvNM7WKYXmb"
      },
      "source": [
        "#### Comparando"
      ]
    },
    {
      "cell_type": "markdown",
      "metadata": {
        "id": "Ca2TCQ_G7SM3"
      },
      "source": [
        "Podemos ver que os valores diferem, mas vamos calcular a semelhança de cosseno entre os vetores para fazer uma comparação mais precisa.\n",
        "\n",
        "base(arquivo/comunidade):\n",
        "* -\n",
        "\n",
        "large(arquivo/comunidade):\n",
        "* Vetor de similaridade para significados *diferentes*:  0.78\n",
        "* Vetor de similaridade para significados *similares*:  0.91\n",
        "* Vetor de similaridade para significados *diferentes*:  0.79"
      ]
    },
    {
      "cell_type": "code",
      "metadata": {
        "id": "eYXUwiG0yhBS",
        "colab": {
          "base_uri": "https://localhost:8080/"
        },
        "outputId": "6aca72d1-6ec4-4402-8ace-6d4d850229fa"
      },
      "source": [
        "from scipy.spatial.distance import cosine\n",
        "\n",
        "# Calculate the cosine similarity between the word bank \n",
        "# in \"ladrão de banco\" vs \"banco da praça\" (different meanings).\n",
        "diferentes_bancos = 1 - cosine(token_vecs_sum[14], token_vecs_sum[19])\n",
        "\n",
        "print('Vetor de similaridade para significados *diferentes*:  %.2f' % diferentes_bancos)\n",
        "\n",
        "# Calculate the cosine similarity between the word bank\n",
        "# in \"ladrão de banco\" vs \"cofre do banco\" (same meaning).\n",
        "mesmo_banco = 1 - cosine(token_vecs_sum[14], token_vecs_sum[8])\n",
        "\n",
        "print('Vetor de similaridade para significados *similares*:  %.2f' % mesmo_banco)\n",
        "\n",
        "# Calculate the cosine similarity between the word bank\n",
        "# in \"cofre do banco\" vs \"banco da praça\" (different meanings).\n",
        "diferentes_bancos1 = 1 - cosine(token_vecs_sum[19], token_vecs_sum[8])\n",
        "\n",
        "print('Vetor de similaridade para significados *diferentes*:  %.2f' % diferentes_bancos1)"
      ],
      "execution_count": null,
      "outputs": [
        {
          "output_type": "stream",
          "text": [
            "Vetor de similaridade para significados *diferentes*:  0.58\n",
            "Vetor de similaridade para significados *similares*:  0.55\n",
            "Vetor de similaridade para significados *diferentes*:  0.59\n"
          ],
          "name": "stdout"
        }
      ]
    },
    {
      "cell_type": "markdown",
      "metadata": {
        "id": "R2eyI9dXYp5O"
      },
      "source": [
        "### Concatenando"
      ]
    },
    {
      "cell_type": "markdown",
      "metadata": {
        "id": "VCgf5fB0Yp5P"
      },
      "source": [
        "#### Embeddings"
      ]
    },
    {
      "cell_type": "markdown",
      "metadata": {
        "id": "eWSqLghiYp5Q"
      },
      "source": [
        "\n",
        "\n",
        "base(arquivo/comunidade):\n",
        "* cofre do banco   tensor([ 0.2817, -0.2229,  0.4058, -0.* 1698,  0.4350])\n",
        "* ladrão de banco  tensor([ 0.3844, -0.2985,  0.1629, -0.2853,  0.4661])\n",
        "* banco da praça   tensor([ 0.0382, -0.1985,  0.0825,  0.1369,  0.6871])\n",
        "\n",
        "large(arquivo/comunidade):\n",
        "* cofre do banco   tensor([ 0.4261, -0.1251, -0.4406,  0.0736, -1.4059])\n",
        "* ladrão de banco  tensor([ 0.4835,  0.1447, -0.4306,  0.3436, -1.4682])\n",
        "* banco da praça   tensor([ 0.3631,  0.9212,  0.1919, -0.2493, -0.9418])"
      ]
    },
    {
      "cell_type": "code",
      "metadata": {
        "id": "N57qSw-LYp5Q",
        "colab": {
          "base_uri": "https://localhost:8080/"
        },
        "outputId": "f34ec678-9b0a-4557-9cf1-1bef22d56d9a"
      },
      "source": [
        "print('Os primeiro 5 valores do vetor para cada instância de \"banco\".')\n",
        "print('')\n",
        "print(\"cofre do banco  \", str(token_vecs_cat[8][:5]))\n",
        "print(\"ladrão de banco \", str(token_vecs_cat[14][:5]))\n",
        "print(\"banco da praça  \", str(token_vecs_cat[19][:5]))"
      ],
      "execution_count": null,
      "outputs": [
        {
          "output_type": "stream",
          "text": [
            "Os primeiro 5 valores do vetor para cada instância de \"banco\".\n",
            "\n",
            "cofre do banco   tensor([ 0.4137, -0.2602,  0.1373,  0.4947, -1.7562])\n",
            "ladrão de banco  tensor([ 0.0453, -1.0107,  1.1038,  0.6714,  0.4234])\n",
            "banco da praça   tensor([ 0.3033, -0.7493,  0.5562,  0.7089, -0.8168])\n"
          ],
          "name": "stdout"
        }
      ]
    },
    {
      "cell_type": "markdown",
      "metadata": {
        "id": "ECn-bOMFYp5U"
      },
      "source": [
        "#### Comparando"
      ]
    },
    {
      "cell_type": "markdown",
      "metadata": {
        "id": "nlucdv7XYp5V"
      },
      "source": [
        "Podemos ver que os valores diferem, mas vamos calcular a semelhança de cosseno entre os vetores para fazer uma comparação mais precisa.\n",
        "\n",
        "base(arquivo/comunidade):\n",
        "* - \n",
        "\n",
        "large(arquivo/comunidade):\n",
        "* Vetor de similaridade para significados *diferentes*:  0.77\n",
        "* Vetor de similaridade para significados *similares*:  0.90\n",
        "* Vetor de similaridade para significados *diferentes*:  0.77"
      ]
    },
    {
      "cell_type": "code",
      "metadata": {
        "id": "VbgzW7sLYp5V",
        "colab": {
          "base_uri": "https://localhost:8080/"
        },
        "outputId": "d5d9c6f8-51f6-412a-dfc8-5e9333ee4a46"
      },
      "source": [
        "from scipy.spatial.distance import cosine\n",
        "\n",
        "# Calculate the cosine similarity between the word bank \n",
        "# in \"ladrão de banco\" vs \"banco da praça\" (different meanings).\n",
        "diferentes_bancos = 1 - cosine(token_vecs_cat[14], token_vecs_cat[19])\n",
        "\n",
        "print('Vetor de similaridade para significados *diferentes*:  %.2f' % diferentes_bancos)\n",
        "\n",
        "# Calculate the cosine similarity between the word bank\n",
        "# in \"ladrão de banco\" vs \"cofre do banco\" (same meaning).\n",
        "mesmo_banco = 1 - cosine(token_vecs_cat[14], token_vecs_cat[8])\n",
        "\n",
        "print('Vetor de similaridade para significados *similares*:  %.2f' % mesmo_banco)\n",
        "\n",
        "# Calculate the cosine similarity between the word bank\n",
        "# in \"cofre do banco\" vs \"banco da praça\" (different meanings).\n",
        "diferentes_bancos1 = 1 - cosine(token_vecs_cat[19], token_vecs_cat[8])\n",
        "\n",
        "print('Vetor de similaridade para significados *diferentes*:  %.2f' % diferentes_bancos1)"
      ],
      "execution_count": null,
      "outputs": [
        {
          "output_type": "stream",
          "text": [
            "Vetor de similaridade para significados *diferentes*:  0.57\n",
            "Vetor de similaridade para significados *similares*:  0.55\n",
            "Vetor de similaridade para significados *diferentes*:  0.58\n"
          ],
          "name": "stdout"
        }
      ]
    },
    {
      "cell_type": "markdown",
      "metadata": {
        "id": "BMrH4kFHcU-b"
      },
      "source": [
        "### Última camada"
      ]
    },
    {
      "cell_type": "markdown",
      "metadata": {
        "id": "iv5HJvLicU-d"
      },
      "source": [
        "#### Embeddings"
      ]
    },
    {
      "cell_type": "markdown",
      "metadata": {
        "id": "BeRfcEYEcU-e"
      },
      "source": [
        "\n",
        "\n",
        "base(arquivo/comunidade):\n",
        "* cofre do banco   tensor([ 0.2817, -0.2229,  0.4058, -0.* 1698,  0.4350])\n",
        "* ladrão de banco  tensor([ 0.3844, -0.2985,  0.1629, -0.2853,  0.4661])\n",
        "* banco da praça   tensor([ 0.0382, -0.1985,  0.0825,  0.1369,  0.6871])\n",
        "\n",
        "large(arquivo/comunidade):\n",
        "* cofre do banco   tensor([ 0.4261, -0.1251, -0.4406,  0.0736, -1.4059])\n",
        "* ladrão de banco  tensor([ 0.4835,  0.1447, -0.4306,  0.3436, -1.4682])\n",
        "* banco da praça   tensor([ 0.3631,  0.9212,  0.1919, -0.2493, -0.9418])"
      ]
    },
    {
      "cell_type": "code",
      "metadata": {
        "id": "pi-rvaWzckD5",
        "colab": {
          "base_uri": "https://localhost:8080/"
        },
        "outputId": "d06a8f81-0364-4c2e-a3dd-e4a083cb235b"
      },
      "source": [
        "print(last_hidden_state.size())\n",
        "\n",
        "#Remove a dimensão de tamanho 1\n",
        "ultima_camada = last_hidden_state[0]\n",
        "\n",
        "print(ultima_camada.size())"
      ],
      "execution_count": null,
      "outputs": [
        {
          "output_type": "stream",
          "text": [
            "torch.Size([1, 27, 1024])\n",
            "torch.Size([27, 1024])\n"
          ],
          "name": "stdout"
        }
      ]
    },
    {
      "cell_type": "code",
      "metadata": {
        "id": "htmMqzKacU-h",
        "colab": {
          "base_uri": "https://localhost:8080/"
        },
        "outputId": "a2d5cc74-1a1c-464e-be3c-201ce0db984c"
      },
      "source": [
        "print('Os primeiro 5 valores do vetor para cada instância de \"banco\".')\n",
        "print('')\n",
        "print(\"cofre do banco  \", str(ultima_camada[8][:5]))\n",
        "print(\"ladrão de banco \", str(ultima_camada[14][:5]))\n",
        "print(\"banco da praça  \", str(ultima_camada[19][:5]))"
      ],
      "execution_count": null,
      "outputs": [
        {
          "output_type": "stream",
          "text": [
            "Os primeiro 5 valores do vetor para cada instância de \"banco\".\n",
            "\n",
            "cofre do banco   tensor([ 0.4137, -0.2602,  0.1373,  0.4947, -1.7562])\n",
            "ladrão de banco  tensor([ 0.0453, -1.0107,  1.1038,  0.6714,  0.4234])\n",
            "banco da praça   tensor([ 0.3033, -0.7493,  0.5562,  0.7089, -0.8168])\n"
          ],
          "name": "stdout"
        }
      ]
    },
    {
      "cell_type": "markdown",
      "metadata": {
        "id": "mleec1wkcU-n"
      },
      "source": [
        "#### Comparando"
      ]
    },
    {
      "cell_type": "markdown",
      "metadata": {
        "id": "XV-I3khjcU-o"
      },
      "source": [
        "Podemos ver que os valores diferem, mas vamos calcular a semelhança de cosseno entre os vetores para fazer uma comparação mais precisa.\n",
        "\n",
        "base(arquivo/comunidade):\n",
        "* -\n",
        "\n",
        "large(arquivo/comunidade):\n",
        "* Vetor de similaridade para significados *diferentes*:  0.78\n",
        "* Vetor de similaridade para significados *similares*:  0.92\n",
        "* Vetor de similaridade para significados *diferentes*:  0.77"
      ]
    },
    {
      "cell_type": "code",
      "metadata": {
        "id": "FYE5wvfBcU-p",
        "colab": {
          "base_uri": "https://localhost:8080/"
        },
        "outputId": "212737c2-e421-461e-aa0a-dd5a722829bc"
      },
      "source": [
        "from scipy.spatial.distance import cosine\n",
        "\n",
        "# Calcule a similaridade de cosseno entre as palavras banco\n",
        "# Em \"ladrão de banco\" vs \"banco da praça\" (diferentes significados).\n",
        "diferentes_bancos = 1 - cosine(ultima_camada[14], ultima_camada[19])\n",
        "\n",
        "print('Vetor de similaridade para significados *diferentes*:  %.2f' % diferentes_bancos)\n",
        "\n",
        "# Calcule a similaridade de cosseno entre as palavras banco\n",
        "# Em \"ladrão de banco\" vs \"cofre do banco\" (mesmo significados).\n",
        "mesmo_banco = 1 - cosine(ultima_camada[14], ultima_camada[8])\n",
        "\n",
        "print('Vetor de similaridade para significados *similares*:  %.2f' % mesmo_banco)\n",
        "\n",
        "# Calcule a similaridade de cosseno entre as palavras banco\n",
        "# Em \"cofre do banco\" vs \"banco da praça\" (diferentes significados).\n",
        "diferentes_bancos1 = 1 - cosine(ultima_camada[19], ultima_camada[8])\n",
        "\n",
        "print('Vetor de similaridade para significados *diferentes*:  %.2f' % diferentes_bancos1)"
      ],
      "execution_count": null,
      "outputs": [
        {
          "output_type": "stream",
          "text": [
            "Vetor de similaridade para significados *diferentes*:  0.60\n",
            "Vetor de similaridade para significados *similares*:  0.55\n",
            "Vetor de similaridade para significados *diferentes*:  0.60\n"
          ],
          "name": "stdout"
        }
      ]
    },
    {
      "cell_type": "markdown",
      "metadata": {
        "id": "oU3wHzNUmmBP"
      },
      "source": [
        "## 3.5 Visualizando Frases\n",
        "\n",
        "Aqui, queremos mostrar a conexão entre os tokens de uma frase usando a incorporação do BERT. Plotamos as inserções dos tokens em um subespaço, onde (0,1) e (1,0) são os marcadores de partida [CLS] e [SEP] e marcadores finais e finais da frase.\n",
        "\n",
        "Notebook original:\n",
        "https://colab.research.google.com/drive/1TCgnpIwsr6uK4cP0Gk1RCCQrFy6s3Xc1"
      ]
    },
    {
      "cell_type": "code",
      "metadata": {
        "id": "pm98RoojJcqP"
      },
      "source": [
        "# bibliotecas\n",
        "import numpy as np\n",
        "import torch\n",
        "\n",
        "import matplotlib.pyplot as plt\n",
        "%matplotlib inline"
      ],
      "execution_count": null,
      "outputs": []
    },
    {
      "cell_type": "markdown",
      "metadata": {
        "id": "CLHi3vgovIBC"
      },
      "source": [
        "Texto a ser plotado no gráfico."
      ]
    },
    {
      "cell_type": "code",
      "metadata": {
        "id": "5DcfcjX4vHPt"
      },
      "source": [
        "text = \"O céu está azul hoje.\""
      ],
      "execution_count": null,
      "outputs": []
    },
    {
      "cell_type": "markdown",
      "metadata": {
        "id": "4rnJlvkyxnvL"
      },
      "source": [
        "Adiciona os tokens especiais ao texto."
      ]
    },
    {
      "cell_type": "code",
      "metadata": {
        "id": "4Lqdc6QCyGxB"
      },
      "source": [
        "# Adiciona o token especial.\n",
        "marked_text = \"[CLS] \" + text + \" [SEP]\""
      ],
      "execution_count": null,
      "outputs": []
    },
    {
      "cell_type": "markdown",
      "metadata": {
        "id": "xGLIJgKOyF3L"
      },
      "source": [
        "Depois de adicionar os tokens especais precisamos dividir o texto em tokens, precisamos converter o texto de uma lista de strings para uma lista de indeces de vocabulário."
      ]
    },
    {
      "cell_type": "code",
      "metadata": {
        "id": "xRhwaiUJow5R",
        "colab": {
          "base_uri": "https://localhost:8080/"
        },
        "outputId": "b4eec279-7081-4504-d22f-3dc58bc6d8d3"
      },
      "source": [
        "# Divide a frase em tokens.\n",
        "tokenized_text = tokenizer.tokenize(marked_text)\n",
        "\n",
        " # Mapeia os tokens em seus índices do vocabuário    \n",
        "indexed_tokens = tokenizer.convert_tokens_to_ids(tokenized_text)\n",
        "\n",
        "# Mostra a sentença original.\n",
        "print('Texto: ', text)\n",
        "\n",
        "# Mostra as palavras com seus índices.\n",
        "for tup in zip(tokenized_text, indexed_tokens):\n",
        "    print('{:<12} {:>6,}'.format(tup[0], tup[1]))"
      ],
      "execution_count": null,
      "outputs": [
        {
          "output_type": "stream",
          "text": [
            "Texto:  O céu está azul hoje.\n",
            "[CLS]           101\n",
            "o               146\n",
            "ce            2,992\n",
            "##u          22,288\n",
            "esta            418\n",
            "azul          5,580\n",
            "hoje          1,790\n",
            ".               119\n",
            "[SEP]           102\n"
          ],
          "name": "stdout"
        }
      ]
    },
    {
      "cell_type": "markdown",
      "metadata": {
        "id": "OuOHLchIvZHS"
      },
      "source": [
        "O BERT é treinado e espera pares de frases, usando 1s e 0s para distinguir entre as duas frases. Ou seja, para cada token em \"tokenized_text\", devemos especificar a qual frase pertence: sentença 0 (uma série de 0s) ou sentença 1 (uma série de 1s). Para nossos propósitos, as entradas de sentença única requerem apenas uma série de 1s; portanto, criaremos um vetor de 1s para cada token em nossa frase de entrada.\n",
        "\n",
        "Se você deseja processar duas frases, atribua cada palavra na primeira frase mais o token '[SEP]' a 0 e todos os tokens da segunda frase a 1."
      ]
    },
    {
      "cell_type": "code",
      "metadata": {
        "id": "dnF2dnuyv4SK",
        "colab": {
          "base_uri": "https://localhost:8080/"
        },
        "outputId": "ace106e1-2812-4654-8731-e9c88b7e493a"
      },
      "source": [
        "# Marca cada um dos tokens como pertencentes à frase \"1\".\n",
        "segments_ids = [1] * len(tokenized_text)\n",
        "\n",
        "print(segments_ids)\n",
        "print(len(segments_ids))"
      ],
      "execution_count": null,
      "outputs": [
        {
          "output_type": "stream",
          "text": [
            "[1, 1, 1, 1, 1, 1, 1, 1, 1]\n",
            "9\n"
          ],
          "name": "stdout"
        }
      ]
    },
    {
      "cell_type": "markdown",
      "metadata": {
        "id": "BCWuOOeawDGL"
      },
      "source": [
        "Em seguida, precisamos converter nossos dados em tensores de tocha e chamar o modelo BERT. A interface BERT PyTorch exige que os dados estejam em tensores de tocha em vez de em listas Python; portanto, convertemos as listas aqui - isso não altera a forma ou os dados.\n"
      ]
    },
    {
      "cell_type": "code",
      "metadata": {
        "id": "E43gjZHnvZT6"
      },
      "source": [
        "# Converte a entrada em tensores PyTorch\n",
        "tokens_tensor = torch.tensor([indexed_tokens])\n",
        "segments_tensors = torch.tensor([segments_ids])"
      ],
      "execution_count": null,
      "outputs": []
    },
    {
      "cell_type": "markdown",
      "metadata": {
        "id": "z-RkmCQ4xdFt"
      },
      "source": [
        "A função `model()` executa o texto através do BERT. Os resultados do processamento serão retornados para `outputs[2]` ou `hidden_states`."
      ]
    },
    {
      "cell_type": "code",
      "metadata": {
        "id": "84o7_OBhHUnC"
      },
      "source": [
        "# Roda o texto através do BERT, e coleta todos os estados ocultos produzidos\n",
        "# das 12 camadas. \n",
        "with torch.no_grad():\n",
        "\n",
        "    outputs = model(tokens_tensor, segments_tensors)\n",
        "\n",
        "    # A avaliação do modelo retorna um número de diferentes objetos com base em\n",
        "    # como é configurado na chamada do método `from_pretrained` anterior. Nesse caso,\n",
        "    # porque definimos `output_hidden_states = True`, o terceiro item será o\n",
        "    # estados ocultos(hidden_states) de todas as camadas. Veja a documentação para mais detalhes:\n",
        "    # https://huggingface.co/transformers/model_doc/bert.html#bertmodel\n",
        "\n",
        "    #Retorno de model quando ´last_hidden_state=True´ é setado:    \n",
        "    #outputs[0] = last_hidden_state, outputs[1] = pooler_output, outputs[2] = hidden_states\n",
        "\n",
        "    hidden_states = outputs[0] "
      ],
      "execution_count": null,
      "outputs": []
    },
    {
      "cell_type": "markdown",
      "metadata": {
        "id": "kmhJIOAEz2qW"
      },
      "source": [
        "O conjunto completo saída para este modelo, armazenados no objeto `outputs`, é um pouco grande. Este objeto tem três dimensões, na seguinte ordem: \n",
        "\n",
        "* O número do lote (1 frase)\n",
        "* O número de tokens (8 tokens)\n",
        "* O número da unidade / recurso oculto (768 recursos)\n",
        "\n",
        "A primeira dimensão, o tamanho do lote(batch size = 1), é usada ao enviar várias frases para o modelo de uma só vez; aqui, porém, temos apenas um exemplo de sentença.\n",
        "\n"
      ]
    },
    {
      "cell_type": "code",
      "metadata": {
        "id": "W2xX2U2VIkyu",
        "colab": {
          "base_uri": "https://localhost:8080/"
        },
        "outputId": "d79f14cf-64b0-4f16-bfb2-d630cadbe9fa"
      },
      "source": [
        "print (\"Número de lotes(batches):\", len(hidden_states))\n",
        "batch_i = 0\n",
        "\n",
        "print (\"Número de tokens:\", len(hidden_states[batch_i]))\n",
        "token_i = 0\n",
        "\n",
        "print (\"Número de unidades ocultas:\", len(hidden_states[batch_i][token_i]))"
      ],
      "execution_count": null,
      "outputs": [
        {
          "output_type": "stream",
          "text": [
            "Número de lotes(batches): 1\n",
            "Número de tokens: 9\n",
            "Número de unidades ocultas: 1024\n"
          ],
          "name": "stdout"
        }
      ]
    },
    {
      "cell_type": "markdown",
      "metadata": {
        "id": "ZNOpOuxuIy3B"
      },
      "source": [
        "Vamos nos livrar da dimensão \"batches\", pois não precisamos dela."
      ]
    },
    {
      "cell_type": "code",
      "metadata": {
        "id": "_oOlA_UBIy3C",
        "colab": {
          "base_uri": "https://localhost:8080/"
        },
        "outputId": "a2dce8f9-b0f1-46a9-fde7-0243d00d2580"
      },
      "source": [
        "# Remove a dimensão 1, o lote \"batches\".\n",
        "# O método squeeze remove a primeira dimensão(0) pois possui tamanho 1\n",
        "token_embeddings = torch.squeeze(last_hidden_state, dim=0)\n",
        "\n",
        "token_embeddings.size()"
      ],
      "execution_count": null,
      "outputs": [
        {
          "output_type": "execute_result",
          "data": {
            "text/plain": [
              "torch.Size([27, 1024])"
            ]
          },
          "metadata": {
            "tags": []
          },
          "execution_count": 40
        }
      ]
    },
    {
      "cell_type": "markdown",
      "metadata": {
        "id": "qiGdS7E-8_Xn"
      },
      "source": [
        "Transforma  o vetor de embendings em um array."
      ]
    },
    {
      "cell_type": "code",
      "metadata": {
        "id": "LeU8KmhTkE3w"
      },
      "source": [
        "# Recupera o embeddings dos tokens como um vetor\n",
        "embeddings = token_embeddings.numpy()"
      ],
      "execution_count": null,
      "outputs": []
    },
    {
      "cell_type": "markdown",
      "metadata": {
        "id": "0Num26HX-Cjn"
      },
      "source": [
        "Base selecionada para que o [CLS] e o [SEP] passem para (0,1) e (1,0)"
      ]
    },
    {
      "cell_type": "code",
      "metadata": {
        "id": "A3NQwJSpm_Nj",
        "colab": {
          "base_uri": "https://localhost:8080/"
        },
        "outputId": "31aa2af9-77e0-4968-d9a2-2af5067daa55"
      },
      "source": [
        "# Converte para um array\n",
        "W = np.array(embeddings)\n",
        "# Transforma em um array\n",
        "B = np.array([embeddings[0], embeddings[-1]])\n",
        "# Invert B.T\n",
        "Bi = np.linalg.pinv(B.T)\n",
        "\n",
        "print(W.shape)\n",
        "print(Bi.shape)"
      ],
      "execution_count": null,
      "outputs": [
        {
          "output_type": "stream",
          "text": [
            "(27, 1024)\n",
            "(2, 1024)\n"
          ],
          "name": "stdout"
        }
      ]
    },
    {
      "cell_type": "markdown",
      "metadata": {
        "id": "NApZ3iC6nxBQ"
      },
      "source": [
        "Projete os tokens da palavra no subespaço"
      ]
    },
    {
      "cell_type": "code",
      "metadata": {
        "id": "SE6mMG_cnLD3",
        "colab": {
          "base_uri": "https://localhost:8080/"
        },
        "outputId": "601aa233-f81e-4a67-e89a-847a8f460cf5"
      },
      "source": [
        "Wp = np.matmul(Bi,W.T)\n",
        "\n",
        "print(Wp.shape)"
      ],
      "execution_count": null,
      "outputs": [
        {
          "output_type": "stream",
          "text": [
            "(2, 27)\n"
          ],
          "name": "stdout"
        }
      ]
    },
    {
      "cell_type": "markdown",
      "metadata": {
        "id": "a1sWy6RgAi5l"
      },
      "source": [
        "Plota o gráfico da frase"
      ]
    },
    {
      "cell_type": "code",
      "metadata": {
        "id": "v8pdtKQPnFqJ",
        "colab": {
          "base_uri": "https://localhost:8080/",
          "height": 428
        },
        "outputId": "b8a11f45-c6bd-46a4-9357-0beb347653f2"
      },
      "source": [
        "plt.figure(figsize=(12,7))\n",
        "plt.axhline(color='black')\n",
        "plt.axvline(color='black')\n",
        "plt.scatter(Wp[0,:], Wp[1,:], label=text)\n",
        "rX = max(Wp[0,:])-min(Wp[0,:])\n",
        "rY = max(Wp[1,:])-min(Wp[1,:])\n",
        "rM = max(rX, rY)\n",
        "eps = 0.005\n",
        "for i, txt in enumerate(tokenized_text):\n",
        "    plt.annotate(txt, (Wp[0,i]+rX*eps, Wp[1,i]+rX*eps))\n",
        "    if i>0:\n",
        "        plt.arrow(Wp[0,i-1],Wp[1,i-1], Wp[0,i]-Wp[0,i-1], Wp[1,i]-Wp[1,i-1], color='lightblue', head_length=rM*eps*3, head_width=rM*eps*2, length_includes_head=True)\n",
        "plt.legend()\n",
        "plt.show()"
      ],
      "execution_count": null,
      "outputs": [
        {
          "output_type": "display_data",
          "data": {
            "image/png": "[encoded data removed]",
            "text/plain": [
              "<Figure size 864x504 with 1 Axes>"
            ]
          },
          "metadata": {
            "tags": [],
            "needs_background": "light"
          }
        }
      ]
    },
    {
      "cell_type": "markdown",
      "metadata": {
        "id": "_Wqx3GzeE0y1"
      },
      "source": [
        "Vamos criar uma função com as etapas anteriores para gerar as coordenadas de plotagem a partir das sentenças!"
      ]
    },
    {
      "cell_type": "code",
      "metadata": {
        "id": "Pa_208U8-cMR"
      },
      "source": [
        "def get_visual_embs(text, modelbert):\n",
        "    \n",
        "    # Adiciona os tokens especiais.\n",
        "    marked_text = \"[CLS] \" + text + \" [SEP]\"\n",
        "\n",
        "    # Divide a sentença em tokens.\n",
        "    tokenized_text = tokenizer.tokenize(marked_text)\n",
        "\n",
        "    # Mapeia cada string de token para seu índice no vocabulário.\n",
        "    # Mesmo que mode.encode mas com parâmetros\n",
        "    indexed_tokens = tokenizer.convert_tokens_to_ids(tokenized_text)\n",
        "    \n",
        "    # Marque cada um dos tokens como pertencentes à frase \"1\".\n",
        "    segments_ids = [1] * len(tokenized_text)\n",
        "\n",
        "    # Convertar as entradas em Tensores PyTorch\n",
        "    tokens_tensor = torch.tensor([indexed_tokens])\n",
        "    segments_tensors = torch.tensor([segments_ids])\n",
        "\n",
        "    # Prediz as características dos estados ocultos para cada camada\n",
        "    with torch.no_grad():\n",
        "      \n",
        "        # A avaliação do modelo retorna um número de diferentes objetos com base em\n",
        "        # como é configurado na chamada do método `from_pretrained` anterior. Nesse caso,\n",
        "        # porque definimos `output_hidden_states = True`, o terceiro item será o\n",
        "        # estados ocultos(hidden_states) de todas as camadas. Veja a documentação para mais detalhes:\n",
        "        # https://huggingface.co/transformers/model_doc/bert.html#bertmodel\n",
        "\n",
        "        # Retorno de model quando ´last_hidden_state=True´ é setado:    \n",
        "        # outputs[0] = last_hidden_state, outputs[1] = pooler_output, outputs[2] = hidden_states\n",
        "\n",
        "        outputs = modelbert(tokens_tensor, segments_tensors)\n",
        "\n",
        "        # última camada embedding\n",
        "        hidden_states = outputs[0]   \n",
        "\n",
        "    # Remove a dimensão 1, os lotes(\"batches\").\n",
        "    token_embeddings = torch.squeeze(hidden_states, dim=0)\n",
        "\n",
        "    # Recupera os embeddings dos tokens como um array\n",
        "    embeddings = token_embeddings.numpy()\n",
        "\n",
        "    # Converte para um array\n",
        "    W = np.array(embeddings)\n",
        "    # Transforma em um array\n",
        "    B = np.array([embeddings[0], embeddings[-1]])\n",
        "    # Inverte B.T\n",
        "    Bi = np.linalg.pinv(B.T)\n",
        "\n",
        "    # Projta o token da palavra no subespaço\n",
        "    Wp = np.matmul(Bi,W.T)\n",
        "\n",
        "    return Wp, tokenized_text"
      ],
      "execution_count": null,
      "outputs": []
    },
    {
      "cell_type": "markdown",
      "metadata": {
        "id": "QlA3hB59E0y4"
      },
      "source": [
        "### Comparando sentenças\n",
        "\n",
        "Ok, vamos investigar em frases diferentes!"
      ]
    },
    {
      "cell_type": "markdown",
      "metadata": {
        "id": "lA2bi5FAE0y5"
      },
      "source": [
        "Vamos mudar uma palavra na frase!"
      ]
    },
    {
      "cell_type": "code",
      "metadata": {
        "id": "1GluoV3NE0y5",
        "colab": {
          "base_uri": "https://localhost:8080/",
          "height": 465
        },
        "outputId": "631984b1-adf7-4265-a079-18497c8de3c3"
      },
      "source": [
        "sentences = ['O céu está azul hoje.', 'O mar está azul hoje.']\n",
        "colors = ['blue', 'red']\n",
        "\n",
        "plt.figure(figsize=(12,7))\n",
        "plt.axhline(color='black')\n",
        "plt.axvline(color='black')\n",
        "for n,s in enumerate(sentences):\n",
        "    Wp, tokens = get_visual_embs(s, model)\n",
        "    print(tokens)\n",
        "    plt.scatter(Wp[0,:], Wp[1,:], color=colors[n], marker='x', label=s)\n",
        "    rX = max(Wp[0,:])-min(Wp[0,:])\n",
        "    rY = max(Wp[1,:])-min(Wp[1,:])\n",
        "    rM = max(rX, rY)\n",
        "    eps = 0.005\n",
        "    eps2 = 0.005\n",
        "    for i, txt in enumerate(tokens):\n",
        "        if txt in ['[CLS]', '[SEP]']:\n",
        "            plt.annotate(txt, (Wp[0,i]+rX*eps, Wp[1,i]+rX*eps))\n",
        "        if txt == 'céu':\n",
        "            plt.annotate(txt, (Wp[0,i]+rX*eps*-6, Wp[1,i]+rX*eps*3))\n",
        "        if txt == 'mar':\n",
        "            plt.annotate(txt, (Wp[0,i]+rX*eps*2, Wp[1,i]+rX*eps*3))\n",
        "        if i>0:\n",
        "            plt.arrow(Wp[0,i-1],Wp[1,i-1], Wp[0,i]-Wp[0,i-1], Wp[1,i]-Wp[1,i-1], color=colors[n], head_length=rM*eps2*4, head_width=rM*eps2*2, length_includes_head=True)\n",
        "plt.legend()\n",
        "plt.show()"
      ],
      "execution_count": null,
      "outputs": [
        {
          "output_type": "stream",
          "text": [
            "['[CLS]', 'o', 'ce', '##u', 'esta', 'azul', 'hoje', '.', '[SEP]']\n",
            "['[CLS]', 'o', 'mar', 'esta', 'azul', 'hoje', '.', '[SEP]']\n"
          ],
          "name": "stdout"
        },
        {
          "output_type": "display_data",
          "data": {
            "image/png": "[encoded data removed]",
            "text/plain": [
              "<Figure size 864x504 with 1 Axes>"
            ]
          },
          "metadata": {
            "tags": [],
            "needs_background": "light"
          }
        }
      ]
    },
    {
      "cell_type": "markdown",
      "metadata": {
        "id": "AJSnhX1MSESO"
      },
      "source": [
        "Agora, vamos mudar o tempo da frase!"
      ]
    },
    {
      "cell_type": "code",
      "metadata": {
        "id": "Ktayi_vq19SW",
        "colab": {
          "base_uri": "https://localhost:8080/",
          "height": 483
        },
        "outputId": "5e0abddf-eae6-4ce2-a05a-4da3c785e788"
      },
      "source": [
        "sentences = ['Isto é uma ideia horrível!', 'Isto foi uma ideia horrível!', 'Isto seria uma ideia horrível!']\n",
        "colors = ['blue', 'red', 'green']\n",
        "\n",
        "plt.figure(figsize=(12,7))\n",
        "plt.axhline(color='black')\n",
        "plt.axvline(color='black')\n",
        "for n,s in enumerate(sentences):\n",
        "    Wp, tokens = get_visual_embs(s, model)\n",
        "    print(tokens)\n",
        "    plt.scatter(Wp[0,:], Wp[1,:], color=colors[n], marker='x', label=s)\n",
        "    rX = max(Wp[0,:])-min(Wp[0,:])\n",
        "    rY = max(Wp[1,:])-min(Wp[1,:])\n",
        "    rM = max(rX, rY)\n",
        "    eps = 0.005\n",
        "    eps2 = 0.005\n",
        "    for i, txt in enumerate(tokens):\n",
        "        if txt in ['[CLS]', '[SEP]']:\n",
        "            plt.annotate(txt, (Wp[0,i]+rX*eps, Wp[1,i]+rX*eps))\n",
        "        #plt.annotate(txt, (Wp[0,i]+rX*eps, Wp[1,i]+rX*eps))\n",
        "        if i>0:\n",
        "            plt.arrow(Wp[0,i-1],Wp[1,i-1], Wp[0,i]-Wp[0,i-1], Wp[1,i]-Wp[1,i-1], color=colors[n], head_length=rM*eps2*4, head_width=rM*eps2*2, length_includes_head=True)\n",
        "plt.legend()\n",
        "plt.show()"
      ],
      "execution_count": null,
      "outputs": [
        {
          "output_type": "stream",
          "text": [
            "['[CLS]', 'isto', 'e', 'uma', 'ideia', 'hor', '##rive', '##l', '!', '[SEP]']\n",
            "['[CLS]', 'isto', 'foi', 'uma', 'ideia', 'hor', '##rive', '##l', '!', '[SEP]']\n",
            "['[CLS]', 'isto', 'seria', 'uma', 'ideia', 'hor', '##rive', '##l', '!', '[SEP]']\n"
          ],
          "name": "stdout"
        },
        {
          "output_type": "display_data",
          "data": {
            "image/png": "[encoded data removed]",
            "text/plain": [
              "<Figure size 864x504 with 1 Axes>"
            ]
          },
          "metadata": {
            "tags": [],
            "needs_background": "light"
          }
        }
      ]
    },
    {
      "cell_type": "markdown",
      "metadata": {
        "id": "URlEgXkwSIJ4"
      },
      "source": [
        "Caracteres de pontuação?"
      ]
    },
    {
      "cell_type": "code",
      "metadata": {
        "id": "DqiW1pItKg9o",
        "colab": {
          "base_uri": "https://localhost:8080/",
          "height": 483
        },
        "outputId": "eada9f87-6d7a-412c-d87d-3e788ed3e8c1"
      },
      "source": [
        "sentences = ['Isto é uma ideia horrível.', 'Isto é uma ideia horrível!', 'Isto é uma ideia horrível?']\n",
        "colors = ['blue', 'red', 'green', 'yellow']\n",
        "\n",
        "plt.figure(figsize=(12,7))\n",
        "plt.axhline(color='black')\n",
        "plt.axvline(color='black')\n",
        "for n,s in enumerate(sentences):\n",
        "    Wp, tokens = get_visual_embs(s, model)\n",
        "    print(tokens)\n",
        "    plt.scatter(Wp[0,:], Wp[1,:], color=colors[n], marker='x', label=s)\n",
        "    rX = max(Wp[0,:])-min(Wp[0,:])\n",
        "    rY = max(Wp[1,:])-min(Wp[1,:])\n",
        "    rM = max(rX, rY)\n",
        "    eps = 0.005\n",
        "    eps2 = 0.005\n",
        "    for i, txt in enumerate(tokens):\n",
        "        if txt in ['[CLS]', '[SEP]']:\n",
        "            plt.annotate(txt, (Wp[0,i]+rX*eps, Wp[1,i]+rX*eps))\n",
        "        #plt.annotate(txt, (Wp[0,i]+rX*eps, Wp[1,i]+rX*eps))\n",
        "        if i>0:\n",
        "            plt.arrow(Wp[0,i-1],Wp[1,i-1], Wp[0,i]-Wp[0,i-1], Wp[1,i]-Wp[1,i-1], color=colors[n], head_length=rM*eps2*4, head_width=rM*eps2*2, length_includes_head=True)\n",
        "plt.legend()\n",
        "plt.show()"
      ],
      "execution_count": null,
      "outputs": [
        {
          "output_type": "stream",
          "text": [
            "['[CLS]', 'isto', 'e', 'uma', 'ideia', 'hor', '##rive', '##l', '.', '[SEP]']\n",
            "['[CLS]', 'isto', 'e', 'uma', 'ideia', 'hor', '##rive', '##l', '!', '[SEP]']\n",
            "['[CLS]', 'isto', 'e', 'uma', 'ideia', 'hor', '##rive', '##l', '?', '[SEP]']\n"
          ],
          "name": "stdout"
        },
        {
          "output_type": "display_data",
          "data": {
            "image/png": "[encoded data removed]",
            "text/plain": [
              "<Figure size 864x504 with 1 Axes>"
            ]
          },
          "metadata": {
            "tags": [],
            "needs_background": "light"
          }
        }
      ]
    },
    {
      "cell_type": "markdown",
      "metadata": {
        "id": "uMY-i3hQUGLN"
      },
      "source": [
        "Frases complexas com Brasil no texto."
      ]
    },
    {
      "cell_type": "code",
      "metadata": {
        "id": "cdnAeD-kLKBb",
        "colab": {
          "base_uri": "https://localhost:8080/",
          "height": 419
        },
        "outputId": "780b1719-6ef8-4648-d802-b9934bd01baf"
      },
      "source": [
        "sentences = [\"No Brasil, o governo nacional está adotando uma política consistente de desenvolvimento de suas linhas ferroviárias.\", \n",
        "             \"Bolsonaro também promoveu o processo (que provou ser extremamente bem-sucedido) de ter duas estações de cultivo de trigo no Brasil, uma nas terras altas e outra nas regiões do vale.\",\n",
        "             \"Também no Brasil.\",\n",
        "             \"Em 1904, ele foi para o Japão como correspondente de guerra e em 1914 para o Brasil na mesma ocupação.\"]\n",
        "colors = ['blue', 'red', 'green', 'grey', 'purple', 'orange', 'lightblue', 'yellow']\n",
        "\n",
        "plt.figure(figsize=(24,9))\n",
        "plt.axhline(color='black')\n",
        "plt.axvline(color='black')\n",
        "for n,s in enumerate(sentences):\n",
        "    Wp, tokens = get_visual_embs(s, model)\n",
        "    print(tokens)\n",
        "    plt.scatter(Wp[0,:], Wp[1,:], color=colors[n], marker='x', label=s)\n",
        "    rX = max(Wp[0,:])-min(Wp[0,:])\n",
        "    rY = max(Wp[1,:])-min(Wp[1,:])\n",
        "    rM = max(rX, rY)\n",
        "    eps = 0.005\n",
        "    eps2 = 0.005\n",
        "    for i, txt in enumerate(tokens):\n",
        "        if txt in ['[CLS]', '[SEP]']:\n",
        "            plt.annotate(txt, (Wp[0,i]+rX*eps, Wp[1,i]+rX*eps))\n",
        "        if txt=='Brasil':\n",
        "            plt.annotate(txt, (Wp[0,i]+rX*eps, Wp[1,i]+rX*eps))\n",
        "        if i>0:\n",
        "            plt.arrow(Wp[0,i-1],Wp[1,i-1], Wp[0,i]-Wp[0,i-1], Wp[1,i]-Wp[1,i-1], color=colors[n], head_length=rM*eps2*4, head_width=rM*eps2*2, length_includes_head=True)\n",
        "plt.legend()\n",
        "plt.show()"
      ],
      "execution_count": null,
      "outputs": [
        {
          "output_type": "stream",
          "text": [
            "['[CLS]', 'no', 'bras', '##il', ',', 'o', 'governo', 'nacional', 'esta', 'ado', '##tando', 'uma', 'polit', '##ica', 'consistente', 'de', 'desenvolvimento', 'de', 'suas', 'linhas', 'ferrovia', '##rias', '.', '[SEP]']\n",
            "['[CLS]', 'bol', '##son', '##ar', '##o', 'tamb', '##em', 'promoveu', 'o', 'processo', '(', 'que', 'provou', 'ser', 'extremamente', 'bem', '-', 'sucedido', ')', 'de', 'ter', 'duas', 'esta', '##co', '##es', 'de', 'cultivo', 'de', 'trigo', 'no', 'bras', '##il', ',', 'uma', 'nas', 'terras', 'altas', 'e', 'outra', 'nas', 'reg', '##io', '##es', 'do', 'vale', '.', '[SEP]']\n",
            "['[CLS]', 'tamb', '##em', 'no', 'bras', '##il', '.', '[SEP]']\n",
            "['[CLS]', 'em', '1904', ',', 'ele', 'foi', 'para', 'o', 'ja', '##pa', '##o', 'como', 'correspondente', 'de', 'guerra', 'e', 'em', '1914', 'para', 'o', 'bras', '##il', 'na', 'mesma', 'ocupa', '##ca', '##o', '.', '[SEP]']\n"
          ],
          "name": "stdout"
        },
        {
          "output_type": "display_data",
          "data": {
            "image/png": "[encoded data removed]",
            "text/plain": [
              "<Figure size 1728x648 with 1 Axes>"
            ]
          },
          "metadata": {
            "tags": [],
            "needs_background": "light"
          }
        }
      ]
    },
    {
      "cell_type": "markdown",
      "metadata": {
        "id": "nz9p-o7fhPkS"
      },
      "source": [
        "Reações, diálogo"
      ]
    },
    {
      "cell_type": "code",
      "metadata": {
        "id": "_-YDhYfZSvyz",
        "colab": {
          "base_uri": "https://localhost:8080/",
          "height": 417
        },
        "outputId": "1b857b05-543a-44c3-8eba-09dc9bb75c91"
      },
      "source": [
        "sentences = [\"Sim, é verdade!\", \n",
        "             \"Claro, ele é bem sucedido.\",\n",
        "             \"Não foi?\",\n",
        "             \"Eu posso concordar totalmente com isso.\",\n",
        "             \"No entanto, isso não pode ser visto.\",]\n",
        "colors = ['blue', 'red', 'green', 'grey', 'purple', 'orange', 'lightblue', 'yellow']\n",
        "\n",
        "plt.figure(figsize=(24,9))\n",
        "plt.axhline(color='black')\n",
        "plt.axvline(color='black')\n",
        "for n,s in enumerate(sentences):\n",
        "    Wp, tokens = get_visual_embs(s, model)\n",
        "    print(tokens)\n",
        "    plt.scatter(Wp[0,:], Wp[1,:], color=colors[n], marker='x', label=s)\n",
        "    rX = max(Wp[0,:])-min(Wp[0,:])\n",
        "    rY = max(Wp[1,:])-min(Wp[1,:])\n",
        "    rM = max(rX, rY)\n",
        "    eps = 0.005\n",
        "    eps2 = 0.005\n",
        "    for i, txt in enumerate(tokens):\n",
        "        if txt in ['[CLS]', '[SEP]']:\n",
        "            plt.annotate(txt, (Wp[0,i]+rX*eps, Wp[1,i]+rX*eps))\n",
        "        if i>0:\n",
        "            plt.arrow(Wp[0,i-1],Wp[1,i-1], Wp[0,i]-Wp[0,i-1], Wp[1,i]-Wp[1,i-1], color=colors[n], head_length=rM*eps2*4, head_width=rM*eps2*2, length_includes_head=True)\n",
        "plt.legend()\n",
        "plt.show()"
      ],
      "execution_count": null,
      "outputs": [
        {
          "output_type": "stream",
          "text": [
            "['[CLS]', 'sim', ',', 'e', 'verdade', '!', '[SEP]']\n",
            "['[CLS]', 'claro', ',', 'ele', 'e', 'bem', 'sucedido', '.', '[SEP]']\n",
            "['[CLS]', 'na', '##o', 'foi', '?', '[SEP]']\n",
            "['[CLS]', 'eu', 'posso', 'concorda', '##r', 'totalmente', 'com', 'isso', '.', '[SEP]']\n",
            "['[CLS]', 'no', 'entanto', ',', 'isso', 'na', '##o', 'pode', 'ser', 'visto', '.', '[SEP]']\n"
          ],
          "name": "stdout"
        },
        {
          "output_type": "display_data",
          "data": {
            "image/png": "[encoded data removed]",
            "text/plain": [
              "<Figure size 1728x648 with 1 Axes>"
            ]
          },
          "metadata": {
            "tags": [],
            "needs_background": "light"
          }
        }
      ]
    },
    {
      "cell_type": "markdown",
      "metadata": {
        "id": "ISJN1R6yhYgp"
      },
      "source": [
        "Frases não reais"
      ]
    },
    {
      "cell_type": "code",
      "metadata": {
        "id": "hicQl0xtUsIz",
        "colab": {
          "base_uri": "https://localhost:8080/",
          "height": 539
        },
        "outputId": "3bcb1e02-ed51-44c4-ae98-29152de2f5ff"
      },
      "source": [
        "sentences = [\"O  o o o o o o o o\", \n",
        "             \". . . . . . . . . . .\",\n",
        "             \"gran de hthateh heta ger er\",\n",
        "             \"O céu está azul hoje.\",\n",
        "             \"James Cook era um homem muito bom e um marido amoroso.\"]\n",
        "colors = ['blue', 'red', 'green', 'grey', 'purple', 'orange', 'lightblue', 'yellow']\n",
        "\n",
        "plt.figure(figsize=(12,7))\n",
        "plt.axhline(color='black')\n",
        "plt.axvline(color='black')\n",
        "for n,s in enumerate(sentences):\n",
        "    Wp, tokens = get_visual_embs(s, model)\n",
        "    print(tokens)\n",
        "    plt.scatter(Wp[0,:], Wp[1,:], color=colors[n], marker='x', label=s)\n",
        "    rX = max(Wp[0,:])-min(Wp[0,:])\n",
        "    rY = max(Wp[1,:])-min(Wp[1,:])\n",
        "    rM = max(rX, rY)\n",
        "    eps = 0.005\n",
        "    eps2 = 0.005\n",
        "    for i, txt in enumerate(tokens):\n",
        "        if txt in ['[CLS]', '[SEP]']:\n",
        "            plt.annotate(txt, (Wp[0,i]+rX*eps, Wp[1,i]+rX*eps))\n",
        "        if i>0:\n",
        "            plt.arrow(Wp[0,i-1],Wp[1,i-1], Wp[0,i]-Wp[0,i-1], Wp[1,i]-Wp[1,i-1], color=colors[n], head_length=rM*eps2*4, head_width=rM*eps2*2, length_includes_head=True)\n",
        "plt.legend()\n",
        "plt.show()"
      ],
      "execution_count": null,
      "outputs": [
        {
          "output_type": "stream",
          "text": [
            "['[CLS]', 'o', 'o', 'o', 'o', 'o', 'o', 'o', 'o', 'o', '[SEP]']\n",
            "['[CLS]', '.', '.', '.', '.', '.', '.', '.', '.', '.', '.', '.', '[SEP]']\n",
            "['[CLS]', 'gran', 'de', 'h', '##tha', '##te', '##h', 'he', '##ta', 'ger', 'er', '[SEP]']\n",
            "['[CLS]', 'o', 'ce', '##u', 'esta', 'azul', 'hoje', '.', '[SEP]']\n",
            "['[CLS]', 'ja', '##mes', 'coo', '##k', 'era', 'um', 'homem', 'muito', 'bom', 'e', 'um', 'marido', 'amoroso', '.', '[SEP]']\n"
          ],
          "name": "stdout"
        },
        {
          "output_type": "display_data",
          "data": {
            "image/png": "[encoded data removed]",
            "text/plain": [
              "<Figure size 864x504 with 1 Axes>"
            ]
          },
          "metadata": {
            "tags": [],
            "needs_background": "light"
          }
        }
      ]
    },
    {
      "cell_type": "markdown",
      "metadata": {
        "id": "ONLJ36JfPuqf"
      },
      "source": [
        "# 4. Appendix\n"
      ]
    },
    {
      "cell_type": "markdown",
      "metadata": {
        "id": "jdw7cLJWMr_Y"
      },
      "source": [
        "## 4.1. Tokens Especiais\n",
        "\n",
        "Deve-se notar que, embora o `[CLS]` atue como uma \"representação agregada\" para tarefas de classificação, essa não é a melhor opção para um vetor de incorporação de sentenças de alta qualidade. [Segundo](https://github.com/google-research/bert/issues/164) o autor do BERT, Jacob Devlin: \"*Não tenho certeza do que são esses vetores, pois o BERT não gera vetores de frases significativos. Parece que isso está fazendo um pool médio dos tokens de palavras para obter um vetor de sentença, mas nunca sugerimos que isso gere representações significativas de sentenças*.\"\n",
        "\n",
        "(No entanto, o token [CLS] se torna significativo se o modelo tiver sido ajustado, onde a última camada oculta desse token é usada como o \"vetor de sentença\" para classificação de sequência.)\n"
      ]
    },
    {
      "cell_type": "markdown",
      "metadata": {
        "id": "EbS8_z6XMuTJ"
      },
      "source": [
        "\n",
        "## 4.2. Palavras Fora do Vocabulário\n",
        "\n",
        "Para **palavras fora do vocabulário** compostas de várias frases e incorporação no nível do caractere, há uma questão adicional sobre a melhor forma de recuperar essa incorporação. A média da incorporação é a solução mais direta (que se baseia em modelos de incorporação semelhantes com vocabulários de subpalavras como fasttext), mas a soma dos incorporamentos de subpalavras e a simples incorporação do último token (lembre-se de que os vetores são sensíveis ao contexto) são estratégias alternativas aceitáveis .\n"
      ]
    },
    {
      "cell_type": "markdown",
      "metadata": {
        "id": "BokW7CAgMxCB"
      },
      "source": [
        "\n",
        "## 4.3. Medidas de Similaridade\n",
        "\n",
        "Vale a pena notar que as comparações de similaridade no nível da palavra ** não são apropriadas para os agrupamentos BERT, porque esses agrupamentos são contextualmente dependentes, o que significa que o vetor de palavras muda dependendo da frase em que aparece. Isso permite coisas maravilhosas, como a polissemia, para que, por exemplo, sua representação codifica \"banco\" de rio e não \"banco\" de instituição financeira, mas torna menos valiosas as comparações diretas de semelhança palavra a palavra. No entanto, para comparação de similaridades de incorporação de sentenças ainda é válida, de modo que é possível consultar, por exemplo, uma única sentença contra um conjunto de dados de outras sentenças para encontrar as mais semelhantes. Dependendo da métrica de similaridade usada, os valores de similaridade resultantes serão menos informativos do que a classificação relativa das saídas de similaridade, já que muitas métricas de similaridade fazem suposições sobre o espaço vetorial (dimensões igualmente ponderadas, por exemplo) que não são válidas para nossa dimensão 768-dimensional. espaço vetorial.\n"
      ]
    },
    {
      "cell_type": "markdown",
      "metadata": {
        "id": "0unZ2xh4QDap"
      },
      "source": [
        "## 4.4. Implementações\n",
        "\n",
        "Você pode usar o código neste notebook como base do seu próprio aplicativo para extrair recursos do BERT do texto. No entanto, [tensorflow]oficial (https://github.com/google-research/bert/blob/master/extract_features.py) e bem conceituado [pytorch](https://github.com/huggingface/pytorch-pretrained -BERT / blob / master / examples / extract_features.py) já existem implementações que fazem isso por você. Além disso, o [bert-as-a-service](https://github.com/hanxiao/bert-as-service) é uma excelente ferramenta projetada especificamente para executar esta tarefa com alto desempenho e é a que eu recomendaria para aplicações de produção. O autor tomou muito cuidado na implementação da ferramenta e fornece excelente documentação (algumas das quais foram usadas para ajudar a criar este tutorial) para ajudar os usuários a entender os detalhes mais sutis que o usuário enfrenta, como gerenciamento de recursos e estratégia de pool."
      ]
    }
  ]
}